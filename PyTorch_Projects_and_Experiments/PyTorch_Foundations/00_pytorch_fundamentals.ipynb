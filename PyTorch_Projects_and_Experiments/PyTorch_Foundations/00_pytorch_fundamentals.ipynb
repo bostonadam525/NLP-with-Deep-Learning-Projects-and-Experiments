{
  "nbformat": 4,
  "nbformat_minor": 0,
  "metadata": {
    "colab": {
      "provenance": []
    },
    "kernelspec": {
      "name": "python3",
      "display_name": "Python 3"
    },
    "language_info": {
      "name": "python"
    }
  },
  "cells": [
    {
      "cell_type": "markdown",
      "source": [
        "# Pytorch Fundamentals\n",
        "* Notebook by Adam Lang\n",
        "* Date: 1/26/2025\n",
        "\n",
        "# Overview\n",
        "* This notebook is based on the concepts taught in Daniel Bourke's PyTorch for Deep Learning Bootcamp on Udemy.\n",
        "* Although I have been coding in PyTorch since 2022, I continually review and brush up on my torch skills and Daniel is the best in the business at teaching tips and tricks to make you a PyTorch guru. As the great Kobe Bryant once said:\n",
        "```\n",
        "Mamba Mentality means \"to constantly try to be the best version of yourself.It's a constant quest to try to better today than you were yesterday.\"\n",
        "```\n",
        "```\n",
        "“Why do you think I’m the best player in the world? Because I never ever get bored with the basics.”\n",
        "```\n"
      ],
      "metadata": {
        "id": "9e_b9x3R87FK"
      }
    },
    {
      "cell_type": "markdown",
      "source": [
        "# Import Dependencies"
      ],
      "metadata": {
        "id": "-vdFsFzB_dXk"
      }
    },
    {
      "cell_type": "code",
      "execution_count": null,
      "metadata": {
        "colab": {
          "base_uri": "https://localhost:8080/"
        },
        "id": "hlP3F1Nv80Dr",
        "outputId": "902822f7-3d43-4e44-c06b-15419244b8f2"
      },
      "outputs": [
        {
          "output_type": "stream",
          "name": "stdout",
          "text": [
            "2.5.1+cu121\n"
          ]
        }
      ],
      "source": [
        "import torch\n",
        "import pandas as pd\n",
        "import numpy as np\n",
        "import matplotlib.pyplot as plt\n",
        "%matplotlib inline\n",
        "print(torch.__version__)"
      ]
    },
    {
      "cell_type": "markdown",
      "source": [
        "# Tensors in Pytorch\n",
        "\n",
        "## Creating Tensors\n",
        "* Tensor types in torch: https://pytorch.org/docs/stable/tensors.html"
      ],
      "metadata": {
        "id": "s0hzmFi5_9Ao"
      }
    },
    {
      "cell_type": "markdown",
      "source": [
        "### 1. Scalar\n",
        "* 1 dimension\n",
        "* Usually lower case"
      ],
      "metadata": {
        "id": "tbqvkR-BAz0C"
      }
    },
    {
      "cell_type": "code",
      "source": [
        "## 1. Scalar\n",
        "scalar = torch.tensor(7)\n",
        "scalar"
      ],
      "metadata": {
        "colab": {
          "base_uri": "https://localhost:8080/"
        },
        "id": "9H-h-XB0_nIR",
        "outputId": "33527e4b-e1b6-48f2-a0d6-a6ef724f2a9f"
      },
      "execution_count": null,
      "outputs": [
        {
          "output_type": "execute_result",
          "data": {
            "text/plain": [
              "tensor(7)"
            ]
          },
          "metadata": {},
          "execution_count": 2
        }
      ]
    },
    {
      "cell_type": "code",
      "source": [
        "## dimensions\n",
        "scalar.ndim"
      ],
      "metadata": {
        "colab": {
          "base_uri": "https://localhost:8080/"
        },
        "id": "yBD1sgUBAQ-3",
        "outputId": "0478b3ba-a822-448e-b4c3-373b06d50abd"
      },
      "execution_count": null,
      "outputs": [
        {
          "output_type": "execute_result",
          "data": {
            "text/plain": [
              "0"
            ]
          },
          "metadata": {},
          "execution_count": 3
        }
      ]
    },
    {
      "cell_type": "code",
      "source": [
        "## get tensor back to integer\n",
        "scalar.item()"
      ],
      "metadata": {
        "colab": {
          "base_uri": "https://localhost:8080/"
        },
        "id": "Dn2r7EROAgrA",
        "outputId": "1090909e-fc2e-4a90-e772-7a617b30b16c"
      },
      "execution_count": null,
      "outputs": [
        {
          "output_type": "execute_result",
          "data": {
            "text/plain": [
              "7"
            ]
          },
          "metadata": {},
          "execution_count": 4
        }
      ]
    },
    {
      "cell_type": "markdown",
      "source": [
        "### 2. Vector\n",
        "* More than 1 dimension\n",
        "* Usually lower case"
      ],
      "metadata": {
        "id": "uP6G05iaA1Bt"
      }
    },
    {
      "cell_type": "code",
      "source": [
        "## 2. Vector\n",
        "vector = torch.tensor([7,7])\n",
        "vector"
      ],
      "metadata": {
        "colab": {
          "base_uri": "https://localhost:8080/"
        },
        "id": "4VUFCSodAw4E",
        "outputId": "5125138e-adeb-4801-b806-a27e3c56a81a"
      },
      "execution_count": null,
      "outputs": [
        {
          "output_type": "execute_result",
          "data": {
            "text/plain": [
              "tensor([7, 7])"
            ]
          },
          "metadata": {},
          "execution_count": 5
        }
      ]
    },
    {
      "cell_type": "code",
      "source": [
        "## dimensions\n",
        "vector.ndim"
      ],
      "metadata": {
        "colab": {
          "base_uri": "https://localhost:8080/"
        },
        "id": "aqGnGQNcA5_h",
        "outputId": "ce17b306-c5ad-4316-bd1a-080e9f83bbbf"
      },
      "execution_count": null,
      "outputs": [
        {
          "output_type": "execute_result",
          "data": {
            "text/plain": [
              "1"
            ]
          },
          "metadata": {},
          "execution_count": 6
        }
      ]
    },
    {
      "cell_type": "code",
      "source": [
        "## shape\n",
        "vector.shape"
      ],
      "metadata": {
        "colab": {
          "base_uri": "https://localhost:8080/"
        },
        "id": "vZMWjY0dA_FO",
        "outputId": "5b1d4694-a521-4c11-b4e8-d29c82c149e0"
      },
      "execution_count": null,
      "outputs": [
        {
          "output_type": "execute_result",
          "data": {
            "text/plain": [
              "torch.Size([2])"
            ]
          },
          "metadata": {},
          "execution_count": 7
        }
      ]
    },
    {
      "cell_type": "markdown",
      "source": [
        "### 3. Matrix\n",
        "* 2 dimensions\n",
        "* Usually UPPER CASE"
      ],
      "metadata": {
        "id": "1qPDECznBI0H"
      }
    },
    {
      "cell_type": "code",
      "source": [
        "## 3. matrix\n",
        "MATRIX = torch.tensor([[7,8],\n",
        "                      [10,11]])\n",
        "\n",
        "MATRIX"
      ],
      "metadata": {
        "colab": {
          "base_uri": "https://localhost:8080/"
        },
        "id": "bwIvMfYqBBbG",
        "outputId": "da60d100-1cd8-4532-81f9-2db044511447"
      },
      "execution_count": null,
      "outputs": [
        {
          "output_type": "execute_result",
          "data": {
            "text/plain": [
              "tensor([[ 7,  8],\n",
              "        [10, 11]])"
            ]
          },
          "metadata": {},
          "execution_count": 8
        }
      ]
    },
    {
      "cell_type": "code",
      "source": [
        "## dims\n",
        "MATRIX.ndim"
      ],
      "metadata": {
        "colab": {
          "base_uri": "https://localhost:8080/"
        },
        "id": "p8sSMPYcBRLT",
        "outputId": "e172783e-7a77-4aae-fd87-4202d2653e40"
      },
      "execution_count": null,
      "outputs": [
        {
          "output_type": "execute_result",
          "data": {
            "text/plain": [
              "2"
            ]
          },
          "metadata": {},
          "execution_count": 9
        }
      ]
    },
    {
      "cell_type": "code",
      "source": [
        "## matrix shape\n",
        "MATRIX.shape"
      ],
      "metadata": {
        "colab": {
          "base_uri": "https://localhost:8080/"
        },
        "id": "aHMfCGUOBXRJ",
        "outputId": "d211b46a-ae79-4666-fa8a-cef2695eff35"
      },
      "execution_count": null,
      "outputs": [
        {
          "output_type": "execute_result",
          "data": {
            "text/plain": [
              "torch.Size([2, 2])"
            ]
          },
          "metadata": {},
          "execution_count": 10
        }
      ]
    },
    {
      "cell_type": "code",
      "source": [
        "## index matrix\n",
        "MATRIX[:,1]"
      ],
      "metadata": {
        "colab": {
          "base_uri": "https://localhost:8080/"
        },
        "id": "3f0Y-Tj2Bbl0",
        "outputId": "7f99c85d-c520-490a-85c8-1019053cbd3e"
      },
      "execution_count": null,
      "outputs": [
        {
          "output_type": "execute_result",
          "data": {
            "text/plain": [
              "tensor([ 8, 11])"
            ]
          },
          "metadata": {},
          "execution_count": 11
        }
      ]
    },
    {
      "cell_type": "markdown",
      "source": [
        "### 4. Tensors\n",
        "* 3 dimensional matrices!\n",
        "* Ususally UPPER CASE"
      ],
      "metadata": {
        "id": "0599AIS_Bz0-"
      }
    },
    {
      "cell_type": "code",
      "source": [
        "## tensors\n",
        "TENSOR = torch.tensor([[[1,2,3],\n",
        "                       [3,6,9],\n",
        "                       [2,4,5]]])\n",
        "\n",
        "TENSOR"
      ],
      "metadata": {
        "colab": {
          "base_uri": "https://localhost:8080/"
        },
        "id": "KhQA7IjYBrIR",
        "outputId": "489cc4c5-b1b9-4a15-e113-2f283d4e560a"
      },
      "execution_count": null,
      "outputs": [
        {
          "output_type": "execute_result",
          "data": {
            "text/plain": [
              "tensor([[[1, 2, 3],\n",
              "         [3, 6, 9],\n",
              "         [2, 4, 5]]])"
            ]
          },
          "metadata": {},
          "execution_count": 12
        }
      ]
    },
    {
      "cell_type": "code",
      "source": [
        "## dims\n",
        "TENSOR.ndim"
      ],
      "metadata": {
        "colab": {
          "base_uri": "https://localhost:8080/"
        },
        "id": "03_WZkyYCEIA",
        "outputId": "3a1c972f-088c-4e8a-938b-579964f17292"
      },
      "execution_count": null,
      "outputs": [
        {
          "output_type": "execute_result",
          "data": {
            "text/plain": [
              "3"
            ]
          },
          "metadata": {},
          "execution_count": 13
        }
      ]
    },
    {
      "cell_type": "code",
      "source": [
        "## tensor shape\n",
        "TENSOR.shape"
      ],
      "metadata": {
        "colab": {
          "base_uri": "https://localhost:8080/"
        },
        "id": "Ac9jvHLiCGTw",
        "outputId": "eb63d24c-b615-4ac7-8141-361909409107"
      },
      "execution_count": null,
      "outputs": [
        {
          "output_type": "execute_result",
          "data": {
            "text/plain": [
              "torch.Size([1, 3, 3])"
            ]
          },
          "metadata": {},
          "execution_count": 14
        }
      ]
    },
    {
      "cell_type": "code",
      "source": [
        "## 0th dim\n",
        "TENSOR[0]"
      ],
      "metadata": {
        "colab": {
          "base_uri": "https://localhost:8080/"
        },
        "id": "u2zJYAvCCOiX",
        "outputId": "2e90d330-87b8-4855-eb09-8a86dec42bd3"
      },
      "execution_count": null,
      "outputs": [
        {
          "output_type": "execute_result",
          "data": {
            "text/plain": [
              "tensor([[1, 2, 3],\n",
              "        [3, 6, 9],\n",
              "        [2, 4, 5]])"
            ]
          },
          "metadata": {},
          "execution_count": 15
        }
      ]
    },
    {
      "cell_type": "markdown",
      "source": [
        "#### Tensor Practice\n",
        "* Create random tensors"
      ],
      "metadata": {
        "id": "pzznejgTCtIz"
      }
    },
    {
      "cell_type": "code",
      "source": [
        "## random tensors\n",
        "rand_tensor = torch.tensor([[[1,2,3],\n",
        "                             [10,11,12],\n",
        "                             [14,16,18]]])\n",
        "\n",
        "rand_tensor"
      ],
      "metadata": {
        "colab": {
          "base_uri": "https://localhost:8080/"
        },
        "id": "JQUyNZnqCYwV",
        "outputId": "17b58479-e468-472c-aaa3-2387a334a668"
      },
      "execution_count": null,
      "outputs": [
        {
          "output_type": "execute_result",
          "data": {
            "text/plain": [
              "tensor([[[ 1,  2,  3],\n",
              "         [10, 11, 12],\n",
              "         [14, 16, 18]]])"
            ]
          },
          "metadata": {},
          "execution_count": 16
        }
      ]
    },
    {
      "cell_type": "code",
      "source": [
        "## dims of rand tensor\n",
        "rand_tensor.ndim"
      ],
      "metadata": {
        "colab": {
          "base_uri": "https://localhost:8080/"
        },
        "id": "x98EmjH3C9N8",
        "outputId": "1f3b3a34-2898-4038-caaa-428a0b454449"
      },
      "execution_count": null,
      "outputs": [
        {
          "output_type": "execute_result",
          "data": {
            "text/plain": [
              "3"
            ]
          },
          "metadata": {},
          "execution_count": 17
        }
      ]
    },
    {
      "cell_type": "code",
      "source": [
        "## shape rand tensor\n",
        "rand_tensor.shape"
      ],
      "metadata": {
        "colab": {
          "base_uri": "https://localhost:8080/"
        },
        "id": "2PIZgd4iC_uQ",
        "outputId": "96793542-6bad-420d-f12a-ecfdaa5a7743"
      },
      "execution_count": null,
      "outputs": [
        {
          "output_type": "execute_result",
          "data": {
            "text/plain": [
              "torch.Size([1, 3, 3])"
            ]
          },
          "metadata": {},
          "execution_count": 18
        }
      ]
    },
    {
      "cell_type": "markdown",
      "source": [
        "### Random Tensors\n",
        "* Why do we need random tensors are important because the way many neural networks learn is that they start with tensors full of random numbers then adjust those random numbers to better represent the data.\n",
        "\n",
        "Neural Networks in a nutshell:\n",
        "```\n",
        "Start with random numbers --> look at data --> update random numbers --> look at data --> update random numbers\n",
        "```\n",
        "* Torch random tensors: https://pytorch.org/docs/main/generated/torch.rand.html"
      ],
      "metadata": {
        "id": "NG-153APDB5V"
      }
    },
    {
      "cell_type": "code",
      "source": [
        "10 * 10 * 10"
      ],
      "metadata": {
        "colab": {
          "base_uri": "https://localhost:8080/"
        },
        "id": "BB8L1IikEe3G",
        "outputId": "71c16e7d-849d-4e41-f11b-cd8dce44271b"
      },
      "execution_count": null,
      "outputs": [
        {
          "output_type": "execute_result",
          "data": {
            "text/plain": [
              "1000"
            ]
          },
          "metadata": {},
          "execution_count": 19
        }
      ]
    },
    {
      "cell_type": "code",
      "source": [
        "## create random tensor of size (3,4)\n",
        "random_tensor = torch.rand(3, 4)\n",
        "random_tensor"
      ],
      "metadata": {
        "colab": {
          "base_uri": "https://localhost:8080/"
        },
        "id": "nmIMnJaLD8m5",
        "outputId": "7eeaaf8b-e41f-42dd-abf7-782157c1cab4"
      },
      "execution_count": null,
      "outputs": [
        {
          "output_type": "execute_result",
          "data": {
            "text/plain": [
              "tensor([[0.1506, 0.3375, 0.1917, 0.1834],\n",
              "        [0.0933, 0.7754, 0.3408, 0.9039],\n",
              "        [0.8638, 0.8979, 0.2614, 0.3725]])"
            ]
          },
          "metadata": {},
          "execution_count": 20
        }
      ]
    },
    {
      "cell_type": "code",
      "source": [
        "## dims\n",
        "random_tensor.ndim"
      ],
      "metadata": {
        "colab": {
          "base_uri": "https://localhost:8080/"
        },
        "id": "t_TjRCyuEOeC",
        "outputId": "c0fe8090-60a8-4419-bf91-4d9d0c6fe4fd"
      },
      "execution_count": null,
      "outputs": [
        {
          "output_type": "execute_result",
          "data": {
            "text/plain": [
              "2"
            ]
          },
          "metadata": {},
          "execution_count": 21
        }
      ]
    },
    {
      "cell_type": "code",
      "source": [
        "## shape\n",
        "random_tensor.shape"
      ],
      "metadata": {
        "colab": {
          "base_uri": "https://localhost:8080/"
        },
        "id": "3SJDXBVyEQwb",
        "outputId": "2cc38541-6208-468f-8476-9076187b26c2"
      },
      "execution_count": null,
      "outputs": [
        {
          "output_type": "execute_result",
          "data": {
            "text/plain": [
              "torch.Size([3, 4])"
            ]
          },
          "metadata": {},
          "execution_count": 22
        }
      ]
    },
    {
      "cell_type": "code",
      "source": [
        "## Create random tensor with similar shape to image tensor\n",
        "random_image_size_tensor = torch.rand(size=(224,224,3)) # height, width, color channels (R,G,B)\n",
        "\n",
        "## shape and ndim\n",
        "print(f\"Shape of random image tensor: {random_image_size_tensor.shape}\\n\\n\")\n",
        "print(f\"Dimensions of random image tensor: {random_image_size_tensor.ndim}\")"
      ],
      "metadata": {
        "colab": {
          "base_uri": "https://localhost:8080/"
        },
        "id": "IUw41ZiSESSh",
        "outputId": "a8a2b341-0dd6-4735-e746-e08f40f09235"
      },
      "execution_count": null,
      "outputs": [
        {
          "output_type": "stream",
          "name": "stdout",
          "text": [
            "Shape of random image tensor: torch.Size([224, 224, 3])\n",
            "\n",
            "\n",
            "Dimensions of random image tensor: 3\n"
          ]
        }
      ]
    },
    {
      "cell_type": "markdown",
      "source": [
        "#### Random Tensor Practice\n",
        "* create rand tensors!"
      ],
      "metadata": {
        "id": "Qsir4el_FsJI"
      }
    },
    {
      "cell_type": "code",
      "source": [
        "my_random_tensor = torch.rand([2,4,6])\n",
        "my_random_tensor"
      ],
      "metadata": {
        "colab": {
          "base_uri": "https://localhost:8080/"
        },
        "id": "ktgdmSIZFCyc",
        "outputId": "543a8320-8f19-4419-fe0f-d62df88eb8f3"
      },
      "execution_count": null,
      "outputs": [
        {
          "output_type": "execute_result",
          "data": {
            "text/plain": [
              "tensor([[[0.2376, 0.8208, 0.4165, 0.0058, 0.6416, 0.5030],\n",
              "         [0.0718, 0.2955, 0.5074, 0.4593, 0.2201, 0.6107],\n",
              "         [0.4237, 0.2937, 0.6796, 0.3577, 0.3096, 0.7438],\n",
              "         [0.7190, 0.6426, 0.0073, 0.9308, 0.9614, 0.6722]],\n",
              "\n",
              "        [[0.4900, 0.7025, 0.1854, 0.3868, 0.8282, 0.6804],\n",
              "         [0.0835, 0.0784, 0.8339, 0.7201, 0.1546, 0.7524],\n",
              "         [0.7293, 0.1648, 0.8977, 0.6936, 0.4181, 0.5441],\n",
              "         [0.1542, 0.2171, 0.8443, 0.5611, 0.1149, 0.1311]]])"
            ]
          },
          "metadata": {},
          "execution_count": 24
        }
      ]
    },
    {
      "cell_type": "code",
      "source": [
        "## ndim of tensor\n",
        "my_random_tensor.ndim"
      ],
      "metadata": {
        "colab": {
          "base_uri": "https://localhost:8080/"
        },
        "id": "KqfYljd9F2bb",
        "outputId": "81c2f810-315f-49d0-b3bb-d8b18eaaa502"
      },
      "execution_count": null,
      "outputs": [
        {
          "output_type": "execute_result",
          "data": {
            "text/plain": [
              "3"
            ]
          },
          "metadata": {},
          "execution_count": 25
        }
      ]
    },
    {
      "cell_type": "code",
      "source": [
        "## shape of tensor\n",
        "my_random_tensor.shape"
      ],
      "metadata": {
        "colab": {
          "base_uri": "https://localhost:8080/"
        },
        "id": "295o_wkGF59p",
        "outputId": "761d899f-f8a5-4aa5-99ac-41474f08cdaa"
      },
      "execution_count": null,
      "outputs": [
        {
          "output_type": "execute_result",
          "data": {
            "text/plain": [
              "torch.Size([2, 4, 6])"
            ]
          },
          "metadata": {},
          "execution_count": 26
        }
      ]
    },
    {
      "cell_type": "code",
      "source": [
        "### another random tensor\n",
        "my_rand_2 = torch.rand(size=(3,3))\n",
        "my_rand_2"
      ],
      "metadata": {
        "colab": {
          "base_uri": "https://localhost:8080/"
        },
        "id": "A0FJIm1OGMT8",
        "outputId": "ddb9346e-ca0e-4da1-964b-3e28f8b8cff2"
      },
      "execution_count": null,
      "outputs": [
        {
          "output_type": "execute_result",
          "data": {
            "text/plain": [
              "tensor([[0.0649, 0.7584, 0.0997],\n",
              "        [0.7070, 0.2699, 0.4671],\n",
              "        [0.3376, 0.8205, 0.4959]])"
            ]
          },
          "metadata": {},
          "execution_count": 27
        }
      ]
    },
    {
      "cell_type": "markdown",
      "source": [],
      "metadata": {
        "id": "jqH3yJdUGZGQ"
      }
    },
    {
      "cell_type": "markdown",
      "source": [
        "### Zeros and Ones - Tensors\n",
        "* just like in numpy we can create tensors of all zeros or all ones.\n",
        "\n",
        "* Tensor of all zeros is helpful with masks."
      ],
      "metadata": {
        "id": "PL2s2gGwGfob"
      }
    },
    {
      "cell_type": "code",
      "source": [
        "## 1. tensor of all zeros\n",
        "zeros = torch.zeros(size=(3,4))\n",
        "zeros"
      ],
      "metadata": {
        "colab": {
          "base_uri": "https://localhost:8080/"
        },
        "id": "RP6KVe59GXdf",
        "outputId": "292e0504-dc4d-434d-ded4-e1432339edcd"
      },
      "execution_count": null,
      "outputs": [
        {
          "output_type": "execute_result",
          "data": {
            "text/plain": [
              "tensor([[0., 0., 0., 0.],\n",
              "        [0., 0., 0., 0.],\n",
              "        [0., 0., 0., 0.]])"
            ]
          },
          "metadata": {},
          "execution_count": 28
        }
      ]
    },
    {
      "cell_type": "code",
      "source": [
        "## multiply by zeros\n",
        "zeros*random_tensor"
      ],
      "metadata": {
        "colab": {
          "base_uri": "https://localhost:8080/"
        },
        "id": "O778g3AhGvHh",
        "outputId": "4908cc68-9fdd-48a2-be6e-1f2cef1971ab"
      },
      "execution_count": null,
      "outputs": [
        {
          "output_type": "execute_result",
          "data": {
            "text/plain": [
              "tensor([[0., 0., 0., 0.],\n",
              "        [0., 0., 0., 0.],\n",
              "        [0., 0., 0., 0.]])"
            ]
          },
          "metadata": {},
          "execution_count": 29
        }
      ]
    },
    {
      "cell_type": "markdown",
      "source": [
        "* Anything times zero is zero!"
      ],
      "metadata": {
        "id": "G3N4UjzoG1fW"
      }
    },
    {
      "cell_type": "code",
      "source": [
        "## 2. Tensor of all ones\n",
        "ones = torch.ones(size=(3,4))\n",
        "ones"
      ],
      "metadata": {
        "colab": {
          "base_uri": "https://localhost:8080/"
        },
        "id": "GU-Xa7M-G020",
        "outputId": "cdd57e70-c622-4b51-c0eb-ef71ab2719ee"
      },
      "execution_count": null,
      "outputs": [
        {
          "output_type": "execute_result",
          "data": {
            "text/plain": [
              "tensor([[1., 1., 1., 1.],\n",
              "        [1., 1., 1., 1.],\n",
              "        [1., 1., 1., 1.]])"
            ]
          },
          "metadata": {},
          "execution_count": 30
        }
      ]
    },
    {
      "cell_type": "code",
      "source": [
        "## whats the dtype\n",
        "ones.dtype"
      ],
      "metadata": {
        "colab": {
          "base_uri": "https://localhost:8080/"
        },
        "id": "7k_HXuqWHCxA",
        "outputId": "5ed9561c-1974-4fba-a61e-8b92524e73ff"
      },
      "execution_count": null,
      "outputs": [
        {
          "output_type": "execute_result",
          "data": {
            "text/plain": [
              "torch.float32"
            ]
          },
          "metadata": {},
          "execution_count": 31
        }
      ]
    },
    {
      "cell_type": "code",
      "source": [
        "## whats the dtype\n",
        "zeros.dtype"
      ],
      "metadata": {
        "colab": {
          "base_uri": "https://localhost:8080/"
        },
        "id": "rWhSFdT8HEz_",
        "outputId": "1d788415-c85e-487f-a90a-493d1aceb20a"
      },
      "execution_count": null,
      "outputs": [
        {
          "output_type": "execute_result",
          "data": {
            "text/plain": [
              "torch.float32"
            ]
          },
          "metadata": {},
          "execution_count": 32
        }
      ]
    },
    {
      "cell_type": "code",
      "source": [
        "## whats the dtype\n",
        "random_tensor.dtype"
      ],
      "metadata": {
        "colab": {
          "base_uri": "https://localhost:8080/"
        },
        "id": "55P53KMlHIw_",
        "outputId": "1d7e9d94-f71d-41e2-baad-53bae4bb5905"
      },
      "execution_count": null,
      "outputs": [
        {
          "output_type": "execute_result",
          "data": {
            "text/plain": [
              "torch.float32"
            ]
          },
          "metadata": {},
          "execution_count": 33
        }
      ]
    },
    {
      "cell_type": "markdown",
      "source": [
        "#### Zeros and Ones Practice"
      ],
      "metadata": {
        "id": "C9wcCnX_HSd9"
      }
    },
    {
      "cell_type": "code",
      "source": [
        "## zeros\n",
        "zeros_p = torch.zeros(size=(10,10))\n",
        "zeros_p"
      ],
      "metadata": {
        "colab": {
          "base_uri": "https://localhost:8080/"
        },
        "id": "_IHe_btOHKt7",
        "outputId": "fbd217d7-7694-4330-edb6-5d64d048efbe"
      },
      "execution_count": null,
      "outputs": [
        {
          "output_type": "execute_result",
          "data": {
            "text/plain": [
              "tensor([[0., 0., 0., 0., 0., 0., 0., 0., 0., 0.],\n",
              "        [0., 0., 0., 0., 0., 0., 0., 0., 0., 0.],\n",
              "        [0., 0., 0., 0., 0., 0., 0., 0., 0., 0.],\n",
              "        [0., 0., 0., 0., 0., 0., 0., 0., 0., 0.],\n",
              "        [0., 0., 0., 0., 0., 0., 0., 0., 0., 0.],\n",
              "        [0., 0., 0., 0., 0., 0., 0., 0., 0., 0.],\n",
              "        [0., 0., 0., 0., 0., 0., 0., 0., 0., 0.],\n",
              "        [0., 0., 0., 0., 0., 0., 0., 0., 0., 0.],\n",
              "        [0., 0., 0., 0., 0., 0., 0., 0., 0., 0.],\n",
              "        [0., 0., 0., 0., 0., 0., 0., 0., 0., 0.]])"
            ]
          },
          "metadata": {},
          "execution_count": 34
        }
      ]
    },
    {
      "cell_type": "code",
      "source": [
        "## experiment\n",
        "zeros_p = torch.zeros(size=(10,10), dtype=torch.float16)\n",
        "zeros_p"
      ],
      "metadata": {
        "colab": {
          "base_uri": "https://localhost:8080/"
        },
        "id": "VecifUDWHY-m",
        "outputId": "871ef731-0fbd-4c5c-c4ad-36931f9c8bed"
      },
      "execution_count": null,
      "outputs": [
        {
          "output_type": "execute_result",
          "data": {
            "text/plain": [
              "tensor([[0., 0., 0., 0., 0., 0., 0., 0., 0., 0.],\n",
              "        [0., 0., 0., 0., 0., 0., 0., 0., 0., 0.],\n",
              "        [0., 0., 0., 0., 0., 0., 0., 0., 0., 0.],\n",
              "        [0., 0., 0., 0., 0., 0., 0., 0., 0., 0.],\n",
              "        [0., 0., 0., 0., 0., 0., 0., 0., 0., 0.],\n",
              "        [0., 0., 0., 0., 0., 0., 0., 0., 0., 0.],\n",
              "        [0., 0., 0., 0., 0., 0., 0., 0., 0., 0.],\n",
              "        [0., 0., 0., 0., 0., 0., 0., 0., 0., 0.],\n",
              "        [0., 0., 0., 0., 0., 0., 0., 0., 0., 0.],\n",
              "        [0., 0., 0., 0., 0., 0., 0., 0., 0., 0.]], dtype=torch.float16)"
            ]
          },
          "metadata": {},
          "execution_count": 35
        }
      ]
    },
    {
      "cell_type": "markdown",
      "source": [
        "### Creating a range of tensors and tensors-like"
      ],
      "metadata": {
        "id": "PbwofQiVLda5"
      }
    },
    {
      "cell_type": "code",
      "source": [
        "## use torch.arange() don't use torch.range it is deprecated\n",
        "one_to_ten = torch.arange(start=1, end=11, step=1)\n",
        "one_to_ten"
      ],
      "metadata": {
        "colab": {
          "base_uri": "https://localhost:8080/"
        },
        "id": "SBupTgOlHlOK",
        "outputId": "8935028f-4ea6-468e-ce33-be6f88c6ccf8"
      },
      "execution_count": null,
      "outputs": [
        {
          "output_type": "execute_result",
          "data": {
            "text/plain": [
              "tensor([ 1,  2,  3,  4,  5,  6,  7,  8,  9, 10])"
            ]
          },
          "metadata": {},
          "execution_count": 36
        }
      ]
    },
    {
      "cell_type": "code",
      "source": [
        "torch.__version__"
      ],
      "metadata": {
        "colab": {
          "base_uri": "https://localhost:8080/",
          "height": 35
        },
        "id": "g9SAb7sTLqEo",
        "outputId": "e95e8099-4d58-4f25-c191-e71db9d2853a"
      },
      "execution_count": null,
      "outputs": [
        {
          "output_type": "execute_result",
          "data": {
            "text/plain": [
              "'2.5.1+cu121'"
            ],
            "application/vnd.google.colaboratory.intrinsic+json": {
              "type": "string"
            }
          },
          "metadata": {},
          "execution_count": 37
        }
      ]
    },
    {
      "cell_type": "code",
      "source": [
        "### creating tensors-like\n",
        "ten_zeros = torch.zeros_like(input=one_to_ten)\n",
        "ten_zeros"
      ],
      "metadata": {
        "colab": {
          "base_uri": "https://localhost:8080/"
        },
        "id": "sgPzNcx1LsVh",
        "outputId": "a7220d3d-2cbf-4155-ffe6-232794ecb5a7"
      },
      "execution_count": null,
      "outputs": [
        {
          "output_type": "execute_result",
          "data": {
            "text/plain": [
              "tensor([0, 0, 0, 0, 0, 0, 0, 0, 0, 0])"
            ]
          },
          "metadata": {},
          "execution_count": 38
        }
      ]
    },
    {
      "cell_type": "markdown",
      "source": [
        "#### Torch range and torch-like practice"
      ],
      "metadata": {
        "id": "yujNaCzhMsIP"
      }
    },
    {
      "cell_type": "code",
      "source": [
        "one_to_fifty = torch.arange(start=1, end=51, step=1)\n",
        "one_to_fifty"
      ],
      "metadata": {
        "colab": {
          "base_uri": "https://localhost:8080/"
        },
        "id": "uNJzJVWCMMDC",
        "outputId": "64406652-ff81-4855-9a57-677b40ebff81"
      },
      "execution_count": null,
      "outputs": [
        {
          "output_type": "execute_result",
          "data": {
            "text/plain": [
              "tensor([ 1,  2,  3,  4,  5,  6,  7,  8,  9, 10, 11, 12, 13, 14, 15, 16, 17, 18,\n",
              "        19, 20, 21, 22, 23, 24, 25, 26, 27, 28, 29, 30, 31, 32, 33, 34, 35, 36,\n",
              "        37, 38, 39, 40, 41, 42, 43, 44, 45, 46, 47, 48, 49, 50])"
            ]
          },
          "metadata": {},
          "execution_count": 39
        }
      ]
    },
    {
      "cell_type": "code",
      "source": [
        "## zeros_like\n",
        "fifty_zeros = torch.zeros_like(input=one_to_fifty)\n",
        "fifty_zeros"
      ],
      "metadata": {
        "colab": {
          "base_uri": "https://localhost:8080/"
        },
        "id": "EScTYx3dM4Ui",
        "outputId": "e46037b4-f182-48d0-ac49-79d0e59b1cff"
      },
      "execution_count": null,
      "outputs": [
        {
          "output_type": "execute_result",
          "data": {
            "text/plain": [
              "tensor([0, 0, 0, 0, 0, 0, 0, 0, 0, 0, 0, 0, 0, 0, 0, 0, 0, 0, 0, 0, 0, 0, 0, 0,\n",
              "        0, 0, 0, 0, 0, 0, 0, 0, 0, 0, 0, 0, 0, 0, 0, 0, 0, 0, 0, 0, 0, 0, 0, 0,\n",
              "        0, 0])"
            ]
          },
          "metadata": {},
          "execution_count": 40
        }
      ]
    },
    {
      "cell_type": "markdown",
      "source": [
        "### Tensor Data types\n",
        "* Most common tensor params:\n",
        "1. dtype --> defalt is float32\n",
        "2. device\n",
        "3. requires_grad\n",
        "\n",
        "\n",
        "* Larger bits = more precision\n",
        "* Smaller bits = less precision\n",
        "  * Smaller bits is what we do when we quantize or perform quantization!\n",
        "\n",
        "**Note**: 3 big errors in deep learning\n",
        "1. Tensors not right datatype\n",
        "2. Tensors not right shape\n",
        "3. Tensors not on right device"
      ],
      "metadata": {
        "id": "3G9QVhEONGEV"
      }
    },
    {
      "cell_type": "code",
      "source": [
        "## float 32 tensor\n",
        "float_32_tensor = torch.tensor([3.0, 6.0, 9.0],\n",
        "                               dtype=None, # what dtype is tensor (float32, float16, etc.)\n",
        "                               device=None, # default CPU vs. GPU\n",
        "                               requires_grad=False) #if gradients are tracked or not\n",
        "float_32_tensor"
      ],
      "metadata": {
        "colab": {
          "base_uri": "https://localhost:8080/"
        },
        "id": "RT5k2Yw4NBQG",
        "outputId": "6af484b0-d3ed-4005-ff09-47fbbfe6c94b"
      },
      "execution_count": null,
      "outputs": [
        {
          "output_type": "execute_result",
          "data": {
            "text/plain": [
              "tensor([3., 6., 9.])"
            ]
          },
          "metadata": {},
          "execution_count": 41
        }
      ]
    },
    {
      "cell_type": "code",
      "source": [
        "float_32_tensor.dtype"
      ],
      "metadata": {
        "colab": {
          "base_uri": "https://localhost:8080/"
        },
        "id": "ve0S30jJNNb6",
        "outputId": "8ed50451-3f3b-493c-b7a2-edfb079ca41b"
      },
      "execution_count": null,
      "outputs": [
        {
          "output_type": "execute_result",
          "data": {
            "text/plain": [
              "torch.float32"
            ]
          },
          "metadata": {},
          "execution_count": 42
        }
      ]
    },
    {
      "cell_type": "markdown",
      "source": [
        "Summary\n",
        "* Default dtype in pytorch is `float32`"
      ],
      "metadata": {
        "id": "3tgD3ZW1NPf2"
      }
    },
    {
      "cell_type": "code",
      "source": [
        "## change dtype\n",
        "float_16_tensor = float_32_tensor.type(torch.float16)\n",
        "float_16_tensor"
      ],
      "metadata": {
        "colab": {
          "base_uri": "https://localhost:8080/"
        },
        "id": "ib07ftjuNO8a",
        "outputId": "50ebe9ec-f13f-4652-add9-ab7faac54e29"
      },
      "execution_count": null,
      "outputs": [
        {
          "output_type": "execute_result",
          "data": {
            "text/plain": [
              "tensor([3., 6., 9.], dtype=torch.float16)"
            ]
          },
          "metadata": {},
          "execution_count": 43
        }
      ]
    },
    {
      "cell_type": "code",
      "source": [
        "## change back?\n",
        "float_32_tensor = float_16_tensor.type(torch.float32)\n",
        "float_32_tensor"
      ],
      "metadata": {
        "colab": {
          "base_uri": "https://localhost:8080/"
        },
        "id": "HbfrH1ZJyMG0",
        "outputId": "f3b95a5f-dee1-4f9c-91eb-568548e5acc8"
      },
      "execution_count": null,
      "outputs": [
        {
          "output_type": "execute_result",
          "data": {
            "text/plain": [
              "tensor([3., 6., 9.])"
            ]
          },
          "metadata": {},
          "execution_count": 44
        }
      ]
    },
    {
      "cell_type": "code",
      "source": [
        "float_32_tensor.dtype"
      ],
      "metadata": {
        "colab": {
          "base_uri": "https://localhost:8080/"
        },
        "id": "nyiq-4U4yV_r",
        "outputId": "ede42a49-f769-4330-8405-23aeaafc90f2"
      },
      "execution_count": null,
      "outputs": [
        {
          "output_type": "execute_result",
          "data": {
            "text/plain": [
              "torch.float32"
            ]
          },
          "metadata": {},
          "execution_count": 45
        }
      ]
    },
    {
      "cell_type": "code",
      "source": [
        "## multiple float_16 by float_32\n",
        "float_32_tensor * float_16_tensor"
      ],
      "metadata": {
        "colab": {
          "base_uri": "https://localhost:8080/"
        },
        "id": "ZwM5jM6ByZAD",
        "outputId": "356f6ade-fd56-41c8-962a-accfa979625b"
      },
      "execution_count": null,
      "outputs": [
        {
          "output_type": "execute_result",
          "data": {
            "text/plain": [
              "tensor([ 9., 36., 81.])"
            ]
          },
          "metadata": {},
          "execution_count": 46
        }
      ]
    },
    {
      "cell_type": "code",
      "source": [
        "##int 32 tensor\n",
        "int_32_tensor = torch.tensor([3,6,9],dtype=torch.long)\n",
        "int_32_tensor"
      ],
      "metadata": {
        "colab": {
          "base_uri": "https://localhost:8080/"
        },
        "id": "v6UO5aH3ylh0",
        "outputId": "8e67a66b-871b-48a8-a60f-91dc39d8ea54"
      },
      "execution_count": null,
      "outputs": [
        {
          "output_type": "execute_result",
          "data": {
            "text/plain": [
              "tensor([3, 6, 9])"
            ]
          },
          "metadata": {},
          "execution_count": 47
        }
      ]
    },
    {
      "cell_type": "code",
      "source": [
        "float_32_tensor * int_32_tensor"
      ],
      "metadata": {
        "colab": {
          "base_uri": "https://localhost:8080/"
        },
        "id": "VmH6oRmpyzTQ",
        "outputId": "01cbc3fd-59a3-428d-ef4f-0b4424c7b639"
      },
      "execution_count": null,
      "outputs": [
        {
          "output_type": "execute_result",
          "data": {
            "text/plain": [
              "tensor([ 9., 36., 81.])"
            ]
          },
          "metadata": {},
          "execution_count": 48
        }
      ]
    },
    {
      "cell_type": "markdown",
      "source": [
        "### Getting information from tensors (\"tensor attributes\")\n",
        "\n",
        "1. Tensors not right data type\n",
        "  * use `tensor.dtype`\n",
        "\n",
        "2. Tensors not right shape\n",
        "  * use `tensor.shape`\n",
        "\n",
        "3. Tensors not right device\n",
        "  * use `tensor.device`"
      ],
      "metadata": {
        "id": "XXyN7catzNS1"
      }
    },
    {
      "cell_type": "code",
      "source": [
        "## create tensor\n",
        "some_tensor = torch.rand([3,4])\n",
        "some_tensor"
      ],
      "metadata": {
        "colab": {
          "base_uri": "https://localhost:8080/"
        },
        "id": "qHaLcqIYy2xD",
        "outputId": "7ba90672-9e7f-4c56-94ed-b7b66a09463a"
      },
      "execution_count": null,
      "outputs": [
        {
          "output_type": "execute_result",
          "data": {
            "text/plain": [
              "tensor([[0.8868, 0.9088, 0.7945, 0.4031],\n",
              "        [0.8781, 0.1938, 0.8775, 0.9947],\n",
              "        [0.9063, 0.0952, 0.4710, 0.0604]])"
            ]
          },
          "metadata": {},
          "execution_count": 49
        }
      ]
    },
    {
      "cell_type": "code",
      "source": [
        "## details about this tensor\n",
        "print(some_tensor)\n",
        "print()\n",
        "print(f\"Data type of tensor: {some_tensor.dtype}\\n\\n\")\n",
        "print(f\"Shape of tensor: {some_tensor.shape}\\n\\n\")\n",
        "print(f\"Device of tensor: {some_tensor.device}\\n\\n\")"
      ],
      "metadata": {
        "colab": {
          "base_uri": "https://localhost:8080/"
        },
        "id": "koW5HApBzlwF",
        "outputId": "972cf1aa-e829-4a45-8684-ca942d493ceb"
      },
      "execution_count": null,
      "outputs": [
        {
          "output_type": "stream",
          "name": "stdout",
          "text": [
            "tensor([[0.8868, 0.9088, 0.7945, 0.4031],\n",
            "        [0.8781, 0.1938, 0.8775, 0.9947],\n",
            "        [0.9063, 0.0952, 0.4710, 0.0604]])\n",
            "\n",
            "Data type of tensor: torch.float32\n",
            "\n",
            "\n",
            "Shape of tensor: torch.Size([3, 4])\n",
            "\n",
            "\n",
            "Device of tensor: cpu\n",
            "\n",
            "\n"
          ]
        }
      ]
    },
    {
      "cell_type": "markdown",
      "source": [
        "#### Tensor attribute practice\n"
      ],
      "metadata": {
        "id": "CHWnb7U70UjD"
      }
    },
    {
      "cell_type": "code",
      "source": [
        "new_tensor = torch.tensor([10,10,10],dtype=torch.long)\n",
        "new_tensor"
      ],
      "metadata": {
        "colab": {
          "base_uri": "https://localhost:8080/"
        },
        "id": "lSwjc_q01FpF",
        "outputId": "815adc72-4a00-4d0a-b6fd-ffa8ef9ab237"
      },
      "execution_count": null,
      "outputs": [
        {
          "output_type": "execute_result",
          "data": {
            "text/plain": [
              "tensor([10, 10, 10])"
            ]
          },
          "metadata": {},
          "execution_count": 51
        }
      ]
    },
    {
      "cell_type": "code",
      "source": [
        "new_tensor.dtype"
      ],
      "metadata": {
        "colab": {
          "base_uri": "https://localhost:8080/"
        },
        "id": "Zfq2v5iQ1Flz",
        "outputId": "2e04cbb5-e7dc-41b3-acba-7cd3c4d6726b"
      },
      "execution_count": null,
      "outputs": [
        {
          "output_type": "execute_result",
          "data": {
            "text/plain": [
              "torch.int64"
            ]
          },
          "metadata": {},
          "execution_count": 52
        }
      ]
    },
    {
      "cell_type": "code",
      "source": [
        "my_tensor = torch.rand([4,6]).type(torch.int32)\n",
        "my_tensor"
      ],
      "metadata": {
        "colab": {
          "base_uri": "https://localhost:8080/"
        },
        "id": "3w2x-Cba0Qcg",
        "outputId": "6a99e6e7-b6dd-4a9e-86a7-98a2a6e17109"
      },
      "execution_count": null,
      "outputs": [
        {
          "output_type": "execute_result",
          "data": {
            "text/plain": [
              "tensor([[0, 0, 0, 0, 0, 0],\n",
              "        [0, 0, 0, 0, 0, 0],\n",
              "        [0, 0, 0, 0, 0, 0],\n",
              "        [0, 0, 0, 0, 0, 0]], dtype=torch.int32)"
            ]
          },
          "metadata": {},
          "execution_count": 53
        }
      ]
    },
    {
      "cell_type": "code",
      "source": [
        "## shape\n",
        "my_tensor.shape\n",
        "my_tensor.dtype"
      ],
      "metadata": {
        "colab": {
          "base_uri": "https://localhost:8080/"
        },
        "id": "SCsAm2tP0ddN",
        "outputId": "83823d6a-fc4f-42a3-8d75-938026c175a4"
      },
      "execution_count": null,
      "outputs": [
        {
          "output_type": "execute_result",
          "data": {
            "text/plain": [
              "torch.int32"
            ]
          },
          "metadata": {},
          "execution_count": 54
        }
      ]
    },
    {
      "cell_type": "markdown",
      "source": [
        "### Manipulating Tensors (tensor operations)\n",
        "\n",
        "* Tensor operations include:\n",
        "\n",
        "1. addition\n",
        "2. subtraction\n",
        "3. multiplication (element-wise)\n",
        "4. division\n",
        "5. matrix multiplication (matmul)"
      ],
      "metadata": {
        "id": "SU44rTH91A4j"
      }
    },
    {
      "cell_type": "code",
      "source": [
        "## create tensor --> ADD 10\n",
        "tensor = torch.tensor([1,2,3])\n",
        "tensor + 10"
      ],
      "metadata": {
        "colab": {
          "base_uri": "https://localhost:8080/"
        },
        "id": "KaTJ_3IB0-mV",
        "outputId": "ed8714fb-559b-401f-a5f6-817fdf6eeeda"
      },
      "execution_count": null,
      "outputs": [
        {
          "output_type": "execute_result",
          "data": {
            "text/plain": [
              "tensor([11, 12, 13])"
            ]
          },
          "metadata": {},
          "execution_count": 55
        }
      ]
    },
    {
      "cell_type": "code",
      "source": [
        "## multiply 10\n",
        "tensor * 10"
      ],
      "metadata": {
        "colab": {
          "base_uri": "https://localhost:8080/"
        },
        "id": "WxxCCcYa1uYo",
        "outputId": "e0abb512-a22b-42fc-f6b3-298cabad8bde"
      },
      "execution_count": null,
      "outputs": [
        {
          "output_type": "execute_result",
          "data": {
            "text/plain": [
              "tensor([10, 20, 30])"
            ]
          },
          "metadata": {},
          "execution_count": 56
        }
      ]
    },
    {
      "cell_type": "code",
      "source": [
        "## subtract 10\n",
        "tensor"
      ],
      "metadata": {
        "colab": {
          "base_uri": "https://localhost:8080/"
        },
        "id": "uqY7CdHs11BM",
        "outputId": "46a37e17-74b0-4ab7-8861-66181529607a"
      },
      "execution_count": null,
      "outputs": [
        {
          "output_type": "execute_result",
          "data": {
            "text/plain": [
              "tensor([1, 2, 3])"
            ]
          },
          "metadata": {},
          "execution_count": 57
        }
      ]
    },
    {
      "cell_type": "code",
      "source": [
        "## subtract 10\n",
        "tensor - 10"
      ],
      "metadata": {
        "colab": {
          "base_uri": "https://localhost:8080/"
        },
        "id": "0HV9znpJ164X",
        "outputId": "17161871-d384-4872-8d77-5591c17760ee"
      },
      "execution_count": null,
      "outputs": [
        {
          "output_type": "execute_result",
          "data": {
            "text/plain": [
              "tensor([-9, -8, -7])"
            ]
          },
          "metadata": {},
          "execution_count": 58
        }
      ]
    },
    {
      "cell_type": "code",
      "source": [
        "## pytorch inbuilt functions --> \"mul\" is multiply\n",
        "torch.mul(tensor, 10)"
      ],
      "metadata": {
        "colab": {
          "base_uri": "https://localhost:8080/"
        },
        "id": "YGcyhPYb2DDK",
        "outputId": "1cf940d3-7188-4ded-fad8-1abdd1cba3a1"
      },
      "execution_count": null,
      "outputs": [
        {
          "output_type": "execute_result",
          "data": {
            "text/plain": [
              "tensor([10, 20, 30])"
            ]
          },
          "metadata": {},
          "execution_count": 59
        }
      ]
    },
    {
      "cell_type": "code",
      "source": [
        "torch.add(tensor, 10)"
      ],
      "metadata": {
        "colab": {
          "base_uri": "https://localhost:8080/"
        },
        "id": "--9kmPO42Kdu",
        "outputId": "e256df03-b2bf-4c72-da7a-da7f584b145f"
      },
      "execution_count": null,
      "outputs": [
        {
          "output_type": "execute_result",
          "data": {
            "text/plain": [
              "tensor([11, 12, 13])"
            ]
          },
          "metadata": {},
          "execution_count": 60
        }
      ]
    },
    {
      "cell_type": "code",
      "source": [
        "torch.sub(tensor, 10)"
      ],
      "metadata": {
        "colab": {
          "base_uri": "https://localhost:8080/"
        },
        "id": "9wVVgjrV2TPH",
        "outputId": "43f8db81-e786-45d5-b2fb-5c89c3512ff7"
      },
      "execution_count": null,
      "outputs": [
        {
          "output_type": "execute_result",
          "data": {
            "text/plain": [
              "tensor([-9, -8, -7])"
            ]
          },
          "metadata": {},
          "execution_count": 61
        }
      ]
    },
    {
      "cell_type": "code",
      "source": [
        "torch.div(tensor, 10)"
      ],
      "metadata": {
        "colab": {
          "base_uri": "https://localhost:8080/"
        },
        "id": "a85MxMoD2UfZ",
        "outputId": "f7473f1f-5c62-48c7-b1d6-6541fdc0f0aa"
      },
      "execution_count": null,
      "outputs": [
        {
          "output_type": "execute_result",
          "data": {
            "text/plain": [
              "tensor([0.1000, 0.2000, 0.3000])"
            ]
          },
          "metadata": {},
          "execution_count": 62
        }
      ]
    },
    {
      "cell_type": "markdown",
      "source": [
        "### Matrix Multiplication\n",
        "\n",
        "* There are 2 main ways of performing multiplication in neural networks and deep learning\n",
        "\n",
        "1. Element wise multiplication\n",
        "2. Matrix multiplication (most common operation inside neural networks)\n",
        "\n",
        "\n",
        "THERE ARE TWO MAIN RULES THAT PERFORMING MATRIX MULTIPLICATION NEEDS TO SATISFY:\n",
        "1. The **inner dimensions** must match:\n",
        "* `(3,2) @ (3,2)` --> won't work!!\n",
        "* `(2,3) @ (3,2)` --> WORKS!\n",
        "* `(3,2) @ (2,3)` --> WORKS!\n",
        "\n",
        "2. The resulting matrix has the shape of the **outer dimensions**:\n",
        "* `(2,3) @ (3,2)` --> `(2,2)`\n",
        "* `(3,2) @ (2,3)` --> `(3,3)`"
      ],
      "metadata": {
        "id": "dSSt3_4c2k5V"
      }
    },
    {
      "cell_type": "code",
      "source": [
        "## example of inner dimensions -- inner dims must match!\n",
        "torch.matmul(torch.rand(2,3), torch.rand(3,2))"
      ],
      "metadata": {
        "colab": {
          "base_uri": "https://localhost:8080/"
        },
        "id": "iNEzMrJ95yAX",
        "outputId": "6822d7db-63b7-4fed-bb36-2f9666613025"
      },
      "execution_count": null,
      "outputs": [
        {
          "output_type": "execute_result",
          "data": {
            "text/plain": [
              "tensor([[1.2972, 0.7092],\n",
              "        [0.9732, 0.9287]])"
            ]
          },
          "metadata": {},
          "execution_count": 63
        }
      ]
    },
    {
      "cell_type": "code",
      "source": [
        "## experiment\n",
        "torch.matmul(torch.rand(3,10), torch.rand(10,7)).shape"
      ],
      "metadata": {
        "colab": {
          "base_uri": "https://localhost:8080/"
        },
        "id": "loDeuuTn5x9U",
        "outputId": "4049dd4e-c64d-4722-b9b4-802ec5348119"
      },
      "execution_count": null,
      "outputs": [
        {
          "output_type": "execute_result",
          "data": {
            "text/plain": [
              "torch.Size([3, 7])"
            ]
          },
          "metadata": {},
          "execution_count": 64
        }
      ]
    },
    {
      "cell_type": "code",
      "source": [
        "## Element wise multiplication\n",
        "print(tensor , \"*\", tensor)\n",
        "print(f\"Equals: {tensor * tensor}\")"
      ],
      "metadata": {
        "colab": {
          "base_uri": "https://localhost:8080/"
        },
        "id": "fTgUFF_r2ec1",
        "outputId": "792b307a-6d63-4c77-aa74-7fdd603b8482"
      },
      "execution_count": null,
      "outputs": [
        {
          "output_type": "stream",
          "name": "stdout",
          "text": [
            "tensor([1, 2, 3]) * tensor([1, 2, 3])\n",
            "Equals: tensor([1, 4, 9])\n"
          ]
        }
      ]
    },
    {
      "cell_type": "code",
      "source": [
        "# matrix mul --> dot product\n",
        "torch.matmul(tensor, tensor)"
      ],
      "metadata": {
        "colab": {
          "base_uri": "https://localhost:8080/"
        },
        "id": "GNlLH4JS3i98",
        "outputId": "8dddccdc-5afe-4119-ecc8-58a56dae6e77"
      },
      "execution_count": null,
      "outputs": [
        {
          "output_type": "execute_result",
          "data": {
            "text/plain": [
              "tensor(14)"
            ]
          },
          "metadata": {},
          "execution_count": 66
        }
      ]
    },
    {
      "cell_type": "code",
      "source": [
        "## matrix mul by hand\n",
        "1*1 + 2*2 + 3*3"
      ],
      "metadata": {
        "colab": {
          "base_uri": "https://localhost:8080/"
        },
        "id": "a95zhY8k3txg",
        "outputId": "47bdfa1f-757a-4be4-d77e-564d8834168c"
      },
      "execution_count": null,
      "outputs": [
        {
          "output_type": "execute_result",
          "data": {
            "text/plain": [
              "14"
            ]
          },
          "metadata": {},
          "execution_count": 67
        }
      ]
    },
    {
      "cell_type": "code",
      "source": [
        "%%time\n",
        "value = 0\n",
        "for i in range(len(tensor)):\n",
        "  value += tensor[i] * tensor[i]\n",
        "print(value)"
      ],
      "metadata": {
        "colab": {
          "base_uri": "https://localhost:8080/"
        },
        "id": "muQvxj264B2q",
        "outputId": "73a79599-bb7d-45e8-873e-d290a6a8b337"
      },
      "execution_count": null,
      "outputs": [
        {
          "output_type": "stream",
          "name": "stdout",
          "text": [
            "tensor(14)\n",
            "CPU times: user 2.48 ms, sys: 0 ns, total: 2.48 ms\n",
            "Wall time: 5.48 ms\n"
          ]
        }
      ]
    },
    {
      "cell_type": "code",
      "source": [
        "%%time\n",
        "torch.matmul(tensor, tensor)"
      ],
      "metadata": {
        "colab": {
          "base_uri": "https://localhost:8080/"
        },
        "id": "98s6D06i4SzH",
        "outputId": "d748acaa-9ac3-424b-bee2-79d63205cb69"
      },
      "execution_count": null,
      "outputs": [
        {
          "output_type": "stream",
          "name": "stdout",
          "text": [
            "CPU times: user 128 µs, sys: 0 ns, total: 128 µs\n",
            "Wall time: 142 µs\n"
          ]
        },
        {
          "output_type": "execute_result",
          "data": {
            "text/plain": [
              "tensor(14)"
            ]
          },
          "metadata": {},
          "execution_count": 69
        }
      ]
    },
    {
      "cell_type": "markdown",
      "source": [
        "### One of most common errors in deep learning: SHAPE ERRORS"
      ],
      "metadata": {
        "id": "1PrUjkJD5UCo"
      }
    },
    {
      "cell_type": "code",
      "source": [
        "# Shapes for matrix multiplication\n",
        "tensor_A = torch.tensor([[1,2],\n",
        "                         [3,4],\n",
        "                         [5,6]])\n",
        "\n",
        "tensor_B = torch.tensor([[7,10],\n",
        "                         [8,11],\n",
        "                         [9,12]])\n",
        "\n"
      ],
      "metadata": {
        "id": "Psk1oFox4nNZ"
      },
      "execution_count": null,
      "outputs": []
    },
    {
      "cell_type": "code",
      "source": [
        "## check shapes\n",
        "tensor_A.shape, tensor_B.shape"
      ],
      "metadata": {
        "colab": {
          "base_uri": "https://localhost:8080/"
        },
        "id": "GjVT7JtS7fuw",
        "outputId": "9cda0232-d1a8-402b-a4a2-1a2935251508"
      },
      "execution_count": null,
      "outputs": [
        {
          "output_type": "execute_result",
          "data": {
            "text/plain": [
              "(torch.Size([3, 2]), torch.Size([3, 2]))"
            ]
          },
          "metadata": {},
          "execution_count": 71
        }
      ]
    },
    {
      "cell_type": "code",
      "source": [
        "## matrix mul\n",
        "torch.matmul(tensor_A, tensor_B) ## torch.mm is same as torch.matmul()"
      ],
      "metadata": {
        "colab": {
          "base_uri": "https://localhost:8080/",
          "height": 158
        },
        "id": "wXZF_kQD7qOC",
        "outputId": "d377ac18-f58a-4bd9-a95c-097de6e9af48"
      },
      "execution_count": null,
      "outputs": [
        {
          "output_type": "error",
          "ename": "RuntimeError",
          "evalue": "mat1 and mat2 shapes cannot be multiplied (3x2 and 3x2)",
          "traceback": [
            "\u001b[0;31m---------------------------------------------------------------------------\u001b[0m",
            "\u001b[0;31mRuntimeError\u001b[0m                              Traceback (most recent call last)",
            "\u001b[0;32m<ipython-input-72-b351f26e8992>\u001b[0m in \u001b[0;36m<cell line: 0>\u001b[0;34m()\u001b[0m\n\u001b[1;32m      1\u001b[0m \u001b[0;31m## matrix mul\u001b[0m\u001b[0;34m\u001b[0m\u001b[0;34m\u001b[0m\u001b[0m\n\u001b[0;32m----> 2\u001b[0;31m \u001b[0mtorch\u001b[0m\u001b[0;34m.\u001b[0m\u001b[0mmatmul\u001b[0m\u001b[0;34m(\u001b[0m\u001b[0mtensor_A\u001b[0m\u001b[0;34m,\u001b[0m \u001b[0mtensor_B\u001b[0m\u001b[0;34m)\u001b[0m \u001b[0;31m## torch.mm is same as torch.matmul()\u001b[0m\u001b[0;34m\u001b[0m\u001b[0;34m\u001b[0m\u001b[0m\n\u001b[0m",
            "\u001b[0;31mRuntimeError\u001b[0m: mat1 and mat2 shapes cannot be multiplied (3x2 and 3x2)"
          ]
        }
      ]
    },
    {
      "cell_type": "markdown",
      "source": [
        "To fix our tensor shape issues we can manipulate the shape of one of our tensors using a **transpose**.\n",
        "\n",
        "A **transpose** switches the axes or dimensions of a given tensor."
      ],
      "metadata": {
        "id": "1zwxDs6g70pw"
      }
    },
    {
      "cell_type": "code",
      "source": [
        "## original\n",
        "tensor_B.shape"
      ],
      "metadata": {
        "colab": {
          "base_uri": "https://localhost:8080/"
        },
        "id": "eshJP2RD7uiy",
        "outputId": "001ae661-af76-4e03-aa96-4ea497c66da3"
      },
      "execution_count": null,
      "outputs": [
        {
          "output_type": "execute_result",
          "data": {
            "text/plain": [
              "torch.Size([3, 2])"
            ]
          },
          "metadata": {},
          "execution_count": 73
        }
      ]
    },
    {
      "cell_type": "code",
      "source": [
        "## transpose\n",
        "tensor_B.T.shape"
      ],
      "metadata": {
        "colab": {
          "base_uri": "https://localhost:8080/"
        },
        "id": "ffzGLPN78AC-",
        "outputId": "1f92b31d-2c28-4b01-ec15-64117a3c28af"
      },
      "execution_count": null,
      "outputs": [
        {
          "output_type": "execute_result",
          "data": {
            "text/plain": [
              "torch.Size([2, 3])"
            ]
          },
          "metadata": {},
          "execution_count": 74
        }
      ]
    },
    {
      "cell_type": "code",
      "source": [
        "## matrix multiplication operation works when tensor_B is transposed\n",
        "print(f\"Original shapes: tensor_A = {tensor_A.shape}, tensor_B = {tensor_B.shape}\")\n",
        "print(f\"New shapes: tensor_A = {tensor_A.shape} (same as above), tensor_B.T = {tensor_B.T.shape}\")\n",
        "print(f\"Multiplying: {tensor_A.shape} @ {tensor_B.T.shape} <-- inner dims must match\")\n",
        "print(\"Output:\\n\")\n",
        "output = torch.matmul(tensor_A, tensor_B.T)\n",
        "print(output)\n",
        "print(f\"\\nOutput shape: {output.shape}\")\n",
        "\n",
        "\n",
        "torch.matmul(tensor_A, tensor_B.T)"
      ],
      "metadata": {
        "colab": {
          "base_uri": "https://localhost:8080/"
        },
        "id": "l28AaUZx8bWx",
        "outputId": "d8b8d876-0a05-4732-84dc-678fb8c0d25b"
      },
      "execution_count": null,
      "outputs": [
        {
          "output_type": "stream",
          "name": "stdout",
          "text": [
            "Original shapes: tensor_A = torch.Size([3, 2]), tensor_B = torch.Size([3, 2])\n",
            "New shapes: tensor_A = torch.Size([3, 2]) (same as above), tensor_B.T = torch.Size([2, 3])\n",
            "Multiplying: torch.Size([3, 2]) @ torch.Size([2, 3]) <-- inner dims must match\n",
            "Output:\n",
            "\n",
            "tensor([[ 27,  30,  33],\n",
            "        [ 61,  68,  75],\n",
            "        [ 95, 106, 117]])\n",
            "\n",
            "Output shape: torch.Size([3, 3])\n"
          ]
        },
        {
          "output_type": "execute_result",
          "data": {
            "text/plain": [
              "tensor([[ 27,  30,  33],\n",
              "        [ 61,  68,  75],\n",
              "        [ 95, 106, 117]])"
            ]
          },
          "metadata": {},
          "execution_count": 75
        }
      ]
    },
    {
      "cell_type": "markdown",
      "source": [
        "Summary\n",
        "* If we transpose so the inner dimensions match then we can perform matrix multiplication."
      ],
      "metadata": {
        "id": "S4rq0bSV80rl"
      }
    },
    {
      "cell_type": "markdown",
      "source": [
        "### Finding the min, max, mean, sum, etc. (tensor aggregation)"
      ],
      "metadata": {
        "id": "JpmtxdcW-TR3"
      }
    },
    {
      "cell_type": "code",
      "source": [
        "# create a tensor\n",
        "x = torch.arange(1, 100, 10)\n",
        "x"
      ],
      "metadata": {
        "colab": {
          "base_uri": "https://localhost:8080/"
        },
        "id": "NxT3Ieye8iNH",
        "outputId": "d2542d0d-d071-4efe-c6dd-d2a3c2d7a7f8"
      },
      "execution_count": null,
      "outputs": [
        {
          "output_type": "execute_result",
          "data": {
            "text/plain": [
              "tensor([ 1, 11, 21, 31, 41, 51, 61, 71, 81, 91])"
            ]
          },
          "metadata": {},
          "execution_count": 76
        }
      ]
    },
    {
      "cell_type": "code",
      "source": [
        "## min\n",
        "torch.min(x), x.min()"
      ],
      "metadata": {
        "colab": {
          "base_uri": "https://localhost:8080/"
        },
        "id": "1NgHYWgW-iiB",
        "outputId": "9a33bd7e-ce0b-4568-c701-b2c30f69f0cf"
      },
      "execution_count": null,
      "outputs": [
        {
          "output_type": "execute_result",
          "data": {
            "text/plain": [
              "(tensor(1), tensor(1))"
            ]
          },
          "metadata": {},
          "execution_count": 77
        }
      ]
    },
    {
      "cell_type": "code",
      "source": [
        "## max\n",
        "torch.max(x), x.max()"
      ],
      "metadata": {
        "colab": {
          "base_uri": "https://localhost:8080/"
        },
        "id": "emUA6irZ-j_h",
        "outputId": "9d65fab4-5294-42b4-c88e-ba4573add103"
      },
      "execution_count": null,
      "outputs": [
        {
          "output_type": "execute_result",
          "data": {
            "text/plain": [
              "(tensor(91), tensor(91))"
            ]
          },
          "metadata": {},
          "execution_count": 78
        }
      ]
    },
    {
      "cell_type": "code",
      "source": [
        "## mean\n",
        "x.dtype"
      ],
      "metadata": {
        "colab": {
          "base_uri": "https://localhost:8080/"
        },
        "id": "Zn77hbBq-nnz",
        "outputId": "f4758bd5-d436-4d6a-d76a-8a8d489be193"
      },
      "execution_count": null,
      "outputs": [
        {
          "output_type": "execute_result",
          "data": {
            "text/plain": [
              "torch.int64"
            ]
          },
          "metadata": {},
          "execution_count": 79
        }
      ]
    },
    {
      "cell_type": "markdown",
      "source": [
        "Summary\n",
        "* Tensor we created is `int64` or Long, this does not work with `torch.mean()`\n",
        "* We need to change dtype to `float32`"
      ],
      "metadata": {
        "id": "9-7YyFno-02g"
      }
    },
    {
      "cell_type": "code",
      "source": [
        "## mean with converting type to float32\n",
        "torch.mean(x.type(torch.float32)), x.type(torch.float32).mean()"
      ],
      "metadata": {
        "colab": {
          "base_uri": "https://localhost:8080/"
        },
        "id": "20rgX_4F-p6N",
        "outputId": "1da2ea13-a247-4259-e70d-d48182737def"
      },
      "execution_count": null,
      "outputs": [
        {
          "output_type": "execute_result",
          "data": {
            "text/plain": [
              "(tensor(46.), tensor(46.))"
            ]
          },
          "metadata": {},
          "execution_count": 80
        }
      ]
    },
    {
      "cell_type": "code",
      "source": [
        "## sum\n",
        "torch.sum(x), x.sum()"
      ],
      "metadata": {
        "colab": {
          "base_uri": "https://localhost:8080/"
        },
        "id": "_ahqbbv4_Xyf",
        "outputId": "5e7f3e11-a89b-493f-dff4-03e3ecc9c2f7"
      },
      "execution_count": null,
      "outputs": [
        {
          "output_type": "execute_result",
          "data": {
            "text/plain": [
              "(tensor(460), tensor(460))"
            ]
          },
          "metadata": {},
          "execution_count": 81
        }
      ]
    },
    {
      "cell_type": "markdown",
      "source": [
        "## Find positional min and max"
      ],
      "metadata": {
        "id": "FcRt27S1AF4D"
      }
    },
    {
      "cell_type": "code",
      "source": [
        "x"
      ],
      "metadata": {
        "colab": {
          "base_uri": "https://localhost:8080/"
        },
        "id": "eOmCCP6mAKFz",
        "outputId": "1ad101c6-f685-4e8e-d382-18fdf9fc64be"
      },
      "execution_count": null,
      "outputs": [
        {
          "output_type": "execute_result",
          "data": {
            "text/plain": [
              "tensor([ 1, 11, 21, 31, 41, 51, 61, 71, 81, 91])"
            ]
          },
          "metadata": {},
          "execution_count": 82
        }
      ]
    },
    {
      "cell_type": "code",
      "source": [
        "## argument min index\n",
        "x.argmin()"
      ],
      "metadata": {
        "colab": {
          "base_uri": "https://localhost:8080/"
        },
        "id": "zvhwQKXe_32I",
        "outputId": "4ce83a36-b353-45de-cecf-399699f6c508"
      },
      "execution_count": null,
      "outputs": [
        {
          "output_type": "execute_result",
          "data": {
            "text/plain": [
              "tensor(0)"
            ]
          },
          "metadata": {},
          "execution_count": 83
        }
      ]
    },
    {
      "cell_type": "code",
      "source": [
        "x[0]"
      ],
      "metadata": {
        "colab": {
          "base_uri": "https://localhost:8080/"
        },
        "id": "XDLAs811Ac3u",
        "outputId": "d3fe40c1-be64-4edf-9fc0-77b70859f72d"
      },
      "execution_count": null,
      "outputs": [
        {
          "output_type": "execute_result",
          "data": {
            "text/plain": [
              "tensor(1)"
            ]
          },
          "metadata": {},
          "execution_count": 84
        }
      ]
    },
    {
      "cell_type": "code",
      "source": [
        "## argument max index\n",
        "x.argmax()"
      ],
      "metadata": {
        "colab": {
          "base_uri": "https://localhost:8080/"
        },
        "id": "NYOBVx-4AFBD",
        "outputId": "86b68a88-4a65-40d3-99e1-91b17a0e7fe5"
      },
      "execution_count": null,
      "outputs": [
        {
          "output_type": "execute_result",
          "data": {
            "text/plain": [
              "tensor(9)"
            ]
          },
          "metadata": {},
          "execution_count": 85
        }
      ]
    },
    {
      "cell_type": "code",
      "source": [
        "x[9]"
      ],
      "metadata": {
        "colab": {
          "base_uri": "https://localhost:8080/"
        },
        "id": "GsWuald_AE-a",
        "outputId": "0d4e9527-3d3c-4378-f8ab-fcdbc2bd4a94"
      },
      "execution_count": null,
      "outputs": [
        {
          "output_type": "execute_result",
          "data": {
            "text/plain": [
              "tensor(91)"
            ]
          },
          "metadata": {},
          "execution_count": 86
        }
      ]
    },
    {
      "cell_type": "code",
      "source": [
        "x"
      ],
      "metadata": {
        "colab": {
          "base_uri": "https://localhost:8080/"
        },
        "id": "XhGZAhFNAbhU",
        "outputId": "a2def2c5-cfa5-4b23-a85e-a1b125e55b94"
      },
      "execution_count": null,
      "outputs": [
        {
          "output_type": "execute_result",
          "data": {
            "text/plain": [
              "tensor([ 1, 11, 21, 31, 41, 51, 61, 71, 81, 91])"
            ]
          },
          "metadata": {},
          "execution_count": 87
        }
      ]
    },
    {
      "cell_type": "markdown",
      "source": [
        "## Reshaping, stacking, squeezing and unsqueezing tensors\n",
        "* The purpose is to manipulate tensor shape and dimensions for mathematical computations.\n",
        "\n",
        "1. Reshaping\n",
        "  * reshapes an input tensor to a defined shape.\n",
        "\n",
        "2. View\n",
        "  * returns a \"view\" of an input tensor of certain shape but keeps the **same memory as the original tensor.**\n",
        "\n",
        "3. Stacking\n",
        "  * combines multiple tensors on top of one another.\n",
        "  * `torch.vstack()` -- vertical\n",
        "  * `torch.hstack()` -- horizontal\n",
        "\n",
        "4. Squeeze\n",
        "  * removes all `1` dimensions from a tensor.\n",
        "  * Removes the tensor \"columns\".\n",
        "\n",
        "5. Unsqueeze\n",
        "  * adds a `1` dimension to target tensor.\n",
        "  * Expands the tensor \"columns\".\n",
        "\n",
        "6. Permute\n",
        "  * Return a view of the input with dimensions permuted (swapped in a certain way)."
      ],
      "metadata": {
        "id": "h48R_-ykFTNL"
      }
    },
    {
      "cell_type": "markdown",
      "source": [
        "### Reshaping\n",
        "* Reshape has to be compatible with original size"
      ],
      "metadata": {
        "id": "wdpqrKgDI5zP"
      }
    },
    {
      "cell_type": "code",
      "source": [
        "## lets create a tensor\n",
        "import torch\n",
        "x = torch.arange(1.,10,)\n",
        "x, x.shape"
      ],
      "metadata": {
        "colab": {
          "base_uri": "https://localhost:8080/"
        },
        "id": "Wc8F5JbgE0CW",
        "outputId": "d880ab3f-4627-4a3c-d44e-46003d987e15"
      },
      "execution_count": null,
      "outputs": [
        {
          "output_type": "execute_result",
          "data": {
            "text/plain": [
              "(tensor([1., 2., 3., 4., 5., 6., 7., 8., 9.]), torch.Size([9]))"
            ]
          },
          "metadata": {},
          "execution_count": 88
        }
      ]
    },
    {
      "cell_type": "code",
      "source": [
        "## 1. reshape -- add extra dimension\n",
        "x_reshaped = x.reshape(1,9) ## has to be compatible with torch.shape/size\n",
        "x_reshaped, x_reshaped.shape"
      ],
      "metadata": {
        "colab": {
          "base_uri": "https://localhost:8080/"
        },
        "id": "NJ8sn204ITI0",
        "outputId": "dd63e8c6-114e-4673-8631-1dfec1ef6449"
      },
      "execution_count": null,
      "outputs": [
        {
          "output_type": "execute_result",
          "data": {
            "text/plain": [
              "(tensor([[1., 2., 3., 4., 5., 6., 7., 8., 9.]]), torch.Size([1, 9]))"
            ]
          },
          "metadata": {},
          "execution_count": 89
        }
      ]
    },
    {
      "cell_type": "markdown",
      "source": [
        "### View\n",
        "* View shares same memory as original tensor or original input."
      ],
      "metadata": {
        "id": "WP47MvujJpZU"
      }
    },
    {
      "cell_type": "code",
      "source": [
        "## change the view\n",
        "z = x.view(1, 9)\n",
        "z, z.shape"
      ],
      "metadata": {
        "colab": {
          "base_uri": "https://localhost:8080/"
        },
        "id": "GEtQLExtITHM",
        "outputId": "410bfbfb-8a0e-428e-f7c4-831fc8792c3c"
      },
      "execution_count": null,
      "outputs": [
        {
          "output_type": "execute_result",
          "data": {
            "text/plain": [
              "(tensor([[1., 2., 3., 4., 5., 6., 7., 8., 9.]]), torch.Size([1, 9]))"
            ]
          },
          "metadata": {},
          "execution_count": 90
        }
      ]
    },
    {
      "cell_type": "code",
      "source": [
        "z[:, 0] = 5\n",
        "z, x"
      ],
      "metadata": {
        "colab": {
          "base_uri": "https://localhost:8080/"
        },
        "id": "aOBD6AM8ITEp",
        "outputId": "b21c3f9a-548e-458c-8085-0d0306c87ddb"
      },
      "execution_count": null,
      "outputs": [
        {
          "output_type": "execute_result",
          "data": {
            "text/plain": [
              "(tensor([[5., 2., 3., 4., 5., 6., 7., 8., 9.]]),\n",
              " tensor([5., 2., 3., 4., 5., 6., 7., 8., 9.]))"
            ]
          },
          "metadata": {},
          "execution_count": 91
        }
      ]
    },
    {
      "cell_type": "markdown",
      "source": [
        "### Stack Tensors\n",
        "* Default is 0 --> horizontal\n",
        "* 1 is vertical"
      ],
      "metadata": {
        "id": "UAFADXa2J84m"
      }
    },
    {
      "cell_type": "code",
      "source": [
        "## stacking tensors on top of each other\n",
        "x_stacked = torch.stack([x,x,x,x],dim=0) ## default dim is 0\n",
        "x_stacked\n"
      ],
      "metadata": {
        "colab": {
          "base_uri": "https://localhost:8080/"
        },
        "id": "IPlkmDVJJw3m",
        "outputId": "c75813b8-91c9-426d-85f9-996c55b721c3"
      },
      "execution_count": null,
      "outputs": [
        {
          "output_type": "execute_result",
          "data": {
            "text/plain": [
              "tensor([[5., 2., 3., 4., 5., 6., 7., 8., 9.],\n",
              "        [5., 2., 3., 4., 5., 6., 7., 8., 9.],\n",
              "        [5., 2., 3., 4., 5., 6., 7., 8., 9.],\n",
              "        [5., 2., 3., 4., 5., 6., 7., 8., 9.]])"
            ]
          },
          "metadata": {},
          "execution_count": 92
        }
      ]
    },
    {
      "cell_type": "code",
      "source": [
        "## vstack -- adds them in a vertical bar stack\n",
        "x_vstacked = torch.vstack([x,x,x,x,x,x,x,])\n",
        "x_vstacked"
      ],
      "metadata": {
        "colab": {
          "base_uri": "https://localhost:8080/"
        },
        "id": "1B9s2YORKQ2z",
        "outputId": "bb278c1a-c93f-4b02-e3d6-89b76eae0c18"
      },
      "execution_count": null,
      "outputs": [
        {
          "output_type": "execute_result",
          "data": {
            "text/plain": [
              "tensor([[5., 2., 3., 4., 5., 6., 7., 8., 9.],\n",
              "        [5., 2., 3., 4., 5., 6., 7., 8., 9.],\n",
              "        [5., 2., 3., 4., 5., 6., 7., 8., 9.],\n",
              "        [5., 2., 3., 4., 5., 6., 7., 8., 9.],\n",
              "        [5., 2., 3., 4., 5., 6., 7., 8., 9.],\n",
              "        [5., 2., 3., 4., 5., 6., 7., 8., 9.],\n",
              "        [5., 2., 3., 4., 5., 6., 7., 8., 9.]])"
            ]
          },
          "metadata": {},
          "execution_count": 93
        }
      ]
    },
    {
      "cell_type": "code",
      "source": [
        "## hstack --> adds them in a horizontal row\n",
        "x_hstacked = torch.hstack([x,x,x,x,x,x,x,])\n",
        "x_hstacked"
      ],
      "metadata": {
        "colab": {
          "base_uri": "https://localhost:8080/"
        },
        "id": "EYYBTfgUKktP",
        "outputId": "22f0a9b5-bc2e-425d-cfd9-83141582bb62"
      },
      "execution_count": null,
      "outputs": [
        {
          "output_type": "execute_result",
          "data": {
            "text/plain": [
              "tensor([5., 2., 3., 4., 5., 6., 7., 8., 9., 5., 2., 3., 4., 5., 6., 7., 8., 9.,\n",
              "        5., 2., 3., 4., 5., 6., 7., 8., 9., 5., 2., 3., 4., 5., 6., 7., 8., 9.,\n",
              "        5., 2., 3., 4., 5., 6., 7., 8., 9., 5., 2., 3., 4., 5., 6., 7., 8., 9.,\n",
              "        5., 2., 3., 4., 5., 6., 7., 8., 9.])"
            ]
          },
          "metadata": {},
          "execution_count": 94
        }
      ]
    },
    {
      "cell_type": "markdown",
      "source": [
        "### Squeeze and Unsqueeze"
      ],
      "metadata": {
        "id": "ujPRNCTrLH-N"
      }
    },
    {
      "cell_type": "code",
      "source": [
        "## torch.squeeze() -- removes all single dimensions from target tensor\n",
        "print(f\"Previous tensor: {x_reshaped}\")\n",
        "print(f\"Previous shape: {x_reshaped.shape}\")\n",
        "\n",
        "# Remove extra dimensions from x_reshaped\n",
        "x_squeezed = x_reshaped.squeeze()\n",
        "print(f\"\\nNew tensor: {x_squeezed}\")\n",
        "print(f\"New shape: {x_squeezed.shape}\")"
      ],
      "metadata": {
        "colab": {
          "base_uri": "https://localhost:8080/"
        },
        "id": "mIFWsLllKo7i",
        "outputId": "5c1e1b38-8ce3-4dbd-8251-e3be91b28f67"
      },
      "execution_count": null,
      "outputs": [
        {
          "output_type": "stream",
          "name": "stdout",
          "text": [
            "Previous tensor: tensor([[5., 2., 3., 4., 5., 6., 7., 8., 9.]])\n",
            "Previous shape: torch.Size([1, 9])\n",
            "\n",
            "New tensor: tensor([5., 2., 3., 4., 5., 6., 7., 8., 9.])\n",
            "New shape: torch.Size([9])\n"
          ]
        }
      ]
    },
    {
      "cell_type": "code",
      "source": [
        "### torch.unsqueeze -- adds single dim to target tensor at specific dim\n",
        "print(f\"Previous target: {x_squeezed}\")\n",
        "print(f\"Previous shape: {x_squeezed.shape}\")\n",
        "\n",
        "## unsqueeze it -- add extra dimension\n",
        "x_unsqueezed = x_squeezed.unsqueeze(dim=0) ## 1 is vertical, 0 is horizontal\n",
        "print(f\"\\nNew tensor: {x_unsqueezed}\")\n",
        "print(f\"New shape: {x_unsqueezed.shape}\")"
      ],
      "metadata": {
        "colab": {
          "base_uri": "https://localhost:8080/"
        },
        "id": "phSofNgUMrnt",
        "outputId": "4b934cb2-6a5c-4705-efd8-72cf30ef4a13"
      },
      "execution_count": null,
      "outputs": [
        {
          "output_type": "stream",
          "name": "stdout",
          "text": [
            "Previous target: tensor([5., 2., 3., 4., 5., 6., 7., 8., 9.])\n",
            "Previous shape: torch.Size([9])\n",
            "\n",
            "New tensor: tensor([[5., 2., 3., 4., 5., 6., 7., 8., 9.]])\n",
            "New shape: torch.Size([1, 9])\n"
          ]
        }
      ]
    },
    {
      "cell_type": "markdown",
      "source": [
        "### Permute\n",
        "* Rerranges dim of target tensor in specified order.\n",
        "* Returns a view of the original tensor input with its dimensions permuted (rerranged).\n",
        "\n"
      ],
      "metadata": {
        "id": "1-kCF12SNVwl"
      }
    },
    {
      "cell_type": "code",
      "source": [
        "## torch.permute() --- common with image manipulation\n",
        "x_original = torch.rand(size=(224,224,3)) # [height, width, color_channels]\n",
        "\n",
        "# permute original tensor to rearrange axis or dim order\n",
        "x_permute = x_original.permute(2,0,1) ## shifts axis 0 to 1, 1-->2, 2-->0\n",
        "\n",
        "\n",
        "print(f\"Previous shape: {x_original.shape}\\n\\n\")\n",
        "print(f\"New shape: {x_permute.shape}\")"
      ],
      "metadata": {
        "colab": {
          "base_uri": "https://localhost:8080/"
        },
        "id": "zVwTU4D8MAN2",
        "outputId": "1b2e74ee-1b57-4226-adea-a746f1ea276d"
      },
      "execution_count": null,
      "outputs": [
        {
          "output_type": "stream",
          "name": "stdout",
          "text": [
            "Previous shape: torch.Size([224, 224, 3])\n",
            "\n",
            "\n",
            "New shape: torch.Size([3, 224, 224])\n"
          ]
        }
      ]
    },
    {
      "cell_type": "code",
      "source": [
        "## change val in x_oriinal\n",
        "x_original[0,0,0] = 7092949\n",
        "x_original[0,0,0], x_permute[0,0,0]"
      ],
      "metadata": {
        "colab": {
          "base_uri": "https://localhost:8080/"
        },
        "id": "Rk2M42kqON68",
        "outputId": "96083ef6-2679-4c08-9e63-34329dd4e9ea"
      },
      "execution_count": null,
      "outputs": [
        {
          "output_type": "execute_result",
          "data": {
            "text/plain": [
              "(tensor(7092949.), tensor(7092949.))"
            ]
          },
          "metadata": {},
          "execution_count": 98
        }
      ]
    },
    {
      "cell_type": "markdown",
      "source": [
        "## Indexing - selecting data from tensors\n",
        "* Indexing with tensors is very similar to numpy indexing."
      ],
      "metadata": {
        "id": "P7j4dlHoO0ih"
      }
    },
    {
      "cell_type": "code",
      "source": [
        "## create tensor\n",
        "import torch\n",
        "\n",
        "## arange tensor --> reshape it\n",
        "x = torch.arange(1, 10).reshape(1,3,3) ## reshape factor of 9\n",
        "x, x.shape"
      ],
      "metadata": {
        "colab": {
          "base_uri": "https://localhost:8080/"
        },
        "id": "aR93WV5HObaY",
        "outputId": "87749e66-f0a3-4d77-e713-788d2549366c"
      },
      "execution_count": null,
      "outputs": [
        {
          "output_type": "execute_result",
          "data": {
            "text/plain": [
              "(tensor([[[1, 2, 3],\n",
              "          [4, 5, 6],\n",
              "          [7, 8, 9]]]),\n",
              " torch.Size([1, 3, 3]))"
            ]
          },
          "metadata": {},
          "execution_count": 99
        }
      ]
    },
    {
      "cell_type": "code",
      "source": [
        "## index on x tensor --> 0th dim or 1st bracket\n",
        "x[0]"
      ],
      "metadata": {
        "colab": {
          "base_uri": "https://localhost:8080/"
        },
        "id": "qFxY9yK6O7aB",
        "outputId": "a75c5670-3860-4f60-e435-39eeef9adf14"
      },
      "execution_count": null,
      "outputs": [
        {
          "output_type": "execute_result",
          "data": {
            "text/plain": [
              "tensor([[1, 2, 3],\n",
              "        [4, 5, 6],\n",
              "        [7, 8, 9]])"
            ]
          },
          "metadata": {},
          "execution_count": 100
        }
      ]
    },
    {
      "cell_type": "code",
      "source": [
        "## index on middle bracket\n",
        "x[0,0]"
      ],
      "metadata": {
        "colab": {
          "base_uri": "https://localhost:8080/"
        },
        "id": "4X6ISBjcO7Xs",
        "outputId": "8d713285-aea3-460f-dca4-f328ff353ce7"
      },
      "execution_count": null,
      "outputs": [
        {
          "output_type": "execute_result",
          "data": {
            "text/plain": [
              "tensor([1, 2, 3])"
            ]
          },
          "metadata": {},
          "execution_count": 101
        }
      ]
    },
    {
      "cell_type": "code",
      "source": [
        "## index on most inner bracket --> last dim\n",
        "x[:,2,2]"
      ],
      "metadata": {
        "colab": {
          "base_uri": "https://localhost:8080/"
        },
        "id": "w4k9svt6O7WD",
        "outputId": "33473a35-4779-4e37-e523-6949ac89c946"
      },
      "execution_count": null,
      "outputs": [
        {
          "output_type": "execute_result",
          "data": {
            "text/plain": [
              "tensor([9])"
            ]
          },
          "metadata": {},
          "execution_count": 102
        }
      ]
    },
    {
      "cell_type": "code",
      "source": [
        "## get all values of 0th and 1st dims but only index 1 of 2nd dimension\n",
        "x[:, :, 1]"
      ],
      "metadata": {
        "colab": {
          "base_uri": "https://localhost:8080/"
        },
        "id": "LqRVeo_wO7To",
        "outputId": "5fa752b2-1860-4b34-e9b4-b73e9ef461fc"
      },
      "execution_count": null,
      "outputs": [
        {
          "output_type": "execute_result",
          "data": {
            "text/plain": [
              "tensor([[2, 5, 8]])"
            ]
          },
          "metadata": {},
          "execution_count": 103
        }
      ]
    },
    {
      "cell_type": "code",
      "source": [
        "## get all vals of 0 dim but only 1 index val of 1st and 2nd dimension\n",
        "x[:, 1, 1]"
      ],
      "metadata": {
        "colab": {
          "base_uri": "https://localhost:8080/"
        },
        "id": "7QiJtbdhQMor",
        "outputId": "012dcebc-90a9-4fc7-e9d8-5a29b29ecaa0"
      },
      "execution_count": null,
      "outputs": [
        {
          "output_type": "execute_result",
          "data": {
            "text/plain": [
              "tensor([5])"
            ]
          },
          "metadata": {},
          "execution_count": 104
        }
      ]
    },
    {
      "cell_type": "code",
      "source": [
        "## get index 0 of 0th and 1st dimension and all values of 2nd dimension\n",
        "x[0,0,:]"
      ],
      "metadata": {
        "colab": {
          "base_uri": "https://localhost:8080/"
        },
        "id": "eNM5CWeTQXqB",
        "outputId": "c242c3a6-fb02-489d-82b5-f53b645daedf"
      },
      "execution_count": null,
      "outputs": [
        {
          "output_type": "execute_result",
          "data": {
            "text/plain": [
              "tensor([1, 2, 3])"
            ]
          },
          "metadata": {},
          "execution_count": 105
        }
      ]
    },
    {
      "cell_type": "code",
      "source": [
        "## index on x to return 9\n",
        "x[:,2,2]"
      ],
      "metadata": {
        "colab": {
          "base_uri": "https://localhost:8080/"
        },
        "id": "ZITqX2CNQlEa",
        "outputId": "72302047-d548-41f5-e872-b168c92cf77d"
      },
      "execution_count": null,
      "outputs": [
        {
          "output_type": "execute_result",
          "data": {
            "text/plain": [
              "tensor([9])"
            ]
          },
          "metadata": {},
          "execution_count": 106
        }
      ]
    },
    {
      "cell_type": "code",
      "source": [
        "## index on x to return 3, 6, 9\n",
        "x"
      ],
      "metadata": {
        "colab": {
          "base_uri": "https://localhost:8080/"
        },
        "id": "uMsZzSf2QtRb",
        "outputId": "8bb6f4e9-b364-46b5-c648-2a8e5d2e62db"
      },
      "execution_count": null,
      "outputs": [
        {
          "output_type": "execute_result",
          "data": {
            "text/plain": [
              "tensor([[[1, 2, 3],\n",
              "         [4, 5, 6],\n",
              "         [7, 8, 9]]])"
            ]
          },
          "metadata": {},
          "execution_count": 107
        }
      ]
    },
    {
      "cell_type": "code",
      "source": [
        "x[:,:,2]"
      ],
      "metadata": {
        "colab": {
          "base_uri": "https://localhost:8080/"
        },
        "id": "hHxd2_yrQv58",
        "outputId": "303817ee-b2f5-4cc9-b3a0-2939054c0c28"
      },
      "execution_count": null,
      "outputs": [
        {
          "output_type": "execute_result",
          "data": {
            "text/plain": [
              "tensor([[3, 6, 9]])"
            ]
          },
          "metadata": {},
          "execution_count": 108
        }
      ]
    },
    {
      "cell_type": "code",
      "source": [
        "x"
      ],
      "metadata": {
        "colab": {
          "base_uri": "https://localhost:8080/"
        },
        "id": "XWaQIbPLQ2b1",
        "outputId": "00c104a4-6e15-49f7-c0a0-8b0572c7f3eb"
      },
      "execution_count": null,
      "outputs": [
        {
          "output_type": "execute_result",
          "data": {
            "text/plain": [
              "tensor([[[1, 2, 3],\n",
              "         [4, 5, 6],\n",
              "         [7, 8, 9]]])"
            ]
          },
          "metadata": {},
          "execution_count": 109
        }
      ]
    },
    {
      "cell_type": "markdown",
      "source": [
        "## PyTorch Tensors & NumPy\n",
        "* PyTorch has functionality to interact with NumPy.\n",
        "* Data in numpy array but want in pytorch tensor.\n",
        "  * method: `torch.from_numpy(ndarray)`\n",
        "* From pytorch tensor to numpy\n",
        "  * method: `torch.Tensor.numpy()`"
      ],
      "metadata": {
        "id": "mBkkF77jgT30"
      }
    },
    {
      "cell_type": "code",
      "source": [
        "## numpy array ---> tensor\n",
        "import torch\n",
        "import numpy as np\n",
        "\n",
        "## create array\n",
        "array = np.arange(1.0, 8.0)\n",
        "\n",
        "## np.array --> torch.tensor\n",
        "tensor = torch.from_numpy(array)\n",
        "\n",
        "## lets see both\n",
        "print(f\"array: {array}\\n\\n\")\n",
        "print(f\"tensor: {tensor}\\n\\n\")"
      ],
      "metadata": {
        "colab": {
          "base_uri": "https://localhost:8080/"
        },
        "id": "fczLc67Mf0hF",
        "outputId": "70c7bb6d-b836-40a5-852a-dbae472d74e7"
      },
      "execution_count": null,
      "outputs": [
        {
          "output_type": "stream",
          "name": "stdout",
          "text": [
            "array: [1. 2. 3. 4. 5. 6. 7.]\n",
            "\n",
            "\n",
            "tensor: tensor([1., 2., 3., 4., 5., 6., 7.], dtype=torch.float64)\n",
            "\n",
            "\n"
          ]
        }
      ]
    },
    {
      "cell_type": "code",
      "source": [
        "## numpy's default dtype is float64\n",
        "array.dtype"
      ],
      "metadata": {
        "colab": {
          "base_uri": "https://localhost:8080/"
        },
        "id": "t-MpP8vciXSj",
        "outputId": "db36eecf-37bc-48b4-f7a8-ca850af9eedf"
      },
      "execution_count": null,
      "outputs": [
        {
          "output_type": "execute_result",
          "data": {
            "text/plain": [
              "dtype('float64')"
            ]
          },
          "metadata": {},
          "execution_count": 112
        }
      ]
    },
    {
      "cell_type": "code",
      "source": [
        "## torch dtype\n",
        "torch.dtype"
      ],
      "metadata": {
        "colab": {
          "base_uri": "https://localhost:8080/"
        },
        "id": "2VFVGjMRiw24",
        "outputId": "63d844fc-9f44-4a40-c912-4abd4237788f"
      },
      "execution_count": null,
      "outputs": [
        {
          "output_type": "execute_result",
          "data": {
            "text/plain": [
              "torch.dtype"
            ]
          },
          "metadata": {},
          "execution_count": 113
        }
      ]
    },
    {
      "cell_type": "code",
      "source": [
        "## whats pytorch default dtype\n",
        "torch.arange(1.0,8.0).dtype"
      ],
      "metadata": {
        "colab": {
          "base_uri": "https://localhost:8080/"
        },
        "id": "VTQdQJoWi5bS",
        "outputId": "6137fe73-9c2e-4e4a-9616-b4946ebe197b"
      },
      "execution_count": null,
      "outputs": [
        {
          "output_type": "execute_result",
          "data": {
            "text/plain": [
              "torch.float32"
            ]
          },
          "metadata": {},
          "execution_count": 115
        }
      ]
    },
    {
      "cell_type": "markdown",
      "source": [
        "Summary\n",
        "* numpy default is float64\n",
        "* torch default dtype is float32"
      ],
      "metadata": {
        "id": "7am1EPOKi94J"
      }
    },
    {
      "cell_type": "code",
      "source": [
        "## change dtype?\n",
        "array = np.arange(1.0, 8.0)\n",
        "## to tensor\n",
        "tensor = torch.from_numpy(array).type(torch.float32)\n",
        "array.dtype, tensor.dtype"
      ],
      "metadata": {
        "colab": {
          "base_uri": "https://localhost:8080/"
        },
        "id": "_VWtFKkOi72J",
        "outputId": "30b0587d-49bd-4747-e0c3-fff6f8a9bf2a"
      },
      "execution_count": null,
      "outputs": [
        {
          "output_type": "execute_result",
          "data": {
            "text/plain": [
              "(dtype('float64'), torch.float32)"
            ]
          },
          "metadata": {},
          "execution_count": 116
        }
      ]
    },
    {
      "cell_type": "code",
      "source": [
        "## change val of array -- what do to tensor?\n",
        "array = array + 1\n",
        "array, tensor"
      ],
      "metadata": {
        "colab": {
          "base_uri": "https://localhost:8080/"
        },
        "id": "8QkbcIOdjUb6",
        "outputId": "e63f44cb-9961-4a26-e6e9-6e8514b5fabe"
      },
      "execution_count": null,
      "outputs": [
        {
          "output_type": "execute_result",
          "data": {
            "text/plain": [
              "(array([2., 3., 4., 5., 6., 7., 8.]), tensor([1., 2., 3., 4., 5., 6., 7.]))"
            ]
          },
          "metadata": {},
          "execution_count": 118
        }
      ]
    },
    {
      "cell_type": "code",
      "source": [
        "## tensor --> numpy (`.numpy()`)\n",
        "tensor = torch.ones(7)\n",
        "numpy_tensor = tensor.numpy()\n",
        "tensor, numpy_tensor"
      ],
      "metadata": {
        "colab": {
          "base_uri": "https://localhost:8080/"
        },
        "id": "2N8a5LJtltq3",
        "outputId": "bc719c06-9d82-464f-a11a-014033ba4733"
      },
      "execution_count": null,
      "outputs": [
        {
          "output_type": "execute_result",
          "data": {
            "text/plain": [
              "(tensor([1., 1., 1., 1., 1., 1., 1.]),\n",
              " array([1., 1., 1., 1., 1., 1., 1.], dtype=float32))"
            ]
          },
          "metadata": {},
          "execution_count": 119
        }
      ]
    },
    {
      "cell_type": "code",
      "source": [
        "numpy_tensor.dtype"
      ],
      "metadata": {
        "colab": {
          "base_uri": "https://localhost:8080/"
        },
        "id": "OBgL3_mAmGmt",
        "outputId": "3be144c2-3e5a-4d23-b0dd-425ece4cf075"
      },
      "execution_count": null,
      "outputs": [
        {
          "output_type": "execute_result",
          "data": {
            "text/plain": [
              "dtype('float32')"
            ]
          },
          "metadata": {},
          "execution_count": 120
        }
      ]
    },
    {
      "cell_type": "code",
      "source": [
        "## change tensor, what happens to `numpy_tensor`\n",
        "tensor = tensor + 1\n",
        "tensor, numpy_tensor"
      ],
      "metadata": {
        "colab": {
          "base_uri": "https://localhost:8080/"
        },
        "id": "BAdlhU3umLxa",
        "outputId": "38663423-5de2-4c2a-b067-3110cb5aef6f"
      },
      "execution_count": null,
      "outputs": [
        {
          "output_type": "execute_result",
          "data": {
            "text/plain": [
              "(tensor([2., 2., 2., 2., 2., 2., 2.]),\n",
              " array([1., 1., 1., 1., 1., 1., 1.], dtype=float32))"
            ]
          },
          "metadata": {},
          "execution_count": 121
        }
      ]
    },
    {
      "cell_type": "markdown",
      "source": [
        "## Reproducibility\n",
        "* trying to take the random out of random!\n",
        "* In short how a neural network learns:\n",
        "```\n",
        "start with random numbers --> tensor operations --> update random numbers to try and make better representations of data --> again --> again --> again\n",
        "```\n",
        "* To reduce randomness in neural networks and pytorch, comes the concept of a **Random Seed**.\n",
        "\n",
        "* Essentially, what the random seed does is \"flavor\" the randomness."
      ],
      "metadata": {
        "id": "IgvoO1wOmftZ"
      }
    },
    {
      "cell_type": "code",
      "source": [
        "## demo of rand\n",
        "torch.rand(4,5)"
      ],
      "metadata": {
        "colab": {
          "base_uri": "https://localhost:8080/"
        },
        "id": "8qYgLjh4mWWi",
        "outputId": "d9ebe76e-37fc-46ed-fc53-9862388372c1"
      },
      "execution_count": null,
      "outputs": [
        {
          "output_type": "execute_result",
          "data": {
            "text/plain": [
              "tensor([[0.0913, 0.3055, 0.2284, 0.3211, 0.7395],\n",
              "        [0.0705, 0.5477, 0.9304, 0.2702, 0.7833],\n",
              "        [0.5925, 0.1439, 0.6490, 0.5648, 0.5010],\n",
              "        [0.0796, 0.6883, 0.4191, 0.3414, 0.6212]])"
            ]
          },
          "metadata": {},
          "execution_count": 123
        }
      ]
    },
    {
      "cell_type": "code",
      "source": [
        "import torch\n",
        "\n",
        "## create 2 random tensors\n",
        "random_tensor_A = torch.rand(3,4)\n",
        "random_tensor_B = torch.rand(3,4)\n",
        "\n",
        "print(random_tensor_A)\n",
        "print(random_tensor_B)\n",
        "print(random_tensor_A == random_tensor_B)"
      ],
      "metadata": {
        "colab": {
          "base_uri": "https://localhost:8080/"
        },
        "id": "ptIso9nBm1Fi",
        "outputId": "3d75af5f-2e96-40fd-d275-fbf52a227d9e"
      },
      "execution_count": null,
      "outputs": [
        {
          "output_type": "stream",
          "name": "stdout",
          "text": [
            "tensor([[0.9162, 0.9174, 0.4229, 0.0848],\n",
            "        [0.1030, 0.8341, 0.2844, 0.6213],\n",
            "        [0.9712, 0.8175, 0.5421, 0.0728]])\n",
            "tensor([[0.2256, 0.1158, 0.6017, 0.2159],\n",
            "        [0.1027, 0.6178, 0.1451, 0.2055],\n",
            "        [0.2073, 0.1643, 0.4225, 0.5254]])\n",
            "tensor([[False, False, False, False],\n",
            "        [False, False, False, False],\n",
            "        [False, False, False, False]])\n"
          ]
        }
      ]
    },
    {
      "cell_type": "code",
      "source": [
        "## lets make some random but reproducbible tensors\n",
        "import torch\n",
        "\n",
        "## set random seed\n",
        "RANDOM_SEED=42\n",
        "torch.manual_seed(RANDOM_SEED)\n",
        "\n",
        "## random tensor 1\n",
        "random_tensor_c = torch.rand(3,4)\n",
        "\n",
        "## random tensor 2 -- set random seed\n",
        "torch.manual_seed(RANDOM_SEED)\n",
        "random_tensor_d = torch.rand(3,4)\n",
        "\n",
        "\n",
        "print(random_tensor_c)\n",
        "print(random_tensor_d)\n",
        "print(random_tensor_c == random_tensor_d)"
      ],
      "metadata": {
        "colab": {
          "base_uri": "https://localhost:8080/"
        },
        "id": "BdJu3OARnanr",
        "outputId": "43c3e8e8-d1be-4824-aa85-e8f2a9237440"
      },
      "execution_count": null,
      "outputs": [
        {
          "output_type": "stream",
          "name": "stdout",
          "text": [
            "tensor([[0.8823, 0.9150, 0.3829, 0.9593],\n",
            "        [0.3904, 0.6009, 0.2566, 0.7936],\n",
            "        [0.9408, 0.1332, 0.9346, 0.5936]])\n",
            "tensor([[0.8823, 0.9150, 0.3829, 0.9593],\n",
            "        [0.3904, 0.6009, 0.2566, 0.7936],\n",
            "        [0.9408, 0.1332, 0.9346, 0.5936]])\n",
            "tensor([[True, True, True, True],\n",
            "        [True, True, True, True],\n",
            "        [True, True, True, True]])\n"
          ]
        }
      ]
    },
    {
      "cell_type": "markdown",
      "source": [
        "### Summary\n",
        "* Random seeds work well when they are placed or seeded directly before a line of code or tensor creation."
      ],
      "metadata": {
        "id": "LEXFy31eo9Td"
      }
    },
    {
      "cell_type": "markdown",
      "source": [
        "## Running tensors and PyTorch objects on GPUs and making faster computations\n",
        "\n",
        "* GPUs = faster computation on numbers, thanks to CUDA + NVIDIA hardware + PyTorch working behind the scenes to make everything \"hunky dory\"\n",
        "\n",
        "### 1. Getting a GPU\n",
        "\n",
        "1. Easiest - Use Google colab for a free GPU -- or pro version\n",
        "\n",
        "2. Use your own GPU -- investment!\n",
        "  * see this blog: https://timdettmers.com/2023/01/30/which-gpu-for-deep-learning/\n",
        "\n",
        "3. Cloud\n",
        "  * AWS\n",
        "  * Azure\n",
        "\n",
        "\n",
        "For 2, 3 PyTorch + GPU (CUDA) drivers refer to pytorch setup docs.\n",
        "\n",
        "\n",
        "\n",
        "### 2. Check for GPU on PyTorch"
      ],
      "metadata": {
        "id": "_qXhLwKxpr7u"
      }
    },
    {
      "cell_type": "code",
      "source": [
        "## check for gpu access on pytorch\n",
        "import torch\n",
        "\n",
        "torch.cuda.is_available()"
      ],
      "metadata": {
        "colab": {
          "base_uri": "https://localhost:8080/"
        },
        "id": "zRfAoiguo0gr",
        "outputId": "b8e5c663-c611-4eab-d9ab-0a6ca724100b"
      },
      "execution_count": null,
      "outputs": [
        {
          "output_type": "execute_result",
          "data": {
            "text/plain": [
              "False"
            ]
          },
          "metadata": {},
          "execution_count": 130
        }
      ]
    },
    {
      "cell_type": "markdown",
      "source": [
        "### 3. Device agnostic code\n",
        "* See cuda semantics: https://pytorch.org/docs/stable/notes/cuda.html"
      ],
      "metadata": {
        "id": "d9YEDc5Gr74a"
      }
    },
    {
      "cell_type": "code",
      "source": [
        "# setup device agnostic code\n",
        "device = torch.device(\"cuda\" if torch.cuda.is_available() else \"cpu\")\n",
        "device"
      ],
      "metadata": {
        "colab": {
          "base_uri": "https://localhost:8080/"
        },
        "id": "IPlvDfEtrEXr",
        "outputId": "b7b460f6-6e1c-4411-ebba-3e11abddcbd8"
      },
      "execution_count": null,
      "outputs": [
        {
          "output_type": "execute_result",
          "data": {
            "text/plain": [
              "device(type='cpu')"
            ]
          },
          "metadata": {},
          "execution_count": 131
        }
      ]
    },
    {
      "cell_type": "code",
      "source": [
        "## count number of gpu devices you have\n",
        "torch.cuda.device_count()"
      ],
      "metadata": {
        "colab": {
          "base_uri": "https://localhost:8080/"
        },
        "id": "B9BzGeYZrrrO",
        "outputId": "98d239d7-3f2f-4ef6-f274-fd8572c70d2c"
      },
      "execution_count": null,
      "outputs": [
        {
          "output_type": "execute_result",
          "data": {
            "text/plain": [
              "0"
            ]
          },
          "metadata": {},
          "execution_count": 132
        }
      ]
    },
    {
      "cell_type": "markdown",
      "source": [
        "## Putting Tensors and models on GPU\n",
        "* Putting these on the GPU results in faster computations."
      ],
      "metadata": {
        "id": "0BjJn8KGsJ0j"
      }
    },
    {
      "cell_type": "code",
      "source": [
        "## create tensor -- default always cpu\n",
        "tensor = torch.tensor([1,2,3])\n",
        "\n",
        "## tensor not on GPU\n",
        "print(tensor, tensor.device)"
      ],
      "metadata": {
        "colab": {
          "base_uri": "https://localhost:8080/"
        },
        "id": "mCKpyVwqrxCN",
        "outputId": "af595464-2874-4ac2-ccc6-b7bc7981eb90"
      },
      "execution_count": null,
      "outputs": [
        {
          "output_type": "stream",
          "name": "stdout",
          "text": [
            "tensor([1, 2, 3]) cpu\n"
          ]
        }
      ]
    },
    {
      "cell_type": "code",
      "source": [
        "## move tensor to gpu if available -- will show gpu if available\n",
        "tensor_on_gpu = tensor.to(device)\n",
        "tensor_on_gpu"
      ],
      "metadata": {
        "colab": {
          "base_uri": "https://localhost:8080/"
        },
        "id": "FooruYpUsbjO",
        "outputId": "79979517-d40a-4899-b77d-17788af3a043"
      },
      "execution_count": null,
      "outputs": [
        {
          "output_type": "execute_result",
          "data": {
            "text/plain": [
              "tensor([1, 2, 3])"
            ]
          },
          "metadata": {},
          "execution_count": 134
        }
      ]
    },
    {
      "cell_type": "markdown",
      "source": [
        "## Moving Tensors back to CPU"
      ],
      "metadata": {
        "id": "kOnTfPhZswWe"
      }
    },
    {
      "cell_type": "code",
      "source": [
        "# if tensor on GPU cant transform to numpy\n",
        "tensor_on_gpu.numpy()"
      ],
      "metadata": {
        "colab": {
          "base_uri": "https://localhost:8080/"
        },
        "id": "AAqlsrP6shRr",
        "outputId": "f9049ec3-2b14-44f4-98ad-5fb582a499fd"
      },
      "execution_count": null,
      "outputs": [
        {
          "output_type": "execute_result",
          "data": {
            "text/plain": [
              "array([1, 2, 3])"
            ]
          },
          "metadata": {},
          "execution_count": 135
        }
      ]
    },
    {
      "cell_type": "code",
      "source": [
        "# to fix gpu tensor with numpy issue first set it to cpu\n",
        "tensor_back_on_cpu = tensor_on_gpu.cpu().numpy()\n",
        "tensor_back_on_cpu"
      ],
      "metadata": {
        "colab": {
          "base_uri": "https://localhost:8080/"
        },
        "id": "MtYaxFihs5dM",
        "outputId": "20c14e42-aea0-4af5-c150-2d6a1f221f95"
      },
      "execution_count": null,
      "outputs": [
        {
          "output_type": "execute_result",
          "data": {
            "text/plain": [
              "array([1, 2, 3])"
            ]
          },
          "metadata": {},
          "execution_count": 136
        }
      ]
    },
    {
      "cell_type": "code",
      "source": [
        "tensor_on_gpu"
      ],
      "metadata": {
        "colab": {
          "base_uri": "https://localhost:8080/"
        },
        "id": "QifKvhiytC96",
        "outputId": "76437979-0ac4-4208-be72-f2c311ace557"
      },
      "execution_count": null,
      "outputs": [
        {
          "output_type": "execute_result",
          "data": {
            "text/plain": [
              "tensor([1, 2, 3])"
            ]
          },
          "metadata": {},
          "execution_count": 137
        }
      ]
    },
    {
      "cell_type": "code",
      "source": [],
      "metadata": {
        "id": "E71-PUDytFwd"
      },
      "execution_count": null,
      "outputs": []
    },
    {
      "cell_type": "markdown",
      "source": [
        "## Set Seed on GPU"
      ],
      "metadata": {
        "id": "1eD0EJWwwNS-"
      }
    },
    {
      "cell_type": "code",
      "source": [
        "# Set random seed on the GPU\n",
        "import torch\n",
        "\n",
        "seed = 42\n",
        "\n",
        "# Set the random seed for PyTorch CPU operations\n",
        "torch.manual_seed(seed)\n",
        "\n",
        "# If you are using CUDA, set the random seed for GPU operations\n",
        "if torch.cuda.is_available():\n",
        "    torch.cuda.manual_seed(seed)\n",
        "    torch.cuda.manual_seed_all(seed) # If you are using multiple GPUs\n",
        "\n",
        "# Set the deterministic flag for CuDNN (for deterministic behavior in some operations)\n",
        "torch.backends.cudnn.deterministic = True\n",
        "torch.backends.cudnn.benchmark = False"
      ],
      "metadata": {
        "id": "g_McoOUIwQxO"
      },
      "execution_count": null,
      "outputs": []
    }
  ]
}