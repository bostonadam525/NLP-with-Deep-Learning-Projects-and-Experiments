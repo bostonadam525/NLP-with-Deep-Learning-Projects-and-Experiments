{
  "nbformat": 4,
  "nbformat_minor": 0,
  "metadata": {
    "colab": {
      "provenance": [],
      "gpuType": "T4"
    },
    "kernelspec": {
      "name": "python3",
      "display_name": "Python 3"
    },
    "language_info": {
      "name": "python"
    },
    "accelerator": "GPU"
  },
  "cells": [
    {
      "cell_type": "markdown",
      "source": [
        "# 00. PyTorch Fundamentals Exercises\n",
        "* Notebook completed by Adam Lang as a fundamentals review of PyTorch from the great Daniel Bourke's PyTorch for Deep Learning bootcamp.\n",
        "\n",
        "### 1. Documentation reading\n",
        "\n",
        "A big part of deep learning (and learning to code in general) is getting familiar with the documentation of a certain framework you're using. We'll be using the PyTorch documentation a lot throughout the rest of this course. So I'd recommend spending 10-minutes reading the following (it's okay if you don't get some things for now, the focus is not yet full understanding, it's awareness):\n",
        "  * The documentation on [`torch.Tensor`](https://pytorch.org/docs/stable/tensors.html#torch-tensor).\n",
        "  * The documentation on [`torch.cuda`](https://pytorch.org/docs/master/notes/cuda.html#cuda-semantics).\n",
        "\n"
      ],
      "metadata": {
        "id": "AzDBM_v4iMe7"
      }
    },
    {
      "cell_type": "code",
      "source": [
        "# No code solution (reading)"
      ],
      "metadata": {
        "id": "bGD0oD8Kizak"
      },
      "execution_count": null,
      "outputs": []
    },
    {
      "cell_type": "markdown",
      "source": [
        "### 2. Create a random tensor with shape `(7, 7)`.\n"
      ],
      "metadata": {
        "id": "__iXqqz-ioUJ"
      }
    },
    {
      "cell_type": "code",
      "source": [
        "# Import torch\n",
        "import torch\n",
        "\n",
        "\n",
        "# Create random tensor\n",
        "random_tensor = torch.rand(3,4)\n",
        "random_tensor"
      ],
      "metadata": {
        "id": "6pUq9Dc8i2L7",
        "colab": {
          "base_uri": "https://localhost:8080/"
        },
        "outputId": "7755ef63-7d9b-41b5-c934-f04ca14dd19e"
      },
      "execution_count": null,
      "outputs": [
        {
          "output_type": "execute_result",
          "data": {
            "text/plain": [
              "tensor([[0.6166, 0.1430, 0.7448, 0.1084],\n",
              "        [0.2052, 0.5265, 0.3747, 0.6748],\n",
              "        [0.9046, 0.8960, 0.7379, 0.2403]])"
            ]
          },
          "metadata": {},
          "execution_count": 3
        }
      ]
    },
    {
      "cell_type": "markdown",
      "source": [
        "### 3. Perform a matrix multiplication on the tensor from 2 with another random tensor with shape `(1, 7)` (hint: you may have to transpose the second tensor)."
      ],
      "metadata": {
        "id": "9-XxvRLfiqkR"
      }
    },
    {
      "cell_type": "code",
      "source": [
        "# Create another random tensor\n",
        "random_tensor_2 = torch.rand(3,4)\n",
        "random_tensor_2\n",
        "\n",
        "\n",
        "## get shapes of tensors\n",
        "print(f\"Shape of random_tensor: {random_tensor.shape}\")\n",
        "print(f\"Shape of random_tensor_2: {random_tensor_2.shape}\")"
      ],
      "metadata": {
        "id": "NcLqR0Sbi_vT",
        "colab": {
          "base_uri": "https://localhost:8080/"
        },
        "outputId": "d2c09022-505c-4301-d575-ffe1ef265f95"
      },
      "execution_count": null,
      "outputs": [
        {
          "output_type": "stream",
          "name": "stdout",
          "text": [
            "Shape of random_tensor: torch.Size([3, 4])\n",
            "Shape of random_tensor_2: torch.Size([3, 4])\n"
          ]
        }
      ]
    },
    {
      "cell_type": "markdown",
      "source": [
        "We have 2 tensors: `(3,4)` and `(3,4`)\n",
        "\n",
        "In order to matmul them we need to flip 1 so the inner dimensions match so we would get: `(3,4)` and (`4,3`)\n",
        "\n",
        "The resulting shape should then be 3,3 the outer dimension"
      ],
      "metadata": {
        "id": "iuQpP7W3u7PM"
      }
    },
    {
      "cell_type": "code",
      "source": [
        "## create transposed tensor\n",
        "trans_tensor = random_tensor.T\n",
        "trans_tensor.shape"
      ],
      "metadata": {
        "colab": {
          "base_uri": "https://localhost:8080/"
        },
        "id": "eKvMtPv1vR3I",
        "outputId": "faaa81ff-54cb-4ed9-8781-ba9199d29f02"
      },
      "execution_count": null,
      "outputs": [
        {
          "output_type": "execute_result",
          "data": {
            "text/plain": [
              "torch.Size([4, 3])"
            ]
          },
          "metadata": {},
          "execution_count": 9
        }
      ]
    },
    {
      "cell_type": "code",
      "source": [
        "# Perform matrix multiplication  -- transpose!\n",
        "mm_tensor = torch.matmul(trans_tensor, random_tensor_2)\n",
        "mm_tensor"
      ],
      "metadata": {
        "colab": {
          "base_uri": "https://localhost:8080/"
        },
        "id": "f6xszVQ8uhvq",
        "outputId": "b8e8e59e-0bb4-421c-fdb6-5e36e3b6a321"
      },
      "execution_count": null,
      "outputs": [
        {
          "output_type": "execute_result",
          "data": {
            "text/plain": [
              "tensor([[0.8888, 0.8748, 0.8934, 0.3712],\n",
              "        [0.5973, 0.6794, 0.4405, 0.3005],\n",
              "        [1.0835, 0.9122, 0.9715, 0.4134],\n",
              "        [0.5325, 0.3687, 0.2051, 0.2086]])"
            ]
          },
          "metadata": {},
          "execution_count": 10
        }
      ]
    },
    {
      "cell_type": "code",
      "source": [
        "## shape of new tensor\n",
        "mm_tensor.shape"
      ],
      "metadata": {
        "colab": {
          "base_uri": "https://localhost:8080/"
        },
        "id": "fRs2XHdQu3zc",
        "outputId": "297ff2d6-28ee-4fad-f750-cf4c6dfeb11d"
      },
      "execution_count": null,
      "outputs": [
        {
          "output_type": "execute_result",
          "data": {
            "text/plain": [
              "torch.Size([4, 4])"
            ]
          },
          "metadata": {},
          "execution_count": 11
        }
      ]
    },
    {
      "cell_type": "markdown",
      "source": [
        "### 4. Set the random seed to `0` and do 2 & 3 over again.\n",
        "\n",
        "The output should be:\n",
        "```\n",
        "(tensor([[1.8542],\n",
        "         [1.9611],\n",
        "         [2.2884],\n",
        "         [3.0481],\n",
        "         [1.7067],\n",
        "         [2.5290],\n",
        "         [1.7989]]), torch.Size([7, 1]))\n",
        "```"
      ],
      "metadata": {
        "id": "eiutdKUFiryU"
      }
    },
    {
      "cell_type": "code",
      "source": [
        "# Set manual seed\n",
        "RANDOM_SEED = 42\n",
        "torch.manual_seed(RANDOM_SEED)\n",
        "\n",
        "# Create two random tensors\n",
        "rand_tensor_A = torch.rand(4,6)\n",
        "rand_tensor_B = torch.rand(6,4)\n",
        "\n",
        "# Matrix multiply tensors\n",
        "mm_2 = torch.matmul(rand_tensor_A, rand_tensor_B)\n",
        "mm_2"
      ],
      "metadata": {
        "id": "D-lOWI_1jRMm",
        "colab": {
          "base_uri": "https://localhost:8080/"
        },
        "outputId": "7fb03083-1ba1-432f-de85-489fdc512f06"
      },
      "execution_count": null,
      "outputs": [
        {
          "output_type": "execute_result",
          "data": {
            "text/plain": [
              "tensor([[2.2090, 1.6453, 2.5999, 1.6066],\n",
              "        [2.4330, 1.2507, 2.3709, 2.1519],\n",
              "        [2.3215, 1.5424, 2.4222, 2.1389],\n",
              "        [1.7100, 0.9742, 1.8954, 1.2408]])"
            ]
          },
          "metadata": {},
          "execution_count": 12
        }
      ]
    },
    {
      "cell_type": "markdown",
      "source": [
        "### 5. Speaking of random seeds, we saw how to set it with `torch.manual_seed()` but is there a GPU equivalent? (hint: you'll need to look into the documentation for `torch.cuda` for this one)\n",
        "  * If there is, set the GPU random seed to `1234`."
      ],
      "metadata": {
        "id": "ezY6ks9Cis37"
      }
    },
    {
      "cell_type": "code",
      "source": [
        "# Set random seed on the GPU\n",
        "import torch\n",
        "\n",
        "seed = 42\n",
        "\n",
        "# Set the random seed for PyTorch CPU operations\n",
        "torch.manual_seed(seed)\n",
        "\n",
        "# If you are using CUDA, set the random seed for GPU operations\n",
        "if torch.cuda.is_available():\n",
        "  torch.cuda.manual_seed(seed)\n",
        "  torch.cuda.manual_seed_all(seed)\n",
        "\n",
        "# Set the deterministic flag for CuDNN (for deterministic behavior in some operations)\n",
        "torch.backends.cudnn.deterministic = True\n",
        "torch.backends.cudnn.benchmark = False"
      ],
      "metadata": {
        "id": "_LKWcfSTjp00"
      },
      "execution_count": null,
      "outputs": []
    },
    {
      "cell_type": "markdown",
      "source": [
        "\n",
        "### 6. Create two random tensors of shape `(2, 3)` and send them both to the GPU (you'll need access to a GPU for this). Set `torch.manual_seed(1234)` when creating the tensors (this doesn't have to be the GPU random seed). The output should be something like:\n",
        "\n",
        "```\n",
        "Device: cuda\n",
        "(tensor([[0.0290, 0.4019, 0.2598],\n",
        "         [0.3666, 0.0583, 0.7006]], device='cuda:0'),\n",
        " tensor([[0.0518, 0.4681, 0.6738],\n",
        "         [0.3315, 0.7837, 0.5631]], device='cuda:0'))\n",
        "```"
      ],
      "metadata": {
        "id": "Ir9qSaj6it4n"
      }
    },
    {
      "cell_type": "code",
      "source": [
        "# Set random seed\n",
        "RANDOM_SEED = 42\n",
        "torch.manual_seed(1234)\n",
        "\n",
        "# Check for access to GPU\n",
        "device = torch.device(\"cuda\" if torch.cuda.is_available() else \"cpu\")\n",
        "device\n",
        "\n",
        "# Create two random tensors on GPU\n",
        "rand_tensor = torch.rand(3,4).to(device)\n",
        "rand_tensor_b = torch.rand(3,4).to(device)\n",
        "\n",
        "print(rand_tensor)\n",
        "print(rand_tensor_b)"
      ],
      "metadata": {
        "id": "azXExiFZj5nm",
        "colab": {
          "base_uri": "https://localhost:8080/"
        },
        "outputId": "89e5d952-b47c-4a1f-b06c-a6f49fef3230"
      },
      "execution_count": null,
      "outputs": [
        {
          "output_type": "stream",
          "name": "stdout",
          "text": [
            "tensor([[0.0290, 0.4019, 0.2598, 0.3666],\n",
            "        [0.0583, 0.7006, 0.0518, 0.4681],\n",
            "        [0.6738, 0.3315, 0.7837, 0.5631]])\n",
            "tensor([[0.7749, 0.8208, 0.2793, 0.6817],\n",
            "        [0.2837, 0.6567, 0.2388, 0.7313],\n",
            "        [0.6012, 0.3043, 0.2548, 0.6294]])\n"
          ]
        }
      ]
    },
    {
      "cell_type": "markdown",
      "source": [
        "\n",
        "### 7. Perform a matrix multiplication on the tensors you created in 6 (again, you may have to adjust the shapes of one of the tensors).\n",
        "\n",
        "The output should look like:\n",
        "```\n",
        "(tensor([[0.3647, 0.4709],\n",
        "         [0.5184, 0.5617]], device='cuda:0'), torch.Size([2, 2]))\n",
        "```"
      ],
      "metadata": {
        "id": "5TlAxeiSiu1y"
      }
    },
    {
      "cell_type": "code",
      "source": [
        "# Perform matmul on tensor_A and tensor_B\n",
        "mm_tensor = torch.matmul(rand_tensor.T, rand_tensor_b)\n",
        "mm_tensor"
      ],
      "metadata": {
        "id": "fAeG7ox0lHEO",
        "colab": {
          "base_uri": "https://localhost:8080/"
        },
        "outputId": "d487cb25-6081-422b-a756-68d8071c6ad0"
      },
      "execution_count": null,
      "outputs": [
        {
          "output_type": "execute_result",
          "data": {
            "text/plain": [
              "tensor([[0.4441, 0.2671, 0.1937, 0.4865],\n",
              "        [0.7094, 0.8909, 0.3640, 0.9950],\n",
              "        [0.6872, 0.4858, 0.2846, 0.7083],\n",
              "        [0.7554, 0.7797, 0.3576, 0.9467]])"
            ]
          },
          "metadata": {},
          "execution_count": 16
        }
      ]
    },
    {
      "cell_type": "markdown",
      "source": [
        "### 8. Find the maximum and minimum values of the output of 7."
      ],
      "metadata": {
        "id": "G7qfa5CSivwg"
      }
    },
    {
      "cell_type": "code",
      "source": [
        "# Find max\n",
        "max_result = torch.max(mm_tensor)\n",
        "\n",
        "# Find min\n",
        "min_result = torch.min(mm_tensor)\n",
        "\n",
        "## print results\n",
        "min_result, max_result"
      ],
      "metadata": {
        "id": "Fu8_3mZpllOd",
        "colab": {
          "base_uri": "https://localhost:8080/"
        },
        "outputId": "ddaefd17-1fbc-41fe-e039-4d172afe172f"
      },
      "execution_count": null,
      "outputs": [
        {
          "output_type": "execute_result",
          "data": {
            "text/plain": [
              "(tensor(0.1937), tensor(0.9950))"
            ]
          },
          "metadata": {},
          "execution_count": 19
        }
      ]
    },
    {
      "cell_type": "markdown",
      "source": [
        "### 9. Find the maximum and minimum index values of the output of 7."
      ],
      "metadata": {
        "id": "wrTj5FgNiw47"
      }
    },
    {
      "cell_type": "code",
      "source": [
        "mm_tensor"
      ],
      "metadata": {
        "colab": {
          "base_uri": "https://localhost:8080/"
        },
        "id": "0S_-BCWJz84s",
        "outputId": "94e01161-e1b5-4b23-ea07-4784ad7c69ff"
      },
      "execution_count": null,
      "outputs": [
        {
          "output_type": "execute_result",
          "data": {
            "text/plain": [
              "tensor([[0.4441, 0.2671, 0.1937, 0.4865],\n",
              "        [0.7094, 0.8909, 0.3640, 0.9950],\n",
              "        [0.6872, 0.4858, 0.2846, 0.7083],\n",
              "        [0.7554, 0.7797, 0.3576, 0.9467]])"
            ]
          },
          "metadata": {},
          "execution_count": 20
        }
      ]
    },
    {
      "cell_type": "code",
      "source": [
        "# Find arg max\n",
        "arg_max_res = torch.argmax(mm_tensor)\n",
        "\n",
        "# Find arg min\n",
        "arg_min_res = torch.argmin(mm_tensor)\n",
        "\n",
        "\n",
        "## results\n",
        "arg_max_res, arg_min_res"
      ],
      "metadata": {
        "id": "CCEKt4K2lsfQ",
        "colab": {
          "base_uri": "https://localhost:8080/"
        },
        "outputId": "ae19b6c5-e90e-4465-c621-476c5b257784"
      },
      "execution_count": null,
      "outputs": [
        {
          "output_type": "execute_result",
          "data": {
            "text/plain": [
              "(tensor(7), tensor(2))"
            ]
          },
          "metadata": {},
          "execution_count": 21
        }
      ]
    },
    {
      "cell_type": "markdown",
      "source": [
        "\n",
        "### 10. Make a random tensor with shape `(1, 1, 1, 10)` and then create a new tensor with all the `1` dimensions removed to be left with a tensor of shape `(10)`. Set the seed to `7` when you create it and print out the first tensor and it's shape as well as the second tensor and it's shape.\n",
        "\n",
        "The output should look like:\n",
        "\n",
        "```\n",
        "tensor([[[[0.5349, 0.1988, 0.6592, 0.6569, 0.2328, 0.4251, 0.2071, 0.6297,\n",
        "           0.3653, 0.8513]]]]) torch.Size([1, 1, 1, 10])\n",
        "tensor([0.5349, 0.1988, 0.6592, 0.6569, 0.2328, 0.4251, 0.2071, 0.6297, 0.3653,\n",
        "        0.8513]) torch.Size([10])\n",
        "```"
      ],
      "metadata": {
        "id": "hmeybz4uixy7"
      }
    },
    {
      "cell_type": "code",
      "source": [
        "# Set seed\n",
        "seed = 42\n",
        "\n",
        "# Create random tensor\n",
        "rand_tensor = torch.rand([1,1,1,10])\n",
        "\n",
        "# Remove single dimensions\n",
        "new_tensor = torch.squeeze(rand_tensor)\n",
        "\n",
        "# Print out tensors and their shapes\n",
        "rand_tensor.shape, new_tensor.shape"
      ],
      "metadata": {
        "id": "TQ9zbRzVl1jV",
        "colab": {
          "base_uri": "https://localhost:8080/"
        },
        "outputId": "9b821711-bfbb-4c87-d54a-d656d6ebfd2d"
      },
      "execution_count": null,
      "outputs": [
        {
          "output_type": "execute_result",
          "data": {
            "text/plain": [
              "(torch.Size([1, 1, 1, 10]), torch.Size([10]))"
            ]
          },
          "metadata": {},
          "execution_count": 23
        }
      ]
    },
    {
      "cell_type": "code",
      "source": [],
      "metadata": {
        "id": "2bV2d5kO0waI"
      },
      "execution_count": null,
      "outputs": []
    }
  ]
}