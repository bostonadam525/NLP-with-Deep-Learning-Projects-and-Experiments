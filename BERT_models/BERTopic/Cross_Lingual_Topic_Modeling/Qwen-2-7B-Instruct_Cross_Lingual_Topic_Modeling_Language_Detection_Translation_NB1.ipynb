{
 "cells": [
  {
   "cell_type": "markdown",
   "id": "86796498-b149-44f2-93cd-99d042b5d77f",
   "metadata": {},
   "source": [
    "# Qwen-2.5-7B-Instruct - Cross Lingual Topic Modeling - Notebook 1 - Language Detection & Translation\n",
    "* Notebook by Adam Lang\n",
    "* Date: 2/6/2025\n",
    "\n",
    "\n",
    "# Overview of this notebook\n",
    "1. Data Analysis and Wrangling\n",
    "2. Language Detection & Translation\n",
    "3. Embeddings creation and export to parquet file\n",
    "\n",
    "Note: Originally the topic modeling was going to be performed in this notebook but due to the fact that I used the \"fireducks\" library it isnt compatibile with BERTopic and Qwen-2.5 LLM. So the topic modeling is in another notebook."
   ]
  },
  {
   "cell_type": "markdown",
   "id": "8254e746-6581-42e6-b1ca-b52658a828fc",
   "metadata": {},
   "source": [
    "# Background\n",
    "* 1. Topic modeling is a very common technique used for extracting meaningful insights and modeling data in any industry or domain.\n",
    "\n",
    "* 2. Cross-lingual topic modeling is a common multi-step NLP problem when handling multilingual data.\n",
    "    * Currently the process of working with multilingual data may include the following:\n",
    "         * 1) Language detection → \n",
    "         * 2) Language Translation → \n",
    "         * 3) Topic modeling (e.g. BERTopic) → \n",
    "         * 4) Using an LLM to transform topics into “more interpretable” terminology → \n",
    "         * 5) Creating Data Visualizations to present the Topics to Customers\n",
    "\n",
    "* However, I have developed a technique that leverages various transformer models and a multilingual open source LLM and multilingual embedding model to perform more robust Topic Modeling.\n",
    "\n",
    "* While this process still involves language detection and translation as a pre-processing step, we can leverage the LLM as a checks and balances for the preprocessing language detection and translation tasks."
   ]
  },
  {
   "cell_type": "markdown",
   "id": "d01a1e43-bc5c-4774-9ba7-cafa5094b39c",
   "metadata": {},
   "source": [
    "# Workflow\n",
    "1. Topic Modeling\n",
    "    * We will perform topic modeling using BERTopic and a multilingual LLM as well as extracting keywords using KeyBERT and also MMR (maximal marginal relevance).\n",
    "\n",
    "2. Data Visualization\n",
    "    * We will experiment with some robust data visualization techniques. \n",
    "\n"
   ]
  },
  {
   "cell_type": "markdown",
   "id": "77cc0f3d-a15e-4bdf-b17a-7d09e4ceba6d",
   "metadata": {},
   "source": [
    "# Introduction\n",
    "* Usually, the standard workflow for BERTopic when Topic Modeling is:\n",
    "\n",
    "1. Embedding your documents\n",
    "2. Reducing the dimensionality of embeddings (e.g. UMAP)\n",
    "3. Cluster reduced embeddings (e.g. HDBSCAN)\n",
    "4. Tokenize documents per cluster\n",
    "5. Extract best-representing words per cluster\n"
   ]
  },
  {
   "cell_type": "markdown",
   "id": "ff42c5ea-7d11-405b-b468-77222af2031d",
   "metadata": {},
   "source": [
    "# Reasoning for using LLMs\n",
    "* While BERTopic and other related models are great for easy analysis and extraction of topics, they often are **\"not interpretable\" and require more human interaction to make them interpretable.**\n",
    "* Quite often BERTopic will give us an output topic such as: \"car-car-store\"\n",
    "    * We could assume this topic is about cars and going to the store but it is very OPEN to interpretation.\n",
    "    * This is where an LLM like LLAMA or Qwen-2.5 can help us produce more interpretable topic names with keywords to better represent the underlying clusters of data.\n",
    "* In particular, I will leverage an open-source LLM called Qwen-2.\n",
    "    * One of Qwen-2's standout features is its **multilingual capabilities**.\n",
    "    * **Thus we can use this model for cross-lingual topic modeling taking advantage of its robust abilities to handle multi-lingual and cross-lingual detection and translation.**\n",
    "    * Qwen-2 has been trained on data spanning an **impressive 27 additional languages**.\n",
    "    * This multilingual training regimen includes languages from diverse regions such as Western Europe, Eastern and Central Europe, the Middle East , Eastern Asia and Southern Asia.\n",
    "    * The main reason we are going to use Qwen-2 is its performance on the MMLU which as a multi-lingual benchmark, it outperforms Llama-3 and Mistral among others in tasks such as the \"Needle in a Haystack Problem.\"\n",
    " \n",
    "# Multilingual Embeddings\n",
    "* I am going to use the LLM for cross-lingual topic modeling, thus as part of the pipeline I need to use embeddings.\n",
    "* You can use ANY embedding model that you want to, here we will use a `SentenceTransformer` model implementation.\n",
    "* However, because we are dealing with multilingual text, I am going to use a multilingual embedding model that has performed well on text clustering and classification tasks which is what we are trying to do.\n",
    " \n",
    "* Embedding Model I am using: `BAAI/bge-m3`\n",
    "* Model card: https://huggingface.co/BAAI/bge-m3\n",
    "* Reasons for using this model:\n",
    "1) Handles long context windows up to 8192 tokens.\n",
    "2) Multilingual support\n",
    "3) Is able to handle 3 common retrieval functionalities of embedding models:\n",
    "    * dense retrieval\n",
    "    * multi-vector retrieval\n",
    "    * sparse retrieval\n",
    "\n",
    "* Future Models to test against this model:\n",
    "  * 1) `jinaai/jina-embeddings-v3`\n",
    "    2) `Snowflake/snowflake-arctic-embed-m`"
   ]
  },
  {
   "cell_type": "markdown",
   "id": "c24f9668-ec1f-4ea3-ad6a-2cff2a1df7da",
   "metadata": {},
   "source": [
    "# Dependencies\n",
    "* These are the main dependencies for topic modeling.\n",
    "\n",
    "1. `bertopic`\n",
    "    * for topic modeling\n",
    "\n",
    "2. `accelerate`\n",
    "    * huggingface library for speeding up and optimizing run-time for LLMs and transformers.\n",
    "\n",
    "3. `bitsandbytes`\n",
    "    * Used for quantization of embeddings and LLMs\n",
    "\n",
    "4. `xformers`\n",
    "    * aims to improve the efficiency and memory usage of Transformers, making it possible to train larger models and handle longer sequences of data.\n",
    "\n",
    "5. `adjustText`\n",
    "    * A library to help you adjust text positions on matplotlib plots to remove or minimize overlaps with each other and data points"
   ]
  },
  {
   "cell_type": "markdown",
   "id": "c9b5dee7-e650-4313-9b87-8c858df2ac91",
   "metadata": {},
   "source": [
    "# Code Needed to Work with AWS SageMaker"
   ]
  },
  {
   "cell_type": "code",
   "execution_count": 1,
   "id": "9d94d206-dba6-4181-8012-258251a86b03",
   "metadata": {},
   "outputs": [],
   "source": [
    "%%capture \n",
    "!pip install fireducks"
   ]
  },
  {
   "cell_type": "code",
   "execution_count": 2,
   "id": "822d01fa-e93f-4044-9675-b538cfba93fa",
   "metadata": {},
   "outputs": [],
   "source": [
    "%%capture \n",
    "!pip install einops"
   ]
  },
  {
   "cell_type": "code",
   "execution_count": 3,
   "id": "aa3010b6-aea4-4c6f-836d-21bf09239e6c",
   "metadata": {},
   "outputs": [],
   "source": [
    "%%capture \n",
    "!pip install --upgrade pandas fsspec # sagemaker dependency"
   ]
  },
  {
   "cell_type": "code",
   "execution_count": 4,
   "id": "ab3c899a-2ea8-44dc-bade-44b603f0c2fd",
   "metadata": {},
   "outputs": [],
   "source": [
    "%%capture \n",
    "!pip install seaborn\n",
    "!pip install s3fs #sagemaker dependency"
   ]
  },
  {
   "cell_type": "code",
   "execution_count": 5,
   "id": "f3a09406-a92b-4403-99f5-6a3f8f9d4543",
   "metadata": {},
   "outputs": [],
   "source": [
    "%%capture  \n",
    "## upgrade accelerate to use device_map \n",
    "!pip install --upgrade accelerate ## this is for compatability with `bitsandbytes` \n",
    "\n"
   ]
  },
  {
   "cell_type": "code",
   "execution_count": 6,
   "id": "2aff4cd2-0214-4e47-b002-752151adfc8b",
   "metadata": {},
   "outputs": [
    {
     "name": "stdout",
     "output_type": "stream",
     "text": [
      "Accelerate version: 1.3.0\n"
     ]
    }
   ],
   "source": [
    "## check accelerate version after upgrade\n",
    "import accelerate\n",
    "print(f\"Accelerate version: {accelerate.__version__}\") \n"
   ]
  },
  {
   "cell_type": "markdown",
   "id": "0e0d145d-c406-4af6-a46b-162e881e93c4",
   "metadata": {},
   "source": [
    "## Main Dependencies for this project"
   ]
  },
  {
   "cell_type": "code",
   "execution_count": 7,
   "id": "8855afac-0516-48dc-a124-26f716c453a7",
   "metadata": {},
   "outputs": [],
   "source": [
    "%%capture\n",
    "!pip install bertopic datasets bitsandbytes xformers adjustText # make sure to install ALL\n"
   ]
  },
  {
   "cell_type": "code",
   "execution_count": 8,
   "id": "4149facc-25a4-477a-9f65-8af6782e2e83",
   "metadata": {},
   "outputs": [],
   "source": [
    "%%capture \n",
    "## upgrade torchvision\n",
    "!pip install --upgrade torchvision # if you need to upgrade torchvision run this line\n",
    "!pip install --upgrade torch #upgrade torch version\n",
    "\n"
   ]
  },
  {
   "cell_type": "markdown",
   "id": "cd2a8929-4f02-4d94-8d66-ef9014ac6123",
   "metadata": {},
   "source": [
    "**Note: You will have to restart the kernel after running cells above, then proceed below.**"
   ]
  },
  {
   "cell_type": "code",
   "execution_count": 1,
   "id": "28a343c1-b1a6-446b-becd-07a58c04b6de",
   "metadata": {},
   "outputs": [
    {
     "name": "stdout",
     "output_type": "stream",
     "text": [
      "PyTorch version: 2.6.0+cu124\n",
      "Torchvision version: 0.21.0+cu124\n"
     ]
    }
   ],
   "source": [
    "# check versions of torch available\n",
    "import torch\n",
    "import torchvision \n",
    "\n",
    "# print versions\n",
    "print(f\"PyTorch version: {torch.__version__}\") \n",
    "print(f\"Torchvision version: {torchvision.__version__}\")"
   ]
  },
  {
   "cell_type": "markdown",
   "id": "9a3f1e6d-4f19-4bbb-8a2f-43fe9fb7aa5a",
   "metadata": {},
   "source": [
    "## Check if GPU is available"
   ]
  },
  {
   "cell_type": "code",
   "execution_count": 2,
   "id": "a6db5ffc-be91-4895-ad00-eea0a94059a5",
   "metadata": {},
   "outputs": [
    {
     "name": "stdout",
     "output_type": "stream",
     "text": [
      "Using device: cuda\n"
     ]
    }
   ],
   "source": [
    "# check if GPU is available \n",
    "device = torch.device(\"cuda\" if torch.cuda.is_available() else \"cpu\") \n",
    "print(f\"Using device: {device}\")\n",
    "\n",
    "# set device for PyTorch operations\n",
    "if device.type == \"cuda\":\n",
    "    torch.cuda.set_device(0) # you can use a different device ID if you have multiple GPUs running\n"
   ]
  },
  {
   "cell_type": "markdown",
   "id": "54e4c0d3-de34-4bb3-aec6-3bf6fb9fce56",
   "metadata": {},
   "source": [
    "# Install Standard Data Science Dependencies"
   ]
  },
  {
   "cell_type": "code",
   "execution_count": 3,
   "id": "e7683712-39e1-4699-95ae-a3cb9d828ef8",
   "metadata": {},
   "outputs": [],
   "source": [
    "## standard Data Science imports\n",
    "#%load_ext fireducks.pandas\n",
    "import pandas as pd\n",
    "## using fireducks explicit\n",
    "#import fireducks.pandas as pd\n",
    "import numpy as np\n",
    "\n",
    "## plotting\n",
    "import matplotlib.pyplot as plt\n",
    "import matplotlib as mpl\n",
    "from IPython.display import HTML\n",
    "import seaborn as sns\n",
    "\n",
    "## other tools\n",
    "#import response_compare\n",
    "import re\n",
    "import functools\n",
    "from copy import deepcopy\n",
    "#import chardet\n",
    "import html #for non ascii detection\n",
    "\n",
    "## transformers and huggingface\n",
    "import transformers\n",
    "#from sentence_transformers import SentenceTransformer, util\n",
    "import torch\n",
    "import torchvision ## to use Qwen\n",
    "import huggingface_hub\n",
    "\n",
    "## tqdm and pandas\n",
    "from tqdm.auto import tqdm\n",
    "tqdm.pandas(leave=False)\n",
    "#from hashlib import sha256\n"
   ]
  },
  {
   "cell_type": "markdown",
   "id": "6e17c548-9c7c-4110-936e-ee360f67ba5f",
   "metadata": {},
   "source": [
    "# Load Data from AWS S3 bucket\n",
    "* Load both files from S3 bucket to SageMaker"
   ]
  },
  {
   "cell_type": "code",
   "execution_count": null,
   "id": "1fb93f9e-4deb-4c14-aea0-14e72f3618f3",
   "metadata": {},
   "outputs": [],
   "source": [
    "import boto3\n",
    "import pandas as pd\n",
    "from sagemaker import get_execution_role\n",
    "\n",
    "# Create S3 client\n",
    "conn = boto3.client('s3')\n",
    "\n",
    "# S3 bucket name\n",
    "bucket = '<name of your bucket>'\n",
    "\n",
    "# Folder path in the S3 bucket\n",
    "folder_path = ',name_of_path/>'\n",
    "\n",
    "# CSV file names\n",
    "file1 = 'file_1.csv'\n",
    "file2 = 'file_2.csv'  \n",
    "\n",
    "# Construct the full S3 URIs\n",
    "data_location1 = f's3://{bucket}/{folder_path}{file1}'\n",
    "data_location2 = f's3://{bucket}/{folder_path}{file2}'\n",
    "\n",
    "# Function to load CSV and handle errors\n",
    "def load_csv_from_s3(data_location):\n",
    "    try:\n",
    "        df = pd.read_csv(data_location)\n",
    "        print(f\"Successfully loaded: {data_location}\")\n",
    "        return df\n",
    "    except Exception as e:\n",
    "        print(f\"An error occurred while loading {data_location}: {e}\")\n",
    "        return None\n",
    "\n",
    "# Load the DataFrames\n",
    "df_awards = load_csv_from_s3(data_location1)\n",
    "df_people = load_csv_from_s3(data_location2)\n",
    "\n",
    "# Print the heads of the DataFrames if they were successfully loaded\n",
    "if df_awards is not None:\n",
    "    print(\"\\nFirst 5 rows of df_1:\")\n",
    "    print(df_awards.head())\n",
    "\n",
    "if df_people is not None:\n",
    "    print(\"\\nFirst 5 rows of df_2:\")\n",
    "    print(df_people.head())\n",
    "\n",
    "# If there were errors, list the contents of the folder\n",
    "if df_1 is None or df_2 is None:\n",
    "    print(\"\\nListing contents of the S3 folder:\")\n",
    "    response = conn.list_objects_v2(Bucket=bucket, Prefix=folder_path)\n",
    "    \n",
    "    if 'Contents' in response:\n",
    "        for obj in response['Contents']:\n",
    "            print(obj['Key'])\n",
    "    else:\n",
    "        print(\"No files found in the specified S3 location.\")"
   ]
  },
  {
   "cell_type": "markdown",
   "id": "681b7f0a-5608-4941-91fe-a3c9c15ceb1b",
   "metadata": {},
   "source": [
    "# Local Data Upload if not using S3 on AWS"
   ]
  },
  {
   "cell_type": "code",
   "execution_count": 4,
   "id": "ca20a9ab-ab94-42c3-bff6-f7a7eb3dd2b1",
   "metadata": {},
   "outputs": [
    {
     "data": {
      "text/html": [
       "<div>\n",
       "<style scoped>\n",
       "    .dataframe tbody tr th:only-of-type {\n",
       "        vertical-align: middle;\n",
       "    }\n",
       "\n",
       "    .dataframe tbody tr th {\n",
       "        vertical-align: top;\n",
       "    }\n",
       "\n",
       "    .dataframe thead th {\n",
       "        text-align: right;\n",
       "    }\n",
       "</style>\n",
       "<table border=\"1\" class=\"dataframe\">\n",
       "  <thead>\n",
       "    <tr style=\"text-align: right;\">\n",
       "      <th></th>\n",
       "      <th>rec_id</th>\n",
       "      <th>nom_id</th>\n",
       "      <th>award_id</th>\n",
       "      <th>ah_id</th>\n",
       "      <th>link_id</th>\n",
       "      <th>group_id</th>\n",
       "      <th>award_private</th>\n",
       "      <th>product_id</th>\n",
       "      <th>award_type</th>\n",
       "      <th>award_reason</th>\n",
       "      <th>title</th>\n",
       "      <th>message</th>\n",
       "      <th>award_date</th>\n",
       "      <th>value</th>\n",
       "      <th>remaining_value</th>\n",
       "    </tr>\n",
       "  </thead>\n",
       "  <tbody>\n",
       "    <tr>\n",
       "      <th>0</th>\n",
       "      <td>8233964</td>\n",
       "      <td>8234230</td>\n",
       "      <td>183347810</td>\n",
       "      <td>180686706</td>\n",
       "      <td>NaN</td>\n",
       "      <td>155345180</td>\n",
       "      <td>0</td>\n",
       "      <td>620</td>\n",
       "      <td>Applaud 2</td>\n",
       "      <td>Make an Impact</td>\n",
       "      <td>Delivering Solid presales support</td>\n",
       "      <td>Kam Wei has been instrumental in helping to cl...</td>\n",
       "      <td>2025-01-01</td>\n",
       "      <td>115.0</td>\n",
       "      <td>115.0</td>\n",
       "    </tr>\n",
       "    <tr>\n",
       "      <th>1</th>\n",
       "      <td>27259573</td>\n",
       "      <td>8234230</td>\n",
       "      <td>183349709</td>\n",
       "      <td>180686745</td>\n",
       "      <td>NaN</td>\n",
       "      <td>155346385</td>\n",
       "      <td>0</td>\n",
       "      <td>620</td>\n",
       "      <td>Applaud 2</td>\n",
       "      <td>Lead with Innovation</td>\n",
       "      <td>Strong leader that also contributes in field</td>\n",
       "      <td>Sid is a rare Player-Coach that inspires his c...</td>\n",
       "      <td>2025-01-01</td>\n",
       "      <td>115.0</td>\n",
       "      <td>115.0</td>\n",
       "    </tr>\n",
       "    <tr>\n",
       "      <th>2</th>\n",
       "      <td>8234900</td>\n",
       "      <td>8234230</td>\n",
       "      <td>183346874</td>\n",
       "      <td>180686686</td>\n",
       "      <td>NaN</td>\n",
       "      <td>155344570</td>\n",
       "      <td>0</td>\n",
       "      <td>620</td>\n",
       "      <td>Applaud 2</td>\n",
       "      <td>Take Ownership</td>\n",
       "      <td>Executing with excellence</td>\n",
       "      <td>Myung Soo rejoined Qlik in August 2024, but qu...</td>\n",
       "      <td>2025-01-01</td>\n",
       "      <td>115.0</td>\n",
       "      <td>115.0</td>\n",
       "    </tr>\n",
       "    <tr>\n",
       "      <th>3</th>\n",
       "      <td>17519186</td>\n",
       "      <td>8234161</td>\n",
       "      <td>180137859</td>\n",
       "      <td>180686680</td>\n",
       "      <td>NaN</td>\n",
       "      <td>152736571</td>\n",
       "      <td>0</td>\n",
       "      <td>620</td>\n",
       "      <td>Applaud 2</td>\n",
       "      <td>Take Ownership</td>\n",
       "      <td>APAC Presales Superstar for November</td>\n",
       "      <td>Congrats, Sean!</td>\n",
       "      <td>2025-01-01</td>\n",
       "      <td>110.5</td>\n",
       "      <td>110.5</td>\n",
       "    </tr>\n",
       "    <tr>\n",
       "      <th>4</th>\n",
       "      <td>9943897</td>\n",
       "      <td>8234230</td>\n",
       "      <td>183351071</td>\n",
       "      <td>180686682</td>\n",
       "      <td>NaN</td>\n",
       "      <td>155347328</td>\n",
       "      <td>0</td>\n",
       "      <td>620</td>\n",
       "      <td>Applaud 2</td>\n",
       "      <td>Make an Impact</td>\n",
       "      <td>Awesome AE that always delivers</td>\n",
       "      <td>Thank you Jason for being persistent and consi...</td>\n",
       "      <td>2025-01-01</td>\n",
       "      <td>115.0</td>\n",
       "      <td>115.0</td>\n",
       "    </tr>\n",
       "  </tbody>\n",
       "</table>\n",
       "</div>"
      ]
     },
     "metadata": {},
     "output_type": "display_data"
    }
   ],
   "source": [
    "## awards.csv\n",
    "df_awards = pd.read_csv('awards.csv')\n",
    "df_awards.head()"
   ]
  },
  {
   "cell_type": "code",
   "execution_count": 5,
   "id": "aa00ad43-fb59-42d7-a7d2-e188dfeaa99e",
   "metadata": {},
   "outputs": [
    {
     "data": {
      "text/html": [
       "<div>\n",
       "<style scoped>\n",
       "    .dataframe tbody tr th:only-of-type {\n",
       "        vertical-align: middle;\n",
       "    }\n",
       "\n",
       "    .dataframe tbody tr th {\n",
       "        vertical-align: top;\n",
       "    }\n",
       "\n",
       "    .dataframe thead th {\n",
       "        text-align: right;\n",
       "    }\n",
       "</style>\n",
       "<table border=\"1\" class=\"dataframe\">\n",
       "  <thead>\n",
       "    <tr style=\"text-align: right;\">\n",
       "      <th></th>\n",
       "      <th>id</th>\n",
       "      <th>uid</th>\n",
       "      <th>is_manager</th>\n",
       "      <th>manager_id</th>\n",
       "      <th>client_id</th>\n",
       "      <th>hire_date</th>\n",
       "      <th>turnover_date</th>\n",
       "      <th>creation_date</th>\n",
       "      <th>country</th>\n",
       "      <th>department</th>\n",
       "      <th>...</th>\n",
       "      <th>customrole_5</th>\n",
       "      <th>performance_rating</th>\n",
       "      <th>performance_rating_id</th>\n",
       "      <th>potential_rating</th>\n",
       "      <th>potential_rating_id</th>\n",
       "      <th>is_familiar</th>\n",
       "      <th>email</th>\n",
       "      <th>cost_centre_id</th>\n",
       "      <th>cost_centre</th>\n",
       "      <th>modified_date</th>\n",
       "    </tr>\n",
       "  </thead>\n",
       "  <tbody>\n",
       "    <tr>\n",
       "      <th>0</th>\n",
       "      <td>14397179</td>\n",
       "      <td>E07392</td>\n",
       "      <td>ic</td>\n",
       "      <td>16702539</td>\n",
       "      <td>480</td>\n",
       "      <td>1/4/21</td>\n",
       "      <td>5/15/22</td>\n",
       "      <td>1/7/21</td>\n",
       "      <td>SPAIN</td>\n",
       "      <td>2000 OpCo Support</td>\n",
       "      <td>...</td>\n",
       "      <td>NaN</td>\n",
       "      <td>NaN</td>\n",
       "      <td>NaN</td>\n",
       "      <td>NaN</td>\n",
       "      <td>NaN</td>\n",
       "      <td>1</td>\n",
       "      <td>grh@qlik.com</td>\n",
       "      <td>2000</td>\n",
       "      <td>2000 OpCo Support</td>\n",
       "      <td>None</td>\n",
       "    </tr>\n",
       "    <tr>\n",
       "      <th>1</th>\n",
       "      <td>13557835</td>\n",
       "      <td>E07225</td>\n",
       "      <td>ic</td>\n",
       "      <td>13887955</td>\n",
       "      <td>480</td>\n",
       "      <td>8/16/20</td>\n",
       "      <td>12/3/21</td>\n",
       "      <td>8/17/20</td>\n",
       "      <td>INDIA</td>\n",
       "      <td>2000 OpCo Support</td>\n",
       "      <td>...</td>\n",
       "      <td>NaN</td>\n",
       "      <td>NaN</td>\n",
       "      <td>NaN</td>\n",
       "      <td>NaN</td>\n",
       "      <td>NaN</td>\n",
       "      <td>1</td>\n",
       "      <td>geu@qlik.com</td>\n",
       "      <td>2000</td>\n",
       "      <td>2000 OpCo Support</td>\n",
       "      <td>None</td>\n",
       "    </tr>\n",
       "    <tr>\n",
       "      <th>2</th>\n",
       "      <td>16140437</td>\n",
       "      <td>E07709</td>\n",
       "      <td>ic</td>\n",
       "      <td>8235160</td>\n",
       "      <td>480</td>\n",
       "      <td>7/5/21</td>\n",
       "      <td>10/2/24</td>\n",
       "      <td>7/7/21</td>\n",
       "      <td>INDIA</td>\n",
       "      <td>2000 OpCo Support</td>\n",
       "      <td>...</td>\n",
       "      <td>NaN</td>\n",
       "      <td>NaN</td>\n",
       "      <td>NaN</td>\n",
       "      <td>NaN</td>\n",
       "      <td>NaN</td>\n",
       "      <td>1</td>\n",
       "      <td>hpc@qlik.com</td>\n",
       "      <td>2000</td>\n",
       "      <td>2000 OpCo Support</td>\n",
       "      <td>10/2/24</td>\n",
       "    </tr>\n",
       "    <tr>\n",
       "      <th>3</th>\n",
       "      <td>16702539</td>\n",
       "      <td>E07732</td>\n",
       "      <td>manager</td>\n",
       "      <td>27258792</td>\n",
       "      <td>480</td>\n",
       "      <td>8/23/21</td>\n",
       "      <td>None</td>\n",
       "      <td>8/25/21</td>\n",
       "      <td>SWITZERLAND</td>\n",
       "      <td>2000 OpCo Support</td>\n",
       "      <td>...</td>\n",
       "      <td>NaN</td>\n",
       "      <td>NaN</td>\n",
       "      <td>NaN</td>\n",
       "      <td>NaN</td>\n",
       "      <td>NaN</td>\n",
       "      <td>1</td>\n",
       "      <td>hqi@qlik.com</td>\n",
       "      <td>2000</td>\n",
       "      <td>2000 OpCo Support</td>\n",
       "      <td>None</td>\n",
       "    </tr>\n",
       "    <tr>\n",
       "      <th>4</th>\n",
       "      <td>21699242</td>\n",
       "      <td>E08491</td>\n",
       "      <td>ic</td>\n",
       "      <td>8233208</td>\n",
       "      <td>480</td>\n",
       "      <td>6/6/22</td>\n",
       "      <td>8/21/22</td>\n",
       "      <td>6/8/22</td>\n",
       "      <td>UNITED STATES</td>\n",
       "      <td>1803 Corp Social Responsibilit</td>\n",
       "      <td>...</td>\n",
       "      <td>NaN</td>\n",
       "      <td>NaN</td>\n",
       "      <td>NaN</td>\n",
       "      <td>NaN</td>\n",
       "      <td>NaN</td>\n",
       "      <td>1</td>\n",
       "      <td>kqb@qlik.com</td>\n",
       "      <td>1803</td>\n",
       "      <td>1803 Corp Social Responsi</td>\n",
       "      <td>None</td>\n",
       "    </tr>\n",
       "  </tbody>\n",
       "</table>\n",
       "<p>5 rows × 57 columns</p>\n",
       "</div>"
      ]
     },
     "metadata": {},
     "output_type": "display_data"
    }
   ],
   "source": [
    "## people.csv\n",
    "df_people = pd.read_csv('people.csv')\n",
    "df_people.head()"
   ]
  },
  {
   "cell_type": "markdown",
   "id": "e5e160e7-f28d-42ae-83d6-f59012d658a5",
   "metadata": {},
   "source": [
    "# Exploratory Data Analysis"
   ]
  },
  {
   "cell_type": "markdown",
   "id": "8294106c-97e6-44b0-a58a-9ccb48935e87",
   "metadata": {},
   "source": [
    "## Awards data EDA"
   ]
  },
  {
   "cell_type": "code",
   "execution_count": 6,
   "id": "a54b53b7-ee21-4e7d-9cbd-b17b5f8319b2",
   "metadata": {},
   "outputs": [
    {
     "name": "stdout",
     "output_type": "stream",
     "text": [
      "<class 'pandas.core.frame.DataFrame'>\n",
      "RangeIndex: 85156 entries, 0 to 85155\n",
      "Data columns (total 15 columns):\n",
      " #   Column           Non-Null Count  Dtype  \n",
      "---  ------           --------------  -----  \n",
      " 0   rec_id           85156 non-null  int64  \n",
      " 1   nom_id           85156 non-null  int64  \n",
      " 2   award_id         85156 non-null  int64  \n",
      " 3   ah_id            85156 non-null  int64  \n",
      " 4   link_id          30115 non-null  float64\n",
      " 5   group_id         85156 non-null  int64  \n",
      " 6   award_private    85156 non-null  int64  \n",
      " 7   product_id       85156 non-null  int64  \n",
      " 8   award_type       85156 non-null  object \n",
      " 9   award_reason     85156 non-null  object \n",
      " 10  title            78110 non-null  object \n",
      " 11  message          78110 non-null  object \n",
      " 12  award_date       85156 non-null  object \n",
      " 13  value            85156 non-null  float64\n",
      " 14  remaining_value  85156 non-null  float64\n",
      "dtypes: float64(3), int64(7), object(5)\n",
      "memory usage: 9.7+ MB\n"
     ]
    }
   ],
   "source": [
    "## info -awards.csv\n",
    "df_awards.info()"
   ]
  },
  {
   "cell_type": "code",
   "execution_count": 7,
   "id": "647c578a-ebba-4c24-b3cd-9bf4f2e4a908",
   "metadata": {},
   "outputs": [
    {
     "data": {
      "text/plain": [
       "Index(['rec_id', 'nom_id', 'award_id', 'ah_id', 'link_id', 'group_id',\n",
       "       'award_private', 'product_id', 'award_type', 'award_reason', 'title',\n",
       "       'message', 'award_date', 'value', 'remaining_value'],\n",
       "      dtype='object')"
      ]
     },
     "execution_count": 7,
     "metadata": {},
     "output_type": "execute_result"
    }
   ],
   "source": [
    "## awards.csv columns\n",
    "df_awards.columns"
   ]
  },
  {
   "cell_type": "code",
   "execution_count": 8,
   "id": "629ae10e-4dd8-4fc6-9055-8539cad44785",
   "metadata": {},
   "outputs": [
    {
     "data": {
      "text/plain": [
       "85156"
      ]
     },
     "execution_count": 8,
     "metadata": {},
     "output_type": "execute_result"
    }
   ],
   "source": [
    "## len of df_awards\n",
    "len(df_awards)"
   ]
  },
  {
   "cell_type": "code",
   "execution_count": 9,
   "id": "68293a53-287f-41c7-9bba-e460470e2031",
   "metadata": {},
   "outputs": [
    {
     "data": {
      "text/plain": [
       "link_id            55041\n",
       "title               7046\n",
       "message             7046\n",
       "rec_id                 0\n",
       "nom_id                 0\n",
       "award_id               0\n",
       "ah_id                  0\n",
       "group_id               0\n",
       "award_private          0\n",
       "product_id             0\n",
       "award_type             0\n",
       "award_reason           0\n",
       "award_date             0\n",
       "value                  0\n",
       "remaining_value        0\n",
       "dtype: int64"
      ]
     },
     "execution_count": 9,
     "metadata": {},
     "output_type": "execute_result"
    }
   ],
   "source": [
    "## check nulls\n",
    "award_null_counts = df_awards.isnull().sum().sort_values(ascending=False)\n",
    "award_null_counts"
   ]
  },
  {
   "cell_type": "code",
   "execution_count": 10,
   "id": "42db19ce-00ac-4f8c-b5b1-3403a3bd5a5f",
   "metadata": {},
   "outputs": [
    {
     "data": {
      "text/plain": [
       "69133"
      ]
     },
     "execution_count": 10,
     "metadata": {},
     "output_type": "execute_result"
    }
   ],
   "source": [
    "award_null_counts.sum()"
   ]
  },
  {
   "cell_type": "markdown",
   "id": "ec631b59-0cdc-41dd-8926-b32b4166c2b0",
   "metadata": {},
   "source": [
    "Summary\n",
    "* It appears that we have 7,046 null values in the `message` column. We will look closer at this issue before we perform any modeling.\n",
    "* It is very likely they are actual null values. If they are null then we will impute them with the string \"no recognition message\".\n",
    "* However, it is also possible some of the nulls can be unicode characters (non-ascii) if they are chinese or another language with unicode characters so we will look for those as well. "
   ]
  },
  {
   "cell_type": "code",
   "execution_count": 11,
   "id": "29d836b9-b2ed-44d6-af2d-acd88d1ce3c1",
   "metadata": {},
   "outputs": [
    {
     "name": "stdout",
     "output_type": "stream",
     "text": [
      "   award_reason               award_type  null_message_count\n",
      "0           YOS        1 Year of Service                2670\n",
      "5           YOS       3 Years of Service                2065\n",
      "9           YOS       5 Years of Service                1440\n",
      "1           YOS      10 Years of Service                 619\n",
      "2           YOS      15 Years of Service                 176\n",
      "3           YOS      20 Years of Service                  25\n",
      "6           YOS  3 Years of Service (NP)                  16\n",
      "10          YOS  5 Years of Service (NP)                  13\n",
      "4           YOS      25 Years of Service                  12\n",
      "7           YOS      30 Years of Service                   8\n",
      "8           YOS      35 Years of Service                   2\n",
      "\n",
      "Detailed Results:\n",
      "   award_reason               award_type  null_message_count  total_count  \\\n",
      "0           YOS        1 Year of Service                2670         2670   \n",
      "5           YOS       3 Years of Service                2065         2065   \n",
      "9           YOS       5 Years of Service                1440         1440   \n",
      "1           YOS      10 Years of Service                 619          619   \n",
      "2           YOS      15 Years of Service                 176          176   \n",
      "3           YOS      20 Years of Service                  25           25   \n",
      "6           YOS  3 Years of Service (NP)                  16           16   \n",
      "10          YOS  5 Years of Service (NP)                  13           13   \n",
      "4           YOS      25 Years of Service                  12           12   \n",
      "7           YOS      30 Years of Service                   8            8   \n",
      "8           YOS      35 Years of Service                   2            2   \n",
      "\n",
      "    percentage_null  \n",
      "0             100.0  \n",
      "5             100.0  \n",
      "9             100.0  \n",
      "1             100.0  \n",
      "2             100.0  \n",
      "3             100.0  \n",
      "6             100.0  \n",
      "10            100.0  \n",
      "4             100.0  \n",
      "7             100.0  \n",
      "8             100.0  \n",
      "CPU times: user 170 ms, sys: 86.6 ms, total: 256 ms\n",
      "Wall time: 54.9 ms\n"
     ]
    }
   ],
   "source": [
    "%%time\n",
    "# Filter for rows where 'message' is null\n",
    "null_messages = df_awards[df_awards['message'].isnull()]\n",
    "\n",
    "# Group by 'award_reason' and 'award_type' for rows with null messages\n",
    "grouped = null_messages.groupby(['award_reason', 'award_type'])\n",
    "\n",
    "# Get the count of null messages for each group\n",
    "result = grouped.size().reset_index(name='null_message_count')\n",
    "\n",
    "# Sort the result by the count of null messages in descending order\n",
    "result_sorted = result.sort_values('null_message_count', ascending=False)\n",
    "\n",
    "# Display the result\n",
    "print(result_sorted)\n",
    "\n",
    "# If you want to see more details, you can also include additional statistics\n",
    "# For example, to see the total count of awards for each group (including non-null messages):\n",
    "total_count = df_awards.groupby(['award_reason', 'award_type']).size().reset_index(name='total_count')\n",
    "result_with_total = result.merge(total_count, on=['award_reason', 'award_type'])\n",
    "result_with_total['percentage_null'] = (result_with_total['null_message_count'] / result_with_total['total_count']) * 100\n",
    "\n",
    "print(\"\\nDetailed Results:\")\n",
    "print(result_with_total.sort_values('null_message_count', ascending=False))"
   ]
  },
  {
   "cell_type": "code",
   "execution_count": 12,
   "id": "a7ae84b9-53d4-4bd9-8392-238a3fd7ab16",
   "metadata": {},
   "outputs": [
    {
     "data": {
      "text/plain": [
       "7046"
      ]
     },
     "execution_count": 12,
     "metadata": {},
     "output_type": "execute_result"
    }
   ],
   "source": [
    "## total null?\n",
    "result_with_total['null_message_count'].sum()"
   ]
  },
  {
   "cell_type": "markdown",
   "id": "1cf42f39-f7d0-4c1c-8b3c-95cbbe40f764",
   "metadata": {},
   "source": [
    "Summary\n",
    "* These are all of the null values.\n",
    "* After talking to Isha and People Analytics we will drop all YOS award types."
   ]
  },
  {
   "cell_type": "code",
   "execution_count": 13,
   "id": "983acf1b-e94b-4e6b-a4d2-ff798b9727bc",
   "metadata": {},
   "outputs": [
    {
     "name": "stderr",
     "output_type": "stream",
     "text": [
      "/usr/local/lib/python3.10/dist-packages/fireducks/pandas/generic.py:779: UserWarning: df2 = df1.copy(deep=False) might not work, when changes made in the data values of 'df2' is expected to be reflected in 'df1'. REF: https://fireducks-dev.github.io/docs/user-guide/04-compatibility/#copydeep--false\n",
      "  warnings.warn(\n"
     ]
    },
    {
     "data": {
      "image/png": "[encoded data removed]",
      "text/plain": [
       "<Figure size 1200x600 with 1 Axes>"
      ]
     },
     "metadata": {},
     "output_type": "display_data"
    }
   ],
   "source": [
    "import matplotlib.pyplot as plt\n",
    "%matplotlib inline\n",
    "import seaborn as sns\n",
    "\n",
    "# Set the style for seaborn plots\n",
    "sns.set(style=\"whitegrid\")\n",
    "\n",
    "# Bar Plot\n",
    "plt.figure(figsize=(12, 6))\n",
    "sns.barplot(x='award_reason', y='null_message_count', hue='award_type', data=result_with_total)\n",
    "plt.title('Number of Null Messages by Award Reason and Type')\n",
    "plt.xticks(rotation=45, ha='right')\n",
    "plt.tight_layout()\n",
    "plt.show();"
   ]
  },
  {
   "cell_type": "markdown",
   "id": "5314cda3-731b-41ed-a7fa-52d4720ec0d8",
   "metadata": {},
   "source": [
    "## People Data EDA\n",
    "* Note: The purpose of this \"metadata\" is so we could link topics/keywords by:\n",
    "1. department\n",
    "2. job_title\n",
    "3. job_category\n",
    "4. position_title\n",
    "5. country\n",
    "...etc..\n",
    "\n",
    "So we won't use it for topic modeling but we may need to merge/join it to the final data if we need to do this analysis."
   ]
  },
  {
   "cell_type": "code",
   "execution_count": 14,
   "id": "b0216ca5-1524-49fa-a11c-84651c0773cc",
   "metadata": {},
   "outputs": [
    {
     "name": "stdout",
     "output_type": "stream",
     "text": [
      "<class 'pandas.core.frame.DataFrame'>\n",
      "RangeIndex: 7594 entries, 0 to 7593\n",
      "Data columns (total 57 columns):\n",
      " #   Column                  Non-Null Count  Dtype  \n",
      "---  ------                  --------------  -----  \n",
      " 0   id                      7594 non-null   int64  \n",
      " 1   uid                     7594 non-null   object \n",
      " 2   is_manager              7594 non-null   object \n",
      " 3   manager_id              7594 non-null   int64  \n",
      " 4   client_id               7594 non-null   int64  \n",
      " 5   hire_date               7594 non-null   object \n",
      " 6   turnover_date           4408 non-null   object \n",
      " 7   creation_date           7594 non-null   object \n",
      " 8   country                 7594 non-null   object \n",
      " 9   department              7594 non-null   object \n",
      " 10  language                7594 non-null   object \n",
      " 11  user_def1               7594 non-null   object \n",
      " 12  user_def2               10 non-null     object \n",
      " 13  user_def3               6926 non-null   object \n",
      " 14  user_def4               0 non-null      float64\n",
      " 15  employmenttype_id       7594 non-null   object \n",
      " 16  employmenttype_title    7594 non-null   object \n",
      " 17  is_fulltime             0 non-null      float64\n",
      " 18  job_id                  0 non-null      float64\n",
      " 19  job_title               0 non-null      float64\n",
      " 20  job_category            0 non-null      float64\n",
      " 21  position_id             0 non-null      float64\n",
      " 22  position_title          0 non-null      float64\n",
      " 23  function_id             0 non-null      float64\n",
      " 24  function_title          0 non-null      float64\n",
      " 25  grade_id                0 non-null      float64\n",
      " 26  grade_title             0 non-null      float64\n",
      " 27  location_id             0 non-null      float64\n",
      " 28  location_title          0 non-null      float64\n",
      " 29  region_id               0 non-null      float64\n",
      " 30  region_title            0 non-null      float64\n",
      " 31  business_unit_name      7594 non-null   object \n",
      " 32  business_unit_id        7594 non-null   object \n",
      " 33  sub_business_unit_name  7594 non-null   object \n",
      " 34  sub_business_unit_id    7594 non-null   object \n",
      " 35  customfield_3           6752 non-null   object \n",
      " 36  customfield_4           5877 non-null   object \n",
      " 37  customfield_5           3817 non-null   object \n",
      " 38  customfield_6           4844 non-null   object \n",
      " 39  customfield_7           401 non-null    object \n",
      " 40  customfield_8           3329 non-null   object \n",
      " 41  customfield_9           7594 non-null   object \n",
      " 42  customfield_10          7578 non-null   object \n",
      " 43  customrole_1            6012 non-null   object \n",
      " 44  customrole_2            0 non-null      float64\n",
      " 45  customrole_3            0 non-null      float64\n",
      " 46  customrole_4            0 non-null      float64\n",
      " 47  customrole_5            0 non-null      float64\n",
      " 48  performance_rating      0 non-null      float64\n",
      " 49  performance_rating_id   0 non-null      float64\n",
      " 50  potential_rating        0 non-null      float64\n",
      " 51  potential_rating_id     0 non-null      float64\n",
      " 52  is_familiar             7594 non-null   int64  \n",
      " 53  email                   7594 non-null   object \n",
      " 54  cost_centre_id          7594 non-null   int64  \n",
      " 55  cost_centre             7594 non-null   object \n",
      " 56  modified_date           3432 non-null   object \n",
      "dtypes: float64(23), int64(5), object(29)\n",
      "memory usage: 3.3+ MB\n"
     ]
    }
   ],
   "source": [
    "## info\n",
    "df_people.info()"
   ]
  },
  {
   "cell_type": "code",
   "execution_count": 15,
   "id": "0bd7e25c-fd97-4ac1-906c-6705b105067c",
   "metadata": {},
   "outputs": [
    {
     "data": {
      "text/plain": [
       "Index(['id', 'uid', 'is_manager', 'manager_id', 'client_id', 'hire_date',\n",
       "       'turnover_date', 'creation_date', 'country', 'department', 'language',\n",
       "       'user_def1', 'user_def2', 'user_def3', 'user_def4', 'employmenttype_id',\n",
       "       'employmenttype_title', 'is_fulltime', 'job_id', 'job_title',\n",
       "       'job_category', 'position_id', 'position_title', 'function_id',\n",
       "       'function_title', 'grade_id', 'grade_title', 'location_id',\n",
       "       'location_title', 'region_id', 'region_title', 'business_unit_name',\n",
       "       'business_unit_id', 'sub_business_unit_name', 'sub_business_unit_id',\n",
       "       'customfield_3', 'customfield_4', 'customfield_5', 'customfield_6',\n",
       "       'customfield_7', 'customfield_8', 'customfield_9', 'customfield_10',\n",
       "       'customrole_1', 'customrole_2', 'customrole_3', 'customrole_4',\n",
       "       'customrole_5', 'performance_rating', 'performance_rating_id',\n",
       "       'potential_rating', 'potential_rating_id', 'is_familiar', 'email',\n",
       "       'cost_centre_id', 'cost_centre', 'modified_date'],\n",
       "      dtype='object')"
      ]
     },
     "execution_count": 15,
     "metadata": {},
     "output_type": "execute_result"
    }
   ],
   "source": [
    "## cols\n",
    "df_people.columns"
   ]
  },
  {
   "cell_type": "code",
   "execution_count": 16,
   "id": "ee31a085-d55e-4b4e-81b2-34f6ae9c2d3b",
   "metadata": {
    "scrolled": true
   },
   "outputs": [
    {
     "data": {
      "text/plain": [
       "user_def4                 7594\n",
       "is_fulltime               7594\n",
       "job_id                    7594\n",
       "job_title                 7594\n",
       "job_category              7594\n",
       "position_id               7594\n",
       "position_title            7594\n",
       "function_id               7594\n",
       "function_title            7594\n",
       "grade_id                  7594\n",
       "grade_title               7594\n",
       "location_id               7594\n",
       "location_title            7594\n",
       "region_id                 7594\n",
       "region_title              7594\n",
       "customrole_2              7594\n",
       "customrole_3              7594\n",
       "customrole_4              7594\n",
       "customrole_5              7594\n",
       "performance_rating        7594\n",
       "performance_rating_id     7594\n",
       "potential_rating          7594\n",
       "potential_rating_id       7594\n",
       "user_def2                 7584\n",
       "customfield_7             7193\n",
       "customfield_8             4265\n",
       "modified_date             4162\n",
       "customfield_5             3777\n",
       "turnover_date             3186\n",
       "customfield_6             2750\n",
       "customfield_4             1717\n",
       "customrole_1              1582\n",
       "customfield_3              842\n",
       "user_def3                  668\n",
       "customfield_10              16\n",
       "id                           0\n",
       "uid                          0\n",
       "is_manager                   0\n",
       "manager_id                   0\n",
       "client_id                    0\n",
       "hire_date                    0\n",
       "creation_date                0\n",
       "country                      0\n",
       "department                   0\n",
       "language                     0\n",
       "user_def1                    0\n",
       "employmenttype_id            0\n",
       "employmenttype_title         0\n",
       "business_unit_name           0\n",
       "business_unit_id             0\n",
       "sub_business_unit_name       0\n",
       "sub_business_unit_id         0\n",
       "customfield_9                0\n",
       "is_familiar                  0\n",
       "email                        0\n",
       "cost_centre_id               0\n",
       "cost_centre                  0\n",
       "dtype: int64"
      ]
     },
     "execution_count": 16,
     "metadata": {},
     "output_type": "execute_result"
    }
   ],
   "source": [
    "## check nulls\n",
    "people_nulls = df_people.isnull().sum().sort_values(ascending=False)\n",
    "people_nulls"
   ]
  },
  {
   "cell_type": "code",
   "execution_count": 17,
   "id": "a0707e93-0795-4f37-98f2-c26a02181e85",
   "metadata": {},
   "outputs": [
    {
     "data": {
      "text/plain": [
       "5701   NaN\n",
       "Name: job_title, dtype: float64"
      ]
     },
     "execution_count": 17,
     "metadata": {},
     "output_type": "execute_result"
    }
   ],
   "source": [
    "## job_title\n",
    "df_people['job_title'].sample(1)"
   ]
  },
  {
   "cell_type": "code",
   "execution_count": 18,
   "id": "f269e026-6edc-420a-b6ea-b37badfb9376",
   "metadata": {},
   "outputs": [
    {
     "data": {
      "text/plain": [
       "department\n",
       "2000 OpCo Support                  434\n",
       "1012 Corp Finance - SSC            322\n",
       "2001 Customer Success & Support    252\n",
       "5100 Consultants - Billable        232\n",
       "7010 Demand Center - BDR           210\n",
       "                                  ... \n",
       "1700 T-Corporate Executive           1\n",
       "4011 Field Finance - EMEA            1\n",
       "2605 Product - ExecOpsPLOM           1\n",
       "3001 Strategic Client Advisory       1\n",
       "2502 GP - CDO                        1\n",
       "Name: count, Length: 367, dtype: int64"
      ]
     },
     "execution_count": 18,
     "metadata": {},
     "output_type": "execute_result"
    }
   ],
   "source": [
    "df_people['department'].value_counts().sort_values(ascending=False)"
   ]
  },
  {
   "cell_type": "markdown",
   "id": "e1f957de-6fdf-465f-a313-d4454e544453",
   "metadata": {},
   "source": [
    "Summary\n",
    "* Ok that answers alot of questions. Clearly there are a lot of nulls in this dataset. The good thing is that `department` is not null and we could definitely use it for future analysis."
   ]
  },
  {
   "cell_type": "markdown",
   "id": "e082ead7-cc87-4c28-8361-bf73706312da",
   "metadata": {},
   "source": [
    "# Data Preprocessing - Awards.csv\n",
    "* We need to drop the null values in the df_awards file. Specifically we are going to drop all `YOS` award_reason from the data as per confirmation from the People Analytics team."
   ]
  },
  {
   "cell_type": "code",
   "execution_count": 19,
   "id": "304dcb9b-1e1a-43d3-84c5-6f13237a1fa8",
   "metadata": {},
   "outputs": [
    {
     "data": {
      "text/html": [
       "<div>\n",
       "<style scoped>\n",
       "    .dataframe tbody tr th:only-of-type {\n",
       "        vertical-align: middle;\n",
       "    }\n",
       "\n",
       "    .dataframe tbody tr th {\n",
       "        vertical-align: top;\n",
       "    }\n",
       "\n",
       "    .dataframe thead th {\n",
       "        text-align: right;\n",
       "    }\n",
       "</style>\n",
       "<table border=\"1\" class=\"dataframe\">\n",
       "  <thead>\n",
       "    <tr style=\"text-align: right;\">\n",
       "      <th></th>\n",
       "      <th>rec_id</th>\n",
       "      <th>nom_id</th>\n",
       "      <th>award_id</th>\n",
       "      <th>ah_id</th>\n",
       "      <th>link_id</th>\n",
       "      <th>group_id</th>\n",
       "      <th>award_private</th>\n",
       "      <th>product_id</th>\n",
       "      <th>award_type</th>\n",
       "      <th>award_reason</th>\n",
       "      <th>title</th>\n",
       "      <th>message</th>\n",
       "      <th>award_date</th>\n",
       "      <th>value</th>\n",
       "      <th>remaining_value</th>\n",
       "    </tr>\n",
       "  </thead>\n",
       "  <tbody>\n",
       "    <tr>\n",
       "      <th>0</th>\n",
       "      <td>8233964</td>\n",
       "      <td>8234230</td>\n",
       "      <td>183347810</td>\n",
       "      <td>180686706</td>\n",
       "      <td>NaN</td>\n",
       "      <td>155345180</td>\n",
       "      <td>0</td>\n",
       "      <td>620</td>\n",
       "      <td>Applaud 2</td>\n",
       "      <td>Make an Impact</td>\n",
       "      <td>Delivering Solid presales support</td>\n",
       "      <td>Kam Wei has been instrumental in helping to cl...</td>\n",
       "      <td>2025-01-01</td>\n",
       "      <td>115.0</td>\n",
       "      <td>115.0</td>\n",
       "    </tr>\n",
       "    <tr>\n",
       "      <th>1</th>\n",
       "      <td>27259573</td>\n",
       "      <td>8234230</td>\n",
       "      <td>183349709</td>\n",
       "      <td>180686745</td>\n",
       "      <td>NaN</td>\n",
       "      <td>155346385</td>\n",
       "      <td>0</td>\n",
       "      <td>620</td>\n",
       "      <td>Applaud 2</td>\n",
       "      <td>Lead with Innovation</td>\n",
       "      <td>Strong leader that also contributes in field</td>\n",
       "      <td>Sid is a rare Player-Coach that inspires his c...</td>\n",
       "      <td>2025-01-01</td>\n",
       "      <td>115.0</td>\n",
       "      <td>115.0</td>\n",
       "    </tr>\n",
       "    <tr>\n",
       "      <th>2</th>\n",
       "      <td>8234900</td>\n",
       "      <td>8234230</td>\n",
       "      <td>183346874</td>\n",
       "      <td>180686686</td>\n",
       "      <td>NaN</td>\n",
       "      <td>155344570</td>\n",
       "      <td>0</td>\n",
       "      <td>620</td>\n",
       "      <td>Applaud 2</td>\n",
       "      <td>Take Ownership</td>\n",
       "      <td>Executing with excellence</td>\n",
       "      <td>Myung Soo rejoined Qlik in August 2024, but qu...</td>\n",
       "      <td>2025-01-01</td>\n",
       "      <td>115.0</td>\n",
       "      <td>115.0</td>\n",
       "    </tr>\n",
       "    <tr>\n",
       "      <th>3</th>\n",
       "      <td>17519186</td>\n",
       "      <td>8234161</td>\n",
       "      <td>180137859</td>\n",
       "      <td>180686680</td>\n",
       "      <td>NaN</td>\n",
       "      <td>152736571</td>\n",
       "      <td>0</td>\n",
       "      <td>620</td>\n",
       "      <td>Applaud 2</td>\n",
       "      <td>Take Ownership</td>\n",
       "      <td>APAC Presales Superstar for November</td>\n",
       "      <td>Congrats, Sean!</td>\n",
       "      <td>2025-01-01</td>\n",
       "      <td>110.5</td>\n",
       "      <td>110.5</td>\n",
       "    </tr>\n",
       "    <tr>\n",
       "      <th>4</th>\n",
       "      <td>9943897</td>\n",
       "      <td>8234230</td>\n",
       "      <td>183351071</td>\n",
       "      <td>180686682</td>\n",
       "      <td>NaN</td>\n",
       "      <td>155347328</td>\n",
       "      <td>0</td>\n",
       "      <td>620</td>\n",
       "      <td>Applaud 2</td>\n",
       "      <td>Make an Impact</td>\n",
       "      <td>Awesome AE that always delivers</td>\n",
       "      <td>Thank you Jason for being persistent and consi...</td>\n",
       "      <td>2025-01-01</td>\n",
       "      <td>115.0</td>\n",
       "      <td>115.0</td>\n",
       "    </tr>\n",
       "  </tbody>\n",
       "</table>\n",
       "</div>"
      ]
     },
     "metadata": {},
     "output_type": "display_data"
    }
   ],
   "source": [
    "## create new df without \"YOS\" awards which are all null\n",
    "df_topic = df_awards[df_awards['award_reason'] != 'YOS'].reset_index(drop=True)\n",
    "df_topic.head()"
   ]
  },
  {
   "cell_type": "code",
   "execution_count": 20,
   "id": "4c642827-fcf5-4b42-97dd-1790441f30a3",
   "metadata": {},
   "outputs": [
    {
     "data": {
      "text/plain": [
       "rec_id             0\n",
       "nom_id             0\n",
       "award_id           0\n",
       "ah_id              0\n",
       "link_id            0\n",
       "group_id           0\n",
       "award_private      0\n",
       "product_id         0\n",
       "award_type         0\n",
       "award_reason       0\n",
       "title              0\n",
       "message            0\n",
       "award_date         0\n",
       "value              0\n",
       "remaining_value    0\n",
       "dtype: int64"
      ]
     },
     "execution_count": 20,
     "metadata": {},
     "output_type": "execute_result"
    }
   ],
   "source": [
    "## check if YOS award type was dropped\n",
    "df_topic[df_topic['award_reason'] == 'YOS'].count()"
   ]
  },
  {
   "cell_type": "code",
   "execution_count": 21,
   "id": "b3303a3c-9e2b-4976-922c-1cbc622f6ada",
   "metadata": {},
   "outputs": [
    {
     "data": {
      "text/plain": [
       "link_id            47995\n",
       "rec_id                 0\n",
       "nom_id                 0\n",
       "award_id               0\n",
       "ah_id                  0\n",
       "group_id               0\n",
       "award_private          0\n",
       "product_id             0\n",
       "award_type             0\n",
       "award_reason           0\n",
       "title                  0\n",
       "message                0\n",
       "award_date             0\n",
       "value                  0\n",
       "remaining_value        0\n",
       "dtype: int64"
      ]
     },
     "execution_count": 21,
     "metadata": {},
     "output_type": "execute_result"
    }
   ],
   "source": [
    "## check nulls in df\n",
    "df_topic.isnull().sum().sort_values(ascending=False)"
   ]
  },
  {
   "cell_type": "code",
   "execution_count": 22,
   "id": "0aeda73b-4c26-47f2-9393-a5ef2be9c964",
   "metadata": {},
   "outputs": [
    {
     "data": {
      "text/plain": [
       "78110"
      ]
     },
     "execution_count": 22,
     "metadata": {},
     "output_type": "execute_result"
    }
   ],
   "source": [
    "## df_topic \n",
    "len(df_topic)"
   ]
  },
  {
   "cell_type": "markdown",
   "id": "45463c44-30a4-4525-845f-4cd3c81c8d3c",
   "metadata": {},
   "source": [
    "# Hugging Face Credentials\n",
    "* Need to input HF credentials to use models from the HF hub."
   ]
  },
  {
   "cell_type": "code",
   "execution_count": 23,
   "id": "f56c908a-d3b0-4962-98df-5d7156781856",
   "metadata": {},
   "outputs": [
    {
     "data": {
      "application/vnd.jupyter.widget-view+json": {
       "model_id": "4728d4362c7740d39d3007a555608c7a",
       "version_major": 2,
       "version_minor": 0
      },
      "text/plain": [
       "VBox(children=(HTML(value='<center> <img\\nsrc=https://huggingface.co/front/assets/huggingface_logo-noborder.sv…"
      ]
     },
     "metadata": {},
     "output_type": "display_data"
    }
   ],
   "source": [
    "## hf hub login\n",
    "from huggingface_hub import notebook_login\n",
    "notebook_login()"
   ]
  },
  {
   "cell_type": "markdown",
   "id": "91c0af56-07cd-4a55-a452-5f155b097595",
   "metadata": {},
   "source": [
    "# Language Detection\n",
    "* We should first start by detecting what languages are present in the data.\n",
    "* Then we can get into topic modeling which will include translation using Qwen multilingual LLM.\n",
    "\n",
    "## Language Detection Model\n",
    "* I will use the `xlm-roberta-base-language-detection` transformer trained on 20 languages.\n",
    "* We will get the model from the huggingface hub.\n",
    "* We will use the huggingface pipeline for immediate inference rather than loading the model and the tokenizer we can use it out of the box this way: https://huggingface.co/docs/transformers/main_classes/pipelines\n",
    "* Alternatives to this include: `lang-detect`, `mBERT`, and `NLLB` from meta but I have had the best results with this model \"out of the box\"."
   ]
  },
  {
   "cell_type": "markdown",
   "id": "635321d9-913e-41f3-920e-910dd2680e89",
   "metadata": {},
   "source": [
    "## Token Counts\n",
    "* We need to check the token counts of the message column before we proceed to make sure the model we are using can handle the token counts of the input text."
   ]
  },
  {
   "cell_type": "code",
   "execution_count": 24,
   "id": "77c85701-f6ab-4fa8-ac0f-48e2f5e7da55",
   "metadata": {},
   "outputs": [
    {
     "data": {
      "application/vnd.jupyter.widget-view+json": {
       "model_id": "e6c51d0e4de747b18c9c8e9756db5ca8",
       "version_major": 2,
       "version_minor": 0
      },
      "text/plain": [
       "tokenizer_config.json:   0%|          | 0.00/502 [00:00<?, ?B/s]"
      ]
     },
     "metadata": {},
     "output_type": "display_data"
    },
    {
     "data": {
      "application/vnd.jupyter.widget-view+json": {
       "model_id": "fb5c773bac1e4fdcbabf415c38acc493",
       "version_major": 2,
       "version_minor": 0
      },
      "text/plain": [
       "sentencepiece.bpe.model:   0%|          | 0.00/5.07M [00:00<?, ?B/s]"
      ]
     },
     "metadata": {},
     "output_type": "display_data"
    },
    {
     "data": {
      "application/vnd.jupyter.widget-view+json": {
       "model_id": "2733344b0f5e439e84d429d0e25c7af4",
       "version_major": 2,
       "version_minor": 0
      },
      "text/plain": [
       "tokenizer.json:   0%|          | 0.00/9.08M [00:00<?, ?B/s]"
      ]
     },
     "metadata": {},
     "output_type": "display_data"
    },
    {
     "data": {
      "application/vnd.jupyter.widget-view+json": {
       "model_id": "600e9154fd2f4bf6aeb6b0260bf39ee7",
       "version_major": 2,
       "version_minor": 0
      },
      "text/plain": [
       "special_tokens_map.json:   0%|          | 0.00/239 [00:00<?, ?B/s]"
      ]
     },
     "metadata": {},
     "output_type": "display_data"
    },
    {
     "name": "stderr",
     "output_type": "stream",
     "text": [
      "Counting tokens: 100%|██████████| 78110/78110 [00:13<00:00, 5852.31it/s]"
     ]
    },
    {
     "name": "stdout",
     "output_type": "stream",
     "text": [
      "token_count_message\n",
      "29     1334\n",
      "64     1011\n",
      "76      961\n",
      "54      880\n",
      "61      855\n",
      "       ... \n",
      "399       1\n",
      "449       1\n",
      "429       1\n",
      "462       1\n",
      "404       1\n",
      "Name: count, Length: 417, dtype: int64\n"
     ]
    },
    {
     "name": "stderr",
     "output_type": "stream",
     "text": [
      "\n"
     ]
    }
   ],
   "source": [
    "from tqdm import tqdm\n",
    "from transformers import AutoTokenizer\n",
    "\n",
    "# Initialize the tokenizer\n",
    "tokenizer = AutoTokenizer.from_pretrained(\"papluca/xlm-roberta-base-language-detection\")\n",
    "\n",
    "# Function to count tokens\n",
    "def count_tokens(text):\n",
    "    return len(tokenizer.encode(text))\n",
    "\n",
    "# Apply the function with a progress bar\n",
    "tqdm.pandas(desc=\"Counting tokens\")\n",
    "df_topic['token_count_message'] = df_topic['message'].progress_apply(count_tokens)\n",
    "\n",
    "# Display the value counts\n",
    "print(df_topic['token_count_message'].value_counts().sort_values(ascending=False))"
   ]
  },
  {
   "cell_type": "markdown",
   "id": "cb96acfa-460c-4bfc-a7fb-312445b2cc9b",
   "metadata": {},
   "source": [
    "### Visualize Token counts"
   ]
  },
  {
   "cell_type": "code",
   "execution_count": 25,
   "id": "bfed172c-73f7-4b7b-86e9-629fe58f8834",
   "metadata": {},
   "outputs": [
    {
     "name": "stdout",
     "output_type": "stream",
     "text": [
      "Max token count: 493\n",
      "Min token count: 3\n",
      "Avg token count: 83.83\n"
     ]
    }
   ],
   "source": [
    "print(f\"Max token count: {df_topic['token_count_message'].max()}\")\n",
    "print(f\"Min token count: {df_topic['token_count_message'].min()}\")\n",
    "print(f\"Avg token count: {round(df_topic['token_count_message'].mean(),2)}\")"
   ]
  },
  {
   "cell_type": "code",
   "execution_count": 26,
   "id": "658d19df-9c03-46f9-a02a-697870acde5b",
   "metadata": {},
   "outputs": [
    {
     "name": "stderr",
     "output_type": "stream",
     "text": [
      "/usr/local/lib/python3.10/dist-packages/fireducks/pandas/generic.py:779: UserWarning: df2 = df1.copy(deep=False) might not work, when changes made in the data values of 'df2' is expected to be reflected in 'df1'. REF: https://fireducks-dev.github.io/docs/user-guide/04-compatibility/#copydeep--false\n",
      "  warnings.warn(\n"
     ]
    },
    {
     "data": {
      "image/png": "[encoded data removed]",
      "text/plain": [
       "<Figure size 2000x800 with 1 Axes>"
      ]
     },
     "metadata": {},
     "output_type": "display_data"
    }
   ],
   "source": [
    "# token count distribution plot -- histogram\n",
    "\n",
    "plt.figure(figsize=(20, 8))\n",
    "sns.histplot(df_topic['token_count_message'], bins=15,kde=True).set_title('Histogram of token count distribution')\n",
    "plt.xlabel('Sequence Length', fontsize = 18)\n",
    "plt.ylabel('# of Samples', fontsize = 18)\n",
    "plt.xticks(fontsize = 14)\n",
    "plt.yticks(fontsize = 14)\n",
    "plt.show();"
   ]
  },
  {
   "cell_type": "markdown",
   "id": "983c9ae4-9639-4bba-a61c-8ab613919fef",
   "metadata": {},
   "source": [
    "Summary:\n",
    "* The max sequence length is 493 so using the standard 512 seq length max will suffice."
   ]
  },
  {
   "cell_type": "code",
   "execution_count": 27,
   "id": "62109edb-786a-4f0e-94eb-a67d681b2f4b",
   "metadata": {},
   "outputs": [
    {
     "data": {
      "application/vnd.jupyter.widget-view+json": {
       "model_id": "6f054bb1073c4c32b07942619753b489",
       "version_major": 2,
       "version_minor": 0
      },
      "text/plain": [
       "config.json:   0%|          | 0.00/1.42k [00:00<?, ?B/s]"
      ]
     },
     "metadata": {},
     "output_type": "display_data"
    },
    {
     "data": {
      "application/vnd.jupyter.widget-view+json": {
       "model_id": "9549f5fe25874279ab5e14f86239aa58",
       "version_major": 2,
       "version_minor": 0
      },
      "text/plain": [
       "model.safetensors:   0%|          | 0.00/1.11G [00:00<?, ?B/s]"
      ]
     },
     "metadata": {},
     "output_type": "display_data"
    },
    {
     "name": "stderr",
     "output_type": "stream",
     "text": [
      "Device set to use cuda:0\n"
     ]
    }
   ],
   "source": [
    "from transformers import pipeline\n",
    "\n",
    "## load model from HF\n",
    "detect_model = pipeline(\n",
    "    'text-classification',\n",
    "    model=\"papluca/xlm-roberta-base-language-detection\",\n",
    "    truncation=True,\n",
    "    max_length=512\n",
    ")\n"
   ]
  },
  {
   "cell_type": "markdown",
   "id": "67967a51-e4e1-4e00-ac04-19cafb89de6b",
   "metadata": {},
   "source": [
    "## Detect Language \n",
    "* We define a `safe_text` function that converts NaN values to empty strings and ensures all other values are strings.\n",
    "* We apply this function to the 'message' column before converting it to a list.\n",
    "* This ensures that all_text contains only strings, which the model can process.\n",
    "* By handling the NaN values and ensuring all inputs are strings, we can avoid a ValueError.\n",
    "\n"
   ]
  },
  {
   "cell_type": "code",
   "execution_count": 28,
   "id": "af993fbe-d1af-4900-99af-114467653bcf",
   "metadata": {},
   "outputs": [
    {
     "name": "stderr",
     "output_type": "stream",
     "text": [
      "100%|██████████| 78110/78110 [00:00<00:00, 1366967.86it/s]\n",
      "Processing batches:  13%|█▎        | 10/79 [00:12<01:21,  1.18s/it]You seem to be using the pipelines sequentially on GPU. In order to maximize efficiency please use a dataset\n",
      "Processing batches: 100%|██████████| 79/79 [01:33<00:00,  1.18s/it]\n"
     ]
    },
    {
     "name": "stdout",
     "output_type": "stream",
     "text": [
      "     rec_id   nom_id   award_id      ah_id  link_id   group_id  award_private  \\\n",
      "0   8233964  8234230  183347810  180686706      NaN  155345180              0   \n",
      "1  27259573  8234230  183349709  180686745      NaN  155346385              0   \n",
      "2   8234900  8234230  183346874  180686686      NaN  155344570              0   \n",
      "3  17519186  8234161  180137859  180686680      NaN  152736571              0   \n",
      "4   9943897  8234230  183351071  180686682      NaN  155347328              0   \n",
      "\n",
      "   product_id award_type          award_reason  \\\n",
      "0         620  Applaud 2        Make an Impact   \n",
      "1         620  Applaud 2  Lead with Innovation   \n",
      "2         620  Applaud 2        Take Ownership   \n",
      "3         620  Applaud 2        Take Ownership   \n",
      "4         620  Applaud 2        Make an Impact   \n",
      "\n",
      "                                          title  \\\n",
      "0             Delivering Solid presales support   \n",
      "1  Strong leader that also contributes in field   \n",
      "2                     Executing with excellence   \n",
      "3          APAC Presales Superstar for November   \n",
      "4               Awesome AE that always delivers   \n",
      "\n",
      "                                             message  award_date  value  \\\n",
      "0  Kam Wei has been instrumental in helping to cl...  2025-01-01  115.0   \n",
      "1  Sid is a rare Player-Coach that inspires his c...  2025-01-01  115.0   \n",
      "2  Myung Soo rejoined Qlik in August 2024, but qu...  2025-01-01  115.0   \n",
      "3                                    Congrats, Sean!  2025-01-01  110.5   \n",
      "4  Thank you Jason for being persistent and consi...  2025-01-01  115.0   \n",
      "\n",
      "   remaining_value  token_count_message  \\\n",
      "0            115.0                  160   \n",
      "1            115.0                  133   \n",
      "2            115.0                  261   \n",
      "3            110.5                    8   \n",
      "4            115.0                   77   \n",
      "\n",
      "                                   processed_message language_label  \n",
      "0  Kam Wei has been instrumental in helping to cl...             en  \n",
      "1  Sid is a rare Player-Coach that inspires his c...             en  \n",
      "2  Myung Soo rejoined Qlik in August 2024, but qu...             en  \n",
      "3                                    Congrats, Sean!             en  \n",
      "4  Thank you Jason for being persistent and consi...             en  \n",
      "CPU times: user 1min 33s, sys: 372 ms, total: 1min 33s\n",
      "Wall time: 1min 33s\n"
     ]
    }
   ],
   "source": [
    "%%time\n",
    "from tqdm import tqdm\n",
    "tqdm.pandas() # load tqdm for pandas\n",
    "\n",
    "# Function to safely process text with nan values\n",
    "def safe_text(text):\n",
    "    if pd.isna(text):\n",
    "        return \"\"  # Return empty string for NaN values\n",
    "    return str(text)  # Ensure all non-NaN values are strings\n",
    "\n",
    "# Apply safe_text function to your column with progress bar\n",
    "df_topic['processed_message'] = df_topic['message'].progress_apply(safe_text)\n",
    "\n",
    "# Function to process batches\n",
    "def process_batch(texts):\n",
    "    results = detect_model(texts.tolist(), batch_size=32)\n",
    "    return [d['label'] for d in results]\n",
    "\n",
    "# Process in batches with a progress bar\n",
    "batch_size = 1000  # Adjust this based on memory constraints\n",
    "num_batches = len(df_topic) // batch_size + (1 if len(df_topic) % batch_size != 0 else 0)\n",
    "\n",
    "\n",
    "\n",
    "language_labels = [] ## store labels in list\n",
    "for i in tqdm(range(num_batches), desc=\"Processing batches\"):\n",
    "    start_idx = i * batch_size\n",
    "    end_idx = min((i + 1) * batch_size, len(df_topic))\n",
    "    batch_texts = df_topic['processed_message'].iloc[start_idx:end_idx]\n",
    "    language_labels.extend(process_batch(batch_texts))\n",
    "\n",
    "# Assign labels to DataFrame\n",
    "df_topic['language_label'] = language_labels\n",
    "\n",
    "# Print head\n",
    "print(df_topic.head())"
   ]
  },
  {
   "cell_type": "code",
   "execution_count": 29,
   "id": "fb6eba78-4295-46e0-8e0e-c7354a057f7a",
   "metadata": {},
   "outputs": [
    {
     "data": {
      "text/html": [
       "<div>\n",
       "<style scoped>\n",
       "    .dataframe tbody tr th:only-of-type {\n",
       "        vertical-align: middle;\n",
       "    }\n",
       "\n",
       "    .dataframe tbody tr th {\n",
       "        vertical-align: top;\n",
       "    }\n",
       "\n",
       "    .dataframe thead th {\n",
       "        text-align: right;\n",
       "    }\n",
       "</style>\n",
       "<table border=\"1\" class=\"dataframe\">\n",
       "  <thead>\n",
       "    <tr style=\"text-align: right;\">\n",
       "      <th></th>\n",
       "      <th>language_label</th>\n",
       "      <th>count</th>\n",
       "    </tr>\n",
       "  </thead>\n",
       "  <tbody>\n",
       "    <tr>\n",
       "      <th>0</th>\n",
       "      <td>en</td>\n",
       "      <td>77714</td>\n",
       "    </tr>\n",
       "    <tr>\n",
       "      <th>1</th>\n",
       "      <td>fr</td>\n",
       "      <td>173</td>\n",
       "    </tr>\n",
       "    <tr>\n",
       "      <th>2</th>\n",
       "      <td>de</td>\n",
       "      <td>90</td>\n",
       "    </tr>\n",
       "    <tr>\n",
       "      <th>3</th>\n",
       "      <td>ur</td>\n",
       "      <td>49</td>\n",
       "    </tr>\n",
       "    <tr>\n",
       "      <th>4</th>\n",
       "      <td>es</td>\n",
       "      <td>27</td>\n",
       "    </tr>\n",
       "    <tr>\n",
       "      <th>5</th>\n",
       "      <td>ja</td>\n",
       "      <td>17</td>\n",
       "    </tr>\n",
       "    <tr>\n",
       "      <th>6</th>\n",
       "      <td>bg</td>\n",
       "      <td>11</td>\n",
       "    </tr>\n",
       "    <tr>\n",
       "      <th>7</th>\n",
       "      <td>it</td>\n",
       "      <td>8</td>\n",
       "    </tr>\n",
       "    <tr>\n",
       "      <th>8</th>\n",
       "      <td>nl</td>\n",
       "      <td>6</td>\n",
       "    </tr>\n",
       "    <tr>\n",
       "      <th>9</th>\n",
       "      <td>pt</td>\n",
       "      <td>5</td>\n",
       "    </tr>\n",
       "    <tr>\n",
       "      <th>10</th>\n",
       "      <td>hi</td>\n",
       "      <td>4</td>\n",
       "    </tr>\n",
       "    <tr>\n",
       "      <th>11</th>\n",
       "      <td>sw</td>\n",
       "      <td>2</td>\n",
       "    </tr>\n",
       "    <tr>\n",
       "      <th>12</th>\n",
       "      <td>tr</td>\n",
       "      <td>2</td>\n",
       "    </tr>\n",
       "    <tr>\n",
       "      <th>13</th>\n",
       "      <td>pl</td>\n",
       "      <td>2</td>\n",
       "    </tr>\n",
       "  </tbody>\n",
       "</table>\n",
       "</div>"
      ]
     },
     "metadata": {},
     "output_type": "display_data"
    }
   ],
   "source": [
    "## view language label counts\n",
    "df_topic['language_label'].value_counts().reset_index()"
   ]
  },
  {
   "cell_type": "code",
   "execution_count": 30,
   "id": "f4d6d885-8bb7-44a6-a21f-f0e284cc590f",
   "metadata": {},
   "outputs": [
    {
     "data": {
      "text/plain": [
       "78110"
      ]
     },
     "execution_count": 30,
     "metadata": {},
     "output_type": "execute_result"
    }
   ],
   "source": [
    "## sum languages\n",
    "df_topic['language_label'].value_counts().sum()"
   ]
  },
  {
   "cell_type": "code",
   "execution_count": 31,
   "id": "b52e1fdb-c7e5-47fc-aa7b-2d6bdfaea0af",
   "metadata": {},
   "outputs": [
    {
     "data": {
      "text/plain": [
       "78110"
      ]
     },
     "execution_count": 31,
     "metadata": {},
     "output_type": "execute_result"
    }
   ],
   "source": [
    "## len df_topic\n",
    "len(df_topic)"
   ]
  },
  {
   "cell_type": "markdown",
   "id": "11a5005d-5a73-48de-bde0-2c23aef6ac97",
   "metadata": {},
   "source": [
    "## Non-english text -- check outputs\n",
    "* Lets check some of the outputs of the detected languages."
   ]
  },
  {
   "cell_type": "code",
   "execution_count": 32,
   "id": "12d3b5d7-4838-4c48-84ff-d5d88ed0ab63",
   "metadata": {},
   "outputs": [
    {
     "name": "stdout",
     "output_type": "stream",
     "text": [
      "German Text identified:\n",
      "-Hallo Thomas,  vielen Dank für deine Unterstützung dieses Jahr. Ich weiß, dass es nicht immer ganz einfach mit mir war, da mich dieses Jahr einige Themen abseits der Arbeit beschäftigt haben. Und auch das eine oder andere in der Arbeit. Trotzdem glaube ich hatten wir einige sehr gute Kundendiskussionen, die der Firma weitere Aufträge erbracht haben oder auch noch werden.  Erst mal Frohe Weihnachten dir und deiner Familie und auf die Zusammenarbeit in 2025.\n",
      "-Lieber Serjoscha, du packst ordentlich mit an, wenn es von Nöten ist. Durch deine tatkräftige Mithilfe geht der Umzug unseres Düsseldorfer Büros schneller und reibungsloser von Statten. Danke, dass du Lisa, Teo und Maren so bereitwillig mit deiner Kraft unterstützt,\n",
      "-Lieber Serjoscha,  vielen Dank für deine tolle Unterstützung bei dem Umzug im Büro!  Du hast kräftig mit angepackt und wir sind dank dir, definitiv schneller voran gekommen. Vielen Dank für deinen Einsatz!\n",
      "-Lieber Lukas, ich möchte mich bei dir für deine Hilfe beim Auszug aus dem Düsseldorfer Büro bedanken! Du hast mit angepackt und uns einiges abgenommen. Vielen Dank für deine Unterstützung!  LG Lisa\n",
      "-Liebe Maren, ich möchte mich bei dir für deine Hilfe beim Auszug aus dem Düsseldorfer Büro bedanken! Du hast mit angepackt und uns einiges abgenommen. Danke, dass du uns ohne zu zögern, direkt unterstützt hast!  LG Lisa\n",
      "-Liebe Lisa, ohne dich wäre Qlik nicht in der Lage den Umzug der Firma in Düsseldorf zu bewerkstelligen. Dein Einsatz, deine Übersicht, zusätzlich zu deinen regulären Arbeiten, ist einfach nur als außergewöhnlich zu bezeichnen. Schade, dass es für mich ein Limit von 930 Punkten gibt. Du verdienst ein Vielfaches!\n",
      "-Liebe Teo, ich möchte mich bei dir für deine kontinuierliche Hilfe beim Auszug aus dem Düsseldorfer Büro bedanken! Du hast kräftig mit angepackt und danke dir haben wir so viel in nur so kurzer Zeit geschafft! Vielen Dank für deine Unterstützung!  LG Lisa\n",
      "-Lieber Christoph, ich möchte mich bei dir für deine Hilfe beim Auszug aus dem Düsseldorfer Büro bedanken! Du hast mit angepackt und uns einiges abgenommen. Vielen Dank für deine Unterstützung!  LG Lisa\n",
      "-Lieber Dennis, ich möchte mich bei dir für deine Hilfe beim Auszug aus dem Düsseldorfer Büro bedanken! Du hast mit angepackt und uns einiges abgenommen. Vielen Dank für deine Unterstützung!  LG Lisa\n",
      "-Liebe Teo, ich möchte einfach mal Danke sagen für alle Sachen die du auch jetzt gerade bezgl. des Auszug/Umzug für das Düsseldorfer Büro übernimmst!  Du unterstützt mich in sehr vielen Angelegenheiten und ich weiß es sehr zu schätzen, dass du dir so viel Zeit nimmst. Danke dass du so eine tolle Kollegin bist auf die immer Verlass ist!\n",
      "-Christian, ich möchte mich herzlich bei dir bedanken für deine Mühe in Bezug auf alles was unseren Österreichischen Standort angeht.  Du bist eine großartige Hilfe und es ist nicht selbstverständlich das du all diese Aufgaben mit übernimmst und dich so gewissenhaft drum kümmerst! Vielen Dank für alles1\n",
      "-Lieber Patrick, wann immer ich eine tiefergreifende Frage zur Nutzung unser Plattform in einem bestimmten Use Case habe, bist du sofort zur Stelle und gibst mir ohne Umschweife die gewünschte Information. Vielen Dank dafür, damit stärkst du den Outcome meiner täglichen Arbeit im Speziellen und Sales im Allgemeinen.\n",
      "-Liebe Teo, du hast mit der Organisation und Bereitstellung des Frühstücks am 03. September für unsere Kollegen aus München und den zahlreich Anwesenden \"Düsseldorfern\" eine wunderbare Plattform für das Kennenlernen neuer Kollegen, als auch den Austausch untereinder geschaffen. So füllst du die Organsition mit Leben!\n",
      "-Danke für deine Hilfe und allgemein Zeit! hast mir top geholfen! :)\n",
      "-Hei Marcus,  ich möchte mich über Inspire einmal bei Dir bedanken für dein Engagement im Team.  Wir haben intern viele Admin Themen und oft kommen diese auch sehr kurzfristig. Bei Anfragen von mir zu bestimmten Themen reagierst Du absolut schnell und Dein Feedback ist top strukturiert und vollständig. Ebenfalls ist die SalesForce Pflege professionell und aktuell. Das hilft mir und auch dem Team, dass wir ein professionelles internes Auftreten erzeugen können.  Weiterhin bekomme ich sehr positives Feedback vom Team, dass Du gerade in Talend Fragen immer unterstützt und top Ideen einbringst. Auch dafür vielen Dank. Wir sehen, dass die Integration von ehem. Talend und ehem. Qlik nicht überall funktioniert. Bei uns im Team klappt das top. Du trägst ein großes Stück dafür bei.  Weiter so  Hermann\n",
      "-Liebe Teo, auch im Namen der Kollegen/innen in Düsseldorf danke ich dir, dass du tolle Frühstücke organisierst, die das Büro wieder mit Menschen füllen. Durch deinen Einsatz kommen wir in Düsseldorf zusammen. Du machst den Unterschied! Liebe Grüße Andreas\n",
      "-Lieber Stefan, zum wiederholten Mal war ich nach einem Arbeitststag im Düsseldorfer Büro nicht in der Lage mit öffentlichen Verkehrsmitteln nach Hause zu fahren. Du hast in diesen Fällen einen gewaltigen Umweg nach Hause in Kauf genommen, um mich wohlbehalten bei mir zu Hause abzuliefern. Vielen Dank, dass du so ein toller Kollege bist. Beste Grüße Andreas\n",
      "-Ich möchte mich herzlich bei euch bedanken, das ihr den Erste-Hilfe-Kurs für unseren Standort in Düsseldorf gemacht habt! Es ist nicht immer leicht Kollegen zu finden die sich dazu bereit erklären und dazu Lust haben, daher weiß ich euren Einsatz und auch eure Zeit sehr zu schätzen! Es toll in so einem Team zu arbeiten!!  Vielen Dank an Euch !!!\n",
      "-Ich möchte mich herzlich bei euch bedanken, das ihr den Erste-Hilfe-Kurs für unseren Standort in Düsseldorf gemacht habt! Es ist nicht immer leicht Kollegen zu finden die sich dazu bereit erklären und dazu Lust haben, daher weiß ich euren Einsatz und auch eure Zeit sehr zu schätzen! Es toll in so einem Team zu arbeiten!!  Vielen Dank an Euch !!!\n",
      "-Ich möchte mich herzlich bei euch bedanken, das ihr den Erste-Hilfe-Kurs für unseren Standort in Düsseldorf gemacht habt! Es ist nicht immer leicht Kollegen zu finden die sich dazu bereit erklären und dazu Lust haben, daher weiß ich euren Einsatz und auch eure Zeit sehr zu schätzen! Es toll in so einem Team zu arbeiten!!  Vielen Dank an Euch !!!\n",
      "-Lieber Rene,   vielen Dank für die großartige Zusammenarbeit im Q1 (und schon die Jahre davor). Insbesondere für deinen Einsatz beim Sky Renewal!   Viele Grüße  Marcus\n",
      "-Hi Dennis, Hi Flo,  vielen Dank für die Top Betreuung und Einarbeitung von Andi. Es ist nicht selbstverständlich, dass ihr soviel Engagement und Einsatz zeigt neben dem Sales Business. Ich habe sehr viel positives von Andi über euch gehört. Daher nochmals vielen Dank, dass ihr immer für Ihn zur Verfügung steht und ihn bei Terminen so tatkräftig unterstützt.  Hermann\n",
      "-Hi Dennis, Hi Flo,  vielen Dank für die Top Betreuung und Einarbeitung von Andi. Es ist nicht selbstverständlich, dass ihr soviel Engagement und Einsatz zeigt neben dem Sales Business. Ich habe sehr viel positives von Andi über euch gehört. Daher nochmals vielen Dank, dass ihr immer für Ihn zur Verfügung steht und ihn bei Terminen so tatkräftig unterstützt.  Hermann\n",
      "-Lieber René, ich möchte mich ganz herzlich bei dir bedanken für die extrem gute und produktive Zusammenarbeit. Das Besondere ist, dass wir wirklich wie ein Team zusammen funktioniert haben, was für mich bedeutet, dass man für einander mitdenkt und sich blind versteht. So konnten wir mit Kreativität und maximalem Einsatz gemeinsam Kunden halten, verlängern und ausbauen. Dabei haben wir uns gegenseitig Arbeit gemacht und abgenommen und das bestmögliche Resultat für die Unternehmung und uns herausgeholt. Das war wirklich \"Succeed Together\" !!!  Vielen vielen Dank!!!\n",
      "-Liebste Maren, Ich möchte mich herzlich für deine tolle Unterstützung beim Town Hall in Düsseldorf bedanken. Dank dir, hat vor Ort alles wunderbar geklappt und war mehr als perfekt vorbereitet. Alle waren begeistert und es hat an nichts gefehlt.  Vielen Dank das du dich gleich bereit erklärt hast mir zu helfen und es so wunderbar umgesetzt hast! Kollegen wie du machen das arbeiten sehr viel leichter und ich bin sehr froh das es dich gibt! Danke dir für alles!\n",
      "-Statement from our customer: „Du hast mich die ganze Zeit begleitet. Vor allem hattest du die Geduld, sich meine Ideen anzuhören, die Neugier, sie zu verstehen und die Fähigkeit, durch deine Expertise mich zielgerecht zu unterstützen. Das hat mich motiviert, weiterzumachen. Dafür bin ich dir dankbar! 😊„  I have nothing to add. Sensational customer focus! Keep going!\n",
      "-Vielen Dank euch allen für euer Engagement in München am Sales Event. Eure Präsentationen und Vorbereitungen waren top und werden uns allen helfen, dieses Jahr unsere Quoten zu erfüllen. Zusätzlich hat es mal wieder Spaß gemacht in so einer großen Runde zusammen zukommen. Es hat mich gefreut, dass jeder einzelne von euch mit so viel Elan und Freude dabei war und ist. Das wird ein gutes Jahr.  Hermann\n",
      "-Hei Presales Team, vielen Dank für die geniale Schulung in München. Ich habe von allen ein sehr gutes Feedback zu euren Präsentationen bekommen. Und es war top, dass ihr alle vor Ort wart und ein großes Engagement gezeigt habt. Es waren wirklich viele Themen und ihr habt die Inhalte verständlich und unterhaltsam vermittelt. Es hat Spaß gemacht ! Hermann\n",
      "-Vielen Dank euch allen für euer Engagement in München am Sales Event. Eure Präsentationen und Vorbereitungen waren top und werden uns allen helfen, dieses Jahr unsere Quoten zu erfüllen. Zusätzlich hat es mal wieder Spaß gemacht in so einer großen Runde zusammen zukommen. Es hat mich gefreut, dass jeder einzelne von euch mit so viel Elan und Freude dabei war und ist. Das wird ein gutes Jahr.  Hermann\n",
      "-Vielen Dank euch allen für euer Engagement in München am Sales Event. Eure Präsentationen und Vorbereitungen waren top und werden uns allen helfen, dieses Jahr unsere Quoten zu erfüllen. Zusätzlich hat es mal wieder Spaß gemacht in so einer großen Runde zusammen zukommen. Es hat mich gefreut, dass jeder einzelne von euch mit so viel Elan und Freude dabei war und ist. Das wird ein gutes Jahr.  Hermann\n",
      "-Hei Presales Team, vielen Dank für die geniale Schulung in München. Ich habe von allen ein sehr gutes Feedback zu euren Präsentationen bekommen. Und es war top, dass ihr alle vor Ort wart und ein großes Engagement gezeigt habt. Es waren wirklich viele Themen und ihr habt die Inhalte verständlich und unterhaltsam vermittelt. Es hat Spaß gemacht ! Hermann\n",
      "-Hei Presales Team, vielen Dank für die geniale Schulung in München. Ich habe von allen ein sehr gutes Feedback zu euren Präsentationen bekommen. Und es war top, dass ihr alle vor Ort wart und ein großes Engagement gezeigt habt. Es waren wirklich viele Themen und ihr habt die Inhalte verständlich und unterhaltsam vermittelt. Es hat Spaß gemacht ! Hermann\n",
      "-Hei Presales Team, vielen Dank für die geniale Schulung in München. Ich habe von allen ein sehr gutes Feedback zu euren Präsentationen bekommen. Und es war top, dass ihr alle vor Ort wart und ein großes Engagement gezeigt habt. Es waren wirklich viele Themen und ihr habt die Inhalte verständlich und unterhaltsam vermittelt. Es hat Spaß gemacht ! Hermann\n",
      "-Vielen Dank euch allen für euer Engagement in München am Sales Event. Eure Präsentationen und Vorbereitungen waren top und werden uns allen helfen, dieses Jahr unsere Quoten zu erfüllen. Zusätzlich hat es mal wieder Spaß gemacht in so einer großen Runde zusammen zukommen. Es hat mich gefreut, dass jeder einzelne von euch mit so viel Elan und Freude dabei war und ist. Das wird ein gutes Jahr.  Hermann\n",
      "-Hei Presales Team, vielen Dank für die geniale Schulung in München. Ich habe von allen ein sehr gutes Feedback zu euren Präsentationen bekommen. Und es war top, dass ihr alle vor Ort wart und ein großes Engagement gezeigt habt. Es waren wirklich viele Themen und ihr habt die Inhalte verständlich und unterhaltsam vermittelt. Es hat Spaß gemacht ! Hermann\n",
      "-Vielen Dank euch allen für euer Engagement in München am Sales Event. Eure Präsentationen und Vorbereitungen waren top und werden uns allen helfen, dieses Jahr unsere Quoten zu erfüllen. Zusätzlich hat es mal wieder Spaß gemacht in so einer großen Runde zusammen zukommen. Es hat mich gefreut, dass jeder einzelne von euch mit so viel Elan und Freude dabei war und ist. Das wird ein gutes Jahr.  Hermann\n",
      "-Vielen Dank euch allen für euer Engagement in München am Sales Event. Eure Präsentationen und Vorbereitungen waren top und werden uns allen helfen, dieses Jahr unsere Quoten zu erfüllen. Zusätzlich hat es mal wieder Spaß gemacht in so einer großen Runde zusammen zukommen. Es hat mich gefreut, dass jeder einzelne von euch mit so viel Elan und Freude dabei war und ist. Das wird ein gutes Jahr.  Hermann\n",
      "-Lisa,  vielen Dank für Deine top Unterstützung bei unserem Sales Meeting. Von allen Teilnehmern kam ein sehr positives Feedback für Dich und Du hast die zwei Tage wesentlich dazu beigetragen, dass sich alle wohlgefühlt haben. Es war alles sehr schön und professionell vorbereitet  Wir sind froh, dass wir Dich im Office München haben.  Hermann\n",
      "-Hei Presales Team, vielen Dank für die geniale Schulung in München. Ich habe von allen ein sehr gutes Feedback zu euren Präsentationen bekommen. Und es war top, dass ihr alle vor Ort wart und ein großes Engagement gezeigt habt. Es waren wirklich viele Themen und ihr habt die Inhalte verständlich und unterhaltsam vermittelt. Es hat Spaß gemacht ! Hermann\n",
      "-Lieber Fuad,  ich möchte mich herzlich bei dir für deine tolle Unterstützung im Büro bedanken. Wir haben das Büro in den letzten Wochen wirklich auf Vordermann gebracht und auch den talend Umzug überstanden. Danke das du immer mit anpackst und mich so wunderbar unterstützt! Ich weiß du hast selber oft nicht die Zeit und deswegen schätze ich dein Engagement.   Vielen vielen Dank!\n",
      "-Dennis, vielen Dank, dass Du proaktiv das Event Setup für unser Team übernommen hast. Und das schon seit letztem Jahr. Es ist nicht einfach alle wichtigen Informationen bei uns zusammenzutragen, aktuell zu halten und sie zentral fürs gesamte Team aufzuarbeiten. Aber es ist ein wichtiger Baustein, damit wir im Team erfolgreich sind und genügend neue Projekte generieren. Weiter so ! Hermann\n",
      "-Lieber Denis,  ich möchte mich herzlich bei dir für die tolle Unterstützung im Büro bedanken! Es ist nicht selbstverständlich das du mir unter die Arme greifst und aushilfst, gerade wenn ich verhindert bin. Vielen Dank das du auch bei unserer Büroumräum-Aktion so mit angepackt hast! Es ist toll solche Kollegen zu haben! Riesen Danke an dich!\n",
      "-Hector, vielen Dank für Dein Engangement sowohl im vergangenen Jahr als auch in der erneut schwierigen Account Planungsphase. Du leistest einen wichtigen Beitrag für unsere gesamte Region. Darüber hinaus bist Du immer verfügbar wenn man Dich braucht und kümmerst Dich proaktiv um alle wichtigen Angelegenheiten.  Trotz der schwierigen Umstände macht es immer Spaß mit Dir zu arbeiten und führt zu einem top Ergebnis. Ich freue mich schon auf die nächsten 12 Monate Zusammenarbeit. Hermann\n",
      "-Philipp, vielen Dank für Deine Unterstützung in 2024 ! Die Zusammenarbeit hat viele gute Verbesserungen gebracht und hat immer Spaß gemacht. Deine offene Art und die Beharrlichkeit, Punkte umzusetzen mit Deinem Team, ist absolut lobenswert. Ich freue mich schon auf das Jahr 2024 in dem wir dann gemeinsam durchstarten. Hermann\n",
      "-Thomas, vielen Dank für die letzten 13 erfolgreichen, spannenden und manchmal verrückten Jahre. Es hat immer viel Spaß gemacht bei Dir im Team. Du hast es geschafft, dass wir alle immer motiviert und im Team gearbeitet haben und erfolgreich waren. Gerade die gute Stimmung und auch die langjährige Zugehörigkeit von uns ist absolut Dir zu verdanken. Nicht ohne Grund war mindestens einer von Deinem Team im Presidents Club vertreten. Ich freue mich jetzt darauf, die nächsten Jahre mit Dir unsere Teams gemeinsam erfolgreich zu bringen und dabei die Motivation und den Spaß aufrechtzuhalten. Hermann\n",
      "-Hallo Karl,  Herzlichen Glückwunsch! Das war eine starke Leistung in allen Bereichen - schnell und kompetent geantwortet ;-) Ich freu mich auf die (noch engere) Zusammenarbeit nächstes Jahr!  Frohe Weihnachten und einen guten Rutsch, Armin\n",
      "-Liebe Lisa, lieber Patrick,  vielen Dank für die Organisation der diesjährigen Weihnachtsfeier. Was ihr beide mit begrenzten Mitteln wieder auf die Beine gestellt habt ist schon großes Kino. Tolle Location, sehr gutes Essen und was das wichtigste ist: Viele Kollegen/innen von Qlik und Talend an einem Ort. Nochmals herzlichen Dank.\n",
      "-Liebe Lisa, lieber Patrick,  vielen Dank für die Organisation der diesjährigen Weihnachtsfeier. Was ihr beide mit begrenzten Mitteln wieder auf die Beine gestellt habt ist schon großes Kino. Tolle Location, sehr gutes Essen und was das wichtigste ist: Viele Kollegen/innen von Qlik und Talend an einem Ort. Nochmals herzlichen Dank.\n",
      "-Lieber Torsten,  ich möchte mich herzlich für deine Unterstützung bedanken. Der Fuhrpark wäre verloren ohne dich! Danke das du hier alles so gut im Blick hast und mich so toll unterstützt! DANKE!\n",
      "-Liebe Teo,  ich möchte mich von herzen bei dir für all deine Unterstützung bedanken!  Du bist immer für mich da und hast immer ein offenes Ohr für mich. Auch möchte ich mich für deine Unterstützung bei der Weihnachtsfeier Planung bedanken und für alles was du im Büro in Düsseldorf übernimmst!  Großes Danke!\n",
      "-Lieber Fuad,  ich möchte mich von herzen bei dir für deine Unterstützung bedanken! Du bist immer für mich da und hilfst mir in egal welchem Bereich immer aus, das weiß ich sehr zu schätzen. Ich bin froh das wir zusammen Arbeiten.  Danke dir!!\n",
      "-Liebe Maren,  dieser Award ist schon lange überfällig! Vielen Dank für all deine Unterstützung was das Düsseldorfer Büro angeht! Du übernimmst hier viele der vor Ort Termine und schaust auch regelmäßig nach der Post! Das ist nicht selbstverständlich weil es nicht deine Aufgabe ist. Danke das du hier soviel mitmachst, ich weiß das sehr zu schätzen!  Großes Danke an dich!\n",
      "-Lieber Patrick,  ich möchte mich für deinen Support und deine Positive Art bei dir bedanken. Du hast mich mit der Weihnachtsfeier Planung sehr unterstützt und ich weiß es zu schätzen wie viel Arbeit du dir damit zusätzlich gemacht hast! Dank dir haben wir etwas auf die Beine stellen können! Du bist ein toller Kollege und die Firma kann sich mehr als glücklich schätzen dich hier zu haben!  Danke für alles! :)\n",
      "-Liebe Maren, Ich möchte mich ganz herzlich bei dir bedanken dass du mich und unser Büro in Düsseldorf so unterstützt! Du übernimmst hier viele Aufgaben und hilfst mir alles abzuarbeiten. Danke das ich mich so auf dich verlassen kann! LG Lisa\n",
      "-Mathias ich möchte mich bei dir bedanken für all deine Unterstützung! Du hast immer einen gute Rat für mich oder eine Idee wie ich Probleme lösen kann. Vielen Dank dass du dir immer die Zeit nimmst und mich unterstützt.\n",
      "-Lieber Fuad,  ich möchte mich herzlich bei dir für all deine Unterstützung bedanken! Egal wo der Schuh drückt du hilfst immer einen Weg zu finden. Besonders technisch hast du viel Geduld mir alles zu zeigen! Danke für alles!\n",
      "-Liebe Teo,  Ich möchte mich herzlich bedanken für deine Unterstützung in allem was die Buchhaltung angeht. Du hilfst mir bei sehr vielen Dingen und unterstützt mich auch in der Kommunikation mit den verschiedenen Anlaufstellen. Danke dass du dir immer die Zeit nimmst!\n",
      "-Lieber Torsten,  ich möchte bei dir für deine Unterstützung bedanken! Du hilfst mir den Fuhrpark auf Vordermann zu bringen und hast viele Wege gefunden der Firma Geld einzusparen.  Ich danke dir fürs Hinterfragen und dein sehr genaues Arbeiten, ich habe schon viel von dir gelernt! DANKE!\n",
      "-Danke für deinen Einsatz und die tollen Ideen für die Organisation des Qlik Austria Days! Das fantastische Feedback der Kunden & Interessenten spricht für sich.  Im \"Haus des Meeres\" hat einfach alles gepasst und wir konnten dank dir unseren Qlik Spirit super an die Besucher übertagen.\n",
      "-Schnelligkeit, Verlässlichkeit und Genauigkeit sind elementar wichtig für unseren Erfolg im Verkauf. Lisa, du verkörperst diese Grundsätze jeden Tag indem du mich bei der Zuweisung von Sales Anfragen via Telefon und Email tatkräftig unterstützt. Dies ein nicht zu unterschätzender Beitrag für unser gemeinsamen Erfolg. Vielen Dank!\n",
      "-Liebe Sandra, ich wollte mich herzlich bei dir bedanken, du bist immer für mich da und unterstützt mich oft in Aufgaben die dich nicht betreffen. Es ist toll Kolleginnen wie dich im Team zu haben, ich habe schon eine menge gelernt und bin dir wirklich dankbar. Ich hoffe eine weitere tolle Zeit zusammen mit dir als Kollegin. :)\n",
      "-Lieber Mathias,  ich möchte dir wirklich von Herzen danken für all deine Unterstützung in jedem Bereich. Es ist toll, Kollegen wie dich zu haben! Du hast immer tolle Ideen oder findest einen Weg mir zu helfen wenn ich nicht weiter weiß. Vielen Dank für deinen Support und dein offenes Ohr, ohne dich würde definitiv etwas fehlen im Büro! :)\n",
      "-Vielen Dank Christian für deine schnelle und unkomplizierte Unterstützung für Benny's Schülerpraktikum im Sommer bei Qlik.\n",
      "-Christian ich wollte mich bei dir ganz herzlich für deine Unterstützung bedanken was die Organisation im Büro in Wien angeht.  Danke das du vor Ort ein Dinge in die Hand genommen hast!  Du hast mir damit sehr geholfen. Danke dir! :)\n",
      "-Lieber Amir,  ich wollte mich bei dir bedanken für deine Unterstützung. Du hast immer ein Auge auf alles, wenn ich mal nicht im Büro sein kann und ich weiß ich kann mich auf dich verlassen. Das arbeiten mit dir macht sehr viel Spaß 😊\n",
      "-Liebe Maren,  ich möchte mich herzlich bei dir bedanken für deine Unterstützung im Düsseldorfer Büro. Jetzt wo wir noch keine Nachfolgerin für Greta gefunden haben, ist es toll das du ein Auge mit auf die Post etc. hast. Danke für deine Unterstützung! 😊\n",
      "-Lieber Christian,  ich wollte mich gerne mal bei dir bedanken für meine Einarbeitung und deine Unterstützung in allem.  Egal mit was ich um die Ecke komme, du hast immer ein offenes Ohr und einen Rat für mich. Du hast meinen Einstieg bei Qlik um einiges leichter gemacht. Ich schätze unsere Zusammenarbeit sehr und freue mich auf die weitere Zeit bei Qlik. 😊\n",
      "-Lieber Fuad,  ich wollte mich herzlich bei dir bedanken für all deine Unterstützung. Du hast mir besonders am Anfang sehr geholfen in allen IT-Fragen und Problemen, die bei mir aufkamen. Danke auch das du mich in vielen Office Bereichen unterstützt oder mich vertrittst, wenn ich nicht hier sein kann.  Du hast meinen Start bei Qlik deutlich leichter gemacht und ich möchte einfach mal Danke sagen! 😊\n",
      "-Liebe Teo, ich wollte mich herzlich bei dir bedanken für all deine Hilfe und Unterstützung! Gerade jetzt wo Greta weg ist und ich doch noch ein paar Fragen habe, bist du immer für mich da und erklärst mir alles. Ich weiß deine Hilfe und Zeit sehr zu schätzen und möchte auf diesem Weg einfach DANKE sagen! :)\n",
      "-Ein großes Danke an dich und deine unermüdliche Unterstützung! Du hast mir und auch Greta in sehr vielen Punkten weiter geholfen und uns auch viel dabei gelehrt. Ich bin sehr froh das du mein Kollege bist und mir mit Rat und Tat zur Seite stehst! Auch jetzt wo ich alleine bin. Ein besonderer Dank noch für dein Einsatz in Düsseldorf\n",
      "-Liebe Sandra, ich möchte dir für deine Unterstützung Danken. Dank deiner großartigen Ideen haben wir eine richtig schöne Weihnachtsfeier auf die Beine gestellt! Endlich sind mal wieder (fast) alle Kollegen zusammengekommen und wir hatten einen schönen Abend als Team. Ich bin sehr froh, dass du mich bei der Planung so unterstützt hast und mir bei meiner ersten Aufgabe bei Qlik so zur Seite standest. Auch bei meinen vielen anderen Fragen konnte ich mich immer an dich wenden und du hast dir immer Zeit genommen, um mir weiterzuhelfen. Du bist eine tolle Kollegin und ich freue mich auf weitere Projekte mit dir! :)\n",
      "-Mathias, ich möchte mich herzlich bei dir bedanken für all deine Unterstützung, Zeit und Mühe. Egal mit was ich bei dir ankomme du findest immer eine Lösung. Das hat mir meinen Start bei Qlik deutlich leichter gemacht.  Vielen Dank! :)\n",
      "-Danke Lisa das du so schnell in die Themen reingekommen bist und echt Hut ab wie professional du auch sensible Themen wie Handys, Lease Cars etc. angehst und immer auch schaust was das beste für die Firma ist! (und wir dadurch wirklich Geld sparen)   DANKE!\n",
      "-Lieber Dennis, vielen Dank, dass ich die ganze Strecke nach Wilhelmshaven und zurück bei im Auto sicher und zügig zurückelgen konnte. Besonders dankbar bin ich dir, dass du mich vor den Unwägbarkeiten des ÖPNV in NRW bewahrt hast und mir somit mehr als zwei Stunden Zeit geschenkt hast. Zudem hat sich meine Familie hat sich gefreut, dass ich entspannt zu Hause ankam. \n",
      "-Super Job Stephan! Eine sehr gute und umfangreiche Zusammenstellung der historischen und aktuellen QDA Lizenzen plus wichtiger Anleitungen für die tägliche Arbeit der Sales, CSM´s und im Hub. Du hast das sehr anschaulich und klar präsentiert sowie ein tolles Collateral erstellt - Danke! \n",
      "-Danke Laura für deinen grandiosen Einsatz, Emil Frey über die Ziellinie zu ziehen! Es war eine fanstatische Zusammenarbeit bei der wir uns gut ergänzen konnten. Top Job bei Procurement und dem kompletten closing während meiner Abwesenheit. Auf many more Deals to come :)\n",
      "-Danke Fuad für Deine immer tolle Unterstützung bei jeglichen Problemen in München Office (vor allem IT Probleme ;-)). \n",
      "-Ganz großes Kino, vielen Dank für Deine tolle Organisation! ❤❤❤\n",
      "-Ganz großes Kino, vielen Dank für Deine tolle Organisation! ❤❤❤\n",
      "-Alex,  you have delivered an outstanding training to Siemens this week. I'll add the feedback directly in here, but it doesn't need additional comments :-) Well done!!  \"Guten Morgen Alex,   bei mir ist gestern kurz vor 16.00 Uhr das Internet leider total weggebrochen, daher mein Feedback schriftlich: Ich durfte ja als Nachrücker in den Kurs kommen da noch ein freier Platz war, daher steht der Kurs nicht in meinem Curriculum.   Aber was für ein eye-opener!   Herzlichen Dank – die vermittelten Inhalte haben viele Fragen/Unsicherheiten geklärt und mir auch die Scheu vor den „technischen Sprachen“ genommen. Sehr hilfreich wie Du uns an die Hand genommen und „mittippen“ hast lassen – SQL wird mein nächster Task: der Kurs dafür ist in der „siemens learning world“ bereits markiert und wird bald in Angriff genommen!   Relationale Datenbankbeziehungen kannte ich – assoziativ ist totales Neuland und war mir überhaupt nicht bewusst dass so etwas auch möglich ist. Super auch, dass wir im Frontend ein bisschen üben durften – mir persönlich fällt es immer leichter an die Hand genommen zu werden oder zusammen etwas ausprobieren zu können als sich solche Inhalte alleine erarbeiten zu müssen.   Herzlichen Dank auch für Deine Geduld – ich stelle ja Fragen immer sehr schnell & gerne 😊 Wie Marcus am Montag auch schon erwähnt hatte – gut dass Du nicht im Keller geblieben bist um zu programmieren sondern Dein Wissen geduldig und mit Witz und Charme unter die Leute bringst!   Herzlichen Dank auch an meine Siemens-Kollegen – wie Lisa schon schreibt – das war eine sehr nette, lockere Runde und hat sehr dazu beigetragen die 3 Tage, die ja inhaltlich teilweise echt knackig waren (also für mich), mit Spaß und guter Laune zu absolvieren.   Viele Grüße, Kathrin\"\n",
      "-Vielen Dank liebe Irene, du unterstützt mich in meiner Rolle als Deputy Hausmeister für das Düsseldorfer Büro umfassend und schnell. Alles was dort benötigt wird, ob Dienstleistungen oder Waren, du kümmerst dich umgehend darum. Ohne deine Hilfe würde das Büro nicht öffnen können. \n",
      "-Hi Mihael,  thank you, very much extraordinary contribution, on Porsche Motorsport! With your dedication, passion and knowledge you made the magic happen! I would like to share a quote of one of our Decision Makers at Porsche:  „Hallo Robby,  ich wollte mich nochmal für euer Engagement für die Umsetzung des UseCases bei uns im Motorsport bedanken. Mihael hat uns mega geholfen und unterstützt das Thema ans Laufen zu bringen. Der erste WS letzte Woche lief für alle Beteiligten sehr positiv – das Reporting live im Termin wurde von Excel zu Qlik Sense gebracht.  Vielen Dank!!! Nils Lückfeldt“    \n",
      "-Sean, vielen Dank für Deinen TOP POC bei unserem Kunden. Wir haben ein sehr gutes Feedback bekommen, und der Kunde wird nach der Testphase sicher dann auch Qlik Sense SaaS kaufen. Auch von meiner Seite vielen Dank für die gute Zusammenarbeit. Du hast top selbstständig gearbeitet und hast die relevanten Personen dann auch immer zum richtigen Zeitpunkt hinzugeholt (inkl. mich als Sales). Parallel hast Du das ganze Team während des POC informiert gehalten. So waren wir alle permanent uptodate. Top Job Hermann \n",
      "-You incorporated with the new Qlik Story in no time and spread excitement around the new Go To Market / Platform capabilities within 2 key notes during 2 marketing events. Customer feedback: Hoch spannend, zukunftsorientiert – sehr guter Vortrag Schöne Vision, die Praxis werden kann Sehr kompetent. Sachlich, visionär. Schnörkellos gut! Well done Dennis! Keep spreading our message! \n",
      "-Hallo Irene.  vielen Dank für Deine schnelle Hilfe und Unterstützung, damit ich mein verlorenes Handy ( und mein Ladekabel ) wiederbekommen habe! Danke, das Du zum Münchner Fundbüro gefahren, um das Handy abzuholen und ebenso den schnellen Versand per Kurier veranlasst hast.  Lieber Gruß  Alexander\n",
      "-Christian, danke dir, dass du immer zur Seite stehst, wenn jemand ein IT-Problem hat, gerade bei den New Hires. Wir hatten in den letzten Monaten hier diverse Probleme in dem IT-Onbaording-Prozess und es ist mir des öfteren schon aufgefallen, dass du immer gleich automatisch hilfst, nicht heute nur bei Wolfgang Kellner! Vielen, vielen Dank! \n",
      "-Nick hatte die Idee, die Axceed Mashup Möglichkeiten der Raiffeisen Bank International zu präsentieren, hat sofort einen Webex Termin mit Partner und Kunde organisiert, der dann auch 3 Tage später stattgefunden hat. Der Kunde war absolut begeistert und ich noch mehr! Danke für's tolle Miteinander, deine Kreativität, Kundenorientierung und Teamgeist sind echt vorbildlich! \n",
      "-Vielen Dank für das kurzfristige Einspringen sowie die professionelle Präsentation bei der HPE Schweiz. Die meisten Fragen konnten kompetent beantwortet und konkrete Tasks definiert werden. Dank unserem Auftritt ist das HPE Roche Account Team auch motiviert und willens zur Zusammenarbeit.\n",
      "-Danke Alexander, die Abstimmung im Bereich NAM/LAM kann nicht besser sein. Qlik und ich profitieren von einem schnellen und dedizierten Informationsaustausch, sodass Maßnahmen sofort umgesetzt werden können.\n",
      "-Danke Dir für Deinen nimmermüden Einsatz uns in allen \"Lebenslagen\" zu unterstützen und das Team nach \"vorne\" zu bringen !!! Ohne Dich wären viele Dinge in den letzten Monaten echt schwierig zu bewältigen gewesen. Danke\n"
     ]
    }
   ],
   "source": [
    "## german -- de\n",
    "germ_rows = df_topic[df_topic['language_label'] == 'de'] \n",
    "\n",
    "## print german text\n",
    "print('German Text identified:')\n",
    "for i, row in germ_rows.iterrows(): \n",
    "    print(f\"-{row['message']}\")\n",
    "    if i == 2: \n",
    "        break "
   ]
  },
  {
   "cell_type": "code",
   "execution_count": 41,
   "id": "4fb867cc-50db-486e-a9bb-659b49f1de77",
   "metadata": {},
   "outputs": [
    {
     "name": "stdout",
     "output_type": "stream",
     "text": [
      "Urdu Text identified:\n",
      "-Qlik Legends 12\n",
      "-Q4 SPIFF AWARD\n",
      "-Q4 SPIFF AWARD\n",
      "-Q4 SPIFF AWARD\n",
      "-Q4 SPIFF AWARD\n",
      "-Q4 SPIFF\n",
      "-Q4 SPIFF\n",
      "-Q4 SPIFF\n",
      "-Q4 SPIFF\n",
      "-Q4 SPIFF AWARD\n",
      "-Q4 SPIFF\n",
      "-Q4 SPIFF\n",
      "-Q4 SPIFF AWARD\n",
      "-Q4 SPIFF\n",
      "-Q4 SPIFF AWARD\n",
      "-Q4 SPIFF\n",
      "-Q4 SPIFF AWARD\n",
      "-Q4 SPIFF\n",
      "-Q4 SPIFF AWARD\n",
      "-Q4 SPIFF AWARD\n",
      "-Q4 SPIFF AWARD\n",
      "-Q4 SPIFF AWARD\n",
      "-Q4 SPIFF AWARD\n",
      "-Q4 SPIFF AWARD\n",
      "-Q4 SPIFF AWARD\n",
      "-Q4 SPIFF\n",
      "-Q4 SPIFF\n",
      "-Q4 SPIFF\n",
      "-Q4 SPIFF\n",
      "-Q4 SPIFF AWARD\n",
      "-Q4 SPIFF\n",
      "-Q4 SPIFF\n",
      "-Q4 SPIFF AWARD\n",
      "-Q4 SPIFF\n",
      "-Q4 SPIFF\n",
      "-Q4 SPIFF\n",
      "-Q4 SPIFF\n",
      "-Q4 SPIFF\n",
      "-Q4 SPIFF\n",
      "-Q4 SPIFF\n",
      "-Q4 SPIFF\n",
      "-Q4 SPIFF\n",
      "-Q4 SPIFF\n",
      "-Q4 SPIFF\n",
      "-Q4 SPIFF\n",
      "-Happy Anniversary Ee Xin\n",
      "-Qlik WIT IWD Quiz Winner\n",
      "-Qlik WIT IWD Quiz Winner\n",
      "-Qlik WIT IWD Quiz Winner\n"
     ]
    }
   ],
   "source": [
    "## Urdu - ur \n",
    "urdu_rows = df_topic[df_topic['language_label'] == 'ur'] \n",
    "\n",
    "## print urdu text\n",
    "print('Urdu Text identified:')\n",
    "for i, row in urdu_rows.iterrows(): \n",
    "    print(f\"-{row['message']}\")\n",
    "    if i == 5: \n",
    "        break "
   ]
  },
  {
   "cell_type": "markdown",
   "id": "ab3949e4-9398-4c20-bb27-2b9db75c6dde",
   "metadata": {},
   "source": [
    "Summary\n",
    "* Obviously this is not urdu text. However, the client doesnt care about the breakdown by language so in the end not a big deal. The topic model will still translate it. "
   ]
  },
  {
   "cell_type": "code",
   "execution_count": 33,
   "id": "719c85f6-40fe-4f96-8ae0-04cb74ac9f9d",
   "metadata": {},
   "outputs": [
    {
     "name": "stdout",
     "output_type": "stream",
     "text": [
      "Polish Text identified:\n",
      "-SS Bulldozya 3rd place. \n",
      "-SS Bulldozya 3rd place.\n"
     ]
    }
   ],
   "source": [
    "## polish -- pl\n",
    "polish_rows = df_topic[df_topic['language_label'] == 'pl'] \n",
    "\n",
    "## print polish text\n",
    "print('Polish Text identified:')\n",
    "for i, row in polish_rows.iterrows(): \n",
    "    print(f\"-{row['message']}\")\n",
    "    if i == 2: \n",
    "        break "
   ]
  },
  {
   "cell_type": "markdown",
   "id": "f747e35d-998a-4197-b12b-aec26c58cd3e",
   "metadata": {},
   "source": [
    "Summary\n",
    "* This is actually english. Again not a big deal but good thing we took a look at what the model missed. "
   ]
  },
  {
   "cell_type": "code",
   "execution_count": 34,
   "id": "ff378778-713a-4f49-9950-6344486c48bb",
   "metadata": {},
   "outputs": [
    {
     "name": "stdout",
     "output_type": "stream",
     "text": [
      "Japanese Text identified:\n",
      "-いつもサポートして頂きありがとうございます。 日々サポートして頂いているお陰で営業に集中できております。 引き続きご支援よろしくお願いいたします。\n",
      "-いつもQlikのためにありがとうございます。\n",
      "-いつもありがとうございます！\n",
      "-Thank you for always supporting us, I am really happy to have you in Tokyo team! 5年記念おめでとうございます！！\n",
      "-３０周年パーティの企画や準備ありがとうございました。私も手伝おうと思っていたのですが、何もできずすみません(´;ω;｀)\n",
      "-３０周年パーティの企画や準備ありがとうございました。私も手伝おうと思っていたのですが、何もできずすみません(´;ω;｀)\n",
      "-APIのケース、プロキシ関連のケース、他にもたくさんのケースで的確なアドバイスをいただきありがとうございます。検証のアシストだけでなく、なぜこうなるのかの補足説明までいただけて、とても有り難く思っています。\n",
      "-３月４月は大変でしたが、たくさん助けていただきありがとうございました。\n",
      "-３月４月は大変でしたが、たくさん助けていただきありがとうございました。\n",
      "-Xmas Partyでは寿司職人として皆さんにおいしいお寿司をふるまっていただきありがとうございました！\n",
      "-Xmas Partyでは素晴らしいパフォーマンスを披露していただきありがとうございました！\n",
      "-今年は１年お世話になりました。わからないことがあるとどんなケースでも聞いてしまいましたが、全て真摯に対応してくださったおかげでケースを進めることができました。ありがとうございました！良いお年を～！\n",
      "-it was a really long long journey...７月から始まったので約半年間、お付き合いいただきありがとうございました！！！\n",
      "-いつも笑顔でお話を聞いてくださったりケースをたくさん振ってくださったり、メンタル面でも技術面でも今年一年たくさんお世話になりました。仕事ができなすぎて落ち込むことが多い１年でしたが、Ayakaさんの温かさにたくさん救われました。Ayakaさんが私のマネージャーでよかったです。\n",
      "-LCでCSの内容が多く来ていたときに、カジュアルにミーティングで１から丁寧に教えてくださりとてもうれしかったです。ありがとうございました。\n",
      "-何を聞いても全部答えてくださってありがとうございます！\n",
      "-入社初日にもかかわらず、Japan Beer Bustの準備、片づけ、盛り上げ役と大変活躍いただいたこと感謝します。ありがとうございます！\n"
     ]
    }
   ],
   "source": [
    "## japanese -- ja\n",
    "japan_rows = df_topic[df_topic['language_label'] == 'ja'] \n",
    "\n",
    "## print japanese text\n",
    "print('Japanese Text identified:')\n",
    "for i, row in japan_rows.iterrows(): \n",
    "    print(f\"-{row['message']}\")\n",
    "    if i == 2: \n",
    "        break "
   ]
  },
  {
   "cell_type": "markdown",
   "id": "8184c5ae-5fd7-40e3-a5bf-3b40003bb56f",
   "metadata": {},
   "source": [
    "Summary\n",
    "* This is japanese that was detected."
   ]
  },
  {
   "cell_type": "markdown",
   "id": "c8b2dd8f-90ea-4566-b149-12e429da80e7",
   "metadata": {},
   "source": [
    "# Qwen/Qwen2.5-7B-Instruct\n",
    "* This is the model we will use: https://huggingface.co/Qwen/Qwen2.5-7B-Instruct\n",
    "* The other reasons to use Qwen-2.5?\n",
    "\n",
    "1. Long-context Support up to 128K tokens and can generate up to 8K tokens.\n",
    "\n",
    "2. Multilingual support for over 29 languages, including Chinese, English, French, Spanish, Portuguese, German, Italian, Russian, Japanese, Korean, Vietnamese, Thai, Arabic, and more. Thus we can use this for language translation tasks as part of our pipeline.\n",
    "\n",
    "## Why use an Instruct model?\n",
    "* The key difference between \"Qwen2.5-7B\" and \"Qwen2.5-7B Instruct\" is that the \"Instruct\" version is specifically fine-tuned to better follow instructions and generate text responses that are more aligned with user prompts, making it more suitable for direct interaction through conversational tasks, while the standard \"Qwen2.5-7B\" model serves as a more general-purpose foundation for further customization and fine-tuning by developers.\n",
    "\n",
    "## Why are we using a 7B model and not the largest 72B model?\n",
    "* According to the BERTopic inventor, Maarten says this is a \"nice balance between inference and speed, accuracy and speed.\"\n",
    "* A larger model would be more accurate but compute power would be an issue.\n",
    "* A smaller model would be faster but less accurate.\n",
    "* Thus we will take Maarten's advice and go with the \"in-between\" size.\n",
    "* Previously I have used Llama-2 13B size following this same method and it worked quite well."
   ]
  },
  {
   "cell_type": "code",
   "execution_count": 35,
   "id": "0c114f72-86df-45d3-9940-0f2dad9502d0",
   "metadata": {},
   "outputs": [
    {
     "name": "stdout",
     "output_type": "stream",
     "text": [
      "cuda\n"
     ]
    }
   ],
   "source": [
    "# import torch -- if not already done above\n",
    "#import torch\n",
    "\n",
    "\n",
    "## model_id\n",
    "model_id = 'Qwen/Qwen2.5-7B-Instruct'\n",
    "\n",
    "## device agnostic code\n",
    "device = torch.device(\"cuda\" if torch.cuda.is_available() else \"cpu\")\n",
    "\n",
    "# print device\n",
    "print(device)"
   ]
  },
  {
   "cell_type": "markdown",
   "id": "bc60ba47-36df-47fb-9a7b-ed7a242c6395",
   "metadata": {},
   "source": [
    "# QLoRA - LLM Optimization & Quantization\n",
    "* Before we load a 14 BILLION PARAMETER LLM, optimization is a must!\n",
    "* VRAM on any device is limited, so we need to condense the model to run it locally.\n",
    "* There are numerous techniques and tricks to do this but the main principle is 4-bit quantization.\n",
    "* This will reduce the 64-bit representation to only 4-bits which reduces the GPU memory needed to run the LLM model.\n",
    "\n",
    "## QLoRA quantiation parameters we are using\n",
    "1. **load_in_4bit**\n",
    "    * Allows us to load the model in 4-bit precision compared to the original 32-bit precision. This gives us an incredible speed up and reduces memory!\n",
    "\n",
    "2. **bnb_4bit_quant_type**\n",
    "    * This is the type of 4-bit precision.\n",
    "    * The original paper recommends normalized float 4-bit, so that is what we are going to use!\n",
    "\n",
    "3. **bnb_4bit_use_double_quant**\n",
    "    * This is a neat trick as it performs a second quantization after the first which further reduces the necessary bits\n",
    "\n",
    "4. **bnb_4bit_compute_dtype**\n",
    "    * The compute type used during computation, which further speeds up the model."
   ]
  },
  {
   "cell_type": "code",
   "execution_count": 36,
   "id": "e9ca7d6f-9c65-4ae8-b3ab-8d43e36643e5",
   "metadata": {},
   "outputs": [],
   "source": [
    "from torch import bfloat16 ## google brain float16 \n",
    "import transformers\n",
    "\n",
    "## now we set the quantization to load LLM with less GPU memory\n",
    "## this requires the `bitsandbytes` library\n",
    "\n",
    "##bits and bytes config -- 32 bit to 4 bit\n",
    "bnb_config = transformers.BitsAndBytesConfig(\n",
    "    load_in_4bit=True, #4-bit quantization\n",
    "    bnb_4bit_quant_type='nf4', #normalized float 4\n",
    "    bnb_4bit_use_double_quant=True, #second quantization after first\n",
    "    bnb_4bit_compute_dtype=bfloat16 #computation type\n",
    "\n",
    ")"
   ]
  },
  {
   "cell_type": "markdown",
   "id": "772a3d5c-8618-44f7-b201-807adfb05088",
   "metadata": {},
   "source": [
    "## Load Qwen LLM Model from Hugging Face"
   ]
  },
  {
   "cell_type": "code",
   "execution_count": 37,
   "id": "bf019bfd-b450-4f1c-aa28-f373bea6567a",
   "metadata": {},
   "outputs": [
    {
     "data": {
      "application/vnd.jupyter.widget-view+json": {
       "model_id": "fa66e18dd7784e6e818146fa4c61545a",
       "version_major": 2,
       "version_minor": 0
      },
      "text/plain": [
       "tokenizer_config.json:   0%|          | 0.00/7.30k [00:00<?, ?B/s]"
      ]
     },
     "metadata": {},
     "output_type": "display_data"
    },
    {
     "data": {
      "application/vnd.jupyter.widget-view+json": {
       "model_id": "9d3cbf36c5204fb8b1f168ed15a110b9",
       "version_major": 2,
       "version_minor": 0
      },
      "text/plain": [
       "vocab.json:   0%|          | 0.00/2.78M [00:00<?, ?B/s]"
      ]
     },
     "metadata": {},
     "output_type": "display_data"
    },
    {
     "data": {
      "application/vnd.jupyter.widget-view+json": {
       "model_id": "845bb131dcb642d192b607d57378e56d",
       "version_major": 2,
       "version_minor": 0
      },
      "text/plain": [
       "merges.txt:   0%|          | 0.00/1.67M [00:00<?, ?B/s]"
      ]
     },
     "metadata": {},
     "output_type": "display_data"
    },
    {
     "data": {
      "application/vnd.jupyter.widget-view+json": {
       "model_id": "ada99da74ae04f0cbe54c08cdacd3fc3",
       "version_major": 2,
       "version_minor": 0
      },
      "text/plain": [
       "tokenizer.json:   0%|          | 0.00/7.03M [00:00<?, ?B/s]"
      ]
     },
     "metadata": {},
     "output_type": "display_data"
    },
    {
     "data": {
      "application/vnd.jupyter.widget-view+json": {
       "model_id": "4760f00eda0a4d92a6341d1a0ce0d172",
       "version_major": 2,
       "version_minor": 0
      },
      "text/plain": [
       "config.json:   0%|          | 0.00/663 [00:00<?, ?B/s]"
      ]
     },
     "metadata": {},
     "output_type": "display_data"
    },
    {
     "data": {
      "application/vnd.jupyter.widget-view+json": {
       "model_id": "e29ce6268a4544709d3cc92fd8cbb1a5",
       "version_major": 2,
       "version_minor": 0
      },
      "text/plain": [
       "model.safetensors.index.json:   0%|          | 0.00/27.8k [00:00<?, ?B/s]"
      ]
     },
     "metadata": {},
     "output_type": "display_data"
    },
    {
     "data": {
      "application/vnd.jupyter.widget-view+json": {
       "model_id": "f09b3a05156e403c9242da343edc0ba1",
       "version_major": 2,
       "version_minor": 0
      },
      "text/plain": [
       "Downloading shards:   0%|          | 0/4 [00:00<?, ?it/s]"
      ]
     },
     "metadata": {},
     "output_type": "display_data"
    },
    {
     "data": {
      "application/vnd.jupyter.widget-view+json": {
       "model_id": "83573f3a09ce4afea1067460a001cd6e",
       "version_major": 2,
       "version_minor": 0
      },
      "text/plain": [
       "model-00001-of-00004.safetensors:   0%|          | 0.00/3.95G [00:00<?, ?B/s]"
      ]
     },
     "metadata": {},
     "output_type": "display_data"
    },
    {
     "data": {
      "application/vnd.jupyter.widget-view+json": {
       "model_id": "b9a32969cf3e430ca0fe3ab743681e2d",
       "version_major": 2,
       "version_minor": 0
      },
      "text/plain": [
       "model-00002-of-00004.safetensors:   0%|          | 0.00/3.86G [00:00<?, ?B/s]"
      ]
     },
     "metadata": {},
     "output_type": "display_data"
    },
    {
     "data": {
      "application/vnd.jupyter.widget-view+json": {
       "model_id": "2df69a7984af4fb981e24abac3dce9e8",
       "version_major": 2,
       "version_minor": 0
      },
      "text/plain": [
       "model-00003-of-00004.safetensors:   0%|          | 0.00/3.86G [00:00<?, ?B/s]"
      ]
     },
     "metadata": {},
     "output_type": "display_data"
    },
    {
     "data": {
      "application/vnd.jupyter.widget-view+json": {
       "model_id": "ceb207eb40a44d858d212ccbfb01e7c5",
       "version_major": 2,
       "version_minor": 0
      },
      "text/plain": [
       "model-00004-of-00004.safetensors:   0%|          | 0.00/3.56G [00:00<?, ?B/s]"
      ]
     },
     "metadata": {},
     "output_type": "display_data"
    },
    {
     "data": {
      "application/vnd.jupyter.widget-view+json": {
       "model_id": "3a68736757ab493f9c47323673e1b88a",
       "version_major": 2,
       "version_minor": 0
      },
      "text/plain": [
       "Loading checkpoint shards:   0%|          | 0/4 [00:00<?, ?it/s]"
      ]
     },
     "metadata": {},
     "output_type": "display_data"
    },
    {
     "data": {
      "application/vnd.jupyter.widget-view+json": {
       "model_id": "9572e310762f44c8841f849c0b55a738",
       "version_major": 2,
       "version_minor": 0
      },
      "text/plain": [
       "generation_config.json:   0%|          | 0.00/243 [00:00<?, ?B/s]"
      ]
     },
     "metadata": {},
     "output_type": "display_data"
    },
    {
     "data": {
      "text/plain": [
       "Qwen2ForCausalLM(\n",
       "  (model): Qwen2Model(\n",
       "    (embed_tokens): Embedding(152064, 3584)\n",
       "    (layers): ModuleList(\n",
       "      (0-27): 28 x Qwen2DecoderLayer(\n",
       "        (self_attn): Qwen2Attention(\n",
       "          (q_proj): Linear4bit(in_features=3584, out_features=3584, bias=True)\n",
       "          (k_proj): Linear4bit(in_features=3584, out_features=512, bias=True)\n",
       "          (v_proj): Linear4bit(in_features=3584, out_features=512, bias=True)\n",
       "          (o_proj): Linear4bit(in_features=3584, out_features=3584, bias=False)\n",
       "        )\n",
       "        (mlp): Qwen2MLP(\n",
       "          (gate_proj): Linear4bit(in_features=3584, out_features=18944, bias=False)\n",
       "          (up_proj): Linear4bit(in_features=3584, out_features=18944, bias=False)\n",
       "          (down_proj): Linear4bit(in_features=18944, out_features=3584, bias=False)\n",
       "          (act_fn): SiLU()\n",
       "        )\n",
       "        (input_layernorm): Qwen2RMSNorm((3584,), eps=1e-06)\n",
       "        (post_attention_layernorm): Qwen2RMSNorm((3584,), eps=1e-06)\n",
       "      )\n",
       "    )\n",
       "    (norm): Qwen2RMSNorm((3584,), eps=1e-06)\n",
       "    (rotary_emb): Qwen2RotaryEmbedding()\n",
       "  )\n",
       "  (lm_head): Linear(in_features=3584, out_features=152064, bias=False)\n",
       ")"
      ]
     },
     "execution_count": 37,
     "metadata": {},
     "output_type": "execute_result"
    }
   ],
   "source": [
    "# Load dependencies from hf\n",
    "from transformers import AutoTokenizer, AutoModelForCausalLM\n",
    "import accelerate\n",
    "\n",
    "## load tokenizer\n",
    "tokenizer = transformers.AutoTokenizer.from_pretrained(model_id)\n",
    "\n",
    "## Qwen2.5-14B Instruct -- init model\n",
    "model = transformers.AutoModelForCausalLM.from_pretrained(\n",
    "    model_id,\n",
    "    trust_remote_code=True,\n",
    "    quantization_config=bnb_config, #quantization config from above\n",
    "    device_map='auto' ## if you are distributing across GPUs\n",
    ")\n",
    "\n",
    "## model params\n",
    "model.eval()"
   ]
  },
  {
   "cell_type": "markdown",
   "id": "86d81edd-bbf8-4e4a-b4aa-89dc80163915",
   "metadata": {},
   "source": [
    "## Setup DataParallel for multiple GPU support"
   ]
  },
  {
   "cell_type": "code",
   "execution_count": null,
   "id": "74c32373-0af8-4d1d-acad-25a6b6109747",
   "metadata": {},
   "outputs": [],
   "source": [
    "# import torch.nn as nn\n",
    "\n",
    "# device = torch.device(\"cuda\" if torch.cuda.is_available() else \"cpu\")\n",
    "\n",
    "# if torch.cuda.device_count() > 1:\n",
    "#     print(f\"Using {torch.cuda.device_count()} GPUs!\")\n",
    "#     model = nn.DataParallel(model)\n",
    "# else:\n",
    "#     print(\"Using single GPU or CPU\")\n",
    "\n",
    "# # Unwrap the model from nn.DataParallel\n",
    "# if isinstance(model, nn.DataParallel):\n",
    "#     model = model.module\n",
    "\n",
    "# model.to(device)"
   ]
  },
  {
   "cell_type": "markdown",
   "id": "720be963-5312-45ca-b4b0-25cb45953892",
   "metadata": {},
   "source": [
    "# Pipeline Setup\n",
    "* Here we are going to setup a huggingface transformers pipeline for the LLM model.\n",
    "\n",
    "* The specific task we want is `text-generation`.\n",
    "\n",
    "* Penalty discourages repetitive or redundant output\n",
    "    * It is designed to address the tendency of language models to produce repeated phrases, sentences, or patterns.\n",
    "    * In topic modeling we generally DO NOT want repetitive outputs.\n",
    "    * We also want to set the Temperature lower --> which is more deterministic.\n",
    "\n",
    "* More about pipeline params: https://medium.com/@developer.yasir.pk/understanding-the-controllable-parameters-to-run-inference-your-large-language-model-30643bb46434"
   ]
  },
  {
   "cell_type": "code",
   "execution_count": 38,
   "id": "bfbf9c0e-4ef7-400c-aeeb-827f3a483991",
   "metadata": {},
   "outputs": [
    {
     "name": "stderr",
     "output_type": "stream",
     "text": [
      "Device set to use cuda:0\n"
     ]
    }
   ],
   "source": [
    "# Create the generator pipeline\n",
    "generator = pipeline(\n",
    "    task='text-generation',\n",
    "    model=model,\n",
    "    tokenizer=tokenizer,\n",
    "    device=device.index if device.type == 'cuda' else -1,\n",
    "    temperature=0.1,\n",
    "    max_new_tokens=500,\n",
    "    repetition_penalty=1.1\n",
    ")\n",
    "\n"
   ]
  },
  {
   "cell_type": "markdown",
   "id": "328e2e7f-f7f5-40c1-af0b-b28b43cd1a3d",
   "metadata": {},
   "source": [
    "# Prompt Engineering\n",
    "* We can take the model for a \"test drive\" just to test that we are able to prompt the model and get a result.\n",
    "* Then we can go into the specific prompt template we need to instruct the model to perform cross-lingual topic modeling.\n",
    "* Since we are performing cross lingual topic modeling, I am going to ask the model to detect the language of the text I give to it and translate it to english as well as 1 or other languages. "
   ]
  },
  {
   "cell_type": "code",
   "execution_count": 39,
   "id": "be75f731-a4c6-436e-b8f2-82368d30270d",
   "metadata": {},
   "outputs": [
    {
     "name": "stdout",
     "output_type": "stream",
     "text": [
      "Can you detect the language seen in this text: 'Lieber Serjoscha, du packst ordentlich mit an, wenn es von Nöten ist. \n",
      "Durch deine tatkräftige Mithilfe geht der Umzug unseres Düsseldorfer Büros schneller und reibungsloser von Statten. \n",
      "Danke, dass du Lisa, Teo und Maren so bereitwillig mit deiner Kraft unterstützt.\n",
      "', and state what language you detected and why you chose that language, then translate it to english, french, and italian? The language of the given text is German.\n",
      "\n",
      "I identified this as German based on several key indicators:\n",
      "1. Use of German-specific characters like ä (in \"Serjoscha\" and \"Reibungslos\").\n",
      "2. Common German words such as \"du\", \"wenn\", \"von\", \"Statten\".\n",
      "3. Sentence structure typical of German grammar.\n",
      "\n",
      "Here are the translations into English, French, and Italian:\n",
      "\n",
      "**English:** Dear Sergo, you're really pulling your weight when it's needed. Thanks for your active help which makes our Düsseldorf office move go faster and smoother. Thank you for supporting Lisa, Theo, and Mara with your strength so willingly.\n",
      "\n",
      "**French:** Cher Sergo, tu te bats bien quand c'est nécessaire. Merci pour ton aide active qui rend le déménagement de notre bureau de Düsseldorf plus rapide et fluide. Merci de soutenir Lisa, Théo et Mara avec tant de volonté.\n",
      "\n",
      "**Italian:** Caro Sergio, stai davvero facendo la tua parte quando serve. Grazie per il tuo aiuto attivo che rende il trasloco del nostro ufficio di Düsseldorf più veloce e fluido. Grazie per aver supportato Lisa, Teo e Mara con tanta volontà. \n",
      "\n",
      "Note: I've used \"Sergo\" instead of \"Serjoscha\" as a more common spelling in English, and \"Theo\" instead of \"Teo\" for a more familiar name in English context. Also, I've translated names as closely as possible while keeping them recognizable. In some cases, there might be slight variations depending on regional preferences or personal choices.\n"
     ]
    }
   ],
   "source": [
    "## test prompt\n",
    "prompt_test_msg = \"\"\"Lieber Serjoscha, du packst ordentlich mit an, wenn es von Nöten ist. \n",
    "Durch deine tatkräftige Mithilfe geht der Umzug unseres Düsseldorfer Büros schneller und reibungsloser von Statten. \n",
    "Danke, dass du Lisa, Teo und Maren so bereitwillig mit deiner Kraft unterstützt.\n",
    "\"\"\"\n",
    "\n",
    "prompt = f\"Can you detect the language seen in this text: '{prompt_test_msg}', and state what language you detected and why you chose that language, then translate it to english, french, and italian?\"\n",
    "res = generator(prompt)\n",
    "print(res[0]['generated_text'])"
   ]
  },
  {
   "cell_type": "markdown",
   "id": "6efa510a-f2ca-42c4-b92b-cac12e23dbba",
   "metadata": {},
   "source": [
    "# Setup Prompt Templates for Qwen-2-7B-Instruct\n",
    "* In total we need 3 prompt templates that we will concatenate into a final prompt to use as input to topic model.\n",
    "* The prompt templates for this model can be found here:\n",
    "    * Qwen home page: https://qwenlm.github.io/resources/\n",
    "    * Qwen huggingface repo: https://huggingface.co/Qwen/Qwen2.5-14B-Instruct\n",
    "\n",
    "```\n",
    "prompt = \"Give me a short introduction to large language model.\"\n",
    "messages = [\n",
    "    {\"role\": \"system\", \"content\": \"You are Qwen, created by Alibaba Cloud. You are a helpful assistant.\"},\n",
    "    {\"role\": \"user\", \"content\": prompt}\n",
    "]\n",
    "```"
   ]
  },
  {
   "cell_type": "markdown",
   "id": "8309709d-26bd-4bee-8b02-f7ffd0e58df9",
   "metadata": {},
   "source": [
    "## 1. System Prompt\n",
    "* This is the first prompt needed. "
   ]
  },
  {
   "cell_type": "code",
   "execution_count": 40,
   "id": "ba68780f-51d2-4adf-8b44-9d3f92220e43",
   "metadata": {},
   "outputs": [],
   "source": [
    "# system prompt describes information given to all conversations\n",
    "system_prompt = \"\"\"\n",
    "<human>\n",
    "You are a helpful, respectful, and honest assistant for labeling topics. \n",
    "You are skilled at analyzing text and identifying key themes and concepts.\n",
    "</human>\n",
    "\"\"\""
   ]
  },
  {
   "cell_type": "markdown",
   "id": "568e7af6-227d-4088-996b-8fa4d693b26f",
   "metadata": {},
   "source": [
    "## Prompt Template we will use for topic modeling\n",
    "* This is the recommended format for TOPIC MODELING. \n",
    "* There are two main components:\n",
    "    * a. **example**\n",
    "        * Most LLMs will do much better generating accurate responses if you give them examples to work from. Therefore we need to show an example of what we want our output to be.\n",
    "        * **A note about this prompt. It is better to keep it \"general\" and not specific to your domain or data because I have tried that before and the result creates hallucination issues for the LLM as it thinks it has to focus on the details of your prompt rather than performing topic modeling. Thus, the \"boilerplate\" prompt below which comes from the BERTopic Author Maarten G. is a great example to use and it works well.**\n",
    "      \n",
    "    * b. **main prompt**\n",
    "\n",
    "\n",
    "## 2. example_prompt\n",
    "* This is the 2nd prompt needed.\n",
    "* The prompt structure is:\n",
    "  \n",
    "1. Give the example documents or text.\n",
    "2. Give example keywords.\n",
    "3. End by stating \"please create a short label of this topic\"\n",
    "        "
   ]
  },
  {
   "cell_type": "code",
   "execution_count": 41,
   "id": "137e193b-7d36-4da5-abd2-37704936e527",
   "metadata": {},
   "outputs": [],
   "source": [
    "# Example prompt demonstrating the output we are looking for\n",
    "example_prompt = \"\"\"\n",
    "I have a topic that contains the following documents:\n",
    "- Traditional diets in most cultures were primarily plant-based with a little meat on top, but with the rise of industrial style meat production and factory farming, meat has become a staple food.\n",
    "- Meat, but especially beef, is the word food in terms of emissions.\n",
    "- Eating meat doesn't make you a bad person, not eating meat doesn't make you a good one.\n",
    "\n",
    "The topic is described by the following keywords: 'meat, beef, eat, eating, emissions, steak, food, health, processed, chicken'.\n",
    "\n",
    "Based on the information about the topic above, please create a short label of this topic. Make sure you to only return the label and nothing more.\n",
    "[/INST] Environmental impacts of eating meat\n",
    "\"\"\""
   ]
  },
  {
   "cell_type": "markdown",
   "id": "e96a3502-616f-4b21-9139-b5d8e1eb18b5",
   "metadata": {},
   "source": [
    "## 3. main_prompt\n",
    "* This is the 3rd prompt needed.\n",
    "* The main prompt contains documents and keywords.\n",
    "* Note about the code below:\n",
    "  * The `[Languages]` placeholder is for the column I created above which is `language_label`. The concept of adding this to the prompt is to feed the LLM the previously detected language as context.\n",
    " \n",
    "* The main_prompt has spaces for us to insert what DOCUMENTS and KEYWORDS we want to use which will change as we perform TOPIC MODELING.\n",
    "* There are two BERTopic-specific tags that are of interest, namely `[DOCUMENTS]` and `[KEYWORDS]`:\n",
    "    * `[DOCUMENTS]` contain the top 5 most relevant documents to the topic.\n",
    "    * `[KEYWORDS]` contain the top 10 most relevant keywords to the topic as generated through c-TF-IDF algorithm from BERTopic.\n",
    "* This template will be completed according to each topic."
   ]
  },
  {
   "cell_type": "code",
   "execution_count": 42,
   "id": "69c137d6-f8aa-4977-81c6-47ca39bd216c",
   "metadata": {},
   "outputs": [],
   "source": [
    "## main prompt with documents and keywords\n",
    "main_prompt = \"\"\"\n",
    "<human>\n",
    "Instructions: I have a topic that contains the following documents:\n",
    "[Documents]\n",
    "\n",
    "The topic is described by the following keywords: '[Keywords]'.\n",
    "\n",
    "Based on the information about the topic above, please create a short label for this topic. Make sure to only return the label and nothing more.\n",
    "</human>\n",
    "\n",
    "<response>\n",
    "[Label]\n",
    "</response>\n",
    "\"\"\""
   ]
  },
  {
   "cell_type": "markdown",
   "id": "d32e288e-1dc2-4aa9-9773-6a1481da7061",
   "metadata": {},
   "source": [
    "## Final Prompt"
   ]
  },
  {
   "cell_type": "code",
   "execution_count": 43,
   "id": "8807bad3-1525-4912-9091-e282a124cda6",
   "metadata": {},
   "outputs": [],
   "source": [
    "# final prompt format\n",
    "full_prompt = system_prompt + example_prompt + main_prompt "
   ]
  },
  {
   "cell_type": "markdown",
   "id": "49379fc5-e6e1-4a6e-8ab1-8c717a3f2b24",
   "metadata": {},
   "source": [
    "# Additional Data Preprocessing\n",
    "* Before we create embeddings we want to store the `message` column in a separate variable.\n",
    "\n",
    "Here's a suggested approach:\n",
    "\n",
    "1. Create a new dataframe or a copy of the original dataframe to work with during the embedding creation and topic modeling process. This new dataframe should have the same index as the original dataframe.\n",
    "\n",
    "2. In the new dataframe, create a new column or columns to store the embeddings, leaving the original message column untouched.\n",
    "\n",
    "3. Perform the topic modeling process using the embeddings column(s) in the new dataframe.\n",
    "\n",
    "4. After the topic modeling is complete, create new columns in the new dataframe to store the generated topics, keywords, or any other relevant information.\n",
    "\n",
    "5. Since the new dataframe has the same index as the original dataframe, you can easily merge or join the new dataframe (containing the embeddings, topics, and keywords) back to the original dataframe using the index.\n"
   ]
  },
  {
   "cell_type": "code",
   "execution_count": 44,
   "id": "9c247a53-2187-496c-ab01-33294444b592",
   "metadata": {},
   "outputs": [
    {
     "data": {
      "text/html": [
       "<div>\n",
       "<style scoped>\n",
       "    .dataframe tbody tr th:only-of-type {\n",
       "        vertical-align: middle;\n",
       "    }\n",
       "\n",
       "    .dataframe tbody tr th {\n",
       "        vertical-align: top;\n",
       "    }\n",
       "\n",
       "    .dataframe thead th {\n",
       "        text-align: right;\n",
       "    }\n",
       "</style>\n",
       "<table border=\"1\" class=\"dataframe\">\n",
       "  <thead>\n",
       "    <tr style=\"text-align: right;\">\n",
       "      <th></th>\n",
       "      <th>rec_id</th>\n",
       "      <th>nom_id</th>\n",
       "      <th>award_id</th>\n",
       "      <th>ah_id</th>\n",
       "      <th>link_id</th>\n",
       "      <th>group_id</th>\n",
       "      <th>award_private</th>\n",
       "      <th>product_id</th>\n",
       "      <th>award_type</th>\n",
       "      <th>award_reason</th>\n",
       "      <th>title</th>\n",
       "      <th>message</th>\n",
       "      <th>award_date</th>\n",
       "      <th>value</th>\n",
       "      <th>remaining_value</th>\n",
       "      <th>token_count_message</th>\n",
       "      <th>processed_message</th>\n",
       "      <th>language_label</th>\n",
       "    </tr>\n",
       "  </thead>\n",
       "  <tbody>\n",
       "    <tr>\n",
       "      <th>0</th>\n",
       "      <td>8233964</td>\n",
       "      <td>8234230</td>\n",
       "      <td>183347810</td>\n",
       "      <td>180686706</td>\n",
       "      <td>NaN</td>\n",
       "      <td>155345180</td>\n",
       "      <td>0</td>\n",
       "      <td>620</td>\n",
       "      <td>Applaud 2</td>\n",
       "      <td>Make an Impact</td>\n",
       "      <td>Delivering Solid presales support</td>\n",
       "      <td>Kam Wei has been instrumental in helping to cl...</td>\n",
       "      <td>2025-01-01</td>\n",
       "      <td>115.0</td>\n",
       "      <td>115.0</td>\n",
       "      <td>160</td>\n",
       "      <td>Kam Wei has been instrumental in helping to cl...</td>\n",
       "      <td>en</td>\n",
       "    </tr>\n",
       "    <tr>\n",
       "      <th>1</th>\n",
       "      <td>27259573</td>\n",
       "      <td>8234230</td>\n",
       "      <td>183349709</td>\n",
       "      <td>180686745</td>\n",
       "      <td>NaN</td>\n",
       "      <td>155346385</td>\n",
       "      <td>0</td>\n",
       "      <td>620</td>\n",
       "      <td>Applaud 2</td>\n",
       "      <td>Lead with Innovation</td>\n",
       "      <td>Strong leader that also contributes in field</td>\n",
       "      <td>Sid is a rare Player-Coach that inspires his c...</td>\n",
       "      <td>2025-01-01</td>\n",
       "      <td>115.0</td>\n",
       "      <td>115.0</td>\n",
       "      <td>133</td>\n",
       "      <td>Sid is a rare Player-Coach that inspires his c...</td>\n",
       "      <td>en</td>\n",
       "    </tr>\n",
       "    <tr>\n",
       "      <th>2</th>\n",
       "      <td>8234900</td>\n",
       "      <td>8234230</td>\n",
       "      <td>183346874</td>\n",
       "      <td>180686686</td>\n",
       "      <td>NaN</td>\n",
       "      <td>155344570</td>\n",
       "      <td>0</td>\n",
       "      <td>620</td>\n",
       "      <td>Applaud 2</td>\n",
       "      <td>Take Ownership</td>\n",
       "      <td>Executing with excellence</td>\n",
       "      <td>Myung Soo rejoined Qlik in August 2024, but qu...</td>\n",
       "      <td>2025-01-01</td>\n",
       "      <td>115.0</td>\n",
       "      <td>115.0</td>\n",
       "      <td>261</td>\n",
       "      <td>Myung Soo rejoined Qlik in August 2024, but qu...</td>\n",
       "      <td>en</td>\n",
       "    </tr>\n",
       "    <tr>\n",
       "      <th>3</th>\n",
       "      <td>17519186</td>\n",
       "      <td>8234161</td>\n",
       "      <td>180137859</td>\n",
       "      <td>180686680</td>\n",
       "      <td>NaN</td>\n",
       "      <td>152736571</td>\n",
       "      <td>0</td>\n",
       "      <td>620</td>\n",
       "      <td>Applaud 2</td>\n",
       "      <td>Take Ownership</td>\n",
       "      <td>APAC Presales Superstar for November</td>\n",
       "      <td>Congrats, Sean!</td>\n",
       "      <td>2025-01-01</td>\n",
       "      <td>110.5</td>\n",
       "      <td>110.5</td>\n",
       "      <td>8</td>\n",
       "      <td>Congrats, Sean!</td>\n",
       "      <td>en</td>\n",
       "    </tr>\n",
       "    <tr>\n",
       "      <th>4</th>\n",
       "      <td>9943897</td>\n",
       "      <td>8234230</td>\n",
       "      <td>183351071</td>\n",
       "      <td>180686682</td>\n",
       "      <td>NaN</td>\n",
       "      <td>155347328</td>\n",
       "      <td>0</td>\n",
       "      <td>620</td>\n",
       "      <td>Applaud 2</td>\n",
       "      <td>Make an Impact</td>\n",
       "      <td>Awesome AE that always delivers</td>\n",
       "      <td>Thank you Jason for being persistent and consi...</td>\n",
       "      <td>2025-01-01</td>\n",
       "      <td>115.0</td>\n",
       "      <td>115.0</td>\n",
       "      <td>77</td>\n",
       "      <td>Thank you Jason for being persistent and consi...</td>\n",
       "      <td>en</td>\n",
       "    </tr>\n",
       "  </tbody>\n",
       "</table>\n",
       "</div>"
      ]
     },
     "metadata": {},
     "output_type": "display_data"
    }
   ],
   "source": [
    "## lets see the df_topic\n",
    "df_topic.head()"
   ]
  },
  {
   "cell_type": "code",
   "execution_count": 45,
   "id": "4ba291c8-d48d-477e-b7e0-df3ff171488a",
   "metadata": {},
   "outputs": [
    {
     "data": {
      "text/html": [
       "<div>\n",
       "<style scoped>\n",
       "    .dataframe tbody tr th:only-of-type {\n",
       "        vertical-align: middle;\n",
       "    }\n",
       "\n",
       "    .dataframe tbody tr th {\n",
       "        vertical-align: top;\n",
       "    }\n",
       "\n",
       "    .dataframe thead th {\n",
       "        text-align: right;\n",
       "    }\n",
       "</style>\n",
       "<table border=\"1\" class=\"dataframe\">\n",
       "  <thead>\n",
       "    <tr style=\"text-align: right;\">\n",
       "      <th></th>\n",
       "      <th>rec_id</th>\n",
       "      <th>nom_id</th>\n",
       "      <th>award_id</th>\n",
       "      <th>ah_id</th>\n",
       "      <th>link_id</th>\n",
       "      <th>group_id</th>\n",
       "      <th>award_private</th>\n",
       "      <th>product_id</th>\n",
       "      <th>award_type</th>\n",
       "      <th>award_reason</th>\n",
       "      <th>title</th>\n",
       "      <th>message</th>\n",
       "      <th>award_date</th>\n",
       "      <th>value</th>\n",
       "      <th>remaining_value</th>\n",
       "      <th>token_count_message</th>\n",
       "      <th>processed_message</th>\n",
       "      <th>language_label</th>\n",
       "    </tr>\n",
       "  </thead>\n",
       "  <tbody>\n",
       "    <tr>\n",
       "      <th>0</th>\n",
       "      <td>8233964</td>\n",
       "      <td>8234230</td>\n",
       "      <td>183347810</td>\n",
       "      <td>180686706</td>\n",
       "      <td>NaN</td>\n",
       "      <td>155345180</td>\n",
       "      <td>0</td>\n",
       "      <td>620</td>\n",
       "      <td>Applaud 2</td>\n",
       "      <td>Make an Impact</td>\n",
       "      <td>Delivering Solid presales support</td>\n",
       "      <td>Kam Wei has been instrumental in helping to cl...</td>\n",
       "      <td>2025-01-01</td>\n",
       "      <td>115.0</td>\n",
       "      <td>115.0</td>\n",
       "      <td>160</td>\n",
       "      <td>Kam Wei has been instrumental in helping to cl...</td>\n",
       "      <td>en</td>\n",
       "    </tr>\n",
       "    <tr>\n",
       "      <th>1</th>\n",
       "      <td>27259573</td>\n",
       "      <td>8234230</td>\n",
       "      <td>183349709</td>\n",
       "      <td>180686745</td>\n",
       "      <td>NaN</td>\n",
       "      <td>155346385</td>\n",
       "      <td>0</td>\n",
       "      <td>620</td>\n",
       "      <td>Applaud 2</td>\n",
       "      <td>Lead with Innovation</td>\n",
       "      <td>Strong leader that also contributes in field</td>\n",
       "      <td>Sid is a rare Player-Coach that inspires his c...</td>\n",
       "      <td>2025-01-01</td>\n",
       "      <td>115.0</td>\n",
       "      <td>115.0</td>\n",
       "      <td>133</td>\n",
       "      <td>Sid is a rare Player-Coach that inspires his c...</td>\n",
       "      <td>en</td>\n",
       "    </tr>\n",
       "    <tr>\n",
       "      <th>2</th>\n",
       "      <td>8234900</td>\n",
       "      <td>8234230</td>\n",
       "      <td>183346874</td>\n",
       "      <td>180686686</td>\n",
       "      <td>NaN</td>\n",
       "      <td>155344570</td>\n",
       "      <td>0</td>\n",
       "      <td>620</td>\n",
       "      <td>Applaud 2</td>\n",
       "      <td>Take Ownership</td>\n",
       "      <td>Executing with excellence</td>\n",
       "      <td>Myung Soo rejoined Qlik in August 2024, but qu...</td>\n",
       "      <td>2025-01-01</td>\n",
       "      <td>115.0</td>\n",
       "      <td>115.0</td>\n",
       "      <td>261</td>\n",
       "      <td>Myung Soo rejoined Qlik in August 2024, but qu...</td>\n",
       "      <td>en</td>\n",
       "    </tr>\n",
       "    <tr>\n",
       "      <th>3</th>\n",
       "      <td>17519186</td>\n",
       "      <td>8234161</td>\n",
       "      <td>180137859</td>\n",
       "      <td>180686680</td>\n",
       "      <td>NaN</td>\n",
       "      <td>152736571</td>\n",
       "      <td>0</td>\n",
       "      <td>620</td>\n",
       "      <td>Applaud 2</td>\n",
       "      <td>Take Ownership</td>\n",
       "      <td>APAC Presales Superstar for November</td>\n",
       "      <td>Congrats, Sean!</td>\n",
       "      <td>2025-01-01</td>\n",
       "      <td>110.5</td>\n",
       "      <td>110.5</td>\n",
       "      <td>8</td>\n",
       "      <td>Congrats, Sean!</td>\n",
       "      <td>en</td>\n",
       "    </tr>\n",
       "    <tr>\n",
       "      <th>4</th>\n",
       "      <td>9943897</td>\n",
       "      <td>8234230</td>\n",
       "      <td>183351071</td>\n",
       "      <td>180686682</td>\n",
       "      <td>NaN</td>\n",
       "      <td>155347328</td>\n",
       "      <td>0</td>\n",
       "      <td>620</td>\n",
       "      <td>Applaud 2</td>\n",
       "      <td>Make an Impact</td>\n",
       "      <td>Awesome AE that always delivers</td>\n",
       "      <td>Thank you Jason for being persistent and consi...</td>\n",
       "      <td>2025-01-01</td>\n",
       "      <td>115.0</td>\n",
       "      <td>115.0</td>\n",
       "      <td>77</td>\n",
       "      <td>Thank you Jason for being persistent and consi...</td>\n",
       "      <td>en</td>\n",
       "    </tr>\n",
       "  </tbody>\n",
       "</table>\n",
       "</div>"
      ]
     },
     "metadata": {},
     "output_type": "display_data"
    }
   ],
   "source": [
    "## create copy of df_topic\n",
    "df_work = df_topic.copy()\n",
    "df_work.head()"
   ]
  },
  {
   "cell_type": "markdown",
   "id": "078c42fa-b197-4266-9729-3c2bbb76eb20",
   "metadata": {},
   "source": [
    "# Language Validation and Translation\n",
    "* We can use the LLM to validate the `language_label` that we detected and also translate the `message` column to english prior to topic modeling.\n",
    "* This would take away the need to have the LLM perform BOTH Topic Modeling and Translation all at the same time as it could prevent context window issues having it try and do too much at the same time.\n",
    "* Also, if we can take advantage of the LLM as a seperate language validation and translation machine that would be most ideal. "
   ]
  },
  {
   "cell_type": "markdown",
   "id": "dd860044-7690-4c3c-b5ea-06314140ef5f",
   "metadata": {},
   "source": [
    "## LLM Translation to English\n",
    "* We will translate the messages that were not labeled as \"en\" by xlm-roberta model. \n",
    "* We can now use the LLM Qwen-2.5-14B to translate the text to English.\n",
    "* This is obviously the most crucial step in the pipeline as we want all non-english text to be english for topic modeling and presentation to the final stakeholders."
   ]
  },
  {
   "cell_type": "code",
   "execution_count": 46,
   "id": "6b382126-f74a-427a-815b-0b49c6ec96b8",
   "metadata": {},
   "outputs": [
    {
     "name": "stdout",
     "output_type": "stream",
     "text": [
      "Current device of the model: cuda:0\n"
     ]
    }
   ],
   "source": [
    "print(f\"Current device of the model: {next(model.parameters()).device}\")"
   ]
  },
  {
   "cell_type": "markdown",
   "id": "2a22f3ca-0d3d-4c68-ab13-4b02a059f2e9",
   "metadata": {},
   "source": [
    "**Code below is an alternative approach to translation assuming you already ran the code above to verify the language detection.**\n",
    "    * In this case I am bypassing this and going to the block below it which will translate all messages to english and also verify if the detection was correct with `xlm-roberta`."
   ]
  },
  {
   "cell_type": "markdown",
   "id": "142190d7-dfd8-4455-abf3-8f9547cad095",
   "metadata": {},
   "source": [
    "## Language Translation using compute optimization \n",
    "* To improve compute efficiency in SageMaker, especially when dealing with a large number of rows (in our case more than 19,000), we can implement several optimizations.\n",
    "* Here are some strategies to make the code run faster:\n",
    "\n",
    "1. Batch Processing\n",
    "   * Instead of processing one row at a time, we can batch the translations.\n",
    "   * This reduces the number of API calls to hugging face hub and can significantly speed up the process.\n",
    "\n",
    "2. Multiprocessing\n",
    "    * Utilize multiple cores to process data in parallel.\n",
    "    * Below the ProcessPoolExecutor is used to parallelize the processing across multiple CPU cores.\n",
    "\n",
    "3. Caching\n",
    "    * Store translations to avoid repeating work for duplicate messages.\n",
    "    * Below the `lru_cache` decorator is used to cache translation results, avoiding redundant translations for repeated text.\n",
    "\n",
    "4. Use a more efficient language detection method\n",
    "    * If possible, use a faster language detection library like langdetect instead of relying solely on the existing labels.\n",
    "    * Efficient Language Detection: langdetect is used for faster initial language detection as a verification step.\n",
    "  \n",
    "### DataParallel in PyTorch\n",
    "* I am using multiple GPUs to work with a higher VRAM for using Qwen2.5.\n",
    "* Here's a blog post explaining how much VRAM you need to run the Qwen models: https://simonwillison.net/2025/Jan/26/qwen25-1m/\n",
    "  * VRAM Requirement for processing 1 million-token sequences:\n",
    "```\n",
    "1. Qwen2.5-7B-Instruct-1M: At least 120GB VRAM (total across GPUs).\n",
    "\n",
    "2.Qwen2.5-14B-Instruct-1M: At least 320GB VRAM (total across GPUs).\n",
    "```\n",
    "### 3 ways to run model on multiple GPUs\n",
    "1. Use nn.DataParallel or nn.parallel.DistributedDataParallel\n",
    "   * Instead of relying on the automatic device mapping, you can manually wrap your model with nn.DataParallel or nn.parallel.DistributedDataParallel to ensure that the input tensors are properly distributed across the available GPUs.\n",
    "import torch.nn as nn\n",
    "```\n",
    "if torch.cuda.device_count() > 1:\n",
    "    model = nn.DataParallel(model)\n",
    "```\n",
    "2. Accelerate library\n",
    "   * The Accelerate library, which is used by the Transformers library, provides a convenient way to handle multi-GPU setups. You can use the accelerate.initialize() function to set up the appropriate device mapping for your model.\n",
    "```\n",
    "from accelerate import Accelerator\n",
    "\n",
    "accelerator = Accelerator()\n",
    "model, tokenizer, device = accelerator.prepare(model, tokenizer, device)\n",
    "```\n",
    "3. Manually place the input tensors on the same device as the model\n",
    "   * Before passing the input tensors to the model.generate() function, you can manually move the tensors to the same device as the model.\n",
    "```\n",
    "inputs = tokenizer(prompts, return_tensors=\"pt\", padding=True, truncation=True, max_length=512)\n",
    "inputs = {k: v.to(device) for k, v in inputs.items()}\n",
    "\n",
    "with torch.no_grad():\n",
    "    outputs = model.generate(**inputs, max_new_tokens=256)\n",
    "```\n"
   ]
  },
  {
   "cell_type": "markdown",
   "id": "dc33af6d-88e5-4469-829b-7e608b1db4cb",
   "metadata": {},
   "source": [
    "## Language Translation - Simple Approach\n",
    "* The final result of this code below will be `df_work_with_translation`, which will have the original `df_work` with the 'english_message' column populated for all rows, either by translation or by copying the original 'message' text.\n",
    "\n",
    "* This approach is simpler and more straightforward than the previous multi-GPU implementation. The purpose of the multi-GPU implementation idea above is if you wanted to translate the ENTIRE DATAFRAME meaning checking the \"en\" language detected as well. But in this case we don't need to do that. "
   ]
  },
  {
   "cell_type": "code",
   "execution_count": 57,
   "id": "ce2d0c78-408c-4de8-b4c1-c13237e6aa35",
   "metadata": {},
   "outputs": [],
   "source": [
    "# %%capture\n",
    "# !pip install langdetect"
   ]
  },
  {
   "cell_type": "code",
   "execution_count": 47,
   "id": "d76ad4b3-27bc-44bb-aff3-b72444ed8356",
   "metadata": {},
   "outputs": [
    {
     "data": {
      "text/html": [
       "<div>\n",
       "<style scoped>\n",
       "    .dataframe tbody tr th:only-of-type {\n",
       "        vertical-align: middle;\n",
       "    }\n",
       "\n",
       "    .dataframe tbody tr th {\n",
       "        vertical-align: top;\n",
       "    }\n",
       "\n",
       "    .dataframe thead th {\n",
       "        text-align: right;\n",
       "    }\n",
       "</style>\n",
       "<table border=\"1\" class=\"dataframe\">\n",
       "  <thead>\n",
       "    <tr style=\"text-align: right;\">\n",
       "      <th></th>\n",
       "      <th>rec_id</th>\n",
       "      <th>nom_id</th>\n",
       "      <th>award_id</th>\n",
       "      <th>ah_id</th>\n",
       "      <th>link_id</th>\n",
       "      <th>group_id</th>\n",
       "      <th>award_private</th>\n",
       "      <th>product_id</th>\n",
       "      <th>award_type</th>\n",
       "      <th>award_reason</th>\n",
       "      <th>title</th>\n",
       "      <th>message</th>\n",
       "      <th>award_date</th>\n",
       "      <th>value</th>\n",
       "      <th>remaining_value</th>\n",
       "      <th>token_count_message</th>\n",
       "      <th>processed_message</th>\n",
       "      <th>language_label</th>\n",
       "    </tr>\n",
       "  </thead>\n",
       "  <tbody>\n",
       "    <tr>\n",
       "      <th>521</th>\n",
       "      <td>17324976</td>\n",
       "      <td>8759360</td>\n",
       "      <td>182661186</td>\n",
       "      <td>180359460</td>\n",
       "      <td>NaN</td>\n",
       "      <td>154837097</td>\n",
       "      <td>0</td>\n",
       "      <td>620</td>\n",
       "      <td>Cheer2</td>\n",
       "      <td>Succeed Together</td>\n",
       "      <td>Presales support in 2024</td>\n",
       "      <td>Hallo Thomas,  vielen Dank für deine Unterstüt...</td>\n",
       "      <td>2024-12-28</td>\n",
       "      <td>46.5</td>\n",
       "      <td>46.5</td>\n",
       "      <td>95</td>\n",
       "      <td>Hallo Thomas,  vielen Dank für deine Unterstüt...</td>\n",
       "      <td>de</td>\n",
       "    </tr>\n",
       "    <tr>\n",
       "      <th>1204</th>\n",
       "      <td>28141183</td>\n",
       "      <td>15924873</td>\n",
       "      <td>182674753</td>\n",
       "      <td>179882789</td>\n",
       "      <td>NaN</td>\n",
       "      <td>154847173</td>\n",
       "      <td>1</td>\n",
       "      <td>620</td>\n",
       "      <td>Cheer2</td>\n",
       "      <td>Take Ownership</td>\n",
       "      <td>Thank you for all your support!</td>\n",
       "      <td>Thanks, Hashimoto-san!!</td>\n",
       "      <td>2024-12-23</td>\n",
       "      <td>56.5</td>\n",
       "      <td>56.5</td>\n",
       "      <td>9</td>\n",
       "      <td>Thanks, Hashimoto-san!!</td>\n",
       "      <td>hi</td>\n",
       "    </tr>\n",
       "    <tr>\n",
       "      <th>1205</th>\n",
       "      <td>22521517</td>\n",
       "      <td>28355278</td>\n",
       "      <td>181495399</td>\n",
       "      <td>179882761</td>\n",
       "      <td>NaN</td>\n",
       "      <td>153879586</td>\n",
       "      <td>0</td>\n",
       "      <td>620</td>\n",
       "      <td>Cheer2</td>\n",
       "      <td>Succeed Together</td>\n",
       "      <td>Thank you for your suoorit</td>\n",
       "      <td>いつもサポートして頂きありがとうございます。 日々サポートして頂いているお陰で営業に集中でき...</td>\n",
       "      <td>2024-12-23</td>\n",
       "      <td>56.5</td>\n",
       "      <td>56.5</td>\n",
       "      <td>30</td>\n",
       "      <td>いつもサポートして頂きありがとうございます。 日々サポートして頂いているお陰で営業に集中でき...</td>\n",
       "      <td>ja</td>\n",
       "    </tr>\n",
       "    <tr>\n",
       "      <th>1471</th>\n",
       "      <td>8233311</td>\n",
       "      <td>28141193</td>\n",
       "      <td>182376624</td>\n",
       "      <td>179718310</td>\n",
       "      <td>NaN</td>\n",
       "      <td>154605162</td>\n",
       "      <td>0</td>\n",
       "      <td>620</td>\n",
       "      <td>Cheer2</td>\n",
       "      <td>Make an Impact</td>\n",
       "      <td>Muchas gracias por tu dedicación</td>\n",
       "      <td>Te lo mereces en un año especialmente complica...</td>\n",
       "      <td>2024-12-20</td>\n",
       "      <td>46.5</td>\n",
       "      <td>0.0</td>\n",
       "      <td>43</td>\n",
       "      <td>Te lo mereces en un año especialmente complica...</td>\n",
       "      <td>es</td>\n",
       "    </tr>\n",
       "    <tr>\n",
       "      <th>1472</th>\n",
       "      <td>27259398</td>\n",
       "      <td>28141193</td>\n",
       "      <td>182377405</td>\n",
       "      <td>179718249</td>\n",
       "      <td>NaN</td>\n",
       "      <td>154605860</td>\n",
       "      <td>0</td>\n",
       "      <td>620</td>\n",
       "      <td>Cheer2</td>\n",
       "      <td>Make an Impact</td>\n",
       "      <td>Bienvenido al equipo de Iberia!</td>\n",
       "      <td>Muchas gracias por tu ayuda en promocionar nue...</td>\n",
       "      <td>2024-12-20</td>\n",
       "      <td>46.5</td>\n",
       "      <td>46.5</td>\n",
       "      <td>35</td>\n",
       "      <td>Muchas gracias por tu ayuda en promocionar nue...</td>\n",
       "      <td>es</td>\n",
       "    </tr>\n",
       "  </tbody>\n",
       "</table>\n",
       "</div>"
      ]
     },
     "metadata": {},
     "output_type": "display_data"
    }
   ],
   "source": [
    "## 1. Split the df_work into a smaller df based on the \"language_label\" column that is every language != 'en':\n",
    "translate_df = df_work[df_work['language_label'] != 'en'].copy()\n",
    "translate_df.head()"
   ]
  },
  {
   "cell_type": "code",
   "execution_count": 48,
   "id": "dc02b2d6-cef6-47c8-8ee7-253343f490e9",
   "metadata": {},
   "outputs": [
    {
     "data": {
      "text/plain": [
       "language_label\n",
       "fr    173\n",
       "de     90\n",
       "ur     49\n",
       "es     27\n",
       "ja     17\n",
       "bg     11\n",
       "it      8\n",
       "nl      6\n",
       "pt      5\n",
       "hi      4\n",
       "sw      2\n",
       "tr      2\n",
       "pl      2\n",
       "Name: count, dtype: int64"
      ]
     },
     "execution_count": 48,
     "metadata": {},
     "output_type": "execute_result"
    }
   ],
   "source": [
    "## check languagel labels\n",
    "translate_df['language_label'].value_counts()"
   ]
  },
  {
   "cell_type": "markdown",
   "id": "5a067335-10e9-4a8d-8200-6abb58df1a75",
   "metadata": {},
   "source": [
    "Summary\n",
    "* No english labels, great now lets translate these non-english labels to english."
   ]
  },
  {
   "cell_type": "code",
   "execution_count": 51,
   "id": "7c7d492a-7534-403e-a47e-704331c8bb0e",
   "metadata": {},
   "outputs": [
    {
     "name": "stderr",
     "output_type": "stream",
     "text": [
      "Translating messages: 100%|██████████| 50/50 [13:52<00:00, 16.65s/it]"
     ]
    },
    {
     "name": "stdout",
     "output_type": "stream",
     "text": [
      "Total translation time: 832.62 seconds\n"
     ]
    },
    {
     "name": "stderr",
     "output_type": "stream",
     "text": [
      "\n"
     ]
    }
   ],
   "source": [
    "## 2. Translate the \"message\" column to English using the model and store the translations in a new column called 'english_message':\n",
    "from transformers import pipeline\n",
    "import torch\n",
    "from tqdm import tqdm\n",
    "import time\n",
    "\n",
    "def prepare_prompt(text):\n",
    "    return f\"\"\"<human>: You are a professional translator. Translate the following text to English. If the text is already in English, respond with 'ALREADY_ENGLISH'.\n",
    "\n",
    "Text: {text}\n",
    "\n",
    "Translate to English:</human>\n",
    "\n",
    "<assistant>: Here's the English translation:\n",
    "\n",
    "\"\"\"\n",
    "\n",
    "def translate_text(text):\n",
    "    prompt = prepare_prompt(text)\n",
    "    inputs = tokenizer(prompt, return_tensors=\"pt\", padding=True, truncation=True, max_length=512)\n",
    "    input_ids = inputs.input_ids.to(device)\n",
    "    attention_mask = inputs.attention_mask.to(device)\n",
    "    \n",
    "    with torch.no_grad():\n",
    "        outputs = model.generate(input_ids, attention_mask=attention_mask, max_new_tokens=256)\n",
    "    \n",
    "    translation = tokenizer.decode(outputs[0], skip_special_tokens=True)\n",
    "    translation = translation.split(\"<assistant>:\")[-1].strip()\n",
    "    return translation if translation.upper() != 'ALREADY_ENGLISH' else text\n",
    "\n",
    "# Translate the messages in batches\n",
    "batch_size = 8\n",
    "start_time = time.time()\n",
    "for i in tqdm(range(0, len(translate_df), batch_size), desc=\"Translating messages\"):\n",
    "    batch = translate_df['message'].iloc[i:i+batch_size]\n",
    "    translate_df.loc[translate_df.index[i:i+batch_size], 'english_message'] = batch.apply(translate_text)\n",
    "    \n",
    "    # Clear CUDA cache after each batch\n",
    "    torch.cuda.empty_cache()\n",
    "\n",
    "## time of translation\n",
    "end_time = time.time()\n",
    "translation_time = end_time - start_time\n",
    "print(f\"Total translation time: {translation_time:.2f} seconds\")"
   ]
  },
  {
   "cell_type": "code",
   "execution_count": 52,
   "id": "209a0531-02b4-4726-b31e-b155fa86960a",
   "metadata": {},
   "outputs": [],
   "source": [
    "## 3. Join or merge the \"translate_df\" back to the original df_work, ensuring that all \"language_label\" that were \"en\" have the \"message\" text copied over to the new \"english_message\" column:\n",
    "# Create a copy of the original df_work\n",
    "df_work_with_translation = df_work.copy()\n",
    "\n",
    "## 4. Update the 'english_message' column for rows where 'language_label' is 'en'\n",
    "df_work_with_translation.loc[df_work['language_label'] == 'en', 'english_message'] = df_work['message']\n",
    "\n",
    "# 5. Merge the translated df back into the original df_work\n",
    "df_work_with_translation.update(translate_df[['english_message']])\n"
   ]
  },
  {
   "cell_type": "code",
   "execution_count": 59,
   "id": "ec42d7de-84b2-4c08-beef-74bc5eb9b931",
   "metadata": {},
   "outputs": [
    {
     "data": {
      "text/html": [
       "<div>\n",
       "<style scoped>\n",
       "    .dataframe tbody tr th:only-of-type {\n",
       "        vertical-align: middle;\n",
       "    }\n",
       "\n",
       "    .dataframe tbody tr th {\n",
       "        vertical-align: top;\n",
       "    }\n",
       "\n",
       "    .dataframe thead th {\n",
       "        text-align: right;\n",
       "    }\n",
       "</style>\n",
       "<table border=\"1\" class=\"dataframe\">\n",
       "  <thead>\n",
       "    <tr style=\"text-align: right;\">\n",
       "      <th></th>\n",
       "      <th>rec_id</th>\n",
       "      <th>nom_id</th>\n",
       "      <th>award_id</th>\n",
       "      <th>ah_id</th>\n",
       "      <th>link_id</th>\n",
       "      <th>group_id</th>\n",
       "      <th>award_private</th>\n",
       "      <th>product_id</th>\n",
       "      <th>award_type</th>\n",
       "      <th>award_reason</th>\n",
       "      <th>title</th>\n",
       "      <th>message</th>\n",
       "      <th>award_date</th>\n",
       "      <th>value</th>\n",
       "      <th>remaining_value</th>\n",
       "      <th>token_count_message</th>\n",
       "      <th>processed_message</th>\n",
       "      <th>language_label</th>\n",
       "      <th>english_message</th>\n",
       "    </tr>\n",
       "  </thead>\n",
       "  <tbody>\n",
       "    <tr>\n",
       "      <th>0</th>\n",
       "      <td>8233964</td>\n",
       "      <td>8234230</td>\n",
       "      <td>183347810</td>\n",
       "      <td>180686706</td>\n",
       "      <td>NaN</td>\n",
       "      <td>155345180</td>\n",
       "      <td>0</td>\n",
       "      <td>620</td>\n",
       "      <td>Applaud 2</td>\n",
       "      <td>Make an Impact</td>\n",
       "      <td>Delivering Solid presales support</td>\n",
       "      <td>Kam Wei has been instrumental in helping to cl...</td>\n",
       "      <td>2025-01-01</td>\n",
       "      <td>115.0</td>\n",
       "      <td>115.0</td>\n",
       "      <td>160</td>\n",
       "      <td>Kam Wei has been instrumental in helping to cl...</td>\n",
       "      <td>en</td>\n",
       "      <td>Kam Wei has been instrumental in helping to cl...</td>\n",
       "    </tr>\n",
       "    <tr>\n",
       "      <th>1</th>\n",
       "      <td>27259573</td>\n",
       "      <td>8234230</td>\n",
       "      <td>183349709</td>\n",
       "      <td>180686745</td>\n",
       "      <td>NaN</td>\n",
       "      <td>155346385</td>\n",
       "      <td>0</td>\n",
       "      <td>620</td>\n",
       "      <td>Applaud 2</td>\n",
       "      <td>Lead with Innovation</td>\n",
       "      <td>Strong leader that also contributes in field</td>\n",
       "      <td>Sid is a rare Player-Coach that inspires his c...</td>\n",
       "      <td>2025-01-01</td>\n",
       "      <td>115.0</td>\n",
       "      <td>115.0</td>\n",
       "      <td>133</td>\n",
       "      <td>Sid is a rare Player-Coach that inspires his c...</td>\n",
       "      <td>en</td>\n",
       "      <td>Sid is a rare Player-Coach that inspires his c...</td>\n",
       "    </tr>\n",
       "    <tr>\n",
       "      <th>2</th>\n",
       "      <td>8234900</td>\n",
       "      <td>8234230</td>\n",
       "      <td>183346874</td>\n",
       "      <td>180686686</td>\n",
       "      <td>NaN</td>\n",
       "      <td>155344570</td>\n",
       "      <td>0</td>\n",
       "      <td>620</td>\n",
       "      <td>Applaud 2</td>\n",
       "      <td>Take Ownership</td>\n",
       "      <td>Executing with excellence</td>\n",
       "      <td>Myung Soo rejoined Qlik in August 2024, but qu...</td>\n",
       "      <td>2025-01-01</td>\n",
       "      <td>115.0</td>\n",
       "      <td>115.0</td>\n",
       "      <td>261</td>\n",
       "      <td>Myung Soo rejoined Qlik in August 2024, but qu...</td>\n",
       "      <td>en</td>\n",
       "      <td>Myung Soo rejoined Qlik in August 2024, but qu...</td>\n",
       "    </tr>\n",
       "    <tr>\n",
       "      <th>3</th>\n",
       "      <td>17519186</td>\n",
       "      <td>8234161</td>\n",
       "      <td>180137859</td>\n",
       "      <td>180686680</td>\n",
       "      <td>NaN</td>\n",
       "      <td>152736571</td>\n",
       "      <td>0</td>\n",
       "      <td>620</td>\n",
       "      <td>Applaud 2</td>\n",
       "      <td>Take Ownership</td>\n",
       "      <td>APAC Presales Superstar for November</td>\n",
       "      <td>Congrats, Sean!</td>\n",
       "      <td>2025-01-01</td>\n",
       "      <td>110.5</td>\n",
       "      <td>110.5</td>\n",
       "      <td>8</td>\n",
       "      <td>Congrats, Sean!</td>\n",
       "      <td>en</td>\n",
       "      <td>Congrats, Sean!</td>\n",
       "    </tr>\n",
       "    <tr>\n",
       "      <th>4</th>\n",
       "      <td>9943897</td>\n",
       "      <td>8234230</td>\n",
       "      <td>183351071</td>\n",
       "      <td>180686682</td>\n",
       "      <td>NaN</td>\n",
       "      <td>155347328</td>\n",
       "      <td>0</td>\n",
       "      <td>620</td>\n",
       "      <td>Applaud 2</td>\n",
       "      <td>Make an Impact</td>\n",
       "      <td>Awesome AE that always delivers</td>\n",
       "      <td>Thank you Jason for being persistent and consi...</td>\n",
       "      <td>2025-01-01</td>\n",
       "      <td>115.0</td>\n",
       "      <td>115.0</td>\n",
       "      <td>77</td>\n",
       "      <td>Thank you Jason for being persistent and consi...</td>\n",
       "      <td>en</td>\n",
       "      <td>Thank you Jason for being persistent and consi...</td>\n",
       "    </tr>\n",
       "  </tbody>\n",
       "</table>\n",
       "</div>"
      ]
     },
     "metadata": {},
     "output_type": "display_data"
    }
   ],
   "source": [
    "## view result\n",
    "df_work_with_translation.head()"
   ]
  },
  {
   "cell_type": "code",
   "execution_count": 61,
   "id": "1ca0b1ff-df6b-4b24-9e74-0fe57165b3ba",
   "metadata": {},
   "outputs": [
    {
     "data": {
      "text/plain": [
       "78110"
      ]
     },
     "execution_count": 61,
     "metadata": {},
     "output_type": "execute_result"
    }
   ],
   "source": [
    "## len\n",
    "len(df_work_with_translation)"
   ]
  },
  {
   "cell_type": "markdown",
   "id": "bccb160d-aadf-4acf-b53f-ae1d29422f49",
   "metadata": {},
   "source": [
    "# BERTopic and Topic Modeling\n",
    "* Now that the LLM is setup we can get into Topic Modeling.\n",
    "\n",
    "## 1. Prepare Embeddings\n",
    "    * Pre-calculation of embeddings for each document to speed-up additional exploration steps and use the embeddings to quickly iterate over BERTopic's hyperparameters as needed.\n",
    "\n",
    "### Multilingual Embeddings\n",
    "* I am going to use the LLM for cross-lingual topic modeling, thus as part of the pipeline I need to use embeddings.\n",
    "* You can use ANY embedding model that you want to, here we will use a `SentenceTransformer implementation of an open source embedding model from Hugging Face. \n",
    "* However, because we are dealing with multilingual text, I am going to use a multilingual embedding model that has performed well on text clustering and classification tasks which is what we are trying to do.\n",
    "* Embedding Model I am using: `BAAI/bge-m3`\n",
    "    * Hugging Face Model card: https://huggingface.co/BAAI/bge-m3\n",
    "    * This model is similar in its functionality to the Jina.ai model that I had originally wanted to use. \n",
    "    * 1) Handles long context windows up to 8192 tokens.\n",
    "    * 2) Multilingual support\n",
    "    * 3) Is able to handle 3 common retrieval functionalities of embedding models:\n",
    "         * dense retrieval\n",
    "         * multi-vector retrieval\n",
    "         * sparse retrieval\n",
    "     \n",
    "### Wait...We just translated the text using Qwen LLM from non-english to english -- so do we need mutlilingual embeddings?\n",
    "* Triple Bam! Great question! This is an important consideration when working with translated text and transformer models. Let's break down the scenario and discuss the implications:\n",
    "\n",
    "1. **Translating to English**\n",
    "   If you're using an LLM to translate all non-English text to English before passing it to your transformer model, you've effectively converted your dataset into a monolingual (English-only) dataset.\n",
    "\n",
    "2. **Using a transformer model on translated text**\n",
    "   Once all your text is in English, you're working with English language data, regardless of its original source language.\n",
    "\n",
    "Given this scenario, here's what we should consider:\n",
    "\n",
    "1. **English-only embeddings would be sufficient**\n",
    "   - Since all your text is now in English, using English-only embeddings would be appropriate and potentially more efficient.\n",
    "   - English-only models are often more refined for English language nuances, as they're trained on larger English corpora.\n",
    "\n",
    "2. **Reasons we might still consider multilingual embeddings**\n",
    "   - If you suspect that the translation process might introduce some non-English artifacts or structures.\n",
    "   - If you want to capture potential cross-lingual semantic relationships that might persist even after translation.\n",
    "\n",
    "3. **Potential drawbacks of using multilingual embeddings on translated text**\n",
    "   - Unnecessary computational overhead, as you're using a more complex model than needed.\n",
    "   - Potential dilution of English-specific features, as multilingual models balance their capacity across multiple languages.\n",
    "\n",
    "4. **Important considerations**\n",
    "   - Translation quality: The effectiveness of using English-only embeddings depends on the quality of your translations. High-quality translations would work well with English-only embeddings, while lower-quality translations might benefit from the robustness of multilingual embeddings.\n",
    "   - Task specificity: Consider the specific requirements of your downstream task. Some tasks might be more sensitive to subtle linguistic differences that could be preserved in multilingual embeddings.\n",
    "\n",
    "### Overall Recommendation\n",
    "* Given that we are translating everything to English before processing, I would recommend starting with English-only embeddings. This approach will likely be more efficient and potentially more accurate for English text analysis.\n",
    "* However, it would be valuable to experiment with both approaches (English-only and multilingual embeddings) and compare their performance on your specific task and dataset. This empirical comparison will give you the most definitive answer for your particular use case.\n",
    "* It is also important to consider the impact of translation on the overall results, as some nuances or cultural context might be lost in translation, regardless of the embedding type you choose.\n",
    "* Thus I will still proceed with the multilingual embedding model. "
   ]
  },
  {
   "cell_type": "code",
   "execution_count": 62,
   "id": "4c6e92c1-9150-429f-aa52-3e82a038782b",
   "metadata": {},
   "outputs": [],
   "source": [
    "%%capture\n",
    "!pip install sentence-transformers"
   ]
  },
  {
   "cell_type": "markdown",
   "id": "6ff8251e-faec-4da2-8701-5fedb1bf9319",
   "metadata": {},
   "source": [
    "### Embedding Optimization\n",
    "* To better optimize the embedding creation process and make better use of compute power I will do the following:\n",
    "    * 1. Use a tqdm progress bar - The tqdm library is used to display a progress bar during the encoding process.\n",
    "    * 2. Use the hugging face accelerate library -\n",
    "        * This automatically handles cuda device placement, distributed training, and mixed precision.\n",
    "        * The Accelerator class is used to prepare the model for acceleration and distribute the computation across multiple devices (if available).\n",
    "\n",
    "    * 3. Use pandas cudflibrary from nvida (I was going to do this but not needed).\n",
    "        * This library helps to optimize the efficiency of pandas dataframe processing.\n",
    "        * It can be used in 2 ways, I will use this method: %load_ext cudf.pandas\n",
    "        * Here is the repo for more information about this very popular library: GitHub - rapidsai/cudf: cuDF - GPU DataFrame Library\n",
    "\n",
    "    * 4. Matryoshka representation (I was going to use this but this is a last resort). \n",
    "\n",
    "\n",
    "#### Embedding Optimization Workflow is as follows: \n",
    "* The workflow is as follows:\n",
    "    * Initialize the Accelerator instance from the accelerate library.\n",
    "    * Load specified sentence transformer model and prepares it for acceleration.\n",
    "    * Iterate over the `message` column of the df_work DataFrame in batches of 64 using the tqdm progress bar.\n",
    "    * Encode each batch of text using `embedding_model.encode` function.\n",
    "    * Gather the results from all processes using `accelerator.gather`.\n",
    "    * Finally, creates a new embeddings column in the `df_work` DataFrame with the computed embeddings.\n",
    "\n",
    "\n",
    "* Overall, this workflow should significantly improve the efficiency of the embedding creation process by utilizing available hardware resources and distributing the computation across multiple devices (if available).\n"
   ]
  },
  {
   "cell_type": "markdown",
   "id": "8a18a659-c374-4e43-ab3b-6e7b47b83d20",
   "metadata": {},
   "source": [
    "### Create Multilingual Embeddings\n",
    "* The code below will clear the hugging face cache from Transformers library to better optimize memory."
   ]
  },
  {
   "cell_type": "code",
   "execution_count": 63,
   "id": "930d858e-ec14-4f8c-9ae0-2956e435bb30",
   "metadata": {},
   "outputs": [],
   "source": [
    "# clear the Hugging Face cache in your current version of the Transformers library:\n",
    "# Import the necessary modules:\n",
    "from transformers import __file__ as transformers_path\n",
    "from pathlib import Path\n",
    "import shutil\n",
    "\n",
    "## Find cache directory path:\n",
    "# Get the path to the Transformers library\n",
    "transformers_dir = Path(transformers_path).parent\n",
    "\n",
    "# Construct the path to the cache directory\n",
    "cache_dir = transformers_dir / \"cached_path\""
   ]
  },
  {
   "cell_type": "code",
   "execution_count": 64,
   "id": "0273299e-8152-4d86-a0fc-69e19e7e37a0",
   "metadata": {},
   "outputs": [
    {
     "name": "stdout",
     "output_type": "stream",
     "text": [
      "/usr/local/lib/python3.10/dist-packages/transformers/cached_path\n"
     ]
    }
   ],
   "source": [
    "## print the cache_dir\n",
    "print(cache_dir)"
   ]
  },
  {
   "cell_type": "code",
   "execution_count": 65,
   "id": "6d57d11a-e666-4a91-8bd2-3f964509067d",
   "metadata": {},
   "outputs": [],
   "source": [
    "## clear the cache\n",
    "if cache_dir.exists(): \n",
    "    shutil.rmtree(cache_dir)"
   ]
  },
  {
   "cell_type": "markdown",
   "id": "3c104c88-03f9-447c-9b79-66d448f7842e",
   "metadata": {},
   "source": [
    "### Load Embedding Model from HuggingFace\n",
    "* This is the model I am using: https://huggingface.co/BAAI/bge-m3"
   ]
  },
  {
   "cell_type": "code",
   "execution_count": 66,
   "id": "387cfa77-f409-495c-8907-a1de893d919b",
   "metadata": {},
   "outputs": [
    {
     "data": {
      "application/vnd.jupyter.widget-view+json": {
       "model_id": "44d0dfacb89944139acb018df771a36c",
       "version_major": 2,
       "version_minor": 0
      },
      "text/plain": [
       "modules.json:   0%|          | 0.00/349 [00:00<?, ?B/s]"
      ]
     },
     "metadata": {},
     "output_type": "display_data"
    },
    {
     "data": {
      "application/vnd.jupyter.widget-view+json": {
       "model_id": "bddabf5fa9b74da09e4df94897980d21",
       "version_major": 2,
       "version_minor": 0
      },
      "text/plain": [
       "config_sentence_transformers.json:   0%|          | 0.00/123 [00:00<?, ?B/s]"
      ]
     },
     "metadata": {},
     "output_type": "display_data"
    },
    {
     "data": {
      "application/vnd.jupyter.widget-view+json": {
       "model_id": "264d071a35db4660868231b1aa19dd5a",
       "version_major": 2,
       "version_minor": 0
      },
      "text/plain": [
       "README.md:   0%|          | 0.00/15.8k [00:00<?, ?B/s]"
      ]
     },
     "metadata": {},
     "output_type": "display_data"
    },
    {
     "data": {
      "application/vnd.jupyter.widget-view+json": {
       "model_id": "4638cc44178d47debad7e28e651c160f",
       "version_major": 2,
       "version_minor": 0
      },
      "text/plain": [
       "sentence_bert_config.json:   0%|          | 0.00/54.0 [00:00<?, ?B/s]"
      ]
     },
     "metadata": {},
     "output_type": "display_data"
    },
    {
     "data": {
      "application/vnd.jupyter.widget-view+json": {
       "model_id": "44fac8e802ae44c2bdfd063c87d20a75",
       "version_major": 2,
       "version_minor": 0
      },
      "text/plain": [
       "config.json:   0%|          | 0.00/687 [00:00<?, ?B/s]"
      ]
     },
     "metadata": {},
     "output_type": "display_data"
    },
    {
     "data": {
      "application/vnd.jupyter.widget-view+json": {
       "model_id": "682457d63d5e4ad6b95503df07a90413",
       "version_major": 2,
       "version_minor": 0
      },
      "text/plain": [
       "pytorch_model.bin:   0%|          | 0.00/2.27G [00:00<?, ?B/s]"
      ]
     },
     "metadata": {},
     "output_type": "display_data"
    },
    {
     "data": {
      "application/vnd.jupyter.widget-view+json": {
       "model_id": "a761b1f5344447f09928411ecfe1aa34",
       "version_major": 2,
       "version_minor": 0
      },
      "text/plain": [
       "tokenizer_config.json:   0%|          | 0.00/444 [00:00<?, ?B/s]"
      ]
     },
     "metadata": {},
     "output_type": "display_data"
    },
    {
     "data": {
      "application/vnd.jupyter.widget-view+json": {
       "model_id": "040c4d59e3d24239a3e461c9e2f6141d",
       "version_major": 2,
       "version_minor": 0
      },
      "text/plain": [
       "sentencepiece.bpe.model:   0%|          | 0.00/5.07M [00:00<?, ?B/s]"
      ]
     },
     "metadata": {},
     "output_type": "display_data"
    },
    {
     "data": {
      "application/vnd.jupyter.widget-view+json": {
       "model_id": "7f6981b2a7ba4ff4907bb764f861b492",
       "version_major": 2,
       "version_minor": 0
      },
      "text/plain": [
       "model.safetensors:   0%|          | 0.00/2.27G [00:00<?, ?B/s]"
      ]
     },
     "metadata": {},
     "output_type": "display_data"
    },
    {
     "data": {
      "application/vnd.jupyter.widget-view+json": {
       "model_id": "b3a35ddd315c46f9a95c89b76950e6a3",
       "version_major": 2,
       "version_minor": 0
      },
      "text/plain": [
       "tokenizer.json:   0%|          | 0.00/17.1M [00:00<?, ?B/s]"
      ]
     },
     "metadata": {},
     "output_type": "display_data"
    },
    {
     "data": {
      "application/vnd.jupyter.widget-view+json": {
       "model_id": "334698a1dd264b62ad432ae74ddecf8f",
       "version_major": 2,
       "version_minor": 0
      },
      "text/plain": [
       "special_tokens_map.json:   0%|          | 0.00/964 [00:00<?, ?B/s]"
      ]
     },
     "metadata": {},
     "output_type": "display_data"
    },
    {
     "data": {
      "application/vnd.jupyter.widget-view+json": {
       "model_id": "6944d56ef78347139365e6961e86180b",
       "version_major": 2,
       "version_minor": 0
      },
      "text/plain": [
       "1_Pooling/config.json:   0%|          | 0.00/191 [00:00<?, ?B/s]"
      ]
     },
     "metadata": {},
     "output_type": "display_data"
    }
   ],
   "source": [
    "from sentence_transformers import SentenceTransformer\n",
    "from accelerate import Accelerator\n",
    "\n",
    "# Initialize the accelerator\n",
    "accelerator = Accelerator()\n",
    "\n",
    "# Set the model name/checkpoint\n",
    "embedding_model_name = \"BAAI/bge-m3\"\n",
    "\n",
    "# Load the model onto the appropriate device\n",
    "embedding_model = SentenceTransformer(embedding_model_name, device=accelerator.device)\n",
    "embedding_model = accelerator.prepare(embedding_model)"
   ]
  },
  {
   "cell_type": "markdown",
   "id": "d67ade44-181d-4162-89ec-37ab9c63a8ac",
   "metadata": {},
   "source": [
    "**Code below creates the embeddings**"
   ]
  },
  {
   "cell_type": "code",
   "execution_count": 92,
   "id": "747cb9c5-63e7-4b8a-8f6f-c407d72d4ebe",
   "metadata": {},
   "outputs": [
    {
     "name": "stderr",
     "output_type": "stream",
     "text": [
      "100%|██████████| 1221/1221 [03:30<00:00]\n"
     ]
    },
    {
     "name": "stdout",
     "output_type": "stream",
     "text": [
      "Dataframe with embeddings saved to Parquet file successfully.\n"
     ]
    }
   ],
   "source": [
    "import pandas as pd\n",
    "from tqdm import tqdm\n",
    "from accelerate import Accelerator\n",
    "import os\n",
    "\n",
    "# Create embeddings in batches of the message column in the df_work dataframe\n",
    "embeddings = []\n",
    "batch_size = 64\n",
    "bar_format = \"{l_bar}{bar}| {n_fmt}/{total_fmt} [{elapsed}<{remaining}]\"\n",
    "\n",
    "# Create embeddings in batches\n",
    "batches = [df_work_with_translation['english_message'].values[i:i + batch_size].tolist() for i in range(0, len(df_work_with_translation), batch_size)]\n",
    "\n",
    "for batch in tqdm(batches, disable=not accelerator.is_main_process, bar_format=bar_format):\n",
    "    batch_embeddings = embedding_model.encode(batch, show_progress_bar=False, convert_to_tensor=True)\n",
    "    # Ensure the batch_embeddings is 2-dimensional\n",
    "    if batch_embeddings.dim() == 1:\n",
    "        batch_embeddings = batch_embeddings.unsqueeze(0)\n",
    "    embeddings.append(batch_embeddings.cpu().numpy().tolist())\n",
    "\n",
    "# Concatenate the embeddings into a single list\n",
    "embeddings = [emb for batch_embeddings in embeddings for emb in batch_embeddings]\n",
    "\n",
    "# Add the embeddings to the dataframe\n",
    "df_work_with_translation['embeddings'] = embeddings\n",
    "\n",
    "# Save the entire dataframe to a Parquet file\n",
    "df_work_with_translation.to_parquet('df_with_embeddings.parquet')\n",
    "\n",
    "print(\"Dataframe with embeddings saved to Parquet file successfully.\")"
   ]
  },
  {
   "cell_type": "code",
   "execution_count": 68,
   "id": "9c6360ab-9e95-4541-af79-c1219a905a29",
   "metadata": {},
   "outputs": [
    {
     "name": "stderr",
     "output_type": "stream",
     "text": [
      "100%|██████████| 1221/1221 [03:12<00:00]\n"
     ]
    },
    {
     "name": "stdout",
     "output_type": "stream",
     "text": [
      "Embeddings added to dataframe successfully.\n"
     ]
    }
   ],
   "source": [
    "# # Create embeddings in batches of the message column in the df_work dataframe\n",
    "# embeddings = []\n",
    "# batch_size = 64\n",
    "# bar_format = \"{l_bar}{bar}| {n_fmt}/{total_fmt} [{elapsed}<{remaining}]\"\n",
    "\n",
    "# # Create embeddings in batches\n",
    "# batches = [df_work_with_translation['english_message'].values[i:i + batch_size].tolist() for i in range(0, len(df_work_with_translation), batch_size)]\n",
    "\n",
    "# for batch in tqdm(batches, disable=not accelerator.is_main_process, bar_format=bar_format):\n",
    "#     batch_embeddings = embedding_model.encode(batch, show_progress_bar=False, convert_to_tensor=True)\n",
    "#     # Ensure the batch_embeddings is 2-dimensional\n",
    "#     if batch_embeddings.dim() == 1:\n",
    "#         batch_embeddings = batch_embeddings.unsqueeze(0)\n",
    "#     embeddings.append(batch_embeddings)\n",
    "\n",
    "# # Gather the results from all processes\n",
    "# embeddings = accelerator.gather(torch.cat(embeddings, dim=0))\n",
    "\n",
    "# # Convert the embeddings to a pandas Series\n",
    "# if accelerator.is_main_process:\n",
    "#     df_work_with_translation['embeddings'] = pd.Series(embeddings.cpu().numpy().tolist())\n",
    "\n",
    "# print(\"Embeddings added to dataframe successfully.\")"
   ]
  }
 ],
 "metadata": {
  "kernelspec": {
   "display_name": "Python 3 (ipykernel)",
   "language": "python",
   "name": "python3"
  },
  "language_info": {
   "codemirror_mode": {
    "name": "ipython",
    "version": 3
   },
   "file_extension": ".py",
   "mimetype": "text/x-python",
   "name": "python",
   "nbconvert_exporter": "python",
   "pygments_lexer": "ipython3",
   "version": "3.12.2"
  }
 },
 "nbformat": 4,
 "nbformat_minor": 5
}
