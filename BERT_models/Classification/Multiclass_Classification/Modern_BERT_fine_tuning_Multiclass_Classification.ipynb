{
  "nbformat": 4,
  "nbformat_minor": 0,
  "metadata": {
    "colab": {
      "provenance": [],
      "gpuType": "T4"
    },
    "kernelspec": {
      "name": "python3",
      "display_name": "Python 3"
    },
    "language_info": {
      "name": "python"
    },
    "accelerator": "GPU",
    "widgets": {
      "application/vnd.jupyter.widget-state+json": {
        "8c29b3057f07465c9e22ddaeb96fb608": {
          "model_module": "@jupyter-widgets/controls",
          "model_name": "HBoxModel",
          "model_module_version": "1.5.0",
          "state": {
            "_dom_classes": [],
            "_model_module": "@jupyter-widgets/controls",
            "_model_module_version": "1.5.0",
            "_model_name": "HBoxModel",
            "_view_count": null,
            "_view_module": "@jupyter-widgets/controls",
            "_view_module_version": "1.5.0",
            "_view_name": "HBoxView",
            "box_style": "",
            "children": [
              "IPY_MODEL_502f8fa86eec4f0eaecb1fff46d80805",
              "IPY_MODEL_ae2181f9764c42a79e790fae1849861b",
              "IPY_MODEL_035d85f751464ceeb2fe37a420e43eb0"
            ],
            "layout": "IPY_MODEL_2089d561c07d43a48189a864642c5659"
          }
        },
        "502f8fa86eec4f0eaecb1fff46d80805": {
          "model_module": "@jupyter-widgets/controls",
          "model_name": "HTMLModel",
          "model_module_version": "1.5.0",
          "state": {
            "_dom_classes": [],
            "_model_module": "@jupyter-widgets/controls",
            "_model_module_version": "1.5.0",
            "_model_name": "HTMLModel",
            "_view_count": null,
            "_view_module": "@jupyter-widgets/controls",
            "_view_module_version": "1.5.0",
            "_view_name": "HTMLView",
            "description": "",
            "description_tooltip": null,
            "layout": "IPY_MODEL_f19d7979b4954884b154ee6f6c88bfe8",
            "placeholder": "​",
            "style": "IPY_MODEL_97a5eb3869694e71b7dbc81268912f16",
            "value": "Map: 100%"
          }
        },
        "ae2181f9764c42a79e790fae1849861b": {
          "model_module": "@jupyter-widgets/controls",
          "model_name": "FloatProgressModel",
          "model_module_version": "1.5.0",
          "state": {
            "_dom_classes": [],
            "_model_module": "@jupyter-widgets/controls",
            "_model_module_version": "1.5.0",
            "_model_name": "FloatProgressModel",
            "_view_count": null,
            "_view_module": "@jupyter-widgets/controls",
            "_view_module_version": "1.5.0",
            "_view_name": "ProgressView",
            "bar_style": "success",
            "description": "",
            "description_tooltip": null,
            "layout": "IPY_MODEL_2dd20c28135a45e384878e9c09974e21",
            "max": 700,
            "min": 0,
            "orientation": "horizontal",
            "style": "IPY_MODEL_d7566f02a5ff4e21a9bfdbcf09b68837",
            "value": 700
          }
        },
        "035d85f751464ceeb2fe37a420e43eb0": {
          "model_module": "@jupyter-widgets/controls",
          "model_name": "HTMLModel",
          "model_module_version": "1.5.0",
          "state": {
            "_dom_classes": [],
            "_model_module": "@jupyter-widgets/controls",
            "_model_module_version": "1.5.0",
            "_model_name": "HTMLModel",
            "_view_count": null,
            "_view_module": "@jupyter-widgets/controls",
            "_view_module_version": "1.5.0",
            "_view_name": "HTMLView",
            "description": "",
            "description_tooltip": null,
            "layout": "IPY_MODEL_d392473f568c44f48c316f1104f5344c",
            "placeholder": "​",
            "style": "IPY_MODEL_a96e1fe364b8416c80bb4114314322ec",
            "value": " 700/700 [00:00&lt;00:00, 1442.30 examples/s]"
          }
        },
        "2089d561c07d43a48189a864642c5659": {
          "model_module": "@jupyter-widgets/base",
          "model_name": "LayoutModel",
          "model_module_version": "1.2.0",
          "state": {
            "_model_module": "@jupyter-widgets/base",
            "_model_module_version": "1.2.0",
            "_model_name": "LayoutModel",
            "_view_count": null,
            "_view_module": "@jupyter-widgets/base",
            "_view_module_version": "1.2.0",
            "_view_name": "LayoutView",
            "align_content": null,
            "align_items": null,
            "align_self": null,
            "border": null,
            "bottom": null,
            "display": null,
            "flex": null,
            "flex_flow": null,
            "grid_area": null,
            "grid_auto_columns": null,
            "grid_auto_flow": null,
            "grid_auto_rows": null,
            "grid_column": null,
            "grid_gap": null,
            "grid_row": null,
            "grid_template_areas": null,
            "grid_template_columns": null,
            "grid_template_rows": null,
            "height": null,
            "justify_content": null,
            "justify_items": null,
            "left": null,
            "margin": null,
            "max_height": null,
            "max_width": null,
            "min_height": null,
            "min_width": null,
            "object_fit": null,
            "object_position": null,
            "order": null,
            "overflow": null,
            "overflow_x": null,
            "overflow_y": null,
            "padding": null,
            "right": null,
            "top": null,
            "visibility": null,
            "width": null
          }
        },
        "f19d7979b4954884b154ee6f6c88bfe8": {
          "model_module": "@jupyter-widgets/base",
          "model_name": "LayoutModel",
          "model_module_version": "1.2.0",
          "state": {
            "_model_module": "@jupyter-widgets/base",
            "_model_module_version": "1.2.0",
            "_model_name": "LayoutModel",
            "_view_count": null,
            "_view_module": "@jupyter-widgets/base",
            "_view_module_version": "1.2.0",
            "_view_name": "LayoutView",
            "align_content": null,
            "align_items": null,
            "align_self": null,
            "border": null,
            "bottom": null,
            "display": null,
            "flex": null,
            "flex_flow": null,
            "grid_area": null,
            "grid_auto_columns": null,
            "grid_auto_flow": null,
            "grid_auto_rows": null,
            "grid_column": null,
            "grid_gap": null,
            "grid_row": null,
            "grid_template_areas": null,
            "grid_template_columns": null,
            "grid_template_rows": null,
            "height": null,
            "justify_content": null,
            "justify_items": null,
            "left": null,
            "margin": null,
            "max_height": null,
            "max_width": null,
            "min_height": null,
            "min_width": null,
            "object_fit": null,
            "object_position": null,
            "order": null,
            "overflow": null,
            "overflow_x": null,
            "overflow_y": null,
            "padding": null,
            "right": null,
            "top": null,
            "visibility": null,
            "width": null
          }
        },
        "97a5eb3869694e71b7dbc81268912f16": {
          "model_module": "@jupyter-widgets/controls",
          "model_name": "DescriptionStyleModel",
          "model_module_version": "1.5.0",
          "state": {
            "_model_module": "@jupyter-widgets/controls",
            "_model_module_version": "1.5.0",
            "_model_name": "DescriptionStyleModel",
            "_view_count": null,
            "_view_module": "@jupyter-widgets/base",
            "_view_module_version": "1.2.0",
            "_view_name": "StyleView",
            "description_width": ""
          }
        },
        "2dd20c28135a45e384878e9c09974e21": {
          "model_module": "@jupyter-widgets/base",
          "model_name": "LayoutModel",
          "model_module_version": "1.2.0",
          "state": {
            "_model_module": "@jupyter-widgets/base",
            "_model_module_version": "1.2.0",
            "_model_name": "LayoutModel",
            "_view_count": null,
            "_view_module": "@jupyter-widgets/base",
            "_view_module_version": "1.2.0",
            "_view_name": "LayoutView",
            "align_content": null,
            "align_items": null,
            "align_self": null,
            "border": null,
            "bottom": null,
            "display": null,
            "flex": null,
            "flex_flow": null,
            "grid_area": null,
            "grid_auto_columns": null,
            "grid_auto_flow": null,
            "grid_auto_rows": null,
            "grid_column": null,
            "grid_gap": null,
            "grid_row": null,
            "grid_template_areas": null,
            "grid_template_columns": null,
            "grid_template_rows": null,
            "height": null,
            "justify_content": null,
            "justify_items": null,
            "left": null,
            "margin": null,
            "max_height": null,
            "max_width": null,
            "min_height": null,
            "min_width": null,
            "object_fit": null,
            "object_position": null,
            "order": null,
            "overflow": null,
            "overflow_x": null,
            "overflow_y": null,
            "padding": null,
            "right": null,
            "top": null,
            "visibility": null,
            "width": null
          }
        },
        "d7566f02a5ff4e21a9bfdbcf09b68837": {
          "model_module": "@jupyter-widgets/controls",
          "model_name": "ProgressStyleModel",
          "model_module_version": "1.5.0",
          "state": {
            "_model_module": "@jupyter-widgets/controls",
            "_model_module_version": "1.5.0",
            "_model_name": "ProgressStyleModel",
            "_view_count": null,
            "_view_module": "@jupyter-widgets/base",
            "_view_module_version": "1.2.0",
            "_view_name": "StyleView",
            "bar_color": null,
            "description_width": ""
          }
        },
        "d392473f568c44f48c316f1104f5344c": {
          "model_module": "@jupyter-widgets/base",
          "model_name": "LayoutModel",
          "model_module_version": "1.2.0",
          "state": {
            "_model_module": "@jupyter-widgets/base",
            "_model_module_version": "1.2.0",
            "_model_name": "LayoutModel",
            "_view_count": null,
            "_view_module": "@jupyter-widgets/base",
            "_view_module_version": "1.2.0",
            "_view_name": "LayoutView",
            "align_content": null,
            "align_items": null,
            "align_self": null,
            "border": null,
            "bottom": null,
            "display": null,
            "flex": null,
            "flex_flow": null,
            "grid_area": null,
            "grid_auto_columns": null,
            "grid_auto_flow": null,
            "grid_auto_rows": null,
            "grid_column": null,
            "grid_gap": null,
            "grid_row": null,
            "grid_template_areas": null,
            "grid_template_columns": null,
            "grid_template_rows": null,
            "height": null,
            "justify_content": null,
            "justify_items": null,
            "left": null,
            "margin": null,
            "max_height": null,
            "max_width": null,
            "min_height": null,
            "min_width": null,
            "object_fit": null,
            "object_position": null,
            "order": null,
            "overflow": null,
            "overflow_x": null,
            "overflow_y": null,
            "padding": null,
            "right": null,
            "top": null,
            "visibility": null,
            "width": null
          }
        },
        "a96e1fe364b8416c80bb4114314322ec": {
          "model_module": "@jupyter-widgets/controls",
          "model_name": "DescriptionStyleModel",
          "model_module_version": "1.5.0",
          "state": {
            "_model_module": "@jupyter-widgets/controls",
            "_model_module_version": "1.5.0",
            "_model_name": "DescriptionStyleModel",
            "_view_count": null,
            "_view_module": "@jupyter-widgets/base",
            "_view_module_version": "1.2.0",
            "_view_name": "StyleView",
            "description_width": ""
          }
        },
        "9c9263b33f404f0a88f42854cc9ba835": {
          "model_module": "@jupyter-widgets/controls",
          "model_name": "HBoxModel",
          "model_module_version": "1.5.0",
          "state": {
            "_dom_classes": [],
            "_model_module": "@jupyter-widgets/controls",
            "_model_module_version": "1.5.0",
            "_model_name": "HBoxModel",
            "_view_count": null,
            "_view_module": "@jupyter-widgets/controls",
            "_view_module_version": "1.5.0",
            "_view_name": "HBoxView",
            "box_style": "",
            "children": [
              "IPY_MODEL_ae2d5ff91e4c48e68e59db7662bb5e44",
              "IPY_MODEL_76a3109be54f4860a6bb35e90b0b3e67",
              "IPY_MODEL_f39f441849c344298096b87c979bd70c"
            ],
            "layout": "IPY_MODEL_acb39280e04141d4a563a1b3bf1e57f7"
          }
        },
        "ae2d5ff91e4c48e68e59db7662bb5e44": {
          "model_module": "@jupyter-widgets/controls",
          "model_name": "HTMLModel",
          "model_module_version": "1.5.0",
          "state": {
            "_dom_classes": [],
            "_model_module": "@jupyter-widgets/controls",
            "_model_module_version": "1.5.0",
            "_model_name": "HTMLModel",
            "_view_count": null,
            "_view_module": "@jupyter-widgets/controls",
            "_view_module_version": "1.5.0",
            "_view_name": "HTMLView",
            "description": "",
            "description_tooltip": null,
            "layout": "IPY_MODEL_d61e6918d9c545f194364f5d494686ab",
            "placeholder": "​",
            "style": "IPY_MODEL_fa317942dee742c4b8442944efd6848b",
            "value": "Map: 100%"
          }
        },
        "76a3109be54f4860a6bb35e90b0b3e67": {
          "model_module": "@jupyter-widgets/controls",
          "model_name": "FloatProgressModel",
          "model_module_version": "1.5.0",
          "state": {
            "_dom_classes": [],
            "_model_module": "@jupyter-widgets/controls",
            "_model_module_version": "1.5.0",
            "_model_name": "FloatProgressModel",
            "_view_count": null,
            "_view_module": "@jupyter-widgets/controls",
            "_view_module_version": "1.5.0",
            "_view_name": "ProgressView",
            "bar_style": "success",
            "description": "",
            "description_tooltip": null,
            "layout": "IPY_MODEL_aba6b0ce00b249e8abdf0a43a6b39059",
            "max": 300,
            "min": 0,
            "orientation": "horizontal",
            "style": "IPY_MODEL_5a0524cb904e4b2f8b5ecfbecb75393f",
            "value": 300
          }
        },
        "f39f441849c344298096b87c979bd70c": {
          "model_module": "@jupyter-widgets/controls",
          "model_name": "HTMLModel",
          "model_module_version": "1.5.0",
          "state": {
            "_dom_classes": [],
            "_model_module": "@jupyter-widgets/controls",
            "_model_module_version": "1.5.0",
            "_model_name": "HTMLModel",
            "_view_count": null,
            "_view_module": "@jupyter-widgets/controls",
            "_view_module_version": "1.5.0",
            "_view_name": "HTMLView",
            "description": "",
            "description_tooltip": null,
            "layout": "IPY_MODEL_a5f9fa1f5d9a4e96984fd817327430ef",
            "placeholder": "​",
            "style": "IPY_MODEL_6490131dfb76412695fdf0ba4ba449d0",
            "value": " 300/300 [00:00&lt;00:00, 1938.70 examples/s]"
          }
        },
        "acb39280e04141d4a563a1b3bf1e57f7": {
          "model_module": "@jupyter-widgets/base",
          "model_name": "LayoutModel",
          "model_module_version": "1.2.0",
          "state": {
            "_model_module": "@jupyter-widgets/base",
            "_model_module_version": "1.2.0",
            "_model_name": "LayoutModel",
            "_view_count": null,
            "_view_module": "@jupyter-widgets/base",
            "_view_module_version": "1.2.0",
            "_view_name": "LayoutView",
            "align_content": null,
            "align_items": null,
            "align_self": null,
            "border": null,
            "bottom": null,
            "display": null,
            "flex": null,
            "flex_flow": null,
            "grid_area": null,
            "grid_auto_columns": null,
            "grid_auto_flow": null,
            "grid_auto_rows": null,
            "grid_column": null,
            "grid_gap": null,
            "grid_row": null,
            "grid_template_areas": null,
            "grid_template_columns": null,
            "grid_template_rows": null,
            "height": null,
            "justify_content": null,
            "justify_items": null,
            "left": null,
            "margin": null,
            "max_height": null,
            "max_width": null,
            "min_height": null,
            "min_width": null,
            "object_fit": null,
            "object_position": null,
            "order": null,
            "overflow": null,
            "overflow_x": null,
            "overflow_y": null,
            "padding": null,
            "right": null,
            "top": null,
            "visibility": null,
            "width": null
          }
        },
        "d61e6918d9c545f194364f5d494686ab": {
          "model_module": "@jupyter-widgets/base",
          "model_name": "LayoutModel",
          "model_module_version": "1.2.0",
          "state": {
            "_model_module": "@jupyter-widgets/base",
            "_model_module_version": "1.2.0",
            "_model_name": "LayoutModel",
            "_view_count": null,
            "_view_module": "@jupyter-widgets/base",
            "_view_module_version": "1.2.0",
            "_view_name": "LayoutView",
            "align_content": null,
            "align_items": null,
            "align_self": null,
            "border": null,
            "bottom": null,
            "display": null,
            "flex": null,
            "flex_flow": null,
            "grid_area": null,
            "grid_auto_columns": null,
            "grid_auto_flow": null,
            "grid_auto_rows": null,
            "grid_column": null,
            "grid_gap": null,
            "grid_row": null,
            "grid_template_areas": null,
            "grid_template_columns": null,
            "grid_template_rows": null,
            "height": null,
            "justify_content": null,
            "justify_items": null,
            "left": null,
            "margin": null,
            "max_height": null,
            "max_width": null,
            "min_height": null,
            "min_width": null,
            "object_fit": null,
            "object_position": null,
            "order": null,
            "overflow": null,
            "overflow_x": null,
            "overflow_y": null,
            "padding": null,
            "right": null,
            "top": null,
            "visibility": null,
            "width": null
          }
        },
        "fa317942dee742c4b8442944efd6848b": {
          "model_module": "@jupyter-widgets/controls",
          "model_name": "DescriptionStyleModel",
          "model_module_version": "1.5.0",
          "state": {
            "_model_module": "@jupyter-widgets/controls",
            "_model_module_version": "1.5.0",
            "_model_name": "DescriptionStyleModel",
            "_view_count": null,
            "_view_module": "@jupyter-widgets/base",
            "_view_module_version": "1.2.0",
            "_view_name": "StyleView",
            "description_width": ""
          }
        },
        "aba6b0ce00b249e8abdf0a43a6b39059": {
          "model_module": "@jupyter-widgets/base",
          "model_name": "LayoutModel",
          "model_module_version": "1.2.0",
          "state": {
            "_model_module": "@jupyter-widgets/base",
            "_model_module_version": "1.2.0",
            "_model_name": "LayoutModel",
            "_view_count": null,
            "_view_module": "@jupyter-widgets/base",
            "_view_module_version": "1.2.0",
            "_view_name": "LayoutView",
            "align_content": null,
            "align_items": null,
            "align_self": null,
            "border": null,
            "bottom": null,
            "display": null,
            "flex": null,
            "flex_flow": null,
            "grid_area": null,
            "grid_auto_columns": null,
            "grid_auto_flow": null,
            "grid_auto_rows": null,
            "grid_column": null,
            "grid_gap": null,
            "grid_row": null,
            "grid_template_areas": null,
            "grid_template_columns": null,
            "grid_template_rows": null,
            "height": null,
            "justify_content": null,
            "justify_items": null,
            "left": null,
            "margin": null,
            "max_height": null,
            "max_width": null,
            "min_height": null,
            "min_width": null,
            "object_fit": null,
            "object_position": null,
            "order": null,
            "overflow": null,
            "overflow_x": null,
            "overflow_y": null,
            "padding": null,
            "right": null,
            "top": null,
            "visibility": null,
            "width": null
          }
        },
        "5a0524cb904e4b2f8b5ecfbecb75393f": {
          "model_module": "@jupyter-widgets/controls",
          "model_name": "ProgressStyleModel",
          "model_module_version": "1.5.0",
          "state": {
            "_model_module": "@jupyter-widgets/controls",
            "_model_module_version": "1.5.0",
            "_model_name": "ProgressStyleModel",
            "_view_count": null,
            "_view_module": "@jupyter-widgets/base",
            "_view_module_version": "1.2.0",
            "_view_name": "StyleView",
            "bar_color": null,
            "description_width": ""
          }
        },
        "a5f9fa1f5d9a4e96984fd817327430ef": {
          "model_module": "@jupyter-widgets/base",
          "model_name": "LayoutModel",
          "model_module_version": "1.2.0",
          "state": {
            "_model_module": "@jupyter-widgets/base",
            "_model_module_version": "1.2.0",
            "_model_name": "LayoutModel",
            "_view_count": null,
            "_view_module": "@jupyter-widgets/base",
            "_view_module_version": "1.2.0",
            "_view_name": "LayoutView",
            "align_content": null,
            "align_items": null,
            "align_self": null,
            "border": null,
            "bottom": null,
            "display": null,
            "flex": null,
            "flex_flow": null,
            "grid_area": null,
            "grid_auto_columns": null,
            "grid_auto_flow": null,
            "grid_auto_rows": null,
            "grid_column": null,
            "grid_gap": null,
            "grid_row": null,
            "grid_template_areas": null,
            "grid_template_columns": null,
            "grid_template_rows": null,
            "height": null,
            "justify_content": null,
            "justify_items": null,
            "left": null,
            "margin": null,
            "max_height": null,
            "max_width": null,
            "min_height": null,
            "min_width": null,
            "object_fit": null,
            "object_position": null,
            "order": null,
            "overflow": null,
            "overflow_x": null,
            "overflow_y": null,
            "padding": null,
            "right": null,
            "top": null,
            "visibility": null,
            "width": null
          }
        },
        "6490131dfb76412695fdf0ba4ba449d0": {
          "model_module": "@jupyter-widgets/controls",
          "model_name": "DescriptionStyleModel",
          "model_module_version": "1.5.0",
          "state": {
            "_model_module": "@jupyter-widgets/controls",
            "_model_module_version": "1.5.0",
            "_model_name": "DescriptionStyleModel",
            "_view_count": null,
            "_view_module": "@jupyter-widgets/base",
            "_view_module_version": "1.2.0",
            "_view_name": "StyleView",
            "description_width": ""
          }
        }
      }
    }
  },
  "cells": [
    {
      "cell_type": "markdown",
      "source": [
        "# Modern BERT Fine-Tuning for Multiclass Classification\n",
        "* Notebook by Adam Lang\n",
        "* Date: 2/27/25\n",
        "\n",
        "# Overview\n",
        "* In this notebook we will fine-tune Modern BERT for Multiclass Classification.\n",
        "\n",
        "# Modern BERT Model\n",
        "* Model card: https://huggingface.co/answerdotai/ModernBERT-base\n",
        "* ModernBERT is a modernized bidirectional encoder-only Transformer model (BERT-style) pre-trained on 2 trillion tokens of English and code data with a native context length of up to 8,192 tokens.\n",
        "* ModernBERT leverages recent architectural improvements such as:\n",
        "\n",
        "1. Rotary Positional Embeddings (RoPE) for long-context support.\n",
        "2. Local-Global Alternating Attention for efficiency on long inputs.\n",
        "3. Unpadding and Flash Attention for efficient inference.\n",
        "4. Increased context length\n",
        "  * BERT was limited to a maximum context length of 512 tokens.\n",
        "  * ModernBERT: Supports a significantly larger context length of 8,192 tokens, allowing for better handling of long documents and complex queries.\n",
        "\n",
        "* Good review article: https://medium.com/data-science-in-your-pocket/modernbert-vs-bert-whats-the-difference-b8d29313231f#:~:text=BERT%3A%20Limited%20to%20a%20maximum,long%20documents%20and%20complex%20queries.\n",
        "\n",
        "## Use Cases\n",
        "* This updated version of BERT makes it ideal for NLP tasks that require processing long context sequences in large corpora or documents such as:\n",
        "  * information retrieval\n",
        "  * classification\n",
        "  * semantic search  \n",
        "\n",
        "* Since the model was trained on a large corpus of text and code, it excels at a variety of downstream tasks, including:\n",
        "  * code retrieval\n",
        "  * hybrid (text + code) semantic search\n",
        "  * ...and much more.\n"
      ],
      "metadata": {
        "id": "oSRCo4C0dVFk"
      }
    },
    {
      "cell_type": "markdown",
      "source": [
        "# Install Dependencies"
      ],
      "metadata": {
        "id": "l_E2qna5decy"
      }
    },
    {
      "cell_type": "code",
      "execution_count": 1,
      "metadata": {
        "id": "NItn-eRfdQCN"
      },
      "outputs": [],
      "source": [
        "%%capture\n",
        "!pip install \"torch==2.5.0\" \"torchvision==0.20.0\""
      ]
    },
    {
      "cell_type": "code",
      "source": [
        "%%capture\n",
        "!pip install \"setuptools<71.0.0\" scikit-learn"
      ],
      "metadata": {
        "id": "py3-OQTkdo04"
      },
      "execution_count": 2,
      "outputs": []
    },
    {
      "cell_type": "code",
      "source": [
        "%%capture\n",
        "!pip install -U\\\n",
        " \"datasets==3.1.0\"\\\n",
        " \"accelerate==1.2.1\"\\\n",
        " \"hf-transfer==0.1.8\""
      ],
      "metadata": {
        "id": "B_ImVfjJduCu"
      },
      "execution_count": 3,
      "outputs": []
    },
    {
      "cell_type": "markdown",
      "source": [
        "# Imports"
      ],
      "metadata": {
        "id": "er18X25MhK2i"
      }
    },
    {
      "cell_type": "code",
      "source": [
        "import pandas as pd\n",
        "import numpy as np\n",
        "import matplotlib.pyplot as plt\n",
        "%matplotlib inline\n",
        "\n",
        "import torch\n",
        "from transformers import (\n",
        "    AutoTokenizer,\n",
        "    AutoModelForSequenceClassification,\n",
        "    Trainer,\n",
        "    TrainingArguments,\n",
        "\n",
        ")\n",
        "from datasets import load_dataset\n",
        "from datasets.arrow_dataset import Dataset\n",
        "from datasets.dataset_dict import DatasetDict, IterableDatasetDict\n",
        "from datasets.iterable_dataset import IterableDataset"
      ],
      "metadata": {
        "id": "2KBIF_08hKdC"
      },
      "execution_count": 25,
      "outputs": []
    },
    {
      "cell_type": "markdown",
      "source": [
        "# Load Dataset from hugging face\n",
        "* dataset: `argilla/synthetic-domain-text-classification`\n",
        "* data card: https://huggingface.co/datasets/argilla/synthetic-domain-text-classification\n",
        "* This is a synthetic dataset that has 26 different classes for multi-class classification."
      ],
      "metadata": {
        "id": "gB81Gp-MhqvK"
      }
    },
    {
      "cell_type": "code",
      "source": [
        "## load hf dataset\n",
        "data_id = \"argilla/synthetic-domain-text-classification\"\n",
        "\n",
        "## train split\n",
        "train_data = load_dataset(data_id, split='train')\n",
        "\n",
        "## test split\n",
        "split_data = train_data.train_test_split(test_size=0.30)\n",
        "split_data['train'][1:10]"
      ],
      "metadata": {
        "colab": {
          "base_uri": "https://localhost:8080/"
        },
        "id": "eRSDjRjNhqXa",
        "outputId": "77097413-92df-4c0f-fb1a-5339e56051d7"
      },
      "execution_count": 77,
      "outputs": [
        {
          "output_type": "execute_result",
          "data": {
            "text/plain": [
              "{'text': [\"The game was an epic showdown between the two rival teams. The stadium was packed as fans eagerly anticipated the clash. Both teams had been performing well this season and were hungry for victory. As the match began, tension filled the air. The defense of Team A was formidable, thwarting multiple attempts by Team B to score. However, in a surprising turn of events, a skillful maneuver led Team B's striker to break through the defenses, scoring the first goal against all odds. This ignited a fierce battle that continued until the final whistle. Fans were left on the edge of their seats as both teams fought fiercely for supremacy.\",\n",
              "  'The recent financial crisis has affected various sectors of the global economy. Banks have experienced decreased liquidity as credit markets tightened, leading to higher borrowing costs for consumers and businesses alike. This situation has prompted governments around the world to implement economic stimulus packages aimed at boosting demand and stabilizing financial institutions. Additionally, there is a growing trend towards using digital currencies and blockchain technology in the financial sector to improve efficiency and reduce fraud.',\n",
              "  'In the digital age, connectivity has become as essential as electricity in modern homes. Recent advancements have propelled internet technology into new realms, transforming communication and interaction across the globe. The advent of 5G networks promises unprecedented speed and capacity, setting the stage for the next wave of technological progress. Meanwhile, discussions surrounding net neutrality continue to capture public interest, with varying opinions on its impact on freedom of expression and accessibility. On a related note, telecommunication companies are facing regulatory challenges in many countries, with debates over ownership and control often intersecting with national security concerns.',\n",
              "  'The article explores the societal impact of discussing mental health openly versus the traditional stigma associated with it. It includes personal stories and expert opinions on how this shift in conversation can lead to better understanding and support for those struggling, but also touches on the potential drawbacks such as over-disclosure leading to trivialization or misunderstanding.',\n",
              "  \"In recent years, there has been an increasing amount of discussion around the impact of social media on mental health among young adults. Many studies have shown that prolonged use of these platforms can lead to feelings of anxiety and depression due to constant comparison with others' seemingly perfect lives. Furthermore, cyberbullying has become a significant issue, especially in online forums where anonymity can encourage abusive behavior.\",\n",
              "  'Users often share tips on creating homemade skincare products, discussing the benefits of natural ingredients over chemical-based products. They also post questions and receive advice on everything from acne treatments to anti-aging serums. The community frequently recommends DIY recipes using items like honey, coconut oil, and oatmeal. Discussions can get quite lively with members sharing before-and-after pictures.',\n",
              "  'The Constitution of the United States was written in 1787 and has since been amended numerous times to adapt to the changing needs of society. This document sets forth the structure and function of the federal government, including the separation of powers among three branches: legislative, executive, and judicial. One interesting aspect of the constitutional history is the evolution of the Bill of Rights, which includes fundamental rights such as freedom of speech and religion, the right to bear arms, and protections against unreasonable search and seizure. Over time, these principles have been interpreted by the Supreme Court in various landmark cases, shaping modern-day jurisprudence.',\n",
              "  'The human body has an intricate network of systems that work in harmony to maintain optimal health. The cardiovascular system pumps blood throughout the body to deliver essential nutrients and oxygen while removing waste products such as carbon dioxide. Additionally, the immune system defends against diseases by fighting off viruses, bacteria, and other harmful pathogens. Nutrition also plays a vital role in overall well-being; consuming a balanced diet consisting of proteins, carbohydrates, fats, vitamins, and minerals ensures that the body functions efficiently. Exercise is another crucial aspect of health maintenance as it keeps muscles strong, improves cardiovascular function, and aids in weight management.',\n",
              "  \"Welcome to our online store where you can find the best deals on electronics, clothing, home appliances, and more. Today's special offer includes a discount on all kitchen gadgets, perfect for anyone looking to upgrade their cooking tools. Don't miss out on this opportunity to save big while shopping from the comfort of your own home.\"],\n",
              " 'label': [5, 23, 9, 17, 17, 2, 24, 17, 6]}"
            ]
          },
          "metadata": {},
          "execution_count": 77
        }
      ]
    },
    {
      "cell_type": "code",
      "source": [
        "train_data"
      ],
      "metadata": {
        "colab": {
          "base_uri": "https://localhost:8080/"
        },
        "id": "KQDQkSow7vgN",
        "outputId": "f2c7d687-640c-476d-8d88-5b693f89fd5e"
      },
      "execution_count": 78,
      "outputs": [
        {
          "output_type": "execute_result",
          "data": {
            "text/plain": [
              "Dataset({\n",
              "    features: ['text', 'label'],\n",
              "    num_rows: 1000\n",
              "})"
            ]
          },
          "metadata": {},
          "execution_count": 78
        }
      ]
    },
    {
      "cell_type": "markdown",
      "source": [
        "# Exploratory Data Analysis\n",
        "1. Visualize the target class to check for any imbalance in the labels.\n",
        "2. Evaluate the token sequence lengths in the text column. Not that we will have any issues with the max sequence length of Modern BERT being 8,192 tokens much more than the 512 tokens for the original BERT model but still good practice to check this for batching when feeding tokens to the model."
      ],
      "metadata": {
        "id": "T9fq8Nj5mA70"
      }
    },
    {
      "cell_type": "markdown",
      "source": [
        "## Visualize Target Labels"
      ],
      "metadata": {
        "id": "D58tnRGp26Yv"
      }
    },
    {
      "cell_type": "code",
      "source": [
        "## train data\n",
        "plt.figure(figsize=(12,8))\n",
        "## call to_pandas() on the train_data['label'] object\n",
        "pd.DataFrame(train_data['label'], columns=['label'])['label'].value_counts().plot(kind='bar')\n",
        "\n",
        "plt.title('Train Data Target Labels Plot')\n",
        "plt.xlabel('Labels')\n",
        "plt.ylabel('Count')\n",
        "plt.legend()\n",
        "plt.tight_layout()\n",
        "plt.show();"
      ],
      "metadata": {
        "colab": {
          "base_uri": "https://localhost:8080/",
          "height": 807
        },
        "id": "lm6bo17I2VGS",
        "outputId": "4b514511-5eb6-4334-ed16-b046730fb7ff"
      },
      "execution_count": 79,
      "outputs": [
        {
          "output_type": "display_data",
          "data": {
            "text/plain": [
              "<Figure size 1200x800 with 1 Axes>"
            ],
            "image/png": "[encoded data removed]"
          },
          "metadata": {}
        }
      ]
    },
    {
      "cell_type": "markdown",
      "source": [
        "Summary\n",
        "* It appears that Label 17 from the dataset has a higher frequency while labels 11, 15, and 25 have a much lower frequency.\n",
        "* We will see how the model performs in clasification, but obviously if it does not perform well we may need to consider resampling the target labels to even out the distribution."
      ],
      "metadata": {
        "id": "x2LrP5fM2d7H"
      }
    },
    {
      "cell_type": "markdown",
      "source": [
        "## Count Tokens in text column\n",
        "* Counting token min, max, and mean will just give us an idea of the token counts for the text column. As I mentioned above we really don't have to worry about this now because Modern Bert has a longer sequence length than the standard BERT model (512), but it is still best practice to know this."
      ],
      "metadata": {
        "id": "C7lnvbkw2-Fd"
      }
    },
    {
      "cell_type": "code",
      "source": [
        "train_data"
      ],
      "metadata": {
        "colab": {
          "base_uri": "https://localhost:8080/"
        },
        "id": "TCPKiOCw5BsE",
        "outputId": "ab648cb5-41c2-4dcb-91b1-697c0401b110"
      },
      "execution_count": 80,
      "outputs": [
        {
          "output_type": "execute_result",
          "data": {
            "text/plain": [
              "Dataset({\n",
              "    features: ['text', 'label'],\n",
              "    num_rows: 1000\n",
              "})"
            ]
          },
          "metadata": {},
          "execution_count": 80
        }
      ]
    },
    {
      "cell_type": "code",
      "source": [
        "from tqdm import tqdm\n",
        "from transformers import AutoTokenizer\n",
        "import pandas as pd\n",
        "\n",
        "# Initialize the tokenizer\n",
        "tokenizer = AutoTokenizer.from_pretrained('answerdotai/ModernBERT-base')\n",
        "\n",
        "# Function to count tokens\n",
        "def count_tokens(text):\n",
        "    return len(tokenizer.encode(text))\n",
        "\n",
        "# Convert the 'text' column to a Pandas Series\n",
        "text_series = pd.Series(train_data['text'])\n",
        "\n",
        "# Apply the function with a progress bar\n",
        "tqdm.pandas(desc=\"Counting tokens\")  # Initialize tqdm for Pandas\n",
        "token_counts = text_series.progress_apply(count_tokens) # Use progress_apply on the Pandas Series\n",
        "\n",
        "# Instead of adding a new column, update the existing 'token_count_text' column\n",
        "train_data = train_data.add_column('token_count_text', token_counts.to_list()) # Add the token counts as a new column to the Dataset\n",
        "\n"
      ],
      "metadata": {
        "colab": {
          "base_uri": "https://localhost:8080/"
        },
        "id": "R9Doyub66DiK",
        "outputId": "cb1c0ca6-dc60-4a35-ee26-cd832e95e943"
      },
      "execution_count": 81,
      "outputs": [
        {
          "output_type": "stream",
          "name": "stderr",
          "text": [
            "Counting tokens: 100%|██████████| 1000/1000 [00:00<00:00, 1567.70it/s]\n"
          ]
        }
      ]
    },
    {
      "cell_type": "code",
      "source": [
        "# Display the value counts\n",
        "print(f\"Max tokens: {np.max(train_data['token_count_text'])}\")\n",
        "print(f\"Max tokens: {np.min(train_data['token_count_text'])}\")\n",
        "print(f\"Std tokens: {np.std(train_data['token_count_text']):.3f}\")\n",
        "\n",
        "# Extract 'token_count_text' as a list\n",
        "token_counts = train_data['token_count_text']\n",
        "\n",
        "# Calculate the mean\n",
        "mean_token_count = np.mean(token_counts)\n",
        "\n",
        "print(f\"Mean token count: {mean_token_count}\")"
      ],
      "metadata": {
        "colab": {
          "base_uri": "https://localhost:8080/"
        },
        "id": "waPCPdhg6PvX",
        "outputId": "ed66c3d9-b1fd-4005-a3f7-c2d2324a55e2"
      },
      "execution_count": 82,
      "outputs": [
        {
          "output_type": "stream",
          "name": "stdout",
          "text": [
            "Max tokens: 374\n",
            "Max tokens: 40\n",
            "Std tokens: 29.849\n",
            "Mean token count: 97.518\n"
          ]
        }
      ]
    },
    {
      "cell_type": "markdown",
      "source": [
        "Summary\n",
        "* It's clear the token counts are not an issue in the text column for the Modern BERT sequence length.\n",
        "* However, it is an NLP consideration as we have to consider if there is enough context in the text column for the model to learn and predict the each label."
      ],
      "metadata": {
        "id": "zBn9kUtS6_5a"
      }
    },
    {
      "cell_type": "markdown",
      "source": [
        "# Load Modern BERT checkpoint & Tokenizer"
      ],
      "metadata": {
        "id": "j4U_dy1gg01J"
      }
    },
    {
      "cell_type": "code",
      "source": [
        "## model checkpoint modern bert\n",
        "model_ckpt = 'answerdotai/ModernBERT-base'\n",
        "\n",
        "\n",
        "# Load tokenizer\n",
        "tokenizer = AutoTokenizer.from_pretrained(model_ckpt)\n",
        "tokenizer"
      ],
      "metadata": {
        "colab": {
          "base_uri": "https://localhost:8080/"
        },
        "id": "if6P_z5keAaR",
        "outputId": "4ba4d31e-8920-4e1c-ade0-97e5d92aca27"
      },
      "execution_count": 83,
      "outputs": [
        {
          "output_type": "execute_result",
          "data": {
            "text/plain": [
              "PreTrainedTokenizerFast(name_or_path='answerdotai/ModernBERT-base', vocab_size=50280, model_max_length=8192, is_fast=True, padding_side='right', truncation_side='right', special_tokens={'unk_token': '[UNK]', 'sep_token': '[SEP]', 'pad_token': '[PAD]', 'cls_token': '[CLS]', 'mask_token': '[MASK]'}, clean_up_tokenization_spaces=True, added_tokens_decoder={\n",
              "\t0: AddedToken(\"|||IP_ADDRESS|||\", rstrip=False, lstrip=False, single_word=False, normalized=True, special=False),\n",
              "\t1: AddedToken(\"<|padding|>\", rstrip=False, lstrip=False, single_word=False, normalized=False, special=True),\n",
              "\t50254: AddedToken(\"                        \", rstrip=False, lstrip=False, single_word=False, normalized=True, special=False),\n",
              "\t50255: AddedToken(\"                       \", rstrip=False, lstrip=False, single_word=False, normalized=True, special=False),\n",
              "\t50256: AddedToken(\"                      \", rstrip=False, lstrip=False, single_word=False, normalized=True, special=False),\n",
              "\t50257: AddedToken(\"                     \", rstrip=False, lstrip=False, single_word=False, normalized=True, special=False),\n",
              "\t50258: AddedToken(\"                    \", rstrip=False, lstrip=False, single_word=False, normalized=True, special=False),\n",
              "\t50259: AddedToken(\"                   \", rstrip=False, lstrip=False, single_word=False, normalized=True, special=False),\n",
              "\t50260: AddedToken(\"                  \", rstrip=False, lstrip=False, single_word=False, normalized=True, special=False),\n",
              "\t50261: AddedToken(\"                 \", rstrip=False, lstrip=False, single_word=False, normalized=True, special=False),\n",
              "\t50262: AddedToken(\"                \", rstrip=False, lstrip=False, single_word=False, normalized=True, special=False),\n",
              "\t50263: AddedToken(\"               \", rstrip=False, lstrip=False, single_word=False, normalized=True, special=False),\n",
              "\t50264: AddedToken(\"              \", rstrip=False, lstrip=False, single_word=False, normalized=True, special=False),\n",
              "\t50265: AddedToken(\"             \", rstrip=False, lstrip=False, single_word=False, normalized=True, special=False),\n",
              "\t50266: AddedToken(\"            \", rstrip=False, lstrip=False, single_word=False, normalized=True, special=False),\n",
              "\t50267: AddedToken(\"           \", rstrip=False, lstrip=False, single_word=False, normalized=True, special=False),\n",
              "\t50268: AddedToken(\"          \", rstrip=False, lstrip=False, single_word=False, normalized=True, special=False),\n",
              "\t50269: AddedToken(\"         \", rstrip=False, lstrip=False, single_word=False, normalized=True, special=False),\n",
              "\t50270: AddedToken(\"        \", rstrip=False, lstrip=False, single_word=False, normalized=True, special=False),\n",
              "\t50271: AddedToken(\"       \", rstrip=False, lstrip=False, single_word=False, normalized=True, special=False),\n",
              "\t50272: AddedToken(\"      \", rstrip=False, lstrip=False, single_word=False, normalized=True, special=False),\n",
              "\t50273: AddedToken(\"     \", rstrip=False, lstrip=False, single_word=False, normalized=True, special=False),\n",
              "\t50274: AddedToken(\"    \", rstrip=False, lstrip=False, single_word=False, normalized=True, special=False),\n",
              "\t50275: AddedToken(\"   \", rstrip=False, lstrip=False, single_word=False, normalized=True, special=False),\n",
              "\t50276: AddedToken(\"  \", rstrip=False, lstrip=False, single_word=False, normalized=True, special=False),\n",
              "\t50277: AddedToken(\"|||EMAIL_ADDRESS|||\", rstrip=False, lstrip=False, single_word=False, normalized=True, special=False),\n",
              "\t50278: AddedToken(\"|||PHONE_NUMBER|||\", rstrip=False, lstrip=False, single_word=False, normalized=True, special=False),\n",
              "\t50279: AddedToken(\"<|endoftext|>\", rstrip=False, lstrip=False, single_word=False, normalized=False, special=True),\n",
              "\t50280: AddedToken(\"[UNK]\", rstrip=False, lstrip=False, single_word=False, normalized=False, special=True),\n",
              "\t50281: AddedToken(\"[CLS]\", rstrip=False, lstrip=False, single_word=False, normalized=False, special=True),\n",
              "\t50282: AddedToken(\"[SEP]\", rstrip=False, lstrip=False, single_word=False, normalized=False, special=True),\n",
              "\t50283: AddedToken(\"[PAD]\", rstrip=False, lstrip=False, single_word=False, normalized=False, special=True),\n",
              "\t50284: AddedToken(\"[MASK]\", rstrip=False, lstrip=True, single_word=False, normalized=False, special=True),\n",
              "\t50285: AddedToken(\"[unused0]\", rstrip=False, lstrip=False, single_word=False, normalized=True, special=False),\n",
              "\t50286: AddedToken(\"[unused1]\", rstrip=False, lstrip=False, single_word=False, normalized=True, special=False),\n",
              "\t50287: AddedToken(\"[unused2]\", rstrip=False, lstrip=False, single_word=False, normalized=True, special=False),\n",
              "\t50288: AddedToken(\"[unused3]\", rstrip=False, lstrip=False, single_word=False, normalized=True, special=False),\n",
              "\t50289: AddedToken(\"[unused4]\", rstrip=False, lstrip=False, single_word=False, normalized=True, special=False),\n",
              "\t50290: AddedToken(\"[unused5]\", rstrip=False, lstrip=False, single_word=False, normalized=True, special=False),\n",
              "\t50291: AddedToken(\"[unused6]\", rstrip=False, lstrip=False, single_word=False, normalized=True, special=False),\n",
              "\t50292: AddedToken(\"[unused7]\", rstrip=False, lstrip=False, single_word=False, normalized=True, special=False),\n",
              "\t50293: AddedToken(\"[unused8]\", rstrip=False, lstrip=False, single_word=False, normalized=True, special=False),\n",
              "\t50294: AddedToken(\"[unused9]\", rstrip=False, lstrip=False, single_word=False, normalized=True, special=False),\n",
              "\t50295: AddedToken(\"[unused10]\", rstrip=False, lstrip=False, single_word=False, normalized=True, special=False),\n",
              "\t50296: AddedToken(\"[unused11]\", rstrip=False, lstrip=False, single_word=False, normalized=True, special=False),\n",
              "\t50297: AddedToken(\"[unused12]\", rstrip=False, lstrip=False, single_word=False, normalized=True, special=False),\n",
              "\t50298: AddedToken(\"[unused13]\", rstrip=False, lstrip=False, single_word=False, normalized=True, special=False),\n",
              "\t50299: AddedToken(\"[unused14]\", rstrip=False, lstrip=False, single_word=False, normalized=True, special=False),\n",
              "\t50300: AddedToken(\"[unused15]\", rstrip=False, lstrip=False, single_word=False, normalized=True, special=False),\n",
              "\t50301: AddedToken(\"[unused16]\", rstrip=False, lstrip=False, single_word=False, normalized=True, special=False),\n",
              "\t50302: AddedToken(\"[unused17]\", rstrip=False, lstrip=False, single_word=False, normalized=True, special=False),\n",
              "\t50303: AddedToken(\"[unused18]\", rstrip=False, lstrip=False, single_word=False, normalized=True, special=False),\n",
              "\t50304: AddedToken(\"[unused19]\", rstrip=False, lstrip=False, single_word=False, normalized=True, special=False),\n",
              "\t50305: AddedToken(\"[unused20]\", rstrip=False, lstrip=False, single_word=False, normalized=True, special=False),\n",
              "\t50306: AddedToken(\"[unused21]\", rstrip=False, lstrip=False, single_word=False, normalized=True, special=False),\n",
              "\t50307: AddedToken(\"[unused22]\", rstrip=False, lstrip=False, single_word=False, normalized=True, special=False),\n",
              "\t50308: AddedToken(\"[unused23]\", rstrip=False, lstrip=False, single_word=False, normalized=True, special=False),\n",
              "\t50309: AddedToken(\"[unused24]\", rstrip=False, lstrip=False, single_word=False, normalized=True, special=False),\n",
              "\t50310: AddedToken(\"[unused25]\", rstrip=False, lstrip=False, single_word=False, normalized=True, special=False),\n",
              "\t50311: AddedToken(\"[unused26]\", rstrip=False, lstrip=False, single_word=False, normalized=True, special=False),\n",
              "\t50312: AddedToken(\"[unused27]\", rstrip=False, lstrip=False, single_word=False, normalized=True, special=False),\n",
              "\t50313: AddedToken(\"[unused28]\", rstrip=False, lstrip=False, single_word=False, normalized=True, special=False),\n",
              "\t50314: AddedToken(\"[unused29]\", rstrip=False, lstrip=False, single_word=False, normalized=True, special=False),\n",
              "\t50315: AddedToken(\"[unused30]\", rstrip=False, lstrip=False, single_word=False, normalized=True, special=False),\n",
              "\t50316: AddedToken(\"[unused31]\", rstrip=False, lstrip=False, single_word=False, normalized=True, special=False),\n",
              "\t50317: AddedToken(\"[unused32]\", rstrip=False, lstrip=False, single_word=False, normalized=True, special=False),\n",
              "\t50318: AddedToken(\"[unused33]\", rstrip=False, lstrip=False, single_word=False, normalized=True, special=False),\n",
              "\t50319: AddedToken(\"[unused34]\", rstrip=False, lstrip=False, single_word=False, normalized=True, special=False),\n",
              "\t50320: AddedToken(\"[unused35]\", rstrip=False, lstrip=False, single_word=False, normalized=True, special=False),\n",
              "\t50321: AddedToken(\"[unused36]\", rstrip=False, lstrip=False, single_word=False, normalized=True, special=False),\n",
              "\t50322: AddedToken(\"[unused37]\", rstrip=False, lstrip=False, single_word=False, normalized=True, special=False),\n",
              "\t50323: AddedToken(\"[unused38]\", rstrip=False, lstrip=False, single_word=False, normalized=True, special=False),\n",
              "\t50324: AddedToken(\"[unused39]\", rstrip=False, lstrip=False, single_word=False, normalized=True, special=False),\n",
              "\t50325: AddedToken(\"[unused40]\", rstrip=False, lstrip=False, single_word=False, normalized=True, special=False),\n",
              "\t50326: AddedToken(\"[unused41]\", rstrip=False, lstrip=False, single_word=False, normalized=True, special=False),\n",
              "\t50327: AddedToken(\"[unused42]\", rstrip=False, lstrip=False, single_word=False, normalized=True, special=False),\n",
              "\t50328: AddedToken(\"[unused43]\", rstrip=False, lstrip=False, single_word=False, normalized=True, special=False),\n",
              "\t50329: AddedToken(\"[unused44]\", rstrip=False, lstrip=False, single_word=False, normalized=True, special=False),\n",
              "\t50330: AddedToken(\"[unused45]\", rstrip=False, lstrip=False, single_word=False, normalized=True, special=False),\n",
              "\t50331: AddedToken(\"[unused46]\", rstrip=False, lstrip=False, single_word=False, normalized=True, special=False),\n",
              "\t50332: AddedToken(\"[unused47]\", rstrip=False, lstrip=False, single_word=False, normalized=True, special=False),\n",
              "\t50333: AddedToken(\"[unused48]\", rstrip=False, lstrip=False, single_word=False, normalized=True, special=False),\n",
              "\t50334: AddedToken(\"[unused49]\", rstrip=False, lstrip=False, single_word=False, normalized=True, special=False),\n",
              "\t50335: AddedToken(\"[unused50]\", rstrip=False, lstrip=False, single_word=False, normalized=True, special=False),\n",
              "\t50336: AddedToken(\"[unused51]\", rstrip=False, lstrip=False, single_word=False, normalized=True, special=False),\n",
              "\t50337: AddedToken(\"[unused52]\", rstrip=False, lstrip=False, single_word=False, normalized=True, special=False),\n",
              "\t50338: AddedToken(\"[unused53]\", rstrip=False, lstrip=False, single_word=False, normalized=True, special=False),\n",
              "\t50339: AddedToken(\"[unused54]\", rstrip=False, lstrip=False, single_word=False, normalized=True, special=False),\n",
              "\t50340: AddedToken(\"[unused55]\", rstrip=False, lstrip=False, single_word=False, normalized=True, special=False),\n",
              "\t50341: AddedToken(\"[unused56]\", rstrip=False, lstrip=False, single_word=False, normalized=True, special=False),\n",
              "\t50342: AddedToken(\"[unused57]\", rstrip=False, lstrip=False, single_word=False, normalized=True, special=False),\n",
              "\t50343: AddedToken(\"[unused58]\", rstrip=False, lstrip=False, single_word=False, normalized=True, special=False),\n",
              "\t50344: AddedToken(\"[unused59]\", rstrip=False, lstrip=False, single_word=False, normalized=True, special=False),\n",
              "\t50345: AddedToken(\"[unused60]\", rstrip=False, lstrip=False, single_word=False, normalized=True, special=False),\n",
              "\t50346: AddedToken(\"[unused61]\", rstrip=False, lstrip=False, single_word=False, normalized=True, special=False),\n",
              "\t50347: AddedToken(\"[unused62]\", rstrip=False, lstrip=False, single_word=False, normalized=True, special=False),\n",
              "\t50348: AddedToken(\"[unused63]\", rstrip=False, lstrip=False, single_word=False, normalized=True, special=False),\n",
              "\t50349: AddedToken(\"[unused64]\", rstrip=False, lstrip=False, single_word=False, normalized=True, special=False),\n",
              "\t50350: AddedToken(\"[unused65]\", rstrip=False, lstrip=False, single_word=False, normalized=True, special=False),\n",
              "\t50351: AddedToken(\"[unused66]\", rstrip=False, lstrip=False, single_word=False, normalized=True, special=False),\n",
              "\t50352: AddedToken(\"[unused67]\", rstrip=False, lstrip=False, single_word=False, normalized=True, special=False),\n",
              "\t50353: AddedToken(\"[unused68]\", rstrip=False, lstrip=False, single_word=False, normalized=True, special=False),\n",
              "\t50354: AddedToken(\"[unused69]\", rstrip=False, lstrip=False, single_word=False, normalized=True, special=False),\n",
              "\t50355: AddedToken(\"[unused70]\", rstrip=False, lstrip=False, single_word=False, normalized=True, special=False),\n",
              "\t50356: AddedToken(\"[unused71]\", rstrip=False, lstrip=False, single_word=False, normalized=True, special=False),\n",
              "\t50357: AddedToken(\"[unused72]\", rstrip=False, lstrip=False, single_word=False, normalized=True, special=False),\n",
              "\t50358: AddedToken(\"[unused73]\", rstrip=False, lstrip=False, single_word=False, normalized=True, special=False),\n",
              "\t50359: AddedToken(\"[unused74]\", rstrip=False, lstrip=False, single_word=False, normalized=True, special=False),\n",
              "\t50360: AddedToken(\"[unused75]\", rstrip=False, lstrip=False, single_word=False, normalized=True, special=False),\n",
              "\t50361: AddedToken(\"[unused76]\", rstrip=False, lstrip=False, single_word=False, normalized=True, special=False),\n",
              "\t50362: AddedToken(\"[unused77]\", rstrip=False, lstrip=False, single_word=False, normalized=True, special=False),\n",
              "\t50363: AddedToken(\"[unused78]\", rstrip=False, lstrip=False, single_word=False, normalized=True, special=False),\n",
              "\t50364: AddedToken(\"[unused79]\", rstrip=False, lstrip=False, single_word=False, normalized=True, special=False),\n",
              "\t50365: AddedToken(\"[unused80]\", rstrip=False, lstrip=False, single_word=False, normalized=True, special=False),\n",
              "\t50366: AddedToken(\"[unused81]\", rstrip=False, lstrip=False, single_word=False, normalized=True, special=False),\n",
              "\t50367: AddedToken(\"[unused82]\", rstrip=False, lstrip=False, single_word=False, normalized=True, special=False),\n",
              "}\n",
              ")"
            ]
          },
          "metadata": {},
          "execution_count": 83
        }
      ]
    },
    {
      "cell_type": "code",
      "source": [
        "## lets see the tokenizer vocab size\n",
        "tokenizer.vocab_size"
      ],
      "metadata": {
        "colab": {
          "base_uri": "https://localhost:8080/"
        },
        "id": "zwnRKWI8jz4r",
        "outputId": "70a7d3a2-e51f-4652-eaca-c0a55a3744a1"
      },
      "execution_count": 84,
      "outputs": [
        {
          "output_type": "execute_result",
          "data": {
            "text/plain": [
              "50280"
            ]
          },
          "metadata": {},
          "execution_count": 84
        }
      ]
    },
    {
      "cell_type": "code",
      "source": [
        "## tokenizer special tokens\n",
        "tokenizer.all_special_tokens"
      ],
      "metadata": {
        "colab": {
          "base_uri": "https://localhost:8080/"
        },
        "id": "x5jq8MKmj6ui",
        "outputId": "22fe1331-ebf6-493b-ccc3-a2a6238c0f29"
      },
      "execution_count": 85,
      "outputs": [
        {
          "output_type": "execute_result",
          "data": {
            "text/plain": [
              "['[UNK]', '[SEP]', '[PAD]', '[CLS]', '[MASK]']"
            ]
          },
          "metadata": {},
          "execution_count": 85
        }
      ]
    },
    {
      "cell_type": "code",
      "source": [
        "## function to tokenze text\n",
        "def tokenize(batch):\n",
        "  return tokenizer(batch['text'],\n",
        "                   truncation=True,\n",
        "                   padding=True,\n",
        "                   return_tensors='pt')\n",
        "\n",
        "## tokenize data and rename columns to align with HF Trainer\n",
        "if \"label\" in split_data['train'].features.keys():\n",
        "  split_data = split_data.rename_column('label', 'labels') ## match Trainer\n",
        "tokenized_data = split_data.map(tokenize,\n",
        "                                batched=True,\n",
        "                                remove_columns=['text'])\n",
        "\n",
        "tokenized_data['train'].features.keys()"
      ],
      "metadata": {
        "colab": {
          "base_uri": "https://localhost:8080/",
          "height": 98,
          "referenced_widgets": [
            "8c29b3057f07465c9e22ddaeb96fb608",
            "502f8fa86eec4f0eaecb1fff46d80805",
            "ae2181f9764c42a79e790fae1849861b",
            "035d85f751464ceeb2fe37a420e43eb0",
            "2089d561c07d43a48189a864642c5659",
            "f19d7979b4954884b154ee6f6c88bfe8",
            "97a5eb3869694e71b7dbc81268912f16",
            "2dd20c28135a45e384878e9c09974e21",
            "d7566f02a5ff4e21a9bfdbcf09b68837",
            "d392473f568c44f48c316f1104f5344c",
            "a96e1fe364b8416c80bb4114314322ec",
            "9c9263b33f404f0a88f42854cc9ba835",
            "ae2d5ff91e4c48e68e59db7662bb5e44",
            "76a3109be54f4860a6bb35e90b0b3e67",
            "f39f441849c344298096b87c979bd70c",
            "acb39280e04141d4a563a1b3bf1e57f7",
            "d61e6918d9c545f194364f5d494686ab",
            "fa317942dee742c4b8442944efd6848b",
            "aba6b0ce00b249e8abdf0a43a6b39059",
            "5a0524cb904e4b2f8b5ecfbecb75393f",
            "a5f9fa1f5d9a4e96984fd817327430ef",
            "6490131dfb76412695fdf0ba4ba449d0"
          ]
        },
        "id": "a9OI1UivkGdn",
        "outputId": "adaca928-bf38-4d97-f85f-18b2b5daef6e"
      },
      "execution_count": 86,
      "outputs": [
        {
          "output_type": "display_data",
          "data": {
            "text/plain": [
              "Map:   0%|          | 0/700 [00:00<?, ? examples/s]"
            ],
            "application/vnd.jupyter.widget-view+json": {
              "version_major": 2,
              "version_minor": 0,
              "model_id": "8c29b3057f07465c9e22ddaeb96fb608"
            }
          },
          "metadata": {}
        },
        {
          "output_type": "display_data",
          "data": {
            "text/plain": [
              "Map:   0%|          | 0/300 [00:00<?, ? examples/s]"
            ],
            "application/vnd.jupyter.widget-view+json": {
              "version_major": 2,
              "version_minor": 0,
              "model_id": "9c9263b33f404f0a88f42854cc9ba835"
            }
          },
          "metadata": {}
        },
        {
          "output_type": "execute_result",
          "data": {
            "text/plain": [
              "dict_keys(['labels', 'input_ids', 'attention_mask'])"
            ]
          },
          "metadata": {},
          "execution_count": 86
        }
      ]
    },
    {
      "cell_type": "markdown",
      "source": [
        "# Load Model & id2label, label2id mapping\n",
        "* We load the model then map the id2label and label2id for the classification task."
      ],
      "metadata": {
        "id": "kj1_zt8c8cix"
      }
    },
    {
      "cell_type": "code",
      "source": [
        "## model ckpt loaded above but load again\n",
        "model_ckpt = \"answerdotai/ModernBERT-base\"\n",
        "\n",
        "\n",
        "## mapping of id2label and label2id\n",
        "## 1. get labels\n",
        "labels = tokenized_data['train'].features['labels'].names\n",
        "## 2. get num labels\n",
        "num_labels = len(labels)\n",
        "## 3. mapping of labels --> dictionary objects\n",
        "label2id, id2label = dict(), dict()\n",
        "for i, label in enumerate(labels):\n",
        "  label2id[label] = str(i)\n",
        "  id2label[str(i)] = label\n",
        "\n",
        "\n",
        "## 4. load model with labels and ids mapped\n",
        "bert_model = AutoModelForSequenceClassification.from_pretrained(\n",
        "    model_ckpt,\n",
        "    num_labels=num_labels,\n",
        "    label2id=label2id,\n",
        "    id2label=id2label,\n",
        ")"
      ],
      "metadata": {
        "colab": {
          "base_uri": "https://localhost:8080/"
        },
        "id": "AVuPTeQ58C0F",
        "outputId": "861431b0-5d6c-4057-c0d8-3aac3128411e"
      },
      "execution_count": 87,
      "outputs": [
        {
          "output_type": "stream",
          "name": "stderr",
          "text": [
            "Some weights of ModernBertForSequenceClassification were not initialized from the model checkpoint at answerdotai/ModernBERT-base and are newly initialized: ['classifier.bias', 'classifier.weight']\n",
            "You should probably TRAIN this model on a down-stream task to be able to use it for predictions and inference.\n"
          ]
        }
      ]
    },
    {
      "cell_type": "code",
      "source": [
        "## now lets see the labels\n",
        "pd.DataFrame(labels)"
      ],
      "metadata": {
        "colab": {
          "base_uri": "https://localhost:8080/",
          "height": 864
        },
        "id": "KGW-Xn5u7_zR",
        "outputId": "94e5086b-3cee-4e61-c98d-391c319cc0d0"
      },
      "execution_count": 88,
      "outputs": [
        {
          "output_type": "execute_result",
          "data": {
            "text/plain": [
              "                            0\n",
              "0     business-and-industrial\n",
              "1        books-and-literature\n",
              "2          beauty-and-fitness\n",
              "3          autos-and-vehicles\n",
              "4          people-and-society\n",
              "5                      sports\n",
              "6                    shopping\n",
              "7          online-communities\n",
              "8            pets-and-animals\n",
              "9        internet-and-telecom\n",
              "10            home-and-garden\n",
              "11                      adult\n",
              "12                    science\n",
              "13             food-and-drink\n",
              "14                real-estate\n",
              "15                       news\n",
              "16         jobs-and-education\n",
              "17                     health\n",
              "18        hobbies-and-leisure\n",
              "19                      games\n",
              "20  computers-and-electronics\n",
              "21     arts-and-entertainment\n",
              "22  travel-and-transportation\n",
              "23                    finance\n",
              "24         law-and-government\n",
              "25         sensitive-subjects"
            ],
            "text/html": [
              "\n",
              "  <div id=\"df-8c82d954-d8ba-4a9f-af39-a797167ba632\" class=\"colab-df-container\">\n",
              "    <div>\n",
              "<style scoped>\n",
              "    .dataframe tbody tr th:only-of-type {\n",
              "        vertical-align: middle;\n",
              "    }\n",
              "\n",
              "    .dataframe tbody tr th {\n",
              "        vertical-align: top;\n",
              "    }\n",
              "\n",
              "    .dataframe thead th {\n",
              "        text-align: right;\n",
              "    }\n",
              "</style>\n",
              "<table border=\"1\" class=\"dataframe\">\n",
              "  <thead>\n",
              "    <tr style=\"text-align: right;\">\n",
              "      <th></th>\n",
              "      <th>0</th>\n",
              "    </tr>\n",
              "  </thead>\n",
              "  <tbody>\n",
              "    <tr>\n",
              "      <th>0</th>\n",
              "      <td>business-and-industrial</td>\n",
              "    </tr>\n",
              "    <tr>\n",
              "      <th>1</th>\n",
              "      <td>books-and-literature</td>\n",
              "    </tr>\n",
              "    <tr>\n",
              "      <th>2</th>\n",
              "      <td>beauty-and-fitness</td>\n",
              "    </tr>\n",
              "    <tr>\n",
              "      <th>3</th>\n",
              "      <td>autos-and-vehicles</td>\n",
              "    </tr>\n",
              "    <tr>\n",
              "      <th>4</th>\n",
              "      <td>people-and-society</td>\n",
              "    </tr>\n",
              "    <tr>\n",
              "      <th>5</th>\n",
              "      <td>sports</td>\n",
              "    </tr>\n",
              "    <tr>\n",
              "      <th>6</th>\n",
              "      <td>shopping</td>\n",
              "    </tr>\n",
              "    <tr>\n",
              "      <th>7</th>\n",
              "      <td>online-communities</td>\n",
              "    </tr>\n",
              "    <tr>\n",
              "      <th>8</th>\n",
              "      <td>pets-and-animals</td>\n",
              "    </tr>\n",
              "    <tr>\n",
              "      <th>9</th>\n",
              "      <td>internet-and-telecom</td>\n",
              "    </tr>\n",
              "    <tr>\n",
              "      <th>10</th>\n",
              "      <td>home-and-garden</td>\n",
              "    </tr>\n",
              "    <tr>\n",
              "      <th>11</th>\n",
              "      <td>adult</td>\n",
              "    </tr>\n",
              "    <tr>\n",
              "      <th>12</th>\n",
              "      <td>science</td>\n",
              "    </tr>\n",
              "    <tr>\n",
              "      <th>13</th>\n",
              "      <td>food-and-drink</td>\n",
              "    </tr>\n",
              "    <tr>\n",
              "      <th>14</th>\n",
              "      <td>real-estate</td>\n",
              "    </tr>\n",
              "    <tr>\n",
              "      <th>15</th>\n",
              "      <td>news</td>\n",
              "    </tr>\n",
              "    <tr>\n",
              "      <th>16</th>\n",
              "      <td>jobs-and-education</td>\n",
              "    </tr>\n",
              "    <tr>\n",
              "      <th>17</th>\n",
              "      <td>health</td>\n",
              "    </tr>\n",
              "    <tr>\n",
              "      <th>18</th>\n",
              "      <td>hobbies-and-leisure</td>\n",
              "    </tr>\n",
              "    <tr>\n",
              "      <th>19</th>\n",
              "      <td>games</td>\n",
              "    </tr>\n",
              "    <tr>\n",
              "      <th>20</th>\n",
              "      <td>computers-and-electronics</td>\n",
              "    </tr>\n",
              "    <tr>\n",
              "      <th>21</th>\n",
              "      <td>arts-and-entertainment</td>\n",
              "    </tr>\n",
              "    <tr>\n",
              "      <th>22</th>\n",
              "      <td>travel-and-transportation</td>\n",
              "    </tr>\n",
              "    <tr>\n",
              "      <th>23</th>\n",
              "      <td>finance</td>\n",
              "    </tr>\n",
              "    <tr>\n",
              "      <th>24</th>\n",
              "      <td>law-and-government</td>\n",
              "    </tr>\n",
              "    <tr>\n",
              "      <th>25</th>\n",
              "      <td>sensitive-subjects</td>\n",
              "    </tr>\n",
              "  </tbody>\n",
              "</table>\n",
              "</div>\n",
              "    <div class=\"colab-df-buttons\">\n",
              "\n",
              "  <div class=\"colab-df-container\">\n",
              "    <button class=\"colab-df-convert\" onclick=\"convertToInteractive('df-8c82d954-d8ba-4a9f-af39-a797167ba632')\"\n",
              "            title=\"Convert this dataframe to an interactive table.\"\n",
              "            style=\"display:none;\">\n",
              "\n",
              "  <svg xmlns=\"http://www.w3.org/2000/svg\" height=\"24px\" viewBox=\"0 -960 960 960\">\n",
              "    <path d=\"M120-120v-720h720v720H120Zm60-500h600v-160H180v160Zm220 220h160v-160H400v160Zm0 220h160v-160H400v160ZM180-400h160v-160H180v160Zm440 0h160v-160H620v160ZM180-180h160v-160H180v160Zm440 0h160v-160H620v160Z\"/>\n",
              "  </svg>\n",
              "    </button>\n",
              "\n",
              "  <style>\n",
              "    .colab-df-container {\n",
              "      display:flex;\n",
              "      gap: 12px;\n",
              "    }\n",
              "\n",
              "    .colab-df-convert {\n",
              "      background-color: #E8F0FE;\n",
              "      border: none;\n",
              "      border-radius: 50%;\n",
              "      cursor: pointer;\n",
              "      display: none;\n",
              "      fill: #1967D2;\n",
              "      height: 32px;\n",
              "      padding: 0 0 0 0;\n",
              "      width: 32px;\n",
              "    }\n",
              "\n",
              "    .colab-df-convert:hover {\n",
              "      background-color: #E2EBFA;\n",
              "      box-shadow: 0px 1px 2px rgba(60, 64, 67, 0.3), 0px 1px 3px 1px rgba(60, 64, 67, 0.15);\n",
              "      fill: #174EA6;\n",
              "    }\n",
              "\n",
              "    .colab-df-buttons div {\n",
              "      margin-bottom: 4px;\n",
              "    }\n",
              "\n",
              "    [theme=dark] .colab-df-convert {\n",
              "      background-color: #3B4455;\n",
              "      fill: #D2E3FC;\n",
              "    }\n",
              "\n",
              "    [theme=dark] .colab-df-convert:hover {\n",
              "      background-color: #434B5C;\n",
              "      box-shadow: 0px 1px 3px 1px rgba(0, 0, 0, 0.15);\n",
              "      filter: drop-shadow(0px 1px 2px rgba(0, 0, 0, 0.3));\n",
              "      fill: #FFFFFF;\n",
              "    }\n",
              "  </style>\n",
              "\n",
              "    <script>\n",
              "      const buttonEl =\n",
              "        document.querySelector('#df-8c82d954-d8ba-4a9f-af39-a797167ba632 button.colab-df-convert');\n",
              "      buttonEl.style.display =\n",
              "        google.colab.kernel.accessAllowed ? 'block' : 'none';\n",
              "\n",
              "      async function convertToInteractive(key) {\n",
              "        const element = document.querySelector('#df-8c82d954-d8ba-4a9f-af39-a797167ba632');\n",
              "        const dataTable =\n",
              "          await google.colab.kernel.invokeFunction('convertToInteractive',\n",
              "                                                    [key], {});\n",
              "        if (!dataTable) return;\n",
              "\n",
              "        const docLinkHtml = 'Like what you see? Visit the ' +\n",
              "          '<a target=\"_blank\" href=https://colab.research.google.com/notebooks/data_table.ipynb>data table notebook</a>'\n",
              "          + ' to learn more about interactive tables.';\n",
              "        element.innerHTML = '';\n",
              "        dataTable['output_type'] = 'display_data';\n",
              "        await google.colab.output.renderOutput(dataTable, element);\n",
              "        const docLink = document.createElement('div');\n",
              "        docLink.innerHTML = docLinkHtml;\n",
              "        element.appendChild(docLink);\n",
              "      }\n",
              "    </script>\n",
              "  </div>\n",
              "\n",
              "\n",
              "<div id=\"df-5b2c0a40-45d8-4aff-acf1-3bdbeea9d381\">\n",
              "  <button class=\"colab-df-quickchart\" onclick=\"quickchart('df-5b2c0a40-45d8-4aff-acf1-3bdbeea9d381')\"\n",
              "            title=\"Suggest charts\"\n",
              "            style=\"display:none;\">\n",
              "\n",
              "<svg xmlns=\"http://www.w3.org/2000/svg\" height=\"24px\"viewBox=\"0 0 24 24\"\n",
              "     width=\"24px\">\n",
              "    <g>\n",
              "        <path d=\"M19 3H5c-1.1 0-2 .9-2 2v14c0 1.1.9 2 2 2h14c1.1 0 2-.9 2-2V5c0-1.1-.9-2-2-2zM9 17H7v-7h2v7zm4 0h-2V7h2v10zm4 0h-2v-4h2v4z\"/>\n",
              "    </g>\n",
              "</svg>\n",
              "  </button>\n",
              "\n",
              "<style>\n",
              "  .colab-df-quickchart {\n",
              "      --bg-color: #E8F0FE;\n",
              "      --fill-color: #1967D2;\n",
              "      --hover-bg-color: #E2EBFA;\n",
              "      --hover-fill-color: #174EA6;\n",
              "      --disabled-fill-color: #AAA;\n",
              "      --disabled-bg-color: #DDD;\n",
              "  }\n",
              "\n",
              "  [theme=dark] .colab-df-quickchart {\n",
              "      --bg-color: #3B4455;\n",
              "      --fill-color: #D2E3FC;\n",
              "      --hover-bg-color: #434B5C;\n",
              "      --hover-fill-color: #FFFFFF;\n",
              "      --disabled-bg-color: #3B4455;\n",
              "      --disabled-fill-color: #666;\n",
              "  }\n",
              "\n",
              "  .colab-df-quickchart {\n",
              "    background-color: var(--bg-color);\n",
              "    border: none;\n",
              "    border-radius: 50%;\n",
              "    cursor: pointer;\n",
              "    display: none;\n",
              "    fill: var(--fill-color);\n",
              "    height: 32px;\n",
              "    padding: 0;\n",
              "    width: 32px;\n",
              "  }\n",
              "\n",
              "  .colab-df-quickchart:hover {\n",
              "    background-color: var(--hover-bg-color);\n",
              "    box-shadow: 0 1px 2px rgba(60, 64, 67, 0.3), 0 1px 3px 1px rgba(60, 64, 67, 0.15);\n",
              "    fill: var(--button-hover-fill-color);\n",
              "  }\n",
              "\n",
              "  .colab-df-quickchart-complete:disabled,\n",
              "  .colab-df-quickchart-complete:disabled:hover {\n",
              "    background-color: var(--disabled-bg-color);\n",
              "    fill: var(--disabled-fill-color);\n",
              "    box-shadow: none;\n",
              "  }\n",
              "\n",
              "  .colab-df-spinner {\n",
              "    border: 2px solid var(--fill-color);\n",
              "    border-color: transparent;\n",
              "    border-bottom-color: var(--fill-color);\n",
              "    animation:\n",
              "      spin 1s steps(1) infinite;\n",
              "  }\n",
              "\n",
              "  @keyframes spin {\n",
              "    0% {\n",
              "      border-color: transparent;\n",
              "      border-bottom-color: var(--fill-color);\n",
              "      border-left-color: var(--fill-color);\n",
              "    }\n",
              "    20% {\n",
              "      border-color: transparent;\n",
              "      border-left-color: var(--fill-color);\n",
              "      border-top-color: var(--fill-color);\n",
              "    }\n",
              "    30% {\n",
              "      border-color: transparent;\n",
              "      border-left-color: var(--fill-color);\n",
              "      border-top-color: var(--fill-color);\n",
              "      border-right-color: var(--fill-color);\n",
              "    }\n",
              "    40% {\n",
              "      border-color: transparent;\n",
              "      border-right-color: var(--fill-color);\n",
              "      border-top-color: var(--fill-color);\n",
              "    }\n",
              "    60% {\n",
              "      border-color: transparent;\n",
              "      border-right-color: var(--fill-color);\n",
              "    }\n",
              "    80% {\n",
              "      border-color: transparent;\n",
              "      border-right-color: var(--fill-color);\n",
              "      border-bottom-color: var(--fill-color);\n",
              "    }\n",
              "    90% {\n",
              "      border-color: transparent;\n",
              "      border-bottom-color: var(--fill-color);\n",
              "    }\n",
              "  }\n",
              "</style>\n",
              "\n",
              "  <script>\n",
              "    async function quickchart(key) {\n",
              "      const quickchartButtonEl =\n",
              "        document.querySelector('#' + key + ' button');\n",
              "      quickchartButtonEl.disabled = true;  // To prevent multiple clicks.\n",
              "      quickchartButtonEl.classList.add('colab-df-spinner');\n",
              "      try {\n",
              "        const charts = await google.colab.kernel.invokeFunction(\n",
              "            'suggestCharts', [key], {});\n",
              "      } catch (error) {\n",
              "        console.error('Error during call to suggestCharts:', error);\n",
              "      }\n",
              "      quickchartButtonEl.classList.remove('colab-df-spinner');\n",
              "      quickchartButtonEl.classList.add('colab-df-quickchart-complete');\n",
              "    }\n",
              "    (() => {\n",
              "      let quickchartButtonEl =\n",
              "        document.querySelector('#df-5b2c0a40-45d8-4aff-acf1-3bdbeea9d381 button');\n",
              "      quickchartButtonEl.style.display =\n",
              "        google.colab.kernel.accessAllowed ? 'block' : 'none';\n",
              "    })();\n",
              "  </script>\n",
              "</div>\n",
              "\n",
              "    </div>\n",
              "  </div>\n"
            ],
            "application/vnd.google.colaboratory.intrinsic+json": {
              "type": "dataframe",
              "summary": "{\n  \"name\": \"pd\",\n  \"rows\": 26,\n  \"fields\": [\n    {\n      \"column\": 0,\n      \"properties\": {\n        \"dtype\": \"string\",\n        \"num_unique_values\": 26,\n        \"samples\": [\n          \"pets-and-animals\",\n          \"jobs-and-education\",\n          \"business-and-industrial\"\n        ],\n        \"semantic_type\": \"\",\n        \"description\": \"\"\n      }\n    }\n  ]\n}"
            }
          },
          "metadata": {},
          "execution_count": 88
        }
      ]
    },
    {
      "cell_type": "code",
      "source": [
        "## total labels\n",
        "print(f\"Total labels: {len(labels)}\")"
      ],
      "metadata": {
        "colab": {
          "base_uri": "https://localhost:8080/"
        },
        "id": "IIZMWE9B8Sjz",
        "outputId": "87335fb2-36cc-4c2d-93cd-44b4312f1bd1"
      },
      "execution_count": 89,
      "outputs": [
        {
          "output_type": "stream",
          "name": "stdout",
          "text": [
            "Total labels: 26\n"
          ]
        }
      ]
    },
    {
      "cell_type": "markdown",
      "source": [
        "# Setup Evaluation Metrics\n",
        "* We will set up 3 instance of evaluation metrics using\n",
        "1. Evaluate library from hugging face\n",
        "2. Sklearn\n",
        "3. PyTorch Lightning (Torchmetrics)\n",
        "\n",
        "* However, I will only use 1 of these for model evaluation."
      ],
      "metadata": {
        "id": "W9w8cIN1NrCj"
      }
    },
    {
      "cell_type": "code",
      "source": [
        "%%capture\n",
        "!pip install evaluate"
      ],
      "metadata": {
        "id": "wZKIh0PTNmEg"
      },
      "execution_count": 41,
      "outputs": []
    },
    {
      "cell_type": "markdown",
      "source": [
        "## 1. Evaluate Metrics from hugging face"
      ],
      "metadata": {
        "id": "W4HtCSnuN9p5"
      }
    },
    {
      "cell_type": "code",
      "source": [
        "import evaluate\n",
        "import numpy as np\n",
        "\n",
        "accuracy_metric = evaluate.load(\"accuracy\")\n",
        "precision_metric = evaluate.load(\"precision\")\n",
        "recall_metric = evaluate.load(\"recall\")\n",
        "f1_metric = evaluate.load(\"f1\")\n",
        "\n",
        "def compute_metrics(predictions_and_labels):\n",
        "    predictions, labels = predictions_and_labels\n",
        "\n",
        "    if len(predictions.shape) >= 2:\n",
        "        predictions = np.argmax(predictions, axis=1)\n",
        "\n",
        "    accuracy = accuracy_metric.compute(predictions=predictions, references=labels)\n",
        "    precision = precision_metric.compute(predictions=predictions, references=labels, average='weighted')\n",
        "    recall = recall_metric.compute(predictions=predictions, references=labels, average='weighted')\n",
        "    f1 = f1_metric.compute(predictions=predictions, references=labels, average='weighted')\n",
        "\n",
        "    return {\n",
        "        \"accuracy\": accuracy[\"accuracy\"],\n",
        "        \"precision\": precision[\"precision\"],\n",
        "        \"recall\": recall[\"recall\"],\n",
        "        \"f1\": f1[\"f1\"]\n",
        "    }"
      ],
      "metadata": {
        "id": "_nI__JoENmBp"
      },
      "execution_count": 90,
      "outputs": []
    },
    {
      "cell_type": "code",
      "source": [],
      "metadata": {
        "id": "EzuChqhJNl-w"
      },
      "execution_count": null,
      "outputs": []
    },
    {
      "cell_type": "markdown",
      "source": [
        "## 2. Evaluate using Sklearn"
      ],
      "metadata": {
        "id": "HF4WT3kAOFag"
      }
    },
    {
      "cell_type": "code",
      "source": [
        "import numpy as np\n",
        "from sklearn.metrics import accuracy_score, precision_score, recall_score, f1_score\n",
        "\n",
        "def compute_sklearn(predictions_and_labels):\n",
        "    predictions, labels = predictions_and_labels\n",
        "\n",
        "    if len(predictions.shape) >= 2:\n",
        "        predictions = np.argmax(predictions, axis=1)\n",
        "\n",
        "    accuracy = accuracy_score(labels, predictions)\n",
        "    precision = precision_score(labels, predictions, average='weighted')\n",
        "    recall = recall_score(labels, predictions, average='weighted')\n",
        "    f1 = f1_score(labels, predictions, average='weighted')\n",
        "\n",
        "    return {\n",
        "        \"accuracy\": accuracy,\n",
        "        \"precision\": precision,\n",
        "        \"recall\": recall,\n",
        "        \"f1\": f1\n",
        "    }"
      ],
      "metadata": {
        "id": "_-zwYY8-OE-e"
      },
      "execution_count": 45,
      "outputs": []
    },
    {
      "cell_type": "code",
      "source": [],
      "metadata": {
        "id": "OLQvOhf-Nl79"
      },
      "execution_count": null,
      "outputs": []
    },
    {
      "cell_type": "markdown",
      "source": [
        "## 3. Evaluate using PyTorch Lightning\n",
        "* In the PyTorch Lightning version, the metrics are calculated and logged during the training process.\n",
        "* You don't need a separate evaluation function as the metrics are integrated into the model class.\n",
        "\n",
        "\n"
      ],
      "metadata": {
        "id": "Z0apBnBkOLVa"
      }
    },
    {
      "cell_type": "code",
      "source": [
        "import torch\n",
        "import pytorch_lightning as pl\n",
        "from torchmetrics import Accuracy, Precision, Recall, F1Score\n",
        "\n",
        "class BERTClassifier(pl.LightningModule):\n",
        "    def __init__(self, num_classes):\n",
        "        super().__init__()\n",
        "        # ... (your BERT model initialization here)\n",
        "\n",
        "        self.accuracy = Accuracy(task=\"multiclass\", num_classes=num_classes)\n",
        "        self.precision = Precision(task=\"multiclass\", num_classes=num_classes, average='weighted')\n",
        "        self.recall = Recall(task=\"multiclass\", num_classes=num_classes, average='weighted')\n",
        "        self.f1 = F1Score(task=\"multiclass\", num_classes=num_classes, average='weighted')\n",
        "\n",
        "    def training_step(self, batch, batch_idx):\n",
        "        # ... (your training step logic here)\n",
        "\n",
        "    def validation_step(self, batch, batch_idx):\n",
        "        x, y = batch\n",
        "        logits = self(x)\n",
        "        loss = self.criterion(logits, y)\n",
        "\n",
        "        preds = torch.argmax(logits, dim=1)\n",
        "        self.accuracy(preds, y)\n",
        "        self.precision(preds, y)\n",
        "        self.recall(preds, y)\n",
        "        self.f1(preds, y)\n",
        "\n",
        "        self.log('val_loss', loss, prog_bar=True)\n",
        "        self.log('val_acc', self.accuracy, prog_bar=True)\n",
        "        self.log('val_precision', self.precision, prog_bar=True)\n",
        "        self.log('val_recall', self.recall, prog_bar=True)\n",
        "        self.log('val_f1', self.f1, prog_bar=True)\n",
        "\n",
        "    def test_step(self, batch, batch_idx):\n",
        "        # Similar to validation_step, but for test data\n",
        "\n",
        "    def on_validation_epoch_end(self):\n",
        "        self.log('val_acc_epoch', self.accuracy.compute())\n",
        "        self.log('val_precision_epoch', self.precision.compute())\n",
        "        self.log('val_recall_epoch', self.recall.compute())\n",
        "        self.log('val_f1_epoch', self.f1.compute())\n",
        "\n",
        "    def on_test_epoch_end(self):\n",
        "        # Similar to on_validation_epoch_end, but for test data"
      ],
      "metadata": {
        "id": "jWWGvvuWOKxO"
      },
      "execution_count": null,
      "outputs": []
    },
    {
      "cell_type": "markdown",
      "source": [
        "# Setup Trainer and Training Arguments\n",
        "* Prepare the model for training.\n",
        "* More about why to use bf16 and memory here: https://cloud.google.com/tpu/docs/bfloat16"
      ],
      "metadata": {
        "id": "ob2tWywS9VdQ"
      }
    },
    {
      "cell_type": "code",
      "source": [
        "# from transformers import Trainer, TrainingArguments ## uncomment if havent loaded above\n",
        "\n",
        "## 1. define training args\n",
        "training_args = TrainingArguments(\n",
        "    output_dir='ModernBERT-multiclass-classification',\n",
        "    per_device_train_batch_size=4,\n",
        "    per_device_eval_batch_size=2,\n",
        "    learning_rate=0.001,\n",
        "    num_train_epochs=5,\n",
        "    bf16=True, #brain float 16 training -- bfloat16 uses 1/2 of memory spac of float32\n",
        "    optim=\"adamw_torch_fused\", # improved optimizer\n",
        "    ## logging and evaluation of results\n",
        "    logging_strategy=\"epoch\",\n",
        "    eval_strategy=\"epoch\",\n",
        "    save_strategy=\"epoch\",\n",
        "    save_total_limit=2, ## only save 2 versions of model\n",
        "    use_cpu=False,\n",
        "    seed=42,\n",
        "    load_best_model_at_end=True,\n",
        "    report_to='none', #not reporting to external platform\n",
        "    #hub_token=\n",
        "    #push_to_hub=True ##if pushing to HF hub after training\n",
        "    hub_private_repo=False #when uploading to Hugging Face hub, do you want repo to private or public (default=public)\n",
        ")\n",
        "\n",
        "\n",
        "## 2. Trainer instance\n",
        "trainer = Trainer(\n",
        "    model=bert_model,\n",
        "    args=training_args,\n",
        "    train_dataset=tokenized_data['train'],\n",
        "    eval_dataset=tokenized_data['test'],\n",
        "    compute_metrics=compute_metrics,\n",
        ")\n",
        "\n",
        "\n",
        "## train model\n",
        "trainer.train()"
      ],
      "metadata": {
        "colab": {
          "base_uri": "https://localhost:8080/",
          "height": 460
        },
        "id": "k3yjHGeL8a1a",
        "outputId": "06348484-c55a-46c9-8bc4-0540662ea5b8"
      },
      "execution_count": 91,
      "outputs": [
        {
          "output_type": "display_data",
          "data": {
            "text/plain": [
              "<IPython.core.display.HTML object>"
            ],
            "text/html": [
              "\n",
              "    <div>\n",
              "      \n",
              "      <progress value='875' max='875' style='width:300px; height:20px; vertical-align: middle;'></progress>\n",
              "      [875/875 12:55, Epoch 5/5]\n",
              "    </div>\n",
              "    <table border=\"1\" class=\"dataframe\">\n",
              "  <thead>\n",
              " <tr style=\"text-align: left;\">\n",
              "      <th>Epoch</th>\n",
              "      <th>Training Loss</th>\n",
              "      <th>Validation Loss</th>\n",
              "      <th>Accuracy</th>\n",
              "      <th>Precision</th>\n",
              "      <th>Recall</th>\n",
              "      <th>F1</th>\n",
              "    </tr>\n",
              "  </thead>\n",
              "  <tbody>\n",
              "    <tr>\n",
              "      <td>1</td>\n",
              "      <td>3.451400</td>\n",
              "      <td>3.289238</td>\n",
              "      <td>0.130000</td>\n",
              "      <td>0.030114</td>\n",
              "      <td>0.130000</td>\n",
              "      <td>0.047640</td>\n",
              "    </tr>\n",
              "    <tr>\n",
              "      <td>2</td>\n",
              "      <td>2.700100</td>\n",
              "      <td>2.569449</td>\n",
              "      <td>0.213333</td>\n",
              "      <td>0.089487</td>\n",
              "      <td>0.213333</td>\n",
              "      <td>0.117995</td>\n",
              "    </tr>\n",
              "    <tr>\n",
              "      <td>3</td>\n",
              "      <td>2.060000</td>\n",
              "      <td>2.185991</td>\n",
              "      <td>0.313333</td>\n",
              "      <td>0.329893</td>\n",
              "      <td>0.313333</td>\n",
              "      <td>0.254453</td>\n",
              "    </tr>\n",
              "    <tr>\n",
              "      <td>4</td>\n",
              "      <td>1.505300</td>\n",
              "      <td>1.864939</td>\n",
              "      <td>0.460000</td>\n",
              "      <td>0.441564</td>\n",
              "      <td>0.460000</td>\n",
              "      <td>0.428088</td>\n",
              "    </tr>\n",
              "    <tr>\n",
              "      <td>5</td>\n",
              "      <td>0.884900</td>\n",
              "      <td>2.002498</td>\n",
              "      <td>0.520000</td>\n",
              "      <td>0.529445</td>\n",
              "      <td>0.520000</td>\n",
              "      <td>0.489330</td>\n",
              "    </tr>\n",
              "  </tbody>\n",
              "</table><p>"
            ]
          },
          "metadata": {}
        },
        {
          "output_type": "stream",
          "name": "stderr",
          "text": [
            "/usr/local/lib/python3.11/dist-packages/sklearn/metrics/_classification.py:1565: UndefinedMetricWarning: Precision is ill-defined and being set to 0.0 in labels with no predicted samples. Use `zero_division` parameter to control this behavior.\n",
            "  _warn_prf(average, modifier, f\"{metric.capitalize()} is\", len(result))\n",
            "/usr/local/lib/python3.11/dist-packages/sklearn/metrics/_classification.py:1565: UndefinedMetricWarning: Precision is ill-defined and being set to 0.0 in labels with no predicted samples. Use `zero_division` parameter to control this behavior.\n",
            "  _warn_prf(average, modifier, f\"{metric.capitalize()} is\", len(result))\n",
            "/usr/local/lib/python3.11/dist-packages/sklearn/metrics/_classification.py:1565: UndefinedMetricWarning: Precision is ill-defined and being set to 0.0 in labels with no predicted samples. Use `zero_division` parameter to control this behavior.\n",
            "  _warn_prf(average, modifier, f\"{metric.capitalize()} is\", len(result))\n",
            "/usr/local/lib/python3.11/dist-packages/sklearn/metrics/_classification.py:1565: UndefinedMetricWarning: Precision is ill-defined and being set to 0.0 in labels with no predicted samples. Use `zero_division` parameter to control this behavior.\n",
            "  _warn_prf(average, modifier, f\"{metric.capitalize()} is\", len(result))\n",
            "/usr/local/lib/python3.11/dist-packages/sklearn/metrics/_classification.py:1565: UndefinedMetricWarning: Precision is ill-defined and being set to 0.0 in labels with no predicted samples. Use `zero_division` parameter to control this behavior.\n",
            "  _warn_prf(average, modifier, f\"{metric.capitalize()} is\", len(result))\n"
          ]
        },
        {
          "output_type": "execute_result",
          "data": {
            "text/plain": [
              "TrainOutput(global_step=875, training_loss=2.1203426339285714, metrics={'train_runtime': 776.4425, 'train_samples_per_second': 4.508, 'train_steps_per_second': 1.127, 'total_flos': 871340305836000.0, 'train_loss': 2.1203426339285714, 'epoch': 5.0})"
            ]
          },
          "metadata": {},
          "execution_count": 91
        }
      ]
    },
    {
      "cell_type": "markdown",
      "source": [
        "# Evaluation & Loss Curves\n",
        "* Loss curves are a good visualization of your model's performance over time.\n",
        "* Ideally, loss curves will trend downwards."
      ],
      "metadata": {
        "id": "KoE66BsC_vjZ"
      }
    },
    {
      "cell_type": "code",
      "source": [
        "## get training history\n",
        "trainer_history_all = trainer.state.log_history\n",
        "trainer_history_metrics = trainer_history_all[:-1]\n",
        "trainer_history_training_time = trainer_history_all[:-1]\n",
        "\n",
        "# View first 3\n",
        "trainer_history_metrics[:3]\n",
        ""
      ],
      "metadata": {
        "colab": {
          "base_uri": "https://localhost:8080/"
        },
        "id": "sK5UQ41p_WiZ",
        "outputId": "7b45b47d-67c3-44c0-d949-76d415738967"
      },
      "execution_count": 92,
      "outputs": [
        {
          "output_type": "execute_result",
          "data": {
            "text/plain": [
              "[{'loss': 3.4514,\n",
              "  'grad_norm': 2.544252872467041,\n",
              "  'learning_rate': 0.0008,\n",
              "  'epoch': 1.0,\n",
              "  'step': 175},\n",
              " {'eval_loss': 3.289238214492798,\n",
              "  'eval_accuracy': 0.13,\n",
              "  'eval_precision': 0.03011354420113544,\n",
              "  'eval_recall': 0.13,\n",
              "  'eval_f1': 0.047639896608017415,\n",
              "  'eval_runtime': 7.2457,\n",
              "  'eval_samples_per_second': 41.404,\n",
              "  'eval_steps_per_second': 20.702,\n",
              "  'epoch': 1.0,\n",
              "  'step': 175},\n",
              " {'loss': 2.7001,\n",
              "  'grad_norm': 4.221950531005859,\n",
              "  'learning_rate': 0.0006,\n",
              "  'epoch': 2.0,\n",
              "  'step': 350}]"
            ]
          },
          "metadata": {},
          "execution_count": 92
        }
      ]
    },
    {
      "cell_type": "code",
      "source": [
        "## extract training metrics\n",
        "import pprint\n",
        "\n",
        "# Extract eval and training metrics\n",
        "trainer_history_training_set = []\n",
        "trainer_history_eval_set = []\n",
        "\n",
        "# Loop through our metrics\n",
        "for item in trainer_history_metrics:\n",
        "  item_keys = list(item.keys())\n",
        "  if any(\"eval\" in item for item in item_keys):\n",
        "    trainer_history_eval_set.append(item)\n",
        "  else:\n",
        "    trainer_history_training_set.append(item)\n",
        "\n",
        "# Show first item from each\n",
        "print(f\"First item in training set:\")\n",
        "pprint.pprint(trainer_history_training_set[:2])\n",
        "\n",
        "print(f\"\\nFirst two items in eval epochs:\")\n",
        "pprint.pprint(trainer_history_eval_set[:2])"
      ],
      "metadata": {
        "colab": {
          "base_uri": "https://localhost:8080/"
        },
        "id": "xpmSiP_qBGsb",
        "outputId": "b0f79b1c-f1de-40f9-b0cb-217f92e819eb"
      },
      "execution_count": 93,
      "outputs": [
        {
          "output_type": "stream",
          "name": "stdout",
          "text": [
            "First item in training set:\n",
            "[{'epoch': 1.0,\n",
            "  'grad_norm': 2.544252872467041,\n",
            "  'learning_rate': 0.0008,\n",
            "  'loss': 3.4514,\n",
            "  'step': 175},\n",
            " {'epoch': 2.0,\n",
            "  'grad_norm': 4.221950531005859,\n",
            "  'learning_rate': 0.0006,\n",
            "  'loss': 2.7001,\n",
            "  'step': 350}]\n",
            "\n",
            "First two items in eval epochs:\n",
            "[{'epoch': 1.0,\n",
            "  'eval_accuracy': 0.13,\n",
            "  'eval_f1': 0.047639896608017415,\n",
            "  'eval_loss': 3.289238214492798,\n",
            "  'eval_precision': 0.03011354420113544,\n",
            "  'eval_recall': 0.13,\n",
            "  'eval_runtime': 7.2457,\n",
            "  'eval_samples_per_second': 41.404,\n",
            "  'eval_steps_per_second': 20.702,\n",
            "  'step': 175},\n",
            " {'epoch': 2.0,\n",
            "  'eval_accuracy': 0.21333333333333335,\n",
            "  'eval_f1': 0.1179946623232577,\n",
            "  'eval_loss': 2.5694494247436523,\n",
            "  'eval_precision': 0.0894869210608458,\n",
            "  'eval_recall': 0.21333333333333335,\n",
            "  'eval_runtime': 7.4179,\n",
            "  'eval_samples_per_second': 40.443,\n",
            "  'eval_steps_per_second': 20.221,\n",
            "  'step': 350}]\n"
          ]
        }
      ]
    },
    {
      "cell_type": "code",
      "source": [
        "## create pandas df for training and eval metrics\n",
        "trainer_history_train_df = pd.DataFrame(trainer_history_training_set)\n",
        "trainer_history_eval_df = pd.DataFrame(trainer_history_eval_set)\n",
        "\n",
        "## trainer df head - train data\n",
        "trainer_history_eval_df.head()"
      ],
      "metadata": {
        "colab": {
          "base_uri": "https://localhost:8080/",
          "height": 226
        },
        "id": "J6xOZEInAzfT",
        "outputId": "5dd7f195-66a1-4c8b-b48d-aa44622a1e7f"
      },
      "execution_count": 94,
      "outputs": [
        {
          "output_type": "execute_result",
          "data": {
            "text/plain": [
              "   eval_loss  eval_accuracy  eval_precision  eval_recall   eval_f1  \\\n",
              "0   3.289238       0.130000        0.030114     0.130000  0.047640   \n",
              "1   2.569449       0.213333        0.089487     0.213333  0.117995   \n",
              "2   2.185991       0.313333        0.329893     0.313333  0.254453   \n",
              "3   1.864939       0.460000        0.441564     0.460000  0.428088   \n",
              "4   2.002498       0.520000        0.529445     0.520000  0.489330   \n",
              "\n",
              "   eval_runtime  eval_samples_per_second  eval_steps_per_second  epoch  step  \n",
              "0        7.2457                   41.404                 20.702    1.0   175  \n",
              "1        7.4179                   40.443                 20.221    2.0   350  \n",
              "2        7.2859                   41.175                 20.588    3.0   525  \n",
              "3        7.4949                   40.027                 20.014    4.0   700  \n",
              "4        7.2925                   41.138                 20.569    5.0   875  "
            ],
            "text/html": [
              "\n",
              "  <div id=\"df-9b9dbb59-65ae-470f-a9af-d324c1cd9d32\" class=\"colab-df-container\">\n",
              "    <div>\n",
              "<style scoped>\n",
              "    .dataframe tbody tr th:only-of-type {\n",
              "        vertical-align: middle;\n",
              "    }\n",
              "\n",
              "    .dataframe tbody tr th {\n",
              "        vertical-align: top;\n",
              "    }\n",
              "\n",
              "    .dataframe thead th {\n",
              "        text-align: right;\n",
              "    }\n",
              "</style>\n",
              "<table border=\"1\" class=\"dataframe\">\n",
              "  <thead>\n",
              "    <tr style=\"text-align: right;\">\n",
              "      <th></th>\n",
              "      <th>eval_loss</th>\n",
              "      <th>eval_accuracy</th>\n",
              "      <th>eval_precision</th>\n",
              "      <th>eval_recall</th>\n",
              "      <th>eval_f1</th>\n",
              "      <th>eval_runtime</th>\n",
              "      <th>eval_samples_per_second</th>\n",
              "      <th>eval_steps_per_second</th>\n",
              "      <th>epoch</th>\n",
              "      <th>step</th>\n",
              "    </tr>\n",
              "  </thead>\n",
              "  <tbody>\n",
              "    <tr>\n",
              "      <th>0</th>\n",
              "      <td>3.289238</td>\n",
              "      <td>0.130000</td>\n",
              "      <td>0.030114</td>\n",
              "      <td>0.130000</td>\n",
              "      <td>0.047640</td>\n",
              "      <td>7.2457</td>\n",
              "      <td>41.404</td>\n",
              "      <td>20.702</td>\n",
              "      <td>1.0</td>\n",
              "      <td>175</td>\n",
              "    </tr>\n",
              "    <tr>\n",
              "      <th>1</th>\n",
              "      <td>2.569449</td>\n",
              "      <td>0.213333</td>\n",
              "      <td>0.089487</td>\n",
              "      <td>0.213333</td>\n",
              "      <td>0.117995</td>\n",
              "      <td>7.4179</td>\n",
              "      <td>40.443</td>\n",
              "      <td>20.221</td>\n",
              "      <td>2.0</td>\n",
              "      <td>350</td>\n",
              "    </tr>\n",
              "    <tr>\n",
              "      <th>2</th>\n",
              "      <td>2.185991</td>\n",
              "      <td>0.313333</td>\n",
              "      <td>0.329893</td>\n",
              "      <td>0.313333</td>\n",
              "      <td>0.254453</td>\n",
              "      <td>7.2859</td>\n",
              "      <td>41.175</td>\n",
              "      <td>20.588</td>\n",
              "      <td>3.0</td>\n",
              "      <td>525</td>\n",
              "    </tr>\n",
              "    <tr>\n",
              "      <th>3</th>\n",
              "      <td>1.864939</td>\n",
              "      <td>0.460000</td>\n",
              "      <td>0.441564</td>\n",
              "      <td>0.460000</td>\n",
              "      <td>0.428088</td>\n",
              "      <td>7.4949</td>\n",
              "      <td>40.027</td>\n",
              "      <td>20.014</td>\n",
              "      <td>4.0</td>\n",
              "      <td>700</td>\n",
              "    </tr>\n",
              "    <tr>\n",
              "      <th>4</th>\n",
              "      <td>2.002498</td>\n",
              "      <td>0.520000</td>\n",
              "      <td>0.529445</td>\n",
              "      <td>0.520000</td>\n",
              "      <td>0.489330</td>\n",
              "      <td>7.2925</td>\n",
              "      <td>41.138</td>\n",
              "      <td>20.569</td>\n",
              "      <td>5.0</td>\n",
              "      <td>875</td>\n",
              "    </tr>\n",
              "  </tbody>\n",
              "</table>\n",
              "</div>\n",
              "    <div class=\"colab-df-buttons\">\n",
              "\n",
              "  <div class=\"colab-df-container\">\n",
              "    <button class=\"colab-df-convert\" onclick=\"convertToInteractive('df-9b9dbb59-65ae-470f-a9af-d324c1cd9d32')\"\n",
              "            title=\"Convert this dataframe to an interactive table.\"\n",
              "            style=\"display:none;\">\n",
              "\n",
              "  <svg xmlns=\"http://www.w3.org/2000/svg\" height=\"24px\" viewBox=\"0 -960 960 960\">\n",
              "    <path d=\"M120-120v-720h720v720H120Zm60-500h600v-160H180v160Zm220 220h160v-160H400v160Zm0 220h160v-160H400v160ZM180-400h160v-160H180v160Zm440 0h160v-160H620v160ZM180-180h160v-160H180v160Zm440 0h160v-160H620v160Z\"/>\n",
              "  </svg>\n",
              "    </button>\n",
              "\n",
              "  <style>\n",
              "    .colab-df-container {\n",
              "      display:flex;\n",
              "      gap: 12px;\n",
              "    }\n",
              "\n",
              "    .colab-df-convert {\n",
              "      background-color: #E8F0FE;\n",
              "      border: none;\n",
              "      border-radius: 50%;\n",
              "      cursor: pointer;\n",
              "      display: none;\n",
              "      fill: #1967D2;\n",
              "      height: 32px;\n",
              "      padding: 0 0 0 0;\n",
              "      width: 32px;\n",
              "    }\n",
              "\n",
              "    .colab-df-convert:hover {\n",
              "      background-color: #E2EBFA;\n",
              "      box-shadow: 0px 1px 2px rgba(60, 64, 67, 0.3), 0px 1px 3px 1px rgba(60, 64, 67, 0.15);\n",
              "      fill: #174EA6;\n",
              "    }\n",
              "\n",
              "    .colab-df-buttons div {\n",
              "      margin-bottom: 4px;\n",
              "    }\n",
              "\n",
              "    [theme=dark] .colab-df-convert {\n",
              "      background-color: #3B4455;\n",
              "      fill: #D2E3FC;\n",
              "    }\n",
              "\n",
              "    [theme=dark] .colab-df-convert:hover {\n",
              "      background-color: #434B5C;\n",
              "      box-shadow: 0px 1px 3px 1px rgba(0, 0, 0, 0.15);\n",
              "      filter: drop-shadow(0px 1px 2px rgba(0, 0, 0, 0.3));\n",
              "      fill: #FFFFFF;\n",
              "    }\n",
              "  </style>\n",
              "\n",
              "    <script>\n",
              "      const buttonEl =\n",
              "        document.querySelector('#df-9b9dbb59-65ae-470f-a9af-d324c1cd9d32 button.colab-df-convert');\n",
              "      buttonEl.style.display =\n",
              "        google.colab.kernel.accessAllowed ? 'block' : 'none';\n",
              "\n",
              "      async function convertToInteractive(key) {\n",
              "        const element = document.querySelector('#df-9b9dbb59-65ae-470f-a9af-d324c1cd9d32');\n",
              "        const dataTable =\n",
              "          await google.colab.kernel.invokeFunction('convertToInteractive',\n",
              "                                                    [key], {});\n",
              "        if (!dataTable) return;\n",
              "\n",
              "        const docLinkHtml = 'Like what you see? Visit the ' +\n",
              "          '<a target=\"_blank\" href=https://colab.research.google.com/notebooks/data_table.ipynb>data table notebook</a>'\n",
              "          + ' to learn more about interactive tables.';\n",
              "        element.innerHTML = '';\n",
              "        dataTable['output_type'] = 'display_data';\n",
              "        await google.colab.output.renderOutput(dataTable, element);\n",
              "        const docLink = document.createElement('div');\n",
              "        docLink.innerHTML = docLinkHtml;\n",
              "        element.appendChild(docLink);\n",
              "      }\n",
              "    </script>\n",
              "  </div>\n",
              "\n",
              "\n",
              "<div id=\"df-4952ef0b-7f74-4757-a660-adcf9c08ed10\">\n",
              "  <button class=\"colab-df-quickchart\" onclick=\"quickchart('df-4952ef0b-7f74-4757-a660-adcf9c08ed10')\"\n",
              "            title=\"Suggest charts\"\n",
              "            style=\"display:none;\">\n",
              "\n",
              "<svg xmlns=\"http://www.w3.org/2000/svg\" height=\"24px\"viewBox=\"0 0 24 24\"\n",
              "     width=\"24px\">\n",
              "    <g>\n",
              "        <path d=\"M19 3H5c-1.1 0-2 .9-2 2v14c0 1.1.9 2 2 2h14c1.1 0 2-.9 2-2V5c0-1.1-.9-2-2-2zM9 17H7v-7h2v7zm4 0h-2V7h2v10zm4 0h-2v-4h2v4z\"/>\n",
              "    </g>\n",
              "</svg>\n",
              "  </button>\n",
              "\n",
              "<style>\n",
              "  .colab-df-quickchart {\n",
              "      --bg-color: #E8F0FE;\n",
              "      --fill-color: #1967D2;\n",
              "      --hover-bg-color: #E2EBFA;\n",
              "      --hover-fill-color: #174EA6;\n",
              "      --disabled-fill-color: #AAA;\n",
              "      --disabled-bg-color: #DDD;\n",
              "  }\n",
              "\n",
              "  [theme=dark] .colab-df-quickchart {\n",
              "      --bg-color: #3B4455;\n",
              "      --fill-color: #D2E3FC;\n",
              "      --hover-bg-color: #434B5C;\n",
              "      --hover-fill-color: #FFFFFF;\n",
              "      --disabled-bg-color: #3B4455;\n",
              "      --disabled-fill-color: #666;\n",
              "  }\n",
              "\n",
              "  .colab-df-quickchart {\n",
              "    background-color: var(--bg-color);\n",
              "    border: none;\n",
              "    border-radius: 50%;\n",
              "    cursor: pointer;\n",
              "    display: none;\n",
              "    fill: var(--fill-color);\n",
              "    height: 32px;\n",
              "    padding: 0;\n",
              "    width: 32px;\n",
              "  }\n",
              "\n",
              "  .colab-df-quickchart:hover {\n",
              "    background-color: var(--hover-bg-color);\n",
              "    box-shadow: 0 1px 2px rgba(60, 64, 67, 0.3), 0 1px 3px 1px rgba(60, 64, 67, 0.15);\n",
              "    fill: var(--button-hover-fill-color);\n",
              "  }\n",
              "\n",
              "  .colab-df-quickchart-complete:disabled,\n",
              "  .colab-df-quickchart-complete:disabled:hover {\n",
              "    background-color: var(--disabled-bg-color);\n",
              "    fill: var(--disabled-fill-color);\n",
              "    box-shadow: none;\n",
              "  }\n",
              "\n",
              "  .colab-df-spinner {\n",
              "    border: 2px solid var(--fill-color);\n",
              "    border-color: transparent;\n",
              "    border-bottom-color: var(--fill-color);\n",
              "    animation:\n",
              "      spin 1s steps(1) infinite;\n",
              "  }\n",
              "\n",
              "  @keyframes spin {\n",
              "    0% {\n",
              "      border-color: transparent;\n",
              "      border-bottom-color: var(--fill-color);\n",
              "      border-left-color: var(--fill-color);\n",
              "    }\n",
              "    20% {\n",
              "      border-color: transparent;\n",
              "      border-left-color: var(--fill-color);\n",
              "      border-top-color: var(--fill-color);\n",
              "    }\n",
              "    30% {\n",
              "      border-color: transparent;\n",
              "      border-left-color: var(--fill-color);\n",
              "      border-top-color: var(--fill-color);\n",
              "      border-right-color: var(--fill-color);\n",
              "    }\n",
              "    40% {\n",
              "      border-color: transparent;\n",
              "      border-right-color: var(--fill-color);\n",
              "      border-top-color: var(--fill-color);\n",
              "    }\n",
              "    60% {\n",
              "      border-color: transparent;\n",
              "      border-right-color: var(--fill-color);\n",
              "    }\n",
              "    80% {\n",
              "      border-color: transparent;\n",
              "      border-right-color: var(--fill-color);\n",
              "      border-bottom-color: var(--fill-color);\n",
              "    }\n",
              "    90% {\n",
              "      border-color: transparent;\n",
              "      border-bottom-color: var(--fill-color);\n",
              "    }\n",
              "  }\n",
              "</style>\n",
              "\n",
              "  <script>\n",
              "    async function quickchart(key) {\n",
              "      const quickchartButtonEl =\n",
              "        document.querySelector('#' + key + ' button');\n",
              "      quickchartButtonEl.disabled = true;  // To prevent multiple clicks.\n",
              "      quickchartButtonEl.classList.add('colab-df-spinner');\n",
              "      try {\n",
              "        const charts = await google.colab.kernel.invokeFunction(\n",
              "            'suggestCharts', [key], {});\n",
              "      } catch (error) {\n",
              "        console.error('Error during call to suggestCharts:', error);\n",
              "      }\n",
              "      quickchartButtonEl.classList.remove('colab-df-spinner');\n",
              "      quickchartButtonEl.classList.add('colab-df-quickchart-complete');\n",
              "    }\n",
              "    (() => {\n",
              "      let quickchartButtonEl =\n",
              "        document.querySelector('#df-4952ef0b-7f74-4757-a660-adcf9c08ed10 button');\n",
              "      quickchartButtonEl.style.display =\n",
              "        google.colab.kernel.accessAllowed ? 'block' : 'none';\n",
              "    })();\n",
              "  </script>\n",
              "</div>\n",
              "\n",
              "    </div>\n",
              "  </div>\n"
            ],
            "application/vnd.google.colaboratory.intrinsic+json": {
              "type": "dataframe",
              "variable_name": "trainer_history_eval_df",
              "summary": "{\n  \"name\": \"trainer_history_eval_df\",\n  \"rows\": 5,\n  \"fields\": [\n    {\n      \"column\": \"eval_loss\",\n      \"properties\": {\n        \"dtype\": \"number\",\n        \"std\": 0.5718413865434117,\n        \"min\": 1.8649393320083618,\n        \"max\": 3.289238214492798,\n        \"num_unique_values\": 5,\n        \"samples\": [\n          2.5694494247436523,\n          2.0024983882904053,\n          2.185991048812866\n        ],\n        \"semantic_type\": \"\",\n        \"description\": \"\"\n      }\n    },\n    {\n      \"column\": \"eval_accuracy\",\n      \"properties\": {\n        \"dtype\": \"number\",\n        \"std\": 0.16344214062882723,\n        \"min\": 0.13,\n        \"max\": 0.52,\n        \"num_unique_values\": 5,\n        \"samples\": [\n          0.21333333333333335,\n          0.52,\n          0.31333333333333335\n        ],\n        \"semantic_type\": \"\",\n        \"description\": \"\"\n      }\n    },\n    {\n      \"column\": \"eval_precision\",\n      \"properties\": {\n        \"dtype\": \"number\",\n        \"std\": 0.21764052523271774,\n        \"min\": 0.03011354420113544,\n        \"max\": 0.5294453574203575,\n        \"num_unique_values\": 5,\n        \"samples\": [\n          0.0894869210608458,\n          0.5294453574203575,\n          0.3298927938246824\n        ],\n        \"semantic_type\": \"\",\n        \"description\": \"\"\n      }\n    },\n    {\n      \"column\": \"eval_recall\",\n      \"properties\": {\n        \"dtype\": \"number\",\n        \"std\": 0.16344214062882723,\n        \"min\": 0.13,\n        \"max\": 0.52,\n        \"num_unique_values\": 5,\n        \"samples\": [\n          0.21333333333333335,\n          0.52,\n          0.31333333333333335\n        ],\n        \"semantic_type\": \"\",\n        \"description\": \"\"\n      }\n    },\n    {\n      \"column\": \"eval_f1\",\n      \"properties\": {\n        \"dtype\": \"number\",\n        \"std\": 0.1909564105830606,\n        \"min\": 0.047639896608017415,\n        \"max\": 0.48932990972370277,\n        \"num_unique_values\": 5,\n        \"samples\": [\n          0.1179946623232577,\n          0.48932990972370277,\n          0.2544530339710418\n        ],\n        \"semantic_type\": \"\",\n        \"description\": \"\"\n      }\n    },\n    {\n      \"column\": \"eval_runtime\",\n      \"properties\": {\n        \"dtype\": \"number\",\n        \"std\": 0.10472063788957751,\n        \"min\": 7.2457,\n        \"max\": 7.4949,\n        \"num_unique_values\": 5,\n        \"samples\": [\n          7.4179,\n          7.2925,\n          7.2859\n        ],\n        \"semantic_type\": \"\",\n        \"description\": \"\"\n      }\n    },\n    {\n      \"column\": \"eval_samples_per_second\",\n      \"properties\": {\n        \"dtype\": \"number\",\n        \"std\": 0.5782882499238595,\n        \"min\": 40.027,\n        \"max\": 41.404,\n        \"num_unique_values\": 5,\n        \"samples\": [\n          40.443,\n          41.138,\n          41.175\n        ],\n        \"semantic_type\": \"\",\n        \"description\": \"\"\n      }\n    },\n    {\n      \"column\": \"eval_steps_per_second\",\n      \"properties\": {\n        \"dtype\": \"number\",\n        \"std\": 0.2891274805341069,\n        \"min\": 20.014,\n        \"max\": 20.702,\n        \"num_unique_values\": 5,\n        \"samples\": [\n          20.221,\n          20.569,\n          20.588\n        ],\n        \"semantic_type\": \"\",\n        \"description\": \"\"\n      }\n    },\n    {\n      \"column\": \"epoch\",\n      \"properties\": {\n        \"dtype\": \"number\",\n        \"std\": 1.5811388300841898,\n        \"min\": 1.0,\n        \"max\": 5.0,\n        \"num_unique_values\": 5,\n        \"samples\": [\n          2.0,\n          5.0,\n          3.0\n        ],\n        \"semantic_type\": \"\",\n        \"description\": \"\"\n      }\n    },\n    {\n      \"column\": \"step\",\n      \"properties\": {\n        \"dtype\": \"number\",\n        \"std\": 276,\n        \"min\": 175,\n        \"max\": 875,\n        \"num_unique_values\": 5,\n        \"samples\": [\n          350,\n          875,\n          525\n        ],\n        \"semantic_type\": \"\",\n        \"description\": \"\"\n      }\n    }\n  ]\n}"
            }
          },
          "metadata": {},
          "execution_count": 94
        }
      ]
    },
    {
      "cell_type": "code",
      "source": [
        "# plot loss curves\n",
        "import matplotlib.pyplot as plt\n",
        "%matplotlib inline\n",
        "\n",
        "plt.figure(figsize=(12,6))\n",
        "plt.plot(trainer_history_train_df['epoch'], trainer_history_train_df['loss'], label=\"Training loss\")\n",
        "plt.plot(trainer_history_eval_df['epoch'], trainer_history_eval_df['eval_loss'], label=\"Evaluation loss\")\n",
        "plt.xlabel('Epoch')\n",
        "plt.ylabel('Loss')\n",
        "plt.title(\"Multiclass Text Classification fine-tuning ModernBERT training and evaluation loss over time\")\n",
        "plt.legend()\n",
        "plt.show();"
      ],
      "metadata": {
        "colab": {
          "base_uri": "https://localhost:8080/",
          "height": 564
        },
        "id": "tUMw84ttAzh1",
        "outputId": "c88cd98a-c96c-448d-92ab-b1b2ba623b1f"
      },
      "execution_count": 95,
      "outputs": [
        {
          "output_type": "display_data",
          "data": {
            "text/plain": [
              "<Figure size 1200x600 with 1 Axes>"
            ],
            "image/png": "[encoded data removed]"
          },
          "metadata": {}
        }
      ]
    },
    {
      "cell_type": "markdown",
      "source": [
        "Summary\n",
        "* We can see that both the train and eval loss went down over 5 epochs and if we kept training im sure that the train loss would have continued to go down.\n",
        "* 1 epoch may have been enough as it appears the eval loss was less than the train loss but then it switched and the eval loss was more than the train loss.\n",
        "* I alrady tried some optimization techniques to get to this point including:\n",
        "  1. increasing test set size from 10% to 30%.\n",
        "  2. Lowering the learning rate.\n",
        "  3. Training for more epochs.\n",
        "\n",
        "* I appears that the model is now Overfitting which is when the training loss continues to decrease while the validation (eval) loss starts to increase, this is a clear indication of overfitting.\n",
        "  * It means the model is learning to fit the training data too closely, including its noise and peculiarities, at the expense of generalizing well to unseen data.\n",
        "\n",
        "\n",
        "Learning Curve:\n",
        "\n",
        "In this scenario, the diverging trends of training and validation loss create a characteristic \"fork\" in the learning curve, which is a telltale sign of overfitting.\n",
        "\n",
        "What This Means:\n",
        "\n",
        "The model is performing increasingly well on the training data but is losing its ability to generalize to new, unseen data (represented by the validation set).\n",
        "\n",
        "The model is likely capturing noise or specific details in the training data that don't generalize to the validation set.\n",
        "\n",
        "Actions to Consider:\n",
        "\n",
        "1. Regularization: Increase regularization (L1, L2, dropout) to prevent the model from fitting the training data too closely.\n",
        "\n",
        "2. Data Augmentation: Increase the diversity of the training data to help the model learn more generalizable features.\n",
        "\n",
        "3. Reduce Model Complexity: If the model is very large or deep, consider simplifying it.\n",
        "\n",
        "4. Early Stopping: Implement early stopping to halt training when validation performance starts to degrade.\n",
        "\n",
        "5. Cross-Validation: Use k-fold cross-validation to ensure this trend is consistent across different data splits.\n",
        "\n",
        "6. More Data: If possible, collect more training data to give the model more examples to learn from.\n",
        "\n",
        "7. Feature Selection/Engineering: Revisit the features to ensure we are providing the most relevant information to the model.\n",
        "\n",
        "8. Ensemble Methods: Consider using ensemble methods which can help in reducing overfitting.\n",
        "\n",
        "9. Batch normalization, gradient clipping and other methods."
      ],
      "metadata": {
        "id": "mmWPy-z5jU5-"
      }
    },
    {
      "cell_type": "markdown",
      "source": [
        "# Predictions & Inference"
      ],
      "metadata": {
        "id": "yXRdyZhYOwCj"
      }
    },
    {
      "cell_type": "code",
      "source": [
        "## get predictions on test set\n",
        "preds = trainer.predict(tokenized_data['test'])\n",
        "\n",
        "## process prediction results --> preds, label_ids, metrics\n",
        "pred_labels = np.argmax(preds.predictions, axis=1)\n",
        "pred_label = id2label[str(pred_labels[0])]\n",
        "example_data = [split_data['train'][0]]"
      ],
      "metadata": {
        "colab": {
          "base_uri": "https://localhost:8080/",
          "height": 72
        },
        "id": "2-R0ocGZLalU",
        "outputId": "65060ba8-af09-46d1-8dd3-101466b341b1"
      },
      "execution_count": 96,
      "outputs": [
        {
          "output_type": "display_data",
          "data": {
            "text/plain": [
              "<IPython.core.display.HTML object>"
            ],
            "text/html": []
          },
          "metadata": {}
        },
        {
          "output_type": "stream",
          "name": "stderr",
          "text": [
            "/usr/local/lib/python3.11/dist-packages/sklearn/metrics/_classification.py:1565: UndefinedMetricWarning: Precision is ill-defined and being set to 0.0 in labels with no predicted samples. Use `zero_division` parameter to control this behavior.\n",
            "  _warn_prf(average, modifier, f\"{metric.capitalize()} is\", len(result))\n"
          ]
        }
      ]
    },
    {
      "cell_type": "code",
      "source": [
        "## print predicted vs. actual\n",
        "print(f\"Predicted Label: {pred_label}\")\n",
        "print(f\"Actual Label: {id2label[str(example_data[0]['labels'])]}\")"
      ],
      "metadata": {
        "colab": {
          "base_uri": "https://localhost:8080/"
        },
        "id": "rPkEUzEtPQQ9",
        "outputId": "51d84e27-6e7b-4a79-91f4-dac60b3ce0dc"
      },
      "execution_count": 97,
      "outputs": [
        {
          "output_type": "stream",
          "name": "stdout",
          "text": [
            "Predicted Label: health\n",
            "Actual Label: business-and-industrial\n"
          ]
        }
      ]
    },
    {
      "cell_type": "code",
      "source": [
        "## shoe pred labels\n",
        "pred_labels"
      ],
      "metadata": {
        "colab": {
          "base_uri": "https://localhost:8080/"
        },
        "id": "rQePay05PrZJ",
        "outputId": "c4d890e3-4f5f-4a09-dd00-1fa7a45036e6"
      },
      "execution_count": 98,
      "outputs": [
        {
          "output_type": "execute_result",
          "data": {
            "text/plain": [
              "array([17, 14, 23, 23, 17, 14, 22,  4, 13,  9, 19, 23,  9,  4, 23, 17, 14,\n",
              "        5,  7, 16,  1,  8,  4, 13, 17,  4,  1, 12, 20,  8,  1, 10, 14,  1,\n",
              "        6, 17,  1,  1,  5, 22, 23, 14, 17, 20, 13,  0, 14, 17,  1, 19, 18,\n",
              "       17,  1, 22, 17,  8, 23,  1, 10, 14, 10,  8, 10,  5, 17, 13,  1, 22,\n",
              "       10,  1,  8,  4, 22, 14,  5, 23,  8, 17,  8, 20, 23,  9, 17,  1, 13,\n",
              "        2,  1, 19, 20, 14,  1, 19, 17, 19, 14, 22, 20,  4,  3, 23,  0,  4,\n",
              "        5,  9, 17, 10, 14,  1,  3,  1,  9, 12,  3, 10, 12,  1, 23,  3, 17,\n",
              "       17, 12,  1,  6,  1, 23, 10,  4,  4, 22,  9, 17, 12, 22,  1, 19,  1,\n",
              "       19, 14,  3, 17,  5,  6,  8,  1, 14,  9, 22, 20,  1,  6, 23,  0, 23,\n",
              "        6,  9, 12,  7, 23, 10,  6, 16,  4, 13,  4,  5, 20, 23,  7, 14, 17,\n",
              "       23, 23, 19, 20,  8,  3,  5, 23,  7, 23, 13, 17,  1, 23,  8,  5, 23,\n",
              "       10,  2,  7, 14, 13, 19,  9,  1,  1,  1, 14,  9,  7, 23,  0,  1, 23,\n",
              "        3,  8, 12,  6,  2, 23, 20, 13, 17, 12, 12,  2, 16,  5,  8,  3, 19,\n",
              "       22,  9,  7,  2,  2,  1, 17,  7,  8, 23, 17, 10,  7, 14, 19, 23, 20,\n",
              "       23, 10,  7, 14,  1,  1, 22, 13,  6, 13,  3,  9, 23, 12,  0,  6, 17,\n",
              "       17, 14, 17, 10, 13, 10,  6,  4, 23,  0, 22, 17, 19,  7,  8, 20, 10,\n",
              "        5, 23, 17, 17, 20,  1, 12, 17,  8,  5,  2, 23, 23,  1,  1, 12, 14,\n",
              "       14, 14,  9, 14,  4, 23,  8,  6,  2,  9,  8])"
            ]
          },
          "metadata": {},
          "execution_count": 98
        }
      ]
    },
    {
      "cell_type": "code",
      "source": [],
      "metadata": {
        "id": "JrIaNakHXTVa"
      },
      "execution_count": null,
      "outputs": []
    }
  ]
}