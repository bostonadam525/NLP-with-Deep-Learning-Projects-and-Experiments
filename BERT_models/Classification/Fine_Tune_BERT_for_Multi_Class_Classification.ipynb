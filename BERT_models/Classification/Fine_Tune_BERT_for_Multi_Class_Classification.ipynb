{
  "nbformat": 4,
  "nbformat_minor": 0,
  "metadata": {
    "colab": {
      "provenance": [],
      "gpuType": "T4"
    },
    "kernelspec": {
      "name": "python3",
      "display_name": "Python 3"
    },
    "language_info": {
      "name": "python"
    },
    "accelerator": "GPU"
  },
  "cells": [
    {
      "cell_type": "markdown",
      "source": [
        "# Fine Tune BERT for Multi-Class Classification\n",
        "* Notebook by Adam Lang\n",
        "* Date: 6/25/2024\n",
        "\n",
        "# Overview\n",
        "* This notebook will go over fine tuning BERT for Multi-Class Classification.\n",
        "* Specifically we will do the following:\n",
        "   * 1. Use a BERT base uncased model pre-trained on the Turkish Oscar Corpus: https://huggingface.co/dbmdz/bert-base-turkish-uncased\n",
        "   * 2. Perform multi-label text classification"
      ],
      "metadata": {
        "id": "VGVEP4GLezjf"
      }
    },
    {
      "cell_type": "code",
      "execution_count": 1,
      "metadata": {
        "colab": {
          "base_uri": "https://localhost:8080/"
        },
        "id": "nnlvDUbneoFU",
        "outputId": "2b2a2e65-4767-49be-ad34-dc2677fa4f6f"
      },
      "outputs": [
        {
          "output_type": "stream",
          "name": "stdout",
          "text": [
            "Requirement already satisfied: transformers in /usr/local/lib/python3.10/dist-packages (4.41.2)\n",
            "Requirement already satisfied: datasets in /usr/local/lib/python3.10/dist-packages (2.20.0)\n",
            "Requirement already satisfied: filelock in /usr/local/lib/python3.10/dist-packages (from transformers) (3.15.3)\n",
            "Requirement already satisfied: huggingface-hub<1.0,>=0.23.0 in /usr/local/lib/python3.10/dist-packages (from transformers) (0.23.4)\n",
            "Requirement already satisfied: numpy>=1.17 in /usr/local/lib/python3.10/dist-packages (from transformers) (1.25.2)\n",
            "Requirement already satisfied: packaging>=20.0 in /usr/local/lib/python3.10/dist-packages (from transformers) (24.1)\n",
            "Requirement already satisfied: pyyaml>=5.1 in /usr/local/lib/python3.10/dist-packages (from transformers) (6.0.1)\n",
            "Requirement already satisfied: regex!=2019.12.17 in /usr/local/lib/python3.10/dist-packages (from transformers) (2024.5.15)\n",
            "Requirement already satisfied: requests in /usr/local/lib/python3.10/dist-packages (from transformers) (2.32.3)\n",
            "Requirement already satisfied: tokenizers<0.20,>=0.19 in /usr/local/lib/python3.10/dist-packages (from transformers) (0.19.1)\n",
            "Requirement already satisfied: safetensors>=0.4.1 in /usr/local/lib/python3.10/dist-packages (from transformers) (0.4.3)\n",
            "Requirement already satisfied: tqdm>=4.27 in /usr/local/lib/python3.10/dist-packages (from transformers) (4.66.4)\n",
            "Requirement already satisfied: pyarrow>=15.0.0 in /usr/local/lib/python3.10/dist-packages (from datasets) (16.1.0)\n",
            "Requirement already satisfied: pyarrow-hotfix in /usr/local/lib/python3.10/dist-packages (from datasets) (0.6)\n",
            "Requirement already satisfied: dill<0.3.9,>=0.3.0 in /usr/local/lib/python3.10/dist-packages (from datasets) (0.3.8)\n",
            "Requirement already satisfied: pandas in /usr/local/lib/python3.10/dist-packages (from datasets) (2.0.3)\n",
            "Requirement already satisfied: xxhash in /usr/local/lib/python3.10/dist-packages (from datasets) (3.4.1)\n",
            "Requirement already satisfied: multiprocess in /usr/local/lib/python3.10/dist-packages (from datasets) (0.70.16)\n",
            "Requirement already satisfied: fsspec[http]<=2024.5.0,>=2023.1.0 in /usr/local/lib/python3.10/dist-packages (from datasets) (2023.6.0)\n",
            "Requirement already satisfied: aiohttp in /usr/local/lib/python3.10/dist-packages (from datasets) (3.9.5)\n",
            "Requirement already satisfied: aiosignal>=1.1.2 in /usr/local/lib/python3.10/dist-packages (from aiohttp->datasets) (1.3.1)\n",
            "Requirement already satisfied: attrs>=17.3.0 in /usr/local/lib/python3.10/dist-packages (from aiohttp->datasets) (23.2.0)\n",
            "Requirement already satisfied: frozenlist>=1.1.1 in /usr/local/lib/python3.10/dist-packages (from aiohttp->datasets) (1.4.1)\n",
            "Requirement already satisfied: multidict<7.0,>=4.5 in /usr/local/lib/python3.10/dist-packages (from aiohttp->datasets) (6.0.5)\n",
            "Requirement already satisfied: yarl<2.0,>=1.0 in /usr/local/lib/python3.10/dist-packages (from aiohttp->datasets) (1.9.4)\n",
            "Requirement already satisfied: async-timeout<5.0,>=4.0 in /usr/local/lib/python3.10/dist-packages (from aiohttp->datasets) (4.0.3)\n",
            "Requirement already satisfied: typing-extensions>=3.7.4.3 in /usr/local/lib/python3.10/dist-packages (from huggingface-hub<1.0,>=0.23.0->transformers) (4.12.2)\n",
            "Requirement already satisfied: charset-normalizer<4,>=2 in /usr/local/lib/python3.10/dist-packages (from requests->transformers) (3.3.2)\n",
            "Requirement already satisfied: idna<4,>=2.5 in /usr/local/lib/python3.10/dist-packages (from requests->transformers) (3.7)\n",
            "Requirement already satisfied: urllib3<3,>=1.21.1 in /usr/local/lib/python3.10/dist-packages (from requests->transformers) (2.0.7)\n",
            "Requirement already satisfied: certifi>=2017.4.17 in /usr/local/lib/python3.10/dist-packages (from requests->transformers) (2024.6.2)\n",
            "Requirement already satisfied: python-dateutil>=2.8.2 in /usr/local/lib/python3.10/dist-packages (from pandas->datasets) (2.8.2)\n",
            "Requirement already satisfied: pytz>=2020.1 in /usr/local/lib/python3.10/dist-packages (from pandas->datasets) (2023.4)\n",
            "Requirement already satisfied: tzdata>=2022.1 in /usr/local/lib/python3.10/dist-packages (from pandas->datasets) (2024.1)\n",
            "Requirement already satisfied: six>=1.5 in /usr/local/lib/python3.10/dist-packages (from python-dateutil>=2.8.2->pandas->datasets) (1.16.0)\n"
          ]
        }
      ],
      "source": [
        "## install transformers datasets libraries\n",
        "!pip install transformers datasets"
      ]
    },
    {
      "cell_type": "code",
      "source": [
        "# imports\n",
        "import torch\n",
        "import os\n",
        "from transformers import pipeline, BertForSequenceClassification, BertTokenizerFast\n",
        "from torch.utils.data import Dataset\n",
        "import pandas as pd\n",
        "import numpy as np"
      ],
      "metadata": {
        "id": "C27qc34ufLuR"
      },
      "execution_count": 2,
      "outputs": []
    },
    {
      "cell_type": "code",
      "source": [
        "# setup device agnostic code\n",
        "from torch import cuda\n",
        "device = 'cuda' if cuda.is_available() else 'cpu'\n",
        "#print device\n",
        "device"
      ],
      "metadata": {
        "colab": {
          "base_uri": "https://localhost:8080/",
          "height": 35
        },
        "id": "9klb4DQlfkYj",
        "outputId": "ef5a5cd7-40b0-4881-a949-85fa9772209b"
      },
      "execution_count": 3,
      "outputs": [
        {
          "output_type": "execute_result",
          "data": {
            "text/plain": [
              "'cuda'"
            ],
            "application/vnd.google.colaboratory.intrinsic+json": {
              "type": "string"
            }
          },
          "metadata": {},
          "execution_count": 3
        }
      ]
    },
    {
      "cell_type": "markdown",
      "source": [
        "## Dataset\n",
        "* This is a dataset of multiple labels from a Turkish newspaper from Kaggle.\n",
        "* Kaggle Dataset: https://www.kaggle.com/datasets/savasy/ttc4900"
      ],
      "metadata": {
        "id": "eDF99exbhACs"
      }
    },
    {
      "cell_type": "code",
      "source": [
        "# dataset path\n",
        "data_path = '/content/drive/MyDrive/Colab Notebooks/Deep Learning Notebooks/NLP_deep_learning/BERT_transformers/7allV03.csv'"
      ],
      "metadata": {
        "id": "f7Xe_ZG1hXYt"
      },
      "execution_count": 4,
      "outputs": []
    },
    {
      "cell_type": "code",
      "source": [
        "# upload\n",
        "df = pd.read_csv(data_path)\n",
        "\n",
        "# sample the data\n",
        "df = df.sample(frac=1.0, random_state=42)\n",
        "\n",
        "# df head\n",
        "df.head()"
      ],
      "metadata": {
        "colab": {
          "base_uri": "https://localhost:8080/",
          "height": 206
        },
        "id": "7i6bZll7hXUX",
        "outputId": "8e56a8db-f9f9-4d9c-80ac-fbf823fc68f4"
      },
      "execution_count": 5,
      "outputs": [
        {
          "output_type": "execute_result",
          "data": {
            "text/plain": [
              "        category                                               text\n",
              "4657  teknoloji    acıların kedisi sam çatık kaşlı kedi sam in i...\n",
              "3539       spor    g saray a git santos van_persie den forma ala...\n",
              "907       dunya    endonezya da çatışmalar 14 ölü endonezya da i...\n",
              "4353  teknoloji    emniyetten polis logolu virüs uyarısı telefon...\n",
              "3745       spor    beni türk yapın cristian_baroni yıldırım dan ..."
            ],
            "text/html": [
              "\n",
              "  <div id=\"df-575cb45b-5c56-4b2f-a80f-6e30f700f595\" class=\"colab-df-container\">\n",
              "    <div>\n",
              "<style scoped>\n",
              "    .dataframe tbody tr th:only-of-type {\n",
              "        vertical-align: middle;\n",
              "    }\n",
              "\n",
              "    .dataframe tbody tr th {\n",
              "        vertical-align: top;\n",
              "    }\n",
              "\n",
              "    .dataframe thead th {\n",
              "        text-align: right;\n",
              "    }\n",
              "</style>\n",
              "<table border=\"1\" class=\"dataframe\">\n",
              "  <thead>\n",
              "    <tr style=\"text-align: right;\">\n",
              "      <th></th>\n",
              "      <th>category</th>\n",
              "      <th>text</th>\n",
              "    </tr>\n",
              "  </thead>\n",
              "  <tbody>\n",
              "    <tr>\n",
              "      <th>4657</th>\n",
              "      <td>teknoloji</td>\n",
              "      <td>acıların kedisi sam çatık kaşlı kedi sam in i...</td>\n",
              "    </tr>\n",
              "    <tr>\n",
              "      <th>3539</th>\n",
              "      <td>spor</td>\n",
              "      <td>g saray a git santos van_persie den forma ala...</td>\n",
              "    </tr>\n",
              "    <tr>\n",
              "      <th>907</th>\n",
              "      <td>dunya</td>\n",
              "      <td>endonezya da çatışmalar 14 ölü endonezya da i...</td>\n",
              "    </tr>\n",
              "    <tr>\n",
              "      <th>4353</th>\n",
              "      <td>teknoloji</td>\n",
              "      <td>emniyetten polis logolu virüs uyarısı telefon...</td>\n",
              "    </tr>\n",
              "    <tr>\n",
              "      <th>3745</th>\n",
              "      <td>spor</td>\n",
              "      <td>beni türk yapın cristian_baroni yıldırım dan ...</td>\n",
              "    </tr>\n",
              "  </tbody>\n",
              "</table>\n",
              "</div>\n",
              "    <div class=\"colab-df-buttons\">\n",
              "\n",
              "  <div class=\"colab-df-container\">\n",
              "    <button class=\"colab-df-convert\" onclick=\"convertToInteractive('df-575cb45b-5c56-4b2f-a80f-6e30f700f595')\"\n",
              "            title=\"Convert this dataframe to an interactive table.\"\n",
              "            style=\"display:none;\">\n",
              "\n",
              "  <svg xmlns=\"http://www.w3.org/2000/svg\" height=\"24px\" viewBox=\"0 -960 960 960\">\n",
              "    <path d=\"M120-120v-720h720v720H120Zm60-500h600v-160H180v160Zm220 220h160v-160H400v160Zm0 220h160v-160H400v160ZM180-400h160v-160H180v160Zm440 0h160v-160H620v160ZM180-180h160v-160H180v160Zm440 0h160v-160H620v160Z\"/>\n",
              "  </svg>\n",
              "    </button>\n",
              "\n",
              "  <style>\n",
              "    .colab-df-container {\n",
              "      display:flex;\n",
              "      gap: 12px;\n",
              "    }\n",
              "\n",
              "    .colab-df-convert {\n",
              "      background-color: #E8F0FE;\n",
              "      border: none;\n",
              "      border-radius: 50%;\n",
              "      cursor: pointer;\n",
              "      display: none;\n",
              "      fill: #1967D2;\n",
              "      height: 32px;\n",
              "      padding: 0 0 0 0;\n",
              "      width: 32px;\n",
              "    }\n",
              "\n",
              "    .colab-df-convert:hover {\n",
              "      background-color: #E2EBFA;\n",
              "      box-shadow: 0px 1px 2px rgba(60, 64, 67, 0.3), 0px 1px 3px 1px rgba(60, 64, 67, 0.15);\n",
              "      fill: #174EA6;\n",
              "    }\n",
              "\n",
              "    .colab-df-buttons div {\n",
              "      margin-bottom: 4px;\n",
              "    }\n",
              "\n",
              "    [theme=dark] .colab-df-convert {\n",
              "      background-color: #3B4455;\n",
              "      fill: #D2E3FC;\n",
              "    }\n",
              "\n",
              "    [theme=dark] .colab-df-convert:hover {\n",
              "      background-color: #434B5C;\n",
              "      box-shadow: 0px 1px 3px 1px rgba(0, 0, 0, 0.15);\n",
              "      filter: drop-shadow(0px 1px 2px rgba(0, 0, 0, 0.3));\n",
              "      fill: #FFFFFF;\n",
              "    }\n",
              "  </style>\n",
              "\n",
              "    <script>\n",
              "      const buttonEl =\n",
              "        document.querySelector('#df-575cb45b-5c56-4b2f-a80f-6e30f700f595 button.colab-df-convert');\n",
              "      buttonEl.style.display =\n",
              "        google.colab.kernel.accessAllowed ? 'block' : 'none';\n",
              "\n",
              "      async function convertToInteractive(key) {\n",
              "        const element = document.querySelector('#df-575cb45b-5c56-4b2f-a80f-6e30f700f595');\n",
              "        const dataTable =\n",
              "          await google.colab.kernel.invokeFunction('convertToInteractive',\n",
              "                                                    [key], {});\n",
              "        if (!dataTable) return;\n",
              "\n",
              "        const docLinkHtml = 'Like what you see? Visit the ' +\n",
              "          '<a target=\"_blank\" href=https://colab.research.google.com/notebooks/data_table.ipynb>data table notebook</a>'\n",
              "          + ' to learn more about interactive tables.';\n",
              "        element.innerHTML = '';\n",
              "        dataTable['output_type'] = 'display_data';\n",
              "        await google.colab.output.renderOutput(dataTable, element);\n",
              "        const docLink = document.createElement('div');\n",
              "        docLink.innerHTML = docLinkHtml;\n",
              "        element.appendChild(docLink);\n",
              "      }\n",
              "    </script>\n",
              "  </div>\n",
              "\n",
              "\n",
              "<div id=\"df-745b0fe8-0faa-4aeb-9c36-3ec2ad241153\">\n",
              "  <button class=\"colab-df-quickchart\" onclick=\"quickchart('df-745b0fe8-0faa-4aeb-9c36-3ec2ad241153')\"\n",
              "            title=\"Suggest charts\"\n",
              "            style=\"display:none;\">\n",
              "\n",
              "<svg xmlns=\"http://www.w3.org/2000/svg\" height=\"24px\"viewBox=\"0 0 24 24\"\n",
              "     width=\"24px\">\n",
              "    <g>\n",
              "        <path d=\"M19 3H5c-1.1 0-2 .9-2 2v14c0 1.1.9 2 2 2h14c1.1 0 2-.9 2-2V5c0-1.1-.9-2-2-2zM9 17H7v-7h2v7zm4 0h-2V7h2v10zm4 0h-2v-4h2v4z\"/>\n",
              "    </g>\n",
              "</svg>\n",
              "  </button>\n",
              "\n",
              "<style>\n",
              "  .colab-df-quickchart {\n",
              "      --bg-color: #E8F0FE;\n",
              "      --fill-color: #1967D2;\n",
              "      --hover-bg-color: #E2EBFA;\n",
              "      --hover-fill-color: #174EA6;\n",
              "      --disabled-fill-color: #AAA;\n",
              "      --disabled-bg-color: #DDD;\n",
              "  }\n",
              "\n",
              "  [theme=dark] .colab-df-quickchart {\n",
              "      --bg-color: #3B4455;\n",
              "      --fill-color: #D2E3FC;\n",
              "      --hover-bg-color: #434B5C;\n",
              "      --hover-fill-color: #FFFFFF;\n",
              "      --disabled-bg-color: #3B4455;\n",
              "      --disabled-fill-color: #666;\n",
              "  }\n",
              "\n",
              "  .colab-df-quickchart {\n",
              "    background-color: var(--bg-color);\n",
              "    border: none;\n",
              "    border-radius: 50%;\n",
              "    cursor: pointer;\n",
              "    display: none;\n",
              "    fill: var(--fill-color);\n",
              "    height: 32px;\n",
              "    padding: 0;\n",
              "    width: 32px;\n",
              "  }\n",
              "\n",
              "  .colab-df-quickchart:hover {\n",
              "    background-color: var(--hover-bg-color);\n",
              "    box-shadow: 0 1px 2px rgba(60, 64, 67, 0.3), 0 1px 3px 1px rgba(60, 64, 67, 0.15);\n",
              "    fill: var(--button-hover-fill-color);\n",
              "  }\n",
              "\n",
              "  .colab-df-quickchart-complete:disabled,\n",
              "  .colab-df-quickchart-complete:disabled:hover {\n",
              "    background-color: var(--disabled-bg-color);\n",
              "    fill: var(--disabled-fill-color);\n",
              "    box-shadow: none;\n",
              "  }\n",
              "\n",
              "  .colab-df-spinner {\n",
              "    border: 2px solid var(--fill-color);\n",
              "    border-color: transparent;\n",
              "    border-bottom-color: var(--fill-color);\n",
              "    animation:\n",
              "      spin 1s steps(1) infinite;\n",
              "  }\n",
              "\n",
              "  @keyframes spin {\n",
              "    0% {\n",
              "      border-color: transparent;\n",
              "      border-bottom-color: var(--fill-color);\n",
              "      border-left-color: var(--fill-color);\n",
              "    }\n",
              "    20% {\n",
              "      border-color: transparent;\n",
              "      border-left-color: var(--fill-color);\n",
              "      border-top-color: var(--fill-color);\n",
              "    }\n",
              "    30% {\n",
              "      border-color: transparent;\n",
              "      border-left-color: var(--fill-color);\n",
              "      border-top-color: var(--fill-color);\n",
              "      border-right-color: var(--fill-color);\n",
              "    }\n",
              "    40% {\n",
              "      border-color: transparent;\n",
              "      border-right-color: var(--fill-color);\n",
              "      border-top-color: var(--fill-color);\n",
              "    }\n",
              "    60% {\n",
              "      border-color: transparent;\n",
              "      border-right-color: var(--fill-color);\n",
              "    }\n",
              "    80% {\n",
              "      border-color: transparent;\n",
              "      border-right-color: var(--fill-color);\n",
              "      border-bottom-color: var(--fill-color);\n",
              "    }\n",
              "    90% {\n",
              "      border-color: transparent;\n",
              "      border-bottom-color: var(--fill-color);\n",
              "    }\n",
              "  }\n",
              "</style>\n",
              "\n",
              "  <script>\n",
              "    async function quickchart(key) {\n",
              "      const quickchartButtonEl =\n",
              "        document.querySelector('#' + key + ' button');\n",
              "      quickchartButtonEl.disabled = true;  // To prevent multiple clicks.\n",
              "      quickchartButtonEl.classList.add('colab-df-spinner');\n",
              "      try {\n",
              "        const charts = await google.colab.kernel.invokeFunction(\n",
              "            'suggestCharts', [key], {});\n",
              "      } catch (error) {\n",
              "        console.error('Error during call to suggestCharts:', error);\n",
              "      }\n",
              "      quickchartButtonEl.classList.remove('colab-df-spinner');\n",
              "      quickchartButtonEl.classList.add('colab-df-quickchart-complete');\n",
              "    }\n",
              "    (() => {\n",
              "      let quickchartButtonEl =\n",
              "        document.querySelector('#df-745b0fe8-0faa-4aeb-9c36-3ec2ad241153 button');\n",
              "      quickchartButtonEl.style.display =\n",
              "        google.colab.kernel.accessAllowed ? 'block' : 'none';\n",
              "    })();\n",
              "  </script>\n",
              "</div>\n",
              "\n",
              "    </div>\n",
              "  </div>\n"
            ],
            "application/vnd.google.colaboratory.intrinsic+json": {
              "type": "dataframe",
              "variable_name": "df",
              "summary": "{\n  \"name\": \"df\",\n  \"rows\": 4900,\n  \"fields\": [\n    {\n      \"column\": \"category\",\n      \"properties\": {\n        \"dtype\": \"category\",\n        \"num_unique_values\": 7,\n        \"samples\": [\n          \"teknoloji \",\n          \"spor \",\n          \"saglik \"\n        ],\n        \"semantic_type\": \"\",\n        \"description\": \"\"\n      }\n    },\n    {\n      \"column\": \"text\",\n      \"properties\": {\n        \"dtype\": \"string\",\n        \"num_unique_values\": 4539,\n        \"samples\": [\n          \" demirhan \\u015ferefhan yeniden aday oldu t\\u00fcrkiye bedensel engelliler spor federasyonu \\u0092 nda 2000 2008 aras\\u0131nda ba\\u015fkanl\\u0131k yapan gen\\u00e7 y\\u00f6netici se\\u00e7ime giriyor bedensel engelliler spor federasyonu \\u0092 nun eski ba\\u015fkan\\u0131 demirhan \\u015ferefhan yeni d\\u00f6nemde bir kez daha se\\u00e7ilmek i\\u00e7in adayl\\u0131\\u011f\\u0131n\\u0131 a\\u00e7\\u0131klad\\u0131 \\u015ferefhan 2000 2008 aras\\u0131nda federasyon ba\\u015fkanl\\u0131\\u011f\\u0131 yapm\\u0131\\u015ft\\u0131 ba\\u015fkanl\\u0131\\u011f\\u0131 d\\u00f6neminde bran\\u015f say\\u0131s\\u0131n\\u0131 3 \\u0092 ten 13 \\u0092 e \\u00e7\\u0131kard\\u0131klar\\u0131n\\u0131 belirten \\u015ferefhan \\u015funlar\\u0131 s\\u00f6yledi \\u0093 \\u00f6zellikle paralimpik say\\u0131s\\u0131n\\u0131n artmas\\u0131na \\u00f6nem verdik \\u00e7\\u00fcnk\\u00fc bunlar sporcular\\u0131m\\u0131z\\u0131n se\\u00e7ece\\u011fi lokomotif olacak bran\\u015flard\\u0131 2012 oyunlar\\u0131nda ne kadar isabetli karar verdi\\u011fimizi g\\u00f6rd\\u00fck londra \\u0092 ya giden oyuncu ve antren\\u00f6rlerin b\\u00fcy\\u00fck \\u00e7o\\u011funlu\\u011fu bizim projelerimizle spora kazand\\u0131r\\u0131lm\\u0131\\u015f isimler g\\u00f6rme ve bedensel engelli bran\\u015flar\\u0131nda 10 madalyayla d\\u00f6nen \\u00e7ocuklar\\u0131m\\u0131z bizleri gururland\\u0131rd\\u0131 \\u0094 sponsorlar artirilmali yeni projeler \\u00fcrettiklerini vurgulayan \\u015ferefhan \\u015f\\u00f6yle devam etti \\u0093 futbol ve basketbol federasyonlar\\u0131 gibi profesyonel sisteme ge\\u00e7meyi planl\\u0131yoruz sonras\\u0131nda sponsorlar\\u0131n art\\u0131r\\u0131lmas\\u0131 gerekiyor \\u0091 tek ta\\u015f p\\u0131rlanta \\u0092 diye tabir etti\\u011fimiz tekerlekli sandalye basketbolu ve ampute futbol ligimiz var bu liglerin isim haklar\\u0131yla ilgili \\u00e7al\\u0131\\u015fmalar\\u0131m\\u0131z devam ediyor ampute futbolunun paralimpik bran\\u015f olmas\\u0131 i\\u00e7in londra \\u0092 da baz\\u0131 g\\u00f6r\\u00fc\\u015fmelerimiz oldu yeni d\\u00f6nemde kul\\u00fcplerimize daha \\u00e7ok sahip \\u00e7\\u0131kaca\\u011f\\u0131z sponsor gelirlerinin malzeme ya da ayni olarak kul\\u00fcplere aktar\\u0131lmas\\u0131 \\u00e7al\\u0131\\u015fmalar\\u0131m\\u0131z var bizim ad\\u0131m\\u0131z federasyon soyad\\u0131m\\u0131z rehabilitasyon \\u0094\",\n          \" \\u00fcrd\\u00fcn de yeni h\\u00fck\\u00fcmet \\u00fcrd\\u00fcn_kral\\u0131 2 abdullah yeni h\\u00fck\\u00fcmeti kurmas\\u0131 i\\u00e7in abdullah en nasur u g\\u00f6revlendirdi kraliyet divan\\u0131 taraf\\u0131ndan yay\\u0131mlanan yaz\\u0131l\\u0131 a\\u00e7\\u0131klamada kral_abdullah \\u0131n dr abdullah en nasur u bug\\u00fcn istifas\\u0131n\\u0131 sunan eski ba\\u015fbakan fayiz taravne nin ard\\u0131ndan yeni h\\u00fck\\u00fcmeti kurmakla g\\u00f6revlendirdi\\u011fi bildirildi aa\",\n          \" m\\u00fczisyenden az kullan\\u0131lm\\u0131\\u015f saat \\u00fcnl\\u00fc m\\u00fczisyen eric clapton \\u0092 \\u0131n 67 patek philippe marka el yap\\u0131m\\u0131 isvi\\u00e7re saati al\\u0131c\\u0131s\\u0131n\\u0131 bekliyor hobi olarak ba\\u015flad\\u0131\\u011f\\u0131 koleksiyonculukta hat\\u0131r\\u0131 say\\u0131l\\u0131r bir klasik saat portf\\u00f6y\\u00fcne ula\\u015fan clapton baz\\u0131 par\\u00e7alar\\u0131 m\\u00fczayedelerde sat\\u0131\\u015fa \\u00e7\\u0131kar\\u0131yor cenevre \\u0092 de hafta sonu a\\u00e7\\u0131k art\\u0131rmaya \\u00e7\\u0131kacak bu patek philippe saatin 2 5 ila 4 milyon dolar 4 5 milyon tl ile 7 2 milyon tl aras\\u0131 bir fiyata sat\\u0131lmas\\u0131 bekleniyor\"\n        ],\n        \"semantic_type\": \"\",\n        \"description\": \"\"\n      }\n    }\n  ]\n}"
            }
          },
          "metadata": {},
          "execution_count": 5
        }
      ]
    },
    {
      "cell_type": "code",
      "source": [
        "# info\n",
        "df.info()"
      ],
      "metadata": {
        "colab": {
          "base_uri": "https://localhost:8080/"
        },
        "id": "qn5md8F3hXO2",
        "outputId": "ddf019e8-9608-456a-a40d-96523f00d163"
      },
      "execution_count": 6,
      "outputs": [
        {
          "output_type": "stream",
          "name": "stdout",
          "text": [
            "<class 'pandas.core.frame.DataFrame'>\n",
            "Index: 4900 entries, 4657 to 860\n",
            "Data columns (total 2 columns):\n",
            " #   Column    Non-Null Count  Dtype \n",
            "---  ------    --------------  ----- \n",
            " 0   category  4900 non-null   object\n",
            " 1   text      4900 non-null   object\n",
            "dtypes: object(2)\n",
            "memory usage: 114.8+ KB\n"
          ]
        }
      ]
    },
    {
      "cell_type": "code",
      "source": [
        "# df dtypes\n",
        "df.dtypes"
      ],
      "metadata": {
        "colab": {
          "base_uri": "https://localhost:8080/"
        },
        "id": "LvCUG3aqjnWs",
        "outputId": "66abc161-3f8d-4534-e64f-c3053fbdd157"
      },
      "execution_count": 7,
      "outputs": [
        {
          "output_type": "execute_result",
          "data": {
            "text/plain": [
              "category    object\n",
              "text        object\n",
              "dtype: object"
            ]
          },
          "metadata": {},
          "execution_count": 7
        }
      ]
    },
    {
      "cell_type": "code",
      "source": [
        "# null data?\n",
        "df.isnull().sum()"
      ],
      "metadata": {
        "colab": {
          "base_uri": "https://localhost:8080/"
        },
        "id": "8rcaMb1kjyzI",
        "outputId": "6f6d88c0-46b3-4468-f9f1-10e7cbefbea3"
      },
      "execution_count": 8,
      "outputs": [
        {
          "output_type": "execute_result",
          "data": {
            "text/plain": [
              "category    0\n",
              "text        0\n",
              "dtype: int64"
            ]
          },
          "metadata": {},
          "execution_count": 8
        }
      ]
    },
    {
      "cell_type": "code",
      "source": [
        "## value counts of category\n",
        "df['category'].value_counts()"
      ],
      "metadata": {
        "colab": {
          "base_uri": "https://localhost:8080/"
        },
        "id": "raKJPhPbkmps",
        "outputId": "fe8b3178-627a-47ab-9be1-10a52e7ba1db"
      },
      "execution_count": 9,
      "outputs": [
        {
          "output_type": "execute_result",
          "data": {
            "text/plain": [
              "category\n",
              "teknoloji     700\n",
              "spor          700\n",
              "dunya         700\n",
              "kultur        700\n",
              "ekonomi       700\n",
              "saglik        700\n",
              "siyaset       700\n",
              "Name: count, dtype: int64"
            ]
          },
          "metadata": {},
          "execution_count": 9
        }
      ]
    },
    {
      "cell_type": "markdown",
      "source": [
        "Summary:\n",
        "* This appears to be a very balanced dataset with all categories or labels having equal number of text entries."
      ],
      "metadata": {
        "id": "jxaeyEMUkrZg"
      }
    },
    {
      "cell_type": "markdown",
      "source": [
        "## Get the labels from the dataset"
      ],
      "metadata": {
        "id": "8_CyDiwSkdKx"
      }
    },
    {
      "cell_type": "code",
      "source": [
        "# label extract unique labels --> to a list\n",
        "labels = df['category'].unique().tolist()\n",
        "\n",
        "# Strip any white spaces from the labels via list comprehension\n",
        "labels = [l.strip() for l in labels]\n",
        "\n",
        "# print labels for classfication\n",
        "labels"
      ],
      "metadata": {
        "colab": {
          "base_uri": "https://localhost:8080/"
        },
        "id": "iINwc5ULj1MF",
        "outputId": "0b298d25-24a2-48f4-f8b0-2bc4fec2e862"
      },
      "execution_count": 10,
      "outputs": [
        {
          "output_type": "execute_result",
          "data": {
            "text/plain": [
              "['teknoloji', 'spor', 'dunya', 'kultur', 'ekonomi', 'saglik', 'siyaset']"
            ]
          },
          "metadata": {},
          "execution_count": 10
        }
      ]
    },
    {
      "cell_type": "code",
      "source": [
        "# how many labels?\n",
        "print(len(labels))"
      ],
      "metadata": {
        "colab": {
          "base_uri": "https://localhost:8080/"
        },
        "id": "Eh7y9RcflmRo",
        "outputId": "5412193c-6473-4b7a-c4cb-42fa3e831cba"
      },
      "execution_count": 11,
      "outputs": [
        {
          "output_type": "stream",
          "name": "stdout",
          "text": [
            "7\n"
          ]
        }
      ]
    },
    {
      "cell_type": "code",
      "source": [
        "# print the labels: k is the list index, v is the value\n",
        "for k,v in enumerate(labels):\n",
        "  print(v)"
      ],
      "metadata": {
        "colab": {
          "base_uri": "https://localhost:8080/"
        },
        "id": "txodFHQBlqGK",
        "outputId": "6590a613-9d84-48c3-a5d5-e508ef54c4be"
      },
      "execution_count": 12,
      "outputs": [
        {
          "output_type": "stream",
          "name": "stdout",
          "text": [
            "teknoloji\n",
            "spor\n",
            "dunya\n",
            "kultur\n",
            "ekonomi\n",
            "saglik\n",
            "siyaset\n"
          ]
        }
      ]
    },
    {
      "cell_type": "markdown",
      "source": [
        "## Create a dictionary or hash map of labels with an id\n",
        "* We need these mappings to run a huggingface pipeline.\n",
        "* We need these as the classification labels to predict the labels.\n",
        "* The reason for 2 dictionaries:\n",
        "    * 1. label2id --> this is so we can convert the labels to numeric form for deep learning transformers.\n",
        "    * 2. id2labels --> we then need to be able to convert the numeric representations back to interpretable results which are the actual text label classification.\n",
        "* BertForSequenceClassification\n",
        "  * This is the HuggingFace model we are using.\n",
        "  * The model requires the data input in this form: https://huggingface.co/transformers/v3.0.2/model_doc/bert.html#bertforsequenceclassification"
      ],
      "metadata": {
        "id": "wKRjwXdRnJ2q"
      }
    },
    {
      "cell_type": "code",
      "source": [
        "# set the number of labels we need\n",
        "NUM_LABELS = len(labels)\n",
        "\n",
        "# id to label dictionary comprehension\n",
        "id2label = {id:label for id,label in enumerate(labels)}\n",
        "\n",
        "# label to id dictionary comprehension\n",
        "label2id = {label:id for id, label in enumerate(labels)}"
      ],
      "metadata": {
        "id": "BVbwJB6tl4gW"
      },
      "execution_count": 13,
      "outputs": []
    },
    {
      "cell_type": "code",
      "source": [
        "# print the labels to id dictionary\n",
        "label2id"
      ],
      "metadata": {
        "colab": {
          "base_uri": "https://localhost:8080/"
        },
        "id": "L7qy21xDnzzW",
        "outputId": "cab0b978-daa7-42e5-a0ee-6dc69f0c6331"
      },
      "execution_count": 14,
      "outputs": [
        {
          "output_type": "execute_result",
          "data": {
            "text/plain": [
              "{'teknoloji': 0,\n",
              " 'spor': 1,\n",
              " 'dunya': 2,\n",
              " 'kultur': 3,\n",
              " 'ekonomi': 4,\n",
              " 'saglik': 5,\n",
              " 'siyaset': 6}"
            ]
          },
          "metadata": {},
          "execution_count": 14
        }
      ]
    },
    {
      "cell_type": "code",
      "source": [
        "## print id to labels\n",
        "id2label"
      ],
      "metadata": {
        "colab": {
          "base_uri": "https://localhost:8080/"
        },
        "id": "0IcHMk3Pn3SE",
        "outputId": "8ea30341-9124-406a-dbf1-f1a4dc058841"
      },
      "execution_count": 15,
      "outputs": [
        {
          "output_type": "execute_result",
          "data": {
            "text/plain": [
              "{0: 'teknoloji',\n",
              " 1: 'spor',\n",
              " 2: 'dunya',\n",
              " 3: 'kultur',\n",
              " 4: 'ekonomi',\n",
              " 5: 'saglik',\n",
              " 6: 'siyaset'}"
            ]
          },
          "metadata": {},
          "execution_count": 15
        }
      ]
    },
    {
      "cell_type": "markdown",
      "source": [
        "## Create new column for numerical category representation"
      ],
      "metadata": {
        "id": "5BLt6c9g2tM8"
      }
    },
    {
      "cell_type": "code",
      "source": [
        "## reminder of df\n",
        "df.head()"
      ],
      "metadata": {
        "colab": {
          "base_uri": "https://localhost:8080/",
          "height": 206
        },
        "id": "YH8Q6mZh27aF",
        "outputId": "1f042235-377e-4521-c4fb-02633da80b63"
      },
      "execution_count": 16,
      "outputs": [
        {
          "output_type": "execute_result",
          "data": {
            "text/plain": [
              "        category                                               text\n",
              "4657  teknoloji    acıların kedisi sam çatık kaşlı kedi sam in i...\n",
              "3539       spor    g saray a git santos van_persie den forma ala...\n",
              "907       dunya    endonezya da çatışmalar 14 ölü endonezya da i...\n",
              "4353  teknoloji    emniyetten polis logolu virüs uyarısı telefon...\n",
              "3745       spor    beni türk yapın cristian_baroni yıldırım dan ..."
            ],
            "text/html": [
              "\n",
              "  <div id=\"df-f2933c05-3fa7-4205-a8b6-66c4391779e1\" class=\"colab-df-container\">\n",
              "    <div>\n",
              "<style scoped>\n",
              "    .dataframe tbody tr th:only-of-type {\n",
              "        vertical-align: middle;\n",
              "    }\n",
              "\n",
              "    .dataframe tbody tr th {\n",
              "        vertical-align: top;\n",
              "    }\n",
              "\n",
              "    .dataframe thead th {\n",
              "        text-align: right;\n",
              "    }\n",
              "</style>\n",
              "<table border=\"1\" class=\"dataframe\">\n",
              "  <thead>\n",
              "    <tr style=\"text-align: right;\">\n",
              "      <th></th>\n",
              "      <th>category</th>\n",
              "      <th>text</th>\n",
              "    </tr>\n",
              "  </thead>\n",
              "  <tbody>\n",
              "    <tr>\n",
              "      <th>4657</th>\n",
              "      <td>teknoloji</td>\n",
              "      <td>acıların kedisi sam çatık kaşlı kedi sam in i...</td>\n",
              "    </tr>\n",
              "    <tr>\n",
              "      <th>3539</th>\n",
              "      <td>spor</td>\n",
              "      <td>g saray a git santos van_persie den forma ala...</td>\n",
              "    </tr>\n",
              "    <tr>\n",
              "      <th>907</th>\n",
              "      <td>dunya</td>\n",
              "      <td>endonezya da çatışmalar 14 ölü endonezya da i...</td>\n",
              "    </tr>\n",
              "    <tr>\n",
              "      <th>4353</th>\n",
              "      <td>teknoloji</td>\n",
              "      <td>emniyetten polis logolu virüs uyarısı telefon...</td>\n",
              "    </tr>\n",
              "    <tr>\n",
              "      <th>3745</th>\n",
              "      <td>spor</td>\n",
              "      <td>beni türk yapın cristian_baroni yıldırım dan ...</td>\n",
              "    </tr>\n",
              "  </tbody>\n",
              "</table>\n",
              "</div>\n",
              "    <div class=\"colab-df-buttons\">\n",
              "\n",
              "  <div class=\"colab-df-container\">\n",
              "    <button class=\"colab-df-convert\" onclick=\"convertToInteractive('df-f2933c05-3fa7-4205-a8b6-66c4391779e1')\"\n",
              "            title=\"Convert this dataframe to an interactive table.\"\n",
              "            style=\"display:none;\">\n",
              "\n",
              "  <svg xmlns=\"http://www.w3.org/2000/svg\" height=\"24px\" viewBox=\"0 -960 960 960\">\n",
              "    <path d=\"M120-120v-720h720v720H120Zm60-500h600v-160H180v160Zm220 220h160v-160H400v160Zm0 220h160v-160H400v160ZM180-400h160v-160H180v160Zm440 0h160v-160H620v160ZM180-180h160v-160H180v160Zm440 0h160v-160H620v160Z\"/>\n",
              "  </svg>\n",
              "    </button>\n",
              "\n",
              "  <style>\n",
              "    .colab-df-container {\n",
              "      display:flex;\n",
              "      gap: 12px;\n",
              "    }\n",
              "\n",
              "    .colab-df-convert {\n",
              "      background-color: #E8F0FE;\n",
              "      border: none;\n",
              "      border-radius: 50%;\n",
              "      cursor: pointer;\n",
              "      display: none;\n",
              "      fill: #1967D2;\n",
              "      height: 32px;\n",
              "      padding: 0 0 0 0;\n",
              "      width: 32px;\n",
              "    }\n",
              "\n",
              "    .colab-df-convert:hover {\n",
              "      background-color: #E2EBFA;\n",
              "      box-shadow: 0px 1px 2px rgba(60, 64, 67, 0.3), 0px 1px 3px 1px rgba(60, 64, 67, 0.15);\n",
              "      fill: #174EA6;\n",
              "    }\n",
              "\n",
              "    .colab-df-buttons div {\n",
              "      margin-bottom: 4px;\n",
              "    }\n",
              "\n",
              "    [theme=dark] .colab-df-convert {\n",
              "      background-color: #3B4455;\n",
              "      fill: #D2E3FC;\n",
              "    }\n",
              "\n",
              "    [theme=dark] .colab-df-convert:hover {\n",
              "      background-color: #434B5C;\n",
              "      box-shadow: 0px 1px 3px 1px rgba(0, 0, 0, 0.15);\n",
              "      filter: drop-shadow(0px 1px 2px rgba(0, 0, 0, 0.3));\n",
              "      fill: #FFFFFF;\n",
              "    }\n",
              "  </style>\n",
              "\n",
              "    <script>\n",
              "      const buttonEl =\n",
              "        document.querySelector('#df-f2933c05-3fa7-4205-a8b6-66c4391779e1 button.colab-df-convert');\n",
              "      buttonEl.style.display =\n",
              "        google.colab.kernel.accessAllowed ? 'block' : 'none';\n",
              "\n",
              "      async function convertToInteractive(key) {\n",
              "        const element = document.querySelector('#df-f2933c05-3fa7-4205-a8b6-66c4391779e1');\n",
              "        const dataTable =\n",
              "          await google.colab.kernel.invokeFunction('convertToInteractive',\n",
              "                                                    [key], {});\n",
              "        if (!dataTable) return;\n",
              "\n",
              "        const docLinkHtml = 'Like what you see? Visit the ' +\n",
              "          '<a target=\"_blank\" href=https://colab.research.google.com/notebooks/data_table.ipynb>data table notebook</a>'\n",
              "          + ' to learn more about interactive tables.';\n",
              "        element.innerHTML = '';\n",
              "        dataTable['output_type'] = 'display_data';\n",
              "        await google.colab.output.renderOutput(dataTable, element);\n",
              "        const docLink = document.createElement('div');\n",
              "        docLink.innerHTML = docLinkHtml;\n",
              "        element.appendChild(docLink);\n",
              "      }\n",
              "    </script>\n",
              "  </div>\n",
              "\n",
              "\n",
              "<div id=\"df-9bd425b5-ec9f-4166-bfd9-03e44981c099\">\n",
              "  <button class=\"colab-df-quickchart\" onclick=\"quickchart('df-9bd425b5-ec9f-4166-bfd9-03e44981c099')\"\n",
              "            title=\"Suggest charts\"\n",
              "            style=\"display:none;\">\n",
              "\n",
              "<svg xmlns=\"http://www.w3.org/2000/svg\" height=\"24px\"viewBox=\"0 0 24 24\"\n",
              "     width=\"24px\">\n",
              "    <g>\n",
              "        <path d=\"M19 3H5c-1.1 0-2 .9-2 2v14c0 1.1.9 2 2 2h14c1.1 0 2-.9 2-2V5c0-1.1-.9-2-2-2zM9 17H7v-7h2v7zm4 0h-2V7h2v10zm4 0h-2v-4h2v4z\"/>\n",
              "    </g>\n",
              "</svg>\n",
              "  </button>\n",
              "\n",
              "<style>\n",
              "  .colab-df-quickchart {\n",
              "      --bg-color: #E8F0FE;\n",
              "      --fill-color: #1967D2;\n",
              "      --hover-bg-color: #E2EBFA;\n",
              "      --hover-fill-color: #174EA6;\n",
              "      --disabled-fill-color: #AAA;\n",
              "      --disabled-bg-color: #DDD;\n",
              "  }\n",
              "\n",
              "  [theme=dark] .colab-df-quickchart {\n",
              "      --bg-color: #3B4455;\n",
              "      --fill-color: #D2E3FC;\n",
              "      --hover-bg-color: #434B5C;\n",
              "      --hover-fill-color: #FFFFFF;\n",
              "      --disabled-bg-color: #3B4455;\n",
              "      --disabled-fill-color: #666;\n",
              "  }\n",
              "\n",
              "  .colab-df-quickchart {\n",
              "    background-color: var(--bg-color);\n",
              "    border: none;\n",
              "    border-radius: 50%;\n",
              "    cursor: pointer;\n",
              "    display: none;\n",
              "    fill: var(--fill-color);\n",
              "    height: 32px;\n",
              "    padding: 0;\n",
              "    width: 32px;\n",
              "  }\n",
              "\n",
              "  .colab-df-quickchart:hover {\n",
              "    background-color: var(--hover-bg-color);\n",
              "    box-shadow: 0 1px 2px rgba(60, 64, 67, 0.3), 0 1px 3px 1px rgba(60, 64, 67, 0.15);\n",
              "    fill: var(--button-hover-fill-color);\n",
              "  }\n",
              "\n",
              "  .colab-df-quickchart-complete:disabled,\n",
              "  .colab-df-quickchart-complete:disabled:hover {\n",
              "    background-color: var(--disabled-bg-color);\n",
              "    fill: var(--disabled-fill-color);\n",
              "    box-shadow: none;\n",
              "  }\n",
              "\n",
              "  .colab-df-spinner {\n",
              "    border: 2px solid var(--fill-color);\n",
              "    border-color: transparent;\n",
              "    border-bottom-color: var(--fill-color);\n",
              "    animation:\n",
              "      spin 1s steps(1) infinite;\n",
              "  }\n",
              "\n",
              "  @keyframes spin {\n",
              "    0% {\n",
              "      border-color: transparent;\n",
              "      border-bottom-color: var(--fill-color);\n",
              "      border-left-color: var(--fill-color);\n",
              "    }\n",
              "    20% {\n",
              "      border-color: transparent;\n",
              "      border-left-color: var(--fill-color);\n",
              "      border-top-color: var(--fill-color);\n",
              "    }\n",
              "    30% {\n",
              "      border-color: transparent;\n",
              "      border-left-color: var(--fill-color);\n",
              "      border-top-color: var(--fill-color);\n",
              "      border-right-color: var(--fill-color);\n",
              "    }\n",
              "    40% {\n",
              "      border-color: transparent;\n",
              "      border-right-color: var(--fill-color);\n",
              "      border-top-color: var(--fill-color);\n",
              "    }\n",
              "    60% {\n",
              "      border-color: transparent;\n",
              "      border-right-color: var(--fill-color);\n",
              "    }\n",
              "    80% {\n",
              "      border-color: transparent;\n",
              "      border-right-color: var(--fill-color);\n",
              "      border-bottom-color: var(--fill-color);\n",
              "    }\n",
              "    90% {\n",
              "      border-color: transparent;\n",
              "      border-bottom-color: var(--fill-color);\n",
              "    }\n",
              "  }\n",
              "</style>\n",
              "\n",
              "  <script>\n",
              "    async function quickchart(key) {\n",
              "      const quickchartButtonEl =\n",
              "        document.querySelector('#' + key + ' button');\n",
              "      quickchartButtonEl.disabled = true;  // To prevent multiple clicks.\n",
              "      quickchartButtonEl.classList.add('colab-df-spinner');\n",
              "      try {\n",
              "        const charts = await google.colab.kernel.invokeFunction(\n",
              "            'suggestCharts', [key], {});\n",
              "      } catch (error) {\n",
              "        console.error('Error during call to suggestCharts:', error);\n",
              "      }\n",
              "      quickchartButtonEl.classList.remove('colab-df-spinner');\n",
              "      quickchartButtonEl.classList.add('colab-df-quickchart-complete');\n",
              "    }\n",
              "    (() => {\n",
              "      let quickchartButtonEl =\n",
              "        document.querySelector('#df-9bd425b5-ec9f-4166-bfd9-03e44981c099 button');\n",
              "      quickchartButtonEl.style.display =\n",
              "        google.colab.kernel.accessAllowed ? 'block' : 'none';\n",
              "    })();\n",
              "  </script>\n",
              "</div>\n",
              "\n",
              "    </div>\n",
              "  </div>\n"
            ],
            "application/vnd.google.colaboratory.intrinsic+json": {
              "type": "dataframe",
              "variable_name": "df",
              "summary": "{\n  \"name\": \"df\",\n  \"rows\": 4900,\n  \"fields\": [\n    {\n      \"column\": \"category\",\n      \"properties\": {\n        \"dtype\": \"category\",\n        \"num_unique_values\": 7,\n        \"samples\": [\n          \"teknoloji \",\n          \"spor \",\n          \"saglik \"\n        ],\n        \"semantic_type\": \"\",\n        \"description\": \"\"\n      }\n    },\n    {\n      \"column\": \"text\",\n      \"properties\": {\n        \"dtype\": \"string\",\n        \"num_unique_values\": 4539,\n        \"samples\": [\n          \" demirhan \\u015ferefhan yeniden aday oldu t\\u00fcrkiye bedensel engelliler spor federasyonu \\u0092 nda 2000 2008 aras\\u0131nda ba\\u015fkanl\\u0131k yapan gen\\u00e7 y\\u00f6netici se\\u00e7ime giriyor bedensel engelliler spor federasyonu \\u0092 nun eski ba\\u015fkan\\u0131 demirhan \\u015ferefhan yeni d\\u00f6nemde bir kez daha se\\u00e7ilmek i\\u00e7in adayl\\u0131\\u011f\\u0131n\\u0131 a\\u00e7\\u0131klad\\u0131 \\u015ferefhan 2000 2008 aras\\u0131nda federasyon ba\\u015fkanl\\u0131\\u011f\\u0131 yapm\\u0131\\u015ft\\u0131 ba\\u015fkanl\\u0131\\u011f\\u0131 d\\u00f6neminde bran\\u015f say\\u0131s\\u0131n\\u0131 3 \\u0092 ten 13 \\u0092 e \\u00e7\\u0131kard\\u0131klar\\u0131n\\u0131 belirten \\u015ferefhan \\u015funlar\\u0131 s\\u00f6yledi \\u0093 \\u00f6zellikle paralimpik say\\u0131s\\u0131n\\u0131n artmas\\u0131na \\u00f6nem verdik \\u00e7\\u00fcnk\\u00fc bunlar sporcular\\u0131m\\u0131z\\u0131n se\\u00e7ece\\u011fi lokomotif olacak bran\\u015flard\\u0131 2012 oyunlar\\u0131nda ne kadar isabetli karar verdi\\u011fimizi g\\u00f6rd\\u00fck londra \\u0092 ya giden oyuncu ve antren\\u00f6rlerin b\\u00fcy\\u00fck \\u00e7o\\u011funlu\\u011fu bizim projelerimizle spora kazand\\u0131r\\u0131lm\\u0131\\u015f isimler g\\u00f6rme ve bedensel engelli bran\\u015flar\\u0131nda 10 madalyayla d\\u00f6nen \\u00e7ocuklar\\u0131m\\u0131z bizleri gururland\\u0131rd\\u0131 \\u0094 sponsorlar artirilmali yeni projeler \\u00fcrettiklerini vurgulayan \\u015ferefhan \\u015f\\u00f6yle devam etti \\u0093 futbol ve basketbol federasyonlar\\u0131 gibi profesyonel sisteme ge\\u00e7meyi planl\\u0131yoruz sonras\\u0131nda sponsorlar\\u0131n art\\u0131r\\u0131lmas\\u0131 gerekiyor \\u0091 tek ta\\u015f p\\u0131rlanta \\u0092 diye tabir etti\\u011fimiz tekerlekli sandalye basketbolu ve ampute futbol ligimiz var bu liglerin isim haklar\\u0131yla ilgili \\u00e7al\\u0131\\u015fmalar\\u0131m\\u0131z devam ediyor ampute futbolunun paralimpik bran\\u015f olmas\\u0131 i\\u00e7in londra \\u0092 da baz\\u0131 g\\u00f6r\\u00fc\\u015fmelerimiz oldu yeni d\\u00f6nemde kul\\u00fcplerimize daha \\u00e7ok sahip \\u00e7\\u0131kaca\\u011f\\u0131z sponsor gelirlerinin malzeme ya da ayni olarak kul\\u00fcplere aktar\\u0131lmas\\u0131 \\u00e7al\\u0131\\u015fmalar\\u0131m\\u0131z var bizim ad\\u0131m\\u0131z federasyon soyad\\u0131m\\u0131z rehabilitasyon \\u0094\",\n          \" \\u00fcrd\\u00fcn de yeni h\\u00fck\\u00fcmet \\u00fcrd\\u00fcn_kral\\u0131 2 abdullah yeni h\\u00fck\\u00fcmeti kurmas\\u0131 i\\u00e7in abdullah en nasur u g\\u00f6revlendirdi kraliyet divan\\u0131 taraf\\u0131ndan yay\\u0131mlanan yaz\\u0131l\\u0131 a\\u00e7\\u0131klamada kral_abdullah \\u0131n dr abdullah en nasur u bug\\u00fcn istifas\\u0131n\\u0131 sunan eski ba\\u015fbakan fayiz taravne nin ard\\u0131ndan yeni h\\u00fck\\u00fcmeti kurmakla g\\u00f6revlendirdi\\u011fi bildirildi aa\",\n          \" m\\u00fczisyenden az kullan\\u0131lm\\u0131\\u015f saat \\u00fcnl\\u00fc m\\u00fczisyen eric clapton \\u0092 \\u0131n 67 patek philippe marka el yap\\u0131m\\u0131 isvi\\u00e7re saati al\\u0131c\\u0131s\\u0131n\\u0131 bekliyor hobi olarak ba\\u015flad\\u0131\\u011f\\u0131 koleksiyonculukta hat\\u0131r\\u0131 say\\u0131l\\u0131r bir klasik saat portf\\u00f6y\\u00fcne ula\\u015fan clapton baz\\u0131 par\\u00e7alar\\u0131 m\\u00fczayedelerde sat\\u0131\\u015fa \\u00e7\\u0131kar\\u0131yor cenevre \\u0092 de hafta sonu a\\u00e7\\u0131k art\\u0131rmaya \\u00e7\\u0131kacak bu patek philippe saatin 2 5 ila 4 milyon dolar 4 5 milyon tl ile 7 2 milyon tl aras\\u0131 bir fiyata sat\\u0131lmas\\u0131 bekleniyor\"\n        ],\n        \"semantic_type\": \"\",\n        \"description\": \"\"\n      }\n    }\n  ]\n}"
            }
          },
          "metadata": {},
          "execution_count": 16
        }
      ]
    },
    {
      "cell_type": "code",
      "source": [
        "# can also do this with pd.factorize pandas method: https://pandas.pydata.org/docs/reference/api/pandas.factorize.html\n",
        "# df['labels'] = pd.factorize(df['category'])[0]"
      ],
      "metadata": {
        "id": "JKlmaz1N3P8N"
      },
      "execution_count": 17,
      "outputs": []
    },
    {
      "cell_type": "code",
      "source": [
        "# create new column --> lambda function to strip labels/spaces and apply numeric code\n",
        "df['labels'] = df['category'].map(lambda x: label2id[x.strip()])"
      ],
      "metadata": {
        "id": "tcNROiPsoB0m"
      },
      "execution_count": 18,
      "outputs": []
    },
    {
      "cell_type": "code",
      "source": [
        "## look at new column\n",
        "df.head()"
      ],
      "metadata": {
        "colab": {
          "base_uri": "https://localhost:8080/",
          "height": 206
        },
        "id": "Tf5huL8Y3Jz-",
        "outputId": "e3dc0f6a-f412-4fec-f7dc-acc8bfe8707f"
      },
      "execution_count": 19,
      "outputs": [
        {
          "output_type": "execute_result",
          "data": {
            "text/plain": [
              "        category                                               text  labels\n",
              "4657  teknoloji    acıların kedisi sam çatık kaşlı kedi sam in i...       0\n",
              "3539       spor    g saray a git santos van_persie den forma ala...       1\n",
              "907       dunya    endonezya da çatışmalar 14 ölü endonezya da i...       2\n",
              "4353  teknoloji    emniyetten polis logolu virüs uyarısı telefon...       0\n",
              "3745       spor    beni türk yapın cristian_baroni yıldırım dan ...       1"
            ],
            "text/html": [
              "\n",
              "  <div id=\"df-8410f544-3ce4-49a9-af2f-d75d6b638b30\" class=\"colab-df-container\">\n",
              "    <div>\n",
              "<style scoped>\n",
              "    .dataframe tbody tr th:only-of-type {\n",
              "        vertical-align: middle;\n",
              "    }\n",
              "\n",
              "    .dataframe tbody tr th {\n",
              "        vertical-align: top;\n",
              "    }\n",
              "\n",
              "    .dataframe thead th {\n",
              "        text-align: right;\n",
              "    }\n",
              "</style>\n",
              "<table border=\"1\" class=\"dataframe\">\n",
              "  <thead>\n",
              "    <tr style=\"text-align: right;\">\n",
              "      <th></th>\n",
              "      <th>category</th>\n",
              "      <th>text</th>\n",
              "      <th>labels</th>\n",
              "    </tr>\n",
              "  </thead>\n",
              "  <tbody>\n",
              "    <tr>\n",
              "      <th>4657</th>\n",
              "      <td>teknoloji</td>\n",
              "      <td>acıların kedisi sam çatık kaşlı kedi sam in i...</td>\n",
              "      <td>0</td>\n",
              "    </tr>\n",
              "    <tr>\n",
              "      <th>3539</th>\n",
              "      <td>spor</td>\n",
              "      <td>g saray a git santos van_persie den forma ala...</td>\n",
              "      <td>1</td>\n",
              "    </tr>\n",
              "    <tr>\n",
              "      <th>907</th>\n",
              "      <td>dunya</td>\n",
              "      <td>endonezya da çatışmalar 14 ölü endonezya da i...</td>\n",
              "      <td>2</td>\n",
              "    </tr>\n",
              "    <tr>\n",
              "      <th>4353</th>\n",
              "      <td>teknoloji</td>\n",
              "      <td>emniyetten polis logolu virüs uyarısı telefon...</td>\n",
              "      <td>0</td>\n",
              "    </tr>\n",
              "    <tr>\n",
              "      <th>3745</th>\n",
              "      <td>spor</td>\n",
              "      <td>beni türk yapın cristian_baroni yıldırım dan ...</td>\n",
              "      <td>1</td>\n",
              "    </tr>\n",
              "  </tbody>\n",
              "</table>\n",
              "</div>\n",
              "    <div class=\"colab-df-buttons\">\n",
              "\n",
              "  <div class=\"colab-df-container\">\n",
              "    <button class=\"colab-df-convert\" onclick=\"convertToInteractive('df-8410f544-3ce4-49a9-af2f-d75d6b638b30')\"\n",
              "            title=\"Convert this dataframe to an interactive table.\"\n",
              "            style=\"display:none;\">\n",
              "\n",
              "  <svg xmlns=\"http://www.w3.org/2000/svg\" height=\"24px\" viewBox=\"0 -960 960 960\">\n",
              "    <path d=\"M120-120v-720h720v720H120Zm60-500h600v-160H180v160Zm220 220h160v-160H400v160Zm0 220h160v-160H400v160ZM180-400h160v-160H180v160Zm440 0h160v-160H620v160ZM180-180h160v-160H180v160Zm440 0h160v-160H620v160Z\"/>\n",
              "  </svg>\n",
              "    </button>\n",
              "\n",
              "  <style>\n",
              "    .colab-df-container {\n",
              "      display:flex;\n",
              "      gap: 12px;\n",
              "    }\n",
              "\n",
              "    .colab-df-convert {\n",
              "      background-color: #E8F0FE;\n",
              "      border: none;\n",
              "      border-radius: 50%;\n",
              "      cursor: pointer;\n",
              "      display: none;\n",
              "      fill: #1967D2;\n",
              "      height: 32px;\n",
              "      padding: 0 0 0 0;\n",
              "      width: 32px;\n",
              "    }\n",
              "\n",
              "    .colab-df-convert:hover {\n",
              "      background-color: #E2EBFA;\n",
              "      box-shadow: 0px 1px 2px rgba(60, 64, 67, 0.3), 0px 1px 3px 1px rgba(60, 64, 67, 0.15);\n",
              "      fill: #174EA6;\n",
              "    }\n",
              "\n",
              "    .colab-df-buttons div {\n",
              "      margin-bottom: 4px;\n",
              "    }\n",
              "\n",
              "    [theme=dark] .colab-df-convert {\n",
              "      background-color: #3B4455;\n",
              "      fill: #D2E3FC;\n",
              "    }\n",
              "\n",
              "    [theme=dark] .colab-df-convert:hover {\n",
              "      background-color: #434B5C;\n",
              "      box-shadow: 0px 1px 3px 1px rgba(0, 0, 0, 0.15);\n",
              "      filter: drop-shadow(0px 1px 2px rgba(0, 0, 0, 0.3));\n",
              "      fill: #FFFFFF;\n",
              "    }\n",
              "  </style>\n",
              "\n",
              "    <script>\n",
              "      const buttonEl =\n",
              "        document.querySelector('#df-8410f544-3ce4-49a9-af2f-d75d6b638b30 button.colab-df-convert');\n",
              "      buttonEl.style.display =\n",
              "        google.colab.kernel.accessAllowed ? 'block' : 'none';\n",
              "\n",
              "      async function convertToInteractive(key) {\n",
              "        const element = document.querySelector('#df-8410f544-3ce4-49a9-af2f-d75d6b638b30');\n",
              "        const dataTable =\n",
              "          await google.colab.kernel.invokeFunction('convertToInteractive',\n",
              "                                                    [key], {});\n",
              "        if (!dataTable) return;\n",
              "\n",
              "        const docLinkHtml = 'Like what you see? Visit the ' +\n",
              "          '<a target=\"_blank\" href=https://colab.research.google.com/notebooks/data_table.ipynb>data table notebook</a>'\n",
              "          + ' to learn more about interactive tables.';\n",
              "        element.innerHTML = '';\n",
              "        dataTable['output_type'] = 'display_data';\n",
              "        await google.colab.output.renderOutput(dataTable, element);\n",
              "        const docLink = document.createElement('div');\n",
              "        docLink.innerHTML = docLinkHtml;\n",
              "        element.appendChild(docLink);\n",
              "      }\n",
              "    </script>\n",
              "  </div>\n",
              "\n",
              "\n",
              "<div id=\"df-114b383f-f050-41e0-946b-63cd0395d914\">\n",
              "  <button class=\"colab-df-quickchart\" onclick=\"quickchart('df-114b383f-f050-41e0-946b-63cd0395d914')\"\n",
              "            title=\"Suggest charts\"\n",
              "            style=\"display:none;\">\n",
              "\n",
              "<svg xmlns=\"http://www.w3.org/2000/svg\" height=\"24px\"viewBox=\"0 0 24 24\"\n",
              "     width=\"24px\">\n",
              "    <g>\n",
              "        <path d=\"M19 3H5c-1.1 0-2 .9-2 2v14c0 1.1.9 2 2 2h14c1.1 0 2-.9 2-2V5c0-1.1-.9-2-2-2zM9 17H7v-7h2v7zm4 0h-2V7h2v10zm4 0h-2v-4h2v4z\"/>\n",
              "    </g>\n",
              "</svg>\n",
              "  </button>\n",
              "\n",
              "<style>\n",
              "  .colab-df-quickchart {\n",
              "      --bg-color: #E8F0FE;\n",
              "      --fill-color: #1967D2;\n",
              "      --hover-bg-color: #E2EBFA;\n",
              "      --hover-fill-color: #174EA6;\n",
              "      --disabled-fill-color: #AAA;\n",
              "      --disabled-bg-color: #DDD;\n",
              "  }\n",
              "\n",
              "  [theme=dark] .colab-df-quickchart {\n",
              "      --bg-color: #3B4455;\n",
              "      --fill-color: #D2E3FC;\n",
              "      --hover-bg-color: #434B5C;\n",
              "      --hover-fill-color: #FFFFFF;\n",
              "      --disabled-bg-color: #3B4455;\n",
              "      --disabled-fill-color: #666;\n",
              "  }\n",
              "\n",
              "  .colab-df-quickchart {\n",
              "    background-color: var(--bg-color);\n",
              "    border: none;\n",
              "    border-radius: 50%;\n",
              "    cursor: pointer;\n",
              "    display: none;\n",
              "    fill: var(--fill-color);\n",
              "    height: 32px;\n",
              "    padding: 0;\n",
              "    width: 32px;\n",
              "  }\n",
              "\n",
              "  .colab-df-quickchart:hover {\n",
              "    background-color: var(--hover-bg-color);\n",
              "    box-shadow: 0 1px 2px rgba(60, 64, 67, 0.3), 0 1px 3px 1px rgba(60, 64, 67, 0.15);\n",
              "    fill: var(--button-hover-fill-color);\n",
              "  }\n",
              "\n",
              "  .colab-df-quickchart-complete:disabled,\n",
              "  .colab-df-quickchart-complete:disabled:hover {\n",
              "    background-color: var(--disabled-bg-color);\n",
              "    fill: var(--disabled-fill-color);\n",
              "    box-shadow: none;\n",
              "  }\n",
              "\n",
              "  .colab-df-spinner {\n",
              "    border: 2px solid var(--fill-color);\n",
              "    border-color: transparent;\n",
              "    border-bottom-color: var(--fill-color);\n",
              "    animation:\n",
              "      spin 1s steps(1) infinite;\n",
              "  }\n",
              "\n",
              "  @keyframes spin {\n",
              "    0% {\n",
              "      border-color: transparent;\n",
              "      border-bottom-color: var(--fill-color);\n",
              "      border-left-color: var(--fill-color);\n",
              "    }\n",
              "    20% {\n",
              "      border-color: transparent;\n",
              "      border-left-color: var(--fill-color);\n",
              "      border-top-color: var(--fill-color);\n",
              "    }\n",
              "    30% {\n",
              "      border-color: transparent;\n",
              "      border-left-color: var(--fill-color);\n",
              "      border-top-color: var(--fill-color);\n",
              "      border-right-color: var(--fill-color);\n",
              "    }\n",
              "    40% {\n",
              "      border-color: transparent;\n",
              "      border-right-color: var(--fill-color);\n",
              "      border-top-color: var(--fill-color);\n",
              "    }\n",
              "    60% {\n",
              "      border-color: transparent;\n",
              "      border-right-color: var(--fill-color);\n",
              "    }\n",
              "    80% {\n",
              "      border-color: transparent;\n",
              "      border-right-color: var(--fill-color);\n",
              "      border-bottom-color: var(--fill-color);\n",
              "    }\n",
              "    90% {\n",
              "      border-color: transparent;\n",
              "      border-bottom-color: var(--fill-color);\n",
              "    }\n",
              "  }\n",
              "</style>\n",
              "\n",
              "  <script>\n",
              "    async function quickchart(key) {\n",
              "      const quickchartButtonEl =\n",
              "        document.querySelector('#' + key + ' button');\n",
              "      quickchartButtonEl.disabled = true;  // To prevent multiple clicks.\n",
              "      quickchartButtonEl.classList.add('colab-df-spinner');\n",
              "      try {\n",
              "        const charts = await google.colab.kernel.invokeFunction(\n",
              "            'suggestCharts', [key], {});\n",
              "      } catch (error) {\n",
              "        console.error('Error during call to suggestCharts:', error);\n",
              "      }\n",
              "      quickchartButtonEl.classList.remove('colab-df-spinner');\n",
              "      quickchartButtonEl.classList.add('colab-df-quickchart-complete');\n",
              "    }\n",
              "    (() => {\n",
              "      let quickchartButtonEl =\n",
              "        document.querySelector('#df-114b383f-f050-41e0-946b-63cd0395d914 button');\n",
              "      quickchartButtonEl.style.display =\n",
              "        google.colab.kernel.accessAllowed ? 'block' : 'none';\n",
              "    })();\n",
              "  </script>\n",
              "</div>\n",
              "\n",
              "    </div>\n",
              "  </div>\n"
            ],
            "application/vnd.google.colaboratory.intrinsic+json": {
              "type": "dataframe",
              "variable_name": "df",
              "summary": "{\n  \"name\": \"df\",\n  \"rows\": 4900,\n  \"fields\": [\n    {\n      \"column\": \"category\",\n      \"properties\": {\n        \"dtype\": \"category\",\n        \"num_unique_values\": 7,\n        \"samples\": [\n          \"teknoloji \",\n          \"spor \",\n          \"saglik \"\n        ],\n        \"semantic_type\": \"\",\n        \"description\": \"\"\n      }\n    },\n    {\n      \"column\": \"text\",\n      \"properties\": {\n        \"dtype\": \"string\",\n        \"num_unique_values\": 4539,\n        \"samples\": [\n          \" demirhan \\u015ferefhan yeniden aday oldu t\\u00fcrkiye bedensel engelliler spor federasyonu \\u0092 nda 2000 2008 aras\\u0131nda ba\\u015fkanl\\u0131k yapan gen\\u00e7 y\\u00f6netici se\\u00e7ime giriyor bedensel engelliler spor federasyonu \\u0092 nun eski ba\\u015fkan\\u0131 demirhan \\u015ferefhan yeni d\\u00f6nemde bir kez daha se\\u00e7ilmek i\\u00e7in adayl\\u0131\\u011f\\u0131n\\u0131 a\\u00e7\\u0131klad\\u0131 \\u015ferefhan 2000 2008 aras\\u0131nda federasyon ba\\u015fkanl\\u0131\\u011f\\u0131 yapm\\u0131\\u015ft\\u0131 ba\\u015fkanl\\u0131\\u011f\\u0131 d\\u00f6neminde bran\\u015f say\\u0131s\\u0131n\\u0131 3 \\u0092 ten 13 \\u0092 e \\u00e7\\u0131kard\\u0131klar\\u0131n\\u0131 belirten \\u015ferefhan \\u015funlar\\u0131 s\\u00f6yledi \\u0093 \\u00f6zellikle paralimpik say\\u0131s\\u0131n\\u0131n artmas\\u0131na \\u00f6nem verdik \\u00e7\\u00fcnk\\u00fc bunlar sporcular\\u0131m\\u0131z\\u0131n se\\u00e7ece\\u011fi lokomotif olacak bran\\u015flard\\u0131 2012 oyunlar\\u0131nda ne kadar isabetli karar verdi\\u011fimizi g\\u00f6rd\\u00fck londra \\u0092 ya giden oyuncu ve antren\\u00f6rlerin b\\u00fcy\\u00fck \\u00e7o\\u011funlu\\u011fu bizim projelerimizle spora kazand\\u0131r\\u0131lm\\u0131\\u015f isimler g\\u00f6rme ve bedensel engelli bran\\u015flar\\u0131nda 10 madalyayla d\\u00f6nen \\u00e7ocuklar\\u0131m\\u0131z bizleri gururland\\u0131rd\\u0131 \\u0094 sponsorlar artirilmali yeni projeler \\u00fcrettiklerini vurgulayan \\u015ferefhan \\u015f\\u00f6yle devam etti \\u0093 futbol ve basketbol federasyonlar\\u0131 gibi profesyonel sisteme ge\\u00e7meyi planl\\u0131yoruz sonras\\u0131nda sponsorlar\\u0131n art\\u0131r\\u0131lmas\\u0131 gerekiyor \\u0091 tek ta\\u015f p\\u0131rlanta \\u0092 diye tabir etti\\u011fimiz tekerlekli sandalye basketbolu ve ampute futbol ligimiz var bu liglerin isim haklar\\u0131yla ilgili \\u00e7al\\u0131\\u015fmalar\\u0131m\\u0131z devam ediyor ampute futbolunun paralimpik bran\\u015f olmas\\u0131 i\\u00e7in londra \\u0092 da baz\\u0131 g\\u00f6r\\u00fc\\u015fmelerimiz oldu yeni d\\u00f6nemde kul\\u00fcplerimize daha \\u00e7ok sahip \\u00e7\\u0131kaca\\u011f\\u0131z sponsor gelirlerinin malzeme ya da ayni olarak kul\\u00fcplere aktar\\u0131lmas\\u0131 \\u00e7al\\u0131\\u015fmalar\\u0131m\\u0131z var bizim ad\\u0131m\\u0131z federasyon soyad\\u0131m\\u0131z rehabilitasyon \\u0094\",\n          \" \\u00fcrd\\u00fcn de yeni h\\u00fck\\u00fcmet \\u00fcrd\\u00fcn_kral\\u0131 2 abdullah yeni h\\u00fck\\u00fcmeti kurmas\\u0131 i\\u00e7in abdullah en nasur u g\\u00f6revlendirdi kraliyet divan\\u0131 taraf\\u0131ndan yay\\u0131mlanan yaz\\u0131l\\u0131 a\\u00e7\\u0131klamada kral_abdullah \\u0131n dr abdullah en nasur u bug\\u00fcn istifas\\u0131n\\u0131 sunan eski ba\\u015fbakan fayiz taravne nin ard\\u0131ndan yeni h\\u00fck\\u00fcmeti kurmakla g\\u00f6revlendirdi\\u011fi bildirildi aa\",\n          \" m\\u00fczisyenden az kullan\\u0131lm\\u0131\\u015f saat \\u00fcnl\\u00fc m\\u00fczisyen eric clapton \\u0092 \\u0131n 67 patek philippe marka el yap\\u0131m\\u0131 isvi\\u00e7re saati al\\u0131c\\u0131s\\u0131n\\u0131 bekliyor hobi olarak ba\\u015flad\\u0131\\u011f\\u0131 koleksiyonculukta hat\\u0131r\\u0131 say\\u0131l\\u0131r bir klasik saat portf\\u00f6y\\u00fcne ula\\u015fan clapton baz\\u0131 par\\u00e7alar\\u0131 m\\u00fczayedelerde sat\\u0131\\u015fa \\u00e7\\u0131kar\\u0131yor cenevre \\u0092 de hafta sonu a\\u00e7\\u0131k art\\u0131rmaya \\u00e7\\u0131kacak bu patek philippe saatin 2 5 ila 4 milyon dolar 4 5 milyon tl ile 7 2 milyon tl aras\\u0131 bir fiyata sat\\u0131lmas\\u0131 bekleniyor\"\n        ],\n        \"semantic_type\": \"\",\n        \"description\": \"\"\n      }\n    },\n    {\n      \"column\": \"labels\",\n      \"properties\": {\n        \"dtype\": \"number\",\n        \"std\": 2,\n        \"min\": 0,\n        \"max\": 6,\n        \"num_unique_values\": 7,\n        \"samples\": [\n          0,\n          1,\n          5\n        ],\n        \"semantic_type\": \"\",\n        \"description\": \"\"\n      }\n    }\n  ]\n}"
            }
          },
          "metadata": {},
          "execution_count": 19
        }
      ]
    },
    {
      "cell_type": "markdown",
      "source": [
        "## Exploratory Data Analysis\n",
        "* In multi-label classification NLP tasks it is prudent to explore your data and make sure there are no significant data quality issues including imbalance that may result in biases in the prediction model you build."
      ],
      "metadata": {
        "id": "4PgKYIbD6KFg"
      }
    },
    {
      "cell_type": "code",
      "source": [
        "## plotting the category labels\n",
        "import matplotlib.pyplot as plt\n",
        "%matplotlib inline\n",
        "\n",
        "## plotting labels\n",
        "df['category'].value_counts().plot(kind='barh', figsize=(12,8))\n",
        "plt.title('Label Value Counts')\n",
        "plt.xlabel('Value Counts')\n",
        "plt.ylabel('Category Labels')\n",
        "plt.show();"
      ],
      "metadata": {
        "colab": {
          "base_uri": "https://localhost:8080/",
          "height": 593
        },
        "id": "KoZiQj-Q3L6b",
        "outputId": "0eed32a9-977f-41dc-a60c-002fac217ec9"
      },
      "execution_count": 20,
      "outputs": [
        {
          "output_type": "display_data",
          "data": {
            "text/plain": [
              "<Figure size 1200x800 with 1 Axes>"
            ],
            "image/png": "[encoded data removed]"
          },
          "metadata": {}
        }
      ]
    },
    {
      "cell_type": "markdown",
      "source": [
        "This just confirms that all labels have the same number of values of equal distribution with no imbalance noted."
      ],
      "metadata": {
        "id": "_Pzb4Z5g546m"
      }
    },
    {
      "cell_type": "markdown",
      "source": [
        "## Tokenizer\n",
        "* Next we need to instantiate the tokenizer for the bert model we will be using.\n",
        "* This is an interesting use case because the base language is Turkish so we will use a specific tokenizer for this task.\n",
        "  * Model Card: https://huggingface.co/dbmdz/bert-base-turkish-uncased"
      ],
      "metadata": {
        "id": "JmeZZJTm6heF"
      }
    },
    {
      "cell_type": "code",
      "source": [
        "# instantiate tokenizer but also establish max_length of tokens to 512\n",
        "tokenizer = BertTokenizerFast.from_pretrained('dbmdz/bert-base-turkish-uncased', max_length=512)"
      ],
      "metadata": {
        "id": "nl2CaUGv5uCD"
      },
      "execution_count": 21,
      "outputs": []
    },
    {
      "cell_type": "markdown",
      "source": [
        "## Load Open Source Model from HuggingFace\n",
        "* Open Source Model location: https://huggingface.co/dbmdz/bert-base-turkish-uncased"
      ],
      "metadata": {
        "id": "fTQcGZQ47I77"
      }
    },
    {
      "cell_type": "code",
      "source": [
        "## model instantiation - passing params: num_labels, id2label, label2id\n",
        "model = BertForSequenceClassification.from_pretrained(\"dbmdz/bert-base-turkish-uncased\", num_labels=NUM_LABELS,\n",
        "                                                      id2label=id2label, label2id=label2id)\n",
        "\n",
        "# send model to device\n",
        "model.to(device)"
      ],
      "metadata": {
        "colab": {
          "base_uri": "https://localhost:8080/"
        },
        "id": "ny7um8yk7Fsd",
        "outputId": "bff5c0b7-f258-4f47-a8b3-c506889f3033"
      },
      "execution_count": 22,
      "outputs": [
        {
          "output_type": "stream",
          "name": "stderr",
          "text": [
            "Some weights of BertForSequenceClassification were not initialized from the model checkpoint at dbmdz/bert-base-turkish-uncased and are newly initialized: ['classifier.bias', 'classifier.weight']\n",
            "You should probably TRAIN this model on a down-stream task to be able to use it for predictions and inference.\n"
          ]
        },
        {
          "output_type": "execute_result",
          "data": {
            "text/plain": [
              "BertForSequenceClassification(\n",
              "  (bert): BertModel(\n",
              "    (embeddings): BertEmbeddings(\n",
              "      (word_embeddings): Embedding(32000, 768, padding_idx=0)\n",
              "      (position_embeddings): Embedding(512, 768)\n",
              "      (token_type_embeddings): Embedding(2, 768)\n",
              "      (LayerNorm): LayerNorm((768,), eps=1e-12, elementwise_affine=True)\n",
              "      (dropout): Dropout(p=0.1, inplace=False)\n",
              "    )\n",
              "    (encoder): BertEncoder(\n",
              "      (layer): ModuleList(\n",
              "        (0-11): 12 x BertLayer(\n",
              "          (attention): BertAttention(\n",
              "            (self): BertSdpaSelfAttention(\n",
              "              (query): Linear(in_features=768, out_features=768, bias=True)\n",
              "              (key): Linear(in_features=768, out_features=768, bias=True)\n",
              "              (value): Linear(in_features=768, out_features=768, bias=True)\n",
              "              (dropout): Dropout(p=0.1, inplace=False)\n",
              "            )\n",
              "            (output): BertSelfOutput(\n",
              "              (dense): Linear(in_features=768, out_features=768, bias=True)\n",
              "              (LayerNorm): LayerNorm((768,), eps=1e-12, elementwise_affine=True)\n",
              "              (dropout): Dropout(p=0.1, inplace=False)\n",
              "            )\n",
              "          )\n",
              "          (intermediate): BertIntermediate(\n",
              "            (dense): Linear(in_features=768, out_features=3072, bias=True)\n",
              "            (intermediate_act_fn): GELUActivation()\n",
              "          )\n",
              "          (output): BertOutput(\n",
              "            (dense): Linear(in_features=3072, out_features=768, bias=True)\n",
              "            (LayerNorm): LayerNorm((768,), eps=1e-12, elementwise_affine=True)\n",
              "            (dropout): Dropout(p=0.1, inplace=False)\n",
              "          )\n",
              "        )\n",
              "      )\n",
              "    )\n",
              "    (pooler): BertPooler(\n",
              "      (dense): Linear(in_features=768, out_features=768, bias=True)\n",
              "      (activation): Tanh()\n",
              "    )\n",
              "  )\n",
              "  (dropout): Dropout(p=0.1, inplace=False)\n",
              "  (classifier): Linear(in_features=768, out_features=7, bias=True)\n",
              ")"
            ]
          },
          "metadata": {},
          "execution_count": 22
        }
      ]
    },
    {
      "cell_type": "markdown",
      "source": [
        "Summary of output:\n",
        "* Model Components\n",
        "    * embeddings --> BertEmbeddings\n",
        "    * encoder layers --> BertEncoder with 12 layers\n",
        "       * Note there is the GELU activation function used in the intermediate output layer (Gaussian Error Linear Unit)\n",
        "       * **Goal of GELU:**\n",
        "         * bridges stochastic regularizers, such as dropout, with non-linearities, i.e., activation functions.\n",
        "         * Dropout regularization stochastically multiplies a neurons inputs with 0, randomly rendering them inactive.\n",
        "         * On the other hand, ReLU activation deterministically multiplies inputs with 0 or 1 dependent upon the inputs value.\n",
        "         * **Solution: GELU merges both functionalities by multiplying inputs by a value from 0 to 1.**\n",
        "         * Original paper quote: \"Deep nonlinear classifiers can fit their data so well that network designers are often faced with the\n",
        "choice of including stochastic regularizer like adding noise to hidden layers or applying dropout (Srivastava et al., 2014), and this choice remains separate from the activation function. Some stochastic\n",
        "regularizers can make the network behave like an ensemble of networks, a pseudoensemble (Bachman et al., 2014), and can lead to marked accuracy increases. For example, the stochastic regularizer dropout creates a pseudoensemble by randomly altering some activation decisions through zero\n",
        "multiplication. **Nonlinearities and dropout thus determine a neurons output together, yet the two\n",
        "innovations have remained distinct. More, neither subsumed the other because popular stochastic\n",
        "regularizers act irrespectively of the input and nonlinearities are aided by such regularizers.\"**\n",
        "         * Original paper: https://arxiv.org/pdf/1606.08415"
      ],
      "metadata": {
        "id": "Z8iF9sBm8vyT"
      }
    },
    {
      "cell_type": "markdown",
      "source": [
        "* Word Embeddings: vocab size = 32,000, vector dim is 768\n",
        "* Position Embeddings: 512 max length token size, vector dim 768\n",
        "\n",
        "\n",
        "## Flow of Raw input text through BERT model for classification\n",
        "- CLS token prepended to input sequence\n",
        "1. Tokenization --> tokenizer inserts CLS token at beginning of input sequence sentences.\n",
        "2. Embeddings --> tokenized CLS sequece is then passed to embeddings for vectorized.\n",
        "3. Encoder layers\n",
        "  * Self-attention --> semantic + contextual\n",
        "  * Feed forward neural nets -> relationships between tokens\n",
        "4. Hidden states\n",
        "  * final CLS state is passed to classification layer\n",
        "5. Linear layer\n",
        "  * final hidden state of CLS token is fed to linear layers\n",
        "  * Maps 768 dim vector to the size of the classes which is 7\n",
        "  * Weight matrix multiplication with biases --> SoftMax function converts raw logits --> class probabilities --> highest probability output is the best prediction from the model\n",
        "\n",
        "* Task specific fine tuning\n",
        "  * All weights are subject to modification in all layers\n",
        "  * Extent of modification is dependent on model weights, learning rate and other hyperparameters.\n",
        "  * Update weights to add up to target task.\n",
        "  * Initial weights come from pre-trained model.\n",
        "  * Weights are updated using backpropagation and gradient descent.\n",
        "  \n"
      ],
      "metadata": {
        "id": "O5UF6PBT_ADI"
      }
    },
    {
      "cell_type": "markdown",
      "source": [
        "## Split data into train, test, validation sets"
      ],
      "metadata": {
        "id": "DkQMr5ZdBCUv"
      }
    },
    {
      "cell_type": "code",
      "source": [
        "## num of rows\n",
        "df.shape[0]"
      ],
      "metadata": {
        "colab": {
          "base_uri": "https://localhost:8080/"
        },
        "id": "dSMfWvdxBRXH",
        "outputId": "cf22637a-ee50-4d6f-f16a-07122e77a7ea"
      },
      "execution_count": 23,
      "outputs": [
        {
          "output_type": "execute_result",
          "data": {
            "text/plain": [
              "4900"
            ]
          },
          "metadata": {},
          "execution_count": 23
        }
      ]
    },
    {
      "cell_type": "code",
      "source": [
        "# mask to use for shape of sets\n",
        "SIZE = df.shape[0]\n",
        "\n",
        "# train data\n",
        "train_texts = list(df.text[:SIZE//2])\n",
        "\n",
        "# validation data\n",
        "val_texts = list(df.text[SIZE//2:(3*SIZE)//4])\n",
        "\n",
        "# test data\n",
        "test_texts = list(df.text[(3*SIZE)//4:])\n",
        "\n",
        "## label data\n",
        "train_labels = list(df.labels[:SIZE//2])\n",
        "val_labels = list(df.labels[SIZE//2:(3*SIZE)//4])\n",
        "test_labels = list(df.labels[(3*SIZE)//4:])\n",
        "\n"
      ],
      "metadata": {
        "id": "aD_exj_N8U91"
      },
      "execution_count": 24,
      "outputs": []
    },
    {
      "cell_type": "code",
      "source": [
        "## len of train_texts\n",
        "print(f\"The length of train data is: {len(train_texts)}\")"
      ],
      "metadata": {
        "colab": {
          "base_uri": "https://localhost:8080/"
        },
        "id": "T8st7a5tPqB9",
        "outputId": "62c42d7b-78f0-44a5-e4cf-31c6dff6c491"
      },
      "execution_count": 25,
      "outputs": [
        {
          "output_type": "stream",
          "name": "stdout",
          "text": [
            "The length of train data is: 2450\n"
          ]
        }
      ]
    },
    {
      "cell_type": "code",
      "source": [
        "## len of train, val and test\n",
        "print(f\"The length of train data is: {len(train_texts)}\")\n",
        "print(f\"The length of validation data is: {len(val_texts)}\")\n",
        "print(f\"The length of test data is: {len(test_texts)}\")"
      ],
      "metadata": {
        "colab": {
          "base_uri": "https://localhost:8080/"
        },
        "id": "HoSA7Jx6Psdz",
        "outputId": "5864511b-9560-4adc-d15e-3996a5f9488d"
      },
      "execution_count": 26,
      "outputs": [
        {
          "output_type": "stream",
          "name": "stdout",
          "text": [
            "The length of train data is: 2450\n",
            "The length of validation data is: 1225\n",
            "The length of test data is: 1225\n"
          ]
        }
      ]
    },
    {
      "cell_type": "code",
      "source": [
        "## calculate the split of the data\n",
        "def calc_split(x,y,z):\n",
        "  total = len(x) + len(y) + len(z)\n",
        "\n",
        "  x_per = (len(x)/total)*100\n",
        "\n",
        "  y_per = (len(y)/total)*100\n",
        "\n",
        "  z_per = (len(z)/total)*100\n",
        "\n",
        "  return x_per, y_per, z_per"
      ],
      "metadata": {
        "id": "kxkVi8TkP_CO"
      },
      "execution_count": 27,
      "outputs": []
    },
    {
      "cell_type": "code",
      "source": [
        "## function call\n",
        "calc_split(train_texts,val_texts,test_texts)"
      ],
      "metadata": {
        "colab": {
          "base_uri": "https://localhost:8080/"
        },
        "id": "t00I9AfwQm-i",
        "outputId": "da531881-8115-469d-f246-b2e41589b93d"
      },
      "execution_count": 28,
      "outputs": [
        {
          "output_type": "execute_result",
          "data": {
            "text/plain": [
              "(50.0, 25.0, 25.0)"
            ]
          },
          "metadata": {},
          "execution_count": 28
        }
      ]
    },
    {
      "cell_type": "markdown",
      "source": [
        "Summary:\n",
        "* We have split the data into:\n",
        "  * 50% train\n",
        "  * 25% validation\n",
        "  * 25% test"
      ],
      "metadata": {
        "id": "YMGbDMztQujl"
      }
    },
    {
      "cell_type": "markdown",
      "source": [
        "## Encoding/Vectorizing the text\n",
        "* We now need to apply the tokenizer to each of the datasets we will feed into the BERT model.\n",
        "* We also need to apply the tokenizer parameters `truncation` and `padding`\n",
        "* As a quick reminder:\n",
        "   * **Padding**: adds a special padding token to ensure shorter sequences will have the same length as either the longest sequence in a batch or the maximum length accepted by the model.\n",
        "   * **Truncation**: works in the other direction by truncating long sequences."
      ],
      "metadata": {
        "id": "pv5KksI-Q6am"
      }
    },
    {
      "cell_type": "code",
      "source": [
        "## encode/vectorize text\n",
        "train_encodings = tokenizer(train_texts, truncation=True, padding=True)\n",
        "val_encodings = tokenizer(val_texts, truncation=True, padding=True)\n",
        "test_encodings = tokenizer(test_texts, truncation=True, padding=True)"
      ],
      "metadata": {
        "id": "bvjzlYykQtLO"
      },
      "execution_count": 29,
      "outputs": []
    },
    {
      "cell_type": "markdown",
      "source": [
        "## PyTorch DataLoader"
      ],
      "metadata": {
        "id": "sK5qzF91R7PH"
      }
    },
    {
      "cell_type": "code",
      "source": [
        "class DataLoader(Dataset):\n",
        "  def __init__(self, encodings, labels):\n",
        "    self.encodings = encodings # dictionary input\n",
        "    self.labels = labels # list or array input\n",
        "\n",
        "  # This method allows the DataLoader class to index and retrieve a specific item from the dataset.\n",
        "  def __getitem__(self, idx):\n",
        "    # dict comprehension --> converts dict encoding values into torch tensor key/value pairs\n",
        "    item = {key: torch.tensor(val[idx]) for key, val in self.encodings.items()}\n",
        "    item['labels'] = torch.tensor(self.labels[idx])\n",
        "    return item\n",
        "\n",
        "  # This method returns the total number of items in the dataset, which is determined by the length of the labels list/array\n",
        "  ## data utils is then able to batch, shuffle and split data\n",
        "  def __len__(self):\n",
        "    return len(self.labels)"
      ],
      "metadata": {
        "id": "2YKqlMggR4j7"
      },
      "execution_count": 30,
      "outputs": []
    },
    {
      "cell_type": "markdown",
      "source": [
        "## Invoking the DataLoader"
      ],
      "metadata": {
        "id": "_DOkwHgpTvAH"
      }
    },
    {
      "cell_type": "code",
      "source": [
        "## invoke dataloader class - encodings + labels\n",
        "train_dataloader = DataLoader(train_encodings, train_labels)\n",
        "val_dataloader = DataLoader(val_encodings, val_labels)\n",
        "test_dataloader = DataLoader(test_encodings, test_encodings)"
      ],
      "metadata": {
        "id": "SPl0HutpTK3K"
      },
      "execution_count": 31,
      "outputs": []
    },
    {
      "cell_type": "markdown",
      "source": [
        "## Train the model with Transformers `Trainer` class\n",
        "* Using the HuggingFace built in classes for Training and evaluating the model: https://huggingface.co/docs/transformers/v4.41.3/en/main_classes/trainer#transformers.Trainer"
      ],
      "metadata": {
        "id": "N5NHTZPtUT_K"
      }
    },
    {
      "cell_type": "code",
      "source": [
        "# import from transformers\n",
        "from transformers import TrainingArguments, Trainer"
      ],
      "metadata": {
        "id": "hpNTmBvvUCBw"
      },
      "execution_count": 32,
      "outputs": []
    },
    {
      "cell_type": "code",
      "source": [
        "## metrics from scikit-learn\n",
        "from sklearn.metrics import accuracy_score, precision_recall_fscore_support"
      ],
      "metadata": {
        "id": "lhi9ImuTUeZ_"
      },
      "execution_count": 33,
      "outputs": []
    },
    {
      "cell_type": "code",
      "source": [
        "## define a function for computing metrics - could use torchmetrics but we want to customize this\n",
        "\n",
        "# function to compute metrics\n",
        "def compute_metrics(pred):\n",
        "  # predict labels\n",
        "  labels = pred.label_ids\n",
        "\n",
        "  # get the pred class labels finding column index with max probabilities\n",
        "  preds = pred.predictions.argmax(-1) # index of maximum value along axis --> we want -1 or last column of 2D array\n",
        "\n",
        "  # compute precision, accuracy, recall, F1 score using the macro prediction function from sklearn\n",
        "  precision, recall, f1, _ = precision_recall_fscore_support(labels, preds, average='macro')\n",
        "\n",
        "  # calculate accuracy score using scikit learn accuracy_score func\n",
        "  acc = accuracy_score(labels, preds)\n",
        "\n",
        "  # return computed metrics as dictionary\n",
        "  return {\n",
        "      'Accuracy': acc,\n",
        "      'F1': f1,\n",
        "      'Precision': precision,\n",
        "      'Recall': recall\n",
        "  }\n"
      ],
      "metadata": {
        "id": "dkKOwI2TU2-z"
      },
      "execution_count": 34,
      "outputs": []
    },
    {
      "cell_type": "code",
      "source": [
        "## we can also install torchmetrics to check this against the above\n",
        "!pip install torchmetrics"
      ],
      "metadata": {
        "colab": {
          "base_uri": "https://localhost:8080/"
        },
        "id": "HA-NQr6vV1Iv",
        "outputId": "652ba3c1-526b-4fd1-9b1d-81832297fdd4"
      },
      "execution_count": 35,
      "outputs": [
        {
          "output_type": "stream",
          "name": "stdout",
          "text": [
            "Requirement already satisfied: torchmetrics in /usr/local/lib/python3.10/dist-packages (1.4.0.post0)\n",
            "Requirement already satisfied: numpy>1.20.0 in /usr/local/lib/python3.10/dist-packages (from torchmetrics) (1.25.2)\n",
            "Requirement already satisfied: packaging>17.1 in /usr/local/lib/python3.10/dist-packages (from torchmetrics) (24.1)\n",
            "Requirement already satisfied: torch>=1.10.0 in /usr/local/lib/python3.10/dist-packages (from torchmetrics) (2.3.0+cu121)\n",
            "Requirement already satisfied: lightning-utilities>=0.8.0 in /usr/local/lib/python3.10/dist-packages (from torchmetrics) (0.11.2)\n",
            "Requirement already satisfied: setuptools in /usr/local/lib/python3.10/dist-packages (from lightning-utilities>=0.8.0->torchmetrics) (67.7.2)\n",
            "Requirement already satisfied: typing-extensions in /usr/local/lib/python3.10/dist-packages (from lightning-utilities>=0.8.0->torchmetrics) (4.12.2)\n",
            "Requirement already satisfied: filelock in /usr/local/lib/python3.10/dist-packages (from torch>=1.10.0->torchmetrics) (3.15.3)\n",
            "Requirement already satisfied: sympy in /usr/local/lib/python3.10/dist-packages (from torch>=1.10.0->torchmetrics) (1.12.1)\n",
            "Requirement already satisfied: networkx in /usr/local/lib/python3.10/dist-packages (from torch>=1.10.0->torchmetrics) (3.3)\n",
            "Requirement already satisfied: jinja2 in /usr/local/lib/python3.10/dist-packages (from torch>=1.10.0->torchmetrics) (3.1.4)\n",
            "Requirement already satisfied: fsspec in /usr/local/lib/python3.10/dist-packages (from torch>=1.10.0->torchmetrics) (2023.6.0)\n",
            "Requirement already satisfied: nvidia-cuda-nvrtc-cu12==12.1.105 in /usr/local/lib/python3.10/dist-packages (from torch>=1.10.0->torchmetrics) (12.1.105)\n",
            "Requirement already satisfied: nvidia-cuda-runtime-cu12==12.1.105 in /usr/local/lib/python3.10/dist-packages (from torch>=1.10.0->torchmetrics) (12.1.105)\n",
            "Requirement already satisfied: nvidia-cuda-cupti-cu12==12.1.105 in /usr/local/lib/python3.10/dist-packages (from torch>=1.10.0->torchmetrics) (12.1.105)\n",
            "Requirement already satisfied: nvidia-cudnn-cu12==8.9.2.26 in /usr/local/lib/python3.10/dist-packages (from torch>=1.10.0->torchmetrics) (8.9.2.26)\n",
            "Requirement already satisfied: nvidia-cublas-cu12==12.1.3.1 in /usr/local/lib/python3.10/dist-packages (from torch>=1.10.0->torchmetrics) (12.1.3.1)\n",
            "Requirement already satisfied: nvidia-cufft-cu12==11.0.2.54 in /usr/local/lib/python3.10/dist-packages (from torch>=1.10.0->torchmetrics) (11.0.2.54)\n",
            "Requirement already satisfied: nvidia-curand-cu12==10.3.2.106 in /usr/local/lib/python3.10/dist-packages (from torch>=1.10.0->torchmetrics) (10.3.2.106)\n",
            "Requirement already satisfied: nvidia-cusolver-cu12==11.4.5.107 in /usr/local/lib/python3.10/dist-packages (from torch>=1.10.0->torchmetrics) (11.4.5.107)\n",
            "Requirement already satisfied: nvidia-cusparse-cu12==12.1.0.106 in /usr/local/lib/python3.10/dist-packages (from torch>=1.10.0->torchmetrics) (12.1.0.106)\n",
            "Requirement already satisfied: nvidia-nccl-cu12==2.20.5 in /usr/local/lib/python3.10/dist-packages (from torch>=1.10.0->torchmetrics) (2.20.5)\n",
            "Requirement already satisfied: nvidia-nvtx-cu12==12.1.105 in /usr/local/lib/python3.10/dist-packages (from torch>=1.10.0->torchmetrics) (12.1.105)\n",
            "Requirement already satisfied: triton==2.3.0 in /usr/local/lib/python3.10/dist-packages (from torch>=1.10.0->torchmetrics) (2.3.0)\n",
            "Requirement already satisfied: nvidia-nvjitlink-cu12 in /usr/local/lib/python3.10/dist-packages (from nvidia-cusolver-cu12==11.4.5.107->torch>=1.10.0->torchmetrics) (12.5.40)\n",
            "Requirement already satisfied: MarkupSafe>=2.0 in /usr/local/lib/python3.10/dist-packages (from jinja2->torch>=1.10.0->torchmetrics) (2.1.5)\n",
            "Requirement already satisfied: mpmath<1.4.0,>=1.1.0 in /usr/local/lib/python3.10/dist-packages (from sympy->torch>=1.10.0->torchmetrics) (1.3.0)\n"
          ]
        }
      ]
    },
    {
      "cell_type": "code",
      "source": [],
      "metadata": {
        "id": "Huxt913DW0fO"
      },
      "execution_count": 35,
      "outputs": []
    },
    {
      "cell_type": "markdown",
      "source": [
        "### Training Arguments"
      ],
      "metadata": {
        "id": "GjqU4tp2zarM"
      }
    },
    {
      "cell_type": "code",
      "source": [
        "# accelerate\n",
        "!pip install accelerate -U"
      ],
      "metadata": {
        "colab": {
          "base_uri": "https://localhost:8080/"
        },
        "id": "YjEqPogO0umf",
        "outputId": "8683b5d2-c8dc-4d2f-c071-627118aca335"
      },
      "execution_count": 36,
      "outputs": [
        {
          "output_type": "stream",
          "name": "stdout",
          "text": [
            "Requirement already satisfied: accelerate in /usr/local/lib/python3.10/dist-packages (0.31.0)\n",
            "Requirement already satisfied: numpy>=1.17 in /usr/local/lib/python3.10/dist-packages (from accelerate) (1.25.2)\n",
            "Requirement already satisfied: packaging>=20.0 in /usr/local/lib/python3.10/dist-packages (from accelerate) (24.1)\n",
            "Requirement already satisfied: psutil in /usr/local/lib/python3.10/dist-packages (from accelerate) (5.9.5)\n",
            "Requirement already satisfied: pyyaml in /usr/local/lib/python3.10/dist-packages (from accelerate) (6.0.1)\n",
            "Requirement already satisfied: torch>=1.10.0 in /usr/local/lib/python3.10/dist-packages (from accelerate) (2.3.0+cu121)\n",
            "Requirement already satisfied: huggingface-hub in /usr/local/lib/python3.10/dist-packages (from accelerate) (0.23.4)\n",
            "Requirement already satisfied: safetensors>=0.3.1 in /usr/local/lib/python3.10/dist-packages (from accelerate) (0.4.3)\n",
            "Requirement already satisfied: filelock in /usr/local/lib/python3.10/dist-packages (from torch>=1.10.0->accelerate) (3.15.3)\n",
            "Requirement already satisfied: typing-extensions>=4.8.0 in /usr/local/lib/python3.10/dist-packages (from torch>=1.10.0->accelerate) (4.12.2)\n",
            "Requirement already satisfied: sympy in /usr/local/lib/python3.10/dist-packages (from torch>=1.10.0->accelerate) (1.12.1)\n",
            "Requirement already satisfied: networkx in /usr/local/lib/python3.10/dist-packages (from torch>=1.10.0->accelerate) (3.3)\n",
            "Requirement already satisfied: jinja2 in /usr/local/lib/python3.10/dist-packages (from torch>=1.10.0->accelerate) (3.1.4)\n",
            "Requirement already satisfied: fsspec in /usr/local/lib/python3.10/dist-packages (from torch>=1.10.0->accelerate) (2023.6.0)\n",
            "Requirement already satisfied: nvidia-cuda-nvrtc-cu12==12.1.105 in /usr/local/lib/python3.10/dist-packages (from torch>=1.10.0->accelerate) (12.1.105)\n",
            "Requirement already satisfied: nvidia-cuda-runtime-cu12==12.1.105 in /usr/local/lib/python3.10/dist-packages (from torch>=1.10.0->accelerate) (12.1.105)\n",
            "Requirement already satisfied: nvidia-cuda-cupti-cu12==12.1.105 in /usr/local/lib/python3.10/dist-packages (from torch>=1.10.0->accelerate) (12.1.105)\n",
            "Requirement already satisfied: nvidia-cudnn-cu12==8.9.2.26 in /usr/local/lib/python3.10/dist-packages (from torch>=1.10.0->accelerate) (8.9.2.26)\n",
            "Requirement already satisfied: nvidia-cublas-cu12==12.1.3.1 in /usr/local/lib/python3.10/dist-packages (from torch>=1.10.0->accelerate) (12.1.3.1)\n",
            "Requirement already satisfied: nvidia-cufft-cu12==11.0.2.54 in /usr/local/lib/python3.10/dist-packages (from torch>=1.10.0->accelerate) (11.0.2.54)\n",
            "Requirement already satisfied: nvidia-curand-cu12==10.3.2.106 in /usr/local/lib/python3.10/dist-packages (from torch>=1.10.0->accelerate) (10.3.2.106)\n",
            "Requirement already satisfied: nvidia-cusolver-cu12==11.4.5.107 in /usr/local/lib/python3.10/dist-packages (from torch>=1.10.0->accelerate) (11.4.5.107)\n",
            "Requirement already satisfied: nvidia-cusparse-cu12==12.1.0.106 in /usr/local/lib/python3.10/dist-packages (from torch>=1.10.0->accelerate) (12.1.0.106)\n",
            "Requirement already satisfied: nvidia-nccl-cu12==2.20.5 in /usr/local/lib/python3.10/dist-packages (from torch>=1.10.0->accelerate) (2.20.5)\n",
            "Requirement already satisfied: nvidia-nvtx-cu12==12.1.105 in /usr/local/lib/python3.10/dist-packages (from torch>=1.10.0->accelerate) (12.1.105)\n",
            "Requirement already satisfied: triton==2.3.0 in /usr/local/lib/python3.10/dist-packages (from torch>=1.10.0->accelerate) (2.3.0)\n",
            "Requirement already satisfied: nvidia-nvjitlink-cu12 in /usr/local/lib/python3.10/dist-packages (from nvidia-cusolver-cu12==11.4.5.107->torch>=1.10.0->accelerate) (12.5.40)\n",
            "Requirement already satisfied: requests in /usr/local/lib/python3.10/dist-packages (from huggingface-hub->accelerate) (2.32.3)\n",
            "Requirement already satisfied: tqdm>=4.42.1 in /usr/local/lib/python3.10/dist-packages (from huggingface-hub->accelerate) (4.66.4)\n",
            "Requirement already satisfied: MarkupSafe>=2.0 in /usr/local/lib/python3.10/dist-packages (from jinja2->torch>=1.10.0->accelerate) (2.1.5)\n",
            "Requirement already satisfied: charset-normalizer<4,>=2 in /usr/local/lib/python3.10/dist-packages (from requests->huggingface-hub->accelerate) (3.3.2)\n",
            "Requirement already satisfied: idna<4,>=2.5 in /usr/local/lib/python3.10/dist-packages (from requests->huggingface-hub->accelerate) (3.7)\n",
            "Requirement already satisfied: urllib3<3,>=1.21.1 in /usr/local/lib/python3.10/dist-packages (from requests->huggingface-hub->accelerate) (2.0.7)\n",
            "Requirement already satisfied: certifi>=2017.4.17 in /usr/local/lib/python3.10/dist-packages (from requests->huggingface-hub->accelerate) (2024.6.2)\n",
            "Requirement already satisfied: mpmath<1.4.0,>=1.1.0 in /usr/local/lib/python3.10/dist-packages (from sympy->torch>=1.10.0->accelerate) (1.3.0)\n"
          ]
        }
      ]
    },
    {
      "cell_type": "code",
      "source": [
        "## setup training arguments\n",
        "training_args = TrainingArguments(\n",
        "    # output directory where model preds and checkpoints are written\n",
        "    output_dir = './TTC4900Model',\n",
        "    do_train = True,\n",
        "    do_eval = True,\n",
        "    ## num of epochs to train --> default is 3.0\n",
        "    num_train_epochs = 3,\n",
        "    per_device_train_batch_size=16,\n",
        "    per_device_eval_batch_size=32,\n",
        "    # num of steps needed for linear warmup\n",
        "    warmup_steps=100,\n",
        "    weight_decay=0.01,\n",
        "    logging_strategy='steps',\n",
        "    # TensorBoard log directory\n",
        "    logging_dir='./multi-class-logs',\n",
        "    logging_steps=50,\n",
        "    evaluation_strategy=\"steps\",\n",
        "    eval_steps=50,\n",
        "    save_strategy=\"steps\",\n",
        "    fp16=True,\n",
        "    load_best_model_at_end=True\n",
        "\n",
        "\n",
        ")"
      ],
      "metadata": {
        "colab": {
          "base_uri": "https://localhost:8080/"
        },
        "id": "Pm7-n5JwzcbY",
        "outputId": "2c280111-5490-475e-a6d2-c07369ec51c5"
      },
      "execution_count": 37,
      "outputs": [
        {
          "output_type": "stream",
          "name": "stderr",
          "text": [
            "/usr/local/lib/python3.10/dist-packages/transformers/training_args.py:1474: FutureWarning: `evaluation_strategy` is deprecated and will be removed in version 4.46 of 🤗 Transformers. Use `eval_strategy` instead\n",
            "  warnings.warn(\n"
          ]
        }
      ]
    },
    {
      "cell_type": "code",
      "source": [
        "## setup torch trainer\n",
        "trainer = Trainer(\n",
        "    # pretrained bert model already loaded\n",
        "    model=model,\n",
        "    # training args we defined above\n",
        "    args=training_args,\n",
        "    train_dataset=train_dataloader,\n",
        "    eval_dataset=val_dataloader,\n",
        "    compute_metrics=compute_metrics\n",
        ")\n",
        "\n",
        "\n"
      ],
      "metadata": {
        "id": "4fHXBS2g0R2q"
      },
      "execution_count": 38,
      "outputs": []
    },
    {
      "cell_type": "code",
      "source": [
        "# trainer instance\n",
        "trainer.train()"
      ],
      "metadata": {
        "colab": {
          "base_uri": "https://localhost:8080/",
          "height": 409
        },
        "id": "QXDJjPbB3K2t",
        "outputId": "9d7a31f6-279a-4c5c-b9c9-6d4055aa1102"
      },
      "execution_count": 39,
      "outputs": [
        {
          "output_type": "display_data",
          "data": {
            "text/plain": [
              "<IPython.core.display.HTML object>"
            ],
            "text/html": [
              "\n",
              "    <div>\n",
              "      \n",
              "      <progress value='462' max='462' style='width:300px; height:20px; vertical-align: middle;'></progress>\n",
              "      [462/462 04:44, Epoch 3/3]\n",
              "    </div>\n",
              "    <table border=\"1\" class=\"dataframe\">\n",
              "  <thead>\n",
              " <tr style=\"text-align: left;\">\n",
              "      <th>Step</th>\n",
              "      <th>Training Loss</th>\n",
              "      <th>Validation Loss</th>\n",
              "      <th>Accuracy</th>\n",
              "      <th>F1</th>\n",
              "      <th>Precision</th>\n",
              "      <th>Recall</th>\n",
              "    </tr>\n",
              "  </thead>\n",
              "  <tbody>\n",
              "    <tr>\n",
              "      <td>50</td>\n",
              "      <td>1.780000</td>\n",
              "      <td>1.205434</td>\n",
              "      <td>0.800000</td>\n",
              "      <td>0.792957</td>\n",
              "      <td>0.839301</td>\n",
              "      <td>0.799633</td>\n",
              "    </tr>\n",
              "    <tr>\n",
              "      <td>100</td>\n",
              "      <td>0.604000</td>\n",
              "      <td>0.292586</td>\n",
              "      <td>0.915102</td>\n",
              "      <td>0.913787</td>\n",
              "      <td>0.915372</td>\n",
              "      <td>0.914333</td>\n",
              "    </tr>\n",
              "    <tr>\n",
              "      <td>150</td>\n",
              "      <td>0.372400</td>\n",
              "      <td>0.374749</td>\n",
              "      <td>0.891429</td>\n",
              "      <td>0.890391</td>\n",
              "      <td>0.894815</td>\n",
              "      <td>0.891260</td>\n",
              "    </tr>\n",
              "    <tr>\n",
              "      <td>200</td>\n",
              "      <td>0.249200</td>\n",
              "      <td>0.302052</td>\n",
              "      <td>0.918367</td>\n",
              "      <td>0.917900</td>\n",
              "      <td>0.918834</td>\n",
              "      <td>0.918280</td>\n",
              "    </tr>\n",
              "    <tr>\n",
              "      <td>250</td>\n",
              "      <td>0.206500</td>\n",
              "      <td>0.308866</td>\n",
              "      <td>0.913469</td>\n",
              "      <td>0.912931</td>\n",
              "      <td>0.914195</td>\n",
              "      <td>0.913294</td>\n",
              "    </tr>\n",
              "    <tr>\n",
              "      <td>300</td>\n",
              "      <td>0.174200</td>\n",
              "      <td>0.311467</td>\n",
              "      <td>0.928163</td>\n",
              "      <td>0.928099</td>\n",
              "      <td>0.928871</td>\n",
              "      <td>0.927882</td>\n",
              "    </tr>\n",
              "    <tr>\n",
              "      <td>350</td>\n",
              "      <td>0.096600</td>\n",
              "      <td>0.300969</td>\n",
              "      <td>0.933878</td>\n",
              "      <td>0.933551</td>\n",
              "      <td>0.935499</td>\n",
              "      <td>0.933451</td>\n",
              "    </tr>\n",
              "    <tr>\n",
              "      <td>400</td>\n",
              "      <td>0.080400</td>\n",
              "      <td>0.299417</td>\n",
              "      <td>0.924898</td>\n",
              "      <td>0.924850</td>\n",
              "      <td>0.925050</td>\n",
              "      <td>0.925152</td>\n",
              "    </tr>\n",
              "    <tr>\n",
              "      <td>450</td>\n",
              "      <td>0.064100</td>\n",
              "      <td>0.306799</td>\n",
              "      <td>0.922449</td>\n",
              "      <td>0.922233</td>\n",
              "      <td>0.922613</td>\n",
              "      <td>0.922221</td>\n",
              "    </tr>\n",
              "  </tbody>\n",
              "</table><p>"
            ]
          },
          "metadata": {}
        },
        {
          "output_type": "execute_result",
          "data": {
            "text/plain": [
              "TrainOutput(global_step=462, training_loss=0.3937005398077366, metrics={'train_runtime': 287.4039, 'train_samples_per_second': 25.574, 'train_steps_per_second': 1.607, 'total_flos': 1933953073920000.0, 'train_loss': 0.3937005398077366, 'epoch': 3.0})"
            ]
          },
          "metadata": {},
          "execution_count": 39
        }
      ]
    },
    {
      "cell_type": "markdown",
      "source": [
        "# Setup eval dataframe"
      ],
      "metadata": {
        "id": "AhtDUGcu3OeA"
      }
    },
    {
      "cell_type": "code",
      "source": [
        "q = [trainer.evaluate(eval_dataset = df) for df in [train_dataloader, val_dataloader, test_dataset]]\n",
        "\n",
        "# dataframe\n",
        "pd.DataFrame(q, index=['train', 'val','test']).iloc[:,:5]"
      ],
      "metadata": {
        "id": "FIeU5M-A3Mjp"
      },
      "execution_count": 39,
      "outputs": []
    },
    {
      "cell_type": "code",
      "source": [
        "# from transformers import DistilBertForSequenceClassification, DistilBertTokenizerFast"
      ],
      "metadata": {
        "id": "hZH8Swkn5JMd"
      },
      "execution_count": null,
      "outputs": []
    },
    {
      "cell_type": "markdown",
      "source": [
        "## Predict"
      ],
      "metadata": {
        "id": "4UYODux45S-h"
      }
    },
    {
      "cell_type": "code",
      "source": [
        "def predict(text):\n",
        "  # tokenize input text\n",
        "  inputs = tokenizer(text, padding=True, truncation=True, max_length=512, return_tensors=\"pt\").to('cuda')\n",
        "\n",
        "  # get model outputs (logits)\n",
        "  outputs = model(**inputs)\n",
        "\n",
        "  # softmax activation function on outputs[0] --> output logits are 1st element in tuple\n",
        "  # outputs[0] is a tensor (batch_size x num_classes) --> batch_size is 1\n",
        "  # softmax is applied along dimension 1 (class dimension of tensor)\n",
        "  probs = outputs[0].softmax(1)\n",
        "  pred_label_idx = probs.argmax()\n",
        "\n",
        "  # now we need to map the class index to the ACTUAL class label\n",
        "  # pred_label_idx is a tensor containing a single value (the predicted class index)\n",
        "  # the .item() method is used to extract the value as a scalar\n",
        "  pred_label = model.config.id2label[pred_label_idx.item()]\n",
        "\n",
        "  return probs, pred_label_idx, pred_label"
      ],
      "metadata": {
        "id": "Zs68Mgqz5Rml"
      },
      "execution_count": 40,
      "outputs": []
    },
    {
      "cell_type": "markdown",
      "source": [
        "## Save model for inference\n"
      ],
      "metadata": {
        "id": "GZwt0PGZ6oWD"
      }
    },
    {
      "cell_type": "code",
      "source": [
        "model_path = \"turkish-text-classification-model\"\n",
        "\n",
        "# save model\n",
        "trainer.save_model(model_path)\n",
        "tokenizer.save_pretrained(model_path)"
      ],
      "metadata": {
        "colab": {
          "base_uri": "https://localhost:8080/"
        },
        "id": "_qjiEtto579J",
        "outputId": "221a1eaa-3225-4f22-c340-8afa8ee28bd4"
      },
      "execution_count": 41,
      "outputs": [
        {
          "output_type": "execute_result",
          "data": {
            "text/plain": [
              "('turkish-text-classification-model/tokenizer_config.json',\n",
              " 'turkish-text-classification-model/special_tokens_map.json',\n",
              " 'turkish-text-classification-model/vocab.txt',\n",
              " 'turkish-text-classification-model/added_tokens.json',\n",
              " 'turkish-text-classification-model/tokenizer.json')"
            ]
          },
          "metadata": {},
          "execution_count": 41
        }
      ]
    },
    {
      "cell_type": "markdown",
      "source": [
        "## Re-load saved model for inference"
      ],
      "metadata": {
        "id": "_sy5SdKr651g"
      }
    },
    {
      "cell_type": "code",
      "source": [
        "## model path\n",
        "model_path = \"turkish-text-classification-model\"\n",
        "\n",
        "# load model\n",
        "model = BertForSequenceClassification.from_pretrained(model_path)\n",
        "tokenizer = BertTokenizerFast.from_pretrained(model_path)\n",
        "\n",
        "# setup huggingface pipeline for inference on prediction task\n",
        "nlp = pipeline(\"sentiment-analysis\", model=model, tokenizer=tokenizer)"
      ],
      "metadata": {
        "id": "-dJlXK_k6y_-"
      },
      "execution_count": 42,
      "outputs": []
    },
    {
      "cell_type": "markdown",
      "source": [
        "## Inference using model"
      ],
      "metadata": {
        "id": "XUlWhL5I7cGH"
      }
    },
    {
      "cell_type": "code",
      "source": [
        "## run inference on a phrase\n",
        "nlp(\"Bugün başkanlık seçimi var, oy vermeyi unutmayın.\")\n",
        "\n",
        "# The presidential election is today, don't forget to vote."
      ],
      "metadata": {
        "colab": {
          "base_uri": "https://localhost:8080/"
        },
        "id": "yXkYtAX67WLC",
        "outputId": "033af9ce-3fa9-4e6c-9458-032afe369b11"
      },
      "execution_count": 44,
      "outputs": [
        {
          "output_type": "execute_result",
          "data": {
            "text/plain": [
              "[{'label': 'siyaset', 'score': 0.8086250424385071}]"
            ]
          },
          "metadata": {},
          "execution_count": 44
        }
      ]
    },
    {
      "cell_type": "markdown",
      "source": [
        "Summary:\n",
        "* 'siyaset' means politics and it predicted this phrase which is political with a high classification score of 0.808."
      ],
      "metadata": {
        "id": "Vvy3uB1U8Ui-"
      }
    },
    {
      "cell_type": "code",
      "source": [
        "## test another phrase on the model classification\n",
        "nlp(\"Bugün kendimi hasta hissediyorum, karnım ağrıyor ve kusuyorum, sanırım bir doktora görünmem gerekiyor.\")\n",
        "\n",
        "# I feel sick today, I have a stomach ache and have been vomiting, I think I need to see a doctor."
      ],
      "metadata": {
        "colab": {
          "base_uri": "https://localhost:8080/"
        },
        "id": "i6YS-m8y76ct",
        "outputId": "8124d959-3a74-41ed-9e9b-29c07d1ed2c3"
      },
      "execution_count": 45,
      "outputs": [
        {
          "output_type": "execute_result",
          "data": {
            "text/plain": [
              "[{'label': 'saglik', 'score': 0.9904602766036987}]"
            ]
          },
          "metadata": {},
          "execution_count": 45
        }
      ]
    },
    {
      "cell_type": "markdown",
      "source": [
        "Summary:\n",
        "* The model predicted 'saglik' which is the label for health and with a high classification score of almost 100% which is correct."
      ],
      "metadata": {
        "id": "swySKJlh8_D-"
      }
    },
    {
      "cell_type": "code",
      "source": [
        "## test another phrase\n",
        "nlp(\"Yeni bir dizüstü bilgisayar almam gerekiyor\")\n",
        "\n",
        "# I need to buy a new laptop"
      ],
      "metadata": {
        "colab": {
          "base_uri": "https://localhost:8080/"
        },
        "id": "yUF11Otq89ca",
        "outputId": "82026ff5-4968-4943-ca9b-a839cc7174ce"
      },
      "execution_count": 46,
      "outputs": [
        {
          "output_type": "execute_result",
          "data": {
            "text/plain": [
              "[{'label': 'teknoloji', 'score': 0.9940992593765259}]"
            ]
          },
          "metadata": {},
          "execution_count": 46
        }
      ]
    },
    {
      "cell_type": "markdown",
      "source": [
        "Summary\n",
        "* The model predicted technology which is the correct label."
      ],
      "metadata": {
        "id": "CaTRvVnk9pZX"
      }
    },
    {
      "cell_type": "code",
      "source": [
        "## test another phrase\n",
        "nlp(\"Hastaya Tip 2 DM ve KKY tanısı konuldu.\")\n",
        "\n",
        "# The patient was diagnosed with Type 2 DM and CHF."
      ],
      "metadata": {
        "colab": {
          "base_uri": "https://localhost:8080/"
        },
        "id": "Jlr_lh3y9n8z",
        "outputId": "97600c9e-73b2-4912-cb07-a0b12c6002dd"
      },
      "execution_count": 47,
      "outputs": [
        {
          "output_type": "execute_result",
          "data": {
            "text/plain": [
              "[{'label': 'saglik', 'score': 0.9946086406707764}]"
            ]
          },
          "metadata": {},
          "execution_count": 47
        }
      ]
    },
    {
      "cell_type": "markdown",
      "source": [
        "Summary:\n",
        "* This time I tested the model on the ability to handle acronyms and predict the right label which it understood that I was referring to health which is 'saglik'."
      ],
      "metadata": {
        "id": "k3RnBn4v-A1R"
      }
    },
    {
      "cell_type": "code",
      "source": [],
      "metadata": {
        "id": "ZBmkEd1A98wM"
      },
      "execution_count": null,
      "outputs": []
    }
  ]
}