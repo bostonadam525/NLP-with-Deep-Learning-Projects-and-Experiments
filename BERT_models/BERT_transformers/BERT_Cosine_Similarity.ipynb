{
  "nbformat": 4,
  "nbformat_minor": 0,
  "metadata": {
    "colab": {
      "provenance": []
    },
    "kernelspec": {
      "name": "python3",
      "display_name": "Python 3"
    },
    "language_info": {
      "name": "python"
    },
    "widgets": {
      "application/vnd.jupyter.widget-state+json": {
        "7c9e40f3258c446b9438e080ebebb4de": {
          "model_module": "@jupyter-widgets/controls",
          "model_name": "HBoxModel",
          "model_module_version": "1.5.0",
          "state": {
            "_dom_classes": [],
            "_model_module": "@jupyter-widgets/controls",
            "_model_module_version": "1.5.0",
            "_model_name": "HBoxModel",
            "_view_count": null,
            "_view_module": "@jupyter-widgets/controls",
            "_view_module_version": "1.5.0",
            "_view_name": "HBoxView",
            "box_style": "",
            "children": [
              "IPY_MODEL_24042f9bfe9c4abd82d1871efb05747d",
              "IPY_MODEL_2cbcd50fce6641cb89cb7acc0b550f50",
              "IPY_MODEL_3d82ff6ab36c4da7b49b3e1b491e0238"
            ],
            "layout": "IPY_MODEL_c2c30aa69ef6436795fb894b80d4ad93"
          }
        },
        "24042f9bfe9c4abd82d1871efb05747d": {
          "model_module": "@jupyter-widgets/controls",
          "model_name": "HTMLModel",
          "model_module_version": "1.5.0",
          "state": {
            "_dom_classes": [],
            "_model_module": "@jupyter-widgets/controls",
            "_model_module_version": "1.5.0",
            "_model_name": "HTMLModel",
            "_view_count": null,
            "_view_module": "@jupyter-widgets/controls",
            "_view_module_version": "1.5.0",
            "_view_name": "HTMLView",
            "description": "",
            "description_tooltip": null,
            "layout": "IPY_MODEL_f976fe73f16243d6ad249dc513e39c5f",
            "placeholder": "​",
            "style": "IPY_MODEL_cd7a8b21b63e434e8be29b2bfe7d28ed",
            "value": "tokenizer_config.json: 100%"
          }
        },
        "2cbcd50fce6641cb89cb7acc0b550f50": {
          "model_module": "@jupyter-widgets/controls",
          "model_name": "FloatProgressModel",
          "model_module_version": "1.5.0",
          "state": {
            "_dom_classes": [],
            "_model_module": "@jupyter-widgets/controls",
            "_model_module_version": "1.5.0",
            "_model_name": "FloatProgressModel",
            "_view_count": null,
            "_view_module": "@jupyter-widgets/controls",
            "_view_module_version": "1.5.0",
            "_view_name": "ProgressView",
            "bar_style": "success",
            "description": "",
            "description_tooltip": null,
            "layout": "IPY_MODEL_81a60ee4ff294c61a332302e473a2ab2",
            "max": 363,
            "min": 0,
            "orientation": "horizontal",
            "style": "IPY_MODEL_daf58650bd5947c98bfbefc6e86dfe9f",
            "value": 363
          }
        },
        "3d82ff6ab36c4da7b49b3e1b491e0238": {
          "model_module": "@jupyter-widgets/controls",
          "model_name": "HTMLModel",
          "model_module_version": "1.5.0",
          "state": {
            "_dom_classes": [],
            "_model_module": "@jupyter-widgets/controls",
            "_model_module_version": "1.5.0",
            "_model_name": "HTMLModel",
            "_view_count": null,
            "_view_module": "@jupyter-widgets/controls",
            "_view_module_version": "1.5.0",
            "_view_name": "HTMLView",
            "description": "",
            "description_tooltip": null,
            "layout": "IPY_MODEL_91c79ff80479435fabcff2108f107362",
            "placeholder": "​",
            "style": "IPY_MODEL_792c79c1d9d04c659048c05e249b4c20",
            "value": " 363/363 [00:00&lt;00:00, 5.80kB/s]"
          }
        },
        "c2c30aa69ef6436795fb894b80d4ad93": {
          "model_module": "@jupyter-widgets/base",
          "model_name": "LayoutModel",
          "model_module_version": "1.2.0",
          "state": {
            "_model_module": "@jupyter-widgets/base",
            "_model_module_version": "1.2.0",
            "_model_name": "LayoutModel",
            "_view_count": null,
            "_view_module": "@jupyter-widgets/base",
            "_view_module_version": "1.2.0",
            "_view_name": "LayoutView",
            "align_content": null,
            "align_items": null,
            "align_self": null,
            "border": null,
            "bottom": null,
            "display": null,
            "flex": null,
            "flex_flow": null,
            "grid_area": null,
            "grid_auto_columns": null,
            "grid_auto_flow": null,
            "grid_auto_rows": null,
            "grid_column": null,
            "grid_gap": null,
            "grid_row": null,
            "grid_template_areas": null,
            "grid_template_columns": null,
            "grid_template_rows": null,
            "height": null,
            "justify_content": null,
            "justify_items": null,
            "left": null,
            "margin": null,
            "max_height": null,
            "max_width": null,
            "min_height": null,
            "min_width": null,
            "object_fit": null,
            "object_position": null,
            "order": null,
            "overflow": null,
            "overflow_x": null,
            "overflow_y": null,
            "padding": null,
            "right": null,
            "top": null,
            "visibility": null,
            "width": null
          }
        },
        "f976fe73f16243d6ad249dc513e39c5f": {
          "model_module": "@jupyter-widgets/base",
          "model_name": "LayoutModel",
          "model_module_version": "1.2.0",
          "state": {
            "_model_module": "@jupyter-widgets/base",
            "_model_module_version": "1.2.0",
            "_model_name": "LayoutModel",
            "_view_count": null,
            "_view_module": "@jupyter-widgets/base",
            "_view_module_version": "1.2.0",
            "_view_name": "LayoutView",
            "align_content": null,
            "align_items": null,
            "align_self": null,
            "border": null,
            "bottom": null,
            "display": null,
            "flex": null,
            "flex_flow": null,
            "grid_area": null,
            "grid_auto_columns": null,
            "grid_auto_flow": null,
            "grid_auto_rows": null,
            "grid_column": null,
            "grid_gap": null,
            "grid_row": null,
            "grid_template_areas": null,
            "grid_template_columns": null,
            "grid_template_rows": null,
            "height": null,
            "justify_content": null,
            "justify_items": null,
            "left": null,
            "margin": null,
            "max_height": null,
            "max_width": null,
            "min_height": null,
            "min_width": null,
            "object_fit": null,
            "object_position": null,
            "order": null,
            "overflow": null,
            "overflow_x": null,
            "overflow_y": null,
            "padding": null,
            "right": null,
            "top": null,
            "visibility": null,
            "width": null
          }
        },
        "cd7a8b21b63e434e8be29b2bfe7d28ed": {
          "model_module": "@jupyter-widgets/controls",
          "model_name": "DescriptionStyleModel",
          "model_module_version": "1.5.0",
          "state": {
            "_model_module": "@jupyter-widgets/controls",
            "_model_module_version": "1.5.0",
            "_model_name": "DescriptionStyleModel",
            "_view_count": null,
            "_view_module": "@jupyter-widgets/base",
            "_view_module_version": "1.2.0",
            "_view_name": "StyleView",
            "description_width": ""
          }
        },
        "81a60ee4ff294c61a332302e473a2ab2": {
          "model_module": "@jupyter-widgets/base",
          "model_name": "LayoutModel",
          "model_module_version": "1.2.0",
          "state": {
            "_model_module": "@jupyter-widgets/base",
            "_model_module_version": "1.2.0",
            "_model_name": "LayoutModel",
            "_view_count": null,
            "_view_module": "@jupyter-widgets/base",
            "_view_module_version": "1.2.0",
            "_view_name": "LayoutView",
            "align_content": null,
            "align_items": null,
            "align_self": null,
            "border": null,
            "bottom": null,
            "display": null,
            "flex": null,
            "flex_flow": null,
            "grid_area": null,
            "grid_auto_columns": null,
            "grid_auto_flow": null,
            "grid_auto_rows": null,
            "grid_column": null,
            "grid_gap": null,
            "grid_row": null,
            "grid_template_areas": null,
            "grid_template_columns": null,
            "grid_template_rows": null,
            "height": null,
            "justify_content": null,
            "justify_items": null,
            "left": null,
            "margin": null,
            "max_height": null,
            "max_width": null,
            "min_height": null,
            "min_width": null,
            "object_fit": null,
            "object_position": null,
            "order": null,
            "overflow": null,
            "overflow_x": null,
            "overflow_y": null,
            "padding": null,
            "right": null,
            "top": null,
            "visibility": null,
            "width": null
          }
        },
        "daf58650bd5947c98bfbefc6e86dfe9f": {
          "model_module": "@jupyter-widgets/controls",
          "model_name": "ProgressStyleModel",
          "model_module_version": "1.5.0",
          "state": {
            "_model_module": "@jupyter-widgets/controls",
            "_model_module_version": "1.5.0",
            "_model_name": "ProgressStyleModel",
            "_view_count": null,
            "_view_module": "@jupyter-widgets/base",
            "_view_module_version": "1.2.0",
            "_view_name": "StyleView",
            "bar_color": null,
            "description_width": ""
          }
        },
        "91c79ff80479435fabcff2108f107362": {
          "model_module": "@jupyter-widgets/base",
          "model_name": "LayoutModel",
          "model_module_version": "1.2.0",
          "state": {
            "_model_module": "@jupyter-widgets/base",
            "_model_module_version": "1.2.0",
            "_model_name": "LayoutModel",
            "_view_count": null,
            "_view_module": "@jupyter-widgets/base",
            "_view_module_version": "1.2.0",
            "_view_name": "LayoutView",
            "align_content": null,
            "align_items": null,
            "align_self": null,
            "border": null,
            "bottom": null,
            "display": null,
            "flex": null,
            "flex_flow": null,
            "grid_area": null,
            "grid_auto_columns": null,
            "grid_auto_flow": null,
            "grid_auto_rows": null,
            "grid_column": null,
            "grid_gap": null,
            "grid_row": null,
            "grid_template_areas": null,
            "grid_template_columns": null,
            "grid_template_rows": null,
            "height": null,
            "justify_content": null,
            "justify_items": null,
            "left": null,
            "margin": null,
            "max_height": null,
            "max_width": null,
            "min_height": null,
            "min_width": null,
            "object_fit": null,
            "object_position": null,
            "order": null,
            "overflow": null,
            "overflow_x": null,
            "overflow_y": null,
            "padding": null,
            "right": null,
            "top": null,
            "visibility": null,
            "width": null
          }
        },
        "792c79c1d9d04c659048c05e249b4c20": {
          "model_module": "@jupyter-widgets/controls",
          "model_name": "DescriptionStyleModel",
          "model_module_version": "1.5.0",
          "state": {
            "_model_module": "@jupyter-widgets/controls",
            "_model_module_version": "1.5.0",
            "_model_name": "DescriptionStyleModel",
            "_view_count": null,
            "_view_module": "@jupyter-widgets/base",
            "_view_module_version": "1.2.0",
            "_view_name": "StyleView",
            "description_width": ""
          }
        },
        "91f873475b8a4beabdd6e36462598a97": {
          "model_module": "@jupyter-widgets/controls",
          "model_name": "HBoxModel",
          "model_module_version": "1.5.0",
          "state": {
            "_dom_classes": [],
            "_model_module": "@jupyter-widgets/controls",
            "_model_module_version": "1.5.0",
            "_model_name": "HBoxModel",
            "_view_count": null,
            "_view_module": "@jupyter-widgets/controls",
            "_view_module_version": "1.5.0",
            "_view_name": "HBoxView",
            "box_style": "",
            "children": [
              "IPY_MODEL_f57da6fdf86d4a68919bfbcefa5ea316",
              "IPY_MODEL_1dadc050f9d342af9b5361222f41b44c",
              "IPY_MODEL_92083c8f7c48472b8233013fe6151feb"
            ],
            "layout": "IPY_MODEL_3f9be9ca10af45c4bce8955084a7872e"
          }
        },
        "f57da6fdf86d4a68919bfbcefa5ea316": {
          "model_module": "@jupyter-widgets/controls",
          "model_name": "HTMLModel",
          "model_module_version": "1.5.0",
          "state": {
            "_dom_classes": [],
            "_model_module": "@jupyter-widgets/controls",
            "_model_module_version": "1.5.0",
            "_model_name": "HTMLModel",
            "_view_count": null,
            "_view_module": "@jupyter-widgets/controls",
            "_view_module_version": "1.5.0",
            "_view_name": "HTMLView",
            "description": "",
            "description_tooltip": null,
            "layout": "IPY_MODEL_9092596551c3471c911dfd95bcc63701",
            "placeholder": "​",
            "style": "IPY_MODEL_e3a0cf3ab7ce4a909014820600e27b51",
            "value": "vocab.txt: 100%"
          }
        },
        "1dadc050f9d342af9b5361222f41b44c": {
          "model_module": "@jupyter-widgets/controls",
          "model_name": "FloatProgressModel",
          "model_module_version": "1.5.0",
          "state": {
            "_dom_classes": [],
            "_model_module": "@jupyter-widgets/controls",
            "_model_module_version": "1.5.0",
            "_model_name": "FloatProgressModel",
            "_view_count": null,
            "_view_module": "@jupyter-widgets/controls",
            "_view_module_version": "1.5.0",
            "_view_name": "ProgressView",
            "bar_style": "success",
            "description": "",
            "description_tooltip": null,
            "layout": "IPY_MODEL_ba647a00744d4b4da346507e8435702e",
            "max": 231536,
            "min": 0,
            "orientation": "horizontal",
            "style": "IPY_MODEL_71090ff62e0f497f817c6ed8a9ff10a6",
            "value": 231536
          }
        },
        "92083c8f7c48472b8233013fe6151feb": {
          "model_module": "@jupyter-widgets/controls",
          "model_name": "HTMLModel",
          "model_module_version": "1.5.0",
          "state": {
            "_dom_classes": [],
            "_model_module": "@jupyter-widgets/controls",
            "_model_module_version": "1.5.0",
            "_model_name": "HTMLModel",
            "_view_count": null,
            "_view_module": "@jupyter-widgets/controls",
            "_view_module_version": "1.5.0",
            "_view_name": "HTMLView",
            "description": "",
            "description_tooltip": null,
            "layout": "IPY_MODEL_f551b27abf254721b87ae13f75f75efd",
            "placeholder": "​",
            "style": "IPY_MODEL_ba670a3460e14469844fb1cc41f776c2",
            "value": " 232k/232k [00:00&lt;00:00, 1.31MB/s]"
          }
        },
        "3f9be9ca10af45c4bce8955084a7872e": {
          "model_module": "@jupyter-widgets/base",
          "model_name": "LayoutModel",
          "model_module_version": "1.2.0",
          "state": {
            "_model_module": "@jupyter-widgets/base",
            "_model_module_version": "1.2.0",
            "_model_name": "LayoutModel",
            "_view_count": null,
            "_view_module": "@jupyter-widgets/base",
            "_view_module_version": "1.2.0",
            "_view_name": "LayoutView",
            "align_content": null,
            "align_items": null,
            "align_self": null,
            "border": null,
            "bottom": null,
            "display": null,
            "flex": null,
            "flex_flow": null,
            "grid_area": null,
            "grid_auto_columns": null,
            "grid_auto_flow": null,
            "grid_auto_rows": null,
            "grid_column": null,
            "grid_gap": null,
            "grid_row": null,
            "grid_template_areas": null,
            "grid_template_columns": null,
            "grid_template_rows": null,
            "height": null,
            "justify_content": null,
            "justify_items": null,
            "left": null,
            "margin": null,
            "max_height": null,
            "max_width": null,
            "min_height": null,
            "min_width": null,
            "object_fit": null,
            "object_position": null,
            "order": null,
            "overflow": null,
            "overflow_x": null,
            "overflow_y": null,
            "padding": null,
            "right": null,
            "top": null,
            "visibility": null,
            "width": null
          }
        },
        "9092596551c3471c911dfd95bcc63701": {
          "model_module": "@jupyter-widgets/base",
          "model_name": "LayoutModel",
          "model_module_version": "1.2.0",
          "state": {
            "_model_module": "@jupyter-widgets/base",
            "_model_module_version": "1.2.0",
            "_model_name": "LayoutModel",
            "_view_count": null,
            "_view_module": "@jupyter-widgets/base",
            "_view_module_version": "1.2.0",
            "_view_name": "LayoutView",
            "align_content": null,
            "align_items": null,
            "align_self": null,
            "border": null,
            "bottom": null,
            "display": null,
            "flex": null,
            "flex_flow": null,
            "grid_area": null,
            "grid_auto_columns": null,
            "grid_auto_flow": null,
            "grid_auto_rows": null,
            "grid_column": null,
            "grid_gap": null,
            "grid_row": null,
            "grid_template_areas": null,
            "grid_template_columns": null,
            "grid_template_rows": null,
            "height": null,
            "justify_content": null,
            "justify_items": null,
            "left": null,
            "margin": null,
            "max_height": null,
            "max_width": null,
            "min_height": null,
            "min_width": null,
            "object_fit": null,
            "object_position": null,
            "order": null,
            "overflow": null,
            "overflow_x": null,
            "overflow_y": null,
            "padding": null,
            "right": null,
            "top": null,
            "visibility": null,
            "width": null
          }
        },
        "e3a0cf3ab7ce4a909014820600e27b51": {
          "model_module": "@jupyter-widgets/controls",
          "model_name": "DescriptionStyleModel",
          "model_module_version": "1.5.0",
          "state": {
            "_model_module": "@jupyter-widgets/controls",
            "_model_module_version": "1.5.0",
            "_model_name": "DescriptionStyleModel",
            "_view_count": null,
            "_view_module": "@jupyter-widgets/base",
            "_view_module_version": "1.2.0",
            "_view_name": "StyleView",
            "description_width": ""
          }
        },
        "ba647a00744d4b4da346507e8435702e": {
          "model_module": "@jupyter-widgets/base",
          "model_name": "LayoutModel",
          "model_module_version": "1.2.0",
          "state": {
            "_model_module": "@jupyter-widgets/base",
            "_model_module_version": "1.2.0",
            "_model_name": "LayoutModel",
            "_view_count": null,
            "_view_module": "@jupyter-widgets/base",
            "_view_module_version": "1.2.0",
            "_view_name": "LayoutView",
            "align_content": null,
            "align_items": null,
            "align_self": null,
            "border": null,
            "bottom": null,
            "display": null,
            "flex": null,
            "flex_flow": null,
            "grid_area": null,
            "grid_auto_columns": null,
            "grid_auto_flow": null,
            "grid_auto_rows": null,
            "grid_column": null,
            "grid_gap": null,
            "grid_row": null,
            "grid_template_areas": null,
            "grid_template_columns": null,
            "grid_template_rows": null,
            "height": null,
            "justify_content": null,
            "justify_items": null,
            "left": null,
            "margin": null,
            "max_height": null,
            "max_width": null,
            "min_height": null,
            "min_width": null,
            "object_fit": null,
            "object_position": null,
            "order": null,
            "overflow": null,
            "overflow_x": null,
            "overflow_y": null,
            "padding": null,
            "right": null,
            "top": null,
            "visibility": null,
            "width": null
          }
        },
        "71090ff62e0f497f817c6ed8a9ff10a6": {
          "model_module": "@jupyter-widgets/controls",
          "model_name": "ProgressStyleModel",
          "model_module_version": "1.5.0",
          "state": {
            "_model_module": "@jupyter-widgets/controls",
            "_model_module_version": "1.5.0",
            "_model_name": "ProgressStyleModel",
            "_view_count": null,
            "_view_module": "@jupyter-widgets/base",
            "_view_module_version": "1.2.0",
            "_view_name": "StyleView",
            "bar_color": null,
            "description_width": ""
          }
        },
        "f551b27abf254721b87ae13f75f75efd": {
          "model_module": "@jupyter-widgets/base",
          "model_name": "LayoutModel",
          "model_module_version": "1.2.0",
          "state": {
            "_model_module": "@jupyter-widgets/base",
            "_model_module_version": "1.2.0",
            "_model_name": "LayoutModel",
            "_view_count": null,
            "_view_module": "@jupyter-widgets/base",
            "_view_module_version": "1.2.0",
            "_view_name": "LayoutView",
            "align_content": null,
            "align_items": null,
            "align_self": null,
            "border": null,
            "bottom": null,
            "display": null,
            "flex": null,
            "flex_flow": null,
            "grid_area": null,
            "grid_auto_columns": null,
            "grid_auto_flow": null,
            "grid_auto_rows": null,
            "grid_column": null,
            "grid_gap": null,
            "grid_row": null,
            "grid_template_areas": null,
            "grid_template_columns": null,
            "grid_template_rows": null,
            "height": null,
            "justify_content": null,
            "justify_items": null,
            "left": null,
            "margin": null,
            "max_height": null,
            "max_width": null,
            "min_height": null,
            "min_width": null,
            "object_fit": null,
            "object_position": null,
            "order": null,
            "overflow": null,
            "overflow_x": null,
            "overflow_y": null,
            "padding": null,
            "right": null,
            "top": null,
            "visibility": null,
            "width": null
          }
        },
        "ba670a3460e14469844fb1cc41f776c2": {
          "model_module": "@jupyter-widgets/controls",
          "model_name": "DescriptionStyleModel",
          "model_module_version": "1.5.0",
          "state": {
            "_model_module": "@jupyter-widgets/controls",
            "_model_module_version": "1.5.0",
            "_model_name": "DescriptionStyleModel",
            "_view_count": null,
            "_view_module": "@jupyter-widgets/base",
            "_view_module_version": "1.2.0",
            "_view_name": "StyleView",
            "description_width": ""
          }
        },
        "99fc08be0b474eaabde977effda17e3d": {
          "model_module": "@jupyter-widgets/controls",
          "model_name": "HBoxModel",
          "model_module_version": "1.5.0",
          "state": {
            "_dom_classes": [],
            "_model_module": "@jupyter-widgets/controls",
            "_model_module_version": "1.5.0",
            "_model_name": "HBoxModel",
            "_view_count": null,
            "_view_module": "@jupyter-widgets/controls",
            "_view_module_version": "1.5.0",
            "_view_name": "HBoxView",
            "box_style": "",
            "children": [
              "IPY_MODEL_357df1bad06146e694244ef7775b38df",
              "IPY_MODEL_de1bc43f07824341bee50a356185ffc1",
              "IPY_MODEL_c7e1f97051e6474a825e3ffeb09513f3"
            ],
            "layout": "IPY_MODEL_81295ae7fdb14638b2b157ddfaece5c2"
          }
        },
        "357df1bad06146e694244ef7775b38df": {
          "model_module": "@jupyter-widgets/controls",
          "model_name": "HTMLModel",
          "model_module_version": "1.5.0",
          "state": {
            "_dom_classes": [],
            "_model_module": "@jupyter-widgets/controls",
            "_model_module_version": "1.5.0",
            "_model_name": "HTMLModel",
            "_view_count": null,
            "_view_module": "@jupyter-widgets/controls",
            "_view_module_version": "1.5.0",
            "_view_name": "HTMLView",
            "description": "",
            "description_tooltip": null,
            "layout": "IPY_MODEL_6b762ca759134cd2a209497ac58afb96",
            "placeholder": "​",
            "style": "IPY_MODEL_0c3caad887244d00958ed85423ef395e",
            "value": "tokenizer.json: 100%"
          }
        },
        "de1bc43f07824341bee50a356185ffc1": {
          "model_module": "@jupyter-widgets/controls",
          "model_name": "FloatProgressModel",
          "model_module_version": "1.5.0",
          "state": {
            "_dom_classes": [],
            "_model_module": "@jupyter-widgets/controls",
            "_model_module_version": "1.5.0",
            "_model_name": "FloatProgressModel",
            "_view_count": null,
            "_view_module": "@jupyter-widgets/controls",
            "_view_module_version": "1.5.0",
            "_view_name": "ProgressView",
            "bar_style": "success",
            "description": "",
            "description_tooltip": null,
            "layout": "IPY_MODEL_ca5af353f75d43b5a8439fd9ea4f0143",
            "max": 466021,
            "min": 0,
            "orientation": "horizontal",
            "style": "IPY_MODEL_cc7add388d8548eaa95fb9f3f7eefa98",
            "value": 466021
          }
        },
        "c7e1f97051e6474a825e3ffeb09513f3": {
          "model_module": "@jupyter-widgets/controls",
          "model_name": "HTMLModel",
          "model_module_version": "1.5.0",
          "state": {
            "_dom_classes": [],
            "_model_module": "@jupyter-widgets/controls",
            "_model_module_version": "1.5.0",
            "_model_name": "HTMLModel",
            "_view_count": null,
            "_view_module": "@jupyter-widgets/controls",
            "_view_module_version": "1.5.0",
            "_view_name": "HTMLView",
            "description": "",
            "description_tooltip": null,
            "layout": "IPY_MODEL_bbe95f2ee61748e8a15f03bb8ab77f1f",
            "placeholder": "​",
            "style": "IPY_MODEL_b1731f0efdb64dd88e97fee22e0bc062",
            "value": " 466k/466k [00:00&lt;00:00, 5.01MB/s]"
          }
        },
        "81295ae7fdb14638b2b157ddfaece5c2": {
          "model_module": "@jupyter-widgets/base",
          "model_name": "LayoutModel",
          "model_module_version": "1.2.0",
          "state": {
            "_model_module": "@jupyter-widgets/base",
            "_model_module_version": "1.2.0",
            "_model_name": "LayoutModel",
            "_view_count": null,
            "_view_module": "@jupyter-widgets/base",
            "_view_module_version": "1.2.0",
            "_view_name": "LayoutView",
            "align_content": null,
            "align_items": null,
            "align_self": null,
            "border": null,
            "bottom": null,
            "display": null,
            "flex": null,
            "flex_flow": null,
            "grid_area": null,
            "grid_auto_columns": null,
            "grid_auto_flow": null,
            "grid_auto_rows": null,
            "grid_column": null,
            "grid_gap": null,
            "grid_row": null,
            "grid_template_areas": null,
            "grid_template_columns": null,
            "grid_template_rows": null,
            "height": null,
            "justify_content": null,
            "justify_items": null,
            "left": null,
            "margin": null,
            "max_height": null,
            "max_width": null,
            "min_height": null,
            "min_width": null,
            "object_fit": null,
            "object_position": null,
            "order": null,
            "overflow": null,
            "overflow_x": null,
            "overflow_y": null,
            "padding": null,
            "right": null,
            "top": null,
            "visibility": null,
            "width": null
          }
        },
        "6b762ca759134cd2a209497ac58afb96": {
          "model_module": "@jupyter-widgets/base",
          "model_name": "LayoutModel",
          "model_module_version": "1.2.0",
          "state": {
            "_model_module": "@jupyter-widgets/base",
            "_model_module_version": "1.2.0",
            "_model_name": "LayoutModel",
            "_view_count": null,
            "_view_module": "@jupyter-widgets/base",
            "_view_module_version": "1.2.0",
            "_view_name": "LayoutView",
            "align_content": null,
            "align_items": null,
            "align_self": null,
            "border": null,
            "bottom": null,
            "display": null,
            "flex": null,
            "flex_flow": null,
            "grid_area": null,
            "grid_auto_columns": null,
            "grid_auto_flow": null,
            "grid_auto_rows": null,
            "grid_column": null,
            "grid_gap": null,
            "grid_row": null,
            "grid_template_areas": null,
            "grid_template_columns": null,
            "grid_template_rows": null,
            "height": null,
            "justify_content": null,
            "justify_items": null,
            "left": null,
            "margin": null,
            "max_height": null,
            "max_width": null,
            "min_height": null,
            "min_width": null,
            "object_fit": null,
            "object_position": null,
            "order": null,
            "overflow": null,
            "overflow_x": null,
            "overflow_y": null,
            "padding": null,
            "right": null,
            "top": null,
            "visibility": null,
            "width": null
          }
        },
        "0c3caad887244d00958ed85423ef395e": {
          "model_module": "@jupyter-widgets/controls",
          "model_name": "DescriptionStyleModel",
          "model_module_version": "1.5.0",
          "state": {
            "_model_module": "@jupyter-widgets/controls",
            "_model_module_version": "1.5.0",
            "_model_name": "DescriptionStyleModel",
            "_view_count": null,
            "_view_module": "@jupyter-widgets/base",
            "_view_module_version": "1.2.0",
            "_view_name": "StyleView",
            "description_width": ""
          }
        },
        "ca5af353f75d43b5a8439fd9ea4f0143": {
          "model_module": "@jupyter-widgets/base",
          "model_name": "LayoutModel",
          "model_module_version": "1.2.0",
          "state": {
            "_model_module": "@jupyter-widgets/base",
            "_model_module_version": "1.2.0",
            "_model_name": "LayoutModel",
            "_view_count": null,
            "_view_module": "@jupyter-widgets/base",
            "_view_module_version": "1.2.0",
            "_view_name": "LayoutView",
            "align_content": null,
            "align_items": null,
            "align_self": null,
            "border": null,
            "bottom": null,
            "display": null,
            "flex": null,
            "flex_flow": null,
            "grid_area": null,
            "grid_auto_columns": null,
            "grid_auto_flow": null,
            "grid_auto_rows": null,
            "grid_column": null,
            "grid_gap": null,
            "grid_row": null,
            "grid_template_areas": null,
            "grid_template_columns": null,
            "grid_template_rows": null,
            "height": null,
            "justify_content": null,
            "justify_items": null,
            "left": null,
            "margin": null,
            "max_height": null,
            "max_width": null,
            "min_height": null,
            "min_width": null,
            "object_fit": null,
            "object_position": null,
            "order": null,
            "overflow": null,
            "overflow_x": null,
            "overflow_y": null,
            "padding": null,
            "right": null,
            "top": null,
            "visibility": null,
            "width": null
          }
        },
        "cc7add388d8548eaa95fb9f3f7eefa98": {
          "model_module": "@jupyter-widgets/controls",
          "model_name": "ProgressStyleModel",
          "model_module_version": "1.5.0",
          "state": {
            "_model_module": "@jupyter-widgets/controls",
            "_model_module_version": "1.5.0",
            "_model_name": "ProgressStyleModel",
            "_view_count": null,
            "_view_module": "@jupyter-widgets/base",
            "_view_module_version": "1.2.0",
            "_view_name": "StyleView",
            "bar_color": null,
            "description_width": ""
          }
        },
        "bbe95f2ee61748e8a15f03bb8ab77f1f": {
          "model_module": "@jupyter-widgets/base",
          "model_name": "LayoutModel",
          "model_module_version": "1.2.0",
          "state": {
            "_model_module": "@jupyter-widgets/base",
            "_model_module_version": "1.2.0",
            "_model_name": "LayoutModel",
            "_view_count": null,
            "_view_module": "@jupyter-widgets/base",
            "_view_module_version": "1.2.0",
            "_view_name": "LayoutView",
            "align_content": null,
            "align_items": null,
            "align_self": null,
            "border": null,
            "bottom": null,
            "display": null,
            "flex": null,
            "flex_flow": null,
            "grid_area": null,
            "grid_auto_columns": null,
            "grid_auto_flow": null,
            "grid_auto_rows": null,
            "grid_column": null,
            "grid_gap": null,
            "grid_row": null,
            "grid_template_areas": null,
            "grid_template_columns": null,
            "grid_template_rows": null,
            "height": null,
            "justify_content": null,
            "justify_items": null,
            "left": null,
            "margin": null,
            "max_height": null,
            "max_width": null,
            "min_height": null,
            "min_width": null,
            "object_fit": null,
            "object_position": null,
            "order": null,
            "overflow": null,
            "overflow_x": null,
            "overflow_y": null,
            "padding": null,
            "right": null,
            "top": null,
            "visibility": null,
            "width": null
          }
        },
        "b1731f0efdb64dd88e97fee22e0bc062": {
          "model_module": "@jupyter-widgets/controls",
          "model_name": "DescriptionStyleModel",
          "model_module_version": "1.5.0",
          "state": {
            "_model_module": "@jupyter-widgets/controls",
            "_model_module_version": "1.5.0",
            "_model_name": "DescriptionStyleModel",
            "_view_count": null,
            "_view_module": "@jupyter-widgets/base",
            "_view_module_version": "1.2.0",
            "_view_name": "StyleView",
            "description_width": ""
          }
        },
        "a125c3f62090457db24e54ab043ceb1a": {
          "model_module": "@jupyter-widgets/controls",
          "model_name": "HBoxModel",
          "model_module_version": "1.5.0",
          "state": {
            "_dom_classes": [],
            "_model_module": "@jupyter-widgets/controls",
            "_model_module_version": "1.5.0",
            "_model_name": "HBoxModel",
            "_view_count": null,
            "_view_module": "@jupyter-widgets/controls",
            "_view_module_version": "1.5.0",
            "_view_name": "HBoxView",
            "box_style": "",
            "children": [
              "IPY_MODEL_6231a002f3734fde91a3f330bb0dedfe",
              "IPY_MODEL_5bf76e2fb608410092197135d675615b",
              "IPY_MODEL_0dc92af05bfc419ca6afe6b8ca43fb6f"
            ],
            "layout": "IPY_MODEL_f94de3103fbd4c42a3c207cbbff8f77d"
          }
        },
        "6231a002f3734fde91a3f330bb0dedfe": {
          "model_module": "@jupyter-widgets/controls",
          "model_name": "HTMLModel",
          "model_module_version": "1.5.0",
          "state": {
            "_dom_classes": [],
            "_model_module": "@jupyter-widgets/controls",
            "_model_module_version": "1.5.0",
            "_model_name": "HTMLModel",
            "_view_count": null,
            "_view_module": "@jupyter-widgets/controls",
            "_view_module_version": "1.5.0",
            "_view_name": "HTMLView",
            "description": "",
            "description_tooltip": null,
            "layout": "IPY_MODEL_1bf073cdccdd49819ce98dd2c8927d50",
            "placeholder": "​",
            "style": "IPY_MODEL_a64eb58a7ac0431a868e6375bbe03de8",
            "value": "special_tokens_map.json: 100%"
          }
        },
        "5bf76e2fb608410092197135d675615b": {
          "model_module": "@jupyter-widgets/controls",
          "model_name": "FloatProgressModel",
          "model_module_version": "1.5.0",
          "state": {
            "_dom_classes": [],
            "_model_module": "@jupyter-widgets/controls",
            "_model_module_version": "1.5.0",
            "_model_name": "FloatProgressModel",
            "_view_count": null,
            "_view_module": "@jupyter-widgets/controls",
            "_view_module_version": "1.5.0",
            "_view_name": "ProgressView",
            "bar_style": "success",
            "description": "",
            "description_tooltip": null,
            "layout": "IPY_MODEL_0c2dc3c8fee44c09aeba29822372baab",
            "max": 239,
            "min": 0,
            "orientation": "horizontal",
            "style": "IPY_MODEL_ee1f282f5bc14047a45ed7d99ab95649",
            "value": 239
          }
        },
        "0dc92af05bfc419ca6afe6b8ca43fb6f": {
          "model_module": "@jupyter-widgets/controls",
          "model_name": "HTMLModel",
          "model_module_version": "1.5.0",
          "state": {
            "_dom_classes": [],
            "_model_module": "@jupyter-widgets/controls",
            "_model_module_version": "1.5.0",
            "_model_name": "HTMLModel",
            "_view_count": null,
            "_view_module": "@jupyter-widgets/controls",
            "_view_module_version": "1.5.0",
            "_view_name": "HTMLView",
            "description": "",
            "description_tooltip": null,
            "layout": "IPY_MODEL_33dffcf38c4342639b6a2ae911df0465",
            "placeholder": "​",
            "style": "IPY_MODEL_ccf31622eaf34d3c9bcd5aa9b2a45ac5",
            "value": " 239/239 [00:00&lt;00:00, 2.31kB/s]"
          }
        },
        "f94de3103fbd4c42a3c207cbbff8f77d": {
          "model_module": "@jupyter-widgets/base",
          "model_name": "LayoutModel",
          "model_module_version": "1.2.0",
          "state": {
            "_model_module": "@jupyter-widgets/base",
            "_model_module_version": "1.2.0",
            "_model_name": "LayoutModel",
            "_view_count": null,
            "_view_module": "@jupyter-widgets/base",
            "_view_module_version": "1.2.0",
            "_view_name": "LayoutView",
            "align_content": null,
            "align_items": null,
            "align_self": null,
            "border": null,
            "bottom": null,
            "display": null,
            "flex": null,
            "flex_flow": null,
            "grid_area": null,
            "grid_auto_columns": null,
            "grid_auto_flow": null,
            "grid_auto_rows": null,
            "grid_column": null,
            "grid_gap": null,
            "grid_row": null,
            "grid_template_areas": null,
            "grid_template_columns": null,
            "grid_template_rows": null,
            "height": null,
            "justify_content": null,
            "justify_items": null,
            "left": null,
            "margin": null,
            "max_height": null,
            "max_width": null,
            "min_height": null,
            "min_width": null,
            "object_fit": null,
            "object_position": null,
            "order": null,
            "overflow": null,
            "overflow_x": null,
            "overflow_y": null,
            "padding": null,
            "right": null,
            "top": null,
            "visibility": null,
            "width": null
          }
        },
        "1bf073cdccdd49819ce98dd2c8927d50": {
          "model_module": "@jupyter-widgets/base",
          "model_name": "LayoutModel",
          "model_module_version": "1.2.0",
          "state": {
            "_model_module": "@jupyter-widgets/base",
            "_model_module_version": "1.2.0",
            "_model_name": "LayoutModel",
            "_view_count": null,
            "_view_module": "@jupyter-widgets/base",
            "_view_module_version": "1.2.0",
            "_view_name": "LayoutView",
            "align_content": null,
            "align_items": null,
            "align_self": null,
            "border": null,
            "bottom": null,
            "display": null,
            "flex": null,
            "flex_flow": null,
            "grid_area": null,
            "grid_auto_columns": null,
            "grid_auto_flow": null,
            "grid_auto_rows": null,
            "grid_column": null,
            "grid_gap": null,
            "grid_row": null,
            "grid_template_areas": null,
            "grid_template_columns": null,
            "grid_template_rows": null,
            "height": null,
            "justify_content": null,
            "justify_items": null,
            "left": null,
            "margin": null,
            "max_height": null,
            "max_width": null,
            "min_height": null,
            "min_width": null,
            "object_fit": null,
            "object_position": null,
            "order": null,
            "overflow": null,
            "overflow_x": null,
            "overflow_y": null,
            "padding": null,
            "right": null,
            "top": null,
            "visibility": null,
            "width": null
          }
        },
        "a64eb58a7ac0431a868e6375bbe03de8": {
          "model_module": "@jupyter-widgets/controls",
          "model_name": "DescriptionStyleModel",
          "model_module_version": "1.5.0",
          "state": {
            "_model_module": "@jupyter-widgets/controls",
            "_model_module_version": "1.5.0",
            "_model_name": "DescriptionStyleModel",
            "_view_count": null,
            "_view_module": "@jupyter-widgets/base",
            "_view_module_version": "1.2.0",
            "_view_name": "StyleView",
            "description_width": ""
          }
        },
        "0c2dc3c8fee44c09aeba29822372baab": {
          "model_module": "@jupyter-widgets/base",
          "model_name": "LayoutModel",
          "model_module_version": "1.2.0",
          "state": {
            "_model_module": "@jupyter-widgets/base",
            "_model_module_version": "1.2.0",
            "_model_name": "LayoutModel",
            "_view_count": null,
            "_view_module": "@jupyter-widgets/base",
            "_view_module_version": "1.2.0",
            "_view_name": "LayoutView",
            "align_content": null,
            "align_items": null,
            "align_self": null,
            "border": null,
            "bottom": null,
            "display": null,
            "flex": null,
            "flex_flow": null,
            "grid_area": null,
            "grid_auto_columns": null,
            "grid_auto_flow": null,
            "grid_auto_rows": null,
            "grid_column": null,
            "grid_gap": null,
            "grid_row": null,
            "grid_template_areas": null,
            "grid_template_columns": null,
            "grid_template_rows": null,
            "height": null,
            "justify_content": null,
            "justify_items": null,
            "left": null,
            "margin": null,
            "max_height": null,
            "max_width": null,
            "min_height": null,
            "min_width": null,
            "object_fit": null,
            "object_position": null,
            "order": null,
            "overflow": null,
            "overflow_x": null,
            "overflow_y": null,
            "padding": null,
            "right": null,
            "top": null,
            "visibility": null,
            "width": null
          }
        },
        "ee1f282f5bc14047a45ed7d99ab95649": {
          "model_module": "@jupyter-widgets/controls",
          "model_name": "ProgressStyleModel",
          "model_module_version": "1.5.0",
          "state": {
            "_model_module": "@jupyter-widgets/controls",
            "_model_module_version": "1.5.0",
            "_model_name": "ProgressStyleModel",
            "_view_count": null,
            "_view_module": "@jupyter-widgets/base",
            "_view_module_version": "1.2.0",
            "_view_name": "StyleView",
            "bar_color": null,
            "description_width": ""
          }
        },
        "33dffcf38c4342639b6a2ae911df0465": {
          "model_module": "@jupyter-widgets/base",
          "model_name": "LayoutModel",
          "model_module_version": "1.2.0",
          "state": {
            "_model_module": "@jupyter-widgets/base",
            "_model_module_version": "1.2.0",
            "_model_name": "LayoutModel",
            "_view_count": null,
            "_view_module": "@jupyter-widgets/base",
            "_view_module_version": "1.2.0",
            "_view_name": "LayoutView",
            "align_content": null,
            "align_items": null,
            "align_self": null,
            "border": null,
            "bottom": null,
            "display": null,
            "flex": null,
            "flex_flow": null,
            "grid_area": null,
            "grid_auto_columns": null,
            "grid_auto_flow": null,
            "grid_auto_rows": null,
            "grid_column": null,
            "grid_gap": null,
            "grid_row": null,
            "grid_template_areas": null,
            "grid_template_columns": null,
            "grid_template_rows": null,
            "height": null,
            "justify_content": null,
            "justify_items": null,
            "left": null,
            "margin": null,
            "max_height": null,
            "max_width": null,
            "min_height": null,
            "min_width": null,
            "object_fit": null,
            "object_position": null,
            "order": null,
            "overflow": null,
            "overflow_x": null,
            "overflow_y": null,
            "padding": null,
            "right": null,
            "top": null,
            "visibility": null,
            "width": null
          }
        },
        "ccf31622eaf34d3c9bcd5aa9b2a45ac5": {
          "model_module": "@jupyter-widgets/controls",
          "model_name": "DescriptionStyleModel",
          "model_module_version": "1.5.0",
          "state": {
            "_model_module": "@jupyter-widgets/controls",
            "_model_module_version": "1.5.0",
            "_model_name": "DescriptionStyleModel",
            "_view_count": null,
            "_view_module": "@jupyter-widgets/base",
            "_view_module_version": "1.2.0",
            "_view_name": "StyleView",
            "description_width": ""
          }
        },
        "bb6fc6c6be0f49649f6868df3c2a8754": {
          "model_module": "@jupyter-widgets/controls",
          "model_name": "HBoxModel",
          "model_module_version": "1.5.0",
          "state": {
            "_dom_classes": [],
            "_model_module": "@jupyter-widgets/controls",
            "_model_module_version": "1.5.0",
            "_model_name": "HBoxModel",
            "_view_count": null,
            "_view_module": "@jupyter-widgets/controls",
            "_view_module_version": "1.5.0",
            "_view_name": "HBoxView",
            "box_style": "",
            "children": [
              "IPY_MODEL_1a5d965506df4546953ad99ee3aed6d6",
              "IPY_MODEL_004f644b523943558369bb66acf8e973",
              "IPY_MODEL_122a524c0de849d08c96956722faca5f"
            ],
            "layout": "IPY_MODEL_0c2bf6ba8b94498a92e8dcfe25dc90c3"
          }
        },
        "1a5d965506df4546953ad99ee3aed6d6": {
          "model_module": "@jupyter-widgets/controls",
          "model_name": "HTMLModel",
          "model_module_version": "1.5.0",
          "state": {
            "_dom_classes": [],
            "_model_module": "@jupyter-widgets/controls",
            "_model_module_version": "1.5.0",
            "_model_name": "HTMLModel",
            "_view_count": null,
            "_view_module": "@jupyter-widgets/controls",
            "_view_module_version": "1.5.0",
            "_view_name": "HTMLView",
            "description": "",
            "description_tooltip": null,
            "layout": "IPY_MODEL_263fa7399b8a411597ad78689d12cae5",
            "placeholder": "​",
            "style": "IPY_MODEL_f6a82b33d8a04a1b8643756a043f1750",
            "value": "config.json: 100%"
          }
        },
        "004f644b523943558369bb66acf8e973": {
          "model_module": "@jupyter-widgets/controls",
          "model_name": "FloatProgressModel",
          "model_module_version": "1.5.0",
          "state": {
            "_dom_classes": [],
            "_model_module": "@jupyter-widgets/controls",
            "_model_module_version": "1.5.0",
            "_model_name": "FloatProgressModel",
            "_view_count": null,
            "_view_module": "@jupyter-widgets/controls",
            "_view_module_version": "1.5.0",
            "_view_name": "ProgressView",
            "bar_style": "success",
            "description": "",
            "description_tooltip": null,
            "layout": "IPY_MODEL_a756009bde6d4fe5b21cb4e9696e8816",
            "max": 571,
            "min": 0,
            "orientation": "horizontal",
            "style": "IPY_MODEL_7a92ef93012741f5b1031d8cb233c2ae",
            "value": 571
          }
        },
        "122a524c0de849d08c96956722faca5f": {
          "model_module": "@jupyter-widgets/controls",
          "model_name": "HTMLModel",
          "model_module_version": "1.5.0",
          "state": {
            "_dom_classes": [],
            "_model_module": "@jupyter-widgets/controls",
            "_model_module_version": "1.5.0",
            "_model_name": "HTMLModel",
            "_view_count": null,
            "_view_module": "@jupyter-widgets/controls",
            "_view_module_version": "1.5.0",
            "_view_name": "HTMLView",
            "description": "",
            "description_tooltip": null,
            "layout": "IPY_MODEL_524a4e0cba7b46398765dc5161b21b20",
            "placeholder": "​",
            "style": "IPY_MODEL_10110cabf2b843ac8deb73f7229c9a61",
            "value": " 571/571 [00:00&lt;00:00, 6.58kB/s]"
          }
        },
        "0c2bf6ba8b94498a92e8dcfe25dc90c3": {
          "model_module": "@jupyter-widgets/base",
          "model_name": "LayoutModel",
          "model_module_version": "1.2.0",
          "state": {
            "_model_module": "@jupyter-widgets/base",
            "_model_module_version": "1.2.0",
            "_model_name": "LayoutModel",
            "_view_count": null,
            "_view_module": "@jupyter-widgets/base",
            "_view_module_version": "1.2.0",
            "_view_name": "LayoutView",
            "align_content": null,
            "align_items": null,
            "align_self": null,
            "border": null,
            "bottom": null,
            "display": null,
            "flex": null,
            "flex_flow": null,
            "grid_area": null,
            "grid_auto_columns": null,
            "grid_auto_flow": null,
            "grid_auto_rows": null,
            "grid_column": null,
            "grid_gap": null,
            "grid_row": null,
            "grid_template_areas": null,
            "grid_template_columns": null,
            "grid_template_rows": null,
            "height": null,
            "justify_content": null,
            "justify_items": null,
            "left": null,
            "margin": null,
            "max_height": null,
            "max_width": null,
            "min_height": null,
            "min_width": null,
            "object_fit": null,
            "object_position": null,
            "order": null,
            "overflow": null,
            "overflow_x": null,
            "overflow_y": null,
            "padding": null,
            "right": null,
            "top": null,
            "visibility": null,
            "width": null
          }
        },
        "263fa7399b8a411597ad78689d12cae5": {
          "model_module": "@jupyter-widgets/base",
          "model_name": "LayoutModel",
          "model_module_version": "1.2.0",
          "state": {
            "_model_module": "@jupyter-widgets/base",
            "_model_module_version": "1.2.0",
            "_model_name": "LayoutModel",
            "_view_count": null,
            "_view_module": "@jupyter-widgets/base",
            "_view_module_version": "1.2.0",
            "_view_name": "LayoutView",
            "align_content": null,
            "align_items": null,
            "align_self": null,
            "border": null,
            "bottom": null,
            "display": null,
            "flex": null,
            "flex_flow": null,
            "grid_area": null,
            "grid_auto_columns": null,
            "grid_auto_flow": null,
            "grid_auto_rows": null,
            "grid_column": null,
            "grid_gap": null,
            "grid_row": null,
            "grid_template_areas": null,
            "grid_template_columns": null,
            "grid_template_rows": null,
            "height": null,
            "justify_content": null,
            "justify_items": null,
            "left": null,
            "margin": null,
            "max_height": null,
            "max_width": null,
            "min_height": null,
            "min_width": null,
            "object_fit": null,
            "object_position": null,
            "order": null,
            "overflow": null,
            "overflow_x": null,
            "overflow_y": null,
            "padding": null,
            "right": null,
            "top": null,
            "visibility": null,
            "width": null
          }
        },
        "f6a82b33d8a04a1b8643756a043f1750": {
          "model_module": "@jupyter-widgets/controls",
          "model_name": "DescriptionStyleModel",
          "model_module_version": "1.5.0",
          "state": {
            "_model_module": "@jupyter-widgets/controls",
            "_model_module_version": "1.5.0",
            "_model_name": "DescriptionStyleModel",
            "_view_count": null,
            "_view_module": "@jupyter-widgets/base",
            "_view_module_version": "1.2.0",
            "_view_name": "StyleView",
            "description_width": ""
          }
        },
        "a756009bde6d4fe5b21cb4e9696e8816": {
          "model_module": "@jupyter-widgets/base",
          "model_name": "LayoutModel",
          "model_module_version": "1.2.0",
          "state": {
            "_model_module": "@jupyter-widgets/base",
            "_model_module_version": "1.2.0",
            "_model_name": "LayoutModel",
            "_view_count": null,
            "_view_module": "@jupyter-widgets/base",
            "_view_module_version": "1.2.0",
            "_view_name": "LayoutView",
            "align_content": null,
            "align_items": null,
            "align_self": null,
            "border": null,
            "bottom": null,
            "display": null,
            "flex": null,
            "flex_flow": null,
            "grid_area": null,
            "grid_auto_columns": null,
            "grid_auto_flow": null,
            "grid_auto_rows": null,
            "grid_column": null,
            "grid_gap": null,
            "grid_row": null,
            "grid_template_areas": null,
            "grid_template_columns": null,
            "grid_template_rows": null,
            "height": null,
            "justify_content": null,
            "justify_items": null,
            "left": null,
            "margin": null,
            "max_height": null,
            "max_width": null,
            "min_height": null,
            "min_width": null,
            "object_fit": null,
            "object_position": null,
            "order": null,
            "overflow": null,
            "overflow_x": null,
            "overflow_y": null,
            "padding": null,
            "right": null,
            "top": null,
            "visibility": null,
            "width": null
          }
        },
        "7a92ef93012741f5b1031d8cb233c2ae": {
          "model_module": "@jupyter-widgets/controls",
          "model_name": "ProgressStyleModel",
          "model_module_version": "1.5.0",
          "state": {
            "_model_module": "@jupyter-widgets/controls",
            "_model_module_version": "1.5.0",
            "_model_name": "ProgressStyleModel",
            "_view_count": null,
            "_view_module": "@jupyter-widgets/base",
            "_view_module_version": "1.2.0",
            "_view_name": "StyleView",
            "bar_color": null,
            "description_width": ""
          }
        },
        "524a4e0cba7b46398765dc5161b21b20": {
          "model_module": "@jupyter-widgets/base",
          "model_name": "LayoutModel",
          "model_module_version": "1.2.0",
          "state": {
            "_model_module": "@jupyter-widgets/base",
            "_model_module_version": "1.2.0",
            "_model_name": "LayoutModel",
            "_view_count": null,
            "_view_module": "@jupyter-widgets/base",
            "_view_module_version": "1.2.0",
            "_view_name": "LayoutView",
            "align_content": null,
            "align_items": null,
            "align_self": null,
            "border": null,
            "bottom": null,
            "display": null,
            "flex": null,
            "flex_flow": null,
            "grid_area": null,
            "grid_auto_columns": null,
            "grid_auto_flow": null,
            "grid_auto_rows": null,
            "grid_column": null,
            "grid_gap": null,
            "grid_row": null,
            "grid_template_areas": null,
            "grid_template_columns": null,
            "grid_template_rows": null,
            "height": null,
            "justify_content": null,
            "justify_items": null,
            "left": null,
            "margin": null,
            "max_height": null,
            "max_width": null,
            "min_height": null,
            "min_width": null,
            "object_fit": null,
            "object_position": null,
            "order": null,
            "overflow": null,
            "overflow_x": null,
            "overflow_y": null,
            "padding": null,
            "right": null,
            "top": null,
            "visibility": null,
            "width": null
          }
        },
        "10110cabf2b843ac8deb73f7229c9a61": {
          "model_module": "@jupyter-widgets/controls",
          "model_name": "DescriptionStyleModel",
          "model_module_version": "1.5.0",
          "state": {
            "_model_module": "@jupyter-widgets/controls",
            "_model_module_version": "1.5.0",
            "_model_name": "DescriptionStyleModel",
            "_view_count": null,
            "_view_module": "@jupyter-widgets/base",
            "_view_module_version": "1.2.0",
            "_view_name": "StyleView",
            "description_width": ""
          }
        },
        "c3efc2dcc3964a89bf9721356bad1a30": {
          "model_module": "@jupyter-widgets/controls",
          "model_name": "HBoxModel",
          "model_module_version": "1.5.0",
          "state": {
            "_dom_classes": [],
            "_model_module": "@jupyter-widgets/controls",
            "_model_module_version": "1.5.0",
            "_model_name": "HBoxModel",
            "_view_count": null,
            "_view_module": "@jupyter-widgets/controls",
            "_view_module_version": "1.5.0",
            "_view_name": "HBoxView",
            "box_style": "",
            "children": [
              "IPY_MODEL_a3155842cfcd47d8a511d2e4c110ef85",
              "IPY_MODEL_ccdd58b3c5e149fcb402e9486638b290",
              "IPY_MODEL_c60498b93e804baf851e26cadc90ff26"
            ],
            "layout": "IPY_MODEL_aa1006f78d48403fa885373e87f22f4a"
          }
        },
        "a3155842cfcd47d8a511d2e4c110ef85": {
          "model_module": "@jupyter-widgets/controls",
          "model_name": "HTMLModel",
          "model_module_version": "1.5.0",
          "state": {
            "_dom_classes": [],
            "_model_module": "@jupyter-widgets/controls",
            "_model_module_version": "1.5.0",
            "_model_name": "HTMLModel",
            "_view_count": null,
            "_view_module": "@jupyter-widgets/controls",
            "_view_module_version": "1.5.0",
            "_view_name": "HTMLView",
            "description": "",
            "description_tooltip": null,
            "layout": "IPY_MODEL_ffc6bdec16244a0381b8d29003d004cd",
            "placeholder": "​",
            "style": "IPY_MODEL_b2fdf557e7554463a4eb3b9413c60cee",
            "value": "model.safetensors: 100%"
          }
        },
        "ccdd58b3c5e149fcb402e9486638b290": {
          "model_module": "@jupyter-widgets/controls",
          "model_name": "FloatProgressModel",
          "model_module_version": "1.5.0",
          "state": {
            "_dom_classes": [],
            "_model_module": "@jupyter-widgets/controls",
            "_model_module_version": "1.5.0",
            "_model_name": "FloatProgressModel",
            "_view_count": null,
            "_view_module": "@jupyter-widgets/controls",
            "_view_module_version": "1.5.0",
            "_view_name": "ProgressView",
            "bar_style": "success",
            "description": "",
            "description_tooltip": null,
            "layout": "IPY_MODEL_15a8752bef5749c89c20a96f3062009e",
            "max": 437971872,
            "min": 0,
            "orientation": "horizontal",
            "style": "IPY_MODEL_725d5237cfbd472e8efd370b361ce6c4",
            "value": 437971872
          }
        },
        "c60498b93e804baf851e26cadc90ff26": {
          "model_module": "@jupyter-widgets/controls",
          "model_name": "HTMLModel",
          "model_module_version": "1.5.0",
          "state": {
            "_dom_classes": [],
            "_model_module": "@jupyter-widgets/controls",
            "_model_module_version": "1.5.0",
            "_model_name": "HTMLModel",
            "_view_count": null,
            "_view_module": "@jupyter-widgets/controls",
            "_view_module_version": "1.5.0",
            "_view_name": "HTMLView",
            "description": "",
            "description_tooltip": null,
            "layout": "IPY_MODEL_9de566048a004f768277445ed3fd8d16",
            "placeholder": "​",
            "style": "IPY_MODEL_507be2eb6cd14cfead0e119c71896d3e",
            "value": " 438M/438M [00:06&lt;00:00, 109MB/s]"
          }
        },
        "aa1006f78d48403fa885373e87f22f4a": {
          "model_module": "@jupyter-widgets/base",
          "model_name": "LayoutModel",
          "model_module_version": "1.2.0",
          "state": {
            "_model_module": "@jupyter-widgets/base",
            "_model_module_version": "1.2.0",
            "_model_name": "LayoutModel",
            "_view_count": null,
            "_view_module": "@jupyter-widgets/base",
            "_view_module_version": "1.2.0",
            "_view_name": "LayoutView",
            "align_content": null,
            "align_items": null,
            "align_self": null,
            "border": null,
            "bottom": null,
            "display": null,
            "flex": null,
            "flex_flow": null,
            "grid_area": null,
            "grid_auto_columns": null,
            "grid_auto_flow": null,
            "grid_auto_rows": null,
            "grid_column": null,
            "grid_gap": null,
            "grid_row": null,
            "grid_template_areas": null,
            "grid_template_columns": null,
            "grid_template_rows": null,
            "height": null,
            "justify_content": null,
            "justify_items": null,
            "left": null,
            "margin": null,
            "max_height": null,
            "max_width": null,
            "min_height": null,
            "min_width": null,
            "object_fit": null,
            "object_position": null,
            "order": null,
            "overflow": null,
            "overflow_x": null,
            "overflow_y": null,
            "padding": null,
            "right": null,
            "top": null,
            "visibility": null,
            "width": null
          }
        },
        "ffc6bdec16244a0381b8d29003d004cd": {
          "model_module": "@jupyter-widgets/base",
          "model_name": "LayoutModel",
          "model_module_version": "1.2.0",
          "state": {
            "_model_module": "@jupyter-widgets/base",
            "_model_module_version": "1.2.0",
            "_model_name": "LayoutModel",
            "_view_count": null,
            "_view_module": "@jupyter-widgets/base",
            "_view_module_version": "1.2.0",
            "_view_name": "LayoutView",
            "align_content": null,
            "align_items": null,
            "align_self": null,
            "border": null,
            "bottom": null,
            "display": null,
            "flex": null,
            "flex_flow": null,
            "grid_area": null,
            "grid_auto_columns": null,
            "grid_auto_flow": null,
            "grid_auto_rows": null,
            "grid_column": null,
            "grid_gap": null,
            "grid_row": null,
            "grid_template_areas": null,
            "grid_template_columns": null,
            "grid_template_rows": null,
            "height": null,
            "justify_content": null,
            "justify_items": null,
            "left": null,
            "margin": null,
            "max_height": null,
            "max_width": null,
            "min_height": null,
            "min_width": null,
            "object_fit": null,
            "object_position": null,
            "order": null,
            "overflow": null,
            "overflow_x": null,
            "overflow_y": null,
            "padding": null,
            "right": null,
            "top": null,
            "visibility": null,
            "width": null
          }
        },
        "b2fdf557e7554463a4eb3b9413c60cee": {
          "model_module": "@jupyter-widgets/controls",
          "model_name": "DescriptionStyleModel",
          "model_module_version": "1.5.0",
          "state": {
            "_model_module": "@jupyter-widgets/controls",
            "_model_module_version": "1.5.0",
            "_model_name": "DescriptionStyleModel",
            "_view_count": null,
            "_view_module": "@jupyter-widgets/base",
            "_view_module_version": "1.2.0",
            "_view_name": "StyleView",
            "description_width": ""
          }
        },
        "15a8752bef5749c89c20a96f3062009e": {
          "model_module": "@jupyter-widgets/base",
          "model_name": "LayoutModel",
          "model_module_version": "1.2.0",
          "state": {
            "_model_module": "@jupyter-widgets/base",
            "_model_module_version": "1.2.0",
            "_model_name": "LayoutModel",
            "_view_count": null,
            "_view_module": "@jupyter-widgets/base",
            "_view_module_version": "1.2.0",
            "_view_name": "LayoutView",
            "align_content": null,
            "align_items": null,
            "align_self": null,
            "border": null,
            "bottom": null,
            "display": null,
            "flex": null,
            "flex_flow": null,
            "grid_area": null,
            "grid_auto_columns": null,
            "grid_auto_flow": null,
            "grid_auto_rows": null,
            "grid_column": null,
            "grid_gap": null,
            "grid_row": null,
            "grid_template_areas": null,
            "grid_template_columns": null,
            "grid_template_rows": null,
            "height": null,
            "justify_content": null,
            "justify_items": null,
            "left": null,
            "margin": null,
            "max_height": null,
            "max_width": null,
            "min_height": null,
            "min_width": null,
            "object_fit": null,
            "object_position": null,
            "order": null,
            "overflow": null,
            "overflow_x": null,
            "overflow_y": null,
            "padding": null,
            "right": null,
            "top": null,
            "visibility": null,
            "width": null
          }
        },
        "725d5237cfbd472e8efd370b361ce6c4": {
          "model_module": "@jupyter-widgets/controls",
          "model_name": "ProgressStyleModel",
          "model_module_version": "1.5.0",
          "state": {
            "_model_module": "@jupyter-widgets/controls",
            "_model_module_version": "1.5.0",
            "_model_name": "ProgressStyleModel",
            "_view_count": null,
            "_view_module": "@jupyter-widgets/base",
            "_view_module_version": "1.2.0",
            "_view_name": "StyleView",
            "bar_color": null,
            "description_width": ""
          }
        },
        "9de566048a004f768277445ed3fd8d16": {
          "model_module": "@jupyter-widgets/base",
          "model_name": "LayoutModel",
          "model_module_version": "1.2.0",
          "state": {
            "_model_module": "@jupyter-widgets/base",
            "_model_module_version": "1.2.0",
            "_model_name": "LayoutModel",
            "_view_count": null,
            "_view_module": "@jupyter-widgets/base",
            "_view_module_version": "1.2.0",
            "_view_name": "LayoutView",
            "align_content": null,
            "align_items": null,
            "align_self": null,
            "border": null,
            "bottom": null,
            "display": null,
            "flex": null,
            "flex_flow": null,
            "grid_area": null,
            "grid_auto_columns": null,
            "grid_auto_flow": null,
            "grid_auto_rows": null,
            "grid_column": null,
            "grid_gap": null,
            "grid_row": null,
            "grid_template_areas": null,
            "grid_template_columns": null,
            "grid_template_rows": null,
            "height": null,
            "justify_content": null,
            "justify_items": null,
            "left": null,
            "margin": null,
            "max_height": null,
            "max_width": null,
            "min_height": null,
            "min_width": null,
            "object_fit": null,
            "object_position": null,
            "order": null,
            "overflow": null,
            "overflow_x": null,
            "overflow_y": null,
            "padding": null,
            "right": null,
            "top": null,
            "visibility": null,
            "width": null
          }
        },
        "507be2eb6cd14cfead0e119c71896d3e": {
          "model_module": "@jupyter-widgets/controls",
          "model_name": "DescriptionStyleModel",
          "model_module_version": "1.5.0",
          "state": {
            "_model_module": "@jupyter-widgets/controls",
            "_model_module_version": "1.5.0",
            "_model_name": "DescriptionStyleModel",
            "_view_count": null,
            "_view_module": "@jupyter-widgets/base",
            "_view_module_version": "1.2.0",
            "_view_name": "StyleView",
            "description_width": ""
          }
        }
      }
    }
  },
  "cells": [
    {
      "cell_type": "markdown",
      "source": [
        "# BERT - Cosine Similarity\n",
        "* Notebook by Adam Lang\n",
        "* Date: 6/23/2024\n",
        "* In this notebook we will look at cosine similarity using BERT.\n",
        "\n",
        "# What is input to BERT?\n",
        "* Sum of:\n",
        "1. Token embeddings\n",
        "  * Result of wordpiece/sub-word tokenizer.\n",
        "  * Hidden Size is 768.\n",
        "  * Sequence length max is 512\n",
        "  * Input embedding is: 512 x 768\n",
        "  * Token embeddings also include the special tokens:\n",
        "    * [CLS] - classifier\n",
        "    * [SEP] - separator (separates sentences)\n",
        "2. Segment embeddings\n",
        "  * The unique sentences in the text.\n",
        "3. Position embeddings\n",
        "  * postion of each word in a sentence.\n",
        "\n",
        "![image.png](data:image/png;base64,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)"
      ],
      "metadata": {
        "id": "6pW-Lh01LjSp"
      }
    },
    {
      "cell_type": "markdown",
      "source": [
        "* The final input to BERT is the sum of all 3 embedding types:\n",
        "  * token + segment + position\n",
        "* Max input tensor size to BERT is sequence length of 512 with hidden size 768 --> input is 512 x 768\n",
        "\n",
        "## Why apply the 512 max token limit?\n",
        "* Related to memory input."
      ],
      "metadata": {
        "id": "WA5cTDt2M6HQ"
      }
    },
    {
      "cell_type": "markdown",
      "source": [
        "# Implementation\n"
      ],
      "metadata": {
        "id": "Wi-Qmz5KNpeY"
      }
    },
    {
      "cell_type": "code",
      "execution_count": 14,
      "metadata": {
        "id": "pcPgLK4BLdwn"
      },
      "outputs": [],
      "source": [
        "## sentences we want to compare\n",
        "sentences = [\n",
        "    \"It had been twenty days since the first zombie attack.\",\n",
        "    \"When confronted with a rotary dial phone the teenager was perplexed.\",\n",
        "    \"His confidence would have been admirable if it wasn't for his stupidity.\",\n",
        "    \"I'm confused: when people ask me what's up, and I point, they groan.\",\n",
        "    \"They called out her name time and time again, but were met with nothing but silence.\",\n",
        "    \"After the last zombie attack twenty days back, they are now taking control of the city.\"\n",
        "\n",
        "\n",
        "]"
      ]
    },
    {
      "cell_type": "code",
      "source": [
        "## imports\n",
        "from transformers import AutoTokenizer, AutoModel\n",
        "import torch"
      ],
      "metadata": {
        "id": "PMhB6x1RPfkz"
      },
      "execution_count": 15,
      "outputs": []
    },
    {
      "cell_type": "markdown",
      "source": [
        "## HuggingFace Model\n",
        "* We will use the `all-mpnet-base-v2`\n",
        "* Documentation: https://huggingface.co/sentence-transformers/all-mpnet-base-v2\n",
        "* This is a sentence-transformers model: It maps sentences & paragraphs to a 768 dimensional dense vector space and can be used for tasks like clustering or semantic search."
      ],
      "metadata": {
        "id": "5EDHR6oZP7Xw"
      }
    },
    {
      "cell_type": "code",
      "source": [
        "## first need to install sentence transformers\n",
        "!pip install -U sentence-transformers\n"
      ],
      "metadata": {
        "colab": {
          "base_uri": "https://localhost:8080/"
        },
        "id": "l1A8gXoVPoLJ",
        "outputId": "656ac15d-eddb-4849-a7e1-9a3d00079436"
      },
      "execution_count": 4,
      "outputs": [
        {
          "output_type": "stream",
          "name": "stdout",
          "text": [
            "Collecting sentence-transformers\n",
            "  Downloading sentence_transformers-3.0.1-py3-none-any.whl (227 kB)\n",
            "\u001b[2K     \u001b[90m━━━━━━━━━━━━━━━━━━━━━━━━━━━━━━━━━━━━━━━━\u001b[0m \u001b[32m227.1/227.1 kB\u001b[0m \u001b[31m1.7 MB/s\u001b[0m eta \u001b[36m0:00:00\u001b[0m\n",
            "\u001b[?25hRequirement already satisfied: transformers<5.0.0,>=4.34.0 in /usr/local/lib/python3.10/dist-packages (from sentence-transformers) (4.41.2)\n",
            "Requirement already satisfied: tqdm in /usr/local/lib/python3.10/dist-packages (from sentence-transformers) (4.66.4)\n",
            "Requirement already satisfied: torch>=1.11.0 in /usr/local/lib/python3.10/dist-packages (from sentence-transformers) (2.3.0+cu121)\n",
            "Requirement already satisfied: numpy in /usr/local/lib/python3.10/dist-packages (from sentence-transformers) (1.25.2)\n",
            "Requirement already satisfied: scikit-learn in /usr/local/lib/python3.10/dist-packages (from sentence-transformers) (1.2.2)\n",
            "Requirement already satisfied: scipy in /usr/local/lib/python3.10/dist-packages (from sentence-transformers) (1.11.4)\n",
            "Requirement already satisfied: huggingface-hub>=0.15.1 in /usr/local/lib/python3.10/dist-packages (from sentence-transformers) (0.23.4)\n",
            "Requirement already satisfied: Pillow in /usr/local/lib/python3.10/dist-packages (from sentence-transformers) (9.4.0)\n",
            "Requirement already satisfied: filelock in /usr/local/lib/python3.10/dist-packages (from huggingface-hub>=0.15.1->sentence-transformers) (3.15.1)\n",
            "Requirement already satisfied: fsspec>=2023.5.0 in /usr/local/lib/python3.10/dist-packages (from huggingface-hub>=0.15.1->sentence-transformers) (2023.6.0)\n",
            "Requirement already satisfied: packaging>=20.9 in /usr/local/lib/python3.10/dist-packages (from huggingface-hub>=0.15.1->sentence-transformers) (24.1)\n",
            "Requirement already satisfied: pyyaml>=5.1 in /usr/local/lib/python3.10/dist-packages (from huggingface-hub>=0.15.1->sentence-transformers) (6.0.1)\n",
            "Requirement already satisfied: requests in /usr/local/lib/python3.10/dist-packages (from huggingface-hub>=0.15.1->sentence-transformers) (2.31.0)\n",
            "Requirement already satisfied: typing-extensions>=3.7.4.3 in /usr/local/lib/python3.10/dist-packages (from huggingface-hub>=0.15.1->sentence-transformers) (4.12.2)\n",
            "Requirement already satisfied: sympy in /usr/local/lib/python3.10/dist-packages (from torch>=1.11.0->sentence-transformers) (1.12.1)\n",
            "Requirement already satisfied: networkx in /usr/local/lib/python3.10/dist-packages (from torch>=1.11.0->sentence-transformers) (3.3)\n",
            "Requirement already satisfied: jinja2 in /usr/local/lib/python3.10/dist-packages (from torch>=1.11.0->sentence-transformers) (3.1.4)\n",
            "Collecting nvidia-cuda-nvrtc-cu12==12.1.105 (from torch>=1.11.0->sentence-transformers)\n",
            "  Using cached nvidia_cuda_nvrtc_cu12-12.1.105-py3-none-manylinux1_x86_64.whl (23.7 MB)\n",
            "Collecting nvidia-cuda-runtime-cu12==12.1.105 (from torch>=1.11.0->sentence-transformers)\n",
            "  Using cached nvidia_cuda_runtime_cu12-12.1.105-py3-none-manylinux1_x86_64.whl (823 kB)\n",
            "Collecting nvidia-cuda-cupti-cu12==12.1.105 (from torch>=1.11.0->sentence-transformers)\n",
            "  Using cached nvidia_cuda_cupti_cu12-12.1.105-py3-none-manylinux1_x86_64.whl (14.1 MB)\n",
            "Collecting nvidia-cudnn-cu12==8.9.2.26 (from torch>=1.11.0->sentence-transformers)\n",
            "  Using cached nvidia_cudnn_cu12-8.9.2.26-py3-none-manylinux1_x86_64.whl (731.7 MB)\n",
            "Collecting nvidia-cublas-cu12==12.1.3.1 (from torch>=1.11.0->sentence-transformers)\n",
            "  Using cached nvidia_cublas_cu12-12.1.3.1-py3-none-manylinux1_x86_64.whl (410.6 MB)\n",
            "Collecting nvidia-cufft-cu12==11.0.2.54 (from torch>=1.11.0->sentence-transformers)\n",
            "  Using cached nvidia_cufft_cu12-11.0.2.54-py3-none-manylinux1_x86_64.whl (121.6 MB)\n",
            "Collecting nvidia-curand-cu12==10.3.2.106 (from torch>=1.11.0->sentence-transformers)\n",
            "  Using cached nvidia_curand_cu12-10.3.2.106-py3-none-manylinux1_x86_64.whl (56.5 MB)\n",
            "Collecting nvidia-cusolver-cu12==11.4.5.107 (from torch>=1.11.0->sentence-transformers)\n",
            "  Using cached nvidia_cusolver_cu12-11.4.5.107-py3-none-manylinux1_x86_64.whl (124.2 MB)\n",
            "Collecting nvidia-cusparse-cu12==12.1.0.106 (from torch>=1.11.0->sentence-transformers)\n",
            "  Using cached nvidia_cusparse_cu12-12.1.0.106-py3-none-manylinux1_x86_64.whl (196.0 MB)\n",
            "Collecting nvidia-nccl-cu12==2.20.5 (from torch>=1.11.0->sentence-transformers)\n",
            "  Using cached nvidia_nccl_cu12-2.20.5-py3-none-manylinux2014_x86_64.whl (176.2 MB)\n",
            "Collecting nvidia-nvtx-cu12==12.1.105 (from torch>=1.11.0->sentence-transformers)\n",
            "  Using cached nvidia_nvtx_cu12-12.1.105-py3-none-manylinux1_x86_64.whl (99 kB)\n",
            "Requirement already satisfied: triton==2.3.0 in /usr/local/lib/python3.10/dist-packages (from torch>=1.11.0->sentence-transformers) (2.3.0)\n",
            "Collecting nvidia-nvjitlink-cu12 (from nvidia-cusolver-cu12==11.4.5.107->torch>=1.11.0->sentence-transformers)\n",
            "  Downloading nvidia_nvjitlink_cu12-12.5.40-py3-none-manylinux2014_x86_64.whl (21.3 MB)\n",
            "\u001b[2K     \u001b[90m━━━━━━━━━━━━━━━━━━━━━━━━━━━━━━━━━━━━━━━━\u001b[0m \u001b[32m21.3/21.3 MB\u001b[0m \u001b[31m47.1 MB/s\u001b[0m eta \u001b[36m0:00:00\u001b[0m\n",
            "\u001b[?25hRequirement already satisfied: regex!=2019.12.17 in /usr/local/lib/python3.10/dist-packages (from transformers<5.0.0,>=4.34.0->sentence-transformers) (2024.5.15)\n",
            "Requirement already satisfied: tokenizers<0.20,>=0.19 in /usr/local/lib/python3.10/dist-packages (from transformers<5.0.0,>=4.34.0->sentence-transformers) (0.19.1)\n",
            "Requirement already satisfied: safetensors>=0.4.1 in /usr/local/lib/python3.10/dist-packages (from transformers<5.0.0,>=4.34.0->sentence-transformers) (0.4.3)\n",
            "Requirement already satisfied: joblib>=1.1.1 in /usr/local/lib/python3.10/dist-packages (from scikit-learn->sentence-transformers) (1.4.2)\n",
            "Requirement already satisfied: threadpoolctl>=2.0.0 in /usr/local/lib/python3.10/dist-packages (from scikit-learn->sentence-transformers) (3.5.0)\n",
            "Requirement already satisfied: MarkupSafe>=2.0 in /usr/local/lib/python3.10/dist-packages (from jinja2->torch>=1.11.0->sentence-transformers) (2.1.5)\n",
            "Requirement already satisfied: charset-normalizer<4,>=2 in /usr/local/lib/python3.10/dist-packages (from requests->huggingface-hub>=0.15.1->sentence-transformers) (3.3.2)\n",
            "Requirement already satisfied: idna<4,>=2.5 in /usr/local/lib/python3.10/dist-packages (from requests->huggingface-hub>=0.15.1->sentence-transformers) (3.7)\n",
            "Requirement already satisfied: urllib3<3,>=1.21.1 in /usr/local/lib/python3.10/dist-packages (from requests->huggingface-hub>=0.15.1->sentence-transformers) (2.0.7)\n",
            "Requirement already satisfied: certifi>=2017.4.17 in /usr/local/lib/python3.10/dist-packages (from requests->huggingface-hub>=0.15.1->sentence-transformers) (2024.6.2)\n",
            "Requirement already satisfied: mpmath<1.4.0,>=1.1.0 in /usr/local/lib/python3.10/dist-packages (from sympy->torch>=1.11.0->sentence-transformers) (1.3.0)\n",
            "Installing collected packages: nvidia-nvtx-cu12, nvidia-nvjitlink-cu12, nvidia-nccl-cu12, nvidia-curand-cu12, nvidia-cufft-cu12, nvidia-cuda-runtime-cu12, nvidia-cuda-nvrtc-cu12, nvidia-cuda-cupti-cu12, nvidia-cublas-cu12, nvidia-cusparse-cu12, nvidia-cudnn-cu12, nvidia-cusolver-cu12, sentence-transformers\n",
            "Successfully installed nvidia-cublas-cu12-12.1.3.1 nvidia-cuda-cupti-cu12-12.1.105 nvidia-cuda-nvrtc-cu12-12.1.105 nvidia-cuda-runtime-cu12-12.1.105 nvidia-cudnn-cu12-8.9.2.26 nvidia-cufft-cu12-11.0.2.54 nvidia-curand-cu12-10.3.2.106 nvidia-cusolver-cu12-11.4.5.107 nvidia-cusparse-cu12-12.1.0.106 nvidia-nccl-cu12-2.20.5 nvidia-nvjitlink-cu12-12.5.40 nvidia-nvtx-cu12-12.1.105 sentence-transformers-3.0.1\n"
          ]
        }
      ]
    },
    {
      "cell_type": "markdown",
      "source": [
        "## Load Model"
      ],
      "metadata": {
        "id": "tJaUO_TmQ1NI"
      }
    },
    {
      "cell_type": "code",
      "source": [
        "# Load model from HuggingFace Hub\n",
        "tokenizer = AutoTokenizer.from_pretrained('sentence-transformers/all-mpnet-base-v2')\n",
        "model = AutoModel.from_pretrained('sentence-transformers/all-mpnet-base-v2')"
      ],
      "metadata": {
        "colab": {
          "base_uri": "https://localhost:8080/",
          "height": 209,
          "referenced_widgets": [
            "7c9e40f3258c446b9438e080ebebb4de",
            "24042f9bfe9c4abd82d1871efb05747d",
            "2cbcd50fce6641cb89cb7acc0b550f50",
            "3d82ff6ab36c4da7b49b3e1b491e0238",
            "c2c30aa69ef6436795fb894b80d4ad93",
            "f976fe73f16243d6ad249dc513e39c5f",
            "cd7a8b21b63e434e8be29b2bfe7d28ed",
            "81a60ee4ff294c61a332302e473a2ab2",
            "daf58650bd5947c98bfbefc6e86dfe9f",
            "91c79ff80479435fabcff2108f107362",
            "792c79c1d9d04c659048c05e249b4c20",
            "91f873475b8a4beabdd6e36462598a97",
            "f57da6fdf86d4a68919bfbcefa5ea316",
            "1dadc050f9d342af9b5361222f41b44c",
            "92083c8f7c48472b8233013fe6151feb",
            "3f9be9ca10af45c4bce8955084a7872e",
            "9092596551c3471c911dfd95bcc63701",
            "e3a0cf3ab7ce4a909014820600e27b51",
            "ba647a00744d4b4da346507e8435702e",
            "71090ff62e0f497f817c6ed8a9ff10a6",
            "f551b27abf254721b87ae13f75f75efd",
            "ba670a3460e14469844fb1cc41f776c2",
            "99fc08be0b474eaabde977effda17e3d",
            "357df1bad06146e694244ef7775b38df",
            "de1bc43f07824341bee50a356185ffc1",
            "c7e1f97051e6474a825e3ffeb09513f3",
            "81295ae7fdb14638b2b157ddfaece5c2",
            "6b762ca759134cd2a209497ac58afb96",
            "0c3caad887244d00958ed85423ef395e",
            "ca5af353f75d43b5a8439fd9ea4f0143",
            "cc7add388d8548eaa95fb9f3f7eefa98",
            "bbe95f2ee61748e8a15f03bb8ab77f1f",
            "b1731f0efdb64dd88e97fee22e0bc062",
            "a125c3f62090457db24e54ab043ceb1a",
            "6231a002f3734fde91a3f330bb0dedfe",
            "5bf76e2fb608410092197135d675615b",
            "0dc92af05bfc419ca6afe6b8ca43fb6f",
            "f94de3103fbd4c42a3c207cbbff8f77d",
            "1bf073cdccdd49819ce98dd2c8927d50",
            "a64eb58a7ac0431a868e6375bbe03de8",
            "0c2dc3c8fee44c09aeba29822372baab",
            "ee1f282f5bc14047a45ed7d99ab95649",
            "33dffcf38c4342639b6a2ae911df0465",
            "ccf31622eaf34d3c9bcd5aa9b2a45ac5",
            "bb6fc6c6be0f49649f6868df3c2a8754",
            "1a5d965506df4546953ad99ee3aed6d6",
            "004f644b523943558369bb66acf8e973",
            "122a524c0de849d08c96956722faca5f",
            "0c2bf6ba8b94498a92e8dcfe25dc90c3",
            "263fa7399b8a411597ad78689d12cae5",
            "f6a82b33d8a04a1b8643756a043f1750",
            "a756009bde6d4fe5b21cb4e9696e8816",
            "7a92ef93012741f5b1031d8cb233c2ae",
            "524a4e0cba7b46398765dc5161b21b20",
            "10110cabf2b843ac8deb73f7229c9a61",
            "c3efc2dcc3964a89bf9721356bad1a30",
            "a3155842cfcd47d8a511d2e4c110ef85",
            "ccdd58b3c5e149fcb402e9486638b290",
            "c60498b93e804baf851e26cadc90ff26",
            "aa1006f78d48403fa885373e87f22f4a",
            "ffc6bdec16244a0381b8d29003d004cd",
            "b2fdf557e7554463a4eb3b9413c60cee",
            "15a8752bef5749c89c20a96f3062009e",
            "725d5237cfbd472e8efd370b361ce6c4",
            "9de566048a004f768277445ed3fd8d16",
            "507be2eb6cd14cfead0e119c71896d3e"
          ]
        },
        "id": "uLrUtxalQUGi",
        "outputId": "2b7466f6-b9ee-46d5-cc71-a80d41ffeffa"
      },
      "execution_count": 5,
      "outputs": [
        {
          "output_type": "display_data",
          "data": {
            "text/plain": [
              "tokenizer_config.json:   0%|          | 0.00/363 [00:00<?, ?B/s]"
            ],
            "application/vnd.jupyter.widget-view+json": {
              "version_major": 2,
              "version_minor": 0,
              "model_id": "7c9e40f3258c446b9438e080ebebb4de"
            }
          },
          "metadata": {}
        },
        {
          "output_type": "display_data",
          "data": {
            "text/plain": [
              "vocab.txt:   0%|          | 0.00/232k [00:00<?, ?B/s]"
            ],
            "application/vnd.jupyter.widget-view+json": {
              "version_major": 2,
              "version_minor": 0,
              "model_id": "91f873475b8a4beabdd6e36462598a97"
            }
          },
          "metadata": {}
        },
        {
          "output_type": "display_data",
          "data": {
            "text/plain": [
              "tokenizer.json:   0%|          | 0.00/466k [00:00<?, ?B/s]"
            ],
            "application/vnd.jupyter.widget-view+json": {
              "version_major": 2,
              "version_minor": 0,
              "model_id": "99fc08be0b474eaabde977effda17e3d"
            }
          },
          "metadata": {}
        },
        {
          "output_type": "display_data",
          "data": {
            "text/plain": [
              "special_tokens_map.json:   0%|          | 0.00/239 [00:00<?, ?B/s]"
            ],
            "application/vnd.jupyter.widget-view+json": {
              "version_major": 2,
              "version_minor": 0,
              "model_id": "a125c3f62090457db24e54ab043ceb1a"
            }
          },
          "metadata": {}
        },
        {
          "output_type": "display_data",
          "data": {
            "text/plain": [
              "config.json:   0%|          | 0.00/571 [00:00<?, ?B/s]"
            ],
            "application/vnd.jupyter.widget-view+json": {
              "version_major": 2,
              "version_minor": 0,
              "model_id": "bb6fc6c6be0f49649f6868df3c2a8754"
            }
          },
          "metadata": {}
        },
        {
          "output_type": "display_data",
          "data": {
            "text/plain": [
              "model.safetensors:   0%|          | 0.00/438M [00:00<?, ?B/s]"
            ],
            "application/vnd.jupyter.widget-view+json": {
              "version_major": 2,
              "version_minor": 0,
              "model_id": "c3efc2dcc3964a89bf9721356bad1a30"
            }
          },
          "metadata": {}
        }
      ]
    },
    {
      "cell_type": "markdown",
      "source": [
        "## Tokenization process\n",
        "* Before using tokenizer we should create a dictionary to store the tokens"
      ],
      "metadata": {
        "id": "MleVsxMnQ5CC"
      }
    },
    {
      "cell_type": "code",
      "source": [
        "## test cell\n",
        "test_sent = \"Today it is snowing.\"\n",
        "new_tokens = tokenizer.encode_plus(test_sent, max_length=512, truncation=True, padding='max_length', return_tensors='pt')\n",
        "new_tokens.keys()"
      ],
      "metadata": {
        "colab": {
          "base_uri": "https://localhost:8080/"
        },
        "id": "TsCcRaAqSG_h",
        "outputId": "0a9d97b7-91e8-436b-f823-f2184be3c1c7"
      },
      "execution_count": 16,
      "outputs": [
        {
          "output_type": "execute_result",
          "data": {
            "text/plain": [
              "dict_keys(['input_ids', 'attention_mask'])"
            ]
          },
          "metadata": {},
          "execution_count": 16
        }
      ]
    },
    {
      "cell_type": "markdown",
      "source": [
        "Note about code below:\n",
        "* `encode_plus` returns additional information in a dictionary structure as opposed to `encode`."
      ],
      "metadata": {
        "id": "BpJcmShfUSmH"
      }
    },
    {
      "cell_type": "code",
      "source": [
        "tokens = {'input_ids': [], 'attention_mask': [] }\n",
        "\n",
        "# loop over sentence list\n",
        "for sentence in sentences:\n",
        "  new_tokens = tokenizer.encode_plus(sentence, max_length= 512, truncation=True, padding='max_length', return_tensors='pt')\n",
        "  # append tokens\n",
        "  tokens['input_ids'].append(new_tokens['input_ids'][0])\n",
        "  tokens['attention_mask'].append(new_tokens['attention_mask'][0])\n",
        "\n",
        "# restructure a list of tensors into single tensor\n",
        "tokens['input_ids'] = torch.stack(tokens['input_ids'])\n",
        "tokens['attention_mask'] = torch.stack(tokens['attention_mask'])\n"
      ],
      "metadata": {
        "id": "YBEGhDHRQ30q"
      },
      "execution_count": 17,
      "outputs": []
    },
    {
      "cell_type": "code",
      "source": [
        "# check input_id shape\n",
        "tokens['input_ids'].shape"
      ],
      "metadata": {
        "colab": {
          "base_uri": "https://localhost:8080/"
        },
        "id": "z6wuKP0ITVd9",
        "outputId": "b105c910-0475-4a8c-eabf-ac12aed66c71"
      },
      "execution_count": 18,
      "outputs": [
        {
          "output_type": "execute_result",
          "data": {
            "text/plain": [
              "torch.Size([6, 512])"
            ]
          },
          "metadata": {},
          "execution_count": 18
        }
      ]
    },
    {
      "cell_type": "markdown",
      "source": [
        "## Invoke model"
      ],
      "metadata": {
        "id": "yvnN4uUbUfTe"
      }
    },
    {
      "cell_type": "code",
      "source": [
        "outputs = model(**tokens)\n",
        "outputs"
      ],
      "metadata": {
        "colab": {
          "base_uri": "https://localhost:8080/"
        },
        "id": "BeBQ4UqWTZly",
        "outputId": "b78eb831-a66b-40f8-c893-e6041c16421e"
      },
      "execution_count": 19,
      "outputs": [
        {
          "output_type": "execute_result",
          "data": {
            "text/plain": [
              "BaseModelOutputWithPooling(last_hidden_state=tensor([[[ 5.4512e-02,  1.2461e-01,  2.8609e-02,  ...,  4.5040e-02,\n",
              "          -2.1522e-01, -1.2738e-01],\n",
              "         [ 1.9801e-01,  2.5555e-01,  5.5805e-02,  ...,  1.1661e-01,\n",
              "          -2.1680e-01, -7.3816e-02],\n",
              "         [ 1.2923e-01,  2.1667e-01,  3.9211e-02,  ...,  4.9298e-02,\n",
              "          -1.6235e-01, -6.2349e-02],\n",
              "         ...,\n",
              "         [ 7.9445e-02,  1.9836e-01,  1.5418e-02,  ...,  1.8486e-01,\n",
              "          -1.5493e-01, -4.7529e-02],\n",
              "         [ 7.9445e-02,  1.9836e-01,  1.5418e-02,  ...,  1.8486e-01,\n",
              "          -1.5493e-01, -4.7529e-02],\n",
              "         [ 7.9445e-02,  1.9836e-01,  1.5418e-02,  ...,  1.8486e-01,\n",
              "          -1.5493e-01, -4.7529e-02]],\n",
              "\n",
              "        [[ 1.2549e-01, -1.0631e-01,  3.6857e-02,  ...,  6.0813e-02,\n",
              "          -9.1068e-02,  3.6397e-02],\n",
              "         [ 1.5688e-01, -2.4870e-01,  4.6817e-03,  ...,  8.2096e-02,\n",
              "          -1.8744e-01,  7.9757e-02],\n",
              "         [ 1.9245e-01, -1.4947e-01,  6.3418e-02,  ...,  1.9506e-01,\n",
              "          -8.3352e-02,  5.4228e-02],\n",
              "         ...,\n",
              "         [ 1.3306e-01,  4.4404e-02,  5.6143e-02,  ...,  1.1645e-01,\n",
              "          -4.1378e-02,  7.1716e-02],\n",
              "         [ 1.3306e-01,  4.4404e-02,  5.6143e-02,  ...,  1.1645e-01,\n",
              "          -4.1378e-02,  7.1716e-02],\n",
              "         [ 1.3306e-01,  4.4404e-02,  5.6143e-02,  ...,  1.1645e-01,\n",
              "          -4.1378e-02,  7.1716e-02]],\n",
              "\n",
              "        [[-1.0614e-01,  1.3884e-01,  1.1612e-02,  ..., -1.2914e-01,\n",
              "           6.3865e-02, -7.6280e-03],\n",
              "         [-9.6597e-02,  1.6110e-01,  3.3666e-02,  ..., -1.1327e-01,\n",
              "           1.8357e-01,  1.9893e-02],\n",
              "         [ 4.8910e-02,  5.2093e-01,  5.6504e-02,  ..., -1.2834e-01,\n",
              "          -1.4012e-02,  1.1963e-01],\n",
              "         ...,\n",
              "         [-3.0785e-02,  3.1055e-01,  4.3451e-02,  ..., -8.1038e-04,\n",
              "           1.4274e-02,  1.4975e-02],\n",
              "         [-3.0785e-02,  3.1055e-01,  4.3451e-02,  ..., -8.1038e-04,\n",
              "           1.4274e-02,  1.4975e-02],\n",
              "         [-3.0785e-02,  3.1055e-01,  4.3451e-02,  ..., -8.1038e-04,\n",
              "           1.4274e-02,  1.4975e-02]],\n",
              "\n",
              "        [[ 5.0962e-02, -2.5233e-01, -1.8100e-02,  ...,  5.9566e-02,\n",
              "           8.7379e-02, -1.5808e-01],\n",
              "         [ 7.6241e-02, -1.4975e-01,  3.0299e-04,  ...,  7.8922e-02,\n",
              "           9.9042e-02, -1.1577e-01],\n",
              "         [ 1.1795e-01, -1.5593e-01, -4.2907e-02,  ...,  8.0975e-02,\n",
              "           6.0451e-02, -1.7704e-01],\n",
              "         ...,\n",
              "         [ 8.7943e-02,  3.4247e-02,  1.8712e-02,  ...,  8.1033e-02,\n",
              "           6.7395e-02, -1.4431e-01],\n",
              "         [ 8.7943e-02,  3.4247e-02,  1.8712e-02,  ...,  8.1033e-02,\n",
              "           6.7395e-02, -1.4431e-01],\n",
              "         [ 8.7943e-02,  3.4247e-02,  1.8712e-02,  ...,  8.1033e-02,\n",
              "           6.7395e-02, -1.4431e-01]],\n",
              "\n",
              "        [[ 1.1234e-01,  1.1478e-01,  1.2360e-02,  ...,  4.7340e-02,\n",
              "          -4.8304e-02,  8.0259e-02],\n",
              "         [ 2.6574e-01,  2.0507e-01,  3.3430e-02,  ...,  7.5937e-02,\n",
              "          -4.7622e-02,  6.8742e-02],\n",
              "         [ 2.8021e-01, -1.6887e-01,  3.8917e-03,  ...,  1.1895e-01,\n",
              "          -1.5619e-01,  3.7889e-02],\n",
              "         ...,\n",
              "         [ 1.7645e-01,  1.5126e-01, -2.2046e-02,  ...,  1.3781e-01,\n",
              "          -1.0019e-01,  1.3928e-01],\n",
              "         [ 1.7645e-01,  1.5126e-01, -2.2046e-02,  ...,  1.3781e-01,\n",
              "          -1.0019e-01,  1.3928e-01],\n",
              "         [ 1.7645e-01,  1.5126e-01, -2.2046e-02,  ...,  1.3781e-01,\n",
              "          -1.0019e-01,  1.3928e-01]],\n",
              "\n",
              "        [[-5.6760e-02,  9.3008e-02,  7.6656e-02,  ...,  3.3159e-02,\n",
              "          -4.5787e-02, -5.4120e-02],\n",
              "         [ 4.2830e-02,  2.1722e-01,  1.5580e-02,  ...,  3.5687e-03,\n",
              "          -1.2856e-01, -5.1711e-02],\n",
              "         [-2.5319e-03,  1.6338e-01,  5.6528e-02,  ...,  1.3913e-01,\n",
              "          -1.4664e-01, -5.2257e-02],\n",
              "         ...,\n",
              "         [ 7.9391e-03,  1.5638e-01,  2.6193e-02,  ...,  1.1935e-01,\n",
              "          -4.1619e-02, -1.7061e-02],\n",
              "         [ 7.9391e-03,  1.5638e-01,  2.6193e-02,  ...,  1.1935e-01,\n",
              "          -4.1619e-02, -1.7061e-02],\n",
              "         [ 7.9391e-03,  1.5638e-01,  2.6193e-02,  ...,  1.1935e-01,\n",
              "          -4.1619e-02, -1.7061e-02]]], grad_fn=<NativeLayerNormBackward0>), pooler_output=tensor([[ 0.0143,  0.0389, -0.1041,  ...,  0.0101,  0.0678,  0.0183],\n",
              "        [-0.0788,  0.0187, -0.0788,  ..., -0.0337, -0.0269,  0.0114],\n",
              "        [-0.0403, -0.0091, -0.1216,  ..., -0.0627, -0.0551, -0.1011],\n",
              "        [ 0.0195, -0.0470, -0.0454,  ...,  0.0446,  0.1281, -0.1349],\n",
              "        [ 0.0240, -0.0072,  0.0272,  ...,  0.0230, -0.0776, -0.0009],\n",
              "        [ 0.0545,  0.0191, -0.0967,  ..., -0.0215,  0.0998,  0.0730]],\n",
              "       grad_fn=<TanhBackward0>), hidden_states=None, attentions=None)"
            ]
          },
          "metadata": {},
          "execution_count": 19
        }
      ]
    },
    {
      "cell_type": "code",
      "source": [
        "# check output keys\n",
        "outputs.keys()"
      ],
      "metadata": {
        "colab": {
          "base_uri": "https://localhost:8080/"
        },
        "id": "t7ZY-aipUmf9",
        "outputId": "21340b41-2e65-4289-825d-d2f7c64fdf5e"
      },
      "execution_count": 20,
      "outputs": [
        {
          "output_type": "execute_result",
          "data": {
            "text/plain": [
              "odict_keys(['last_hidden_state', 'pooler_output'])"
            ]
          },
          "metadata": {},
          "execution_count": 20
        }
      ]
    },
    {
      "cell_type": "markdown",
      "source": [
        "Note about **last hidden state**\n",
        "* Contains information about each hidden state of each sequence of the batch.\n",
        "* 3 dim tensor\n",
        "* Outputs of last hidden states at last output layer of the model.\n",
        "* Each single token produces a single vector of size 768 = hidden state."
      ],
      "metadata": {
        "id": "xZ8lsSiIU6BT"
      }
    },
    {
      "cell_type": "code",
      "source": [
        "## get last hidden state\n",
        "embeddings = outputs.last_hidden_state\n",
        "embeddings"
      ],
      "metadata": {
        "colab": {
          "base_uri": "https://localhost:8080/"
        },
        "id": "drG_QW7xUyqM",
        "outputId": "5db67757-56e2-4852-9f62-71aec1e1eb06"
      },
      "execution_count": 21,
      "outputs": [
        {
          "output_type": "execute_result",
          "data": {
            "text/plain": [
              "tensor([[[ 5.4512e-02,  1.2461e-01,  2.8609e-02,  ...,  4.5040e-02,\n",
              "          -2.1522e-01, -1.2738e-01],\n",
              "         [ 1.9801e-01,  2.5555e-01,  5.5805e-02,  ...,  1.1661e-01,\n",
              "          -2.1680e-01, -7.3816e-02],\n",
              "         [ 1.2923e-01,  2.1667e-01,  3.9211e-02,  ...,  4.9298e-02,\n",
              "          -1.6235e-01, -6.2349e-02],\n",
              "         ...,\n",
              "         [ 7.9445e-02,  1.9836e-01,  1.5418e-02,  ...,  1.8486e-01,\n",
              "          -1.5493e-01, -4.7529e-02],\n",
              "         [ 7.9445e-02,  1.9836e-01,  1.5418e-02,  ...,  1.8486e-01,\n",
              "          -1.5493e-01, -4.7529e-02],\n",
              "         [ 7.9445e-02,  1.9836e-01,  1.5418e-02,  ...,  1.8486e-01,\n",
              "          -1.5493e-01, -4.7529e-02]],\n",
              "\n",
              "        [[ 1.2549e-01, -1.0631e-01,  3.6857e-02,  ...,  6.0813e-02,\n",
              "          -9.1068e-02,  3.6397e-02],\n",
              "         [ 1.5688e-01, -2.4870e-01,  4.6817e-03,  ...,  8.2096e-02,\n",
              "          -1.8744e-01,  7.9757e-02],\n",
              "         [ 1.9245e-01, -1.4947e-01,  6.3418e-02,  ...,  1.9506e-01,\n",
              "          -8.3352e-02,  5.4228e-02],\n",
              "         ...,\n",
              "         [ 1.3306e-01,  4.4404e-02,  5.6143e-02,  ...,  1.1645e-01,\n",
              "          -4.1378e-02,  7.1716e-02],\n",
              "         [ 1.3306e-01,  4.4404e-02,  5.6143e-02,  ...,  1.1645e-01,\n",
              "          -4.1378e-02,  7.1716e-02],\n",
              "         [ 1.3306e-01,  4.4404e-02,  5.6143e-02,  ...,  1.1645e-01,\n",
              "          -4.1378e-02,  7.1716e-02]],\n",
              "\n",
              "        [[-1.0614e-01,  1.3884e-01,  1.1612e-02,  ..., -1.2914e-01,\n",
              "           6.3865e-02, -7.6280e-03],\n",
              "         [-9.6597e-02,  1.6110e-01,  3.3666e-02,  ..., -1.1327e-01,\n",
              "           1.8357e-01,  1.9893e-02],\n",
              "         [ 4.8910e-02,  5.2093e-01,  5.6504e-02,  ..., -1.2834e-01,\n",
              "          -1.4012e-02,  1.1963e-01],\n",
              "         ...,\n",
              "         [-3.0785e-02,  3.1055e-01,  4.3451e-02,  ..., -8.1038e-04,\n",
              "           1.4274e-02,  1.4975e-02],\n",
              "         [-3.0785e-02,  3.1055e-01,  4.3451e-02,  ..., -8.1038e-04,\n",
              "           1.4274e-02,  1.4975e-02],\n",
              "         [-3.0785e-02,  3.1055e-01,  4.3451e-02,  ..., -8.1038e-04,\n",
              "           1.4274e-02,  1.4975e-02]],\n",
              "\n",
              "        [[ 5.0962e-02, -2.5233e-01, -1.8100e-02,  ...,  5.9566e-02,\n",
              "           8.7379e-02, -1.5808e-01],\n",
              "         [ 7.6241e-02, -1.4975e-01,  3.0299e-04,  ...,  7.8922e-02,\n",
              "           9.9042e-02, -1.1577e-01],\n",
              "         [ 1.1795e-01, -1.5593e-01, -4.2907e-02,  ...,  8.0975e-02,\n",
              "           6.0451e-02, -1.7704e-01],\n",
              "         ...,\n",
              "         [ 8.7943e-02,  3.4247e-02,  1.8712e-02,  ...,  8.1033e-02,\n",
              "           6.7395e-02, -1.4431e-01],\n",
              "         [ 8.7943e-02,  3.4247e-02,  1.8712e-02,  ...,  8.1033e-02,\n",
              "           6.7395e-02, -1.4431e-01],\n",
              "         [ 8.7943e-02,  3.4247e-02,  1.8712e-02,  ...,  8.1033e-02,\n",
              "           6.7395e-02, -1.4431e-01]],\n",
              "\n",
              "        [[ 1.1234e-01,  1.1478e-01,  1.2360e-02,  ...,  4.7340e-02,\n",
              "          -4.8304e-02,  8.0259e-02],\n",
              "         [ 2.6574e-01,  2.0507e-01,  3.3430e-02,  ...,  7.5937e-02,\n",
              "          -4.7622e-02,  6.8742e-02],\n",
              "         [ 2.8021e-01, -1.6887e-01,  3.8917e-03,  ...,  1.1895e-01,\n",
              "          -1.5619e-01,  3.7889e-02],\n",
              "         ...,\n",
              "         [ 1.7645e-01,  1.5126e-01, -2.2046e-02,  ...,  1.3781e-01,\n",
              "          -1.0019e-01,  1.3928e-01],\n",
              "         [ 1.7645e-01,  1.5126e-01, -2.2046e-02,  ...,  1.3781e-01,\n",
              "          -1.0019e-01,  1.3928e-01],\n",
              "         [ 1.7645e-01,  1.5126e-01, -2.2046e-02,  ...,  1.3781e-01,\n",
              "          -1.0019e-01,  1.3928e-01]],\n",
              "\n",
              "        [[-5.6760e-02,  9.3008e-02,  7.6656e-02,  ...,  3.3159e-02,\n",
              "          -4.5787e-02, -5.4120e-02],\n",
              "         [ 4.2830e-02,  2.1722e-01,  1.5580e-02,  ...,  3.5687e-03,\n",
              "          -1.2856e-01, -5.1711e-02],\n",
              "         [-2.5319e-03,  1.6338e-01,  5.6528e-02,  ...,  1.3913e-01,\n",
              "          -1.4664e-01, -5.2257e-02],\n",
              "         ...,\n",
              "         [ 7.9391e-03,  1.5638e-01,  2.6193e-02,  ...,  1.1935e-01,\n",
              "          -4.1619e-02, -1.7061e-02],\n",
              "         [ 7.9391e-03,  1.5638e-01,  2.6193e-02,  ...,  1.1935e-01,\n",
              "          -4.1619e-02, -1.7061e-02],\n",
              "         [ 7.9391e-03,  1.5638e-01,  2.6193e-02,  ...,  1.1935e-01,\n",
              "          -4.1619e-02, -1.7061e-02]]], grad_fn=<NativeLayerNormBackward0>)"
            ]
          },
          "metadata": {},
          "execution_count": 21
        }
      ]
    },
    {
      "cell_type": "code",
      "source": [
        "# shape\n",
        "embeddings.shape"
      ],
      "metadata": {
        "colab": {
          "base_uri": "https://localhost:8080/"
        },
        "id": "SWU3RVbgU40c",
        "outputId": "548ca2a7-9c01-4f81-e062-7a192724aec3"
      },
      "execution_count": 22,
      "outputs": [
        {
          "output_type": "execute_result",
          "data": {
            "text/plain": [
              "torch.Size([6, 512, 768])"
            ]
          },
          "metadata": {},
          "execution_count": 22
        }
      ]
    },
    {
      "cell_type": "markdown",
      "source": [
        "Summary:\n",
        "* We can see the batch size is 6 sentences, the sequence length is 512, and the last hidden state is 768."
      ],
      "metadata": {
        "id": "paOHe7T0WBX-"
      }
    },
    {
      "cell_type": "markdown",
      "source": [
        "## Concept of Pooling Layers\n",
        "* What is the pooling layer?\n",
        "  * BERT produces contextualized word embeddings for all input.\n",
        "  * Mean pooling is average of all token embeddings --> condensed to 1 mean pooling layer"
      ],
      "metadata": {
        "id": "TpkKGk9-WK-8"
      }
    },
    {
      "cell_type": "code",
      "source": [
        "# get attention mask\n",
        "attention_mask = tokens['attention_mask']\n",
        "attention_mask.shape"
      ],
      "metadata": {
        "colab": {
          "base_uri": "https://localhost:8080/"
        },
        "id": "_plEycBcV-3_",
        "outputId": "00e87ddd-9ad4-429e-b3cb-15cf8123fd45"
      },
      "execution_count": 23,
      "outputs": [
        {
          "output_type": "execute_result",
          "data": {
            "text/plain": [
              "torch.Size([6, 512])"
            ]
          },
          "metadata": {},
          "execution_count": 23
        }
      ]
    },
    {
      "cell_type": "markdown",
      "source": [
        "In order to multiply the attention mask and the embedding we need to expand the attention mask the same size.\n",
        "\n",
        "We can see the embeddings are a 3 dimensional tensor, and the attention_mask is a 2 dimensional tensor. So we will need to do some transformation."
      ],
      "metadata": {
        "id": "vjXT-lodWyY1"
      }
    },
    {
      "cell_type": "code",
      "source": [
        "## apply unsqueeze\n",
        "resized_attention_mask = attention_mask.unsqueeze(-1).expand(embeddings.size()).float()\n",
        "resized_attention_mask.shape"
      ],
      "metadata": {
        "colab": {
          "base_uri": "https://localhost:8080/"
        },
        "id": "Pd66WsW-WvTE",
        "outputId": "cd3625d3-50ea-40ad-ac85-8ae2e876f390"
      },
      "execution_count": 25,
      "outputs": [
        {
          "output_type": "execute_result",
          "data": {
            "text/plain": [
              "torch.Size([6, 512, 768])"
            ]
          },
          "metadata": {},
          "execution_count": 25
        }
      ]
    },
    {
      "cell_type": "code",
      "source": [
        "resized_attention_mask"
      ],
      "metadata": {
        "colab": {
          "base_uri": "https://localhost:8080/"
        },
        "id": "3IXlFdCCXQ6B",
        "outputId": "82d90e6b-0a00-45bf-c796-999c9e266df0"
      },
      "execution_count": 26,
      "outputs": [
        {
          "output_type": "execute_result",
          "data": {
            "text/plain": [
              "tensor([[[1., 1., 1.,  ..., 1., 1., 1.],\n",
              "         [1., 1., 1.,  ..., 1., 1., 1.],\n",
              "         [1., 1., 1.,  ..., 1., 1., 1.],\n",
              "         ...,\n",
              "         [0., 0., 0.,  ..., 0., 0., 0.],\n",
              "         [0., 0., 0.,  ..., 0., 0., 0.],\n",
              "         [0., 0., 0.,  ..., 0., 0., 0.]],\n",
              "\n",
              "        [[1., 1., 1.,  ..., 1., 1., 1.],\n",
              "         [1., 1., 1.,  ..., 1., 1., 1.],\n",
              "         [1., 1., 1.,  ..., 1., 1., 1.],\n",
              "         ...,\n",
              "         [0., 0., 0.,  ..., 0., 0., 0.],\n",
              "         [0., 0., 0.,  ..., 0., 0., 0.],\n",
              "         [0., 0., 0.,  ..., 0., 0., 0.]],\n",
              "\n",
              "        [[1., 1., 1.,  ..., 1., 1., 1.],\n",
              "         [1., 1., 1.,  ..., 1., 1., 1.],\n",
              "         [1., 1., 1.,  ..., 1., 1., 1.],\n",
              "         ...,\n",
              "         [0., 0., 0.,  ..., 0., 0., 0.],\n",
              "         [0., 0., 0.,  ..., 0., 0., 0.],\n",
              "         [0., 0., 0.,  ..., 0., 0., 0.]],\n",
              "\n",
              "        [[1., 1., 1.,  ..., 1., 1., 1.],\n",
              "         [1., 1., 1.,  ..., 1., 1., 1.],\n",
              "         [1., 1., 1.,  ..., 1., 1., 1.],\n",
              "         ...,\n",
              "         [0., 0., 0.,  ..., 0., 0., 0.],\n",
              "         [0., 0., 0.,  ..., 0., 0., 0.],\n",
              "         [0., 0., 0.,  ..., 0., 0., 0.]],\n",
              "\n",
              "        [[1., 1., 1.,  ..., 1., 1., 1.],\n",
              "         [1., 1., 1.,  ..., 1., 1., 1.],\n",
              "         [1., 1., 1.,  ..., 1., 1., 1.],\n",
              "         ...,\n",
              "         [0., 0., 0.,  ..., 0., 0., 0.],\n",
              "         [0., 0., 0.,  ..., 0., 0., 0.],\n",
              "         [0., 0., 0.,  ..., 0., 0., 0.]],\n",
              "\n",
              "        [[1., 1., 1.,  ..., 1., 1., 1.],\n",
              "         [1., 1., 1.,  ..., 1., 1., 1.],\n",
              "         [1., 1., 1.,  ..., 1., 1., 1.],\n",
              "         ...,\n",
              "         [0., 0., 0.,  ..., 0., 0., 0.],\n",
              "         [0., 0., 0.,  ..., 0., 0., 0.],\n",
              "         [0., 0., 0.,  ..., 0., 0., 0.]]])"
            ]
          },
          "metadata": {},
          "execution_count": 26
        }
      ]
    },
    {
      "cell_type": "code",
      "source": [
        "## check the shape\n",
        "resized_attention_mask[0][0].shape"
      ],
      "metadata": {
        "colab": {
          "base_uri": "https://localhost:8080/"
        },
        "id": "oQtgtkI2Xefi",
        "outputId": "1d9942db-c6ed-458d-ad2f-87ae9f6406d5"
      },
      "execution_count": 27,
      "outputs": [
        {
          "output_type": "execute_result",
          "data": {
            "text/plain": [
              "torch.Size([768])"
            ]
          },
          "metadata": {},
          "execution_count": 27
        }
      ]
    },
    {
      "cell_type": "markdown",
      "source": [
        "Each token has a vector of size 768 representing the attention_mask status."
      ],
      "metadata": {
        "id": "xdfe0cuzXrAs"
      }
    },
    {
      "cell_type": "code",
      "source": [
        "## now multiply embeddings * resized_attention_mask\n",
        "masked_embedding = embeddings * resized_attention_mask\n",
        "masked_embedding.shape"
      ],
      "metadata": {
        "colab": {
          "base_uri": "https://localhost:8080/"
        },
        "id": "Os3pecRYXk7k",
        "outputId": "dd892e45-253d-4852-f906-3f26e3a6ccad"
      },
      "execution_count": 28,
      "outputs": [
        {
          "output_type": "execute_result",
          "data": {
            "text/plain": [
              "torch.Size([6, 512, 768])"
            ]
          },
          "metadata": {},
          "execution_count": 28
        }
      ]
    },
    {
      "cell_type": "code",
      "source": [
        "masked_embedding"
      ],
      "metadata": {
        "colab": {
          "base_uri": "https://localhost:8080/"
        },
        "id": "0NXYLRW7YCg8",
        "outputId": "c2bc33ee-5bd9-46da-d2ba-b8dfbab431a1"
      },
      "execution_count": 29,
      "outputs": [
        {
          "output_type": "execute_result",
          "data": {
            "text/plain": [
              "tensor([[[ 5.4512e-02,  1.2461e-01,  2.8609e-02,  ...,  4.5040e-02,\n",
              "          -2.1522e-01, -1.2738e-01],\n",
              "         [ 1.9801e-01,  2.5555e-01,  5.5805e-02,  ...,  1.1661e-01,\n",
              "          -2.1680e-01, -7.3816e-02],\n",
              "         [ 1.2923e-01,  2.1667e-01,  3.9211e-02,  ...,  4.9298e-02,\n",
              "          -1.6235e-01, -6.2349e-02],\n",
              "         ...,\n",
              "         [ 0.0000e+00,  0.0000e+00,  0.0000e+00,  ...,  0.0000e+00,\n",
              "          -0.0000e+00, -0.0000e+00],\n",
              "         [ 0.0000e+00,  0.0000e+00,  0.0000e+00,  ...,  0.0000e+00,\n",
              "          -0.0000e+00, -0.0000e+00],\n",
              "         [ 0.0000e+00,  0.0000e+00,  0.0000e+00,  ...,  0.0000e+00,\n",
              "          -0.0000e+00, -0.0000e+00]],\n",
              "\n",
              "        [[ 1.2549e-01, -1.0631e-01,  3.6857e-02,  ...,  6.0813e-02,\n",
              "          -9.1068e-02,  3.6397e-02],\n",
              "         [ 1.5688e-01, -2.4870e-01,  4.6817e-03,  ...,  8.2096e-02,\n",
              "          -1.8744e-01,  7.9757e-02],\n",
              "         [ 1.9245e-01, -1.4947e-01,  6.3418e-02,  ...,  1.9506e-01,\n",
              "          -8.3352e-02,  5.4228e-02],\n",
              "         ...,\n",
              "         [ 0.0000e+00,  0.0000e+00,  0.0000e+00,  ...,  0.0000e+00,\n",
              "          -0.0000e+00,  0.0000e+00],\n",
              "         [ 0.0000e+00,  0.0000e+00,  0.0000e+00,  ...,  0.0000e+00,\n",
              "          -0.0000e+00,  0.0000e+00],\n",
              "         [ 0.0000e+00,  0.0000e+00,  0.0000e+00,  ...,  0.0000e+00,\n",
              "          -0.0000e+00,  0.0000e+00]],\n",
              "\n",
              "        [[-1.0614e-01,  1.3884e-01,  1.1612e-02,  ..., -1.2914e-01,\n",
              "           6.3865e-02, -7.6280e-03],\n",
              "         [-9.6597e-02,  1.6110e-01,  3.3666e-02,  ..., -1.1327e-01,\n",
              "           1.8357e-01,  1.9893e-02],\n",
              "         [ 4.8910e-02,  5.2093e-01,  5.6504e-02,  ..., -1.2834e-01,\n",
              "          -1.4012e-02,  1.1963e-01],\n",
              "         ...,\n",
              "         [-0.0000e+00,  0.0000e+00,  0.0000e+00,  ..., -0.0000e+00,\n",
              "           0.0000e+00,  0.0000e+00],\n",
              "         [-0.0000e+00,  0.0000e+00,  0.0000e+00,  ..., -0.0000e+00,\n",
              "           0.0000e+00,  0.0000e+00],\n",
              "         [-0.0000e+00,  0.0000e+00,  0.0000e+00,  ..., -0.0000e+00,\n",
              "           0.0000e+00,  0.0000e+00]],\n",
              "\n",
              "        [[ 5.0962e-02, -2.5233e-01, -1.8100e-02,  ...,  5.9566e-02,\n",
              "           8.7379e-02, -1.5808e-01],\n",
              "         [ 7.6241e-02, -1.4975e-01,  3.0299e-04,  ...,  7.8922e-02,\n",
              "           9.9042e-02, -1.1577e-01],\n",
              "         [ 1.1795e-01, -1.5593e-01, -4.2907e-02,  ...,  8.0975e-02,\n",
              "           6.0451e-02, -1.7704e-01],\n",
              "         ...,\n",
              "         [ 0.0000e+00,  0.0000e+00,  0.0000e+00,  ...,  0.0000e+00,\n",
              "           0.0000e+00, -0.0000e+00],\n",
              "         [ 0.0000e+00,  0.0000e+00,  0.0000e+00,  ...,  0.0000e+00,\n",
              "           0.0000e+00, -0.0000e+00],\n",
              "         [ 0.0000e+00,  0.0000e+00,  0.0000e+00,  ...,  0.0000e+00,\n",
              "           0.0000e+00, -0.0000e+00]],\n",
              "\n",
              "        [[ 1.1234e-01,  1.1478e-01,  1.2360e-02,  ...,  4.7340e-02,\n",
              "          -4.8304e-02,  8.0259e-02],\n",
              "         [ 2.6574e-01,  2.0507e-01,  3.3430e-02,  ...,  7.5937e-02,\n",
              "          -4.7622e-02,  6.8742e-02],\n",
              "         [ 2.8021e-01, -1.6887e-01,  3.8917e-03,  ...,  1.1895e-01,\n",
              "          -1.5619e-01,  3.7889e-02],\n",
              "         ...,\n",
              "         [ 0.0000e+00,  0.0000e+00, -0.0000e+00,  ...,  0.0000e+00,\n",
              "          -0.0000e+00,  0.0000e+00],\n",
              "         [ 0.0000e+00,  0.0000e+00, -0.0000e+00,  ...,  0.0000e+00,\n",
              "          -0.0000e+00,  0.0000e+00],\n",
              "         [ 0.0000e+00,  0.0000e+00, -0.0000e+00,  ...,  0.0000e+00,\n",
              "          -0.0000e+00,  0.0000e+00]],\n",
              "\n",
              "        [[-5.6760e-02,  9.3008e-02,  7.6656e-02,  ...,  3.3159e-02,\n",
              "          -4.5787e-02, -5.4120e-02],\n",
              "         [ 4.2830e-02,  2.1722e-01,  1.5580e-02,  ...,  3.5687e-03,\n",
              "          -1.2856e-01, -5.1711e-02],\n",
              "         [-2.5319e-03,  1.6338e-01,  5.6528e-02,  ...,  1.3913e-01,\n",
              "          -1.4664e-01, -5.2257e-02],\n",
              "         ...,\n",
              "         [ 0.0000e+00,  0.0000e+00,  0.0000e+00,  ...,  0.0000e+00,\n",
              "          -0.0000e+00, -0.0000e+00],\n",
              "         [ 0.0000e+00,  0.0000e+00,  0.0000e+00,  ...,  0.0000e+00,\n",
              "          -0.0000e+00, -0.0000e+00],\n",
              "         [ 0.0000e+00,  0.0000e+00,  0.0000e+00,  ...,  0.0000e+00,\n",
              "          -0.0000e+00, -0.0000e+00]]], grad_fn=<MulBackward0>)"
            ]
          },
          "metadata": {},
          "execution_count": 29
        }
      ]
    },
    {
      "cell_type": "code",
      "source": [
        "# mean pooling\n",
        "summed_masked_embeddings = torch.sum(masked_embedding, 1)\n",
        "summed_masked_embeddings.shape"
      ],
      "metadata": {
        "colab": {
          "base_uri": "https://localhost:8080/"
        },
        "id": "PfmkTL6JYFkG",
        "outputId": "782693b0-b082-42ce-86cb-090d38341254"
      },
      "execution_count": 31,
      "outputs": [
        {
          "output_type": "execute_result",
          "data": {
            "text/plain": [
              "torch.Size([6, 768])"
            ]
          },
          "metadata": {},
          "execution_count": 31
        }
      ]
    },
    {
      "cell_type": "code",
      "source": [
        "summed_masked_embeddings"
      ],
      "metadata": {
        "colab": {
          "base_uri": "https://localhost:8080/"
        },
        "id": "_gU7Ldo0YTX9",
        "outputId": "bdb677b4-a348-43e6-b6ab-d8d79cb0d68d"
      },
      "execution_count": 32,
      "outputs": [
        {
          "output_type": "execute_result",
          "data": {
            "text/plain": [
              "tensor([[ 1.2427,  2.5238,  0.3613,  ...,  1.3365, -2.8568, -0.6771],\n",
              "        [ 2.5646, -1.7509,  0.7735,  ...,  1.0171, -1.7503,  1.2193],\n",
              "        [-0.7611,  4.0010,  0.2158,  ..., -2.2397,  1.1004,  0.8693],\n",
              "        [ 1.5776, -3.6690, -0.8673,  ...,  2.7474,  2.0530, -3.2321],\n",
              "        [ 3.9910,  1.3663, -0.0338,  ...,  1.9355, -2.6091,  1.9909],\n",
              "        [-0.2276,  2.2196,  1.5436,  ...,  1.3212, -1.7718, -1.0122]],\n",
              "       grad_fn=<SumBackward1>)"
            ]
          },
          "metadata": {},
          "execution_count": 32
        }
      ]
    },
    {
      "cell_type": "markdown",
      "source": [
        "### Using `torch.clamp()`\n",
        "* Clamps all elements in input into the range [ min, max ]. Letting min_value and max_value be min and max, respectively, this returns:\n",
        "* docs: https://pytorch.org/docs/stable/generated/torch.clamp.html\n",
        "* This will give the count of cells where there should not be a mask."
      ],
      "metadata": {
        "id": "UrginJ5tY_hE"
      }
    },
    {
      "cell_type": "code",
      "source": [
        "count_of_one_in_mask_tensor = torch.clamp(resized_attention_mask.sum(1), min=1e-9)\n",
        "\n",
        "count_of_one_in_mask_tensor.shape"
      ],
      "metadata": {
        "colab": {
          "base_uri": "https://localhost:8080/"
        },
        "id": "fSTUzEGpYeV9",
        "outputId": "39572552-2350-4a9a-ac9d-688bd1685282"
      },
      "execution_count": 33,
      "outputs": [
        {
          "output_type": "execute_result",
          "data": {
            "text/plain": [
              "torch.Size([6, 768])"
            ]
          },
          "metadata": {},
          "execution_count": 33
        }
      ]
    },
    {
      "cell_type": "code",
      "source": [
        "count_of_one_in_mask_tensor"
      ],
      "metadata": {
        "colab": {
          "base_uri": "https://localhost:8080/"
        },
        "id": "dRTYK96kZePB",
        "outputId": "0da6fb47-42c7-4708-dea5-196f993454e5"
      },
      "execution_count": 34,
      "outputs": [
        {
          "output_type": "execute_result",
          "data": {
            "text/plain": [
              "tensor([[13., 13., 13.,  ..., 13., 13., 13.],\n",
              "        [16., 16., 16.,  ..., 16., 16., 16.],\n",
              "        [19., 19., 19.,  ..., 19., 19., 19.],\n",
              "        [23., 23., 23.,  ..., 23., 23., 23.],\n",
              "        [20., 20., 20.,  ..., 20., 20., 20.],\n",
              "        [20., 20., 20.,  ..., 20., 20., 20.]])"
            ]
          },
          "metadata": {},
          "execution_count": 34
        }
      ]
    },
    {
      "cell_type": "markdown",
      "source": [
        "### Calculate mean pooling now"
      ],
      "metadata": {
        "id": "jNbae744Zl-T"
      }
    },
    {
      "cell_type": "code",
      "source": [
        "mean_pooled = summed_masked_embeddings / count_of_one_in_mask_tensor"
      ],
      "metadata": {
        "id": "Ff9Wz1ENZi4o"
      },
      "execution_count": 35,
      "outputs": []
    },
    {
      "cell_type": "code",
      "source": [
        "mean_pooled"
      ],
      "metadata": {
        "colab": {
          "base_uri": "https://localhost:8080/"
        },
        "id": "xLbRJ0ASZt8E",
        "outputId": "012fc93e-ae3c-4563-c5ea-a9cd43adf874"
      },
      "execution_count": 36,
      "outputs": [
        {
          "output_type": "execute_result",
          "data": {
            "text/plain": [
              "tensor([[ 0.0956,  0.1941,  0.0278,  ...,  0.1028, -0.2198, -0.0521],\n",
              "        [ 0.1603, -0.1094,  0.0483,  ...,  0.0636, -0.1094,  0.0762],\n",
              "        [-0.0401,  0.2106,  0.0114,  ..., -0.1179,  0.0579,  0.0458],\n",
              "        [ 0.0686, -0.1595, -0.0377,  ...,  0.1195,  0.0893, -0.1405],\n",
              "        [ 0.1995,  0.0683, -0.0017,  ...,  0.0968, -0.1305,  0.0995],\n",
              "        [-0.0114,  0.1110,  0.0772,  ...,  0.0661, -0.0886, -0.0506]],\n",
              "       grad_fn=<DivBackward0>)"
            ]
          },
          "metadata": {},
          "execution_count": 36
        }
      ]
    },
    {
      "cell_type": "code",
      "source": [
        "mean_pooled.shape"
      ],
      "metadata": {
        "colab": {
          "base_uri": "https://localhost:8080/"
        },
        "id": "jxPVnnxmZvCj",
        "outputId": "c53176c3-77ef-435a-d438-3c18d588ab61"
      },
      "execution_count": 37,
      "outputs": [
        {
          "output_type": "execute_result",
          "data": {
            "text/plain": [
              "torch.Size([6, 768])"
            ]
          },
          "metadata": {},
          "execution_count": 37
        }
      ]
    },
    {
      "cell_type": "markdown",
      "source": [
        "# Calculate cosine similarity for sentence 0"
      ],
      "metadata": {
        "id": "sVH9V3jmZ69H"
      }
    },
    {
      "cell_type": "code",
      "source": [
        "from sklearn.metrics.pairwise import cosine_similarity\n",
        "\n",
        "# detach gradients\n",
        "mean_pooled = mean_pooled.detach().numpy()\n",
        "\n",
        "# calculate cosine similarity - 2 arguments passed\n",
        "## mean_pooled of sentence vs. all other sentences\n",
        "cosine_similarity([mean_pooled[0]], mean_pooled[1:])"
      ],
      "metadata": {
        "colab": {
          "base_uri": "https://localhost:8080/"
        },
        "id": "_LvnhvugZxDT",
        "outputId": "59bbd4a8-253f-49ae-8d52-12b6f6a9db45"
      },
      "execution_count": 38,
      "outputs": [
        {
          "output_type": "execute_result",
          "data": {
            "text/plain": [
              "array([[0.11441986, 0.05706315, 0.00615248, 0.23848216, 0.62197554]],\n",
              "      dtype=float32)"
            ]
          },
          "metadata": {},
          "execution_count": 38
        }
      ]
    },
    {
      "cell_type": "markdown",
      "source": [
        "# Summary\n",
        "* We can see the cosine similarity scores above are all low except for the final value which is highest and this makes sense as it is most similar to sentence 0.\n",
        "* Recall sentence 0: \"It had been twenty days since the first zombie attack.\"\n",
        "* And the final sentence: \"After the last zombie attack twenty days back, they are now taking control of the city.\""
      ],
      "metadata": {
        "id": "62nFSPXZasI-"
      }
    },
    {
      "cell_type": "code",
      "source": [],
      "metadata": {
        "id": "ImKtz_OOafoE"
      },
      "execution_count": null,
      "outputs": []
    }
  ]
}