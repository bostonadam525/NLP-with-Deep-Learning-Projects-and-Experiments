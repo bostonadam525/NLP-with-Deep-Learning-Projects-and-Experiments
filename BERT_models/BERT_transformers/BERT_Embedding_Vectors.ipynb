{
  "nbformat": 4,
  "nbformat_minor": 0,
  "metadata": {
    "colab": {
      "provenance": []
    },
    "kernelspec": {
      "name": "python3",
      "display_name": "Python 3"
    },
    "language_info": {
      "name": "python"
    },
    "widgets": {
      "application/vnd.jupyter.widget-state+json": {
        "959b694dfcbb4615ac01572975e0c5cb": {
          "model_module": "@jupyter-widgets/controls",
          "model_name": "HBoxModel",
          "model_module_version": "1.5.0",
          "state": {
            "_dom_classes": [],
            "_model_module": "@jupyter-widgets/controls",
            "_model_module_version": "1.5.0",
            "_model_name": "HBoxModel",
            "_view_count": null,
            "_view_module": "@jupyter-widgets/controls",
            "_view_module_version": "1.5.0",
            "_view_name": "HBoxView",
            "box_style": "",
            "children": [
              "IPY_MODEL_be0878d127f84804b22a84e137132edc",
              "IPY_MODEL_968bf1a7deaa4c74a35ebc0692e5a502",
              "IPY_MODEL_e436176c484948d198c88fcde7ff551c"
            ],
            "layout": "IPY_MODEL_29b5b4d02beb457385186f03d2702541"
          }
        },
        "be0878d127f84804b22a84e137132edc": {
          "model_module": "@jupyter-widgets/controls",
          "model_name": "HTMLModel",
          "model_module_version": "1.5.0",
          "state": {
            "_dom_classes": [],
            "_model_module": "@jupyter-widgets/controls",
            "_model_module_version": "1.5.0",
            "_model_name": "HTMLModel",
            "_view_count": null,
            "_view_module": "@jupyter-widgets/controls",
            "_view_module_version": "1.5.0",
            "_view_name": "HTMLView",
            "description": "",
            "description_tooltip": null,
            "layout": "IPY_MODEL_693c3bd7644e47d084f7f9df621b8008",
            "placeholder": "​",
            "style": "IPY_MODEL_ce697879fa9945038015f5dbbccc9f25",
            "value": "config.json: 100%"
          }
        },
        "968bf1a7deaa4c74a35ebc0692e5a502": {
          "model_module": "@jupyter-widgets/controls",
          "model_name": "FloatProgressModel",
          "model_module_version": "1.5.0",
          "state": {
            "_dom_classes": [],
            "_model_module": "@jupyter-widgets/controls",
            "_model_module_version": "1.5.0",
            "_model_name": "FloatProgressModel",
            "_view_count": null,
            "_view_module": "@jupyter-widgets/controls",
            "_view_module_version": "1.5.0",
            "_view_name": "ProgressView",
            "bar_style": "success",
            "description": "",
            "description_tooltip": null,
            "layout": "IPY_MODEL_ed357f13137a43f491b3fb8c64df78b9",
            "max": 570,
            "min": 0,
            "orientation": "horizontal",
            "style": "IPY_MODEL_fd6d23a957554d98a831df4632d8fe8f",
            "value": 570
          }
        },
        "e436176c484948d198c88fcde7ff551c": {
          "model_module": "@jupyter-widgets/controls",
          "model_name": "HTMLModel",
          "model_module_version": "1.5.0",
          "state": {
            "_dom_classes": [],
            "_model_module": "@jupyter-widgets/controls",
            "_model_module_version": "1.5.0",
            "_model_name": "HTMLModel",
            "_view_count": null,
            "_view_module": "@jupyter-widgets/controls",
            "_view_module_version": "1.5.0",
            "_view_name": "HTMLView",
            "description": "",
            "description_tooltip": null,
            "layout": "IPY_MODEL_c73e500b2c8f4b6aafc9c37d4d706cfe",
            "placeholder": "​",
            "style": "IPY_MODEL_2500eac572e64b2a83a93b7c63136c40",
            "value": " 570/570 [00:00&lt;00:00, 11.2kB/s]"
          }
        },
        "29b5b4d02beb457385186f03d2702541": {
          "model_module": "@jupyter-widgets/base",
          "model_name": "LayoutModel",
          "model_module_version": "1.2.0",
          "state": {
            "_model_module": "@jupyter-widgets/base",
            "_model_module_version": "1.2.0",
            "_model_name": "LayoutModel",
            "_view_count": null,
            "_view_module": "@jupyter-widgets/base",
            "_view_module_version": "1.2.0",
            "_view_name": "LayoutView",
            "align_content": null,
            "align_items": null,
            "align_self": null,
            "border": null,
            "bottom": null,
            "display": null,
            "flex": null,
            "flex_flow": null,
            "grid_area": null,
            "grid_auto_columns": null,
            "grid_auto_flow": null,
            "grid_auto_rows": null,
            "grid_column": null,
            "grid_gap": null,
            "grid_row": null,
            "grid_template_areas": null,
            "grid_template_columns": null,
            "grid_template_rows": null,
            "height": null,
            "justify_content": null,
            "justify_items": null,
            "left": null,
            "margin": null,
            "max_height": null,
            "max_width": null,
            "min_height": null,
            "min_width": null,
            "object_fit": null,
            "object_position": null,
            "order": null,
            "overflow": null,
            "overflow_x": null,
            "overflow_y": null,
            "padding": null,
            "right": null,
            "top": null,
            "visibility": null,
            "width": null
          }
        },
        "693c3bd7644e47d084f7f9df621b8008": {
          "model_module": "@jupyter-widgets/base",
          "model_name": "LayoutModel",
          "model_module_version": "1.2.0",
          "state": {
            "_model_module": "@jupyter-widgets/base",
            "_model_module_version": "1.2.0",
            "_model_name": "LayoutModel",
            "_view_count": null,
            "_view_module": "@jupyter-widgets/base",
            "_view_module_version": "1.2.0",
            "_view_name": "LayoutView",
            "align_content": null,
            "align_items": null,
            "align_self": null,
            "border": null,
            "bottom": null,
            "display": null,
            "flex": null,
            "flex_flow": null,
            "grid_area": null,
            "grid_auto_columns": null,
            "grid_auto_flow": null,
            "grid_auto_rows": null,
            "grid_column": null,
            "grid_gap": null,
            "grid_row": null,
            "grid_template_areas": null,
            "grid_template_columns": null,
            "grid_template_rows": null,
            "height": null,
            "justify_content": null,
            "justify_items": null,
            "left": null,
            "margin": null,
            "max_height": null,
            "max_width": null,
            "min_height": null,
            "min_width": null,
            "object_fit": null,
            "object_position": null,
            "order": null,
            "overflow": null,
            "overflow_x": null,
            "overflow_y": null,
            "padding": null,
            "right": null,
            "top": null,
            "visibility": null,
            "width": null
          }
        },
        "ce697879fa9945038015f5dbbccc9f25": {
          "model_module": "@jupyter-widgets/controls",
          "model_name": "DescriptionStyleModel",
          "model_module_version": "1.5.0",
          "state": {
            "_model_module": "@jupyter-widgets/controls",
            "_model_module_version": "1.5.0",
            "_model_name": "DescriptionStyleModel",
            "_view_count": null,
            "_view_module": "@jupyter-widgets/base",
            "_view_module_version": "1.2.0",
            "_view_name": "StyleView",
            "description_width": ""
          }
        },
        "ed357f13137a43f491b3fb8c64df78b9": {
          "model_module": "@jupyter-widgets/base",
          "model_name": "LayoutModel",
          "model_module_version": "1.2.0",
          "state": {
            "_model_module": "@jupyter-widgets/base",
            "_model_module_version": "1.2.0",
            "_model_name": "LayoutModel",
            "_view_count": null,
            "_view_module": "@jupyter-widgets/base",
            "_view_module_version": "1.2.0",
            "_view_name": "LayoutView",
            "align_content": null,
            "align_items": null,
            "align_self": null,
            "border": null,
            "bottom": null,
            "display": null,
            "flex": null,
            "flex_flow": null,
            "grid_area": null,
            "grid_auto_columns": null,
            "grid_auto_flow": null,
            "grid_auto_rows": null,
            "grid_column": null,
            "grid_gap": null,
            "grid_row": null,
            "grid_template_areas": null,
            "grid_template_columns": null,
            "grid_template_rows": null,
            "height": null,
            "justify_content": null,
            "justify_items": null,
            "left": null,
            "margin": null,
            "max_height": null,
            "max_width": null,
            "min_height": null,
            "min_width": null,
            "object_fit": null,
            "object_position": null,
            "order": null,
            "overflow": null,
            "overflow_x": null,
            "overflow_y": null,
            "padding": null,
            "right": null,
            "top": null,
            "visibility": null,
            "width": null
          }
        },
        "fd6d23a957554d98a831df4632d8fe8f": {
          "model_module": "@jupyter-widgets/controls",
          "model_name": "ProgressStyleModel",
          "model_module_version": "1.5.0",
          "state": {
            "_model_module": "@jupyter-widgets/controls",
            "_model_module_version": "1.5.0",
            "_model_name": "ProgressStyleModel",
            "_view_count": null,
            "_view_module": "@jupyter-widgets/base",
            "_view_module_version": "1.2.0",
            "_view_name": "StyleView",
            "bar_color": null,
            "description_width": ""
          }
        },
        "c73e500b2c8f4b6aafc9c37d4d706cfe": {
          "model_module": "@jupyter-widgets/base",
          "model_name": "LayoutModel",
          "model_module_version": "1.2.0",
          "state": {
            "_model_module": "@jupyter-widgets/base",
            "_model_module_version": "1.2.0",
            "_model_name": "LayoutModel",
            "_view_count": null,
            "_view_module": "@jupyter-widgets/base",
            "_view_module_version": "1.2.0",
            "_view_name": "LayoutView",
            "align_content": null,
            "align_items": null,
            "align_self": null,
            "border": null,
            "bottom": null,
            "display": null,
            "flex": null,
            "flex_flow": null,
            "grid_area": null,
            "grid_auto_columns": null,
            "grid_auto_flow": null,
            "grid_auto_rows": null,
            "grid_column": null,
            "grid_gap": null,
            "grid_row": null,
            "grid_template_areas": null,
            "grid_template_columns": null,
            "grid_template_rows": null,
            "height": null,
            "justify_content": null,
            "justify_items": null,
            "left": null,
            "margin": null,
            "max_height": null,
            "max_width": null,
            "min_height": null,
            "min_width": null,
            "object_fit": null,
            "object_position": null,
            "order": null,
            "overflow": null,
            "overflow_x": null,
            "overflow_y": null,
            "padding": null,
            "right": null,
            "top": null,
            "visibility": null,
            "width": null
          }
        },
        "2500eac572e64b2a83a93b7c63136c40": {
          "model_module": "@jupyter-widgets/controls",
          "model_name": "DescriptionStyleModel",
          "model_module_version": "1.5.0",
          "state": {
            "_model_module": "@jupyter-widgets/controls",
            "_model_module_version": "1.5.0",
            "_model_name": "DescriptionStyleModel",
            "_view_count": null,
            "_view_module": "@jupyter-widgets/base",
            "_view_module_version": "1.2.0",
            "_view_name": "StyleView",
            "description_width": ""
          }
        },
        "6da438c1bb934b08b6f1c47e59826d66": {
          "model_module": "@jupyter-widgets/controls",
          "model_name": "HBoxModel",
          "model_module_version": "1.5.0",
          "state": {
            "_dom_classes": [],
            "_model_module": "@jupyter-widgets/controls",
            "_model_module_version": "1.5.0",
            "_model_name": "HBoxModel",
            "_view_count": null,
            "_view_module": "@jupyter-widgets/controls",
            "_view_module_version": "1.5.0",
            "_view_name": "HBoxView",
            "box_style": "",
            "children": [
              "IPY_MODEL_3e2a889b181e4f4db870446be1087900",
              "IPY_MODEL_020a160eda854e898840a832239b33e8",
              "IPY_MODEL_0609b9fa380c4424b831fc491c5ec399"
            ],
            "layout": "IPY_MODEL_f9a78252d785449a85b3d7421286f6a7"
          }
        },
        "3e2a889b181e4f4db870446be1087900": {
          "model_module": "@jupyter-widgets/controls",
          "model_name": "HTMLModel",
          "model_module_version": "1.5.0",
          "state": {
            "_dom_classes": [],
            "_model_module": "@jupyter-widgets/controls",
            "_model_module_version": "1.5.0",
            "_model_name": "HTMLModel",
            "_view_count": null,
            "_view_module": "@jupyter-widgets/controls",
            "_view_module_version": "1.5.0",
            "_view_name": "HTMLView",
            "description": "",
            "description_tooltip": null,
            "layout": "IPY_MODEL_9090d332c0004615a6ccc04527cec9bb",
            "placeholder": "​",
            "style": "IPY_MODEL_11edcc09431148d494f292bb8991d367",
            "value": "model.safetensors: 100%"
          }
        },
        "020a160eda854e898840a832239b33e8": {
          "model_module": "@jupyter-widgets/controls",
          "model_name": "FloatProgressModel",
          "model_module_version": "1.5.0",
          "state": {
            "_dom_classes": [],
            "_model_module": "@jupyter-widgets/controls",
            "_model_module_version": "1.5.0",
            "_model_name": "FloatProgressModel",
            "_view_count": null,
            "_view_module": "@jupyter-widgets/controls",
            "_view_module_version": "1.5.0",
            "_view_name": "ProgressView",
            "bar_style": "success",
            "description": "",
            "description_tooltip": null,
            "layout": "IPY_MODEL_a7fb674f8ac94208b4f259f9e6ca33ff",
            "max": 440449768,
            "min": 0,
            "orientation": "horizontal",
            "style": "IPY_MODEL_066b61bb6372456d9f986edabb7553b3",
            "value": 440449768
          }
        },
        "0609b9fa380c4424b831fc491c5ec399": {
          "model_module": "@jupyter-widgets/controls",
          "model_name": "HTMLModel",
          "model_module_version": "1.5.0",
          "state": {
            "_dom_classes": [],
            "_model_module": "@jupyter-widgets/controls",
            "_model_module_version": "1.5.0",
            "_model_name": "HTMLModel",
            "_view_count": null,
            "_view_module": "@jupyter-widgets/controls",
            "_view_module_version": "1.5.0",
            "_view_name": "HTMLView",
            "description": "",
            "description_tooltip": null,
            "layout": "IPY_MODEL_d063a07c344247a3ac49f6f85fa1ccf6",
            "placeholder": "​",
            "style": "IPY_MODEL_1c67f1d59ae64ac7bc3c6bc6cc988983",
            "value": " 440M/440M [00:07&lt;00:00, 55.9MB/s]"
          }
        },
        "f9a78252d785449a85b3d7421286f6a7": {
          "model_module": "@jupyter-widgets/base",
          "model_name": "LayoutModel",
          "model_module_version": "1.2.0",
          "state": {
            "_model_module": "@jupyter-widgets/base",
            "_model_module_version": "1.2.0",
            "_model_name": "LayoutModel",
            "_view_count": null,
            "_view_module": "@jupyter-widgets/base",
            "_view_module_version": "1.2.0",
            "_view_name": "LayoutView",
            "align_content": null,
            "align_items": null,
            "align_self": null,
            "border": null,
            "bottom": null,
            "display": null,
            "flex": null,
            "flex_flow": null,
            "grid_area": null,
            "grid_auto_columns": null,
            "grid_auto_flow": null,
            "grid_auto_rows": null,
            "grid_column": null,
            "grid_gap": null,
            "grid_row": null,
            "grid_template_areas": null,
            "grid_template_columns": null,
            "grid_template_rows": null,
            "height": null,
            "justify_content": null,
            "justify_items": null,
            "left": null,
            "margin": null,
            "max_height": null,
            "max_width": null,
            "min_height": null,
            "min_width": null,
            "object_fit": null,
            "object_position": null,
            "order": null,
            "overflow": null,
            "overflow_x": null,
            "overflow_y": null,
            "padding": null,
            "right": null,
            "top": null,
            "visibility": null,
            "width": null
          }
        },
        "9090d332c0004615a6ccc04527cec9bb": {
          "model_module": "@jupyter-widgets/base",
          "model_name": "LayoutModel",
          "model_module_version": "1.2.0",
          "state": {
            "_model_module": "@jupyter-widgets/base",
            "_model_module_version": "1.2.0",
            "_model_name": "LayoutModel",
            "_view_count": null,
            "_view_module": "@jupyter-widgets/base",
            "_view_module_version": "1.2.0",
            "_view_name": "LayoutView",
            "align_content": null,
            "align_items": null,
            "align_self": null,
            "border": null,
            "bottom": null,
            "display": null,
            "flex": null,
            "flex_flow": null,
            "grid_area": null,
            "grid_auto_columns": null,
            "grid_auto_flow": null,
            "grid_auto_rows": null,
            "grid_column": null,
            "grid_gap": null,
            "grid_row": null,
            "grid_template_areas": null,
            "grid_template_columns": null,
            "grid_template_rows": null,
            "height": null,
            "justify_content": null,
            "justify_items": null,
            "left": null,
            "margin": null,
            "max_height": null,
            "max_width": null,
            "min_height": null,
            "min_width": null,
            "object_fit": null,
            "object_position": null,
            "order": null,
            "overflow": null,
            "overflow_x": null,
            "overflow_y": null,
            "padding": null,
            "right": null,
            "top": null,
            "visibility": null,
            "width": null
          }
        },
        "11edcc09431148d494f292bb8991d367": {
          "model_module": "@jupyter-widgets/controls",
          "model_name": "DescriptionStyleModel",
          "model_module_version": "1.5.0",
          "state": {
            "_model_module": "@jupyter-widgets/controls",
            "_model_module_version": "1.5.0",
            "_model_name": "DescriptionStyleModel",
            "_view_count": null,
            "_view_module": "@jupyter-widgets/base",
            "_view_module_version": "1.2.0",
            "_view_name": "StyleView",
            "description_width": ""
          }
        },
        "a7fb674f8ac94208b4f259f9e6ca33ff": {
          "model_module": "@jupyter-widgets/base",
          "model_name": "LayoutModel",
          "model_module_version": "1.2.0",
          "state": {
            "_model_module": "@jupyter-widgets/base",
            "_model_module_version": "1.2.0",
            "_model_name": "LayoutModel",
            "_view_count": null,
            "_view_module": "@jupyter-widgets/base",
            "_view_module_version": "1.2.0",
            "_view_name": "LayoutView",
            "align_content": null,
            "align_items": null,
            "align_self": null,
            "border": null,
            "bottom": null,
            "display": null,
            "flex": null,
            "flex_flow": null,
            "grid_area": null,
            "grid_auto_columns": null,
            "grid_auto_flow": null,
            "grid_auto_rows": null,
            "grid_column": null,
            "grid_gap": null,
            "grid_row": null,
            "grid_template_areas": null,
            "grid_template_columns": null,
            "grid_template_rows": null,
            "height": null,
            "justify_content": null,
            "justify_items": null,
            "left": null,
            "margin": null,
            "max_height": null,
            "max_width": null,
            "min_height": null,
            "min_width": null,
            "object_fit": null,
            "object_position": null,
            "order": null,
            "overflow": null,
            "overflow_x": null,
            "overflow_y": null,
            "padding": null,
            "right": null,
            "top": null,
            "visibility": null,
            "width": null
          }
        },
        "066b61bb6372456d9f986edabb7553b3": {
          "model_module": "@jupyter-widgets/controls",
          "model_name": "ProgressStyleModel",
          "model_module_version": "1.5.0",
          "state": {
            "_model_module": "@jupyter-widgets/controls",
            "_model_module_version": "1.5.0",
            "_model_name": "ProgressStyleModel",
            "_view_count": null,
            "_view_module": "@jupyter-widgets/base",
            "_view_module_version": "1.2.0",
            "_view_name": "StyleView",
            "bar_color": null,
            "description_width": ""
          }
        },
        "d063a07c344247a3ac49f6f85fa1ccf6": {
          "model_module": "@jupyter-widgets/base",
          "model_name": "LayoutModel",
          "model_module_version": "1.2.0",
          "state": {
            "_model_module": "@jupyter-widgets/base",
            "_model_module_version": "1.2.0",
            "_model_name": "LayoutModel",
            "_view_count": null,
            "_view_module": "@jupyter-widgets/base",
            "_view_module_version": "1.2.0",
            "_view_name": "LayoutView",
            "align_content": null,
            "align_items": null,
            "align_self": null,
            "border": null,
            "bottom": null,
            "display": null,
            "flex": null,
            "flex_flow": null,
            "grid_area": null,
            "grid_auto_columns": null,
            "grid_auto_flow": null,
            "grid_auto_rows": null,
            "grid_column": null,
            "grid_gap": null,
            "grid_row": null,
            "grid_template_areas": null,
            "grid_template_columns": null,
            "grid_template_rows": null,
            "height": null,
            "justify_content": null,
            "justify_items": null,
            "left": null,
            "margin": null,
            "max_height": null,
            "max_width": null,
            "min_height": null,
            "min_width": null,
            "object_fit": null,
            "object_position": null,
            "order": null,
            "overflow": null,
            "overflow_x": null,
            "overflow_y": null,
            "padding": null,
            "right": null,
            "top": null,
            "visibility": null,
            "width": null
          }
        },
        "1c67f1d59ae64ac7bc3c6bc6cc988983": {
          "model_module": "@jupyter-widgets/controls",
          "model_name": "DescriptionStyleModel",
          "model_module_version": "1.5.0",
          "state": {
            "_model_module": "@jupyter-widgets/controls",
            "_model_module_version": "1.5.0",
            "_model_name": "DescriptionStyleModel",
            "_view_count": null,
            "_view_module": "@jupyter-widgets/base",
            "_view_module_version": "1.2.0",
            "_view_name": "StyleView",
            "description_width": ""
          }
        }
      }
    }
  },
  "cells": [
    {
      "cell_type": "markdown",
      "source": [
        "# BERT Embeddings and Vectors\n",
        "* Notebook by Adam Lang\n",
        "* Date: 6/11/2024\n",
        "* We will go through the intricacies of BERT transfomer models."
      ],
      "metadata": {
        "id": "pY-Xn4OEXbW3"
      }
    },
    {
      "cell_type": "code",
      "execution_count": 1,
      "metadata": {
        "id": "vyfEi1gMXVaL"
      },
      "outputs": [],
      "source": [
        "# install transfomers\n",
        "!pip install transformers -q"
      ]
    },
    {
      "cell_type": "code",
      "source": [
        "# imports\n",
        "from transformers import BertModel, BertTokenizer\n",
        "import torch"
      ],
      "metadata": {
        "id": "G2Fr0pg5Xo9E"
      },
      "execution_count": 2,
      "outputs": []
    },
    {
      "cell_type": "markdown",
      "source": [
        "## BERT-base-uncased\n",
        "* Pretrained model on English language using a masked language modeling (MLM) objective. It was introduced in this paper and first released in this repository. **This model is uncased: it does not make a difference between english and English.**\n",
        "* model card: https://huggingface.co/google-bert/bert-base-uncased"
      ],
      "metadata": {
        "id": "W_K32DqoYuM5"
      }
    },
    {
      "cell_type": "code",
      "source": [
        "# instantiate the model from huggingface\n",
        "model = BertModel.from_pretrained('bert-base-uncased')"
      ],
      "metadata": {
        "colab": {
          "base_uri": "https://localhost:8080/",
          "height": 81,
          "referenced_widgets": [
            "959b694dfcbb4615ac01572975e0c5cb",
            "be0878d127f84804b22a84e137132edc",
            "968bf1a7deaa4c74a35ebc0692e5a502",
            "e436176c484948d198c88fcde7ff551c",
            "29b5b4d02beb457385186f03d2702541",
            "693c3bd7644e47d084f7f9df621b8008",
            "ce697879fa9945038015f5dbbccc9f25",
            "ed357f13137a43f491b3fb8c64df78b9",
            "fd6d23a957554d98a831df4632d8fe8f",
            "c73e500b2c8f4b6aafc9c37d4d706cfe",
            "2500eac572e64b2a83a93b7c63136c40",
            "6da438c1bb934b08b6f1c47e59826d66",
            "3e2a889b181e4f4db870446be1087900",
            "020a160eda854e898840a832239b33e8",
            "0609b9fa380c4424b831fc491c5ec399",
            "f9a78252d785449a85b3d7421286f6a7",
            "9090d332c0004615a6ccc04527cec9bb",
            "11edcc09431148d494f292bb8991d367",
            "a7fb674f8ac94208b4f259f9e6ca33ff",
            "066b61bb6372456d9f986edabb7553b3",
            "d063a07c344247a3ac49f6f85fa1ccf6",
            "1c67f1d59ae64ac7bc3c6bc6cc988983"
          ]
        },
        "id": "KuA2U3A_XyQ4",
        "outputId": "11ce060d-e27b-4045-e0df-36c8acb5733f"
      },
      "execution_count": 3,
      "outputs": [
        {
          "output_type": "display_data",
          "data": {
            "text/plain": [
              "config.json:   0%|          | 0.00/570 [00:00<?, ?B/s]"
            ],
            "application/vnd.jupyter.widget-view+json": {
              "version_major": 2,
              "version_minor": 0,
              "model_id": "959b694dfcbb4615ac01572975e0c5cb"
            }
          },
          "metadata": {}
        },
        {
          "output_type": "display_data",
          "data": {
            "text/plain": [
              "model.safetensors:   0%|          | 0.00/440M [00:00<?, ?B/s]"
            ],
            "application/vnd.jupyter.widget-view+json": {
              "version_major": 2,
              "version_minor": 0,
              "model_id": "6da438c1bb934b08b6f1c47e59826d66"
            }
          },
          "metadata": {}
        }
      ]
    },
    {
      "cell_type": "code",
      "source": [
        "## test sentence\n",
        "sentence = \"She is a Machine Learning Engineer and works in California.\""
      ],
      "metadata": {
        "id": "bk1YP_FgX4Wa"
      },
      "execution_count": 34,
      "outputs": []
    },
    {
      "cell_type": "markdown",
      "source": [
        "## BERT Tokenizer\n",
        "* Define tokenizer from huggingface\n",
        "* Then apply it to the text."
      ],
      "metadata": {
        "id": "QsqyQ6uNYNnE"
      }
    },
    {
      "cell_type": "code",
      "source": [
        "## tokenizer\n",
        "tokenizer = BertTokenizer.from_pretrained('bert-base-uncased')\n"
      ],
      "metadata": {
        "id": "MSFRSEvcYGhM"
      },
      "execution_count": 35,
      "outputs": []
    },
    {
      "cell_type": "markdown",
      "source": [
        "#### Tokenize sentence and obtain tokens"
      ],
      "metadata": {
        "id": "vpXeGXfkY5fe"
      }
    },
    {
      "cell_type": "code",
      "source": [
        "tokens = tokenizer.tokenize(sentence)"
      ],
      "metadata": {
        "id": "X_SzUFLwY3sj"
      },
      "execution_count": 36,
      "outputs": []
    },
    {
      "cell_type": "markdown",
      "source": [
        "#### Print out the tokens we obtained"
      ],
      "metadata": {
        "id": "FiaTuZqcY_us"
      }
    },
    {
      "cell_type": "code",
      "source": [
        "tokens"
      ],
      "metadata": {
        "colab": {
          "base_uri": "https://localhost:8080/"
        },
        "id": "ML9KqKnIY-Z9",
        "outputId": "54021a3d-63da-4cf2-bde6-6aa54ce317fc"
      },
      "execution_count": 37,
      "outputs": [
        {
          "output_type": "execute_result",
          "data": {
            "text/plain": [
              "['she',\n",
              " 'is',\n",
              " 'a',\n",
              " 'machine',\n",
              " 'learning',\n",
              " 'engineer',\n",
              " 'and',\n",
              " 'works',\n",
              " 'in',\n",
              " 'california',\n",
              " '.']"
            ]
          },
          "metadata": {},
          "execution_count": 37
        }
      ]
    },
    {
      "cell_type": "code",
      "source": [
        "print(tokens)"
      ],
      "metadata": {
        "colab": {
          "base_uri": "https://localhost:8080/"
        },
        "id": "QL98CxDeZC43",
        "outputId": "51fb9cdb-61dc-4994-a2b4-fab62bfbc008"
      },
      "execution_count": 38,
      "outputs": [
        {
          "output_type": "stream",
          "name": "stdout",
          "text": [
            "['she', 'is', 'a', 'machine', 'learning', 'engineer', 'and', 'works', 'in', 'california', '.']\n"
          ]
        }
      ]
    },
    {
      "cell_type": "code",
      "source": [
        "print(len(tokens))"
      ],
      "metadata": {
        "colab": {
          "base_uri": "https://localhost:8080/"
        },
        "id": "xcCTa6z_bFHu",
        "outputId": "d56f7a06-21c1-4264-ef3c-50b03ba34ba2"
      },
      "execution_count": 39,
      "outputs": [
        {
          "output_type": "stream",
          "name": "stdout",
          "text": [
            "11\n"
          ]
        }
      ]
    },
    {
      "cell_type": "markdown",
      "source": [
        "#### Now add the [CLS] token at beginning and [SEP] token at end of tokens list:\n",
        "* CLS is the classification token.\n",
        "* SEP is the separator token usually at the end of a sentence."
      ],
      "metadata": {
        "id": "O9EWj-33aR7b"
      }
    },
    {
      "cell_type": "code",
      "source": [
        "tokens = ['[CLS]'] + tokens + ['[SEP]']"
      ],
      "metadata": {
        "id": "g68GjFD-aOsz"
      },
      "execution_count": 40,
      "outputs": []
    },
    {
      "cell_type": "markdown",
      "source": [
        "#### Let's see the updated tokens list"
      ],
      "metadata": {
        "id": "ZbMBDFAAaerv"
      }
    },
    {
      "cell_type": "code",
      "source": [
        "print(tokens)"
      ],
      "metadata": {
        "colab": {
          "base_uri": "https://localhost:8080/"
        },
        "id": "AO_XvLz1ads-",
        "outputId": "a6f4cc7d-0135-4d73-a3f1-8f00edcb5069"
      },
      "execution_count": 41,
      "outputs": [
        {
          "output_type": "stream",
          "name": "stdout",
          "text": [
            "['[CLS]', 'she', 'is', 'a', 'machine', 'learning', 'engineer', 'and', 'works', 'in', 'california', '.', '[SEP]']\n"
          ]
        }
      ]
    },
    {
      "cell_type": "code",
      "source": [
        "print(len(tokens))"
      ],
      "metadata": {
        "colab": {
          "base_uri": "https://localhost:8080/"
        },
        "id": "Gmi4Y_w2aitr",
        "outputId": "78a48984-16ac-4156-e344-2ce24ea88587"
      },
      "execution_count": 42,
      "outputs": [
        {
          "output_type": "stream",
          "name": "stdout",
          "text": [
            "13\n"
          ]
        }
      ]
    },
    {
      "cell_type": "markdown",
      "source": [
        "Summary:\n",
        "* We can see the tokens grew in length by 2 after adding the `CLS` and `SEP`.\n",
        "* However, standard practice in masked language modeling (MLM) is to have a standard length of input.\n",
        "* Therefore we need to add padding or 'PAD' tokens.\n",
        "  * Let's say for this example we want a standard length of 16 tokens so we add 2 PAD tokens."
      ],
      "metadata": {
        "id": "sXdCy_8LbI3i"
      }
    },
    {
      "cell_type": "code",
      "source": [
        "tokens = tokens + ['[PAD]'] + ['[PAD]']"
      ],
      "metadata": {
        "id": "EgxIMxp5a7bT"
      },
      "execution_count": 43,
      "outputs": []
    },
    {
      "cell_type": "markdown",
      "source": [
        "#### Print updated tokens list with PADs"
      ],
      "metadata": {
        "id": "krni1kiUb3j3"
      }
    },
    {
      "cell_type": "code",
      "source": [
        "print(tokens)"
      ],
      "metadata": {
        "colab": {
          "base_uri": "https://localhost:8080/"
        },
        "id": "yRPgsruTb1yw",
        "outputId": "f26641ca-daaa-4090-c2e5-71c32e3b7362"
      },
      "execution_count": 44,
      "outputs": [
        {
          "output_type": "stream",
          "name": "stdout",
          "text": [
            "['[CLS]', 'she', 'is', 'a', 'machine', 'learning', 'engineer', 'and', 'works', 'in', 'california', '.', '[SEP]', '[PAD]', '[PAD]']\n"
          ]
        }
      ]
    },
    {
      "cell_type": "code",
      "source": [
        "## len of tokens\n",
        "print(len(tokens))"
      ],
      "metadata": {
        "colab": {
          "base_uri": "https://localhost:8080/"
        },
        "id": "2XCqKyBlb8eB",
        "outputId": "fbcf1ae9-0351-4612-a55a-bdfad807edd8"
      },
      "execution_count": 45,
      "outputs": [
        {
          "output_type": "stream",
          "name": "stdout",
          "text": [
            "15\n"
          ]
        }
      ]
    },
    {
      "cell_type": "markdown",
      "source": [
        "We can see that our length has now grown by 2, again adding the PAD tokens."
      ],
      "metadata": {
        "id": "oqvjOLt9cBlS"
      }
    },
    {
      "cell_type": "markdown",
      "source": [
        "## Attention Mask\n",
        "* An attention mask is a binary mask that designates which tokens should be attended to (assigned non-zero weights such as 1) and which should be ignored (assigned zero weights).\n",
        "* By applying this mask, the model can selectively attend to specific tokens while disregarding others."
      ],
      "metadata": {
        "id": "j3I0psrTcmMA"
      }
    },
    {
      "cell_type": "code",
      "source": [
        "attention_mask = [1 if i!= '[PAD]' else 0 for i in tokens]"
      ],
      "metadata": {
        "id": "sh-XaRnbcAcv"
      },
      "execution_count": 46,
      "outputs": []
    },
    {
      "cell_type": "code",
      "source": [
        "print(attention_mask)"
      ],
      "metadata": {
        "colab": {
          "base_uri": "https://localhost:8080/"
        },
        "id": "gHt0oriBdd6w",
        "outputId": "c46a1771-72e6-45d8-ae7e-22e43b1dbcab"
      },
      "execution_count": 47,
      "outputs": [
        {
          "output_type": "stream",
          "name": "stdout",
          "text": [
            "[1, 1, 1, 1, 1, 1, 1, 1, 1, 1, 1, 1, 1, 0, 0]\n"
          ]
        }
      ]
    },
    {
      "cell_type": "markdown",
      "source": [
        "Summary\n",
        "* We see 1 where there are \"actual tokens' and 0 where there are PADs or not actual tokens."
      ],
      "metadata": {
        "id": "7Gfvhc12dnJ0"
      }
    },
    {
      "cell_type": "markdown",
      "source": [
        "## Unique Token ID\n",
        "* The concept is to map each token to a unique token ID.\n",
        "* Why? Input IDs: The BERT base model has a defined vocabulary of 30522 tokens. Each unique string token maps to a unique integer ID. These are the integer IDs for each token in a sequence.\n",
        "* We do this with the method:\n",
        "  * `convert_tokens_to_ids()`\n",
        "* Further reading on this: https://medium.com/@alexmriggio/bert-for-sequence-classification-from-scratch-code-and-theory-fb88053800fa"
      ],
      "metadata": {
        "id": "h4FIKzM6duzr"
      }
    },
    {
      "cell_type": "code",
      "source": [
        "token_ids = tokenizer.convert_tokens_to_ids(tokens)"
      ],
      "metadata": {
        "id": "g_bck4Mcdfjc"
      },
      "execution_count": 48,
      "outputs": []
    },
    {
      "cell_type": "code",
      "source": [
        "# print token_ids\n",
        "print(token_ids)"
      ],
      "metadata": {
        "colab": {
          "base_uri": "https://localhost:8080/"
        },
        "id": "Zcb7liuge2-B",
        "outputId": "8e6dc8be-5eb3-440c-f33c-7dbb01470cf0"
      },
      "execution_count": 49,
      "outputs": [
        {
          "output_type": "stream",
          "name": "stdout",
          "text": [
            "[101, 2016, 2003, 1037, 3698, 4083, 3992, 1998, 2573, 1999, 2662, 1012, 102, 0, 0]\n"
          ]
        }
      ]
    },
    {
      "cell_type": "markdown",
      "source": [
        "Summary:\n",
        "* Each token is encoded by the token_id in the position in each sentence.\n",
        "* Why is this important?\n",
        "  * Each unique token_id is mapped to a vector when creating embeddings.\n",
        "  * If you have 30,522 tokens --> you will have 30,522 vectors fed into the BERT model."
      ],
      "metadata": {
        "id": "hDgtuMG0fXTm"
      }
    },
    {
      "cell_type": "markdown",
      "source": [
        "#### Next steps\n",
        "* Both the `token_ids` and the `attention_mask` need to do the following:\n",
        "    * Convert to `torch.tensor()`\n",
        "    * Apply `.usqueeze()` --> reduce dimensions to 1"
      ],
      "metadata": {
        "id": "-aY6ihhYggvw"
      }
    },
    {
      "cell_type": "code",
      "source": [
        "token_ids = torch.tensor(token_ids).unsqueeze(0)\n",
        "\n",
        "attention_mask = torch.tensor(attention_mask).unsqueeze(0)"
      ],
      "metadata": {
        "id": "49Nwh9YRfBgG"
      },
      "execution_count": 50,
      "outputs": []
    },
    {
      "cell_type": "markdown",
      "source": [
        "## Feed token_ids + attention_masks to model"
      ],
      "metadata": {
        "id": "pNwqXYnHhtK8"
      }
    },
    {
      "cell_type": "code",
      "source": [
        "output = model(token_ids, attention_mask=attention_mask)"
      ],
      "metadata": {
        "id": "XvOCgQQthdcY"
      },
      "execution_count": 51,
      "outputs": []
    },
    {
      "cell_type": "code",
      "source": [
        "output"
      ],
      "metadata": {
        "colab": {
          "base_uri": "https://localhost:8080/"
        },
        "id": "jfYAufzch-fF",
        "outputId": "38ff53a7-f3b5-4c82-cf60-ea65f217ff22"
      },
      "execution_count": 52,
      "outputs": [
        {
          "output_type": "execute_result",
          "data": {
            "text/plain": [
              "BaseModelOutputWithPoolingAndCrossAttentions(last_hidden_state=tensor([[[-0.0655,  0.0770, -0.6389,  ..., -0.2221,  0.4882,  0.2644],\n",
              "         [ 0.2520, -0.3882, -0.8195,  ...,  0.1664,  0.3918, -0.2453],\n",
              "         [-0.1106,  0.2444, -0.0539,  ..., -0.4896,  0.1578,  0.3824],\n",
              "         ...,\n",
              "         [-0.1378,  0.3008, -0.9749,  ...,  0.3532, -0.0635, -0.4823],\n",
              "         [ 0.1346,  0.2880, -0.2892,  ...,  0.2452,  0.1708, -0.0909],\n",
              "         [ 0.0195,  0.3129, -0.2731,  ...,  0.1813,  0.1968, -0.3638]]],\n",
              "       grad_fn=<NativeLayerNormBackward0>), pooler_output=tensor([[-0.9452, -0.5548, -0.9395,  0.8934,  0.8746, -0.3437,  0.9400,  0.5532,\n",
              "         -0.8653, -1.0000, -0.7528,  0.9677,  0.9864,  0.5806,  0.9565, -0.8545,\n",
              "         -0.2569, -0.7218,  0.4626, -0.7341,  0.7854,  1.0000, -0.0434,  0.4335,\n",
              "          0.5901,  0.9967, -0.8644,  0.9565,  0.9661,  0.8603, -0.8072,  0.4597,\n",
              "         -0.9935, -0.2990, -0.9463, -0.9957,  0.6134, -0.8441, -0.0728, -0.1589,\n",
              "         -0.9138,  0.5703,  1.0000, -0.1495,  0.5898, -0.3101, -1.0000,  0.4055,\n",
              "         -0.9528,  0.9559,  0.8810,  0.9349,  0.2781,  0.6702,  0.5955, -0.4632,\n",
              "          0.0254,  0.1964, -0.3645, -0.7879, -0.6678,  0.4576, -0.9031, -0.9552,\n",
              "          0.9513,  0.8572, -0.3187, -0.3514, -0.2284, -0.0567,  0.9708,  0.3753,\n",
              "         -0.0787, -0.8759,  0.8160,  0.2983, -0.7629,  1.0000, -0.5661, -0.9881,\n",
              "          0.8654,  0.8569,  0.7435, -0.3786,  0.5812, -1.0000,  0.6887, -0.1796,\n",
              "         -0.9951,  0.2822,  0.6164, -0.3325,  0.5636,  0.7617, -0.4589, -0.6550,\n",
              "         -0.4764, -0.9134, -0.4374, -0.5213,  0.2000, -0.3672, -0.4992, -0.5390,\n",
              "          0.3927, -0.6643, -0.6453,  0.5197,  0.0386,  0.7293,  0.6217, -0.4220,\n",
              "          0.5480, -0.9658,  0.7373, -0.3541, -0.9920, -0.7612, -0.9946,  0.8334,\n",
              "         -0.4612, -0.4013,  0.9830,  0.0119,  0.6134, -0.3253, -0.9692, -1.0000,\n",
              "         -0.7321, -0.1710, -0.2405, -0.3244, -0.9885, -0.9693,  0.7180,  0.9668,\n",
              "          0.3930,  1.0000, -0.6063,  0.9522, -0.4688, -0.8842,  0.7634, -0.5989,\n",
              "          0.7325,  0.4475, -0.7576,  0.3516, -0.6550,  0.3427, -0.8505, -0.4491,\n",
              "         -0.7214, -0.9547, -0.4455,  0.9682, -0.7849, -0.9716, -0.1685, -0.4886,\n",
              "         -0.5535,  0.8954,  0.8469,  0.5164, -0.4766,  0.5862,  0.2717,  0.7008,\n",
              "         -0.8943, -0.4224,  0.5622, -0.5286, -0.8835, -0.9895, -0.5669,  0.7324,\n",
              "          0.9925,  0.8523,  0.3652,  0.9074, -0.4597,  0.8359, -0.9742,  0.9903,\n",
              "         -0.3151,  0.3511, -0.3032,  0.3864, -0.8939, -0.0241,  0.9035, -0.8505,\n",
              "         -0.9292, -0.1397, -0.5391, -0.5748, -0.8613,  0.7205, -0.4651, -0.5144,\n",
              "         -0.2724,  0.9521,  0.9934,  0.7984,  0.3933,  0.7871, -0.9656, -0.6040,\n",
              "          0.2448,  0.4287,  0.3488,  0.9946, -0.7017, -0.3477, -0.9462, -0.9888,\n",
              "          0.0276, -0.9501, -0.2557, -0.7595,  0.7866, -0.7619,  0.6667,  0.5618,\n",
              "         -0.9936, -0.8423,  0.4930, -0.5739,  0.6190, -0.2803,  0.7101,  0.9493,\n",
              "         -0.7632,  0.6455,  0.9428, -0.9103, -0.8905,  0.9070, -0.4043,  0.9294,\n",
              "         -0.8191,  0.9984,  0.9313,  0.8415, -0.9686, -0.7534, -0.9580, -0.7668,\n",
              "         -0.1943,  0.1818,  0.9278,  0.7856,  0.5561,  0.4244, -0.6367,  0.9995,\n",
              "         -0.8875, -0.9643, -0.3813, -0.4560, -0.9914,  0.9012,  0.4077,  0.5649,\n",
              "         -0.6189, -0.7814, -0.9694,  0.9406,  0.3276,  0.9973, -0.4869, -0.9601,\n",
              "         -0.7789, -0.9549,  0.0176, -0.2192, -0.5433,  0.0224, -0.9772,  0.6320,\n",
              "          0.6905,  0.7618, -0.9294,  0.9996,  1.0000,  0.9796,  0.9356,  0.9569,\n",
              "         -1.0000, -0.7459,  1.0000, -0.9971, -1.0000, -0.9712, -0.7366,  0.4385,\n",
              "         -1.0000, -0.2493, -0.0175, -0.9365,  0.7890,  0.9824,  0.9982, -1.0000,\n",
              "          0.9452,  0.9764, -0.7837,  0.9724, -0.4458,  0.9811,  0.5806,  0.7281,\n",
              "         -0.4712,  0.5597, -0.9529, -0.9118, -0.7844, -0.8861,  0.9995,  0.2117,\n",
              "         -0.8870, -0.9425,  0.7334, -0.0423, -0.2402, -0.9750, -0.4421,  0.7404,\n",
              "          0.7716,  0.3428,  0.4715, -0.7976,  0.4141, -0.0920,  0.5234,  0.7708,\n",
              "         -0.9422, -0.7723, -0.0443,  0.0631, -0.6525, -0.9735,  0.9817, -0.6548,\n",
              "          0.9078,  1.0000,  0.2721, -0.9621,  0.7596,  0.4353,  0.1087,  1.0000,\n",
              "          0.8585, -0.9894, -0.6960,  0.8154, -0.7531, -0.7938,  0.9999, -0.4023,\n",
              "         -0.7645, -0.6622,  0.9878, -0.9917,  0.9982, -0.9369, -0.9791,  0.9852,\n",
              "          0.9638, -0.6154, -0.7797,  0.1506, -0.7224,  0.3894, -0.9760,  0.8217,\n",
              "          0.5837, -0.2168,  0.9229, -0.8308, -0.6784,  0.4548, -0.5798, -0.1725,\n",
              "          0.9589,  0.6251, -0.3134,  0.2007, -0.4913, -0.2941, -0.9834,  0.6111,\n",
              "          1.0000, -0.2282,  0.7724, -0.5078, -0.2465,  0.1396,  0.6845,  0.6881,\n",
              "         -0.3874, -0.9360,  0.7678, -0.9842, -0.9939,  0.8226,  0.2716, -0.3338,\n",
              "          1.0000,  0.5465,  0.3840,  0.4146,  0.9955, -0.0326,  0.6014,  0.9014,\n",
              "          0.9887, -0.3888,  0.7462,  0.9287, -0.9467, -0.4711, -0.7690,  0.0478,\n",
              "         -0.9128, -0.0142, -0.9850,  0.9841,  0.9755,  0.4594,  0.3911,  0.7232,\n",
              "          1.0000, -0.7803,  0.7579, -0.4496,  0.7585, -0.9999, -0.9286, -0.5035,\n",
              "         -0.0825, -0.8286, -0.3777,  0.3927, -0.9863,  0.8409,  0.8250, -0.9909,\n",
              "         -0.9906, -0.3843,  0.9289,  0.3047, -0.9940, -0.8318, -0.6461,  0.8411,\n",
              "         -0.3790, -0.9665, -0.2320, -0.4567,  0.6790, -0.4714,  0.6983,  0.8990,\n",
              "          0.7768, -0.7986, -0.5964, -0.3271, -0.8861,  0.8404, -0.9249, -0.9782,\n",
              "         -0.3165,  1.0000, -0.4319,  0.8725,  0.7560,  0.8517, -0.2744,  0.3479,\n",
              "          0.9679,  0.3264, -0.7724, -0.9364, -0.7138, -0.4962,  0.6221,  0.5055,\n",
              "          0.6965,  0.8543,  0.8318,  0.4578, -0.0573,  0.2085,  0.9999, -0.1330,\n",
              "         -0.3052, -0.8011, -0.2634, -0.5417, -0.2300,  1.0000,  0.4946,  0.6789,\n",
              "         -0.9947, -0.9245, -0.9774,  1.0000,  0.9120, -0.9328,  0.8248,  0.7206,\n",
              "         -0.3613,  0.8064, -0.4965, -0.4397,  0.2738,  0.1658,  0.9796, -0.6559,\n",
              "         -0.9819, -0.6827,  0.6881, -0.9806,  1.0000, -0.7742, -0.4485, -0.5084,\n",
              "         -0.6176,  0.4542,  0.0129, -0.9903, -0.4331,  0.3555,  0.9867,  0.4565,\n",
              "         -0.7323, -0.9486,  0.9320,  0.8228, -0.9473, -0.9634,  0.9761, -0.9866,\n",
              "          0.6266,  1.0000,  0.4164,  0.3191,  0.4007, -0.5726,  0.5137, -0.5191,\n",
              "          0.7270, -0.9730, -0.5468, -0.2965,  0.5359, -0.2543, -0.4972,  0.7291,\n",
              "          0.3334, -0.7049, -0.7154, -0.3990,  0.5741,  0.9011, -0.3498, -0.2207,\n",
              "          0.2492, -0.1455, -0.9747, -0.6002, -0.6353, -1.0000,  0.8683, -1.0000,\n",
              "          0.7266,  0.2931, -0.3484,  0.9084,  0.6907,  0.7459, -0.8488, -0.9130,\n",
              "          0.4789,  0.8351, -0.6087, -0.6883, -0.7896,  0.5808, -0.2306,  0.4718,\n",
              "         -0.7171,  0.7910, -0.5078,  1.0000,  0.2584, -0.6538, -0.9884,  0.4194,\n",
              "         -0.3874,  1.0000, -0.9502, -0.9758,  0.4402, -0.8880, -0.9054,  0.4782,\n",
              "          0.0909, -0.8748, -0.9776,  0.9743,  0.9486, -0.7270,  0.6311, -0.4335,\n",
              "         -0.6584,  0.0583,  0.9585,  0.9922,  0.2454,  0.9430, -0.6598, -0.0740,\n",
              "          0.9827,  0.2691,  0.6839,  0.2803,  1.0000,  0.4824, -0.9394,  0.1142,\n",
              "         -0.9918, -0.3290, -0.9591,  0.5304,  0.2440,  0.9528, -0.4334,  0.9799,\n",
              "         -0.9453,  0.1686, -0.7472, -0.6058,  0.4282, -0.9755, -0.9880, -0.9884,\n",
              "          0.7564, -0.5159, -0.2932,  0.3787,  0.2064,  0.6778,  0.6230, -1.0000,\n",
              "          0.9703,  0.6312,  0.9508,  0.9797,  0.7242,  0.6674,  0.4297, -0.9902,\n",
              "         -0.9938, -0.4728, -0.3043,  0.7819,  0.8392,  0.8879,  0.5177, -0.5624,\n",
              "         -0.6721, -0.5133, -0.8979, -0.9958,  0.6813, -0.7709, -0.9857,  0.9719,\n",
              "         -0.3296, -0.1434,  0.0362, -0.7580,  0.9828,  0.8941,  0.4874,  0.2326,\n",
              "          0.6666,  0.9488,  0.9672,  0.9879, -0.9079,  0.9206, -0.9260,  0.5334,\n",
              "          0.5974, -0.9617,  0.2605,  0.7753, -0.4738,  0.4151, -0.3318, -0.9871,\n",
              "          0.6159, -0.3631,  0.6211, -0.5988, -0.0405, -0.5090, -0.2351, -0.7973,\n",
              "         -0.7821,  0.7690,  0.7014,  0.9514,  0.8978, -0.2786, -0.8561, -0.2329,\n",
              "         -0.8126, -0.9387,  0.9581, -0.1184, -0.2536,  0.7568,  0.0144,  0.8930,\n",
              "          0.1324, -0.5161, -0.5528, -0.8459,  0.9495, -0.7898, -0.7151, -0.5908,\n",
              "          0.8603,  0.4728,  1.0000, -0.8738, -0.9256, -0.6901, -0.5568,  0.5346,\n",
              "         -0.6045, -1.0000,  0.5069, -0.8056,  0.6714, -0.7373,  0.9045, -0.8718,\n",
              "         -0.9869, -0.4213,  0.5257,  0.8859, -0.5737, -0.8256,  0.7430, -0.3388,\n",
              "          0.9919,  0.9093, -0.8111,  0.0099,  0.7939, -0.5304, -0.7033,  0.9368]],\n",
              "       grad_fn=<TanhBackward0>), hidden_states=None, past_key_values=None, attentions=None, cross_attentions=None)"
            ]
          },
          "metadata": {},
          "execution_count": 52
        }
      ]
    },
    {
      "cell_type": "markdown",
      "source": [
        "Summary of output\n",
        "1. last_hidden_state\n",
        "  * 768 is the hidden_state or hidden size as we can see below\n",
        "2. Pooler output -- embedding of the CLS"
      ],
      "metadata": {
        "id": "DDIAdmLFiO9o"
      }
    },
    {
      "cell_type": "code",
      "source": [
        "# hidden_state output\n",
        "output[0].shape"
      ],
      "metadata": {
        "colab": {
          "base_uri": "https://localhost:8080/"
        },
        "id": "sVJoaGsgiASP",
        "outputId": "25cfad7b-f649-4b4b-ebd5-d25937208b8b"
      },
      "execution_count": 56,
      "outputs": [
        {
          "output_type": "execute_result",
          "data": {
            "text/plain": [
              "torch.Size([1, 15, 768])"
            ]
          },
          "metadata": {},
          "execution_count": 56
        }
      ]
    },
    {
      "cell_type": "code",
      "source": [
        "# pooler output\n",
        "output[1].shape"
      ],
      "metadata": {
        "colab": {
          "base_uri": "https://localhost:8080/"
        },
        "id": "4u5fdlhriZpJ",
        "outputId": "da60ee2b-38b6-4b89-be1e-314361468774"
      },
      "execution_count": 55,
      "outputs": [
        {
          "output_type": "execute_result",
          "data": {
            "text/plain": [
              "torch.Size([1, 768])"
            ]
          },
          "metadata": {},
          "execution_count": 55
        }
      ]
    },
    {
      "cell_type": "markdown",
      "source": [
        "# Summary\n",
        "* We went over the core structure of a BERT model and BERT embeddings.\n",
        "* Let's review the steps again:\n",
        "1. load model from HF\n",
        "2. Tokenizer\n",
        "\t* initiate\n",
        "\t* apply to text\n",
        "3. Tokens\n",
        "\t* view the tokens\n",
        "\t* add [CLS] classification + [SEP] separator tokens\n",
        "\t* Add [PAD] tokens to standardize model input\n",
        "\n",
        "4. Attention Maske\n",
        "\t* 1 for real tokens\n",
        "\t* 0 for non-real tokens (e.g. PADs)\n",
        "\n",
        "5. Unique token ids\n",
        "\t* This helps with vectorization + embeddings\n",
        "\t* Each token gets a unique ID in the corpus for positional encoding\n",
        "\n",
        "6. Feed tokens + attention_masks to model\n",
        "\n",
        "7. Evaluate output\n",
        "\t* hidden state\n",
        "\t* pooling layer\n"
      ],
      "metadata": {
        "id": "tNccpSFijGTM"
      }
    },
    {
      "cell_type": "code",
      "source": [],
      "metadata": {
        "id": "cl4mkkQaixNw"
      },
      "execution_count": null,
      "outputs": []
    }
  ]
}