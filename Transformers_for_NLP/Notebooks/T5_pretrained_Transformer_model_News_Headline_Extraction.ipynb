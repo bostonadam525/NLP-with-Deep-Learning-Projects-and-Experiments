{
  "nbformat": 4,
  "nbformat_minor": 0,
  "metadata": {
    "colab": {
      "provenance": [],
      "gpuType": "T4"
    },
    "kernelspec": {
      "name": "python3",
      "display_name": "Python 3"
    },
    "language_info": {
      "name": "python"
    },
    "accelerator": "GPU"
  },
  "cells": [
    {
      "cell_type": "markdown",
      "source": [
        "# T5 pretrained transformer model - News Headline Exraction\n",
        "* Notebook by Adam Lang\n",
        "* Date: 10/1/2024\n",
        "\n",
        "# Overview\n",
        "* In this notebook we will use a pre-trained T5 transformer model for Newspaper headline extraction.\n",
        "* T5 is the text-to-text transformer from google via huggingface.\n",
        "\n",
        "# Model and Task we will perform\n",
        "* We will use a T5 model that has been specifically pre-trained for newspaper headline generation to take in text and generate newspaper headlines.\n",
        "* model card: https://huggingface.co/Michau/t5-base-en-generate-headline"
      ],
      "metadata": {
        "id": "IylsPIinsov1"
      }
    },
    {
      "cell_type": "markdown",
      "source": [
        "## Imports"
      ],
      "metadata": {
        "id": "RhBNX2CKs2Gp"
      }
    },
    {
      "cell_type": "code",
      "execution_count": 1,
      "metadata": {
        "colab": {
          "base_uri": "https://localhost:8080/"
        },
        "id": "0D8wS6WEsXU1",
        "outputId": "8cd01940-5bef-481d-8d20-a90a48c33c32"
      },
      "outputs": [
        {
          "output_type": "stream",
          "name": "stderr",
          "text": [
            "[nltk_data] Downloading package wordnet to /root/nltk_data...\n",
            "[nltk_data] Downloading package punkt to /root/nltk_data...\n",
            "[nltk_data]   Unzipping tokenizers/punkt.zip.\n",
            "[nltk_data] Downloading package omw-1.4 to /root/nltk_data...\n"
          ]
        }
      ],
      "source": [
        "##data sci standard imports\n",
        "import pandas as pd\n",
        "import numpy as np\n",
        "\n",
        "## NLP imports\n",
        "import nltk\n",
        "from nltk.tokenize import word_tokenize\n",
        "from nltk.corpus import stopwords\n",
        "nltk.download('wordnet')\n",
        "nltk.download('punkt')\n",
        "nltk.download('omw-1.4')\n",
        "import gensim\n",
        "from gensim.models import Word2Vec\n",
        "\n",
        "## pytorch and ML imports\n",
        "import torch\n",
        "import torch.nn.functional as F\n",
        "import torch.optim as optim\n",
        "from torch.utils.data import DataLoader, TensorDataset, RandomSampler\n",
        "from sklearn.model_selection import train_test_split\n",
        "\n",
        "## huggingface imports - T5 model\n",
        "from transformers import T5ForConditionalGeneration, T5Tokenizer\n",
        "\n",
        "##other imports\n",
        "from collections import Counter\n",
        "from tqdm import tqdm"
      ]
    },
    {
      "cell_type": "code",
      "source": [
        "## PyTorch device\n",
        "device = torch.device(\"cuda\" if torch.cuda.is_available() else \"cpu\")\n",
        "device"
      ],
      "metadata": {
        "colab": {
          "base_uri": "https://localhost:8080/"
        },
        "id": "i3T_36e3t96a",
        "outputId": "36329cbb-4835-4e52-bad2-62c8311a6fca"
      },
      "execution_count": 2,
      "outputs": [
        {
          "output_type": "execute_result",
          "data": {
            "text/plain": [
              "device(type='cuda')"
            ]
          },
          "metadata": {},
          "execution_count": 2
        }
      ]
    },
    {
      "cell_type": "markdown",
      "source": [
        "## Load Dataset"
      ],
      "metadata": {
        "id": "vq4nomJHuxvc"
      }
    },
    {
      "cell_type": "code",
      "source": [
        "## data path\n",
        "data_path = '/content/drive/MyDrive/Colab Notebooks/Deep Learning Notebooks/NLP_deep_learning/BERT_transformers/news_summary.csv'\n",
        "## load csv\n",
        "dataset = pd.read_csv(data_path, encoding='latin-1')\n",
        "dataset.head()"
      ],
      "metadata": {
        "colab": {
          "base_uri": "https://localhost:8080/",
          "height": 206
        },
        "id": "DFeml76nuKuL",
        "outputId": "294d6ac9-feba-43a1-8630-c19a7fd98be1"
      },
      "execution_count": 3,
      "outputs": [
        {
          "output_type": "execute_result",
          "data": {
            "text/plain": [
              "                                           headlines  \\\n",
              "0  upGrad learner switches to career in ML & AI w...   \n",
              "1  Delhi techie wins free food from Swiggy for on...   \n",
              "2  New Zealand end Rohit Sharma-led India's 12-ma...   \n",
              "3  Aegon life iTerm insurance plan helps customer...   \n",
              "4  Have known Hirani for yrs, what if MeToo claim...   \n",
              "\n",
              "                                                text  \n",
              "0  Saurav Kant, an alumnus of upGrad and IIIT-B's...  \n",
              "1  Kunal Shah's credit card bill payment platform...  \n",
              "2  New Zealand defeated India by 8 wickets in the...  \n",
              "3  With Aegon Life iTerm Insurance plan, customer...  \n",
              "4  Speaking about the sexual harassment allegatio...  "
            ],
            "text/html": [
              "\n",
              "  <div id=\"df-759cd7b3-fcb2-4692-812d-067a48a62e22\" class=\"colab-df-container\">\n",
              "    <div>\n",
              "<style scoped>\n",
              "    .dataframe tbody tr th:only-of-type {\n",
              "        vertical-align: middle;\n",
              "    }\n",
              "\n",
              "    .dataframe tbody tr th {\n",
              "        vertical-align: top;\n",
              "    }\n",
              "\n",
              "    .dataframe thead th {\n",
              "        text-align: right;\n",
              "    }\n",
              "</style>\n",
              "<table border=\"1\" class=\"dataframe\">\n",
              "  <thead>\n",
              "    <tr style=\"text-align: right;\">\n",
              "      <th></th>\n",
              "      <th>headlines</th>\n",
              "      <th>text</th>\n",
              "    </tr>\n",
              "  </thead>\n",
              "  <tbody>\n",
              "    <tr>\n",
              "      <th>0</th>\n",
              "      <td>upGrad learner switches to career in ML &amp; AI w...</td>\n",
              "      <td>Saurav Kant, an alumnus of upGrad and IIIT-B's...</td>\n",
              "    </tr>\n",
              "    <tr>\n",
              "      <th>1</th>\n",
              "      <td>Delhi techie wins free food from Swiggy for on...</td>\n",
              "      <td>Kunal Shah's credit card bill payment platform...</td>\n",
              "    </tr>\n",
              "    <tr>\n",
              "      <th>2</th>\n",
              "      <td>New Zealand end Rohit Sharma-led India's 12-ma...</td>\n",
              "      <td>New Zealand defeated India by 8 wickets in the...</td>\n",
              "    </tr>\n",
              "    <tr>\n",
              "      <th>3</th>\n",
              "      <td>Aegon life iTerm insurance plan helps customer...</td>\n",
              "      <td>With Aegon Life iTerm Insurance plan, customer...</td>\n",
              "    </tr>\n",
              "    <tr>\n",
              "      <th>4</th>\n",
              "      <td>Have known Hirani for yrs, what if MeToo claim...</td>\n",
              "      <td>Speaking about the sexual harassment allegatio...</td>\n",
              "    </tr>\n",
              "  </tbody>\n",
              "</table>\n",
              "</div>\n",
              "    <div class=\"colab-df-buttons\">\n",
              "\n",
              "  <div class=\"colab-df-container\">\n",
              "    <button class=\"colab-df-convert\" onclick=\"convertToInteractive('df-759cd7b3-fcb2-4692-812d-067a48a62e22')\"\n",
              "            title=\"Convert this dataframe to an interactive table.\"\n",
              "            style=\"display:none;\">\n",
              "\n",
              "  <svg xmlns=\"http://www.w3.org/2000/svg\" height=\"24px\" viewBox=\"0 -960 960 960\">\n",
              "    <path d=\"M120-120v-720h720v720H120Zm60-500h600v-160H180v160Zm220 220h160v-160H400v160Zm0 220h160v-160H400v160ZM180-400h160v-160H180v160Zm440 0h160v-160H620v160ZM180-180h160v-160H180v160Zm440 0h160v-160H620v160Z\"/>\n",
              "  </svg>\n",
              "    </button>\n",
              "\n",
              "  <style>\n",
              "    .colab-df-container {\n",
              "      display:flex;\n",
              "      gap: 12px;\n",
              "    }\n",
              "\n",
              "    .colab-df-convert {\n",
              "      background-color: #E8F0FE;\n",
              "      border: none;\n",
              "      border-radius: 50%;\n",
              "      cursor: pointer;\n",
              "      display: none;\n",
              "      fill: #1967D2;\n",
              "      height: 32px;\n",
              "      padding: 0 0 0 0;\n",
              "      width: 32px;\n",
              "    }\n",
              "\n",
              "    .colab-df-convert:hover {\n",
              "      background-color: #E2EBFA;\n",
              "      box-shadow: 0px 1px 2px rgba(60, 64, 67, 0.3), 0px 1px 3px 1px rgba(60, 64, 67, 0.15);\n",
              "      fill: #174EA6;\n",
              "    }\n",
              "\n",
              "    .colab-df-buttons div {\n",
              "      margin-bottom: 4px;\n",
              "    }\n",
              "\n",
              "    [theme=dark] .colab-df-convert {\n",
              "      background-color: #3B4455;\n",
              "      fill: #D2E3FC;\n",
              "    }\n",
              "\n",
              "    [theme=dark] .colab-df-convert:hover {\n",
              "      background-color: #434B5C;\n",
              "      box-shadow: 0px 1px 3px 1px rgba(0, 0, 0, 0.15);\n",
              "      filter: drop-shadow(0px 1px 2px rgba(0, 0, 0, 0.3));\n",
              "      fill: #FFFFFF;\n",
              "    }\n",
              "  </style>\n",
              "\n",
              "    <script>\n",
              "      const buttonEl =\n",
              "        document.querySelector('#df-759cd7b3-fcb2-4692-812d-067a48a62e22 button.colab-df-convert');\n",
              "      buttonEl.style.display =\n",
              "        google.colab.kernel.accessAllowed ? 'block' : 'none';\n",
              "\n",
              "      async function convertToInteractive(key) {\n",
              "        const element = document.querySelector('#df-759cd7b3-fcb2-4692-812d-067a48a62e22');\n",
              "        const dataTable =\n",
              "          await google.colab.kernel.invokeFunction('convertToInteractive',\n",
              "                                                    [key], {});\n",
              "        if (!dataTable) return;\n",
              "\n",
              "        const docLinkHtml = 'Like what you see? Visit the ' +\n",
              "          '<a target=\"_blank\" href=https://colab.research.google.com/notebooks/data_table.ipynb>data table notebook</a>'\n",
              "          + ' to learn more about interactive tables.';\n",
              "        element.innerHTML = '';\n",
              "        dataTable['output_type'] = 'display_data';\n",
              "        await google.colab.output.renderOutput(dataTable, element);\n",
              "        const docLink = document.createElement('div');\n",
              "        docLink.innerHTML = docLinkHtml;\n",
              "        element.appendChild(docLink);\n",
              "      }\n",
              "    </script>\n",
              "  </div>\n",
              "\n",
              "\n",
              "<div id=\"df-847d47d9-53c5-42e7-bac9-6f258b0e26cf\">\n",
              "  <button class=\"colab-df-quickchart\" onclick=\"quickchart('df-847d47d9-53c5-42e7-bac9-6f258b0e26cf')\"\n",
              "            title=\"Suggest charts\"\n",
              "            style=\"display:none;\">\n",
              "\n",
              "<svg xmlns=\"http://www.w3.org/2000/svg\" height=\"24px\"viewBox=\"0 0 24 24\"\n",
              "     width=\"24px\">\n",
              "    <g>\n",
              "        <path d=\"M19 3H5c-1.1 0-2 .9-2 2v14c0 1.1.9 2 2 2h14c1.1 0 2-.9 2-2V5c0-1.1-.9-2-2-2zM9 17H7v-7h2v7zm4 0h-2V7h2v10zm4 0h-2v-4h2v4z\"/>\n",
              "    </g>\n",
              "</svg>\n",
              "  </button>\n",
              "\n",
              "<style>\n",
              "  .colab-df-quickchart {\n",
              "      --bg-color: #E8F0FE;\n",
              "      --fill-color: #1967D2;\n",
              "      --hover-bg-color: #E2EBFA;\n",
              "      --hover-fill-color: #174EA6;\n",
              "      --disabled-fill-color: #AAA;\n",
              "      --disabled-bg-color: #DDD;\n",
              "  }\n",
              "\n",
              "  [theme=dark] .colab-df-quickchart {\n",
              "      --bg-color: #3B4455;\n",
              "      --fill-color: #D2E3FC;\n",
              "      --hover-bg-color: #434B5C;\n",
              "      --hover-fill-color: #FFFFFF;\n",
              "      --disabled-bg-color: #3B4455;\n",
              "      --disabled-fill-color: #666;\n",
              "  }\n",
              "\n",
              "  .colab-df-quickchart {\n",
              "    background-color: var(--bg-color);\n",
              "    border: none;\n",
              "    border-radius: 50%;\n",
              "    cursor: pointer;\n",
              "    display: none;\n",
              "    fill: var(--fill-color);\n",
              "    height: 32px;\n",
              "    padding: 0;\n",
              "    width: 32px;\n",
              "  }\n",
              "\n",
              "  .colab-df-quickchart:hover {\n",
              "    background-color: var(--hover-bg-color);\n",
              "    box-shadow: 0 1px 2px rgba(60, 64, 67, 0.3), 0 1px 3px 1px rgba(60, 64, 67, 0.15);\n",
              "    fill: var(--button-hover-fill-color);\n",
              "  }\n",
              "\n",
              "  .colab-df-quickchart-complete:disabled,\n",
              "  .colab-df-quickchart-complete:disabled:hover {\n",
              "    background-color: var(--disabled-bg-color);\n",
              "    fill: var(--disabled-fill-color);\n",
              "    box-shadow: none;\n",
              "  }\n",
              "\n",
              "  .colab-df-spinner {\n",
              "    border: 2px solid var(--fill-color);\n",
              "    border-color: transparent;\n",
              "    border-bottom-color: var(--fill-color);\n",
              "    animation:\n",
              "      spin 1s steps(1) infinite;\n",
              "  }\n",
              "\n",
              "  @keyframes spin {\n",
              "    0% {\n",
              "      border-color: transparent;\n",
              "      border-bottom-color: var(--fill-color);\n",
              "      border-left-color: var(--fill-color);\n",
              "    }\n",
              "    20% {\n",
              "      border-color: transparent;\n",
              "      border-left-color: var(--fill-color);\n",
              "      border-top-color: var(--fill-color);\n",
              "    }\n",
              "    30% {\n",
              "      border-color: transparent;\n",
              "      border-left-color: var(--fill-color);\n",
              "      border-top-color: var(--fill-color);\n",
              "      border-right-color: var(--fill-color);\n",
              "    }\n",
              "    40% {\n",
              "      border-color: transparent;\n",
              "      border-right-color: var(--fill-color);\n",
              "      border-top-color: var(--fill-color);\n",
              "    }\n",
              "    60% {\n",
              "      border-color: transparent;\n",
              "      border-right-color: var(--fill-color);\n",
              "    }\n",
              "    80% {\n",
              "      border-color: transparent;\n",
              "      border-right-color: var(--fill-color);\n",
              "      border-bottom-color: var(--fill-color);\n",
              "    }\n",
              "    90% {\n",
              "      border-color: transparent;\n",
              "      border-bottom-color: var(--fill-color);\n",
              "    }\n",
              "  }\n",
              "</style>\n",
              "\n",
              "  <script>\n",
              "    async function quickchart(key) {\n",
              "      const quickchartButtonEl =\n",
              "        document.querySelector('#' + key + ' button');\n",
              "      quickchartButtonEl.disabled = true;  // To prevent multiple clicks.\n",
              "      quickchartButtonEl.classList.add('colab-df-spinner');\n",
              "      try {\n",
              "        const charts = await google.colab.kernel.invokeFunction(\n",
              "            'suggestCharts', [key], {});\n",
              "      } catch (error) {\n",
              "        console.error('Error during call to suggestCharts:', error);\n",
              "      }\n",
              "      quickchartButtonEl.classList.remove('colab-df-spinner');\n",
              "      quickchartButtonEl.classList.add('colab-df-quickchart-complete');\n",
              "    }\n",
              "    (() => {\n",
              "      let quickchartButtonEl =\n",
              "        document.querySelector('#df-847d47d9-53c5-42e7-bac9-6f258b0e26cf button');\n",
              "      quickchartButtonEl.style.display =\n",
              "        google.colab.kernel.accessAllowed ? 'block' : 'none';\n",
              "    })();\n",
              "  </script>\n",
              "</div>\n",
              "\n",
              "    </div>\n",
              "  </div>\n"
            ],
            "application/vnd.google.colaboratory.intrinsic+json": {
              "type": "dataframe",
              "variable_name": "dataset",
              "summary": "{\n  \"name\": \"dataset\",\n  \"rows\": 98401,\n  \"fields\": [\n    {\n      \"column\": \"headlines\",\n      \"properties\": {\n        \"dtype\": \"string\",\n        \"num_unique_values\": 98280,\n        \"samples\": [\n          \"Salman Khan asked to appear before court in Arms Act case\",\n          \"Man who beat Federer at Wimbledon once lost to AB de Villiers\",\n          \"Alwar lynching victim died of 'shock': Post-mortem report\"\n        ],\n        \"semantic_type\": \"\",\n        \"description\": \"\"\n      }\n    },\n    {\n      \"column\": \"text\",\n      \"properties\": {\n        \"dtype\": \"string\",\n        \"num_unique_values\": 98360,\n        \"samples\": [\n          \"Digital payments startup Paytm has raised $1.4 billion from SoftBank in India's largest funding round. This is also SoftBank's biggest investment in the Indian startup ecosystem till date. The latest investment by SoftBank will value Paytm at around $8 billion, up from its valuation of $4.8 billion in August 2016. \",\n          \"Oil companies on Thursday reduced the petrol price by \\u00c3\\u00a2\\u00c2\\u0082\\u00c2\\u00b91.12/litre and diesel by \\u00c3\\u00a2\\u00c2\\u0082\\u00c2\\u00b91.24/litre effective June 16. This is the first cut in prices following the decision to revise fuel prices daily and the revision shall be applicable from 6 AM to 6 AM the next day. Customers can know the revised prices through social media posts and 'Fuel@IOC' app.\",\n          \"The Indian Army has announced plans to deploy women officers for cyber warfare as they face cybersecurity threats from both state and non-state actors. In order to increase the number of female officers and provide them more opportunities, the Army is also planning to hire 850 of women in the military police branch and some in the language training branch.\"\n        ],\n        \"semantic_type\": \"\",\n        \"description\": \"\"\n      }\n    }\n  ]\n}"
            }
          },
          "metadata": {},
          "execution_count": 3
        }
      ]
    },
    {
      "cell_type": "markdown",
      "source": [
        "## Train, Test, and Validation Datasets"
      ],
      "metadata": {
        "id": "MEjf-MEXvA9F"
      }
    },
    {
      "cell_type": "code",
      "source": [
        "## train_dataset\n",
        "train_dataset, test_dataset = train_test_split(dataset, shuffle=True, test_size=0.2, random_state=42)\n",
        "train_dataset, val_dataset = train_test_split(train_dataset, shuffle=True, test_size=0.1, random_state=42)\n",
        "\n",
        "\n",
        "## print size of datasets\n",
        "print(f\"Train set size {len(train_dataset)}\")\n",
        "print(f\"Validation set size: {len(val_dataset)}\")\n",
        "print(f\"Test set size: {len(test_dataset)}\")"
      ],
      "metadata": {
        "colab": {
          "base_uri": "https://localhost:8080/"
        },
        "id": "9egdxmgmu71s",
        "outputId": "bb387fb3-ddd5-4adf-b8b5-742669828668"
      },
      "execution_count": 4,
      "outputs": [
        {
          "output_type": "stream",
          "name": "stdout",
          "text": [
            "Train set size 70848\n",
            "Validation set size: 7872\n",
            "Test set size: 19681\n"
          ]
        }
      ]
    },
    {
      "cell_type": "markdown",
      "source": [
        "## Load T5 model from Huggingface\n",
        "* As mentioned above, this model was pretrained on 500k news articles to generate news headlines."
      ],
      "metadata": {
        "id": "anwR4sJmv-rZ"
      }
    },
    {
      "cell_type": "code",
      "source": [
        "## load model\n",
        "model = T5ForConditionalGeneration.from_pretrained('Michau/t5-base-en-generate-headline')\n",
        "\n",
        "## load tokenizer\n",
        "tokenizer = T5Tokenizer.from_pretrained('Michau/t5-base-en-generate-headline',clean_up_tokenization_spaces=True,\n",
        "                                        legacy=False)\n",
        "\n",
        "## instantiate model + send to device\n",
        "model = model.to(device)"
      ],
      "metadata": {
        "id": "0i3uvqdPvgNP"
      },
      "execution_count": 6,
      "outputs": []
    },
    {
      "cell_type": "markdown",
      "source": [
        "## Function to Generate Headlines\n",
        "* We will incorporate the model into our function."
      ],
      "metadata": {
        "id": "I6zCng5IwlVK"
      }
    },
    {
      "cell_type": "code",
      "source": [
        "## function to generate headlines\n",
        "def gen_headlines(text):\n",
        "  ## encode text\n",
        "  encoding = tokenizer.encode_plus(\"headline: \" + text, max_length=1024, return_tensors='pt',\n",
        "                                   truncation=True)\n",
        "  ## input ids\n",
        "  input_ids = encoding['input_ids'].to(device) ## to device\n",
        "  ## attention masks\n",
        "  attention_masks = encoding['attention_mask'].to(device) ## to device\n",
        "  ## outputs\n",
        "  outputs = model.generate(input_ids = input_ids, attention_mask = attention_masks,\n",
        "                           max_length=100, min_length=50,length_penalty=2.0,\n",
        "                           num_beams=3,\n",
        "                           early_stopping=True)\n",
        "\n",
        "  return tokenizer.decode(outputs[0], skip_special_tokens=True)"
      ],
      "metadata": {
        "id": "tnLY2xItwRdz"
      },
      "execution_count": 27,
      "outputs": []
    },
    {
      "cell_type": "markdown",
      "source": [
        "## Evaluation Function\n",
        "* A function to randomly eval test set.\n",
        "* We will us the METEOR SCORE from nltk to evaluate the text generated."
      ],
      "metadata": {
        "id": "VHcmdlKnxfjy"
      }
    },
    {
      "cell_type": "code",
      "source": [
        "## eval function\n",
        "def eval_random_test(n=10):\n",
        "  \"\"\"Function randomly takes in 10 inputs to generate news headlines and evaluates output with METEOR SCORE.\"\"\"\n",
        "  for i in range(n):\n",
        "    print(i)\n",
        "    ## sample to evaluate\n",
        "    eval_sample = test_dataset.iloc[i:i+1, :]\n",
        "    print('news_article > ', eval_sample['text'].iloc[0])\n",
        "    ## headline\n",
        "    headline = eval_sample['headlines'].iloc[0]\n",
        "    print('original_headline = ', headline)\n",
        "    ## output sentence - use gen_headlines function\n",
        "    output_sentence = gen_headlines(eval_sample['text'].iloc[0])\n",
        "    print('predicted_headline < ', output_sentence)\n",
        "    ## compute meteor score on text generated\n",
        "    print(f\"meteor score: {nltk.translate.meteor_score.single_meteor_score(headline.split(), output_sentence.split())}\")\n"
      ],
      "metadata": {
        "id": "v7ovW1H3xebm"
      },
      "execution_count": 28,
      "outputs": []
    },
    {
      "cell_type": "code",
      "source": [
        "## test results\n",
        "eval_random_test(n=10)"
      ],
      "metadata": {
        "colab": {
          "base_uri": "https://localhost:8080/"
        },
        "id": "pOkk4bkMzA5r",
        "outputId": "74d4e653-969e-4bd0-9686-387ef12a8681"
      },
      "execution_count": 29,
      "outputs": [
        {
          "output_type": "stream",
          "name": "stdout",
          "text": [
            "0\n",
            "news_article >  Students in Karnataka will get extra marks if their parents cast votes in the upcoming assembly elections, the Associated Management of Primary and Secondary Schools has announced. The \"Encouraging Marks\" will be added in the 2018-19 academic year. The association said, \"After casting their votes, parents can visit member schools...and confirm that they voted by showing the indelible ink mark.\"\n",
            "original_headline =  K'taka students to get extra marks if parents vote in polls\n",
            "predicted_headline <  \"Encouraging Marks\" to be added in 2018-19 Academic Year - Associated Management of Primary and Secondary Schools, Karnataka, Says Associated Management of Primary and Secondary Schools (AMSS) & AMS.\n",
            "meteor score: 0.078125\n",
            "1\n",
            "news_article >  Syrian anti-aircraft defences on Monday shot down missiles over two air bases, Syria's state media said. The missiles targeted Shayrat air base in the Homs province and another base northeast of the capital Damascus. This comes days after the US, UK and France launched air strikes on Syrian chemical weapons facilities in retaliation for the alleged chemical attack in Douma.\n",
            "original_headline =  Syria shoots down missiles fired at two air bases\n",
            "predicted_headline <  Syria's Anti-Aircraft Defences Shoot Down Missiles Over Two Air Bases, Syria's State Media Says - Syria's Defense Ministry Says - Syria's Anti-Aircraft Defences Shoot Down Missiles Over Two Air Bases\n",
            "meteor score: 0.5305305305305306\n",
            "2\n",
            "news_article >  A Dinosaur-like creature's fossil was found during an excavation on Sunday in Uttarakhand's Jaspur, a small city 110 km from Nainital. The fossil's hind legs measure around 29 cm while the tail is around 5 cm long. Found at an abandoned electricity department land, the authorities would be sending the remains to Dehradun-based Wildlife Institute of India for further investigation.\n",
            "original_headline =  Dinosaur-like animal's fossil found in Uttarakhand\n",
            "predicted_headline <  Dinosaur-like Fossil Found in Jaspur, Uttarakhand - A Dinosaur-like Creature's Fossil Found in Uttarakhand's Jaspur\n",
            "meteor score: 0.646376811594203\n",
            "3\n",
            "news_article >  The Uttar Pradesh government is planning to form a 'UP Muslim Waqf Board' by merging the separate Shia and Sunni Waqf boards to prevent wastage of funds, Minister of State for Waqf Mohsin Raza said. The merged Waqf board will have members from both the communities and its Chairman will be selected from among them, he added. \n",
            "original_headline =  UP may merge Shia, Sunni Waqf boards to prevent fund wastage\n",
            "predicted_headline <  UP Muslim Waqf Board - UP Muslim Waqf Board - UP Muslim Waqf Board - UP Muslim Waqf Board - UP Muslim Waqf Board - UP Muslim Waqf Board\n",
            "meteor score: 0.19965277777777776\n",
            "4\n",
            "news_article >  Egyptian activist-actress Amal Fathy has been given a sentence of two years on charges of \"spreading false news\" for uploading a video on Facebook, wherein she alleged that she faced sexual harassment at a bank. Fathy was charged with \"disseminating a video on social media to publicly incite overthrowing the government\". She has already spent over 140 days in prison.\n",
            "original_headline =  Egypt actress gets 2 yrs jail for 'fake news' on sexual harassment\n",
            "predicted_headline <  Amal Fathy Gets Two Years For Spreading \"False News\" on Facebook - The Egyptian Activist-Actress Says She Faced Sexual Harassment at a Bank. Fathy Has Already Spended 140 Days In Prison\n",
            "meteor score: 0.45661430039641754\n",
            "5\n",
            "news_article >  World's richest person and Amazon CEO Jeff Bezos added $32.6 billion to his wealth in 2017, which is higher than the GDP of 93 countries according to figures from IMF. It is also more than the combined GDP for one year of 28 countries. Bezos' net worth is currently $106 billion after Amazon shares surged by over 6% this year.\n",
            "original_headline =  Jeff Bezos added more wealth in 2017 than GDP of 93 nations\n",
            "predicted_headline <  Amazon CEO Jeff Bezos Adds $32.6 Billion to his Net Worth in 2017 - World's Wealthiest Person and Amazon CEO Jeff Bezos' Net Worth is currently $106 Billion - Amazon CEO Jeff Bezos' Net Worth is currently $106B\n",
            "meteor score: 0.21618150684931506\n",
            "6\n",
            "news_article >  Bangladesh cricket team's limited overs captain Mashrafe Mortaza on Tuesday announced that he will retire from T20 international cricket after the end of the series against Sri Lanka. The 33-year-old pace bowler has featured in 52 T20I matches for his nation so far, picking up 39 wickets and registering 368 runs at an average of 13.62.\n",
            "original_headline =  Bangladeshi captain Mortaza announces retirement from T20Is\n",
            "predicted_headline <  Bangladesh Cricket Team's Limited Overs Captain Mashrafe Mortaza Announces He Will Retire From T20 International Cricket After the End of the series Against Sri Lanka - Bangladesh Cricket Team's Limited Overs Captain\n",
            "meteor score: 0.4694736842105264\n",
            "7\n",
            "news_article >  Mexican drug lord Joaquin 'El Chapo' Guzman has claimed that his extradition to US from Mexico violated the terms of a US-Mexico treaty. According to the terms, Guzman had to be transferred to either California or Texas, however, on the day of his extradition, Mexico waived the terms and consented instead to send him to New York, Guzman's lawyers said.\n",
            "original_headline =  Mexican drug lord El Chapo questions US extradition legality\n",
            "predicted_headline <  Mexican Drug lord's Extradition to US Violates US-Mexico Treaty - Guzman's Lawyers Say he Was 'El Chapo' Guzman's Friend in the US\n",
            "meteor score: 0.30643203883495146\n",
            "8\n",
            "news_article >  Independent United Nations (UN) monitors have accused North Korea of supplying ballistic missile systems along with conventional weapons including rocket launchers and surface-to-air missiles to Myanmar. In a report to the UN Security Council's sanctions committee, the monitors also accused North Korea of supplying weapons to Syria and violating UN sanctions by exporting banned commodities. \n",
            "original_headline =  N Korea supplies ballistic missiles to Myanmar: UN monitors \n",
            "predicted_headline <  North Korea supplying Ballistic Missile Systems - UN Monitors Accuse North Korea of Exporting Banned Commodities to Syria and Syria - UN Security Council Report - UN Monitors Accuse North Korea Of Supplying Ballistic Missile Systems\n",
            "meteor score: 0.5424733996162568\n",
            "9\n",
            "news_article >  After reports of three Amrapali Group companies going into insolvency surfaced, several home buyers slammed cricketer Harbhajan Singh, who was once the brand ambassador of the company. A user claimed that Harbhajan and MS Dhoni had received free flats from the company while he lost his money. Harbhajan responded saying even he was made a fool by the company.\n",
            "original_headline =  Thenga mila hamme: Harbhajan responds to home buyers\n",
            "predicted_headline <  Home Buyers Slam Cricketer Harbhajan Singh - The Brand Ambassador of Amrapali Group & Cricketer Harbhajan Singh - The Brand Ambassador of Amrapali Group & Cricketer Harbhajan Singh & MS Dhoni\n",
            "meteor score: 0.24811218985976266\n"
          ]
        }
      ]
    },
    {
      "cell_type": "markdown",
      "source": [
        "# Summary\n",
        "* METEOR scores range from 0 to 1 with those closer to 1 indicating better quality of text translation or generation.\n",
        "* We can see there are a few headlines here with METEOR scores of 0.5 or 0.6 so not bad for out of the box run using this pre-trained model.\n",
        "  * Playing around with some of the hyperparams of the model components does help improve the outputs a bit (e.g. num_beams, max_length, min_length), but this may vary depending upon the dataset."
      ],
      "metadata": {
        "id": "oP3QHf0Vzwd2"
      }
    },
    {
      "cell_type": "code",
      "source": [],
      "metadata": {
        "id": "qByHxaRPzFyc"
      },
      "execution_count": null,
      "outputs": []
    }
  ]
}