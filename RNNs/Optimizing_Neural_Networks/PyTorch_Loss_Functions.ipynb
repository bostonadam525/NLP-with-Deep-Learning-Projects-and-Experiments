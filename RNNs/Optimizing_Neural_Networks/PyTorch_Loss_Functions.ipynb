{
  "nbformat": 4,
  "nbformat_minor": 0,
  "metadata": {
    "colab": {
      "provenance": []
    },
    "kernelspec": {
      "name": "python3",
      "display_name": "Python 3"
    },
    "language_info": {
      "name": "python"
    }
  },
  "cells": [
    {
      "cell_type": "markdown",
      "source": [
        "# PyTorch Loss Functions\n",
        "* Notebook by Adam Lang\n",
        "* Date: 9/30/2024\n",
        "\n",
        "# Loss Functions\n",
        "* Measures the error in a networks predictions.\n",
        "* Loss function --> Cost Function -->\n",
        "      * network preds vs. actual target values\n",
        "      * Loss functions are a \"feedback mechanism\"\n",
        "* Loss Functions categorized:\n",
        "1. **Classification**\n",
        "  * Binary Cross-Entropy or Log Loss\n",
        "    * measures accuracy of binary classification preds vs. true outcome\n",
        "    * Goal: minimize loss func during training\n",
        "    * Rules of thumb:\n",
        "       * Low log loss --> better model\n",
        "       * High log loss --> poor model\n",
        "  * Multi-classification problems\n",
        "    * Variation of BCE is **Category Cross Entropy Loss**\n",
        "    * As example: Predicting 5 categorical classes --> loss function\n",
        "2. **Regression**\n",
        "  * Mean squared error (MSE) - average squared diff between preds vs actual\n",
        "     * MSE is not always accurate, especially if there are significant outliers.\n",
        "  * Mean Absolute Error (MAE) - averages absolute differences between pred vs. actual values\n",
        "     * MAE is often preferred where exact predictions are warranted (e.g. predicting delivery times, we don't want outliers!)\n",
        "\n",
        "## Simple Linear Regression example to predict first year college grades of students from high school SAT and GPA scores\n",
        "* A university is seeking to enhance its enrollment process.\n",
        "* They would like to do this by implementing predictive analytics modeling aimed at identifying prospective stuents who demo high potential for academic success.\n",
        "* The goal here is to develop a predictive model that can accurately forecast first year college GPA of applications based on SAT scores and high school grades.\n",
        "* Ultimately this can be considered an optimization problem as the university aims to optimize its selection process, improve academic outcomes and foster an environment of high academic achievement."
      ],
      "metadata": {
        "id": "jgWY08I1l8i9"
      }
    },
    {
      "cell_type": "markdown",
      "source": [
        "## TL;DR\n",
        "* This is a predictive analytics problem.\n",
        "* We are trying to predict a target which is gpa.\n",
        "* This could also be considered an optimization problem --> what GPA is considered most ideal to optimize the student selection process?"
      ],
      "metadata": {
        "id": "PLQgOdV0pvwO"
      }
    },
    {
      "cell_type": "code",
      "execution_count": 1,
      "metadata": {
        "id": "S4QZlD9Kl00i"
      },
      "outputs": [],
      "source": [
        "## load data\n",
        "import pandas as pd\n",
        "import numpy as np"
      ]
    },
    {
      "cell_type": "code",
      "source": [
        "## data path\n",
        "data_path = '/content/drive/MyDrive/Colab Notebooks/Deep Learning Notebooks/Prodigy University Dataset.csv'\n",
        "## load data\n",
        "data = pd.read_csv(data_path)\n",
        "data.head()"
      ],
      "metadata": {
        "colab": {
          "base_uri": "https://localhost:8080/",
          "height": 206
        },
        "id": "NruBKQLAo0HF",
        "outputId": "90a42c43-1937-4c47-e979-0f5d61bfc3a5"
      },
      "execution_count": 2,
      "outputs": [
        {
          "output_type": "execute_result",
          "data": {
            "text/plain": [
              "   sat_sum  hs_gpa  fy_gpa\n",
              "0      508    3.40    3.18\n",
              "1      488    4.00    3.33\n",
              "2      464    3.75    3.25\n",
              "3      380    3.75    2.42\n",
              "4      428    4.00    2.63"
            ],
            "text/html": [
              "\n",
              "  <div id=\"df-c1cbf123-9a9a-40b9-8627-ec80833b9492\" class=\"colab-df-container\">\n",
              "    <div>\n",
              "<style scoped>\n",
              "    .dataframe tbody tr th:only-of-type {\n",
              "        vertical-align: middle;\n",
              "    }\n",
              "\n",
              "    .dataframe tbody tr th {\n",
              "        vertical-align: top;\n",
              "    }\n",
              "\n",
              "    .dataframe thead th {\n",
              "        text-align: right;\n",
              "    }\n",
              "</style>\n",
              "<table border=\"1\" class=\"dataframe\">\n",
              "  <thead>\n",
              "    <tr style=\"text-align: right;\">\n",
              "      <th></th>\n",
              "      <th>sat_sum</th>\n",
              "      <th>hs_gpa</th>\n",
              "      <th>fy_gpa</th>\n",
              "    </tr>\n",
              "  </thead>\n",
              "  <tbody>\n",
              "    <tr>\n",
              "      <th>0</th>\n",
              "      <td>508</td>\n",
              "      <td>3.40</td>\n",
              "      <td>3.18</td>\n",
              "    </tr>\n",
              "    <tr>\n",
              "      <th>1</th>\n",
              "      <td>488</td>\n",
              "      <td>4.00</td>\n",
              "      <td>3.33</td>\n",
              "    </tr>\n",
              "    <tr>\n",
              "      <th>2</th>\n",
              "      <td>464</td>\n",
              "      <td>3.75</td>\n",
              "      <td>3.25</td>\n",
              "    </tr>\n",
              "    <tr>\n",
              "      <th>3</th>\n",
              "      <td>380</td>\n",
              "      <td>3.75</td>\n",
              "      <td>2.42</td>\n",
              "    </tr>\n",
              "    <tr>\n",
              "      <th>4</th>\n",
              "      <td>428</td>\n",
              "      <td>4.00</td>\n",
              "      <td>2.63</td>\n",
              "    </tr>\n",
              "  </tbody>\n",
              "</table>\n",
              "</div>\n",
              "    <div class=\"colab-df-buttons\">\n",
              "\n",
              "  <div class=\"colab-df-container\">\n",
              "    <button class=\"colab-df-convert\" onclick=\"convertToInteractive('df-c1cbf123-9a9a-40b9-8627-ec80833b9492')\"\n",
              "            title=\"Convert this dataframe to an interactive table.\"\n",
              "            style=\"display:none;\">\n",
              "\n",
              "  <svg xmlns=\"http://www.w3.org/2000/svg\" height=\"24px\" viewBox=\"0 -960 960 960\">\n",
              "    <path d=\"M120-120v-720h720v720H120Zm60-500h600v-160H180v160Zm220 220h160v-160H400v160Zm0 220h160v-160H400v160ZM180-400h160v-160H180v160Zm440 0h160v-160H620v160ZM180-180h160v-160H180v160Zm440 0h160v-160H620v160Z\"/>\n",
              "  </svg>\n",
              "    </button>\n",
              "\n",
              "  <style>\n",
              "    .colab-df-container {\n",
              "      display:flex;\n",
              "      gap: 12px;\n",
              "    }\n",
              "\n",
              "    .colab-df-convert {\n",
              "      background-color: #E8F0FE;\n",
              "      border: none;\n",
              "      border-radius: 50%;\n",
              "      cursor: pointer;\n",
              "      display: none;\n",
              "      fill: #1967D2;\n",
              "      height: 32px;\n",
              "      padding: 0 0 0 0;\n",
              "      width: 32px;\n",
              "    }\n",
              "\n",
              "    .colab-df-convert:hover {\n",
              "      background-color: #E2EBFA;\n",
              "      box-shadow: 0px 1px 2px rgba(60, 64, 67, 0.3), 0px 1px 3px 1px rgba(60, 64, 67, 0.15);\n",
              "      fill: #174EA6;\n",
              "    }\n",
              "\n",
              "    .colab-df-buttons div {\n",
              "      margin-bottom: 4px;\n",
              "    }\n",
              "\n",
              "    [theme=dark] .colab-df-convert {\n",
              "      background-color: #3B4455;\n",
              "      fill: #D2E3FC;\n",
              "    }\n",
              "\n",
              "    [theme=dark] .colab-df-convert:hover {\n",
              "      background-color: #434B5C;\n",
              "      box-shadow: 0px 1px 3px 1px rgba(0, 0, 0, 0.15);\n",
              "      filter: drop-shadow(0px 1px 2px rgba(0, 0, 0, 0.3));\n",
              "      fill: #FFFFFF;\n",
              "    }\n",
              "  </style>\n",
              "\n",
              "    <script>\n",
              "      const buttonEl =\n",
              "        document.querySelector('#df-c1cbf123-9a9a-40b9-8627-ec80833b9492 button.colab-df-convert');\n",
              "      buttonEl.style.display =\n",
              "        google.colab.kernel.accessAllowed ? 'block' : 'none';\n",
              "\n",
              "      async function convertToInteractive(key) {\n",
              "        const element = document.querySelector('#df-c1cbf123-9a9a-40b9-8627-ec80833b9492');\n",
              "        const dataTable =\n",
              "          await google.colab.kernel.invokeFunction('convertToInteractive',\n",
              "                                                    [key], {});\n",
              "        if (!dataTable) return;\n",
              "\n",
              "        const docLinkHtml = 'Like what you see? Visit the ' +\n",
              "          '<a target=\"_blank\" href=https://colab.research.google.com/notebooks/data_table.ipynb>data table notebook</a>'\n",
              "          + ' to learn more about interactive tables.';\n",
              "        element.innerHTML = '';\n",
              "        dataTable['output_type'] = 'display_data';\n",
              "        await google.colab.output.renderOutput(dataTable, element);\n",
              "        const docLink = document.createElement('div');\n",
              "        docLink.innerHTML = docLinkHtml;\n",
              "        element.appendChild(docLink);\n",
              "      }\n",
              "    </script>\n",
              "  </div>\n",
              "\n",
              "\n",
              "<div id=\"df-0853c71c-6ffb-4fb2-a69d-07ef5f27b8ef\">\n",
              "  <button class=\"colab-df-quickchart\" onclick=\"quickchart('df-0853c71c-6ffb-4fb2-a69d-07ef5f27b8ef')\"\n",
              "            title=\"Suggest charts\"\n",
              "            style=\"display:none;\">\n",
              "\n",
              "<svg xmlns=\"http://www.w3.org/2000/svg\" height=\"24px\"viewBox=\"0 0 24 24\"\n",
              "     width=\"24px\">\n",
              "    <g>\n",
              "        <path d=\"M19 3H5c-1.1 0-2 .9-2 2v14c0 1.1.9 2 2 2h14c1.1 0 2-.9 2-2V5c0-1.1-.9-2-2-2zM9 17H7v-7h2v7zm4 0h-2V7h2v10zm4 0h-2v-4h2v4z\"/>\n",
              "    </g>\n",
              "</svg>\n",
              "  </button>\n",
              "\n",
              "<style>\n",
              "  .colab-df-quickchart {\n",
              "      --bg-color: #E8F0FE;\n",
              "      --fill-color: #1967D2;\n",
              "      --hover-bg-color: #E2EBFA;\n",
              "      --hover-fill-color: #174EA6;\n",
              "      --disabled-fill-color: #AAA;\n",
              "      --disabled-bg-color: #DDD;\n",
              "  }\n",
              "\n",
              "  [theme=dark] .colab-df-quickchart {\n",
              "      --bg-color: #3B4455;\n",
              "      --fill-color: #D2E3FC;\n",
              "      --hover-bg-color: #434B5C;\n",
              "      --hover-fill-color: #FFFFFF;\n",
              "      --disabled-bg-color: #3B4455;\n",
              "      --disabled-fill-color: #666;\n",
              "  }\n",
              "\n",
              "  .colab-df-quickchart {\n",
              "    background-color: var(--bg-color);\n",
              "    border: none;\n",
              "    border-radius: 50%;\n",
              "    cursor: pointer;\n",
              "    display: none;\n",
              "    fill: var(--fill-color);\n",
              "    height: 32px;\n",
              "    padding: 0;\n",
              "    width: 32px;\n",
              "  }\n",
              "\n",
              "  .colab-df-quickchart:hover {\n",
              "    background-color: var(--hover-bg-color);\n",
              "    box-shadow: 0 1px 2px rgba(60, 64, 67, 0.3), 0 1px 3px 1px rgba(60, 64, 67, 0.15);\n",
              "    fill: var(--button-hover-fill-color);\n",
              "  }\n",
              "\n",
              "  .colab-df-quickchart-complete:disabled,\n",
              "  .colab-df-quickchart-complete:disabled:hover {\n",
              "    background-color: var(--disabled-bg-color);\n",
              "    fill: var(--disabled-fill-color);\n",
              "    box-shadow: none;\n",
              "  }\n",
              "\n",
              "  .colab-df-spinner {\n",
              "    border: 2px solid var(--fill-color);\n",
              "    border-color: transparent;\n",
              "    border-bottom-color: var(--fill-color);\n",
              "    animation:\n",
              "      spin 1s steps(1) infinite;\n",
              "  }\n",
              "\n",
              "  @keyframes spin {\n",
              "    0% {\n",
              "      border-color: transparent;\n",
              "      border-bottom-color: var(--fill-color);\n",
              "      border-left-color: var(--fill-color);\n",
              "    }\n",
              "    20% {\n",
              "      border-color: transparent;\n",
              "      border-left-color: var(--fill-color);\n",
              "      border-top-color: var(--fill-color);\n",
              "    }\n",
              "    30% {\n",
              "      border-color: transparent;\n",
              "      border-left-color: var(--fill-color);\n",
              "      border-top-color: var(--fill-color);\n",
              "      border-right-color: var(--fill-color);\n",
              "    }\n",
              "    40% {\n",
              "      border-color: transparent;\n",
              "      border-right-color: var(--fill-color);\n",
              "      border-top-color: var(--fill-color);\n",
              "    }\n",
              "    60% {\n",
              "      border-color: transparent;\n",
              "      border-right-color: var(--fill-color);\n",
              "    }\n",
              "    80% {\n",
              "      border-color: transparent;\n",
              "      border-right-color: var(--fill-color);\n",
              "      border-bottom-color: var(--fill-color);\n",
              "    }\n",
              "    90% {\n",
              "      border-color: transparent;\n",
              "      border-bottom-color: var(--fill-color);\n",
              "    }\n",
              "  }\n",
              "</style>\n",
              "\n",
              "  <script>\n",
              "    async function quickchart(key) {\n",
              "      const quickchartButtonEl =\n",
              "        document.querySelector('#' + key + ' button');\n",
              "      quickchartButtonEl.disabled = true;  // To prevent multiple clicks.\n",
              "      quickchartButtonEl.classList.add('colab-df-spinner');\n",
              "      try {\n",
              "        const charts = await google.colab.kernel.invokeFunction(\n",
              "            'suggestCharts', [key], {});\n",
              "      } catch (error) {\n",
              "        console.error('Error during call to suggestCharts:', error);\n",
              "      }\n",
              "      quickchartButtonEl.classList.remove('colab-df-spinner');\n",
              "      quickchartButtonEl.classList.add('colab-df-quickchart-complete');\n",
              "    }\n",
              "    (() => {\n",
              "      let quickchartButtonEl =\n",
              "        document.querySelector('#df-0853c71c-6ffb-4fb2-a69d-07ef5f27b8ef button');\n",
              "      quickchartButtonEl.style.display =\n",
              "        google.colab.kernel.accessAllowed ? 'block' : 'none';\n",
              "    })();\n",
              "  </script>\n",
              "</div>\n",
              "\n",
              "    </div>\n",
              "  </div>\n"
            ],
            "application/vnd.google.colaboratory.intrinsic+json": {
              "type": "dataframe",
              "variable_name": "data",
              "summary": "{\n  \"name\": \"data\",\n  \"rows\": 1000,\n  \"fields\": [\n    {\n      \"column\": \"sat_sum\",\n      \"properties\": {\n        \"dtype\": \"number\",\n        \"std\": 57,\n        \"min\": 212,\n        \"max\": 576,\n        \"num_unique_values\": 75,\n        \"samples\": [\n          428,\n          400,\n          408\n        ],\n        \"semantic_type\": \"\",\n        \"description\": \"\"\n      }\n    },\n    {\n      \"column\": \"hs_gpa\",\n      \"properties\": {\n        \"dtype\": \"number\",\n        \"std\": 0.5416474609669761,\n        \"min\": 1.8,\n        \"max\": 4.5,\n        \"num_unique_values\": 35,\n        \"samples\": [\n          3.3,\n          2.75,\n          3.33\n        ],\n        \"semantic_type\": \"\",\n        \"description\": \"\"\n      }\n    },\n    {\n      \"column\": \"fy_gpa\",\n      \"properties\": {\n        \"dtype\": \"number\",\n        \"std\": 0.7408051631770596,\n        \"min\": 0.0,\n        \"max\": 4.0,\n        \"num_unique_values\": 282,\n        \"samples\": [\n          3.63,\n          1.78,\n          2.05\n        ],\n        \"semantic_type\": \"\",\n        \"description\": \"\"\n      }\n    }\n  ]\n}"
            }
          },
          "metadata": {},
          "execution_count": 2
        }
      ]
    },
    {
      "cell_type": "markdown",
      "source": [
        "## Data Preprocessing\n",
        "* Data dictionary:\n",
        "  * `sat_sum` = SAT score\n",
        "  * `hs_gpa` = high school gpa\n",
        "  * `fy_gpa` = gpa in first year of college"
      ],
      "metadata": {
        "id": "tkLs6lBaqDjz"
      }
    },
    {
      "cell_type": "markdown",
      "source": [
        "We convert data to numpy arrays for 2 reasons:\n",
        "1. matrix multiplication efficiency\n",
        "2. To work with pytorch tensors"
      ],
      "metadata": {
        "id": "RKmH9_K7rTHL"
      }
    },
    {
      "cell_type": "code",
      "source": [
        "## convert variables to numpy - 2D array\n",
        "X = data[['sat_sum', 'hs_gpa']].values\n",
        "\n",
        "## reshape the fy_gpa into a 2D array with [data_size] rows and 1 col\n",
        "## this is to match up with the 2 dependent vars\n",
        "y = data['fy_gpa'].values.reshape(-1, 1)\n",
        "\n",
        "\n",
        "print(f\"Shape of X: {X.shape}\")\n",
        "print(f\"Shape of y: {y.shape}\")"
      ],
      "metadata": {
        "colab": {
          "base_uri": "https://localhost:8080/"
        },
        "id": "P6YOvuBqpeJw",
        "outputId": "68dc4b82-e80b-44a6-c907-1582965fada5"
      },
      "execution_count": 3,
      "outputs": [
        {
          "output_type": "stream",
          "name": "stdout",
          "text": [
            "Shape of X: (1000, 2)\n",
            "Shape of y: (1000, 1)\n"
          ]
        }
      ]
    },
    {
      "cell_type": "code",
      "source": [
        "## create train_test_split\n",
        "from sklearn.model_selection import train_test_split\n",
        "\n",
        "## split data into train_test_split\n",
        "X_train, X_test, y_train, y_test = train_test_split(X, y, test_size=0.2, random_state=42)"
      ],
      "metadata": {
        "id": "tiKIUV27qh92"
      },
      "execution_count": 4,
      "outputs": []
    },
    {
      "cell_type": "code",
      "source": [
        "## standard scaler\n",
        "from sklearn.preprocessing import StandardScaler\n",
        "\n",
        "# normalize feature so it is easier to train data\n",
        "## setup scaler\n",
        "scaler = StandardScaler()\n",
        "\n",
        "## fit_transform X and y train data\n",
        "X_train = scaler.fit_transform(X_train)\n",
        "X_test = scaler.fit_transform(X_test)"
      ],
      "metadata": {
        "id": "iq7w6TXIq3m5"
      },
      "execution_count": 5,
      "outputs": []
    },
    {
      "cell_type": "code",
      "source": [
        "## lets get shape of X_train\n",
        "print(f\"Shape of X_train: {X_train.shape}\")"
      ],
      "metadata": {
        "colab": {
          "base_uri": "https://localhost:8080/"
        },
        "id": "kXNLCoUJrw0P",
        "outputId": "c5d21f6f-6a59-4631-a81d-25d450f648a1"
      },
      "execution_count": 6,
      "outputs": [
        {
          "output_type": "stream",
          "name": "stdout",
          "text": [
            "Shape of X_train: (800, 2)\n"
          ]
        }
      ]
    },
    {
      "cell_type": "markdown",
      "source": [
        "Final step in preprocessing - convert to tensors"
      ],
      "metadata": {
        "id": "m3VEWwIfsAsZ"
      }
    },
    {
      "cell_type": "code",
      "source": [
        "import torch\n",
        "## convert numpy to PyTorch tensors\n",
        "X_train_tensor = torch.tensor(X_train, dtype=torch.float32)\n",
        "y_train_tensor = torch.tensor(y_train, dtype=torch.float32)\n",
        "\n",
        "X_test_tensor = torch.tensor(X_test, dtype=torch.float32)\n",
        "y_test_tensor = torch.tensor(y_test, dtype=torch.float32)"
      ],
      "metadata": {
        "id": "t1arDuIfr1ES"
      },
      "execution_count": 7,
      "outputs": []
    },
    {
      "cell_type": "code",
      "source": [
        "## shape of X_train_tensor\n",
        "print(f\"X_train_tensor shape: {X_train_tensor.shape}\")"
      ],
      "metadata": {
        "colab": {
          "base_uri": "https://localhost:8080/"
        },
        "id": "xWVYEmdUtJKI",
        "outputId": "9636e825-8ef0-4240-95ce-b46a74e8dc45"
      },
      "execution_count": 8,
      "outputs": [
        {
          "output_type": "stream",
          "name": "stdout",
          "text": [
            "X_train_tensor shape: torch.Size([800, 2])\n"
          ]
        }
      ]
    },
    {
      "cell_type": "markdown",
      "source": [
        "# Build Linear Regression Model in PyTorch\n",
        "* A good review on activation functons for neural nets: https://machinelearningmastery.com/choose-an-activation-function-for-deep-learning/\n",
        "* We will use a `Sigmoid()` function as it is also called the \"logistic regression\" function."
      ],
      "metadata": {
        "id": "xx1YOPvMsmds"
      }
    },
    {
      "cell_type": "code",
      "source": [
        "## torch.nn for neural network building\n",
        "import torch.nn as nn"
      ],
      "metadata": {
        "id": "JMizNY4fskXB"
      },
      "execution_count": 9,
      "outputs": []
    },
    {
      "cell_type": "markdown",
      "source": [
        "Neural Network:\n",
        "  * Linear input layer - we have 2 dependent variables, a 2x2 tensor\n",
        "  * Sigmoid hidden layer\n",
        "  * Linear output layer --> 1 output variable the target we are predicting."
      ],
      "metadata": {
        "id": "wpd8qgWztCq8"
      }
    },
    {
      "cell_type": "code",
      "source": [
        "## build a model with 2 neurons\n",
        "## Sequential --> forward propagation\n",
        "model = nn.Sequential(\n",
        "    nn.Linear(2, 2), ##2 inputs, 2 outputs\n",
        "    nn.Sigmoid(), ## non-linear logistic hidden layer\n",
        "    nn.Linear(2, 1) ##2 inputs, 1 output --> target pred\n",
        ")"
      ],
      "metadata": {
        "id": "i5I_yiC6sqgD"
      },
      "execution_count": 10,
      "outputs": []
    },
    {
      "cell_type": "markdown",
      "source": [
        "Summary:\n",
        "* Note: we have NOT used an output activation function here.\n",
        "* Thus, by default it is a Linear activation function."
      ],
      "metadata": {
        "id": "3LuJodHYug5k"
      }
    },
    {
      "cell_type": "code",
      "source": [
        "## Forward propagation nn\n",
        "preds = model(X_train_tensor)"
      ],
      "metadata": {
        "id": "vZttlzMet4Bs"
      },
      "execution_count": 11,
      "outputs": []
    },
    {
      "cell_type": "code",
      "source": [
        "## lets see first 5 preds\n",
        "preds[:5]"
      ],
      "metadata": {
        "colab": {
          "base_uri": "https://localhost:8080/"
        },
        "id": "09kGsMPHt7zG",
        "outputId": "add80991-65b2-4a15-82c4-b1015ba8d4cd"
      },
      "execution_count": 12,
      "outputs": [
        {
          "output_type": "execute_result",
          "data": {
            "text/plain": [
              "tensor([[0.5266],\n",
              "        [0.5279],\n",
              "        [0.5338],\n",
              "        [0.5209],\n",
              "        [0.5403]], grad_fn=<SliceBackward0>)"
            ]
          },
          "metadata": {},
          "execution_count": 12
        }
      ]
    },
    {
      "cell_type": "code",
      "source": [
        "## Compute loss - MSE or mean squared error (common for binary prediction)\n",
        "from torch.nn import MSELoss"
      ],
      "metadata": {
        "id": "6o3OTVSht_NL"
      },
      "execution_count": 13,
      "outputs": []
    },
    {
      "cell_type": "code",
      "source": [
        "## calculate loss\n",
        "criterion = MSELoss()\n",
        "loss = criterion(preds, y_train_tensor)\n",
        "print(loss)"
      ],
      "metadata": {
        "colab": {
          "base_uri": "https://localhost:8080/"
        },
        "id": "TTQMX_I4whb1",
        "outputId": "206decb0-a376-40c1-acbd-3f239cbe9773"
      },
      "execution_count": 14,
      "outputs": [
        {
          "output_type": "stream",
          "name": "stdout",
          "text": [
            "tensor(4.3082, grad_fn=<MseLossBackward0>)\n"
          ]
        }
      ]
    },
    {
      "cell_type": "markdown",
      "source": [
        "## Compare predictions on X_train with Target"
      ],
      "metadata": {
        "id": "7oarWcjRw_tf"
      }
    },
    {
      "cell_type": "code",
      "source": [
        "preds[:5]"
      ],
      "metadata": {
        "colab": {
          "base_uri": "https://localhost:8080/"
        },
        "id": "KL49PM-0wsBm",
        "outputId": "d97c98f8-0672-4ba7-d3b2-70c8fc86a4b0"
      },
      "execution_count": 15,
      "outputs": [
        {
          "output_type": "execute_result",
          "data": {
            "text/plain": [
              "tensor([[0.5266],\n",
              "        [0.5279],\n",
              "        [0.5338],\n",
              "        [0.5209],\n",
              "        [0.5403]], grad_fn=<SliceBackward0>)"
            ]
          },
          "metadata": {},
          "execution_count": 15
        }
      ]
    },
    {
      "cell_type": "code",
      "source": [
        "## y_train\n",
        "y_train_tensor[:5]"
      ],
      "metadata": {
        "colab": {
          "base_uri": "https://localhost:8080/"
        },
        "id": "TTxmB6-jxDlX",
        "outputId": "51736d12-c52f-456f-c552-f1d92c6a7b47"
      },
      "execution_count": 16,
      "outputs": [
        {
          "output_type": "execute_result",
          "data": {
            "text/plain": [
              "tensor([[2.0000],\n",
              "        [3.1100],\n",
              "        [1.6300],\n",
              "        [3.0200],\n",
              "        [1.5500]])"
            ]
          },
          "metadata": {},
          "execution_count": 16
        }
      ]
    },
    {
      "cell_type": "markdown",
      "source": [
        "Summary:\n",
        "* What we see here is that the output is not the same and that is why we need further training to optimize the output."
      ],
      "metadata": {
        "id": "B9o6sEwDxk9y"
      }
    },
    {
      "cell_type": "code",
      "source": [
        "## lets see the weights assigned in the nn\n",
        "model[0].weight"
      ],
      "metadata": {
        "colab": {
          "base_uri": "https://localhost:8080/"
        },
        "id": "VxXKAB6UxG1s",
        "outputId": "6cabfbb1-d1a2-4961-9d3b-8a3d9f5c004c"
      },
      "execution_count": 17,
      "outputs": [
        {
          "output_type": "execute_result",
          "data": {
            "text/plain": [
              "Parameter containing:\n",
              "tensor([[ 0.0667, -0.2492],\n",
              "        [ 0.3345, -0.4954]], requires_grad=True)"
            ]
          },
          "metadata": {},
          "execution_count": 17
        }
      ]
    },
    {
      "cell_type": "code",
      "source": [
        "## weights\n",
        "model[2].weight"
      ],
      "metadata": {
        "colab": {
          "base_uri": "https://localhost:8080/"
        },
        "id": "BvKpLRgAxWn0",
        "outputId": "70ec07ca-a4c7-4695-a1e4-59f2f21dc6e5"
      },
      "execution_count": 18,
      "outputs": [
        {
          "output_type": "execute_result",
          "data": {
            "text/plain": [
              "Parameter containing:\n",
              "tensor([[ 0.6110, -0.2186]], requires_grad=True)"
            ]
          },
          "metadata": {},
          "execution_count": 18
        }
      ]
    },
    {
      "cell_type": "code",
      "source": [],
      "metadata": {
        "id": "Gm5BaNUrxZMU"
      },
      "execution_count": null,
      "outputs": []
    }
  ]
}